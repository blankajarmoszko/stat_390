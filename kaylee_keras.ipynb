{
  "nbformat": 4,
  "nbformat_minor": 0,
  "metadata": {
    "colab": {
      "provenance": [],
      "authorship_tag": "ABX9TyNt+bo7tvrMgdISDYwDUEmW",
      "include_colab_link": true
    },
    "kernelspec": {
      "name": "python3",
      "display_name": "Python 3"
    },
    "language_info": {
      "name": "python"
    }
  },
  "cells": [
    {
      "cell_type": "markdown",
      "metadata": {
        "id": "view-in-github",
        "colab_type": "text"
      },
      "source": [
        "<a href=\"https://colab.research.google.com/github/blankajarmoszko/stat_390/blob/kaylee/kaylee_keras.ipynb\" target=\"_parent\"><img src=\"https://colab.research.google.com/assets/colab-badge.svg\" alt=\"Open In Colab\"/></a>"
      ]
    },
    {
      "cell_type": "code",
      "execution_count": 12,
      "metadata": {
        "id": "MTqIWyJXFzx-"
      },
      "outputs": [],
      "source": [
        "import pandas as pd\n",
        "import matplotlib.pyplot as plt\n",
        "import keras\n",
        "import numpy as np\n",
        "from sklearn.metrics import mean_absolute_error, mean_squared_error, r2_score\n",
        "from keras.layers import LSTM, Dense, Dropout, Input, Bidirectional, BatchNormalization\n",
        "from keras.models import Model, Sequential\n",
        "from keras.callbacks import EarlyStopping, LearningRateScheduler, ModelCheckpoint\n",
        "from keras.regularizers import l1_l2\n",
        "from keras.optimizers import Adam\n",
        "import os"
      ]
    },
    {
      "cell_type": "code",
      "source": [
        "df = pd.read_csv('df_post_eda.csv')"
      ],
      "metadata": {
        "id": "yP92Yat1Ghv1"
      },
      "execution_count": 14,
      "outputs": []
    },
    {
      "cell_type": "code",
      "source": [],
      "metadata": {
        "id": "qmjO2n7dJHHC"
      },
      "execution_count": null,
      "outputs": []
    }
  ]
}