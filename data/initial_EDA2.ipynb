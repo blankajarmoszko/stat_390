{
 "cells": [
  {
   "cell_type": "markdown",
   "id": "c2486630",
   "metadata": {},
   "source": [
    "# Initial EDA"
   ]
  },
  {
   "cell_type": "code",
   "execution_count": 1,
   "id": "98f3c30d",
   "metadata": {},
   "outputs": [],
   "source": [
    "# Importing packages\n",
    "import pandas as pd\n",
    "import datetime\n",
    "import matplotlib.pyplot as plt\n",
    "import seaborn as sns"
   ]
  },
  {
   "cell_type": "markdown",
   "id": "709a3570",
   "metadata": {},
   "source": [
    "## Creating new columns\n",
    "### Day-of-the-week column"
   ]
  },
  {
   "cell_type": "code",
   "execution_count": 2,
   "id": "1fd26628",
   "metadata": {},
   "outputs": [],
   "source": [
    "# Loading data\n",
    "df = pd.read_csv('initial_data2.csv')\n",
    "\n",
    "# Converting Date column to datetime object\n",
    "df['Date'] = pd.to_datetime(df['Date'])\n",
    "\n",
    "# Creating day of the week column\n",
    "df['day_of_week'] = df['Date'].dt.day_name()"
   ]
  },
  {
   "cell_type": "markdown",
   "id": "9c771307",
   "metadata": {},
   "source": [
    "### Weekend Boolean column"
   ]
  },
  {
   "cell_type": "code",
   "execution_count": 3,
   "id": "db4466ee",
   "metadata": {},
   "outputs": [],
   "source": [
    "# Define the function to find weekend values\n",
    "def weekend(dow):\n",
    "    if dow == 'Saturday' or dow == 'Sunday':\n",
    "        return True\n",
    "    else:\n",
    "        return False\n",
    "    \n",
    "# Apply the function to the Age column using the apply() function\n",
    "df['weekend'] = df['day_of_week'].apply(weekend)"
   ]
  },
  {
   "cell_type": "markdown",
   "id": "c24d81e3",
   "metadata": {},
   "source": [
    "### Season column"
   ]
  },
  {
   "cell_type": "code",
   "execution_count": 4,
   "id": "68a9b95c",
   "metadata": {},
   "outputs": [],
   "source": [
    "# Defining function to identify season\n",
    "def get_season(date):\n",
    "    month = date.month\n",
    "    day = date.day\n",
    "    if month in [3, 4, 5]:\n",
    "        season = 'spring'\n",
    "    elif month in [6, 7, 8]:\n",
    "        season = 'summer'\n",
    "    elif month in [9, 10, 11]:\n",
    "        season = 'fall'\n",
    "    else:\n",
    "        season = 'winter'\n",
    "    \n",
    "\n",
    "    if month == 3 and day < 20:\n",
    "        season = 'winter'\n",
    "    elif month == 6 and day < 21:\n",
    "        season = 'spring'\n",
    "    elif month == 9 and day < 22:\n",
    "        season = 'summer'\n",
    "    elif month == 12 and day < 21:\n",
    "        season = 'fall'\n",
    "    \n",
    "    return season\n",
    "\n",
    "# Applying function and creating season column\n",
    "df['season'] = df['Date'].apply(get_season)"
   ]
  },
  {
   "cell_type": "markdown",
   "id": "24e060ad",
   "metadata": {},
   "source": [
    "### Holiday Season Column"
   ]
  },
  {
   "cell_type": "code",
   "execution_count": 5,
   "id": "1dbaed81",
   "metadata": {},
   "outputs": [],
   "source": [
    "# Define function to find some major holiday values \n",
    "def is_holiday_season(date):\n",
    "    holidays = [\n",
    "        datetime.date(date.year, 1, 1),   # New Year's Day\n",
    "        datetime.date(date.year, 7, 4),   # Independence Day\n",
    "        datetime.date(date.year, 12, 25), # Christmas Day\n",
    "        datetime.date(date.year, 11, 4) + datetime.timedelta(weeks=3, days=3),  # Thanksgiving Day: 4th Thursday of November\n",
    "        datetime.date(date.year, 5, 31) - datetime.timedelta(days=(datetime.date(date.year, 5, 31).weekday() + 1) % 7),  # Memorial Day: last Monday of May\n",
    "        datetime.date(date.year, 9, 1) + datetime.timedelta(days=7-datetime.date(date.year, 9, 1).weekday()),  # Labor Day: first Monday of September\n",
    "        datetime.date(date.year, 11, 11),  # Veteran's Day\n",
    "        datetime.date(date.year, 1, 15) + datetime.timedelta(days=1-datetime.date(date.year, 1, 15).weekday())  # MLK Day: third Monday of January\n",
    "    ]\n",
    "    \n",
    "    # Adding a three day buffer area around each holiday to create a \"holiday season\"\n",
    "    for holiday in holidays:\n",
    "        if (date.date() - datetime.timedelta(days=3)) <= holiday <= (date.date() + datetime.timedelta(days=3)):\n",
    "            return True\n",
    "    \n",
    "    return False\n",
    "\n",
    "# Create holiday season column\n",
    "df['holiday_season'] = df['Date'].apply(is_holiday_season)"
   ]
  },
  {
   "cell_type": "markdown",
   "id": "d990e402",
   "metadata": {},
   "source": [
    "### Vaccine Announcement Column "
   ]
  },
  {
   "cell_type": "code",
   "execution_count": 6,
   "id": "ac9d0472",
   "metadata": {},
   "outputs": [],
   "source": [
    "# Define a list of unique announcement dates\n",
    "announcement_dates = [\n",
    "    \"04/28/2023\", \"04/27/2023\", \"04/18/2023\", \"03/14/2023\", \"03/10/2023\",\n",
    "    \"12/16/2022\", \"12/08/2022\", \"10/21/2022\", \"10/12/2022\", \"09/13/2022\",\n",
    "    \"08/31/2022\", \"08/26/2022\", \"08/19/2022\", \"07/13/2022\", \"07/08/2022\",\n",
    "    \"06/30/2022\", \"06/17/2022\", \"05/17/2022\", \"05/05/2022\", \"04/29/2022\",\n",
    "    \"04/15/2022\", \"04/01/2022\", \"03/29/2022\", \"03/21/2022\", \"03/11/2022\",\n",
    "    \"02/11/2022\", \"02/01/2022\", \"01/31/2022\", \"01/11/2022\", \"01/07/2022\",\n",
    "    \"01/03/2022\", \"12/17/2021\", \"12/14/2021\", \"12/09/2021\", \"11/30/2021\",\n",
    "    \"11/19/2021\", \"10/29/2021\", \"10/26/2021\", \"10/22/2021\", \"10/20/2021\",\n",
    "    \"10/14/2021\", \"10/01/2021\", \"09/24/2021\", \"09/22/2021\", \"09/20/2021\",\n",
    "    \"09/17/2021\", \"09/10/2021\", \"09/02/2021\", \"09/01/2021\", \"08/24/2021\",\n",
    "    \"08/23/2021\", \"08/18/2021\", \"08/13/2021\", \"08/12/2021\", \"08/06/2021\",\n",
    "    \"08/03/2021\", \"07/30/2021\", \"07/16/2021\", \"07/13/2021\", \"07/08/2021\",\n",
    "    \"07/06/2021\", \"07/02/2021\", \"06/29/2021\", \"06/25/2021\", \"06/15/2021\",\n",
    "    \"06/11/2021\", \"06/10/2021\", \"05/25/2021\", \"05/19/2021\", \"05/11/2021\",\n",
    "    \"05/10/2021\", \"04/27/2021\", \"04/23/2021\", \"04/21/2021\", \"04/16/2021\",\n",
    "    \"04/13/2021\", \"04/12/2021\", \"04/01/2021\", \"03/26/2021\", \"03/24/2021\",\n",
    "    \"03/17/2021\", \"03/05/2021\", \"03/02/2021\", \"02/27/2021\", \"02/26/2021\",\n",
    "    \"02/25/2021\", \"02/23/2021\", \"02/22/2021\", \"02/12/2021\", \"02/05/2021\",\n",
    "    \"02/04/2021\", \"01/29/2021\", \"01/14/2021\", \"01/04/2021\", \"12/28/2020\",\n",
    "    \"12/22/2020\", \"12/21/2020\", \"12/18/2020\", \"12/17/2020\", \"12/14/2020\", \"12/12/2020\"\n",
    "]\n",
    "\n",
    "# Convert to datetime and deduplicate\n",
    "announcement_dates = list(set([pd.to_datetime(date) for date in announcement_dates]))\n",
    "\n",
    "\n",
    "# Check if the date in the dataset is within a week of any announcement dates\n",
    "def near_announcement(date):\n",
    "    for announcement in announcement_dates:\n",
    "        if announcement <= date <= (announcement + pd.Timedelta(days=7)):\n",
    "            return True\n",
    "    return False\n",
    "\n",
    "# Create the 'vax_announcement' column\n",
    "df['vax_announcement'] = df['Date'].apply(near_announcement)\n"
   ]
  },
  {
   "cell_type": "markdown",
   "id": "9b68034e",
   "metadata": {},
   "source": [
    "### Finding NaN values and removing variables"
   ]
  },
  {
   "cell_type": "code",
   "execution_count": 7,
   "id": "1dfb463e",
   "metadata": {},
   "outputs": [],
   "source": [
    "### Finding data subset correspondign with first vaccine release "
   ]
  },
  {
   "cell_type": "code",
   "execution_count": 8,
   "id": "d23cd815",
   "metadata": {},
   "outputs": [
    {
     "name": "stdout",
     "output_type": "stream",
     "text": [
      "          MMWR_week   Distributed  Distributed_Janssen  Distributed_Moderna  \\\n",
      "count  38488.000000  3.848800e+04         3.848800e+04         3.848800e+04   \n",
      "mean      23.434447  1.543719e+07         6.895489e+05         5.803219e+06   \n",
      "std       15.406757  6.751604e+07         2.981533e+06         2.533753e+07   \n",
      "min        1.000000  0.000000e+00         0.000000e+00         0.000000e+00   \n",
      "25%       10.000000  9.751162e+05         2.350000e+04         2.433700e+05   \n",
      "50%       20.000000  3.837018e+06         1.724000e+05         1.501160e+06   \n",
      "75%       36.000000  1.004543e+07         4.578000e+05         3.962520e+06   \n",
      "max       53.000000  9.844443e+08         3.249690e+07         3.522477e+08   \n",
      "\n",
      "       Distributed_Pfizer  Distributed_Novavax  Distributed_Unk_Manuf  \\\n",
      "count        3.848800e+04         2.688000e+03           3.848800e+04   \n",
      "mean         8.695934e+06         3.107299e+04           2.081914e+03   \n",
      "std          3.895544e+07         1.253715e+05           8.327526e+04   \n",
      "min          0.000000e+00         0.000000e+00           0.000000e+00   \n",
      "25%          2.356050e+05         3.200000e+03           0.000000e+00   \n",
      "50%          2.015325e+06         8.650000e+03           0.000000e+00   \n",
      "75%          5.514269e+06         2.262500e+04           0.000000e+00   \n",
      "max          5.864241e+08         1.410700e+06           8.282150e+06   \n",
      "\n",
      "       Dist_Per_100K  Distributed_Per_100k_5Plus  Distributed_Per_100k_12Plus  \\\n",
      "count   38488.000000                38040.000000                 38488.000000   \n",
      "mean   133405.352448                95210.952550                142848.131184   \n",
      "std     81806.329702               114130.534892                109721.029971   \n",
      "min         0.000000                    0.000000                     0.000000   \n",
      "25%     77371.000000                    0.000000                     0.000000   \n",
      "50%    137108.000000                    0.000000                158702.000000   \n",
      "75%    194971.000000               209005.250000                230425.000000   \n",
      "max    414902.000000               435155.000000                469905.000000   \n",
      "\n",
      "       ...  Dist_Bivalent_PFR  Dist_Bivalent_MOD  Bivalent_Booster_5Plus  \\\n",
      "count  ...       2.176000e+03       2.176000e+03            1.920000e+03   \n",
      "mean   ...       2.113963e+06       9.920106e+05            1.479286e+06   \n",
      "std    ...       8.654388e+06       4.074814e+06            5.962144e+06   \n",
      "min    ...       3.000000e+02       2.000000e+02            0.000000e+00   \n",
      "25%    ...       2.344500e+05       1.012000e+05            1.563768e+05   \n",
      "50%    ...       5.532900e+05       2.497000e+05            3.756445e+05   \n",
      "75%    ...       1.591375e+06       7.024500e+05            1.104044e+06   \n",
      "max    ...       9.066158e+07       4.203734e+07            5.635271e+07   \n",
      "\n",
      "       Bivalent_Booster_5Plus_Pop_Pct  Bivalent_Booster_12Plus  \\\n",
      "count                     1920.000000             1.984000e+03   \n",
      "mean                        13.746927             1.417600e+06   \n",
      "std                          7.962322             5.751768e+06   \n",
      "min                          0.000000             0.000000e+00   \n",
      "25%                          8.400000             1.484552e+05   \n",
      "50%                         12.900000             3.606550e+05   \n",
      "75%                         18.800000             1.052240e+06   \n",
      "max                         35.800000             5.497464e+07   \n",
      "\n",
      "       Bivalent_Booster_12Plus_Pop_Pct  Bivalent_Booster_18Plus  \\\n",
      "count                      1984.000000             1.984000e+03   \n",
      "mean                         14.496774             1.370507e+06   \n",
      "std                           8.474525             5.555644e+06   \n",
      "min                           0.000000             0.000000e+00   \n",
      "25%                           8.700000             1.434260e+05   \n",
      "50%                          13.700000             3.516645e+05   \n",
      "75%                          20.000000             1.015522e+06   \n",
      "max                          37.400000             5.299631e+07   \n",
      "\n",
      "       Bivalent_Booster_18Plus_Pop_Pct  Bivalent_Booster_65Plus  \\\n",
      "count                      1984.000000             1.984000e+03   \n",
      "mean                         15.348740             6.277147e+05   \n",
      "std                           8.825453             2.518317e+06   \n",
      "min                           0.000000             0.000000e+00   \n",
      "25%                           9.375000             6.225700e+04   \n",
      "50%                          14.700000             1.768855e+05   \n",
      "75%                          21.200000             4.694582e+05   \n",
      "max                          38.600000             2.369919e+07   \n",
      "\n",
      "       Bivalent_Booster_65Plus_Pop_Pct  \n",
      "count                      1984.000000  \n",
      "mean                         32.844506  \n",
      "std                          17.282533  \n",
      "min                           0.000000  \n",
      "25%                          21.500000  \n",
      "50%                          34.200000  \n",
      "75%                          45.700000  \n",
      "max                          71.200000  \n",
      "\n",
      "[8 rows x 107 columns]\n"
     ]
    }
   ],
   "source": [
    "summary = df.describe()\n",
    "#summary = summary.T\n",
    "print(summary)"
   ]
  },
  {
   "cell_type": "code",
   "execution_count": 9,
   "id": "7e15a49a",
   "metadata": {},
   "outputs": [
    {
     "name": "stdout",
     "output_type": "stream",
     "text": [
      "<class 'pandas.core.frame.DataFrame'>\n",
      "RangeIndex: 38488 entries, 0 to 38487\n",
      "Columns: 114 entries, Date to vax_announcement\n",
      "dtypes: bool(3), datetime64[ns](1), float64(65), int64(42), object(3)\n",
      "memory usage: 32.7+ MB\n"
     ]
    }
   ],
   "source": [
    "df.info()"
   ]
  },
  {
   "cell_type": "code",
   "execution_count": 10,
   "id": "b2ba162a",
   "metadata": {},
   "outputs": [],
   "source": [
    "# find na value counts"
   ]
  },
  {
   "cell_type": "code",
   "execution_count": 11,
   "id": "39376c67",
   "metadata": {},
   "outputs": [
    {
     "name": "stdout",
     "output_type": "stream",
     "text": [
      "Second_Booster                            38385\n",
      "Bivalent_Booster_5Plus                    36568\n",
      "Bivalent_Booster_5Plus_Pop_Pct            36568\n",
      "Bivalent_Booster_12Plus_Pop_Pct           36504\n",
      "Bivalent_Booster_65Plus_Pop_Pct           36504\n",
      "Bivalent_Booster_65Plus                   36504\n",
      "Bivalent_Booster_18Plus_Pop_Pct           36504\n",
      "Bivalent_Booster_12Plus                   36504\n",
      "Bivalent_Booster_18Plus                   36504\n",
      "Admin_Bivalent_PFR                        36312\n",
      "Admin_Bivalent_MOD                        36312\n",
      "Dist_Bivalent_MOD                         36312\n",
      "Dist_Bivalent_PFR                         36312\n",
      "Administered_Bivalent                     36248\n",
      "Series_Complete_Novavax                   35808\n",
      "Administered_Novavax                      35807\n",
      "Distributed_Novavax                       35800\n",
      "Additional_Doses_5Plus                    35544\n",
      "Additional_Doses_5Plus_Vax_Pct            35544\n",
      "Second_Booster_Unk_Manuf                  31907\n",
      "Second_Booster_Janssen                    31905\n",
      "Second_Booster_Pfizer                     31896\n",
      "Second_Booster_Moderna                    31896\n",
      "Second_Booster_65Plus_Vax_Pct             31896\n",
      "Second_Booster_65Plus                     31896\n",
      "Second_Booster_50Plus_Vax_Pct             31896\n",
      "Second_Booster_50Plus                     31896\n",
      "Additional_Doses_12Plus                   26456\n",
      "Additional_Doses_12Plus_Vax_Pct           26456\n",
      "Series_Complete_Unk_Manuf_5Plus           21020\n",
      "Series_Complete_Moderna_5Plus             21016\n",
      "Series_Complete_Janssen_5Plus             21016\n",
      "Series_Complete_Pfizer_5Plus              21016\n",
      "Additional_Doses                          16348\n",
      "Series_Complete_5Plus                       448\n",
      "Series_Complete_5PlusPop_Pct                448\n",
      "Administered_Dose1_Recip_5Plus              448\n",
      "Administered_5Plus                          448\n",
      "Distributed_Per_100k_5Plus                  448\n",
      "Admin_Per_100k_5Plus                        448\n",
      "Administered_Dose1_Recip_5PlusPop_Pct       448\n",
      "Additional_Doses_Unk_Manuf                  331\n",
      "Additional_Doses_Janssen                    327\n",
      "Additional_Doses_65Plus                     325\n",
      "Additional_Doses_Moderna                    325\n",
      "Additional_Doses_50Plus                     325\n",
      "Additional_Doses_18Plus_Vax_Pct             325\n",
      "Additional_Doses_18Plus                     325\n",
      "Additional_Doses_65Plus_Vax_Pct             325\n",
      "Additional_Doses_Pfizer                     325\n",
      "Additional_Doses_Vax_Pct                    325\n",
      "Series_Complete_Unk_Manuf_65Plus              9\n",
      "Series_Complete_Unk_Manuf_12Plus              4\n",
      "Series_Complete_Unk_Manuf                     4\n",
      "Series_Complete_Unk_Manuf_18Plus              4\n",
      "Administered_Unk_Manuf                        3\n",
      "Additional_Doses_50Plus_Vax_Pct               0\n",
      "day_of_week                                   0\n",
      "weekend                                       0\n",
      "season                                        0\n",
      "holiday_season                                0\n",
      "Series_Complete_Pfizer_65Plus                 0\n",
      "Series_Complete_Moderna_65Plus                0\n",
      "Series_Complete_Pfizer_18Plus                 0\n",
      "Series_Complete_Janssen_65Plus                0\n",
      "Date                                          0\n",
      "Series_Complete_Moderna_18Plus                0\n",
      "Series_Complete_Janssen_18Plus                0\n",
      "Admin_Per_100k_65Plus                         0\n",
      "Admin_Per_100k_18Plus                         0\n",
      "Admin_Per_100k_12Plus                         0\n",
      "Admin_Per_100K                                0\n",
      "Administered_Pfizer                           0\n",
      "Administered_Moderna                          0\n",
      "Administered_Janssen                          0\n",
      "Administered_65Plus                           0\n",
      "Administered_18Plus                           0\n",
      "Administered_12Plus                           0\n",
      "Administered                                  0\n",
      "Distributed_Per_100k_65Plus                   0\n",
      "Distributed_Per_100k_18Plus                   0\n",
      "Distributed_Per_100k_12Plus                   0\n",
      "Dist_Per_100K                                 0\n",
      "Distributed_Unk_Manuf                         0\n",
      "Distributed_Pfizer                            0\n",
      "Distributed_Moderna                           0\n",
      "Distributed_Janssen                           0\n",
      "Distributed                                   0\n",
      "Location                                      0\n",
      "Recip_Administered                            0\n",
      "Administered_Dose1_Recip                      0\n",
      "Administered_Dose1_Pop_Pct                    0\n",
      "Series_Complete_18PlusPop_Pct                 0\n",
      "Series_Complete_Pfizer_12Plus                 0\n",
      "Series_Complete_Moderna_12Plus                0\n",
      "Series_Complete_Janssen_12Plus                0\n",
      "MMWR_week                                     0\n",
      "Series_Complete_Pfizer                        0\n",
      "Series_Complete_Moderna                       0\n",
      "Series_Complete_Janssen                       0\n",
      "Series_Complete_65PlusPop_Pct                 0\n",
      "Series_Complete_65Plus                        0\n",
      "Series_Complete_18Plus                        0\n",
      "Administered_Dose1_Recip_12Plus               0\n",
      "Series_Complete_12PlusPop_Pct                 0\n",
      "Series_Complete_12Plus                        0\n",
      "Series_Complete_Pop_Pct                       0\n",
      "Series_Complete_Yes                           0\n",
      "Administered_Dose1_Recip_65PlusPop_Pct        0\n",
      "Administered_Dose1_Recip_65Plus               0\n",
      "Administered_Dose1_Recip_18PlusPop_Pct        0\n",
      "Administered_Dose1_Recip_18Plus               0\n",
      "Administered_Dose1_Recip_12PlusPop_Pct        0\n",
      "vax_announcement                              0\n",
      "dtype: int64\n"
     ]
    }
   ],
   "source": [
    "missing_counts = df.isna().sum()\n",
    "\n",
    "# Sort the missing value counts in descending order\n",
    "missing_counts_sorted = missing_counts.sort_values(ascending=False)\n",
    "\n",
    "# Display the sorted missing value counts\n",
    "with pd.option_context(\"display.max_rows\", None):\n",
    "    print(missing_counts_sorted)"
   ]
  },
  {
   "cell_type": "code",
   "execution_count": 12,
   "id": "92941750",
   "metadata": {},
   "outputs": [],
   "source": [
    "# columns with over 1000 missing values"
   ]
  },
  {
   "cell_type": "code",
   "execution_count": 13,
   "id": "11f45fb9",
   "metadata": {},
   "outputs": [
    {
     "data": {
      "text/plain": [
       "Index(['Second_Booster', 'Bivalent_Booster_5Plus',\n",
       "       'Bivalent_Booster_5Plus_Pop_Pct', 'Bivalent_Booster_12Plus_Pop_Pct',\n",
       "       'Bivalent_Booster_65Plus_Pop_Pct', 'Bivalent_Booster_65Plus',\n",
       "       'Bivalent_Booster_18Plus_Pop_Pct', 'Bivalent_Booster_12Plus',\n",
       "       'Bivalent_Booster_18Plus', 'Admin_Bivalent_PFR', 'Admin_Bivalent_MOD',\n",
       "       'Dist_Bivalent_MOD', 'Dist_Bivalent_PFR', 'Administered_Bivalent',\n",
       "       'Series_Complete_Novavax', 'Administered_Novavax',\n",
       "       'Distributed_Novavax', 'Additional_Doses_5Plus',\n",
       "       'Additional_Doses_5Plus_Vax_Pct', 'Second_Booster_Unk_Manuf',\n",
       "       'Second_Booster_Janssen', 'Second_Booster_Pfizer',\n",
       "       'Second_Booster_Moderna', 'Second_Booster_65Plus_Vax_Pct',\n",
       "       'Second_Booster_65Plus', 'Second_Booster_50Plus_Vax_Pct',\n",
       "       'Second_Booster_50Plus', 'Additional_Doses_12Plus',\n",
       "       'Additional_Doses_12Plus_Vax_Pct', 'Series_Complete_Unk_Manuf_5Plus',\n",
       "       'Series_Complete_Moderna_5Plus', 'Series_Complete_Janssen_5Plus',\n",
       "       'Series_Complete_Pfizer_5Plus', 'Additional_Doses'],\n",
       "      dtype='object')"
      ]
     },
     "execution_count": 13,
     "metadata": {},
     "output_type": "execute_result"
    }
   ],
   "source": [
    "columns_with_over_1000_missing = missing_counts_sorted[missing_counts_sorted > 1000].index\n",
    "\n",
    "# Return the names of columns with missing value sum over 1000\n",
    "columns_with_over_1000_missing"
   ]
  },
  {
   "cell_type": "code",
   "execution_count": 14,
   "id": "bc10c183",
   "metadata": {},
   "outputs": [],
   "source": [
    "df = df.drop(columns=columns_with_over_1000_missing)"
   ]
  },
  {
   "cell_type": "code",
   "execution_count": 15,
   "id": "64906502",
   "metadata": {},
   "outputs": [],
   "source": [
    "#df.shape"
   ]
  },
  {
   "cell_type": "code",
   "execution_count": 16,
   "id": "e09de436",
   "metadata": {},
   "outputs": [
    {
     "data": {
      "text/plain": [
       "Index(['Date', 'MMWR_week', 'Location', 'Distributed', 'Distributed_Janssen',\n",
       "       'Distributed_Moderna', 'Distributed_Pfizer', 'Distributed_Unk_Manuf',\n",
       "       'Dist_Per_100K', 'Distributed_Per_100k_5Plus',\n",
       "       'Distributed_Per_100k_12Plus', 'Distributed_Per_100k_18Plus',\n",
       "       'Distributed_Per_100k_65Plus', 'Administered', 'Administered_5Plus',\n",
       "       'Administered_12Plus', 'Administered_18Plus', 'Administered_65Plus',\n",
       "       'Administered_Janssen', 'Administered_Moderna', 'Administered_Pfizer',\n",
       "       'Administered_Unk_Manuf', 'Admin_Per_100K', 'Admin_Per_100k_5Plus',\n",
       "       'Admin_Per_100k_12Plus', 'Admin_Per_100k_18Plus',\n",
       "       'Admin_Per_100k_65Plus', 'Recip_Administered',\n",
       "       'Administered_Dose1_Recip', 'Administered_Dose1_Pop_Pct',\n",
       "       'Administered_Dose1_Recip_5Plus',\n",
       "       'Administered_Dose1_Recip_5PlusPop_Pct',\n",
       "       'Administered_Dose1_Recip_12Plus',\n",
       "       'Administered_Dose1_Recip_12PlusPop_Pct',\n",
       "       'Administered_Dose1_Recip_18Plus',\n",
       "       'Administered_Dose1_Recip_18PlusPop_Pct',\n",
       "       'Administered_Dose1_Recip_65Plus',\n",
       "       'Administered_Dose1_Recip_65PlusPop_Pct', 'Series_Complete_Yes',\n",
       "       'Series_Complete_Pop_Pct', 'Series_Complete_5Plus',\n",
       "       'Series_Complete_5PlusPop_Pct', 'Series_Complete_12Plus',\n",
       "       'Series_Complete_12PlusPop_Pct', 'Series_Complete_18Plus',\n",
       "       'Series_Complete_18PlusPop_Pct', 'Series_Complete_65Plus',\n",
       "       'Series_Complete_65PlusPop_Pct', 'Series_Complete_Janssen',\n",
       "       'Series_Complete_Moderna', 'Series_Complete_Pfizer',\n",
       "       'Series_Complete_Unk_Manuf', 'Series_Complete_Janssen_12Plus',\n",
       "       'Series_Complete_Moderna_12Plus', 'Series_Complete_Pfizer_12Plus',\n",
       "       'Series_Complete_Unk_Manuf_12Plus', 'Series_Complete_Janssen_18Plus',\n",
       "       'Series_Complete_Moderna_18Plus', 'Series_Complete_Pfizer_18Plus',\n",
       "       'Series_Complete_Unk_Manuf_18Plus', 'Series_Complete_Janssen_65Plus',\n",
       "       'Series_Complete_Moderna_65Plus', 'Series_Complete_Pfizer_65Plus',\n",
       "       'Series_Complete_Unk_Manuf_65Plus', 'Additional_Doses_Vax_Pct',\n",
       "       'Additional_Doses_18Plus', 'Additional_Doses_18Plus_Vax_Pct',\n",
       "       'Additional_Doses_50Plus', 'Additional_Doses_50Plus_Vax_Pct',\n",
       "       'Additional_Doses_65Plus', 'Additional_Doses_65Plus_Vax_Pct',\n",
       "       'Additional_Doses_Moderna', 'Additional_Doses_Pfizer',\n",
       "       'Additional_Doses_Janssen', 'Additional_Doses_Unk_Manuf', 'day_of_week',\n",
       "       'weekend', 'season', 'holiday_season', 'vax_announcement'],\n",
       "      dtype='object')"
      ]
     },
     "execution_count": 16,
     "metadata": {},
     "output_type": "execute_result"
    }
   ],
   "source": [
    "df.columns"
   ]
  },
  {
   "cell_type": "code",
   "execution_count": 17,
   "id": "145f1193",
   "metadata": {},
   "outputs": [
    {
     "data": {
      "text/html": [
       "<div>\n",
       "<style scoped>\n",
       "    .dataframe tbody tr th:only-of-type {\n",
       "        vertical-align: middle;\n",
       "    }\n",
       "\n",
       "    .dataframe tbody tr th {\n",
       "        vertical-align: top;\n",
       "    }\n",
       "\n",
       "    .dataframe thead th {\n",
       "        text-align: right;\n",
       "    }\n",
       "</style>\n",
       "<table border=\"1\" class=\"dataframe\">\n",
       "  <thead>\n",
       "    <tr style=\"text-align: right;\">\n",
       "      <th></th>\n",
       "      <th>Date</th>\n",
       "      <th>MMWR_week</th>\n",
       "      <th>Location</th>\n",
       "      <th>Distributed</th>\n",
       "      <th>Distributed_Janssen</th>\n",
       "      <th>Distributed_Moderna</th>\n",
       "      <th>Distributed_Pfizer</th>\n",
       "      <th>Distributed_Unk_Manuf</th>\n",
       "      <th>Dist_Per_100K</th>\n",
       "      <th>Distributed_Per_100k_5Plus</th>\n",
       "      <th>...</th>\n",
       "      <th>Additional_Doses_65Plus_Vax_Pct</th>\n",
       "      <th>Additional_Doses_Moderna</th>\n",
       "      <th>Additional_Doses_Pfizer</th>\n",
       "      <th>Additional_Doses_Janssen</th>\n",
       "      <th>Additional_Doses_Unk_Manuf</th>\n",
       "      <th>day_of_week</th>\n",
       "      <th>weekend</th>\n",
       "      <th>season</th>\n",
       "      <th>holiday_season</th>\n",
       "      <th>vax_announcement</th>\n",
       "    </tr>\n",
       "  </thead>\n",
       "  <tbody>\n",
       "    <tr>\n",
       "      <th>0</th>\n",
       "      <td>2023-05-10</td>\n",
       "      <td>19</td>\n",
       "      <td>NE</td>\n",
       "      <td>5481710</td>\n",
       "      <td>152400</td>\n",
       "      <td>1647380</td>\n",
       "      <td>2905630</td>\n",
       "      <td>0</td>\n",
       "      <td>283379</td>\n",
       "      <td>303944.0</td>\n",
       "      <td>...</td>\n",
       "      <td>80.7</td>\n",
       "      <td>265916.0</td>\n",
       "      <td>443827.0</td>\n",
       "      <td>7164.0</td>\n",
       "      <td>1215.0</td>\n",
       "      <td>Wednesday</td>\n",
       "      <td>False</td>\n",
       "      <td>spring</td>\n",
       "      <td>False</td>\n",
       "      <td>False</td>\n",
       "    </tr>\n",
       "    <tr>\n",
       "      <th>1</th>\n",
       "      <td>2023-05-10</td>\n",
       "      <td>19</td>\n",
       "      <td>LA</td>\n",
       "      <td>10282120</td>\n",
       "      <td>330500</td>\n",
       "      <td>3807980</td>\n",
       "      <td>5164550</td>\n",
       "      <td>0</td>\n",
       "      <td>221178</td>\n",
       "      <td>236516.0</td>\n",
       "      <td>...</td>\n",
       "      <td>69.6</td>\n",
       "      <td>486814.0</td>\n",
       "      <td>608975.0</td>\n",
       "      <td>14004.0</td>\n",
       "      <td>364.0</td>\n",
       "      <td>Wednesday</td>\n",
       "      <td>False</td>\n",
       "      <td>spring</td>\n",
       "      <td>False</td>\n",
       "      <td>False</td>\n",
       "    </tr>\n",
       "    <tr>\n",
       "      <th>2</th>\n",
       "      <td>2023-05-10</td>\n",
       "      <td>19</td>\n",
       "      <td>GA</td>\n",
       "      <td>28727475</td>\n",
       "      <td>869100</td>\n",
       "      <td>9763000</td>\n",
       "      <td>14773655</td>\n",
       "      <td>0</td>\n",
       "      <td>270569</td>\n",
       "      <td>288404.0</td>\n",
       "      <td>...</td>\n",
       "      <td>67.8</td>\n",
       "      <td>1155986.0</td>\n",
       "      <td>1518137.0</td>\n",
       "      <td>26699.0</td>\n",
       "      <td>4168.0</td>\n",
       "      <td>Wednesday</td>\n",
       "      <td>False</td>\n",
       "      <td>spring</td>\n",
       "      <td>False</td>\n",
       "      <td>False</td>\n",
       "    </tr>\n",
       "    <tr>\n",
       "      <th>3</th>\n",
       "      <td>2023-05-10</td>\n",
       "      <td>19</td>\n",
       "      <td>WY</td>\n",
       "      <td>1281755</td>\n",
       "      <td>49300</td>\n",
       "      <td>490040</td>\n",
       "      <td>585605</td>\n",
       "      <td>0</td>\n",
       "      <td>221466</td>\n",
       "      <td>235691.0</td>\n",
       "      <td>...</td>\n",
       "      <td>71.2</td>\n",
       "      <td>66344.0</td>\n",
       "      <td>77096.0</td>\n",
       "      <td>1930.0</td>\n",
       "      <td>214.0</td>\n",
       "      <td>Wednesday</td>\n",
       "      <td>False</td>\n",
       "      <td>spring</td>\n",
       "      <td>False</td>\n",
       "      <td>False</td>\n",
       "    </tr>\n",
       "    <tr>\n",
       "      <th>4</th>\n",
       "      <td>2023-05-10</td>\n",
       "      <td>19</td>\n",
       "      <td>CO</td>\n",
       "      <td>17769135</td>\n",
       "      <td>501900</td>\n",
       "      <td>5402640</td>\n",
       "      <td>9029715</td>\n",
       "      <td>0</td>\n",
       "      <td>308560</td>\n",
       "      <td>327449.0</td>\n",
       "      <td>...</td>\n",
       "      <td>81.0</td>\n",
       "      <td>1019757.0</td>\n",
       "      <td>1410438.0</td>\n",
       "      <td>27303.0</td>\n",
       "      <td>2547.0</td>\n",
       "      <td>Wednesday</td>\n",
       "      <td>False</td>\n",
       "      <td>spring</td>\n",
       "      <td>False</td>\n",
       "      <td>False</td>\n",
       "    </tr>\n",
       "  </tbody>\n",
       "</table>\n",
       "<p>5 rows × 80 columns</p>\n",
       "</div>"
      ],
      "text/plain": [
       "        Date  MMWR_week Location  Distributed  Distributed_Janssen  \\\n",
       "0 2023-05-10         19       NE      5481710               152400   \n",
       "1 2023-05-10         19       LA     10282120               330500   \n",
       "2 2023-05-10         19       GA     28727475               869100   \n",
       "3 2023-05-10         19       WY      1281755                49300   \n",
       "4 2023-05-10         19       CO     17769135               501900   \n",
       "\n",
       "   Distributed_Moderna  Distributed_Pfizer  Distributed_Unk_Manuf  \\\n",
       "0              1647380             2905630                      0   \n",
       "1              3807980             5164550                      0   \n",
       "2              9763000            14773655                      0   \n",
       "3               490040              585605                      0   \n",
       "4              5402640             9029715                      0   \n",
       "\n",
       "   Dist_Per_100K  Distributed_Per_100k_5Plus  ...  \\\n",
       "0         283379                    303944.0  ...   \n",
       "1         221178                    236516.0  ...   \n",
       "2         270569                    288404.0  ...   \n",
       "3         221466                    235691.0  ...   \n",
       "4         308560                    327449.0  ...   \n",
       "\n",
       "   Additional_Doses_65Plus_Vax_Pct  Additional_Doses_Moderna  \\\n",
       "0                             80.7                  265916.0   \n",
       "1                             69.6                  486814.0   \n",
       "2                             67.8                 1155986.0   \n",
       "3                             71.2                   66344.0   \n",
       "4                             81.0                 1019757.0   \n",
       "\n",
       "   Additional_Doses_Pfizer  Additional_Doses_Janssen  \\\n",
       "0                 443827.0                    7164.0   \n",
       "1                 608975.0                   14004.0   \n",
       "2                1518137.0                   26699.0   \n",
       "3                  77096.0                    1930.0   \n",
       "4                1410438.0                   27303.0   \n",
       "\n",
       "   Additional_Doses_Unk_Manuf  day_of_week  weekend  season  holiday_season  \\\n",
       "0                      1215.0    Wednesday    False  spring           False   \n",
       "1                       364.0    Wednesday    False  spring           False   \n",
       "2                      4168.0    Wednesday    False  spring           False   \n",
       "3                       214.0    Wednesday    False  spring           False   \n",
       "4                      2547.0    Wednesday    False  spring           False   \n",
       "\n",
       "   vax_announcement  \n",
       "0             False  \n",
       "1             False  \n",
       "2             False  \n",
       "3             False  \n",
       "4             False  \n",
       "\n",
       "[5 rows x 80 columns]"
      ]
     },
     "execution_count": 17,
     "metadata": {},
     "output_type": "execute_result"
    }
   ],
   "source": [
    "df.head()"
   ]
  },
  {
   "cell_type": "code",
   "execution_count": 18,
   "id": "09db636c",
   "metadata": {},
   "outputs": [],
   "source": [
    "columns_to_drop = [\n",
    "       'Administered_Dose1_Recip',   \n",
    "       'Administered_Dose1_Recip_5Plus',\n",
    "       'Administered_Dose1_Recip_12Plus',  \n",
    "       'Administered_Dose1_Recip_18Plus',\n",
    "       'Administered_Dose1_Recip_65Plus', \n",
    "        'Series_Complete_Yes',\n",
    "        'Series_Complete_5Plus',\n",
    "        'Series_Complete_12Plus',\n",
    "        'Series_Complete_18Plus',\n",
    "       'Series_Complete_65Plus',\n",
    "       'Additional_Doses_18Plus', \n",
    "       'Additional_Doses_50Plus', \n",
    "       'Additional_Doses_65Plus']"
   ]
  },
  {
   "cell_type": "code",
   "execution_count": 19,
   "id": "7593ec5a",
   "metadata": {},
   "outputs": [],
   "source": [
    "# Dropping the columns from the df\n",
    "df = df.drop(columns = columns_to_drop)"
   ]
  },
  {
   "cell_type": "code",
   "execution_count": 20,
   "id": "ae6b77bb",
   "metadata": {},
   "outputs": [
    {
     "data": {
      "text/plain": [
       "Index(['Date', 'MMWR_week', 'Location', 'Distributed', 'Distributed_Janssen',\n",
       "       'Distributed_Moderna', 'Distributed_Pfizer', 'Distributed_Unk_Manuf',\n",
       "       'Dist_Per_100K', 'Distributed_Per_100k_5Plus',\n",
       "       'Distributed_Per_100k_12Plus', 'Distributed_Per_100k_18Plus',\n",
       "       'Distributed_Per_100k_65Plus', 'Administered', 'Administered_5Plus',\n",
       "       'Administered_12Plus', 'Administered_18Plus', 'Administered_65Plus',\n",
       "       'Administered_Janssen', 'Administered_Moderna', 'Administered_Pfizer',\n",
       "       'Administered_Unk_Manuf', 'Admin_Per_100K', 'Admin_Per_100k_5Plus',\n",
       "       'Admin_Per_100k_12Plus', 'Admin_Per_100k_18Plus',\n",
       "       'Admin_Per_100k_65Plus', 'Recip_Administered',\n",
       "       'Administered_Dose1_Pop_Pct', 'Administered_Dose1_Recip_5PlusPop_Pct',\n",
       "       'Administered_Dose1_Recip_12PlusPop_Pct',\n",
       "       'Administered_Dose1_Recip_18PlusPop_Pct',\n",
       "       'Administered_Dose1_Recip_65PlusPop_Pct', 'Series_Complete_Pop_Pct',\n",
       "       'Series_Complete_5PlusPop_Pct', 'Series_Complete_12PlusPop_Pct',\n",
       "       'Series_Complete_18PlusPop_Pct', 'Series_Complete_65PlusPop_Pct',\n",
       "       'Series_Complete_Janssen', 'Series_Complete_Moderna',\n",
       "       'Series_Complete_Pfizer', 'Series_Complete_Unk_Manuf',\n",
       "       'Series_Complete_Janssen_12Plus', 'Series_Complete_Moderna_12Plus',\n",
       "       'Series_Complete_Pfizer_12Plus', 'Series_Complete_Unk_Manuf_12Plus',\n",
       "       'Series_Complete_Janssen_18Plus', 'Series_Complete_Moderna_18Plus',\n",
       "       'Series_Complete_Pfizer_18Plus', 'Series_Complete_Unk_Manuf_18Plus',\n",
       "       'Series_Complete_Janssen_65Plus', 'Series_Complete_Moderna_65Plus',\n",
       "       'Series_Complete_Pfizer_65Plus', 'Series_Complete_Unk_Manuf_65Plus',\n",
       "       'Additional_Doses_Vax_Pct', 'Additional_Doses_18Plus_Vax_Pct',\n",
       "       'Additional_Doses_50Plus_Vax_Pct', 'Additional_Doses_65Plus_Vax_Pct',\n",
       "       'Additional_Doses_Moderna', 'Additional_Doses_Pfizer',\n",
       "       'Additional_Doses_Janssen', 'Additional_Doses_Unk_Manuf', 'day_of_week',\n",
       "       'weekend', 'season', 'holiday_season', 'vax_announcement'],\n",
       "      dtype='object')"
      ]
     },
     "execution_count": 20,
     "metadata": {},
     "output_type": "execute_result"
    }
   ],
   "source": [
    "df.columns"
   ]
  },
  {
   "cell_type": "code",
   "execution_count": 21,
   "id": "f6eec2a5",
   "metadata": {},
   "outputs": [
    {
     "data": {
      "text/plain": [
       "0        55.8\n",
       "1        43.3\n",
       "2        44.3\n",
       "3        47.3\n",
       "4        57.9\n",
       "         ... \n",
       "38483     0.0\n",
       "38484     0.0\n",
       "38485     0.0\n",
       "38486     0.0\n",
       "38487     0.0\n",
       "Name: Additional_Doses_Vax_Pct, Length: 38488, dtype: float64"
      ]
     },
     "execution_count": 21,
     "metadata": {},
     "output_type": "execute_result"
    }
   ],
   "source": [
    "df['Additional_Doses_Vax_Pct' ]"
   ]
  },
  {
   "cell_type": "code",
   "execution_count": 22,
   "id": "2a345ba8",
   "metadata": {},
   "outputs": [
    {
     "name": "stdout",
     "output_type": "stream",
     "text": [
      "Admin_Per_100k_5Plus                      448\n",
      "Administered_5Plus                        448\n",
      "Distributed_Per_100k_5Plus                448\n",
      "Series_Complete_5PlusPop_Pct              448\n",
      "Administered_Dose1_Recip_5PlusPop_Pct     448\n",
      "Additional_Doses_Unk_Manuf                331\n",
      "Additional_Doses_Janssen                  327\n",
      "Additional_Doses_Pfizer                   325\n",
      "Additional_Doses_Moderna                  325\n",
      "Additional_Doses_65Plus_Vax_Pct           325\n",
      "Additional_Doses_18Plus_Vax_Pct           325\n",
      "Additional_Doses_Vax_Pct                  325\n",
      "Series_Complete_Unk_Manuf_65Plus            9\n",
      "Series_Complete_Unk_Manuf_12Plus            4\n",
      "Series_Complete_Unk_Manuf                   4\n",
      "Series_Complete_Unk_Manuf_18Plus            4\n",
      "Administered_Unk_Manuf                      3\n",
      "Series_Complete_Pfizer_12Plus               0\n",
      "Date                                        0\n",
      "Series_Complete_Moderna_12Plus              0\n",
      "Series_Complete_Janssen_18Plus              0\n",
      "Series_Complete_Pfizer                      0\n",
      "Series_Complete_Moderna                     0\n",
      "Series_Complete_Janssen_12Plus              0\n",
      "Series_Complete_Moderna_65Plus              0\n",
      "Series_Complete_Moderna_18Plus              0\n",
      "Series_Complete_Pfizer_18Plus               0\n",
      "Series_Complete_Janssen_65Plus              0\n",
      "Series_Complete_65PlusPop_Pct               0\n",
      "Series_Complete_Pfizer_65Plus               0\n",
      "Additional_Doses_50Plus_Vax_Pct             0\n",
      "day_of_week                                 0\n",
      "weekend                                     0\n",
      "season                                      0\n",
      "holiday_season                              0\n",
      "Series_Complete_Janssen                     0\n",
      "Series_Complete_Pop_Pct                     0\n",
      "Series_Complete_18PlusPop_Pct               0\n",
      "Series_Complete_12PlusPop_Pct               0\n",
      "Location                                    0\n",
      "Distributed                                 0\n",
      "Distributed_Janssen                         0\n",
      "Distributed_Moderna                         0\n",
      "Distributed_Pfizer                          0\n",
      "Distributed_Unk_Manuf                       0\n",
      "Dist_Per_100K                               0\n",
      "Distributed_Per_100k_12Plus                 0\n",
      "Distributed_Per_100k_18Plus                 0\n",
      "Distributed_Per_100k_65Plus                 0\n",
      "Administered                                0\n",
      "Administered_12Plus                         0\n",
      "Administered_18Plus                         0\n",
      "Administered_65Plus                         0\n",
      "Administered_Janssen                        0\n",
      "Administered_Moderna                        0\n",
      "Administered_Pfizer                         0\n",
      "Admin_Per_100K                              0\n",
      "Admin_Per_100k_12Plus                       0\n",
      "Admin_Per_100k_18Plus                       0\n",
      "Admin_Per_100k_65Plus                       0\n",
      "Recip_Administered                          0\n",
      "Administered_Dose1_Pop_Pct                  0\n",
      "Administered_Dose1_Recip_12PlusPop_Pct      0\n",
      "Administered_Dose1_Recip_18PlusPop_Pct      0\n",
      "Administered_Dose1_Recip_65PlusPop_Pct      0\n",
      "MMWR_week                                   0\n",
      "vax_announcement                            0\n",
      "dtype: int64\n"
     ]
    }
   ],
   "source": [
    "missing_counts = df.isna().sum()\n",
    "\n",
    "# Sort the missing value counts in descending order\n",
    "missing_counts_sorted = missing_counts.sort_values(ascending=False)\n",
    "\n",
    "# Display the sorted missing value counts\n",
    "with pd.option_context(\"display.max_rows\", None):\n",
    "    print(missing_counts_sorted)"
   ]
  },
  {
   "cell_type": "code",
   "execution_count": 23,
   "id": "1a1123ab",
   "metadata": {},
   "outputs": [],
   "source": [
    "pred_var = 'Additional_Doses_Vax_Pct' "
   ]
  },
  {
   "cell_type": "code",
   "execution_count": 24,
   "id": "7170ce9a",
   "metadata": {},
   "outputs": [
    {
     "name": "stdout",
     "output_type": "stream",
     "text": [
      "The first date with a non-zero percentage is: 2021-09-25 00:00:00\n"
     ]
    }
   ],
   "source": [
    "first_non_zero_date = df.loc[df[pred_var] != 0, 'Date'].min()\n",
    "\n",
    "print(\"The first date with a non-zero percentage is:\", first_non_zero_date)"
   ]
  },
  {
   "cell_type": "code",
   "execution_count": 25,
   "id": "1708133e",
   "metadata": {},
   "outputs": [],
   "source": [
    "# Define the given date\n",
    "given_date = pd.to_datetime('2021-09-25')  # Adjust the date as needed\n",
    "\n",
    "# Subset the DataFrame to include rows with dates greater than the given date\n",
    "df = df[df['Date'] > given_date]"
   ]
  },
  {
   "cell_type": "code",
   "execution_count": 26,
   "id": "4b6869d6",
   "metadata": {},
   "outputs": [
    {
     "data": {
      "text/plain": [
       "(19930, 67)"
      ]
     },
     "execution_count": 26,
     "metadata": {},
     "output_type": "execute_result"
    }
   ],
   "source": [
    "# final df size after removing unrelated variables and subsetting dates.\n",
    "df.shape"
   ]
  },
  {
   "cell_type": "markdown",
   "id": "ad543ccf",
   "metadata": {},
   "source": [
    "### Correlation"
   ]
  },
  {
   "cell_type": "code",
   "execution_count": 27,
   "id": "adb8d7d8",
   "metadata": {},
   "outputs": [
    {
     "data": {
      "text/plain": [
       "Additional_Doses_Vax_Pct           1.000000\n",
       "Additional_Doses_18Plus_Vax_Pct    0.997538\n",
       "Additional_Doses_50Plus_Vax_Pct    0.987938\n",
       "Additional_Doses_65Plus_Vax_Pct    0.968749\n",
       "Admin_Per_100k_5Plus               0.773995\n",
       "                                     ...   \n",
       "Distributed_Unk_Manuf             -0.043341\n",
       "holiday_season                    -0.063956\n",
       "weekend                           -0.090263\n",
       "vax_announcement                  -0.197474\n",
       "MMWR_week                         -0.506858\n",
       "Length: 63, dtype: float64"
      ]
     },
     "execution_count": 27,
     "metadata": {},
     "output_type": "execute_result"
    }
   ],
   "source": [
    "correlations = df.corrwith(df.Additional_Doses_Vax_Pct)\n",
    "correlations.sort_values(ascending = False)"
   ]
  },
  {
   "cell_type": "code",
   "execution_count": 28,
   "id": "6576351c",
   "metadata": {},
   "outputs": [
    {
     "data": {
      "text/plain": [
       "MMWR_week                               -0.506858\n",
       "Dist_Per_100K                            0.652624\n",
       "Distributed_Per_100k_5Plus               0.772793\n",
       "Distributed_Per_100k_12Plus              0.620770\n",
       "Distributed_Per_100k_18Plus              0.625260\n",
       "Admin_Per_100K                           0.639276\n",
       "Admin_Per_100k_5Plus                     0.773995\n",
       "Admin_Per_100k_12Plus                    0.586445\n",
       "Admin_Per_100k_18Plus                    0.597145\n",
       "Admin_Per_100k_65Plus                    0.621125\n",
       "Administered_Dose1_Recip_5PlusPop_Pct    0.678826\n",
       "Series_Complete_5PlusPop_Pct             0.710834\n",
       "Additional_Doses_Vax_Pct                 1.000000\n",
       "Additional_Doses_18Plus_Vax_Pct          0.997538\n",
       "Additional_Doses_50Plus_Vax_Pct          0.987938\n",
       "Additional_Doses_65Plus_Vax_Pct          0.968749\n",
       "dtype: float64"
      ]
     },
     "execution_count": 28,
     "metadata": {},
     "output_type": "execute_result"
    }
   ],
   "source": [
    "high_corr = correlations[abs(correlations) > 0.5]\n",
    "high_corr"
   ]
  },
  {
   "cell_type": "code",
   "execution_count": 29,
   "id": "dae9c35b",
   "metadata": {},
   "outputs": [
    {
     "data": {
      "image/png": "[encoded data removed]",
      "text/plain": [
       "<Figure size 720x576 with 2 Axes>"
      ]
     },
     "metadata": {
      "needs_background": "light"
     },
     "output_type": "display_data"
    }
   ],
   "source": [
    "# heat map\n",
    "\n",
    "plt.figure(figsize=(10, 8))  # Adjust the figure size as needed\n",
    "sns.heatmap(df.corr(), cmap='coolwarm', linewidths=0.5)\n",
    "\n",
    "# Show the heatmap\n",
    "plt.show()"
   ]
  },
  {
   "cell_type": "markdown",
   "id": "0f25eb91",
   "metadata": {},
   "source": [
    "### Dealing With NA Values"
   ]
  },
  {
   "cell_type": "code",
   "execution_count": 36,
   "id": "98df009c",
   "metadata": {},
   "outputs": [
    {
     "data": {
      "text/plain": [
       "Distributed_Per_100k_5Plus               448\n",
       "Administered_5Plus                       448\n",
       "Administered_Unk_Manuf                     3\n",
       "Admin_Per_100k_5Plus                     448\n",
       "Administered_Dose1_Recip_5PlusPop_Pct    448\n",
       "Series_Complete_5PlusPop_Pct             448\n",
       "Series_Complete_Unk_Manuf                  4\n",
       "Series_Complete_Unk_Manuf_12Plus           4\n",
       "Series_Complete_Unk_Manuf_18Plus           4\n",
       "Series_Complete_Unk_Manuf_65Plus           9\n",
       "Additional_Doses_Vax_Pct                 260\n",
       "Additional_Doses_18Plus_Vax_Pct          260\n",
       "Additional_Doses_65Plus_Vax_Pct          260\n",
       "Additional_Doses_Moderna                 260\n",
       "Additional_Doses_Pfizer                  260\n",
       "Additional_Doses_Janssen                 262\n",
       "Additional_Doses_Unk_Manuf               266\n",
       "dtype: int64"
      ]
     },
     "execution_count": 36,
     "metadata": {},
     "output_type": "execute_result"
    }
   ],
   "source": [
    "na = df.isna().sum()\n",
    "na[na>0]\n",
    "# biggest missing values in regard to 5 plus population\n",
    "# could be because vaccines were rolled out to the population but did not include people from ages 5-12 \n",
    "# going to change the start date to when people of all ages could get vaccine"
   ]
  },
  {
   "cell_type": "code",
   "execution_count": 39,
   "id": "91155b43",
   "metadata": {},
   "outputs": [],
   "source": [
    "# Define the given date\n",
    "given_date = pd.to_datetime('2021-11-02')  # Adjust the date as needed\n",
    "\n",
    "# Subset the DataFrame to include rows with dates greater than the given date\n",
    "df = df[df['Date'] > given_date]"
   ]
  },
  {
   "cell_type": "code",
   "execution_count": 40,
   "id": "ab0068a8",
   "metadata": {},
   "outputs": [
    {
     "data": {
      "text/plain": [
       "Administered_Unk_Manuf              3\n",
       "Series_Complete_Unk_Manuf           4\n",
       "Series_Complete_Unk_Manuf_12Plus    4\n",
       "Series_Complete_Unk_Manuf_18Plus    4\n",
       "Series_Complete_Unk_Manuf_65Plus    9\n",
       "Additional_Doses_Janssen            2\n",
       "Additional_Doses_Unk_Manuf          6\n",
       "dtype: int64"
      ]
     },
     "execution_count": 40,
     "metadata": {},
     "output_type": "execute_result"
    }
   ],
   "source": [
    "na = df.isna().sum()\n",
    "na[na>0]"
   ]
  },
  {
   "cell_type": "code",
   "execution_count": 42,
   "id": "096a69f3",
   "metadata": {},
   "outputs": [
    {
     "data": {
      "text/plain": [
       "(17472, 67)"
      ]
     },
     "execution_count": 42,
     "metadata": {},
     "output_type": "execute_result"
    }
   ],
   "source": [
    "df.shape"
   ]
  },
  {
   "cell_type": "code",
   "execution_count": 51,
   "id": "01f73468",
   "metadata": {},
   "outputs": [
    {
     "data": {
      "text/plain": [
       "Date\n",
       "2022-12-14    6\n",
       "2022-12-14    6\n",
       "2022-12-14    5\n",
       "2022-12-14    4\n",
       "2022-12-14    3\n",
       "2022-12-14    3\n",
       "2022-12-14    2\n",
       "2022-12-14    1\n",
       "2022-12-14    1\n",
       "2022-12-14    1\n",
       "dtype: int64"
      ]
     },
     "execution_count": 51,
     "metadata": {},
     "output_type": "execute_result"
    }
   ],
   "source": [
    "df2 = df.set_index('Date')\n",
    "\n",
    "# Count missing values for each date\n",
    "missing_values_count = df2.isnull().sum(axis=1)\n",
    "\n",
    "# Sort dates by missing values count in descending order\n",
    "sorted_dates = missing_values_count.sort_values(ascending=False)\n",
    "\n",
    "sorted_dates[sorted_dates>0]"
   ]
  },
  {
   "cell_type": "code",
   "execution_count": 59,
   "id": "d99617c5",
   "metadata": {},
   "outputs": [
    {
     "data": {
      "text/plain": [
       "['VI', 'PW', 'BP2', 'AS', 'MP', 'FM', 'VA2', 'MH', 'IH2', 'ND']"
      ]
     },
     "execution_count": 59,
     "metadata": {},
     "output_type": "execute_result"
    }
   ],
   "source": [
    "# all missing values from 12-14-2022, identify the states with the missing values\n",
    "\n",
    "specific_day = '2022-12-14'  # Replace this with your desired date\n",
    "\n",
    "# Filter the DataFrame for the specific day\n",
    "specific_day_data = df.loc[df['Date'] == specific_day]\n",
    "\n",
    "# Get the state names (column names) with missing values on the specific day\n",
    "rows_with_missing_values = specific_day_data[specific_day_data.isnull().any(axis=1)]\n",
    "\n",
    "\n",
    "location_values = rows_with_missing_values['Location'].tolist()\n",
    "location_values"
   ]
  },
  {
   "cell_type": "code",
   "execution_count": 65,
   "id": "de45ef67",
   "metadata": {},
   "outputs": [
    {
     "data": {
      "text/plain": [
       "array(['NE', 'LA', 'GA', 'WY', 'CO', 'PA', 'DE', 'OR', 'WI', 'ND', 'TX',\n",
       "       'MN', 'UT', 'SC', 'DC', 'NC', 'WA', 'SD', 'PR', 'RI', 'IA', 'FM',\n",
       "       'PW', 'NV', 'KY', 'VI', 'WV', 'VA2', 'ME', 'ID', 'BP2', 'MP', 'US',\n",
       "       'IH2', 'MS', 'IL', 'KS', 'MH', 'FL', 'MO', 'GU', 'VT', 'CT', 'OH',\n",
       "       'NJ', 'DD2', 'TN', 'CA', 'MT', 'IN', 'NY', 'AL', 'VA', 'MD', 'AR',\n",
       "       'HI', 'OK', 'NH', 'AZ', 'MI', 'AS', 'AK', 'MA', 'NM', 'RP'],\n",
       "      dtype=object)"
      ]
     },
     "execution_count": 65,
     "metadata": {},
     "output_type": "execute_result"
    }
   ],
   "source": [
    "df.Location.unique()"
   ]
  },
  {
   "cell_type": "code",
   "execution_count": 95,
   "id": "353ea3df",
   "metadata": {},
   "outputs": [
    {
     "name": "stdout",
     "output_type": "stream",
     "text": [
      "['2022-07-27T00:00:00.000000000' '2022-07-20T00:00:00.000000000'\n",
      " '2022-07-13T00:00:00.000000000' '2022-07-06T00:00:00.000000000']\n"
     ]
    }
   ],
   "source": [
    "# Filter the DataFrame for dates in D2022\n",
    "december_2022_data = df[(df['Date'].dt.year == 2022) & (df['Date'].dt.month == 7)]\n",
    "\n",
    "# Print the filtered DataFrame\n",
    "print(december_2022_data.Date.unique())\n",
    "\n",
    "# in july 2022, only gathered data once a week -> will need to work on that next"
   ]
  },
  {
   "cell_type": "code",
   "execution_count": 96,
   "id": "4427931a",
   "metadata": {},
   "outputs": [
    {
     "name": "stdout",
     "output_type": "stream",
     "text": [
      "['2022-12-28T00:00:00.000000000' '2022-12-21T00:00:00.000000000'\n",
      " '2022-12-14T00:00:00.000000000' '2022-12-07T00:00:00.000000000']\n"
     ]
    }
   ],
   "source": [
    "# Filter the DataFrame for dates in December 2022\n",
    "december_2022_data = df[(df['Date'].dt.year == 2022) & (df['Date'].dt.month == 12)]\n",
    "\n",
    "# Print the filtered DataFrame\n",
    "print(december_2022_data.Date.unique())"
   ]
  },
  {
   "cell_type": "code",
   "execution_count": 105,
   "id": "e052cc00",
   "metadata": {},
   "outputs": [],
   "source": [
    "for location in location_values:\n",
    "    # Subset data for the current location\n",
    "    location_data = df[df['Location'] == location]\n",
    "    \n",
    "    # Subset data for the specific dates\n",
    "    dates_to_impute = location_data[location_data['Date'].isin(['2022-12-07', '2022-12-14'])]\n",
    "    \n",
    "    # Perform forward fill (LOCF) imputation for the specific location and dates\n",
    "    imputed_data = dates_to_impute.fillna(method='ffill', limit=1)\n",
    "    \n",
    "    # Update the original DataFrame with the imputed data for the current location\n",
    "    df.update(imputed_data)\n"
   ]
  },
  {
   "cell_type": "code",
   "execution_count": 106,
   "id": "2ac9a475",
   "metadata": {},
   "outputs": [
    {
     "data": {
      "text/plain": [
       "Date                   0\n",
       "MMWR_week              0\n",
       "Location               0\n",
       "Distributed            0\n",
       "Distributed_Janssen    0\n",
       "                      ..\n",
       "day_of_week            0\n",
       "weekend                0\n",
       "season                 0\n",
       "holiday_season         0\n",
       "vax_announcement       0\n",
       "Length: 67, dtype: int64"
      ]
     },
     "execution_count": 106,
     "metadata": {},
     "output_type": "execute_result"
    }
   ],
   "source": [
    "df.isna().sum()"
   ]
  }
 ],
 "metadata": {
  "kernelspec": {
   "display_name": "Python 3 (ipykernel)",
   "language": "python",
   "name": "python3"
  },
  "language_info": {
   "codemirror_mode": {
    "name": "ipython",
    "version": 3
   },
   "file_extension": ".py",
   "mimetype": "text/x-python",
   "name": "python",
   "nbconvert_exporter": "python",
   "pygments_lexer": "ipython3",
   "version": "3.9.12"
  }
 },
 "nbformat": 4,
 "nbformat_minor": 5
}
