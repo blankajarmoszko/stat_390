{
 "cells": [
  {
   "cell_type": "markdown",
   "id": "ac0fa1f5",
   "metadata": {},
   "source": [
    "# Initial EDA"
   ]
  },
  {
   "cell_type": "code",
   "execution_count": 26,
   "id": "7a70b53e",
   "metadata": {},
   "outputs": [],
   "source": [
    "# Importing packages\n",
    "import pandas as pd\n",
    "import datetime\n",
    "import matplotlib.pyplot as plt\n",
    "import seaborn as sns"
   ]
  },
  {
   "cell_type": "markdown",
   "id": "e6d1edb8",
   "metadata": {},
   "source": [
    "## Creating new columns\n",
    "### Adding day-of-the-week column"
   ]
  },
  {
   "cell_type": "code",
   "execution_count": 2,
   "id": "44f53559",
   "metadata": {},
   "outputs": [],
   "source": [
    "# Loading data\n",
    "df = pd.read_csv('initial_data.csv')\n",
    "\n",
    "# Converting Date column to datetime object\n",
    "df['Date'] = pd.to_datetime(df['Date'])\n",
    "\n",
    "# Creating day of the week column\n",
    "df['day_of_week'] = df['Date'].dt.day_name()"
   ]
  },
  {
   "cell_type": "markdown",
   "id": "ba8e3e63",
   "metadata": {},
   "source": [
    "### Adding weekend Boolean column"
   ]
  },
  {
   "cell_type": "code",
   "execution_count": 3,
   "id": "5377534e",
   "metadata": {},
   "outputs": [],
   "source": [
    "# Define the function to find weekend values\n",
    "def weekend(dow):\n",
    "    if dow == 'Saturday' or dow == 'Sunday':\n",
    "        return True\n",
    "    else:\n",
    "        return False\n",
    "    \n",
    "# Apply the function to the Age column using the apply() function\n",
    "df['weekend'] = df['day_of_week'].apply(weekend)"
   ]
  },
  {
   "cell_type": "markdown",
   "id": "8d845e92",
   "metadata": {},
   "source": [
    "### Adding season column"
   ]
  },
  {
   "cell_type": "code",
   "execution_count": 4,
   "id": "5010d45f",
   "metadata": {},
   "outputs": [],
   "source": [
    "# Defining function to identify season\n",
    "def get_season(date):\n",
    "    month = date.month\n",
    "    day = date.day\n",
    "    if month in [3, 4, 5]:\n",
    "        season = 'spring'\n",
    "    elif month in [6, 7, 8]:\n",
    "        season = 'summer'\n",
    "    elif month in [9, 10, 11]:\n",
    "        season = 'fall'\n",
    "    else:\n",
    "        season = 'winter'\n",
    "    \n",
    "\n",
    "    if month == 3 and day < 20:\n",
    "        season = 'winter'\n",
    "    elif month == 6 and day < 21:\n",
    "        season = 'spring'\n",
    "    elif month == 9 and day < 22:\n",
    "        season = 'summer'\n",
    "    elif month == 12 and day < 21:\n",
    "        season = 'fall'\n",
    "    \n",
    "    return season\n",
    "\n",
    "# Applying function and creating season column\n",
    "df['season'] = df['Date'].apply(get_season)"
   ]
  },
  {
   "cell_type": "markdown",
   "id": "ec68c72f",
   "metadata": {},
   "source": [
    "### Adding holiday season column"
   ]
  },
  {
   "cell_type": "code",
   "execution_count": 5,
   "id": "de04aa11",
   "metadata": {},
   "outputs": [],
   "source": [
    "# Define function to find some major holiday values \n",
    "def is_holiday_season(date):\n",
    "    holidays = [\n",
    "        datetime.date(date.year, 1, 1),   # New Year's Day\n",
    "        datetime.date(date.year, 7, 4),   # Independence Day\n",
    "        datetime.date(date.year, 12, 25), # Christmas Day\n",
    "        datetime.date(date.year, 11, 4) + datetime.timedelta(weeks=3, days=3),  # Thanksgiving Day: 4th Thursday of November\n",
    "        datetime.date(date.year, 5, 31) - datetime.timedelta(days=(datetime.date(date.year, 5, 31).weekday() + 1) % 7),  # Memorial Day: last Monday of May\n",
    "        datetime.date(date.year, 9, 1) + datetime.timedelta(days=7-datetime.date(date.year, 9, 1).weekday()),  # Labor Day: first Monday of September\n",
    "        datetime.date(date.year, 11, 11),  # Veteran's Day\n",
    "        datetime.date(date.year, 1, 15) + datetime.timedelta(days=1-datetime.date(date.year, 1, 15).weekday())  # MLK Day: third Monday of January\n",
    "    ]\n",
    "    \n",
    "    # Adding a three day buffer area around each holiday to create a \"holiday season\"\n",
    "    for holiday in holidays:\n",
    "        if (date.date() - datetime.timedelta(days=3)) <= holiday <= (date.date() + datetime.timedelta(days=3)):\n",
    "            return True\n",
    "    \n",
    "    return False\n",
    "\n",
    "# Create holiday season column\n",
    "df['holiday_season'] = df['Date'].apply(is_holiday_season)"
   ]
  },
  {
   "cell_type": "markdown",
   "id": "53526db0",
   "metadata": {},
   "source": [
    "### Vaccine Announcement Column"
   ]
  },
  {
   "cell_type": "code",
   "execution_count": 6,
   "id": "d1691579",
   "metadata": {},
   "outputs": [],
   "source": [
    "# Define a list of unique announcement dates\n",
    "announcement_dates = [\n",
    "    \"04/28/2023\", \"04/27/2023\", \"04/18/2023\", \"03/14/2023\", \"03/10/2023\",\n",
    "    \"12/16/2022\", \"12/08/2022\", \"10/21/2022\", \"10/12/2022\", \"09/13/2022\",\n",
    "    \"08/31/2022\", \"08/26/2022\", \"08/19/2022\", \"07/13/2022\", \"07/08/2022\",\n",
    "    \"06/30/2022\", \"06/17/2022\", \"05/17/2022\", \"05/05/2022\", \"04/29/2022\",\n",
    "    \"04/15/2022\", \"04/01/2022\", \"03/29/2022\", \"03/21/2022\", \"03/11/2022\",\n",
    "    \"02/11/2022\", \"02/01/2022\", \"01/31/2022\", \"01/11/2022\", \"01/07/2022\",\n",
    "    \"01/03/2022\", \"12/17/2021\", \"12/14/2021\", \"12/09/2021\", \"11/30/2021\",\n",
    "    \"11/19/2021\", \"10/29/2021\", \"10/26/2021\", \"10/22/2021\", \"10/20/2021\",\n",
    "    \"10/14/2021\", \"10/01/2021\", \"09/24/2021\", \"09/22/2021\", \"09/20/2021\",\n",
    "    \"09/17/2021\", \"09/10/2021\", \"09/02/2021\", \"09/01/2021\", \"08/24/2021\",\n",
    "    \"08/23/2021\", \"08/18/2021\", \"08/13/2021\", \"08/12/2021\", \"08/06/2021\",\n",
    "    \"08/03/2021\", \"07/30/2021\", \"07/16/2021\", \"07/13/2021\", \"07/08/2021\",\n",
    "    \"07/06/2021\", \"07/02/2021\", \"06/29/2021\", \"06/25/2021\", \"06/15/2021\",\n",
    "    \"06/11/2021\", \"06/10/2021\", \"05/25/2021\", \"05/19/2021\", \"05/11/2021\",\n",
    "    \"05/10/2021\", \"04/27/2021\", \"04/23/2021\", \"04/21/2021\", \"04/16/2021\",\n",
    "    \"04/13/2021\", \"04/12/2021\", \"04/01/2021\", \"03/26/2021\", \"03/24/2021\",\n",
    "    \"03/17/2021\", \"03/05/2021\", \"03/02/2021\", \"02/27/2021\", \"02/26/2021\",\n",
    "    \"02/25/2021\", \"02/23/2021\", \"02/22/2021\", \"02/12/2021\", \"02/05/2021\",\n",
    "    \"02/04/2021\", \"01/29/2021\", \"01/14/2021\", \"01/04/2021\", \"12/28/2020\",\n",
    "    \"12/22/2020\", \"12/21/2020\", \"12/18/2020\", \"12/17/2020\", \"12/14/2020\", \"12/12/2020\"\n",
    "]\n",
    "\n",
    "# Convert to datetime and deduplicate\n",
    "announcement_dates = list(set([pd.to_datetime(date) for date in announcement_dates]))\n",
    "\n",
    "\n",
    "# Check if the date in the dataset is within a week of any announcement dates\n",
    "def near_announcement(date):\n",
    "    for announcement in announcement_dates:\n",
    "        if announcement <= date <= (announcement + pd.Timedelta(days=7)):\n",
    "            return True\n",
    "    return False\n",
    "\n",
    "# Create the 'vax_announcement' column\n",
    "df['vax_announcement'] = df['Date'].apply(near_announcement)\n"
   ]
  },
  {
   "cell_type": "markdown",
   "id": "fd762e01",
   "metadata": {},
   "source": [
    "## Exploring Timetrends in Data"
   ]
  },
  {
   "cell_type": "code",
   "execution_count": 7,
   "id": "180e57d2",
   "metadata": {},
   "outputs": [
    {
     "data": {
      "text/plain": [
       "Index(['Date', 'FIPS', 'MMWR_week', 'Recip_County', 'Recip_State',\n",
       "       'Completeness_pct', 'Administered_Dose1_Recip',\n",
       "       'Administered_Dose1_Pop_Pct', 'Administered_Dose1_Recip_5Plus',\n",
       "       'Administered_Dose1_Recip_5PlusPop_Pct',\n",
       "       'Administered_Dose1_Recip_12Plus',\n",
       "       'Administered_Dose1_Recip_12PlusPop_Pct',\n",
       "       'Administered_Dose1_Recip_18Plus',\n",
       "       'Administered_Dose1_Recip_18PlusPop_Pct',\n",
       "       'Administered_Dose1_Recip_65Plus',\n",
       "       'Administered_Dose1_Recip_65PlusPop_Pct', 'Series_Complete_Yes',\n",
       "       'Series_Complete_Pop_Pct', 'Series_Complete_5Plus',\n",
       "       'Series_Complete_5PlusPop_Pct', 'Series_Complete_5to17',\n",
       "       'Series_Complete_5to17Pop_Pct', 'Series_Complete_12Plus',\n",
       "       'Series_Complete_12PlusPop_Pct', 'Series_Complete_18Plus',\n",
       "       'Series_Complete_18PlusPop_Pct', 'Series_Complete_65Plus',\n",
       "       'Series_Complete_65PlusPop_Pct', 'Booster_Doses',\n",
       "       'Booster_Doses_Vax_Pct', 'Booster_Doses_5Plus',\n",
       "       'Booster_Doses_5Plus_Vax_Pct', 'Booster_Doses_12Plus',\n",
       "       'Booster_Doses_12Plus_Vax_Pct', 'Booster_Doses_18Plus',\n",
       "       'Booster_Doses_18Plus_Vax_Pct', 'Booster_Doses_50Plus',\n",
       "       'Booster_Doses_50Plus_Vax_Pct', 'Booster_Doses_65Plus',\n",
       "       'Booster_Doses_65Plus_Vax_Pct', 'Second_Booster_50Plus',\n",
       "       'Second_Booster_50Plus_Vax_Pct', 'Second_Booster_65Plus',\n",
       "       'Second_Booster_65Plus_Vax_Pct', 'SVI_CTGY',\n",
       "       'Series_Complete_Pop_Pct_SVI', 'Series_Complete_5PlusPop_Pct_SVI',\n",
       "       'Series_Complete_5to17Pop_Pct_SVI', 'Series_Complete_12PlusPop_Pct_SVI',\n",
       "       'Series_Complete_18PlusPop_Pct_SVI',\n",
       "       'Series_Complete_65PlusPop_Pct_SVI', 'Metro_status',\n",
       "       'Series_Complete_Pop_Pct_UR_Equity',\n",
       "       'Series_Complete_5PlusPop_Pct_UR_Equity',\n",
       "       'Series_Complete_5to17Pop_Pct_UR_Equity',\n",
       "       'Series_Complete_12PlusPop_Pct_UR_Equity',\n",
       "       'Series_Complete_18PlusPop_Pct_UR_Equity',\n",
       "       'Series_Complete_65PlusPop_Pct_UR_Equity', 'Booster_Doses_Vax_Pct_SVI',\n",
       "       'Booster_Doses_12PlusVax_Pct_SVI', 'Booster_Doses_18PlusVax_Pct_SVI',\n",
       "       'Booster_Doses_65PlusVax_Pct_SVI', 'Booster_Doses_Vax_Pct_UR_Equity',\n",
       "       'Booster_Doses_12PlusVax_Pct_UR_Equity',\n",
       "       'Booster_Doses_18PlusVax_Pct_UR_Equity',\n",
       "       'Booster_Doses_65PlusVax_Pct_UR_Equity', 'Census2019',\n",
       "       'Census2019_5PlusPop', 'Census2019_5to17Pop', 'Census2019_12PlusPop',\n",
       "       'Census2019_18PlusPop', 'Census2019_65PlusPop',\n",
       "       'Bivalent_Booster_5Plus', 'Bivalent_Booster_5Plus_Pop_Pct',\n",
       "       'Bivalent_Booster_12Plus', 'Bivalent_Booster_12Plus_Pop_Pct',\n",
       "       'Bivalent_Booster_18Plus', 'Bivalent_Booster_18Plus_Pop_Pct',\n",
       "       'Bivalent_Booster_65Plus', 'Bivalent_Booster_65Plus_Pop_Pct',\n",
       "       'day_of_week', 'weekend', 'season', 'holiday_season',\n",
       "       'vax_announcement'],\n",
       "      dtype='object')"
      ]
     },
     "execution_count": 7,
     "metadata": {},
     "output_type": "execute_result"
    }
   ],
   "source": [
    "df.columns"
   ]
  },
  {
   "cell_type": "code",
   "execution_count": 8,
   "id": "6ad045df",
   "metadata": {},
   "outputs": [
    {
     "data": {
      "text/plain": [
       "(61592, 85)"
      ]
     },
     "execution_count": 8,
     "metadata": {},
     "output_type": "execute_result"
    }
   ],
   "source": [
    "df.shape"
   ]
  },
  {
   "cell_type": "code",
   "execution_count": 33,
   "id": "023c514b",
   "metadata": {},
   "outputs": [],
   "source": [
    "# Getting Rid of Columns that are not percentages \n",
    "\n",
    "columns_to_drop = []\n",
    "for column in df.columns:\n",
    "    if 'pct' not in column and 'Pct' not in column and 'Recip' not in column and 'Census' not in column: \n",
    "        columns_to_drop.append(column)\n",
    "\n",
    "\n",
    "        \n",
    "values_remove = ['Date', 'SVI_CTGY', 'Metro_status', 'day_of_week', \n",
    "                       'weekend', 'season', 'holiday_season', 'vax_announcement']\n",
    "for x in values_remove:\n",
    "    columns_to_drop.remove(x)\n",
    "    \n",
    "    \n",
    "# Dropping the columns from the df\n",
    "\n",
    "df = df.drop(columns = columns_to_drop)\n",
    "df = df.drop(columns = ['Administered_Dose1_Recip_5Plus', 'Administered_Dose1_Recip_12Plus',\n",
    "                        'Administered_Dose1_Recip_18Plus', 'Administered_Dose1_Recip_65Plus'])"
   ]
  },
  {
   "cell_type": "code",
   "execution_count": 34,
   "id": "16e16261",
   "metadata": {},
   "outputs": [
    {
     "data": {
      "text/plain": [
       "(61592, 61)"
      ]
     },
     "execution_count": 34,
     "metadata": {},
     "output_type": "execute_result"
    }
   ],
   "source": [
    "df.shape"
   ]
  },
  {
   "cell_type": "code",
   "execution_count": 35,
   "id": "ef7077bc",
   "metadata": {},
   "outputs": [
    {
     "data": {
      "text/plain": [
       "Index(['Date', 'Recip_County', 'Recip_State', 'Completeness_pct',\n",
       "       'Administered_Dose1_Recip', 'Administered_Dose1_Pop_Pct',\n",
       "       'Administered_Dose1_Recip_5PlusPop_Pct',\n",
       "       'Administered_Dose1_Recip_12PlusPop_Pct',\n",
       "       'Administered_Dose1_Recip_18PlusPop_Pct',\n",
       "       'Administered_Dose1_Recip_65PlusPop_Pct', 'Series_Complete_Pop_Pct',\n",
       "       'Series_Complete_5PlusPop_Pct', 'Series_Complete_5to17Pop_Pct',\n",
       "       'Series_Complete_12PlusPop_Pct', 'Series_Complete_18PlusPop_Pct',\n",
       "       'Series_Complete_65PlusPop_Pct', 'Booster_Doses_Vax_Pct',\n",
       "       'Booster_Doses_5Plus_Vax_Pct', 'Booster_Doses_12Plus_Vax_Pct',\n",
       "       'Booster_Doses_18Plus_Vax_Pct', 'Booster_Doses_50Plus_Vax_Pct',\n",
       "       'Booster_Doses_65Plus_Vax_Pct', 'Second_Booster_50Plus_Vax_Pct',\n",
       "       'Second_Booster_65Plus_Vax_Pct', 'SVI_CTGY',\n",
       "       'Series_Complete_Pop_Pct_SVI', 'Series_Complete_5PlusPop_Pct_SVI',\n",
       "       'Series_Complete_5to17Pop_Pct_SVI', 'Series_Complete_12PlusPop_Pct_SVI',\n",
       "       'Series_Complete_18PlusPop_Pct_SVI',\n",
       "       'Series_Complete_65PlusPop_Pct_SVI', 'Metro_status',\n",
       "       'Series_Complete_Pop_Pct_UR_Equity',\n",
       "       'Series_Complete_5PlusPop_Pct_UR_Equity',\n",
       "       'Series_Complete_5to17Pop_Pct_UR_Equity',\n",
       "       'Series_Complete_12PlusPop_Pct_UR_Equity',\n",
       "       'Series_Complete_18PlusPop_Pct_UR_Equity',\n",
       "       'Series_Complete_65PlusPop_Pct_UR_Equity', 'Booster_Doses_Vax_Pct_SVI',\n",
       "       'Booster_Doses_12PlusVax_Pct_SVI', 'Booster_Doses_18PlusVax_Pct_SVI',\n",
       "       'Booster_Doses_65PlusVax_Pct_SVI', 'Booster_Doses_Vax_Pct_UR_Equity',\n",
       "       'Booster_Doses_12PlusVax_Pct_UR_Equity',\n",
       "       'Booster_Doses_18PlusVax_Pct_UR_Equity',\n",
       "       'Booster_Doses_65PlusVax_Pct_UR_Equity', 'Census2019',\n",
       "       'Census2019_5PlusPop', 'Census2019_5to17Pop', 'Census2019_12PlusPop',\n",
       "       'Census2019_18PlusPop', 'Census2019_65PlusPop',\n",
       "       'Bivalent_Booster_5Plus_Pop_Pct', 'Bivalent_Booster_12Plus_Pop_Pct',\n",
       "       'Bivalent_Booster_18Plus_Pop_Pct', 'Bivalent_Booster_65Plus_Pop_Pct',\n",
       "       'day_of_week', 'weekend', 'season', 'holiday_season',\n",
       "       'vax_announcement'],\n",
       "      dtype='object')"
      ]
     },
     "execution_count": 35,
     "metadata": {},
     "output_type": "execute_result"
    }
   ],
   "source": [
    "df.columns"
   ]
  },
  {
   "cell_type": "code",
   "execution_count": 36,
   "id": "eaa03df8",
   "metadata": {},
   "outputs": [],
   "source": [
    "pred_var = 'Booster_Doses_Vax_Pct'"
   ]
  },
  {
   "cell_type": "code",
   "execution_count": 37,
   "id": "00cf47a4",
   "metadata": {},
   "outputs": [],
   "source": [
    "data_subset = df[['Booster_Doses_Vax_Pct', 'Date']]"
   ]
  },
  {
   "cell_type": "code",
   "execution_count": 38,
   "id": "e34056d8",
   "metadata": {},
   "outputs": [],
   "source": [
    "filtered_df = data_subset[data_subset[pred_var].notna()]\n",
    "\n",
    "min_value = filtered_df['Date'].min()"
   ]
  },
  {
   "cell_type": "code",
   "execution_count": 39,
   "id": "2a5b6ca3",
   "metadata": {},
   "outputs": [
    {
     "data": {
      "text/plain": [
       "Timestamp('2021-12-15 00:00:00')"
      ]
     },
     "execution_count": 39,
     "metadata": {},
     "output_type": "execute_result"
    }
   ],
   "source": [
    "min_value"
   ]
  },
  {
   "cell_type": "code",
   "execution_count": 40,
   "id": "fad8bb5a",
   "metadata": {},
   "outputs": [
    {
     "data": {
      "text/html": [
       "<div>\n",
       "<style scoped>\n",
       "    .dataframe tbody tr th:only-of-type {\n",
       "        vertical-align: middle;\n",
       "    }\n",
       "\n",
       "    .dataframe tbody tr th {\n",
       "        vertical-align: top;\n",
       "    }\n",
       "\n",
       "    .dataframe thead th {\n",
       "        text-align: right;\n",
       "    }\n",
       "</style>\n",
       "<table border=\"1\" class=\"dataframe\">\n",
       "  <thead>\n",
       "    <tr style=\"text-align: right;\">\n",
       "      <th></th>\n",
       "      <th>Booster_Doses_Vax_Pct</th>\n",
       "      <th>Date</th>\n",
       "    </tr>\n",
       "  </thead>\n",
       "  <tbody>\n",
       "    <tr>\n",
       "      <th>23690</th>\n",
       "      <td>36.4</td>\n",
       "      <td>2021-12-15</td>\n",
       "    </tr>\n",
       "    <tr>\n",
       "      <th>23691</th>\n",
       "      <td>31.6</td>\n",
       "      <td>2021-12-15</td>\n",
       "    </tr>\n",
       "    <tr>\n",
       "      <th>23692</th>\n",
       "      <td>36.7</td>\n",
       "      <td>2021-12-15</td>\n",
       "    </tr>\n",
       "    <tr>\n",
       "      <th>23693</th>\n",
       "      <td>33.6</td>\n",
       "      <td>2021-12-15</td>\n",
       "    </tr>\n",
       "    <tr>\n",
       "      <th>23694</th>\n",
       "      <td>29.7</td>\n",
       "      <td>2021-12-15</td>\n",
       "    </tr>\n",
       "    <tr>\n",
       "      <th>...</th>\n",
       "      <td>...</td>\n",
       "      <td>...</td>\n",
       "    </tr>\n",
       "    <tr>\n",
       "      <th>23788</th>\n",
       "      <td>34.6</td>\n",
       "      <td>2021-12-15</td>\n",
       "    </tr>\n",
       "    <tr>\n",
       "      <th>23789</th>\n",
       "      <td>34.8</td>\n",
       "      <td>2021-12-15</td>\n",
       "    </tr>\n",
       "    <tr>\n",
       "      <th>23790</th>\n",
       "      <td>32.0</td>\n",
       "      <td>2021-12-15</td>\n",
       "    </tr>\n",
       "    <tr>\n",
       "      <th>23791</th>\n",
       "      <td>33.2</td>\n",
       "      <td>2021-12-15</td>\n",
       "    </tr>\n",
       "    <tr>\n",
       "      <th>23792</th>\n",
       "      <td>28.1</td>\n",
       "      <td>2021-12-15</td>\n",
       "    </tr>\n",
       "  </tbody>\n",
       "</table>\n",
       "<p>103 rows × 2 columns</p>\n",
       "</div>"
      ],
      "text/plain": [
       "       Booster_Doses_Vax_Pct       Date\n",
       "23690                   36.4 2021-12-15\n",
       "23691                   31.6 2021-12-15\n",
       "23692                   36.7 2021-12-15\n",
       "23693                   33.6 2021-12-15\n",
       "23694                   29.7 2021-12-15\n",
       "...                      ...        ...\n",
       "23788                   34.6 2021-12-15\n",
       "23789                   34.8 2021-12-15\n",
       "23790                   32.0 2021-12-15\n",
       "23791                   33.2 2021-12-15\n",
       "23792                   28.1 2021-12-15\n",
       "\n",
       "[103 rows x 2 columns]"
      ]
     },
     "execution_count": 40,
     "metadata": {},
     "output_type": "execute_result"
    }
   ],
   "source": [
    "data_subset[data_subset['Date'] == min_value]"
   ]
  },
  {
   "cell_type": "code",
   "execution_count": 41,
   "id": "f0c55de2",
   "metadata": {},
   "outputs": [
    {
     "data": {
      "text/plain": [
       "<AxesSubplot:title={'center':' Predictive variable over Years'}, xlabel='Date'>"
      ]
     },
     "execution_count": 41,
     "metadata": {},
     "output_type": "execute_result"
    },
    {
     "data": {
      "image/png": "[encoded data removed]",
      "text/plain": [
       "<Figure size 864x288 with 1 Axes>"
      ]
     },
     "metadata": {
      "needs_background": "light"
     },
     "output_type": "display_data"
    }
   ],
   "source": [
    "fig, axs = plt.subplots(figsize=(12, 4))\n",
    "data_subset.groupby(data_subset[\"Date\"].dt.year)[pred_var].mean().plot(\n",
    "    kind='bar', rot=0, ax=axs, title = \" Predictive variable over Years\"\n",
    ")\n"
   ]
  },
  {
   "cell_type": "code",
   "execution_count": 42,
   "id": "02c36d80",
   "metadata": {},
   "outputs": [
    {
     "data": {
      "text/plain": [
       "<AxesSubplot:title={'center':' Predictive variable over Months'}, xlabel='Date'>"
      ]
     },
     "execution_count": 42,
     "metadata": {},
     "output_type": "execute_result"
    },
    {
     "data": {
      "image/png": "[encoded data removed]",
      "text/plain": [
       "<Figure size 864x288 with 1 Axes>"
      ]
     },
     "metadata": {
      "needs_background": "light"
     },
     "output_type": "display_data"
    }
   ],
   "source": [
    "fig, axs = plt.subplots(figsize=(12, 4))\n",
    "data_subset.groupby(data_subset[\"Date\"].dt.month)[pred_var].mean().plot(\n",
    "    kind='bar', rot=0, ax=axs, title = \" Predictive variable over Months\"\n",
    ")"
   ]
  },
  {
   "cell_type": "code",
   "execution_count": 43,
   "id": "c37bf6ac",
   "metadata": {},
   "outputs": [
    {
     "data": {
      "text/plain": [
       "<AxesSubplot:title={'center':' Predictive variable over Days'}, xlabel='Date'>"
      ]
     },
     "execution_count": 43,
     "metadata": {},
     "output_type": "execute_result"
    },
    {
     "data": {
      "image/png": "[encoded data removed]",
      "text/plain": [
       "<Figure size 864x288 with 1 Axes>"
      ]
     },
     "metadata": {
      "needs_background": "light"
     },
     "output_type": "display_data"
    }
   ],
   "source": [
    "fig, axs = plt.subplots(figsize=(12, 4))\n",
    "data_subset.groupby(data_subset[\"Date\"].dt.day)[pred_var].mean().plot(\n",
    "    kind='bar', rot=0, ax=axs, title = \" Predictive variable over Days\"\n",
    ")"
   ]
  },
  {
   "cell_type": "code",
   "execution_count": 44,
   "id": "130446de",
   "metadata": {},
   "outputs": [
    {
     "data": {
      "text/plain": [
       "<AxesSubplot:title={'center':' Predictive variable over Days of the week'}, xlabel='day_of_week'>"
      ]
     },
     "execution_count": 44,
     "metadata": {},
     "output_type": "execute_result"
    },
    {
     "data": {
      "image/png": "[encoded data removed]",
      "text/plain": [
       "<Figure size 864x288 with 1 Axes>"
      ]
     },
     "metadata": {
      "needs_background": "light"
     },
     "output_type": "display_data"
    }
   ],
   "source": [
    "fig, axs = plt.subplots(figsize=(12, 4))\n",
    "df.groupby(df[\"day_of_week\"])[pred_var].mean().plot(\n",
    "    kind='bar', rot=0, ax=axs, title = \" Predictive variable over Days of the week\"\n",
    ")"
   ]
  },
  {
   "cell_type": "code",
   "execution_count": 45,
   "id": "5cbb7005",
   "metadata": {},
   "outputs": [
    {
     "data": {
      "text/plain": [
       "<AxesSubplot:title={'center':' Predictive variable over seasons'}, xlabel='season'>"
      ]
     },
     "execution_count": 45,
     "metadata": {},
     "output_type": "execute_result"
    },
    {
     "data": {
      "image/png": "[encoded data removed]",
      "text/plain": [
       "<Figure size 864x288 with 1 Axes>"
      ]
     },
     "metadata": {
      "needs_background": "light"
     },
     "output_type": "display_data"
    }
   ],
   "source": [
    "fig, axs = plt.subplots(figsize=(12, 4))\n",
    "df.groupby(df[\"season\"])[pred_var].mean().plot(\n",
    "    kind='bar', rot=0, ax=axs, title = \" Predictive variable over seasons\"\n",
    ")"
   ]
  },
  {
   "cell_type": "code",
   "execution_count": 46,
   "id": "e887ba9e",
   "metadata": {
    "scrolled": true
   },
   "outputs": [
    {
     "data": {
      "text/plain": [
       "<AxesSubplot:title={'center':' Predictive variable over dataset time period'}, xlabel='Date'>"
      ]
     },
     "execution_count": 46,
     "metadata": {},
     "output_type": "execute_result"
    },
    {
     "data": {
      "image/png": "[encoded data removed]",
      "text/plain": [
       "<Figure size 864x288 with 1 Axes>"
      ]
     },
     "metadata": {
      "needs_background": "light"
     },
     "output_type": "display_data"
    }
   ],
   "source": [
    "fig, axs = plt.subplots(figsize=(12, 4))\n",
    "df.groupby(df[\"Date\"])[pred_var].mean().plot(\n",
    "    kind='line', rot=0, ax=axs, title = \" Predictive variable over dataset time period\"\n",
    ")"
   ]
  },
  {
   "cell_type": "code",
   "execution_count": 47,
   "id": "a6416def",
   "metadata": {
    "scrolled": true
   },
   "outputs": [
    {
     "data": {
      "text/html": [
       "<div>\n",
       "<style scoped>\n",
       "    .dataframe tbody tr th:only-of-type {\n",
       "        vertical-align: middle;\n",
       "    }\n",
       "\n",
       "    .dataframe tbody tr th {\n",
       "        vertical-align: top;\n",
       "    }\n",
       "\n",
       "    .dataframe thead th {\n",
       "        text-align: right;\n",
       "    }\n",
       "</style>\n",
       "<table border=\"1\" class=\"dataframe\">\n",
       "  <thead>\n",
       "    <tr style=\"text-align: right;\">\n",
       "      <th></th>\n",
       "      <th>Completeness_pct</th>\n",
       "      <th>Administered_Dose1_Recip</th>\n",
       "      <th>Administered_Dose1_Pop_Pct</th>\n",
       "      <th>Administered_Dose1_Recip_5PlusPop_Pct</th>\n",
       "      <th>Administered_Dose1_Recip_12PlusPop_Pct</th>\n",
       "      <th>Administered_Dose1_Recip_18PlusPop_Pct</th>\n",
       "      <th>Administered_Dose1_Recip_65PlusPop_Pct</th>\n",
       "      <th>Series_Complete_Pop_Pct</th>\n",
       "      <th>Series_Complete_5PlusPop_Pct</th>\n",
       "      <th>Series_Complete_5to17Pop_Pct</th>\n",
       "      <th>...</th>\n",
       "      <th>Census2019</th>\n",
       "      <th>Census2019_5PlusPop</th>\n",
       "      <th>Census2019_5to17Pop</th>\n",
       "      <th>Census2019_12PlusPop</th>\n",
       "      <th>Census2019_18PlusPop</th>\n",
       "      <th>Census2019_65PlusPop</th>\n",
       "      <th>Bivalent_Booster_5Plus_Pop_Pct</th>\n",
       "      <th>Bivalent_Booster_12Plus_Pop_Pct</th>\n",
       "      <th>Bivalent_Booster_18Plus_Pop_Pct</th>\n",
       "      <th>Bivalent_Booster_65Plus_Pop_Pct</th>\n",
       "    </tr>\n",
       "  </thead>\n",
       "  <tbody>\n",
       "    <tr>\n",
       "      <th>count</th>\n",
       "      <td>61592.000000</td>\n",
       "      <td>6.159200e+04</td>\n",
       "      <td>61452.000000</td>\n",
       "      <td>24374.000000</td>\n",
       "      <td>61452.000000</td>\n",
       "      <td>61452.000000</td>\n",
       "      <td>61452.000000</td>\n",
       "      <td>61452.000000</td>\n",
       "      <td>24374.000000</td>\n",
       "      <td>13464.000000</td>\n",
       "      <td>...</td>\n",
       "      <td>6.099600e+04</td>\n",
       "      <td>2.427600e+04</td>\n",
       "      <td>13464.000000</td>\n",
       "      <td>6.099600e+04</td>\n",
       "      <td>6.099600e+04</td>\n",
       "      <td>21522.000000</td>\n",
       "      <td>2652.000000</td>\n",
       "      <td>2652.000000</td>\n",
       "      <td>2652.000000</td>\n",
       "      <td>2652.000000</td>\n",
       "    </tr>\n",
       "    <tr>\n",
       "      <th>mean</th>\n",
       "      <td>92.289417</td>\n",
       "      <td>7.043617e+04</td>\n",
       "      <td>44.358306</td>\n",
       "      <td>61.420391</td>\n",
       "      <td>50.670447</td>\n",
       "      <td>53.027931</td>\n",
       "      <td>74.467589</td>\n",
       "      <td>37.564911</td>\n",
       "      <td>55.997702</td>\n",
       "      <td>26.856833</td>\n",
       "      <td>...</td>\n",
       "      <td>1.242335e+05</td>\n",
       "      <td>1.169107e+05</td>\n",
       "      <td>20303.343137</td>\n",
       "      <td>1.062530e+05</td>\n",
       "      <td>9.660731e+04</td>\n",
       "      <td>20031.686275</td>\n",
       "      <td>13.008597</td>\n",
       "      <td>14.104676</td>\n",
       "      <td>15.189555</td>\n",
       "      <td>36.796041</td>\n",
       "    </tr>\n",
       "    <tr>\n",
       "      <th>std</th>\n",
       "      <td>22.739325</td>\n",
       "      <td>3.429423e+05</td>\n",
       "      <td>20.188306</td>\n",
       "      <td>12.645298</td>\n",
       "      <td>22.716994</td>\n",
       "      <td>23.146154</td>\n",
       "      <td>27.026234</td>\n",
       "      <td>19.581313</td>\n",
       "      <td>11.593333</td>\n",
       "      <td>13.225520</td>\n",
       "      <td>...</td>\n",
       "      <td>5.208765e+05</td>\n",
       "      <td>4.895723e+05</td>\n",
       "      <td>82039.366293</td>\n",
       "      <td>4.458013e+05</td>\n",
       "      <td>4.076141e+05</td>\n",
       "      <td>78415.579989</td>\n",
       "      <td>3.962543</td>\n",
       "      <td>4.222162</td>\n",
       "      <td>4.456517</td>\n",
       "      <td>9.278828</td>\n",
       "    </tr>\n",
       "    <tr>\n",
       "      <th>min</th>\n",
       "      <td>0.000000</td>\n",
       "      <td>0.000000e+00</td>\n",
       "      <td>0.000000</td>\n",
       "      <td>0.000000</td>\n",
       "      <td>0.000000</td>\n",
       "      <td>0.000000</td>\n",
       "      <td>0.000000</td>\n",
       "      <td>0.000000</td>\n",
       "      <td>0.000000</td>\n",
       "      <td>5.500000</td>\n",
       "      <td>...</td>\n",
       "      <td>3.821000e+03</td>\n",
       "      <td>3.677000e+03</td>\n",
       "      <td>389.000000</td>\n",
       "      <td>3.408000e+03</td>\n",
       "      <td>3.152000e+03</td>\n",
       "      <td>925.000000</td>\n",
       "      <td>4.700000</td>\n",
       "      <td>5.000000</td>\n",
       "      <td>5.300000</td>\n",
       "      <td>13.100000</td>\n",
       "    </tr>\n",
       "    <tr>\n",
       "      <th>25%</th>\n",
       "      <td>97.700000</td>\n",
       "      <td>4.282000e+03</td>\n",
       "      <td>34.600000</td>\n",
       "      <td>55.100000</td>\n",
       "      <td>40.000000</td>\n",
       "      <td>42.900000</td>\n",
       "      <td>72.200000</td>\n",
       "      <td>26.500000</td>\n",
       "      <td>49.700000</td>\n",
       "      <td>16.900000</td>\n",
       "      <td>...</td>\n",
       "      <td>1.353700e+04</td>\n",
       "      <td>1.275700e+04</td>\n",
       "      <td>2166.000000</td>\n",
       "      <td>1.161000e+04</td>\n",
       "      <td>1.057000e+04</td>\n",
       "      <td>2813.000000</td>\n",
       "      <td>10.200000</td>\n",
       "      <td>11.100000</td>\n",
       "      <td>12.000000</td>\n",
       "      <td>30.300000</td>\n",
       "    </tr>\n",
       "    <tr>\n",
       "      <th>50%</th>\n",
       "      <td>97.800000</td>\n",
       "      <td>9.622000e+03</td>\n",
       "      <td>48.600000</td>\n",
       "      <td>61.100000</td>\n",
       "      <td>56.000000</td>\n",
       "      <td>58.900000</td>\n",
       "      <td>84.700000</td>\n",
       "      <td>41.300000</td>\n",
       "      <td>56.400000</td>\n",
       "      <td>25.250000</td>\n",
       "      <td>...</td>\n",
       "      <td>2.530250e+04</td>\n",
       "      <td>2.381950e+04</td>\n",
       "      <td>3669.500000</td>\n",
       "      <td>2.181700e+04</td>\n",
       "      <td>1.985950e+04</td>\n",
       "      <td>5359.000000</td>\n",
       "      <td>12.700000</td>\n",
       "      <td>13.700000</td>\n",
       "      <td>14.800000</td>\n",
       "      <td>36.400000</td>\n",
       "    </tr>\n",
       "    <tr>\n",
       "      <th>75%</th>\n",
       "      <td>98.200000</td>\n",
       "      <td>2.713025e+04</td>\n",
       "      <td>58.100000</td>\n",
       "      <td>68.000000</td>\n",
       "      <td>66.000000</td>\n",
       "      <td>68.700000</td>\n",
       "      <td>90.800000</td>\n",
       "      <td>52.200000</td>\n",
       "      <td>62.100000</td>\n",
       "      <td>33.600000</td>\n",
       "      <td>...</td>\n",
       "      <td>5.354400e+04</td>\n",
       "      <td>5.053800e+04</td>\n",
       "      <td>8905.000000</td>\n",
       "      <td>4.563600e+04</td>\n",
       "      <td>4.156400e+04</td>\n",
       "      <td>10426.000000</td>\n",
       "      <td>15.600000</td>\n",
       "      <td>16.900000</td>\n",
       "      <td>18.100000</td>\n",
       "      <td>43.225000</td>\n",
       "    </tr>\n",
       "    <tr>\n",
       "      <th>max</th>\n",
       "      <td>100.000000</td>\n",
       "      <td>4.335968e+06</td>\n",
       "      <td>92.900000</td>\n",
       "      <td>99.900000</td>\n",
       "      <td>95.000000</td>\n",
       "      <td>96.400000</td>\n",
       "      <td>100.000000</td>\n",
       "      <td>83.500000</td>\n",
       "      <td>99.900000</td>\n",
       "      <td>69.700000</td>\n",
       "      <td>...</td>\n",
       "      <td>5.150233e+06</td>\n",
       "      <td>4.840122e+06</td>\n",
       "      <td>803127.000000</td>\n",
       "      <td>4.409825e+06</td>\n",
       "      <td>4.036995e+06</td>\n",
       "      <td>776229.000000</td>\n",
       "      <td>26.500000</td>\n",
       "      <td>28.300000</td>\n",
       "      <td>29.800000</td>\n",
       "      <td>60.700000</td>\n",
       "    </tr>\n",
       "  </tbody>\n",
       "</table>\n",
       "<p>8 rows × 51 columns</p>\n",
       "</div>"
      ],
      "text/plain": [
       "       Completeness_pct  Administered_Dose1_Recip  Administered_Dose1_Pop_Pct  \\\n",
       "count      61592.000000              6.159200e+04                61452.000000   \n",
       "mean          92.289417              7.043617e+04                   44.358306   \n",
       "std           22.739325              3.429423e+05                   20.188306   \n",
       "min            0.000000              0.000000e+00                    0.000000   \n",
       "25%           97.700000              4.282000e+03                   34.600000   \n",
       "50%           97.800000              9.622000e+03                   48.600000   \n",
       "75%           98.200000              2.713025e+04                   58.100000   \n",
       "max          100.000000              4.335968e+06                   92.900000   \n",
       "\n",
       "       Administered_Dose1_Recip_5PlusPop_Pct  \\\n",
       "count                           24374.000000   \n",
       "mean                               61.420391   \n",
       "std                                12.645298   \n",
       "min                                 0.000000   \n",
       "25%                                55.100000   \n",
       "50%                                61.100000   \n",
       "75%                                68.000000   \n",
       "max                                99.900000   \n",
       "\n",
       "       Administered_Dose1_Recip_12PlusPop_Pct  \\\n",
       "count                            61452.000000   \n",
       "mean                                50.670447   \n",
       "std                                 22.716994   \n",
       "min                                  0.000000   \n",
       "25%                                 40.000000   \n",
       "50%                                 56.000000   \n",
       "75%                                 66.000000   \n",
       "max                                 95.000000   \n",
       "\n",
       "       Administered_Dose1_Recip_18PlusPop_Pct  \\\n",
       "count                            61452.000000   \n",
       "mean                                53.027931   \n",
       "std                                 23.146154   \n",
       "min                                  0.000000   \n",
       "25%                                 42.900000   \n",
       "50%                                 58.900000   \n",
       "75%                                 68.700000   \n",
       "max                                 96.400000   \n",
       "\n",
       "       Administered_Dose1_Recip_65PlusPop_Pct  Series_Complete_Pop_Pct  \\\n",
       "count                            61452.000000             61452.000000   \n",
       "mean                                74.467589                37.564911   \n",
       "std                                 27.026234                19.581313   \n",
       "min                                  0.000000                 0.000000   \n",
       "25%                                 72.200000                26.500000   \n",
       "50%                                 84.700000                41.300000   \n",
       "75%                                 90.800000                52.200000   \n",
       "max                                100.000000                83.500000   \n",
       "\n",
       "       Series_Complete_5PlusPop_Pct  Series_Complete_5to17Pop_Pct  ...  \\\n",
       "count                  24374.000000                  13464.000000  ...   \n",
       "mean                      55.997702                     26.856833  ...   \n",
       "std                       11.593333                     13.225520  ...   \n",
       "min                        0.000000                      5.500000  ...   \n",
       "25%                       49.700000                     16.900000  ...   \n",
       "50%                       56.400000                     25.250000  ...   \n",
       "75%                       62.100000                     33.600000  ...   \n",
       "max                       99.900000                     69.700000  ...   \n",
       "\n",
       "         Census2019  Census2019_5PlusPop  Census2019_5to17Pop  \\\n",
       "count  6.099600e+04         2.427600e+04         13464.000000   \n",
       "mean   1.242335e+05         1.169107e+05         20303.343137   \n",
       "std    5.208765e+05         4.895723e+05         82039.366293   \n",
       "min    3.821000e+03         3.677000e+03           389.000000   \n",
       "25%    1.353700e+04         1.275700e+04          2166.000000   \n",
       "50%    2.530250e+04         2.381950e+04          3669.500000   \n",
       "75%    5.354400e+04         5.053800e+04          8905.000000   \n",
       "max    5.150233e+06         4.840122e+06        803127.000000   \n",
       "\n",
       "       Census2019_12PlusPop  Census2019_18PlusPop  Census2019_65PlusPop  \\\n",
       "count          6.099600e+04          6.099600e+04          21522.000000   \n",
       "mean           1.062530e+05          9.660731e+04          20031.686275   \n",
       "std            4.458013e+05          4.076141e+05          78415.579989   \n",
       "min            3.408000e+03          3.152000e+03            925.000000   \n",
       "25%            1.161000e+04          1.057000e+04           2813.000000   \n",
       "50%            2.181700e+04          1.985950e+04           5359.000000   \n",
       "75%            4.563600e+04          4.156400e+04          10426.000000   \n",
       "max            4.409825e+06          4.036995e+06         776229.000000   \n",
       "\n",
       "       Bivalent_Booster_5Plus_Pop_Pct  Bivalent_Booster_12Plus_Pop_Pct  \\\n",
       "count                     2652.000000                      2652.000000   \n",
       "mean                        13.008597                        14.104676   \n",
       "std                          3.962543                         4.222162   \n",
       "min                          4.700000                         5.000000   \n",
       "25%                         10.200000                        11.100000   \n",
       "50%                         12.700000                        13.700000   \n",
       "75%                         15.600000                        16.900000   \n",
       "max                         26.500000                        28.300000   \n",
       "\n",
       "       Bivalent_Booster_18Plus_Pop_Pct  Bivalent_Booster_65Plus_Pop_Pct  \n",
       "count                      2652.000000                      2652.000000  \n",
       "mean                         15.189555                        36.796041  \n",
       "std                           4.456517                         9.278828  \n",
       "min                           5.300000                        13.100000  \n",
       "25%                          12.000000                        30.300000  \n",
       "50%                          14.800000                        36.400000  \n",
       "75%                          18.100000                        43.225000  \n",
       "max                          29.800000                        60.700000  \n",
       "\n",
       "[8 rows x 51 columns]"
      ]
     },
     "execution_count": 47,
     "metadata": {},
     "output_type": "execute_result"
    }
   ],
   "source": [
    "df.describe()"
   ]
  },
  {
   "cell_type": "code",
   "execution_count": 48,
   "id": "dd3ea6c4",
   "metadata": {
    "scrolled": true
   },
   "outputs": [
    {
     "data": {
      "image/png": "[encoded data removed]",
      "text/plain": [
       "<Figure size 720x576 with 2 Axes>"
      ]
     },
     "metadata": {
      "needs_background": "light"
     },
     "output_type": "display_data"
    }
   ],
   "source": [
    "plt.figure(figsize=(10, 8))  # Adjust the figure size as needed\n",
    "sns.heatmap(df.corr(), cmap='coolwarm', linewidths=0.5)\n",
    "\n",
    "# Show the heatmap\n",
    "plt.show()"
   ]
  },
  {
   "cell_type": "code",
   "execution_count": 49,
   "id": "1c7a95fe",
   "metadata": {},
   "outputs": [
    {
     "name": "stdout",
     "output_type": "stream",
     "text": [
      "Booster_Doses_Vax_Pct                      1.000000\n",
      "Booster_Doses_5Plus_Vax_Pct                0.999678\n",
      "Booster_Doses_12Plus_Vax_Pct               0.991628\n",
      "Booster_Doses_18Plus_Vax_Pct               0.987330\n",
      "Booster_Doses_50Plus_Vax_Pct               0.916613\n",
      "Booster_Doses_65Plus_Vax_Pct               0.795255\n",
      "Bivalent_Booster_5Plus_Pop_Pct             0.610223\n",
      "Bivalent_Booster_65Plus_Pop_Pct            0.608544\n",
      "Bivalent_Booster_12Plus_Pop_Pct            0.608102\n",
      "Bivalent_Booster_18Plus_Pop_Pct            0.605739\n",
      "Second_Booster_65Plus_Vax_Pct              0.595773\n",
      "Second_Booster_50Plus_Vax_Pct              0.577949\n",
      "Series_Complete_5to17Pop_Pct               0.455965\n",
      "Series_Complete_Pop_Pct                    0.387220\n",
      "Series_Complete_65PlusPop_Pct              0.364725\n",
      "Series_Complete_12PlusPop_Pct              0.362597\n",
      "Series_Complete_18PlusPop_Pct              0.356771\n",
      "Series_Complete_5PlusPop_Pct               0.353051\n",
      "Administered_Dose1_Pop_Pct                 0.313638\n",
      "Administered_Dose1_Recip_5PlusPop_Pct      0.296236\n",
      "Administered_Dose1_Recip_12PlusPop_Pct     0.292646\n",
      "Administered_Dose1_Recip_18PlusPop_Pct     0.286480\n",
      "Administered_Dose1_Recip_65PlusPop_Pct     0.268693\n",
      "Completeness_pct                           0.170728\n",
      "Census2019_5to17Pop                        0.126795\n",
      "Census2019_65PlusPop                       0.088139\n",
      "Administered_Dose1_Recip                   0.065924\n",
      "Census2019_5PlusPop                        0.065295\n",
      "Census2019_12PlusPop                       0.065167\n",
      "Census2019                                 0.065036\n",
      "Census2019_18PlusPop                       0.064959\n",
      "Booster_Doses_Vax_Pct_UR_Equity           -0.008123\n",
      "Booster_Doses_12PlusVax_Pct_UR_Equity     -0.027392\n",
      "Booster_Doses_65PlusVax_Pct_UR_Equity     -0.034650\n",
      "Booster_Doses_18PlusVax_Pct_UR_Equity     -0.065300\n",
      "Series_Complete_5to17Pop_Pct_UR_Equity    -0.068122\n",
      "Series_Complete_65PlusPop_Pct_UR_Equity   -0.107478\n",
      "Booster_Doses_Vax_Pct_SVI                 -0.110973\n",
      "weekend                                   -0.118560\n",
      "Booster_Doses_12PlusVax_Pct_SVI           -0.121257\n",
      "Booster_Doses_65PlusVax_Pct_SVI           -0.124198\n",
      "Series_Complete_5to17Pop_Pct_SVI          -0.135288\n",
      "Booster_Doses_18PlusVax_Pct_SVI           -0.140651\n",
      "Series_Complete_65PlusPop_Pct_SVI         -0.150342\n",
      "vax_announcement                          -0.167408\n",
      "holiday_season                            -0.212523\n",
      "Series_Complete_18PlusPop_Pct_SVI         -0.229049\n",
      "Series_Complete_12PlusPop_Pct_SVI         -0.234006\n",
      "Series_Complete_Pop_Pct_SVI               -0.234367\n",
      "Series_Complete_5PlusPop_Pct_SVI          -0.235051\n",
      "Series_Complete_18PlusPop_Pct_UR_Equity   -0.261207\n",
      "Series_Complete_12PlusPop_Pct_UR_Equity   -0.274094\n",
      "Series_Complete_5PlusPop_Pct_UR_Equity    -0.274788\n",
      "Series_Complete_Pop_Pct_UR_Equity         -0.285546\n",
      "Name: Booster_Doses_Vax_Pct, dtype: float64\n"
     ]
    }
   ],
   "source": [
    "# Calculate the correlation matrix\n",
    "correlation_matrix = df.corr()\n",
    "\n",
    "# Get the correlation scores for the predictive variable 'TargetVariable'\n",
    "correlation_scores = correlation_matrix[pred_var].sort_values(ascending=False)\n",
    "\n",
    "\n",
    "print(correlation_scores)"
   ]
  },
  {
   "cell_type": "markdown",
   "id": "4028fa74",
   "metadata": {},
   "source": [
    "## Null Values"
   ]
  },
  {
   "cell_type": "code",
   "execution_count": 68,
   "id": "aec575e5",
   "metadata": {},
   "outputs": [
    {
     "data": {
      "text/plain": [
       "Administered_Dose1_Pop_Pct                   140\n",
       "Administered_Dose1_Recip_5PlusPop_Pct      37218\n",
       "Administered_Dose1_Recip_12PlusPop_Pct       140\n",
       "Administered_Dose1_Recip_18PlusPop_Pct       140\n",
       "Administered_Dose1_Recip_65PlusPop_Pct       140\n",
       "Series_Complete_Pop_Pct                      140\n",
       "Series_Complete_5PlusPop_Pct               37218\n",
       "Series_Complete_5to17Pop_Pct               48128\n",
       "Series_Complete_12PlusPop_Pct                140\n",
       "Series_Complete_18PlusPop_Pct                140\n",
       "Series_Complete_65PlusPop_Pct                140\n",
       "Booster_Doses_Vax_Pct                      37799\n",
       "Booster_Doses_5Plus_Vax_Pct                56957\n",
       "Booster_Doses_12Plus_Vax_Pct               42228\n",
       "Booster_Doses_18Plus_Vax_Pct               37799\n",
       "Booster_Doses_50Plus_Vax_Pct               37799\n",
       "Booster_Doses_65Plus_Vax_Pct               37799\n",
       "Second_Booster_50Plus_Vax_Pct              57266\n",
       "Second_Booster_65Plus_Vax_Pct              57266\n",
       "SVI_CTGY                                     596\n",
       "Series_Complete_Pop_Pct_SVI                 4118\n",
       "Series_Complete_5PlusPop_Pct_SVI           37316\n",
       "Series_Complete_5to17Pop_Pct_SVI           48128\n",
       "Series_Complete_12PlusPop_Pct_SVI           4118\n",
       "Series_Complete_18PlusPop_Pct_SVI           4118\n",
       "Series_Complete_65PlusPop_Pct_SVI           4118\n",
       "Metro_status                                 596\n",
       "Series_Complete_Pop_Pct_UR_Equity           4147\n",
       "Series_Complete_5PlusPop_Pct_UR_Equity     37316\n",
       "Series_Complete_5to17Pop_Pct_UR_Equity     48128\n",
       "Series_Complete_12PlusPop_Pct_UR_Equity     4145\n",
       "Series_Complete_18PlusPop_Pct_UR_Equity     4144\n",
       "Series_Complete_65PlusPop_Pct_UR_Equity     4152\n",
       "Booster_Doses_Vax_Pct_SVI                  48128\n",
       "Booster_Doses_12PlusVax_Pct_SVI            48128\n",
       "Booster_Doses_18PlusVax_Pct_SVI            48128\n",
       "Booster_Doses_65PlusVax_Pct_SVI            48128\n",
       "Booster_Doses_Vax_Pct_UR_Equity            48128\n",
       "Booster_Doses_12PlusVax_Pct_UR_Equity      48128\n",
       "Booster_Doses_18PlusVax_Pct_UR_Equity      48128\n",
       "Booster_Doses_65PlusVax_Pct_UR_Equity      48128\n",
       "Census2019                                   596\n",
       "Census2019_5PlusPop                        37316\n",
       "Census2019_5to17Pop                        48128\n",
       "Census2019_12PlusPop                         596\n",
       "Census2019_18PlusPop                         596\n",
       "Census2019_65PlusPop                       40070\n",
       "Bivalent_Booster_5Plus_Pop_Pct             58940\n",
       "Bivalent_Booster_12Plus_Pop_Pct            58940\n",
       "Bivalent_Booster_18Plus_Pop_Pct            58940\n",
       "Bivalent_Booster_65Plus_Pop_Pct            58940\n",
       "dtype: int64"
      ]
     },
     "execution_count": 68,
     "metadata": {},
     "output_type": "execute_result"
    }
   ],
   "source": [
    "null = df.isna().sum()\n",
    "\n",
    "null[null>0]"
   ]
  },
  {
   "cell_type": "code",
   "execution_count": 62,
   "id": "d9118764",
   "metadata": {},
   "outputs": [],
   "source": [
    "# finding non-numeric columns\n",
    "non_numeric_columns = df.select_dtypes(exclude=['number'])\n",
    "#print(non_numeric_columns)"
   ]
  },
  {
   "cell_type": "code",
   "execution_count": 70,
   "id": "2df32d7b",
   "metadata": {},
   "outputs": [],
   "source": [
    "# Next, we wanted used VIF to see if any of the variables have a high linear correlation\n",
    "X = df.loc[:, df.columns != pred_var]\n",
    "X = X.drop(columns = ['Recip_County', 'Recip_State', 'Date', 'day_of_week', 'weekend', 'season', \n",
    "                      'holiday_season', 'vax_announcement', 'SVI_CTGY', 'Metro_status']) #dropping non-numeric columns\n",
    "#X.columns[1:]\n",
    "\n",
    "#from statsmodels.stats.outliers_influence import variance_inflation_factor\n",
    "#from statsmodels.tools.tools import add_constant\n",
    "\n",
    "#X = add_constant(X)\n",
    "#vif_data = pd.DataFrame()\n",
    "#vif_data[\"feature\"] = X.columns\n",
    "\n",
    "#for i in range(len(X.columns)):\n",
    "   # vif_data.loc[i,'VIF'] = variance_inflation_factor(X.values, i)\n",
    "\n",
    "#vif_data # all of the variables (except const) have VIF values of less than 5, indicating a small amount of collinearity"
   ]
  },
  {
   "cell_type": "code",
   "execution_count": null,
   "id": "2afb29e4",
   "metadata": {},
   "outputs": [],
   "source": []
  }
 ],
 "metadata": {
  "kernelspec": {
   "display_name": "Python 3 (ipykernel)",
   "language": "python",
   "name": "python3"
  },
  "language_info": {
   "codemirror_mode": {
    "name": "ipython",
    "version": 3
   },
   "file_extension": ".py",
   "mimetype": "text/x-python",
   "name": "python",
   "nbconvert_exporter": "python",
   "pygments_lexer": "ipython3",
   "version": "3.9.7"
  }
 },
 "nbformat": 4,
 "nbformat_minor": 5
}
