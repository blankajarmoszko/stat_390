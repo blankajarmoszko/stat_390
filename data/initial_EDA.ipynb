{
 "cells": [
  {
   "cell_type": "markdown",
   "id": "ac0fa1f5",
   "metadata": {},
   "source": [
    "# Initial EDA"
   ]
  },
  {
   "cell_type": "code",
   "execution_count": 1,
   "id": "7a70b53e",
   "metadata": {},
   "outputs": [],
   "source": [
    "# Importing packages\n",
    "import pandas as pd\n",
    "import datetime"
   ]
  },
  {
   "cell_type": "markdown",
   "id": "e6d1edb8",
   "metadata": {},
   "source": [
    "## Creating new columns\n",
    "### Adding day-of-the-week column"
   ]
  },
  {
   "cell_type": "code",
   "execution_count": 2,
   "id": "44f53559",
   "metadata": {},
   "outputs": [],
   "source": [
    "# Loading data\n",
    "df = pd.read_csv('initial_data.csv')\n",
    "\n",
    "# Converting Date column to datetime object\n",
    "df['Date'] = pd.to_datetime(df['Date'])\n",
    "\n",
    "# Creating day of the week column\n",
    "df['day_of_week'] = df['Date'].dt.day_name()"
   ]
  },
  {
   "cell_type": "markdown",
   "id": "ba8e3e63",
   "metadata": {},
   "source": [
    "### Adding weekend Boolean column"
   ]
  },
  {
   "cell_type": "code",
   "execution_count": 3,
   "id": "5377534e",
   "metadata": {},
   "outputs": [],
   "source": [
    "# Define the function to find weekend values\n",
    "def weekend(dow):\n",
    "    if dow == 'Saturday' or dow == 'Sunday':\n",
    "        return True\n",
    "    else:\n",
    "        return False\n",
    "    \n",
    "# Apply the function to the Age column using the apply() function\n",
    "df['weekend'] = df['day_of_week'].apply(weekend)"
   ]
  },
  {
   "cell_type": "markdown",
   "id": "8d845e92",
   "metadata": {},
   "source": [
    "### Adding season column"
   ]
  },
  {
   "cell_type": "code",
   "execution_count": 4,
   "id": "5010d45f",
   "metadata": {},
   "outputs": [],
   "source": [
    "# Defining function to identify season\n",
    "def get_season(date):\n",
    "    month = date.month\n",
    "    day = date.day\n",
    "    if month in [3, 4, 5]:\n",
    "        season = 'spring'\n",
    "    elif month in [6, 7, 8]:\n",
    "        season = 'summer'\n",
    "    elif month in [9, 10, 11]:\n",
    "        season = 'fall'\n",
    "    else:\n",
    "        season = 'winter'\n",
    "    \n",
    "\n",
    "    if month == 3 and day < 20:\n",
    "        season = 'winter'\n",
    "    elif month == 6 and day < 21:\n",
    "        season = 'spring'\n",
    "    elif month == 9 and day < 22:\n",
    "        season = 'summer'\n",
    "    elif month == 12 and day < 21:\n",
    "        season = 'fall'\n",
    "    \n",
    "    return season\n",
    "\n",
    "# Applying function and creating season column\n",
    "df['season'] = df['Date'].apply(get_season)"
   ]
  },
  {
   "cell_type": "markdown",
   "id": "ec68c72f",
   "metadata": {},
   "source": [
    "### Adding holiday season column"
   ]
  },
  {
   "cell_type": "code",
   "execution_count": 5,
   "id": "de04aa11",
   "metadata": {},
   "outputs": [],
   "source": [
    "# Define function to find some major holiday values \n",
    "def is_holiday_season(date):\n",
    "    holidays = [\n",
    "        datetime.date(date.year, 1, 1),   # New Year's Day\n",
    "        datetime.date(date.year, 7, 4),   # Independence Day\n",
    "        datetime.date(date.year, 12, 25), # Christmas Day\n",
    "        datetime.date(date.year, 11, 4) + datetime.timedelta(weeks=3, days=3),  # Thanksgiving Day: 4th Thursday of November\n",
    "        datetime.date(date.year, 5, 31) - datetime.timedelta(days=(datetime.date(date.year, 5, 31).weekday() + 1) % 7),  # Memorial Day: last Monday of May\n",
    "        datetime.date(date.year, 9, 1) + datetime.timedelta(days=7-datetime.date(date.year, 9, 1).weekday()),  # Labor Day: first Monday of September\n",
    "        datetime.date(date.year, 11, 11),  # Veteran's Day\n",
    "        datetime.date(date.year, 1, 15) + datetime.timedelta(days=1-datetime.date(date.year, 1, 15).weekday())  # MLK Day: third Monday of January\n",
    "    ]\n",
    "    \n",
    "    # Adding a three day buffer area around each holiday to create a \"holiday season\"\n",
    "    for holiday in holidays:\n",
    "        if (date.date() - datetime.timedelta(days=3)) <= holiday <= (date.date() + datetime.timedelta(days=3)):\n",
    "            return True\n",
    "    \n",
    "    return False\n",
    "\n",
    "# Create holiday season column\n",
    "df['holiday_season'] = df['Date'].apply(is_holiday_season)"
   ]
  },
  {
   "cell_type": "markdown",
   "id": "53526db0",
   "metadata": {},
   "source": [
    "### Vaccine Announcement Column"
   ]
  },
  {
   "cell_type": "code",
   "execution_count": 6,
   "id": "d1691579",
   "metadata": {},
   "outputs": [],
   "source": [
    "# Define a list of unique announcement dates\n",
    "announcement_dates = [\n",
    "    \"04/28/2023\", \"04/27/2023\", \"04/18/2023\", \"03/14/2023\", \"03/10/2023\",\n",
    "    \"12/16/2022\", \"12/08/2022\", \"10/21/2022\", \"10/12/2022\", \"09/13/2022\",\n",
    "    \"08/31/2022\", \"08/26/2022\", \"08/19/2022\", \"07/13/2022\", \"07/08/2022\",\n",
    "    \"06/30/2022\", \"06/17/2022\", \"05/17/2022\", \"05/05/2022\", \"04/29/2022\",\n",
    "    \"04/15/2022\", \"04/01/2022\", \"03/29/2022\", \"03/21/2022\", \"03/11/2022\",\n",
    "    \"02/11/2022\", \"02/01/2022\", \"01/31/2022\", \"01/11/2022\", \"01/07/2022\",\n",
    "    \"01/03/2022\", \"12/17/2021\", \"12/14/2021\", \"12/09/2021\", \"11/30/2021\",\n",
    "    \"11/19/2021\", \"10/29/2021\", \"10/26/2021\", \"10/22/2021\", \"10/20/2021\",\n",
    "    \"10/14/2021\", \"10/01/2021\", \"09/24/2021\", \"09/22/2021\", \"09/20/2021\",\n",
    "    \"09/17/2021\", \"09/10/2021\", \"09/02/2021\", \"09/01/2021\", \"08/24/2021\",\n",
    "    \"08/23/2021\", \"08/18/2021\", \"08/13/2021\", \"08/12/2021\", \"08/06/2021\",\n",
    "    \"08/03/2021\", \"07/30/2021\", \"07/16/2021\", \"07/13/2021\", \"07/08/2021\",\n",
    "    \"07/06/2021\", \"07/02/2021\", \"06/29/2021\", \"06/25/2021\", \"06/15/2021\",\n",
    "    \"06/11/2021\", \"06/10/2021\", \"05/25/2021\", \"05/19/2021\", \"05/11/2021\",\n",
    "    \"05/10/2021\", \"04/27/2021\", \"04/23/2021\", \"04/21/2021\", \"04/16/2021\",\n",
    "    \"04/13/2021\", \"04/12/2021\", \"04/01/2021\", \"03/26/2021\", \"03/24/2021\",\n",
    "    \"03/17/2021\", \"03/05/2021\", \"03/02/2021\", \"02/27/2021\", \"02/26/2021\",\n",
    "    \"02/25/2021\", \"02/23/2021\", \"02/22/2021\", \"02/12/2021\", \"02/05/2021\",\n",
    "    \"02/04/2021\", \"01/29/2021\", \"01/14/2021\", \"01/04/2021\", \"12/28/2020\",\n",
    "    \"12/22/2020\", \"12/21/2020\", \"12/18/2020\", \"12/17/2020\", \"12/14/2020\", \"12/12/2020\"\n",
    "]\n",
    "\n",
    "# Convert to datetime and deduplicate\n",
    "announcement_dates = list(set([pd.to_datetime(date) for date in announcement_dates]))\n",
    "\n",
    "\n",
    "# Check if the date in the dataset is within a week of any announcement dates\n",
    "def near_announcement(date):\n",
    "    for announcement in announcement_dates:\n",
    "        if announcement <= date <= (announcement + pd.Timedelta(days=7)):\n",
    "            return True\n",
    "    return False\n",
    "\n",
    "# Create the 'vax_announcement' column\n",
    "df['vax_announcement'] = df['Date'].apply(near_announcement)\n"
   ]
  }
 ],
 "metadata": {
  "kernelspec": {
   "display_name": "Python 3 (ipykernel)",
   "language": "python",
   "name": "python3"
  },
  "language_info": {
   "codemirror_mode": {
    "name": "ipython",
    "version": 3
   },
   "file_extension": ".py",
   "mimetype": "text/x-python",
   "name": "python",
   "nbconvert_exporter": "python",
   "pygments_lexer": "ipython3",
   "version": "3.9.12"
  }
 },
 "nbformat": 4,
 "nbformat_minor": 5
}
