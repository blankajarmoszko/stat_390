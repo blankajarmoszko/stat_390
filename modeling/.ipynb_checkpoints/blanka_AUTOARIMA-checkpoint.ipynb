{
 "cells": [
  {
   "cell_type": "code",
   "execution_count": 1,
   "id": "920013bb",
   "metadata": {},
   "outputs": [
    {
     "name": "stderr",
     "output_type": "stream",
     "text": [
      "/Users/blankajarmoszko/opt/anaconda3/lib/python3.9/site-packages/scipy/__init__.py:146: UserWarning: A NumPy version >=1.16.5 and <1.23.0 is required for this version of SciPy (detected version 1.26.2\n",
      "  warnings.warn(f\"A NumPy version >={np_minversion} and <{np_maxversion}\"\n"
     ]
    }
   ],
   "source": [
    "# import packages\n",
    "import pandas as pd\n",
    "import numpy as np\n",
    "import matplotlib.pyplot as plt\n",
    "from statsmodels.tsa.arima.model import ARIMA\n",
    "from sklearn.metrics import mean_squared_error\n",
    "from math import sqrt\n",
    "from sklearn.preprocessing import MinMaxScaler"
   ]
  },
  {
   "cell_type": "code",
   "execution_count": 2,
   "id": "3a65dc87",
   "metadata": {},
   "outputs": [],
   "source": [
    "from pmdarima import auto_arima"
   ]
  },
  {
   "cell_type": "markdown",
   "id": "7f4af35f",
   "metadata": {},
   "source": [
    "## Data Preparation for ARIMA models"
   ]
  },
  {
   "cell_type": "code",
   "execution_count": 3,
   "id": "16c59db6",
   "metadata": {},
   "outputs": [],
   "source": [
    "pred_var = 'Additional_Doses_Vax_Pct'\n",
    " \n",
    "df = pd.read_csv('df_post_eda.csv') \n",
    "\n",
    "df['Date'] = pd.to_datetime(df['Date'])\n",
    "df = df.groupby('Date')[pred_var].mean()\n",
    "\n",
    "#subset data to be only dates and predictin variable values\n",
    "data = pd.DataFrame(df)\n",
    "\n",
    "# resambpling to weekly datetime to prevent convergence warnings\n",
    "data = data.resample('W').sum()\n",
    "\n",
    "min_max_scaler = MinMaxScaler(feature_range=(0, 1))\n",
    "data = pd.DataFrame(min_max_scaler.fit_transform(data), columns=data.columns, index=df.index)"
   ]
  },
  {
   "cell_type": "code",
   "execution_count": 4,
   "id": "6020bdad",
   "metadata": {},
   "outputs": [
    {
     "data": {
      "text/html": [
       "<div>\n",
       "<style scoped>\n",
       "    .dataframe tbody tr th:only-of-type {\n",
       "        vertical-align: middle;\n",
       "    }\n",
       "\n",
       "    .dataframe tbody tr th {\n",
       "        vertical-align: top;\n",
       "    }\n",
       "\n",
       "    .dataframe thead th {\n",
       "        text-align: right;\n",
       "    }\n",
       "</style>\n",
       "<table border=\"1\" class=\"dataframe\">\n",
       "  <thead>\n",
       "    <tr style=\"text-align: right;\">\n",
       "      <th></th>\n",
       "      <th>Additional_Doses_Vax_Pct</th>\n",
       "    </tr>\n",
       "    <tr>\n",
       "      <th>Date</th>\n",
       "      <th></th>\n",
       "    </tr>\n",
       "  </thead>\n",
       "  <tbody>\n",
       "    <tr>\n",
       "      <th>2021-11-03</th>\n",
       "      <td>0.000000</td>\n",
       "    </tr>\n",
       "    <tr>\n",
       "      <th>2021-11-10</th>\n",
       "      <td>0.070026</td>\n",
       "    </tr>\n",
       "    <tr>\n",
       "      <th>2021-11-17</th>\n",
       "      <td>0.135949</td>\n",
       "    </tr>\n",
       "    <tr>\n",
       "      <th>2021-11-24</th>\n",
       "      <td>0.204748</td>\n",
       "    </tr>\n",
       "    <tr>\n",
       "      <th>2021-12-01</th>\n",
       "      <td>0.254180</td>\n",
       "    </tr>\n",
       "  </tbody>\n",
       "</table>\n",
       "</div>"
      ],
      "text/plain": [
       "            Additional_Doses_Vax_Pct\n",
       "Date                                \n",
       "2021-11-03                  0.000000\n",
       "2021-11-10                  0.070026\n",
       "2021-11-17                  0.135949\n",
       "2021-11-24                  0.204748\n",
       "2021-12-01                  0.254180"
      ]
     },
     "execution_count": 4,
     "metadata": {},
     "output_type": "execute_result"
    }
   ],
   "source": [
    "data.head()"
   ]
  },
  {
   "cell_type": "markdown",
   "id": "2847fb1e",
   "metadata": {},
   "source": [
    "## AUTOARIMA MODEL"
   ]
  },
  {
   "cell_type": "code",
   "execution_count": 5,
   "id": "ce667a22",
   "metadata": {},
   "outputs": [],
   "source": [
    "# Split data into test and train\n",
    "\n",
    "split_date = int(len(data) * 0.8)\n",
    "data = data.sort_index(ascending=True)\n",
    "\n",
    "# Split the data\n",
    "train_data = data.iloc[:split_date]\n",
    "test_data = data.iloc[split_date:]"
   ]
  },
  {
   "cell_type": "markdown",
   "id": "15f5c717",
   "metadata": {},
   "source": [
    "AUTOARIMA model tunnig findings: seasonal did not change anything "
   ]
  },
  {
   "cell_type": "code",
   "execution_count": 37,
   "id": "0466d9f2",
   "metadata": {},
   "outputs": [
    {
     "data": {
      "image/png": "[encoded data removed]",
      "text/plain": [
       "<Figure size 864x432 with 1 Axes>"
      ]
     },
     "metadata": {
      "needs_background": "light"
     },
     "output_type": "display_data"
    },
    {
     "name": "stdout",
     "output_type": "stream",
     "text": [
      "RMSE on test data: 0.06646521684049636\n"
     ]
    }
   ],
   "source": [
    "# base model\n",
    "# Fit Auto ARIMA model on the training set\n",
    "model = auto_arima(train_data['Additional_Doses_Vax_Pct'])\n",
    "model.fit(train_data['Additional_Doses_Vax_Pct'])\n",
    "\n",
    "# Forecast future values on the test set\n",
    "future_forecast = model.predict(n_periods=len(test_data), alpha=0.05)\n",
    "\n",
    "# Plotting the results\n",
    "plt.figure(figsize=(12, 6))\n",
    "plt.plot(train_data.index, train_data['Additional_Doses_Vax_Pct'], label='Train')\n",
    "plt.plot(test_data.index, test_data['Additional_Doses_Vax_Pct'], label='Actual Test')\n",
    "plt.plot(test_data.index, future_forecast, label='Forecast')\n",
    "#plt.fill_between(test_data.index, conf_int[:, 0], conf_int[:, 1], color='gray', alpha=0.2, label='Confidence Interval')\n",
    "plt.xlabel('Date')\n",
    "plt.ylabel('Additional_Doses_Vax_Pct')\n",
    "plt.legend()\n",
    "plt.title('AUTO ARIMA Forecast vs. Actual Data')\n",
    "plt.show()\n",
    "\n",
    "# Calculate RMSE on the test set\n",
    "rmse = sqrt(mean_squared_error(test_data['Additional_Doses_Vax_Pct'], future_forecast))\n",
    "print(f'RMSE on test data: {rmse}')\n"
   ]
  },
  {
   "cell_type": "markdown",
   "id": "60bd9b6d",
   "metadata": {},
   "source": [
    "The auto_arima function in the pmdarima library has several parameters that you can use to customize the behavior of the auto ARIMA model. Here is a list of some key parameters:\n",
    "\n",
    "y (array-like): The time-series data to which to fit the ARIMA model.\n",
    "exogenous (array-like or pd.DataFrame, optional): Exogenous variables to include in the model. This can be a DataFrame or an array-like object.\n",
    "\n",
    "start_p (int, optional): The starting value of the p parameter (order of the AR component).\n",
    "\n",
    "d (int or None, optional): The order of differencing. If set to None, it will automatically be determined.\n",
    "\n",
    "start_q (int, optional): The starting value of the q parameter (order of the MA component).\n",
    "\n",
    "max_p (int, optional): The maximum value of the p parameter to search.\n",
    "\n",
    "max_d (int or None, optional): The maximum value of the d parameter to search.\n",
    "\n",
    "max_q (int, optional): The maximum value of the q parameter to search.\n",
    "\n",
    "start_P (int, optional): The starting value of the P parameter for seasonal components.\n",
    "\n",
    "D (int or None, optional): The order of seasonal differencing. If set to None, it will automatically be determined.\n",
    "\n",
    "start_Q (int, optional): The starting value of the Q parameter for seasonal components.\n",
    "\n",
    "max_P (int, optional): The maximum value of the P parameter for seasonal components.\n",
    "\n",
    "max_D (int or None, optional): The maximum value of the D parameter for seasonal components.\n",
    "\n",
    "max_Q (int, optional): The maximum value of the Q parameter for seasonal components.\n",
    "\n",
    "seasonal (bool, optional): Whether to include seasonal components.\n",
    "\n",
    "m (int, optional): The number of periods in a season. This parameter is required if seasonal=True.\n",
    "\n",
    "stepwise (bool, optional): Whether to use the stepwise algorithm to search for the best model.\n",
    "\n",
    "n_jobs (int, optional): The number of parallel jobs to run. Set to -1 to use all available CPUs.\n",
    "\n",
    "information_criterion (str, optional): The information criterion to minimize. Options include 'aic', 'aicc', 'bic', and 'hqic'.\n",
    "\n",
    "alpha (float, optional): The significance level for the stepwise algorithm. The default is 0.05.\n",
    "\n",
    "test (str, optional): The statistical test to use for the stepwise algorithm. Options include 'kpss' and 'adf'.\n",
    "\n",
    "seasonal_test (str, optional): The statistical test to use for determining seasonality. Options include 'ocsb', 'ch', 'adf', and 'heinrich'.\n",
    "\n",
    "stepwise (bool, optional): Whether to use the stepwise algorithm to search for the best model.\n",
    "\n",
    "trace (bool or int, optional): Whether to print debugging information during the search. If trace is an integer, it controls the level of debugging information.\n",
    "\n",
    "suppress_warnings (bool, optional): Whether to suppress warnings during the search.\n",
    "\n",
    "error_action ('warn', 'raise', 'ignore'), optional): What to do if an exception occurs during fitting. Options include 'warn', 'raise', and 'ignore'.\n",
    "\n",
    "trace (int or bool, optional): Whether to print debugging information during the search. If trace is an integer, it controls the level of debugging information."
   ]
  },
  {
   "cell_type": "code",
   "execution_count": 38,
   "id": "44b5a55d",
   "metadata": {},
   "outputs": [
    {
     "data": {
      "image/png": "[encoded data removed]",
      "text/plain": [
       "<Figure size 864x432 with 1 Axes>"
      ]
     },
     "metadata": {
      "needs_background": "light"
     },
     "output_type": "display_data"
    },
    {
     "name": "stdout",
     "output_type": "stream",
     "text": [
      "RMSE on test data: 0.06646521684049636\n"
     ]
    }
   ],
   "source": [
    "# with seasonal\n",
    "# Fit Auto ARIMA model on the training set\n",
    "model = auto_arima(train_data['Additional_Doses_Vax_Pct'], seasonal = True)\n",
    "model.fit(train_data['Additional_Doses_Vax_Pct'])\n",
    "\n",
    "# Forecast future values on the test set\n",
    "future_forecast = model.predict(n_periods=len(test_data), alpha=0.05)\n",
    "\n",
    "# Plotting the results\n",
    "plt.figure(figsize=(12, 6))\n",
    "plt.plot(train_data.index, train_data['Additional_Doses_Vax_Pct'], label='Train')\n",
    "plt.plot(test_data.index, test_data['Additional_Doses_Vax_Pct'], label='Actual Test')\n",
    "plt.plot(test_data.index, future_forecast, label='Forecast')\n",
    "#plt.fill_between(test_data.index, conf_int[:, 0], conf_int[:, 1], color='gray', alpha=0.2, label='Confidence Interval')\n",
    "plt.xlabel('Date')\n",
    "plt.ylabel('Additional_Doses_Vax_Pct')\n",
    "plt.legend()\n",
    "plt.show()\n",
    "\n",
    "# Calculate RMSE on the test set\n",
    "rmse = sqrt(mean_squared_error(test_data['Additional_Doses_Vax_Pct'], future_forecast))\n",
    "print(f'RMSE on test data: {rmse}')"
   ]
  },
  {
   "cell_type": "code",
   "execution_count": 39,
   "id": "9dfac124",
   "metadata": {},
   "outputs": [
    {
     "data": {
      "image/png": "[encoded data removed]",
      "text/plain": [
       "<Figure size 864x432 with 1 Axes>"
      ]
     },
     "metadata": {
      "needs_background": "light"
     },
     "output_type": "display_data"
    },
    {
     "name": "stdout",
     "output_type": "stream",
     "text": [
      "RMSE on test data: 0.05298804037490908\n"
     ]
    }
   ],
   "source": [
    "# base model\n",
    "# Fit Auto ARIMA model on the training set\n",
    "model = auto_arima(train_data['Additional_Doses_Vax_Pct'], m =12)\n",
    "model.fit(train_data['Additional_Doses_Vax_Pct'])\n",
    "\n",
    "# Forecast future values on the test set\n",
    "future_forecast = model.predict(n_periods=len(test_data), alpha=0.05)\n",
    "\n",
    "# Plotting the results\n",
    "plt.figure(figsize=(12, 6))\n",
    "plt.plot(train_data.index, train_data['Additional_Doses_Vax_Pct'], label='Train')\n",
    "plt.plot(test_data.index, test_data['Additional_Doses_Vax_Pct'], label='Actual Test')\n",
    "plt.plot(test_data.index, future_forecast, label='Forecast')\n",
    "#plt.fill_between(test_data.index, conf_int[:, 0], conf_int[:, 1], color='gray', alpha=0.2, label='Confidence Interval')\n",
    "plt.xlabel('Date')\n",
    "plt.ylabel('Additional_Doses_Vax_Pct')\n",
    "plt.legend()\n",
    "plt.show()\n",
    "\n",
    "# Calculate RMSE on the test set\n",
    "rmse = sqrt(mean_squared_error(test_data['Additional_Doses_Vax_Pct'], future_forecast))\n",
    "print(f'RMSE on test data: {rmse}')"
   ]
  },
  {
   "cell_type": "code",
   "execution_count": null,
   "id": "773b371a",
   "metadata": {},
   "outputs": [],
   "source": [
    "## tunning AUTO ARIMA"
   ]
  },
  {
   "cell_type": "code",
   "execution_count": 57,
   "id": "9afb2018",
   "metadata": {},
   "outputs": [],
   "source": [
    "# Create lag variables and merge them with the original DataFrame\n",
    "for i in range(1, 4):  # You can adjust the number of lags\n",
    "    data[f'lag_{i}'] = data['Additional_Doses_Vax_Pct'].shift(i)\n",
    "\n",
    "# Drop NaN values resulting from the lag operation\n",
    "data = data.dropna()\n",
    "\n",
    "# Split the data into training and testing sets\n",
    "train_size = int(len(data) * 0.8)\n",
    "train_data, test_data = data[:train_size], data[train_size:]\n",
    "\n",
    "# Define exogenous variables (lag variables)\n",
    "exogenous_cols = [col for col in data.columns if col.startswith('lag_')]\n",
    "exogenous_train = train_data[exogenous_cols]\n",
    "exogenous_test = test_data[exogenous_cols]"
   ]
  },
  {
   "cell_type": "code",
   "execution_count": 58,
   "id": "64dcb24a",
   "metadata": {},
   "outputs": [
    {
     "data": {
      "image/png": "[encoded data removed]",
      "text/plain": [
       "<Figure size 864x432 with 1 Axes>"
      ]
     },
     "metadata": {
      "needs_background": "light"
     },
     "output_type": "display_data"
    },
    {
     "name": "stdout",
     "output_type": "stream",
     "text": [
      "RMSE on test data: 0.0067169224987920695\n"
     ]
    }
   ],
   "source": [
    "# Fit Auto ARIMA model with exogenous variables\n",
    "model = auto_arima(train_data['Additional_Doses_Vax_Pct'], exogenous=exogenous_train, m=12)\n",
    "model.fit(train_data['Additional_Doses_Vax_Pct'], exogenous=exogenous_train)\n",
    "\n",
    "# Forecast future values on the test set\n",
    "future_forecast, conf_int = model.predict(n_periods=len(test_data), exogenous=exogenous_test, return_conf_int=True)\n",
    "\n",
    "# Plotting the results\n",
    "plt.figure(figsize=(12, 6))\n",
    "plt.plot(train_data.index, train_data['Additional_Doses_Vax_Pct'], label='Train')\n",
    "plt.plot(test_data.index, test_data['Additional_Doses_Vax_Pct'], label='Actual Test')\n",
    "plt.plot(test_data.index, future_forecast, label='Forecast')\n",
    "plt.xlabel('Date')\n",
    "plt.ylabel('Additional_Doses_Vax_Pct')\n",
    "plt.title('ARIMA Forecast vs. Actual Data w/ Lag')\n",
    "plt.legend()\n",
    "plt.show()\n",
    "\n",
    "# Calculate RMSE on the test set\n",
    "rmse = sqrt(mean_squared_error(test_data['Additional_Doses_Vax_Pct'], future_forecast))\n",
    "print(f'RMSE on test data: {rmse}')\n"
   ]
  },
  {
   "cell_type": "code",
   "execution_count": null,
   "id": "3e311b43",
   "metadata": {},
   "outputs": [],
   "source": [
    "# sarimax hyperparam tunning"
   ]
  },
  {
   "cell_type": "code",
   "execution_count": 69,
   "id": "fe451a08",
   "metadata": {},
   "outputs": [],
   "source": [
    "from statsmodels.tsa.statespace.sarimax import SARIMAX\n",
    "from sklearn.metrics import mean_squared_error\n",
    "from math import sqrt\n",
    "from itertools import product\n",
    "from tqdm import tqdm\n",
    "\n",
    "# Create lag variables and merge them with the original DataFrame\n",
    "for i in range(1, 4):  # You can adjust the number of lags\n",
    "    data[f'lag_{i}'] = data['Additional_Doses_Vax_Pct'].shift(i)\n",
    "\n",
    "# Drop NaN values resulting from the lag operation\n",
    "data = data.dropna()\n",
    "\n",
    "# Split the data into training and testing sets\n",
    "train_size = int(len(data) * 0.8)\n",
    "train_data, test_data = data[:train_size], data[train_size:]\n",
    "\n",
    "# Define exogenous variables (lag variables)\n",
    "exogenous_cols = [col for col in data.columns if col.startswith('lag_')]\n",
    "exogenous_train = train_data[exogenous_cols]\n",
    "exogenous_test = test_data[exogenous_cols]"
   ]
  },
  {
   "cell_type": "code",
   "execution_count": 73,
   "id": "5b819203",
   "metadata": {},
   "outputs": [
    {
     "data": {
      "text/html": [
       "<div>\n",
       "<style scoped>\n",
       "    .dataframe tbody tr th:only-of-type {\n",
       "        vertical-align: middle;\n",
       "    }\n",
       "\n",
       "    .dataframe tbody tr th {\n",
       "        vertical-align: top;\n",
       "    }\n",
       "\n",
       "    .dataframe thead th {\n",
       "        text-align: right;\n",
       "    }\n",
       "</style>\n",
       "<table border=\"1\" class=\"dataframe\">\n",
       "  <thead>\n",
       "    <tr style=\"text-align: right;\">\n",
       "      <th></th>\n",
       "      <th>Additional_Doses_Vax_Pct</th>\n",
       "      <th>lag_1</th>\n",
       "      <th>lag_2</th>\n",
       "      <th>lag_3</th>\n",
       "    </tr>\n",
       "    <tr>\n",
       "      <th>Date</th>\n",
       "      <th></th>\n",
       "      <th></th>\n",
       "      <th></th>\n",
       "      <th></th>\n",
       "    </tr>\n",
       "  </thead>\n",
       "  <tbody>\n",
       "    <tr>\n",
       "      <th>2021-11-24</th>\n",
       "      <td>0.204748</td>\n",
       "      <td>0.135949</td>\n",
       "      <td>0.070026</td>\n",
       "      <td>0.000000</td>\n",
       "    </tr>\n",
       "    <tr>\n",
       "      <th>2021-12-01</th>\n",
       "      <td>0.254180</td>\n",
       "      <td>0.204748</td>\n",
       "      <td>0.135949</td>\n",
       "      <td>0.070026</td>\n",
       "    </tr>\n",
       "    <tr>\n",
       "      <th>2021-12-08</th>\n",
       "      <td>0.328348</td>\n",
       "      <td>0.254180</td>\n",
       "      <td>0.204748</td>\n",
       "      <td>0.135949</td>\n",
       "    </tr>\n",
       "    <tr>\n",
       "      <th>2021-12-15</th>\n",
       "      <td>0.399026</td>\n",
       "      <td>0.328348</td>\n",
       "      <td>0.254180</td>\n",
       "      <td>0.204748</td>\n",
       "    </tr>\n",
       "    <tr>\n",
       "      <th>2021-12-22</th>\n",
       "      <td>0.465486</td>\n",
       "      <td>0.399026</td>\n",
       "      <td>0.328348</td>\n",
       "      <td>0.254180</td>\n",
       "    </tr>\n",
       "  </tbody>\n",
       "</table>\n",
       "</div>"
      ],
      "text/plain": [
       "            Additional_Doses_Vax_Pct     lag_1     lag_2     lag_3\n",
       "Date                                                              \n",
       "2021-11-24                  0.204748  0.135949  0.070026  0.000000\n",
       "2021-12-01                  0.254180  0.204748  0.135949  0.070026\n",
       "2021-12-08                  0.328348  0.254180  0.204748  0.135949\n",
       "2021-12-15                  0.399026  0.328348  0.254180  0.204748\n",
       "2021-12-22                  0.465486  0.399026  0.328348  0.254180"
      ]
     },
     "execution_count": 73,
     "metadata": {},
     "output_type": "execute_result"
    }
   ],
   "source": [
    "data.head()"
   ]
  },
  {
   "cell_type": "code",
   "execution_count": 71,
   "id": "7bd49f3a",
   "metadata": {},
   "outputs": [
    {
     "name": "stderr",
     "output_type": "stream",
     "text": [
      "  0%|                                                    | 0/64 [00:00<?, ?it/s]/Users/blankajarmoszko/opt/anaconda3/lib/python3.9/site-packages/statsmodels/tsa/base/tsa_model.py:473: ValueWarning: No frequency information was provided, so inferred frequency W-WED will be used.\n",
      "  self._init_dates(dates, freq)\n",
      "/Users/blankajarmoszko/opt/anaconda3/lib/python3.9/site-packages/statsmodels/tsa/base/tsa_model.py:473: ValueWarning: No frequency information was provided, so inferred frequency W-WED will be used.\n",
      "  self._init_dates(dates, freq)\n",
      "/Users/blankajarmoszko/opt/anaconda3/lib/python3.9/site-packages/statsmodels/tsa/base/tsa_model.py:473: ValueWarning: No frequency information was provided, so inferred frequency W-WED will be used.\n",
      "  self._init_dates(dates, freq)\n",
      "/Users/blankajarmoszko/opt/anaconda3/lib/python3.9/site-packages/statsmodels/tsa/base/tsa_model.py:473: ValueWarning: No frequency information was provided, so inferred frequency W-WED will be used.\n",
      "  self._init_dates(dates, freq)\n",
      "  3%|█▍                                          | 2/64 [00:00<00:03, 16.01it/s]/Users/blankajarmoszko/opt/anaconda3/lib/python3.9/site-packages/statsmodels/tsa/base/tsa_model.py:473: ValueWarning: No frequency information was provided, so inferred frequency W-WED will be used.\n",
      "  self._init_dates(dates, freq)\n",
      "/Users/blankajarmoszko/opt/anaconda3/lib/python3.9/site-packages/statsmodels/tsa/base/tsa_model.py:473: ValueWarning: No frequency information was provided, so inferred frequency W-WED will be used.\n",
      "  self._init_dates(dates, freq)\n",
      "/Users/blankajarmoszko/opt/anaconda3/lib/python3.9/site-packages/statsmodels/tsa/base/tsa_model.py:473: ValueWarning: No frequency information was provided, so inferred frequency W-WED will be used.\n",
      "  self._init_dates(dates, freq)\n",
      "/Users/blankajarmoszko/opt/anaconda3/lib/python3.9/site-packages/statsmodels/tsa/base/tsa_model.py:473: ValueWarning: No frequency information was provided, so inferred frequency W-WED will be used.\n",
      "  self._init_dates(dates, freq)\n",
      "  6%|██▊                                         | 4/64 [00:00<00:05, 10.19it/s]/Users/blankajarmoszko/opt/anaconda3/lib/python3.9/site-packages/statsmodels/tsa/base/tsa_model.py:473: ValueWarning: No frequency information was provided, so inferred frequency W-WED will be used.\n",
      "  self._init_dates(dates, freq)\n",
      "/Users/blankajarmoszko/opt/anaconda3/lib/python3.9/site-packages/statsmodels/tsa/base/tsa_model.py:473: ValueWarning: No frequency information was provided, so inferred frequency W-WED will be used.\n",
      "  self._init_dates(dates, freq)\n",
      "/Users/blankajarmoszko/opt/anaconda3/lib/python3.9/site-packages/statsmodels/tsa/base/tsa_model.py:473: ValueWarning: No frequency information was provided, so inferred frequency W-WED will be used.\n",
      "  self._init_dates(dates, freq)\n",
      "/Users/blankajarmoszko/opt/anaconda3/lib/python3.9/site-packages/statsmodels/tsa/base/tsa_model.py:473: ValueWarning: No frequency information was provided, so inferred frequency W-WED will be used.\n",
      "  self._init_dates(dates, freq)\n",
      "  9%|████▏                                       | 6/64 [00:00<00:05, 11.51it/s]/Users/blankajarmoszko/opt/anaconda3/lib/python3.9/site-packages/statsmodels/tsa/base/tsa_model.py:473: ValueWarning: No frequency information was provided, so inferred frequency W-WED will be used.\n",
      "  self._init_dates(dates, freq)\n",
      "/Users/blankajarmoszko/opt/anaconda3/lib/python3.9/site-packages/statsmodels/tsa/base/tsa_model.py:473: ValueWarning: No frequency information was provided, so inferred frequency W-WED will be used.\n",
      "  self._init_dates(dates, freq)\n",
      "/Users/blankajarmoszko/opt/anaconda3/lib/python3.9/site-packages/statsmodels/tsa/base/tsa_model.py:473: ValueWarning: No frequency information was provided, so inferred frequency W-WED will be used.\n",
      "  self._init_dates(dates, freq)\n",
      "/Users/blankajarmoszko/opt/anaconda3/lib/python3.9/site-packages/statsmodels/tsa/base/tsa_model.py:473: ValueWarning: No frequency information was provided, so inferred frequency W-WED will be used.\n",
      "  self._init_dates(dates, freq)\n",
      " 12%|█████▌                                      | 8/64 [00:01<00:10,  5.41it/s]/Users/blankajarmoszko/opt/anaconda3/lib/python3.9/site-packages/statsmodels/tsa/base/tsa_model.py:473: ValueWarning: No frequency information was provided, so inferred frequency W-WED will be used.\n",
      "  self._init_dates(dates, freq)\n",
      "/Users/blankajarmoszko/opt/anaconda3/lib/python3.9/site-packages/statsmodels/tsa/base/tsa_model.py:473: ValueWarning: No frequency information was provided, so inferred frequency W-WED will be used.\n",
      "  self._init_dates(dates, freq)\n",
      "/Users/blankajarmoszko/opt/anaconda3/lib/python3.9/site-packages/statsmodels/base/model.py:607: ConvergenceWarning: Maximum Likelihood optimization failed to converge. Check mle_retvals\n",
      "  warnings.warn(\"Maximum Likelihood optimization failed to \"\n",
      " 14%|██████▏                                     | 9/64 [00:01<00:09,  5.95it/s]/Users/blankajarmoszko/opt/anaconda3/lib/python3.9/site-packages/statsmodels/tsa/base/tsa_model.py:473: ValueWarning: No frequency information was provided, so inferred frequency W-WED will be used.\n",
      "  self._init_dates(dates, freq)\n",
      "/Users/blankajarmoszko/opt/anaconda3/lib/python3.9/site-packages/statsmodels/tsa/base/tsa_model.py:473: ValueWarning: No frequency information was provided, so inferred frequency W-WED will be used.\n",
      "  self._init_dates(dates, freq)\n",
      "/Users/blankajarmoszko/opt/anaconda3/lib/python3.9/site-packages/statsmodels/base/model.py:607: ConvergenceWarning: Maximum Likelihood optimization failed to converge. Check mle_retvals\n",
      "  warnings.warn(\"Maximum Likelihood optimization failed to \"\n",
      " 16%|██████▋                                    | 10/64 [00:01<00:09,  5.61it/s]/Users/blankajarmoszko/opt/anaconda3/lib/python3.9/site-packages/statsmodels/tsa/base/tsa_model.py:473: ValueWarning: No frequency information was provided, so inferred frequency W-WED will be used.\n",
      "  self._init_dates(dates, freq)\n",
      "/Users/blankajarmoszko/opt/anaconda3/lib/python3.9/site-packages/statsmodels/tsa/base/tsa_model.py:473: ValueWarning: No frequency information was provided, so inferred frequency W-WED will be used.\n",
      "  self._init_dates(dates, freq)\n",
      "/Users/blankajarmoszko/opt/anaconda3/lib/python3.9/site-packages/statsmodels/base/model.py:607: ConvergenceWarning: Maximum Likelihood optimization failed to converge. Check mle_retvals\n",
      "  warnings.warn(\"Maximum Likelihood optimization failed to \"\n",
      " 17%|███████▍                                   | 11/64 [00:01<00:09,  5.47it/s]/Users/blankajarmoszko/opt/anaconda3/lib/python3.9/site-packages/statsmodels/tsa/base/tsa_model.py:473: ValueWarning: No frequency information was provided, so inferred frequency W-WED will be used.\n",
      "  self._init_dates(dates, freq)\n",
      "/Users/blankajarmoszko/opt/anaconda3/lib/python3.9/site-packages/statsmodels/tsa/base/tsa_model.py:473: ValueWarning: No frequency information was provided, so inferred frequency W-WED will be used.\n",
      "  self._init_dates(dates, freq)\n",
      "/Users/blankajarmoszko/opt/anaconda3/lib/python3.9/site-packages/statsmodels/base/model.py:607: ConvergenceWarning: Maximum Likelihood optimization failed to converge. Check mle_retvals\n",
      "  warnings.warn(\"Maximum Likelihood optimization failed to \"\n",
      " 19%|████████                                   | 12/64 [00:02<00:14,  3.66it/s]/Users/blankajarmoszko/opt/anaconda3/lib/python3.9/site-packages/statsmodels/tsa/base/tsa_model.py:473: ValueWarning: No frequency information was provided, so inferred frequency W-WED will be used.\n",
      "  self._init_dates(dates, freq)\n",
      "/Users/blankajarmoszko/opt/anaconda3/lib/python3.9/site-packages/statsmodels/tsa/base/tsa_model.py:473: ValueWarning: No frequency information was provided, so inferred frequency W-WED will be used.\n",
      "  self._init_dates(dates, freq)\n",
      "/Users/blankajarmoszko/opt/anaconda3/lib/python3.9/site-packages/statsmodels/base/model.py:607: ConvergenceWarning: Maximum Likelihood optimization failed to converge. Check mle_retvals\n",
      "  warnings.warn(\"Maximum Likelihood optimization failed to \"\n",
      " 20%|████████▋                                  | 13/64 [00:02<00:11,  4.27it/s]/Users/blankajarmoszko/opt/anaconda3/lib/python3.9/site-packages/statsmodels/tsa/base/tsa_model.py:473: ValueWarning: No frequency information was provided, so inferred frequency W-WED will be used.\n",
      "  self._init_dates(dates, freq)\n",
      "/Users/blankajarmoszko/opt/anaconda3/lib/python3.9/site-packages/statsmodels/tsa/base/tsa_model.py:473: ValueWarning: No frequency information was provided, so inferred frequency W-WED will be used.\n",
      "  self._init_dates(dates, freq)\n"
     ]
    },
    {
     "name": "stderr",
     "output_type": "stream",
     "text": [
      " 22%|█████████▍                                 | 14/64 [00:02<00:10,  4.77it/s]/Users/blankajarmoszko/opt/anaconda3/lib/python3.9/site-packages/statsmodels/tsa/base/tsa_model.py:473: ValueWarning: No frequency information was provided, so inferred frequency W-WED will be used.\n",
      "  self._init_dates(dates, freq)\n",
      "/Users/blankajarmoszko/opt/anaconda3/lib/python3.9/site-packages/statsmodels/tsa/base/tsa_model.py:473: ValueWarning: No frequency information was provided, so inferred frequency W-WED will be used.\n",
      "  self._init_dates(dates, freq)\n",
      "/Users/blankajarmoszko/opt/anaconda3/lib/python3.9/site-packages/statsmodels/base/model.py:607: ConvergenceWarning: Maximum Likelihood optimization failed to converge. Check mle_retvals\n",
      "  warnings.warn(\"Maximum Likelihood optimization failed to \"\n",
      " 23%|██████████                                 | 15/64 [00:02<00:13,  3.57it/s]/Users/blankajarmoszko/opt/anaconda3/lib/python3.9/site-packages/statsmodels/tsa/base/tsa_model.py:473: ValueWarning: No frequency information was provided, so inferred frequency W-WED will be used.\n",
      "  self._init_dates(dates, freq)\n",
      "/Users/blankajarmoszko/opt/anaconda3/lib/python3.9/site-packages/statsmodels/tsa/base/tsa_model.py:473: ValueWarning: No frequency information was provided, so inferred frequency W-WED will be used.\n",
      "  self._init_dates(dates, freq)\n",
      "/Users/blankajarmoszko/opt/anaconda3/lib/python3.9/site-packages/statsmodels/base/model.py:607: ConvergenceWarning: Maximum Likelihood optimization failed to converge. Check mle_retvals\n",
      "  warnings.warn(\"Maximum Likelihood optimization failed to \"\n",
      " 25%|██████████▊                                | 16/64 [00:03<00:16,  2.98it/s]/Users/blankajarmoszko/opt/anaconda3/lib/python3.9/site-packages/statsmodels/tsa/base/tsa_model.py:473: ValueWarning: No frequency information was provided, so inferred frequency W-WED will be used.\n",
      "  self._init_dates(dates, freq)\n",
      "/Users/blankajarmoszko/opt/anaconda3/lib/python3.9/site-packages/statsmodels/tsa/base/tsa_model.py:473: ValueWarning: No frequency information was provided, so inferred frequency W-WED will be used.\n",
      "  self._init_dates(dates, freq)\n",
      "/Users/blankajarmoszko/opt/anaconda3/lib/python3.9/site-packages/statsmodels/tsa/base/tsa_model.py:473: ValueWarning: No frequency information was provided, so inferred frequency W-WED will be used.\n",
      "  self._init_dates(dates, freq)\n",
      "/Users/blankajarmoszko/opt/anaconda3/lib/python3.9/site-packages/statsmodels/tsa/base/tsa_model.py:473: ValueWarning: No frequency information was provided, so inferred frequency W-WED will be used.\n",
      "  self._init_dates(dates, freq)\n",
      "/Users/blankajarmoszko/opt/anaconda3/lib/python3.9/site-packages/statsmodels/base/model.py:607: ConvergenceWarning: Maximum Likelihood optimization failed to converge. Check mle_retvals\n",
      "  warnings.warn(\"Maximum Likelihood optimization failed to \"\n",
      " 28%|████████████                               | 18/64 [00:03<00:10,  4.37it/s]/Users/blankajarmoszko/opt/anaconda3/lib/python3.9/site-packages/statsmodels/tsa/base/tsa_model.py:473: ValueWarning: No frequency information was provided, so inferred frequency W-WED will be used.\n",
      "  self._init_dates(dates, freq)\n",
      "/Users/blankajarmoszko/opt/anaconda3/lib/python3.9/site-packages/statsmodels/tsa/base/tsa_model.py:473: ValueWarning: No frequency information was provided, so inferred frequency W-WED will be used.\n",
      "  self._init_dates(dates, freq)\n",
      "/Users/blankajarmoszko/opt/anaconda3/lib/python3.9/site-packages/statsmodels/tsa/base/tsa_model.py:473: ValueWarning: No frequency information was provided, so inferred frequency W-WED will be used.\n",
      "  self._init_dates(dates, freq)\n",
      "/Users/blankajarmoszko/opt/anaconda3/lib/python3.9/site-packages/statsmodels/tsa/base/tsa_model.py:473: ValueWarning: No frequency information was provided, so inferred frequency W-WED will be used.\n",
      "  self._init_dates(dates, freq)\n",
      "/Users/blankajarmoszko/opt/anaconda3/lib/python3.9/site-packages/statsmodels/tsa/statespace/sarimax.py:1009: UserWarning: Non-invertible starting seasonal moving average Using zeros as starting parameters.\n",
      "  warn('Non-invertible starting seasonal moving average'\n",
      " 31%|█████████████▍                             | 20/64 [00:03<00:08,  5.34it/s]/Users/blankajarmoszko/opt/anaconda3/lib/python3.9/site-packages/statsmodels/tsa/base/tsa_model.py:473: ValueWarning: No frequency information was provided, so inferred frequency W-WED will be used.\n",
      "  self._init_dates(dates, freq)\n",
      "/Users/blankajarmoszko/opt/anaconda3/lib/python3.9/site-packages/statsmodels/tsa/base/tsa_model.py:473: ValueWarning: No frequency information was provided, so inferred frequency W-WED will be used.\n",
      "  self._init_dates(dates, freq)\n",
      "/Users/blankajarmoszko/opt/anaconda3/lib/python3.9/site-packages/statsmodels/base/model.py:607: ConvergenceWarning: Maximum Likelihood optimization failed to converge. Check mle_retvals\n",
      "  warnings.warn(\"Maximum Likelihood optimization failed to \"\n",
      " 33%|██████████████                             | 21/64 [00:04<00:08,  5.31it/s]/Users/blankajarmoszko/opt/anaconda3/lib/python3.9/site-packages/statsmodels/tsa/base/tsa_model.py:473: ValueWarning: No frequency information was provided, so inferred frequency W-WED will be used.\n",
      "  self._init_dates(dates, freq)\n",
      "/Users/blankajarmoszko/opt/anaconda3/lib/python3.9/site-packages/statsmodels/tsa/base/tsa_model.py:473: ValueWarning: No frequency information was provided, so inferred frequency W-WED will be used.\n",
      "  self._init_dates(dates, freq)\n",
      " 34%|██████████████▊                            | 22/64 [00:04<00:07,  5.56it/s]/Users/blankajarmoszko/opt/anaconda3/lib/python3.9/site-packages/statsmodels/tsa/base/tsa_model.py:473: ValueWarning: No frequency information was provided, so inferred frequency W-WED will be used.\n",
      "  self._init_dates(dates, freq)\n",
      "/Users/blankajarmoszko/opt/anaconda3/lib/python3.9/site-packages/statsmodels/tsa/base/tsa_model.py:473: ValueWarning: No frequency information was provided, so inferred frequency W-WED will be used.\n",
      "  self._init_dates(dates, freq)\n",
      "/Users/blankajarmoszko/opt/anaconda3/lib/python3.9/site-packages/statsmodels/base/model.py:607: ConvergenceWarning: Maximum Likelihood optimization failed to converge. Check mle_retvals\n",
      "  warnings.warn(\"Maximum Likelihood optimization failed to \"\n",
      " 36%|███████████████▍                           | 23/64 [00:04<00:07,  5.15it/s]/Users/blankajarmoszko/opt/anaconda3/lib/python3.9/site-packages/statsmodels/tsa/base/tsa_model.py:473: ValueWarning: No frequency information was provided, so inferred frequency W-WED will be used.\n",
      "  self._init_dates(dates, freq)\n",
      "/Users/blankajarmoszko/opt/anaconda3/lib/python3.9/site-packages/statsmodels/tsa/base/tsa_model.py:473: ValueWarning: No frequency information was provided, so inferred frequency W-WED will be used.\n",
      "  self._init_dates(dates, freq)\n",
      "/Users/blankajarmoszko/opt/anaconda3/lib/python3.9/site-packages/statsmodels/tsa/statespace/sarimax.py:1009: UserWarning: Non-invertible starting seasonal moving average Using zeros as starting parameters.\n",
      "  warn('Non-invertible starting seasonal moving average'\n",
      " 38%|████████████████▏                          | 24/64 [00:04<00:07,  5.11it/s]/Users/blankajarmoszko/opt/anaconda3/lib/python3.9/site-packages/statsmodels/tsa/base/tsa_model.py:473: ValueWarning: No frequency information was provided, so inferred frequency W-WED will be used.\n",
      "  self._init_dates(dates, freq)\n",
      "/Users/blankajarmoszko/opt/anaconda3/lib/python3.9/site-packages/statsmodels/tsa/base/tsa_model.py:473: ValueWarning: No frequency information was provided, so inferred frequency W-WED will be used.\n",
      "  self._init_dates(dates, freq)\n",
      "/Users/blankajarmoszko/opt/anaconda3/lib/python3.9/site-packages/statsmodels/base/model.py:607: ConvergenceWarning: Maximum Likelihood optimization failed to converge. Check mle_retvals\n",
      "  warnings.warn(\"Maximum Likelihood optimization failed to \"\n",
      "/Users/blankajarmoszko/opt/anaconda3/lib/python3.9/site-packages/statsmodels/tsa/base/tsa_model.py:473: ValueWarning: No frequency information was provided, so inferred frequency W-WED will be used.\n",
      "  self._init_dates(dates, freq)\n",
      "/Users/blankajarmoszko/opt/anaconda3/lib/python3.9/site-packages/statsmodels/tsa/base/tsa_model.py:473: ValueWarning: No frequency information was provided, so inferred frequency W-WED will be used.\n",
      "  self._init_dates(dates, freq)\n"
     ]
    },
    {
     "name": "stderr",
     "output_type": "stream",
     "text": [
      "/Users/blankajarmoszko/opt/anaconda3/lib/python3.9/site-packages/statsmodels/base/model.py:607: ConvergenceWarning: Maximum Likelihood optimization failed to converge. Check mle_retvals\n",
      "  warnings.warn(\"Maximum Likelihood optimization failed to \"\n",
      " 41%|█████████████████▍                         | 26/64 [00:04<00:06,  6.06it/s]/Users/blankajarmoszko/opt/anaconda3/lib/python3.9/site-packages/statsmodels/tsa/base/tsa_model.py:473: ValueWarning: No frequency information was provided, so inferred frequency W-WED will be used.\n",
      "  self._init_dates(dates, freq)\n",
      "/Users/blankajarmoszko/opt/anaconda3/lib/python3.9/site-packages/statsmodels/tsa/base/tsa_model.py:473: ValueWarning: No frequency information was provided, so inferred frequency W-WED will be used.\n",
      "  self._init_dates(dates, freq)\n",
      "/Users/blankajarmoszko/opt/anaconda3/lib/python3.9/site-packages/statsmodels/tsa/base/tsa_model.py:473: ValueWarning: No frequency information was provided, so inferred frequency W-WED will be used.\n",
      "  self._init_dates(dates, freq)\n",
      "/Users/blankajarmoszko/opt/anaconda3/lib/python3.9/site-packages/statsmodels/tsa/base/tsa_model.py:473: ValueWarning: No frequency information was provided, so inferred frequency W-WED will be used.\n",
      "  self._init_dates(dates, freq)\n",
      "/Users/blankajarmoszko/opt/anaconda3/lib/python3.9/site-packages/statsmodels/tsa/statespace/sarimax.py:1009: UserWarning: Non-invertible starting seasonal moving average Using zeros as starting parameters.\n",
      "  warn('Non-invertible starting seasonal moving average'\n",
      " 44%|██████████████████▊                        | 28/64 [00:05<00:06,  5.32it/s]/Users/blankajarmoszko/opt/anaconda3/lib/python3.9/site-packages/statsmodels/tsa/base/tsa_model.py:473: ValueWarning: No frequency information was provided, so inferred frequency W-WED will be used.\n",
      "  self._init_dates(dates, freq)\n",
      "/Users/blankajarmoszko/opt/anaconda3/lib/python3.9/site-packages/statsmodels/tsa/base/tsa_model.py:473: ValueWarning: No frequency information was provided, so inferred frequency W-WED will be used.\n",
      "  self._init_dates(dates, freq)\n",
      " 45%|███████████████████▍                       | 29/64 [00:05<00:06,  5.83it/s]/Users/blankajarmoszko/opt/anaconda3/lib/python3.9/site-packages/statsmodels/tsa/base/tsa_model.py:473: ValueWarning: No frequency information was provided, so inferred frequency W-WED will be used.\n",
      "  self._init_dates(dates, freq)\n",
      "/Users/blankajarmoszko/opt/anaconda3/lib/python3.9/site-packages/statsmodels/tsa/base/tsa_model.py:473: ValueWarning: No frequency information was provided, so inferred frequency W-WED will be used.\n",
      "  self._init_dates(dates, freq)\n",
      " 47%|████████████████████▏                      | 30/64 [00:05<00:05,  5.68it/s]/Users/blankajarmoszko/opt/anaconda3/lib/python3.9/site-packages/statsmodels/tsa/base/tsa_model.py:473: ValueWarning: No frequency information was provided, so inferred frequency W-WED will be used.\n",
      "  self._init_dates(dates, freq)\n",
      "/Users/blankajarmoszko/opt/anaconda3/lib/python3.9/site-packages/statsmodels/tsa/base/tsa_model.py:473: ValueWarning: No frequency information was provided, so inferred frequency W-WED will be used.\n",
      "  self._init_dates(dates, freq)\n",
      " 48%|████████████████████▊                      | 31/64 [00:05<00:06,  5.25it/s]/Users/blankajarmoszko/opt/anaconda3/lib/python3.9/site-packages/statsmodels/tsa/base/tsa_model.py:473: ValueWarning: No frequency information was provided, so inferred frequency W-WED will be used.\n",
      "  self._init_dates(dates, freq)\n",
      "/Users/blankajarmoszko/opt/anaconda3/lib/python3.9/site-packages/statsmodels/tsa/base/tsa_model.py:473: ValueWarning: No frequency information was provided, so inferred frequency W-WED will be used.\n",
      "  self._init_dates(dates, freq)\n",
      "/Users/blankajarmoszko/opt/anaconda3/lib/python3.9/site-packages/statsmodels/tsa/statespace/sarimax.py:1009: UserWarning: Non-invertible starting seasonal moving average Using zeros as starting parameters.\n",
      "  warn('Non-invertible starting seasonal moving average'\n",
      "/Users/blankajarmoszko/opt/anaconda3/lib/python3.9/site-packages/statsmodels/base/model.py:607: ConvergenceWarning: Maximum Likelihood optimization failed to converge. Check mle_retvals\n",
      "  warnings.warn(\"Maximum Likelihood optimization failed to \"\n",
      " 50%|█████████████████████▌                     | 32/64 [00:06<00:09,  3.51it/s]/Users/blankajarmoszko/opt/anaconda3/lib/python3.9/site-packages/statsmodels/tsa/base/tsa_model.py:473: ValueWarning: No frequency information was provided, so inferred frequency W-WED will be used.\n",
      "  self._init_dates(dates, freq)\n",
      "/Users/blankajarmoszko/opt/anaconda3/lib/python3.9/site-packages/statsmodels/tsa/base/tsa_model.py:473: ValueWarning: No frequency information was provided, so inferred frequency W-WED will be used.\n",
      "  self._init_dates(dates, freq)\n",
      "/Users/blankajarmoszko/opt/anaconda3/lib/python3.9/site-packages/statsmodels/tsa/base/tsa_model.py:473: ValueWarning: No frequency information was provided, so inferred frequency W-WED will be used.\n",
      "  self._init_dates(dates, freq)\n",
      "/Users/blankajarmoszko/opt/anaconda3/lib/python3.9/site-packages/statsmodels/tsa/base/tsa_model.py:473: ValueWarning: No frequency information was provided, so inferred frequency W-WED will be used.\n",
      "  self._init_dates(dates, freq)\n",
      " 53%|██████████████████████▊                    | 34/64 [00:06<00:05,  5.28it/s]/Users/blankajarmoszko/opt/anaconda3/lib/python3.9/site-packages/statsmodels/tsa/base/tsa_model.py:473: ValueWarning: No frequency information was provided, so inferred frequency W-WED will be used.\n",
      "  self._init_dates(dates, freq)\n",
      "/Users/blankajarmoszko/opt/anaconda3/lib/python3.9/site-packages/statsmodels/tsa/base/tsa_model.py:473: ValueWarning: No frequency information was provided, so inferred frequency W-WED will be used.\n",
      "  self._init_dates(dates, freq)\n",
      " 55%|███████████████████████▌                   | 35/64 [00:06<00:05,  5.51it/s]/Users/blankajarmoszko/opt/anaconda3/lib/python3.9/site-packages/statsmodels/tsa/base/tsa_model.py:473: ValueWarning: No frequency information was provided, so inferred frequency W-WED will be used.\n",
      "  self._init_dates(dates, freq)\n",
      "/Users/blankajarmoszko/opt/anaconda3/lib/python3.9/site-packages/statsmodels/tsa/base/tsa_model.py:473: ValueWarning: No frequency information was provided, so inferred frequency W-WED will be used.\n",
      "  self._init_dates(dates, freq)\n",
      "/Users/blankajarmoszko/opt/anaconda3/lib/python3.9/site-packages/statsmodels/base/model.py:607: ConvergenceWarning: Maximum Likelihood optimization failed to converge. Check mle_retvals\n",
      "  warnings.warn(\"Maximum Likelihood optimization failed to \"\n",
      " 56%|████████████████████████▏                  | 36/64 [00:07<00:06,  4.55it/s]/Users/blankajarmoszko/opt/anaconda3/lib/python3.9/site-packages/statsmodels/tsa/base/tsa_model.py:473: ValueWarning: No frequency information was provided, so inferred frequency W-WED will be used.\n",
      "  self._init_dates(dates, freq)\n",
      "/Users/blankajarmoszko/opt/anaconda3/lib/python3.9/site-packages/statsmodels/tsa/base/tsa_model.py:473: ValueWarning: No frequency information was provided, so inferred frequency W-WED will be used.\n",
      "  self._init_dates(dates, freq)\n",
      "/Users/blankajarmoszko/opt/anaconda3/lib/python3.9/site-packages/statsmodels/tsa/base/tsa_model.py:473: ValueWarning: No frequency information was provided, so inferred frequency W-WED will be used.\n",
      "  self._init_dates(dates, freq)\n",
      "/Users/blankajarmoszko/opt/anaconda3/lib/python3.9/site-packages/statsmodels/tsa/base/tsa_model.py:473: ValueWarning: No frequency information was provided, so inferred frequency W-WED will be used.\n",
      "  self._init_dates(dates, freq)\n",
      " 59%|█████████████████████████▌                 | 38/64 [00:07<00:04,  6.13it/s]/Users/blankajarmoszko/opt/anaconda3/lib/python3.9/site-packages/statsmodels/tsa/base/tsa_model.py:473: ValueWarning: No frequency information was provided, so inferred frequency W-WED will be used.\n",
      "  self._init_dates(dates, freq)\n",
      "/Users/blankajarmoszko/opt/anaconda3/lib/python3.9/site-packages/statsmodels/tsa/base/tsa_model.py:473: ValueWarning: No frequency information was provided, so inferred frequency W-WED will be used.\n",
      "  self._init_dates(dates, freq)\n",
      "/Users/blankajarmoszko/opt/anaconda3/lib/python3.9/site-packages/statsmodels/base/model.py:607: ConvergenceWarning: Maximum Likelihood optimization failed to converge. Check mle_retvals\n",
      "  warnings.warn(\"Maximum Likelihood optimization failed to \"\n"
     ]
    },
    {
     "name": "stderr",
     "output_type": "stream",
     "text": [
      " 61%|██████████████████████████▏                | 39/64 [00:07<00:04,  5.19it/s]/Users/blankajarmoszko/opt/anaconda3/lib/python3.9/site-packages/statsmodels/tsa/base/tsa_model.py:473: ValueWarning: No frequency information was provided, so inferred frequency W-WED will be used.\n",
      "  self._init_dates(dates, freq)\n",
      "/Users/blankajarmoszko/opt/anaconda3/lib/python3.9/site-packages/statsmodels/tsa/base/tsa_model.py:473: ValueWarning: No frequency information was provided, so inferred frequency W-WED will be used.\n",
      "  self._init_dates(dates, freq)\n",
      "/Users/blankajarmoszko/opt/anaconda3/lib/python3.9/site-packages/statsmodels/base/model.py:607: ConvergenceWarning: Maximum Likelihood optimization failed to converge. Check mle_retvals\n",
      "  warnings.warn(\"Maximum Likelihood optimization failed to \"\n",
      " 62%|██████████████████████████▉                | 40/64 [00:07<00:05,  4.46it/s]/Users/blankajarmoszko/opt/anaconda3/lib/python3.9/site-packages/statsmodels/tsa/base/tsa_model.py:473: ValueWarning: No frequency information was provided, so inferred frequency W-WED will be used.\n",
      "  self._init_dates(dates, freq)\n",
      "/Users/blankajarmoszko/opt/anaconda3/lib/python3.9/site-packages/statsmodels/tsa/base/tsa_model.py:473: ValueWarning: No frequency information was provided, so inferred frequency W-WED will be used.\n",
      "  self._init_dates(dates, freq)\n",
      "/Users/blankajarmoszko/opt/anaconda3/lib/python3.9/site-packages/statsmodels/base/model.py:607: ConvergenceWarning: Maximum Likelihood optimization failed to converge. Check mle_retvals\n",
      "  warnings.warn(\"Maximum Likelihood optimization failed to \"\n",
      "/Users/blankajarmoszko/opt/anaconda3/lib/python3.9/site-packages/statsmodels/tsa/base/tsa_model.py:473: ValueWarning: No frequency information was provided, so inferred frequency W-WED will be used.\n",
      "  self._init_dates(dates, freq)\n",
      "/Users/blankajarmoszko/opt/anaconda3/lib/python3.9/site-packages/statsmodels/tsa/base/tsa_model.py:473: ValueWarning: No frequency information was provided, so inferred frequency W-WED will be used.\n",
      "  self._init_dates(dates, freq)\n",
      "/Users/blankajarmoszko/opt/anaconda3/lib/python3.9/site-packages/statsmodels/base/model.py:607: ConvergenceWarning: Maximum Likelihood optimization failed to converge. Check mle_retvals\n",
      "  warnings.warn(\"Maximum Likelihood optimization failed to \"\n",
      " 66%|████████████████████████████▏              | 42/64 [00:08<00:03,  5.52it/s]/Users/blankajarmoszko/opt/anaconda3/lib/python3.9/site-packages/statsmodels/tsa/base/tsa_model.py:473: ValueWarning: No frequency information was provided, so inferred frequency W-WED will be used.\n",
      "  self._init_dates(dates, freq)\n",
      "/Users/blankajarmoszko/opt/anaconda3/lib/python3.9/site-packages/statsmodels/tsa/base/tsa_model.py:473: ValueWarning: No frequency information was provided, so inferred frequency W-WED will be used.\n",
      "  self._init_dates(dates, freq)\n",
      "/Users/blankajarmoszko/opt/anaconda3/lib/python3.9/site-packages/statsmodels/base/model.py:607: ConvergenceWarning: Maximum Likelihood optimization failed to converge. Check mle_retvals\n",
      "  warnings.warn(\"Maximum Likelihood optimization failed to \"\n",
      " 67%|████████████████████████████▉              | 43/64 [00:08<00:03,  5.43it/s]/Users/blankajarmoszko/opt/anaconda3/lib/python3.9/site-packages/statsmodels/tsa/base/tsa_model.py:473: ValueWarning: No frequency information was provided, so inferred frequency W-WED will be used.\n",
      "  self._init_dates(dates, freq)\n",
      "/Users/blankajarmoszko/opt/anaconda3/lib/python3.9/site-packages/statsmodels/tsa/base/tsa_model.py:473: ValueWarning: No frequency information was provided, so inferred frequency W-WED will be used.\n",
      "  self._init_dates(dates, freq)\n",
      "/Users/blankajarmoszko/opt/anaconda3/lib/python3.9/site-packages/statsmodels/base/model.py:607: ConvergenceWarning: Maximum Likelihood optimization failed to converge. Check mle_retvals\n",
      "  warnings.warn(\"Maximum Likelihood optimization failed to \"\n",
      " 69%|█████████████████████████████▌             | 44/64 [00:08<00:05,  3.67it/s]/Users/blankajarmoszko/opt/anaconda3/lib/python3.9/site-packages/statsmodels/tsa/base/tsa_model.py:473: ValueWarning: No frequency information was provided, so inferred frequency W-WED will be used.\n",
      "  self._init_dates(dates, freq)\n",
      "/Users/blankajarmoszko/opt/anaconda3/lib/python3.9/site-packages/statsmodels/tsa/base/tsa_model.py:473: ValueWarning: No frequency information was provided, so inferred frequency W-WED will be used.\n",
      "  self._init_dates(dates, freq)\n",
      "/Users/blankajarmoszko/opt/anaconda3/lib/python3.9/site-packages/statsmodels/base/model.py:607: ConvergenceWarning: Maximum Likelihood optimization failed to converge. Check mle_retvals\n",
      "  warnings.warn(\"Maximum Likelihood optimization failed to \"\n",
      " 70%|██████████████████████████████▏            | 45/64 [00:08<00:04,  4.06it/s]/Users/blankajarmoszko/opt/anaconda3/lib/python3.9/site-packages/statsmodels/tsa/base/tsa_model.py:473: ValueWarning: No frequency information was provided, so inferred frequency W-WED will be used.\n",
      "  self._init_dates(dates, freq)\n",
      "/Users/blankajarmoszko/opt/anaconda3/lib/python3.9/site-packages/statsmodels/tsa/base/tsa_model.py:473: ValueWarning: No frequency information was provided, so inferred frequency W-WED will be used.\n",
      "  self._init_dates(dates, freq)\n",
      "/Users/blankajarmoszko/opt/anaconda3/lib/python3.9/site-packages/statsmodels/base/model.py:607: ConvergenceWarning: Maximum Likelihood optimization failed to converge. Check mle_retvals\n",
      "  warnings.warn(\"Maximum Likelihood optimization failed to \"\n",
      " 72%|██████████████████████████████▉            | 46/64 [00:09<00:04,  4.22it/s]/Users/blankajarmoszko/opt/anaconda3/lib/python3.9/site-packages/statsmodels/tsa/base/tsa_model.py:473: ValueWarning: No frequency information was provided, so inferred frequency W-WED will be used.\n",
      "  self._init_dates(dates, freq)\n",
      "/Users/blankajarmoszko/opt/anaconda3/lib/python3.9/site-packages/statsmodels/tsa/base/tsa_model.py:473: ValueWarning: No frequency information was provided, so inferred frequency W-WED will be used.\n",
      "  self._init_dates(dates, freq)\n",
      " 73%|███████████████████████████████▌           | 47/64 [00:09<00:05,  3.28it/s]/Users/blankajarmoszko/opt/anaconda3/lib/python3.9/site-packages/statsmodels/tsa/base/tsa_model.py:473: ValueWarning: No frequency information was provided, so inferred frequency W-WED will be used.\n",
      "  self._init_dates(dates, freq)\n",
      "/Users/blankajarmoszko/opt/anaconda3/lib/python3.9/site-packages/statsmodels/tsa/base/tsa_model.py:473: ValueWarning: No frequency information was provided, so inferred frequency W-WED will be used.\n",
      "  self._init_dates(dates, freq)\n",
      "/Users/blankajarmoszko/opt/anaconda3/lib/python3.9/site-packages/statsmodels/base/model.py:607: ConvergenceWarning: Maximum Likelihood optimization failed to converge. Check mle_retvals\n",
      "  warnings.warn(\"Maximum Likelihood optimization failed to \"\n",
      " 75%|████████████████████████████████▎          | 48/64 [00:10<00:05,  2.85it/s]/Users/blankajarmoszko/opt/anaconda3/lib/python3.9/site-packages/statsmodels/tsa/base/tsa_model.py:473: ValueWarning: No frequency information was provided, so inferred frequency W-WED will be used.\n",
      "  self._init_dates(dates, freq)\n",
      "/Users/blankajarmoszko/opt/anaconda3/lib/python3.9/site-packages/statsmodels/tsa/base/tsa_model.py:473: ValueWarning: No frequency information was provided, so inferred frequency W-WED will be used.\n",
      "  self._init_dates(dates, freq)\n",
      "/Users/blankajarmoszko/opt/anaconda3/lib/python3.9/site-packages/statsmodels/tsa/base/tsa_model.py:473: ValueWarning: No frequency information was provided, so inferred frequency W-WED will be used.\n",
      "  self._init_dates(dates, freq)\n",
      "/Users/blankajarmoszko/opt/anaconda3/lib/python3.9/site-packages/statsmodels/tsa/base/tsa_model.py:473: ValueWarning: No frequency information was provided, so inferred frequency W-WED will be used.\n",
      "  self._init_dates(dates, freq)\n",
      "/Users/blankajarmoszko/opt/anaconda3/lib/python3.9/site-packages/statsmodels/tsa/base/tsa_model.py:473: ValueWarning: No frequency information was provided, so inferred frequency W-WED will be used.\n",
      "  self._init_dates(dates, freq)\n",
      "/Users/blankajarmoszko/opt/anaconda3/lib/python3.9/site-packages/statsmodels/tsa/base/tsa_model.py:473: ValueWarning: No frequency information was provided, so inferred frequency W-WED will be used.\n",
      "  self._init_dates(dates, freq)\n"
     ]
    },
    {
     "name": "stderr",
     "output_type": "stream",
     "text": [
      "/Users/blankajarmoszko/opt/anaconda3/lib/python3.9/site-packages/statsmodels/base/model.py:607: ConvergenceWarning: Maximum Likelihood optimization failed to converge. Check mle_retvals\n",
      "  warnings.warn(\"Maximum Likelihood optimization failed to \"\n",
      " 80%|██████████████████████████████████▎        | 51/64 [00:10<00:02,  5.14it/s]/Users/blankajarmoszko/opt/anaconda3/lib/python3.9/site-packages/statsmodels/tsa/base/tsa_model.py:473: ValueWarning: No frequency information was provided, so inferred frequency W-WED will be used.\n",
      "  self._init_dates(dates, freq)\n",
      "/Users/blankajarmoszko/opt/anaconda3/lib/python3.9/site-packages/statsmodels/tsa/base/tsa_model.py:473: ValueWarning: No frequency information was provided, so inferred frequency W-WED will be used.\n",
      "  self._init_dates(dates, freq)\n",
      "/Users/blankajarmoszko/opt/anaconda3/lib/python3.9/site-packages/statsmodels/tsa/statespace/sarimax.py:1009: UserWarning: Non-invertible starting seasonal moving average Using zeros as starting parameters.\n",
      "  warn('Non-invertible starting seasonal moving average'\n",
      " 81%|██████████████████████████████████▉        | 52/64 [00:10<00:02,  4.84it/s]/Users/blankajarmoszko/opt/anaconda3/lib/python3.9/site-packages/statsmodels/tsa/base/tsa_model.py:473: ValueWarning: No frequency information was provided, so inferred frequency W-WED will be used.\n",
      "  self._init_dates(dates, freq)\n",
      "/Users/blankajarmoszko/opt/anaconda3/lib/python3.9/site-packages/statsmodels/tsa/base/tsa_model.py:473: ValueWarning: No frequency information was provided, so inferred frequency W-WED will be used.\n",
      "  self._init_dates(dates, freq)\n",
      "/Users/blankajarmoszko/opt/anaconda3/lib/python3.9/site-packages/statsmodels/base/model.py:607: ConvergenceWarning: Maximum Likelihood optimization failed to converge. Check mle_retvals\n",
      "  warnings.warn(\"Maximum Likelihood optimization failed to \"\n",
      " 83%|███████████████████████████████████▌       | 53/64 [00:10<00:02,  5.12it/s]/Users/blankajarmoszko/opt/anaconda3/lib/python3.9/site-packages/statsmodels/tsa/base/tsa_model.py:473: ValueWarning: No frequency information was provided, so inferred frequency W-WED will be used.\n",
      "  self._init_dates(dates, freq)\n",
      "/Users/blankajarmoszko/opt/anaconda3/lib/python3.9/site-packages/statsmodels/tsa/base/tsa_model.py:473: ValueWarning: No frequency information was provided, so inferred frequency W-WED will be used.\n",
      "  self._init_dates(dates, freq)\n",
      "/Users/blankajarmoszko/opt/anaconda3/lib/python3.9/site-packages/statsmodels/base/model.py:607: ConvergenceWarning: Maximum Likelihood optimization failed to converge. Check mle_retvals\n",
      "  warnings.warn(\"Maximum Likelihood optimization failed to \"\n",
      " 84%|████████████████████████████████████▎      | 54/64 [00:10<00:02,  4.97it/s]/Users/blankajarmoszko/opt/anaconda3/lib/python3.9/site-packages/statsmodels/tsa/base/tsa_model.py:473: ValueWarning: No frequency information was provided, so inferred frequency W-WED will be used.\n",
      "  self._init_dates(dates, freq)\n",
      "/Users/blankajarmoszko/opt/anaconda3/lib/python3.9/site-packages/statsmodels/tsa/base/tsa_model.py:473: ValueWarning: No frequency information was provided, so inferred frequency W-WED will be used.\n",
      "  self._init_dates(dates, freq)\n",
      "/Users/blankajarmoszko/opt/anaconda3/lib/python3.9/site-packages/statsmodels/base/model.py:607: ConvergenceWarning: Maximum Likelihood optimization failed to converge. Check mle_retvals\n",
      "  warnings.warn(\"Maximum Likelihood optimization failed to \"\n",
      " 86%|████████████████████████████████████▉      | 55/64 [00:11<00:01,  4.67it/s]/Users/blankajarmoszko/opt/anaconda3/lib/python3.9/site-packages/statsmodels/tsa/base/tsa_model.py:473: ValueWarning: No frequency information was provided, so inferred frequency W-WED will be used.\n",
      "  self._init_dates(dates, freq)\n",
      "/Users/blankajarmoszko/opt/anaconda3/lib/python3.9/site-packages/statsmodels/tsa/base/tsa_model.py:473: ValueWarning: No frequency information was provided, so inferred frequency W-WED will be used.\n",
      "  self._init_dates(dates, freq)\n",
      "/Users/blankajarmoszko/opt/anaconda3/lib/python3.9/site-packages/statsmodels/tsa/statespace/sarimax.py:1009: UserWarning: Non-invertible starting seasonal moving average Using zeros as starting parameters.\n",
      "  warn('Non-invertible starting seasonal moving average'\n",
      "/Users/blankajarmoszko/opt/anaconda3/lib/python3.9/site-packages/statsmodels/base/model.py:607: ConvergenceWarning: Maximum Likelihood optimization failed to converge. Check mle_retvals\n",
      "  warnings.warn(\"Maximum Likelihood optimization failed to \"\n",
      " 88%|█████████████████████████████████████▋     | 56/64 [00:12<00:03,  2.30it/s]/Users/blankajarmoszko/opt/anaconda3/lib/python3.9/site-packages/statsmodels/tsa/base/tsa_model.py:473: ValueWarning: No frequency information was provided, so inferred frequency W-WED will be used.\n",
      "  self._init_dates(dates, freq)\n",
      "/Users/blankajarmoszko/opt/anaconda3/lib/python3.9/site-packages/statsmodels/tsa/base/tsa_model.py:473: ValueWarning: No frequency information was provided, so inferred frequency W-WED will be used.\n",
      "  self._init_dates(dates, freq)\n",
      "/Users/blankajarmoszko/opt/anaconda3/lib/python3.9/site-packages/statsmodels/tsa/base/tsa_model.py:473: ValueWarning: No frequency information was provided, so inferred frequency W-WED will be used.\n",
      "  self._init_dates(dates, freq)\n",
      "/Users/blankajarmoszko/opt/anaconda3/lib/python3.9/site-packages/statsmodels/tsa/base/tsa_model.py:473: ValueWarning: No frequency information was provided, so inferred frequency W-WED will be used.\n",
      "  self._init_dates(dates, freq)\n",
      " 91%|██████████████████████████████████████▉    | 58/64 [00:12<00:01,  3.40it/s]/Users/blankajarmoszko/opt/anaconda3/lib/python3.9/site-packages/statsmodels/tsa/base/tsa_model.py:473: ValueWarning: No frequency information was provided, so inferred frequency W-WED will be used.\n",
      "  self._init_dates(dates, freq)\n",
      "/Users/blankajarmoszko/opt/anaconda3/lib/python3.9/site-packages/statsmodels/tsa/base/tsa_model.py:473: ValueWarning: No frequency information was provided, so inferred frequency W-WED will be used.\n",
      "  self._init_dates(dates, freq)\n",
      "/Users/blankajarmoszko/opt/anaconda3/lib/python3.9/site-packages/statsmodels/base/model.py:607: ConvergenceWarning: Maximum Likelihood optimization failed to converge. Check mle_retvals\n",
      "  warnings.warn(\"Maximum Likelihood optimization failed to \"\n",
      " 92%|███████████████████████████████████████▋   | 59/64 [00:12<00:01,  3.85it/s]/Users/blankajarmoszko/opt/anaconda3/lib/python3.9/site-packages/statsmodels/tsa/base/tsa_model.py:473: ValueWarning: No frequency information was provided, so inferred frequency W-WED will be used.\n",
      "  self._init_dates(dates, freq)\n",
      "/Users/blankajarmoszko/opt/anaconda3/lib/python3.9/site-packages/statsmodels/tsa/base/tsa_model.py:473: ValueWarning: No frequency information was provided, so inferred frequency W-WED will be used.\n",
      "  self._init_dates(dates, freq)\n",
      "/Users/blankajarmoszko/opt/anaconda3/lib/python3.9/site-packages/statsmodels/tsa/statespace/sarimax.py:1009: UserWarning: Non-invertible starting seasonal moving average Using zeros as starting parameters.\n",
      "  warn('Non-invertible starting seasonal moving average'\n",
      "/Users/blankajarmoszko/opt/anaconda3/lib/python3.9/site-packages/statsmodels/base/model.py:607: ConvergenceWarning: Maximum Likelihood optimization failed to converge. Check mle_retvals\n",
      "  warnings.warn(\"Maximum Likelihood optimization failed to \"\n",
      " 94%|████████████████████████████████████████▎  | 60/64 [00:13<00:01,  3.27it/s]/Users/blankajarmoszko/opt/anaconda3/lib/python3.9/site-packages/statsmodels/tsa/base/tsa_model.py:473: ValueWarning: No frequency information was provided, so inferred frequency W-WED will be used.\n",
      "  self._init_dates(dates, freq)\n",
      "/Users/blankajarmoszko/opt/anaconda3/lib/python3.9/site-packages/statsmodels/tsa/base/tsa_model.py:473: ValueWarning: No frequency information was provided, so inferred frequency W-WED will be used.\n",
      "  self._init_dates(dates, freq)\n",
      " 95%|████████████████████████████████████████▉  | 61/64 [00:13<00:00,  3.88it/s]/Users/blankajarmoszko/opt/anaconda3/lib/python3.9/site-packages/statsmodels/tsa/base/tsa_model.py:473: ValueWarning: No frequency information was provided, so inferred frequency W-WED will be used.\n",
      "  self._init_dates(dates, freq)\n",
      "/Users/blankajarmoszko/opt/anaconda3/lib/python3.9/site-packages/statsmodels/tsa/base/tsa_model.py:473: ValueWarning: No frequency information was provided, so inferred frequency W-WED will be used.\n",
      "  self._init_dates(dates, freq)\n"
     ]
    },
    {
     "name": "stderr",
     "output_type": "stream",
     "text": [
      "/Users/blankajarmoszko/opt/anaconda3/lib/python3.9/site-packages/statsmodels/base/model.py:607: ConvergenceWarning: Maximum Likelihood optimization failed to converge. Check mle_retvals\n",
      "  warnings.warn(\"Maximum Likelihood optimization failed to \"\n",
      " 97%|█████████████████████████████████████████▋ | 62/64 [00:13<00:00,  4.08it/s]/Users/blankajarmoszko/opt/anaconda3/lib/python3.9/site-packages/statsmodels/tsa/base/tsa_model.py:473: ValueWarning: No frequency information was provided, so inferred frequency W-WED will be used.\n",
      "  self._init_dates(dates, freq)\n",
      "/Users/blankajarmoszko/opt/anaconda3/lib/python3.9/site-packages/statsmodels/tsa/base/tsa_model.py:473: ValueWarning: No frequency information was provided, so inferred frequency W-WED will be used.\n",
      "  self._init_dates(dates, freq)\n",
      " 98%|██████████████████████████████████████████▎| 63/64 [00:13<00:00,  4.86it/s]/Users/blankajarmoszko/opt/anaconda3/lib/python3.9/site-packages/statsmodels/tsa/base/tsa_model.py:473: ValueWarning: No frequency information was provided, so inferred frequency W-WED will be used.\n",
      "  self._init_dates(dates, freq)\n",
      "/Users/blankajarmoszko/opt/anaconda3/lib/python3.9/site-packages/statsmodels/tsa/base/tsa_model.py:473: ValueWarning: No frequency information was provided, so inferred frequency W-WED will be used.\n",
      "  self._init_dates(dates, freq)\n",
      "/Users/blankajarmoszko/opt/anaconda3/lib/python3.9/site-packages/statsmodels/tsa/statespace/sarimax.py:1009: UserWarning: Non-invertible starting seasonal moving average Using zeros as starting parameters.\n",
      "  warn('Non-invertible starting seasonal moving average'\n",
      "/Users/blankajarmoszko/opt/anaconda3/lib/python3.9/site-packages/statsmodels/base/model.py:607: ConvergenceWarning: Maximum Likelihood optimization failed to converge. Check mle_retvals\n",
      "  warnings.warn(\"Maximum Likelihood optimization failed to \"\n",
      "100%|███████████████████████████████████████████| 64/64 [00:14<00:00,  4.56it/s]"
     ]
    },
    {
     "name": "stdout",
     "output_type": "stream",
     "text": [
      "Best parameters: {'p': 1, 'd': 0, 'q': 1, 'P': 0, 'D': 0, 'Q': 0, 'seasonal_period': 12}\n",
      "Best RMSE: 0.0003554422201422536\n"
     ]
    },
    {
     "name": "stderr",
     "output_type": "stream",
     "text": [
      "\n"
     ]
    }
   ],
   "source": [
    "# Grid search for parameter tuning\n",
    "p_values = [0, 1]  \n",
    "d_values = [0, 1]  \n",
    "q_values = [0, 1]  \n",
    "P_values = [0, 1]  \n",
    "D_values = [0, 1]  \n",
    "Q_values = [0, 1]  \n",
    "seasonal_periods = [12] \n",
    "\n",
    "best_rmse = float('inf')\n",
    "best_params = None\n",
    "\n",
    "# Iterate through parameter combinations\n",
    "for p, d, q, P, D, Q, seasonal_period in tqdm(product(p_values, d_values, q_values, P_values, D_values, Q_values, seasonal_periods), total=len(p_values)*len(d_values)*len(q_values)*len(P_values)*len(D_values)*len(Q_values)*len(seasonal_periods)):\n",
    "    # Fit SARIMAX model\n",
    "    model = SARIMAX(train_data['Additional_Doses_Vax_Pct'], order=(p, d, q), seasonal_order=(P, D, Q, seasonal_period), exog=exogenous_train)\n",
    "    result = model.fit(disp=False)\n",
    "\n",
    "    # Forecast future values on the test set\n",
    "    forecast = result.get_forecast(steps=len(test_data), exog=exogenous_test)\n",
    "    forecast_mean = forecast.predicted_mean\n",
    "\n",
    "    # Calculate RMSE on the test set\n",
    "    rmse = sqrt(mean_squared_error(test_data['Additional_Doses_Vax_Pct'], forecast_mean))\n",
    "\n",
    "    # Update best parameters if the current model has a lower RMSE\n",
    "    if rmse < best_rmse:\n",
    "        best_rmse = rmse\n",
    "        best_params = {'p': p, 'd': d, 'q': q, 'P': P, 'D': D, 'Q': Q, 'seasonal_period': seasonal_period}\n",
    "\n",
    "print(f'Best parameters: {best_params}')\n",
    "print(f'Best RMSE: {best_rmse}')\n"
   ]
  },
  {
   "cell_type": "code",
   "execution_count": null,
   "id": "629a4912",
   "metadata": {},
   "outputs": [],
   "source": [
    "## auto arima overfitts when fitting hyper params, small dataset "
   ]
  },
  {
   "cell_type": "code",
   "execution_count": 72,
   "id": "5c744ea9",
   "metadata": {},
   "outputs": [
    {
     "data": {
      "text/plain": [
       "{'p': 1, 'd': 0, 'q': 1, 'P': 0, 'D': 0, 'Q': 0, 'seasonal_period': 12}"
      ]
     },
     "execution_count": 72,
     "metadata": {},
     "output_type": "execute_result"
    }
   ],
   "source": [
    "best_params"
   ]
  },
  {
   "cell_type": "code",
   "execution_count": 65,
   "id": "673e704c",
   "metadata": {},
   "outputs": [],
   "source": [
    "# Create lag variables and merge them with the original DataFrame\n",
    "for i in range(1, 4):  # You can adjust the number of lags\n",
    "    data[f'lag_{i}'] = data['Additional_Doses_Vax_Pct'].shift(i)\n",
    "\n",
    "# Drop NaN values resulting from the lag operation\n",
    "data = data.dropna()\n",
    "\n",
    "# Split the data into training and testing sets\n",
    "train_size = int(len(data) * 0.8)\n",
    "train_data, test_data = data[:train_size], data[train_size:]\n",
    "\n",
    "# Define exogenous variables (lag variables)\n",
    "exogenous_cols = [col for col in data.columns if col.startswith('lag_')]\n",
    "exogenous_train = train_data[exogenous_cols]\n",
    "exogenous_test = test_data[exogenous_cols]\n"
   ]
  },
  {
   "cell_type": "code",
   "execution_count": 66,
   "id": "1326d70a",
   "metadata": {},
   "outputs": [
    {
     "data": {
      "image/png": "[encoded data removed]",
      "text/plain": [
       "<Figure size 432x288 with 1 Axes>"
      ]
     },
     "metadata": {
      "needs_background": "light"
     },
     "output_type": "display_data"
    },
    {
     "name": "stdout",
     "output_type": "stream",
     "text": [
      "RMSE on test data: 0.10299055986547166\n"
     ]
    }
   ],
   "source": [
    "# Use the best_params obtained from grid search\n",
    "best_params = {'p': 1, 'd': 0, 'q': 1, 'P': 0, 'D': 0, 'Q': 0, 'seasonal_period': 12}\n",
    "\n",
    "# Fit Auto ARIMA model with best_params\n",
    "model = auto_arima(train_data['Additional_Doses_Vax_Pct'], exogenous=exogenous_train, seasonal=True, m=best_params['seasonal_period'],\n",
    "                   start_p=best_params['p'], d=best_params['d'], start_q=best_params['q'],\n",
    "                   start_P=best_params['P'], D=best_params['D'], start_Q=best_params['Q'])\n",
    "model.fit(train_data['Additional_Doses_Vax_Pct'], exogenous=exogenous_train)\n",
    "\n",
    "# Forecast future values on the test set\n",
    "future_forecast, conf_int = model.predict(n_periods=len(test_data), exogenous=exogenous_test, return_conf_int=True)\n",
    "\n",
    "# Plotting the results\n",
    "plt.plot(train_data.index, train_data['Additional_Doses_Vax_Pct'], label='Train')\n",
    "plt.plot(test_data.index, test_data['Additional_Doses_Vax_Pct'], label='Actual Test')\n",
    "plt.plot(test_data.index, future_forecast, label='Forecast')\n",
    "plt.fill_between(test_data.index, conf_int[:, 0], conf_int[:, 1], color='gray', alpha=0.2, label='Confidence Interval')\n",
    "plt.xlabel('Date')\n",
    "plt.ylabel('Additional_Doses_Vax_Pct')\n",
    "plt.legend()\n",
    "plt.show()\n",
    "\n",
    "# Calculate RMSE on the test set\n",
    "rmse = sqrt(mean_squared_error(test_data['Additional_Doses_Vax_Pct'], future_forecast))\n",
    "print(f'RMSE on test data: {rmse}')\n"
   ]
  },
  {
   "cell_type": "code",
   "execution_count": 76,
   "id": "7f19a3e2",
   "metadata": {},
   "outputs": [
    {
     "name": "stdout",
     "output_type": "stream",
     "text": [
      "RMSE on train data: 0.0059290647238196695\n"
     ]
    },
    {
     "name": "stderr",
     "output_type": "stream",
     "text": [
      "/Users/blankajarmoszko/opt/anaconda3/lib/python3.9/site-packages/statsmodels/tsa/base/tsa_model.py:473: ValueWarning: No frequency information was provided, so inferred frequency W-WED will be used.\n",
      "  self._init_dates(dates, freq)\n",
      "/Users/blankajarmoszko/opt/anaconda3/lib/python3.9/site-packages/statsmodels/tsa/base/tsa_model.py:473: ValueWarning: No frequency information was provided, so inferred frequency W-WED will be used.\n",
      "  self._init_dates(dates, freq)\n",
      "/Users/blankajarmoszko/opt/anaconda3/lib/python3.9/site-packages/statsmodels/base/model.py:607: ConvergenceWarning: Maximum Likelihood optimization failed to converge. Check mle_retvals\n",
      "  warnings.warn(\"Maximum Likelihood optimization failed to \"\n"
     ]
    },
    {
     "data": {
      "image/png": "[encoded data removed]",
      "text/plain": [
       "<Figure size 864x432 with 1 Axes>"
      ]
     },
     "metadata": {
      "needs_background": "light"
     },
     "output_type": "display_data"
    },
    {
     "name": "stdout",
     "output_type": "stream",
     "text": [
      "RMSE on test data: 0.0003554422201422536\n"
     ]
    }
   ],
   "source": [
    "# Use the best_params obtained from grid search\n",
    "\n",
    "best_params = {'p': 1, 'd': 0, 'q': 1, 'P': 0, 'D': 0, 'Q': 0, 'seasonal_period': 12}\n",
    "\n",
    "# Fit SARIMA model with best_params\n",
    "order = (best_params['p'], best_params['d'], best_params['q'])\n",
    "seasonal_order = (best_params['P'], best_params['D'], best_params['Q'], best_params['seasonal_period'])\n",
    "model = SARIMAX(train_data['Additional_Doses_Vax_Pct'], exog=exogenous_train, order=order, seasonal_order=seasonal_order)\n",
    "result = model.fit(disp=False)\n",
    "\n",
    "# Forecast future values on the test set\n",
    "forecast = result.get_forecast(steps=len(test_data), exog=exogenous_test)\n",
    "forecast_mean = forecast.predicted_mean\n",
    "\n",
    "# Forecast future values on the training set\n",
    "train_forecast = result.get_forecast(steps=len(train_data), exog=exogenous_train)\n",
    "train_forecast_mean = train_forecast.predicted_mean\n",
    "\n",
    "# Calculate RMSE on the training set\n",
    "train_rmse = sqrt(mean_squared_error(train_data['Additional_Doses_Vax_Pct'], train_forecast_mean))\n",
    "print(f'RMSE on train data: {train_rmse}')\n",
    "\n",
    "# Plotting the results\n",
    "plt.figure(figsize=(12, 6))\n",
    "#plt.plot(train_data.index, train_data['Additional_Doses_Vax_Pct'], label='Train')\n",
    "plt.plot(train_data.index, train_data['Additional_Doses_Vax_Pct'], label='Actual Train')\n",
    "plt.plot(train_data.index, train_forecast_mean, label='Forecasted Train')\n",
    "plt.plot(test_data.index, test_data['Additional_Doses_Vax_Pct'], label='Actual Test')\n",
    "plt.plot(test_data.index, forecast_mean, label='Forecast')\n",
    "plt.xlabel('Date')\n",
    "plt.ylabel('Additional_Doses_Vax_Pct')\n",
    "plt.legend()\n",
    "plt.show()\n",
    "\n",
    "# Calculate RMSE on the test set\n",
    "rmse = sqrt(mean_squared_error(test_data['Additional_Doses_Vax_Pct'], forecast_mean))\n",
    "print(f'RMSE on test data: {rmse}')\n"
   ]
  },
  {
   "cell_type": "code",
   "execution_count": null,
   "id": "721871a8",
   "metadata": {},
   "outputs": [],
   "source": []
  }
 ],
 "metadata": {
  "kernelspec": {
   "display_name": "Python 3 (ipykernel)",
   "language": "python",
   "name": "python3"
  },
  "language_info": {
   "codemirror_mode": {
    "name": "ipython",
    "version": 3
   },
   "file_extension": ".py",
   "mimetype": "text/x-python",
   "name": "python",
   "nbconvert_exporter": "python",
   "pygments_lexer": "ipython3",
   "version": "3.9.7"
  }
 },
 "nbformat": 4,
 "nbformat_minor": 5
}
