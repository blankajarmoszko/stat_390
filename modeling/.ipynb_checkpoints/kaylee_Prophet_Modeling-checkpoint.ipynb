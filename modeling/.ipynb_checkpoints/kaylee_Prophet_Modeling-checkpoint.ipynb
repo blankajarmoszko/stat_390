{
 "cells": [
  {
   "cell_type": "markdown",
   "id": "d2833bb8",
   "metadata": {},
   "source": [
    "Prophet Modeling\n",
    "\n",
    "-  Prophet is capable of handling missing data points and outliers, making it a robust tool for forecasting real-world data\n",
    "- single regressor model typically refers to a model where you have only one predictor variable (regressor) to forecast the target variable (usually a time series)\n",
    "- In the case of Prophet, the single regressor model means you have one additional input feature (regressor) to aid in forecasting the target time series data\n",
    "- Prophet allows you to include additional regressor variables to improve the accuracy of your forecasts. These regressors can represent any relevant information that might impact the time series you are trying to predict. For example, if you are forecasting daily sales data, a regressor could be a binary variable indicating whether it's a holiday or not. Including such additional information can help Prophet make more accurate predictions.\n",
    "\n",
    "- Additive Regressive Model\n",
    "- y(t) = g(t) (trend factor) + h(t) (holiday component) + s(t) (seasonality component) + e\n",
    "\n",
    "- Trend factor: logistic growth model or piecewise linear model"
   ]
  },
  {
   "cell_type": "code",
   "execution_count": 1,
   "id": "b1fbda7a",
   "metadata": {},
   "outputs": [],
   "source": [
    "import pandas as pd\n",
    "from prophet import Prophet\n",
    "import numpy as np\n",
    "import matplotlib.pyplot as plt\n",
    "from sklearn.metrics import mean_squared_error, mean_absolute_error\n",
    "from math import sqrt"
   ]
  },
  {
   "cell_type": "code",
   "execution_count": 2,
   "id": "0c186863",
   "metadata": {},
   "outputs": [
    {
     "data": {
      "text/html": [
       "<div>\n",
       "<style scoped>\n",
       "    .dataframe tbody tr th:only-of-type {\n",
       "        vertical-align: middle;\n",
       "    }\n",
       "\n",
       "    .dataframe tbody tr th {\n",
       "        vertical-align: top;\n",
       "    }\n",
       "\n",
       "    .dataframe thead th {\n",
       "        text-align: right;\n",
       "    }\n",
       "</style>\n",
       "<table border=\"1\" class=\"dataframe\">\n",
       "  <thead>\n",
       "    <tr style=\"text-align: right;\">\n",
       "      <th></th>\n",
       "      <th>Date</th>\n",
       "      <th>MMWR_week</th>\n",
       "      <th>Location</th>\n",
       "      <th>Distributed</th>\n",
       "      <th>Distributed_Janssen</th>\n",
       "      <th>Distributed_Moderna</th>\n",
       "      <th>Distributed_Pfizer</th>\n",
       "      <th>Distributed_Unk_Manuf</th>\n",
       "      <th>Dist_Per_100K</th>\n",
       "      <th>Distributed_Per_100k_5Plus</th>\n",
       "      <th>...</th>\n",
       "      <th>day_of_week</th>\n",
       "      <th>quarter</th>\n",
       "      <th>dayofyear</th>\n",
       "      <th>dayofmonth</th>\n",
       "      <th>weekofyear</th>\n",
       "      <th>season</th>\n",
       "      <th>holidays</th>\n",
       "      <th>holiday_season</th>\n",
       "      <th>vax_announcement</th>\n",
       "      <th>Additional_Doses_Vax_Pct_1_w_lag</th>\n",
       "    </tr>\n",
       "  </thead>\n",
       "  <tbody>\n",
       "    <tr>\n",
       "      <th>0</th>\n",
       "      <td>2023-05-10</td>\n",
       "      <td>19</td>\n",
       "      <td>NE</td>\n",
       "      <td>5481710</td>\n",
       "      <td>152400</td>\n",
       "      <td>1647380</td>\n",
       "      <td>2905630</td>\n",
       "      <td>0</td>\n",
       "      <td>283379</td>\n",
       "      <td>303944.0</td>\n",
       "      <td>...</td>\n",
       "      <td>Wednesday</td>\n",
       "      <td>2</td>\n",
       "      <td>130</td>\n",
       "      <td>10</td>\n",
       "      <td>19</td>\n",
       "      <td>spring</td>\n",
       "      <td>Normal day</td>\n",
       "      <td>False</td>\n",
       "      <td>False</td>\n",
       "      <td>NaN</td>\n",
       "    </tr>\n",
       "    <tr>\n",
       "      <th>1</th>\n",
       "      <td>2023-05-10</td>\n",
       "      <td>19</td>\n",
       "      <td>LA</td>\n",
       "      <td>10282120</td>\n",
       "      <td>330500</td>\n",
       "      <td>3807980</td>\n",
       "      <td>5164550</td>\n",
       "      <td>0</td>\n",
       "      <td>221178</td>\n",
       "      <td>236516.0</td>\n",
       "      <td>...</td>\n",
       "      <td>Wednesday</td>\n",
       "      <td>2</td>\n",
       "      <td>130</td>\n",
       "      <td>10</td>\n",
       "      <td>19</td>\n",
       "      <td>spring</td>\n",
       "      <td>Normal day</td>\n",
       "      <td>False</td>\n",
       "      <td>False</td>\n",
       "      <td>55.8</td>\n",
       "    </tr>\n",
       "    <tr>\n",
       "      <th>2</th>\n",
       "      <td>2023-05-10</td>\n",
       "      <td>19</td>\n",
       "      <td>GA</td>\n",
       "      <td>28727475</td>\n",
       "      <td>869100</td>\n",
       "      <td>9763000</td>\n",
       "      <td>14773655</td>\n",
       "      <td>0</td>\n",
       "      <td>270569</td>\n",
       "      <td>288404.0</td>\n",
       "      <td>...</td>\n",
       "      <td>Wednesday</td>\n",
       "      <td>2</td>\n",
       "      <td>130</td>\n",
       "      <td>10</td>\n",
       "      <td>19</td>\n",
       "      <td>spring</td>\n",
       "      <td>Normal day</td>\n",
       "      <td>False</td>\n",
       "      <td>False</td>\n",
       "      <td>43.3</td>\n",
       "    </tr>\n",
       "    <tr>\n",
       "      <th>3</th>\n",
       "      <td>2023-05-10</td>\n",
       "      <td>19</td>\n",
       "      <td>WY</td>\n",
       "      <td>1281755</td>\n",
       "      <td>49300</td>\n",
       "      <td>490040</td>\n",
       "      <td>585605</td>\n",
       "      <td>0</td>\n",
       "      <td>221466</td>\n",
       "      <td>235691.0</td>\n",
       "      <td>...</td>\n",
       "      <td>Wednesday</td>\n",
       "      <td>2</td>\n",
       "      <td>130</td>\n",
       "      <td>10</td>\n",
       "      <td>19</td>\n",
       "      <td>spring</td>\n",
       "      <td>Normal day</td>\n",
       "      <td>False</td>\n",
       "      <td>False</td>\n",
       "      <td>44.3</td>\n",
       "    </tr>\n",
       "    <tr>\n",
       "      <th>4</th>\n",
       "      <td>2023-05-10</td>\n",
       "      <td>19</td>\n",
       "      <td>CO</td>\n",
       "      <td>17769135</td>\n",
       "      <td>501900</td>\n",
       "      <td>5402640</td>\n",
       "      <td>9029715</td>\n",
       "      <td>0</td>\n",
       "      <td>308560</td>\n",
       "      <td>327449.0</td>\n",
       "      <td>...</td>\n",
       "      <td>Wednesday</td>\n",
       "      <td>2</td>\n",
       "      <td>130</td>\n",
       "      <td>10</td>\n",
       "      <td>19</td>\n",
       "      <td>spring</td>\n",
       "      <td>Normal day</td>\n",
       "      <td>False</td>\n",
       "      <td>False</td>\n",
       "      <td>47.3</td>\n",
       "    </tr>\n",
       "  </tbody>\n",
       "</table>\n",
       "<p>5 rows × 74 columns</p>\n",
       "</div>"
      ],
      "text/plain": [
       "         Date  MMWR_week Location  Distributed  Distributed_Janssen  \\\n",
       "0  2023-05-10         19       NE      5481710               152400   \n",
       "1  2023-05-10         19       LA     10282120               330500   \n",
       "2  2023-05-10         19       GA     28727475               869100   \n",
       "3  2023-05-10         19       WY      1281755                49300   \n",
       "4  2023-05-10         19       CO     17769135               501900   \n",
       "\n",
       "   Distributed_Moderna  Distributed_Pfizer  Distributed_Unk_Manuf  \\\n",
       "0              1647380             2905630                      0   \n",
       "1              3807980             5164550                      0   \n",
       "2              9763000            14773655                      0   \n",
       "3               490040              585605                      0   \n",
       "4              5402640             9029715                      0   \n",
       "\n",
       "   Dist_Per_100K  Distributed_Per_100k_5Plus  ...  day_of_week  quarter  \\\n",
       "0         283379                    303944.0  ...    Wednesday        2   \n",
       "1         221178                    236516.0  ...    Wednesday        2   \n",
       "2         270569                    288404.0  ...    Wednesday        2   \n",
       "3         221466                    235691.0  ...    Wednesday        2   \n",
       "4         308560                    327449.0  ...    Wednesday        2   \n",
       "\n",
       "   dayofyear  dayofmonth  weekofyear  season    holidays  holiday_season  \\\n",
       "0        130          10          19  spring  Normal day           False   \n",
       "1        130          10          19  spring  Normal day           False   \n",
       "2        130          10          19  spring  Normal day           False   \n",
       "3        130          10          19  spring  Normal day           False   \n",
       "4        130          10          19  spring  Normal day           False   \n",
       "\n",
       "   vax_announcement  Additional_Doses_Vax_Pct_1_w_lag  \n",
       "0             False                               NaN  \n",
       "1             False                              55.8  \n",
       "2             False                              43.3  \n",
       "3             False                              44.3  \n",
       "4             False                              47.3  \n",
       "\n",
       "[5 rows x 74 columns]"
      ]
     },
     "execution_count": 2,
     "metadata": {},
     "output_type": "execute_result"
    }
   ],
   "source": [
    "# import data\n",
    "df = pd.read_csv('df_post_eda.csv')\n",
    "df.head()"
   ]
  },
  {
   "cell_type": "code",
   "execution_count": 3,
   "id": "35b190ec",
   "metadata": {},
   "outputs": [],
   "source": [
    "# Predictive variable\n",
    "pred_var = 'Additional_Doses_Vax_Pct'"
   ]
  },
  {
   "cell_type": "code",
   "execution_count": 4,
   "id": "3e0d6c45",
   "metadata": {},
   "outputs": [],
   "source": [
    "# Date column to datetime format\n",
    "df['Date'] = pd.to_datetime(df['Date'])"
   ]
  },
  {
   "cell_type": "code",
   "execution_count": 5,
   "id": "c77a572b",
   "metadata": {},
   "outputs": [],
   "source": [
    "df['Date'] = pd.to_datetime(df['Date'])\n",
    "df = df.groupby('Date')[pred_var].mean()"
   ]
  },
  {
   "cell_type": "code",
   "execution_count": 6,
   "id": "ccd147b0",
   "metadata": {},
   "outputs": [
    {
     "data": {
      "text/html": [
       "<div>\n",
       "<style scoped>\n",
       "    .dataframe tbody tr th:only-of-type {\n",
       "        vertical-align: middle;\n",
       "    }\n",
       "\n",
       "    .dataframe tbody tr th {\n",
       "        vertical-align: top;\n",
       "    }\n",
       "\n",
       "    .dataframe thead th {\n",
       "        text-align: right;\n",
       "    }\n",
       "</style>\n",
       "<table border=\"1\" class=\"dataframe\">\n",
       "  <thead>\n",
       "    <tr style=\"text-align: right;\">\n",
       "      <th></th>\n",
       "      <th>ds</th>\n",
       "      <th>y</th>\n",
       "    </tr>\n",
       "  </thead>\n",
       "  <tbody>\n",
       "    <tr>\n",
       "      <th>75</th>\n",
       "      <td>2023-04-12</td>\n",
       "      <td>50.951563</td>\n",
       "    </tr>\n",
       "    <tr>\n",
       "      <th>76</th>\n",
       "      <td>2023-04-19</td>\n",
       "      <td>51.012500</td>\n",
       "    </tr>\n",
       "    <tr>\n",
       "      <th>77</th>\n",
       "      <td>2023-04-26</td>\n",
       "      <td>51.034375</td>\n",
       "    </tr>\n",
       "    <tr>\n",
       "      <th>78</th>\n",
       "      <td>2023-05-03</td>\n",
       "      <td>51.064062</td>\n",
       "    </tr>\n",
       "    <tr>\n",
       "      <th>79</th>\n",
       "      <td>2023-05-10</td>\n",
       "      <td>51.076563</td>\n",
       "    </tr>\n",
       "  </tbody>\n",
       "</table>\n",
       "</div>"
      ],
      "text/plain": [
       "           ds          y\n",
       "75 2023-04-12  50.951563\n",
       "76 2023-04-19  51.012500\n",
       "77 2023-04-26  51.034375\n",
       "78 2023-05-03  51.064062\n",
       "79 2023-05-10  51.076563"
      ]
     },
     "execution_count": 6,
     "metadata": {},
     "output_type": "execute_result"
    }
   ],
   "source": [
    "df = pd.DataFrame(df)\n",
    "df.reset_index(level=0, inplace=True)\n",
    "df = df.rename(columns={'Date': 'ds', 'Additional_Doses_Vax_Pct': 'y'})\n",
    "df.tail()"
   ]
  },
  {
   "cell_type": "code",
   "execution_count": 7,
   "id": "2ab8f81e",
   "metadata": {},
   "outputs": [
    {
     "data": {
      "text/html": [
       "<div>\n",
       "<style scoped>\n",
       "    .dataframe tbody tr th:only-of-type {\n",
       "        vertical-align: middle;\n",
       "    }\n",
       "\n",
       "    .dataframe tbody tr th {\n",
       "        vertical-align: top;\n",
       "    }\n",
       "\n",
       "    .dataframe thead th {\n",
       "        text-align: right;\n",
       "    }\n",
       "</style>\n",
       "<table border=\"1\" class=\"dataframe\">\n",
       "  <thead>\n",
       "    <tr style=\"text-align: right;\">\n",
       "      <th></th>\n",
       "      <th>ds</th>\n",
       "      <th>y</th>\n",
       "    </tr>\n",
       "  </thead>\n",
       "  <tbody>\n",
       "    <tr>\n",
       "      <th>0</th>\n",
       "      <td>2021-11-03</td>\n",
       "      <td>10.332812</td>\n",
       "    </tr>\n",
       "    <tr>\n",
       "      <th>1</th>\n",
       "      <td>2021-11-10</td>\n",
       "      <td>13.185937</td>\n",
       "    </tr>\n",
       "    <tr>\n",
       "      <th>2</th>\n",
       "      <td>2021-11-17</td>\n",
       "      <td>15.871875</td>\n",
       "    </tr>\n",
       "    <tr>\n",
       "      <th>3</th>\n",
       "      <td>2021-11-24</td>\n",
       "      <td>18.675000</td>\n",
       "    </tr>\n",
       "    <tr>\n",
       "      <th>4</th>\n",
       "      <td>2021-12-01</td>\n",
       "      <td>20.689062</td>\n",
       "    </tr>\n",
       "  </tbody>\n",
       "</table>\n",
       "</div>"
      ],
      "text/plain": [
       "          ds          y\n",
       "0 2021-11-03  10.332812\n",
       "1 2021-11-10  13.185937\n",
       "2 2021-11-17  15.871875\n",
       "3 2021-11-24  18.675000\n",
       "4 2021-12-01  20.689062"
      ]
     },
     "execution_count": 7,
     "metadata": {},
     "output_type": "execute_result"
    }
   ],
   "source": [
    "df.head()"
   ]
  },
  {
   "cell_type": "markdown",
   "id": "6d0bf3d0",
   "metadata": {},
   "source": [
    "## Initial Prophet"
   ]
  },
  {
   "cell_type": "code",
   "execution_count": 8,
   "id": "5724997f",
   "metadata": {},
   "outputs": [
    {
     "name": "stderr",
     "output_type": "stream",
     "text": [
      "19:09:32 - cmdstanpy - INFO - Chain [1] start processing\n",
      "19:09:32 - cmdstanpy - INFO - Chain [1] done processing\n"
     ]
    },
    {
     "data": {
      "text/plain": [
       "<prophet.forecaster.Prophet at 0x7fe268de56a0>"
      ]
     },
     "execution_count": 8,
     "metadata": {},
     "output_type": "execute_result"
    }
   ],
   "source": [
    "# Instantiating a new Prophet model\n",
    "# Assuming linear regression\n",
    "m = Prophet()\n",
    "m.fit(df)"
   ]
  },
  {
   "cell_type": "code",
   "execution_count": 9,
   "id": "1959f29b",
   "metadata": {},
   "outputs": [
    {
     "data": {
      "text/html": [
       "<div>\n",
       "<style scoped>\n",
       "    .dataframe tbody tr th:only-of-type {\n",
       "        vertical-align: middle;\n",
       "    }\n",
       "\n",
       "    .dataframe tbody tr th {\n",
       "        vertical-align: top;\n",
       "    }\n",
       "\n",
       "    .dataframe thead th {\n",
       "        text-align: right;\n",
       "    }\n",
       "</style>\n",
       "<table border=\"1\" class=\"dataframe\">\n",
       "  <thead>\n",
       "    <tr style=\"text-align: right;\">\n",
       "      <th></th>\n",
       "      <th>ds</th>\n",
       "    </tr>\n",
       "  </thead>\n",
       "  <tbody>\n",
       "    <tr>\n",
       "      <th>127</th>\n",
       "      <td>2024-04-10</td>\n",
       "    </tr>\n",
       "    <tr>\n",
       "      <th>128</th>\n",
       "      <td>2024-04-17</td>\n",
       "    </tr>\n",
       "    <tr>\n",
       "      <th>129</th>\n",
       "      <td>2024-04-24</td>\n",
       "    </tr>\n",
       "    <tr>\n",
       "      <th>130</th>\n",
       "      <td>2024-05-01</td>\n",
       "    </tr>\n",
       "    <tr>\n",
       "      <th>131</th>\n",
       "      <td>2024-05-08</td>\n",
       "    </tr>\n",
       "  </tbody>\n",
       "</table>\n",
       "</div>"
      ],
      "text/plain": [
       "            ds\n",
       "127 2024-04-10\n",
       "128 2024-04-17\n",
       "129 2024-04-24\n",
       "130 2024-05-01\n",
       "131 2024-05-08"
      ]
     },
     "execution_count": 9,
     "metadata": {},
     "output_type": "execute_result"
    }
   ],
   "source": [
    "# Extend DF into future - Weekly on wednesdays\n",
    "future = m.make_future_dataframe(periods=52, freq='W-WED')\n",
    "future.tail()"
   ]
  },
  {
   "cell_type": "code",
   "execution_count": 10,
   "id": "af215750",
   "metadata": {},
   "outputs": [
    {
     "data": {
      "text/html": [
       "<div>\n",
       "<style scoped>\n",
       "    .dataframe tbody tr th:only-of-type {\n",
       "        vertical-align: middle;\n",
       "    }\n",
       "\n",
       "    .dataframe tbody tr th {\n",
       "        vertical-align: top;\n",
       "    }\n",
       "\n",
       "    .dataframe thead th {\n",
       "        text-align: right;\n",
       "    }\n",
       "</style>\n",
       "<table border=\"1\" class=\"dataframe\">\n",
       "  <thead>\n",
       "    <tr style=\"text-align: right;\">\n",
       "      <th></th>\n",
       "      <th>ds</th>\n",
       "      <th>yhat</th>\n",
       "      <th>yhat_lower</th>\n",
       "      <th>yhat_upper</th>\n",
       "    </tr>\n",
       "  </thead>\n",
       "  <tbody>\n",
       "    <tr>\n",
       "      <th>127</th>\n",
       "      <td>2024-04-10</td>\n",
       "      <td>52.786855</td>\n",
       "      <td>32.977865</td>\n",
       "      <td>74.915352</td>\n",
       "    </tr>\n",
       "    <tr>\n",
       "      <th>128</th>\n",
       "      <td>2024-04-17</td>\n",
       "      <td>52.821918</td>\n",
       "      <td>32.164208</td>\n",
       "      <td>75.510635</td>\n",
       "    </tr>\n",
       "    <tr>\n",
       "      <th>129</th>\n",
       "      <td>2024-04-24</td>\n",
       "      <td>52.856981</td>\n",
       "      <td>31.696203</td>\n",
       "      <td>76.351682</td>\n",
       "    </tr>\n",
       "    <tr>\n",
       "      <th>130</th>\n",
       "      <td>2024-05-01</td>\n",
       "      <td>52.892044</td>\n",
       "      <td>30.967136</td>\n",
       "      <td>76.902874</td>\n",
       "    </tr>\n",
       "    <tr>\n",
       "      <th>131</th>\n",
       "      <td>2024-05-08</td>\n",
       "      <td>52.927107</td>\n",
       "      <td>30.344034</td>\n",
       "      <td>77.661878</td>\n",
       "    </tr>\n",
       "  </tbody>\n",
       "</table>\n",
       "</div>"
      ],
      "text/plain": [
       "            ds       yhat  yhat_lower  yhat_upper\n",
       "127 2024-04-10  52.786855   32.977865   74.915352\n",
       "128 2024-04-17  52.821918   32.164208   75.510635\n",
       "129 2024-04-24  52.856981   31.696203   76.351682\n",
       "130 2024-05-01  52.892044   30.967136   76.902874\n",
       "131 2024-05-08  52.927107   30.344034   77.661878"
      ]
     },
     "execution_count": 10,
     "metadata": {},
     "output_type": "execute_result"
    }
   ],
   "source": [
    "# Assign future values a predicted value\n",
    "forecast = m.predict(future)\n",
    "forecast[['ds', 'yhat', 'yhat_lower', 'yhat_upper']].tail()"
   ]
  },
  {
   "cell_type": "code",
   "execution_count": 11,
   "id": "a5a1206f",
   "metadata": {},
   "outputs": [
    {
     "data": {
      "image/png": "[encoded data removed]",
      "text/plain": [
       "<Figure size 720x432 with 1 Axes>"
      ]
     },
     "metadata": {},
     "output_type": "display_data"
    }
   ],
   "source": [
    "# Plot forecast\n",
    "fig1 = m.plot(forecast)"
   ]
  },
  {
   "cell_type": "markdown",
   "id": "0c9cac82",
   "metadata": {},
   "source": [
    "## Max Capacity - Logistic Growth"
   ]
  },
  {
   "cell_type": "code",
   "execution_count": 12,
   "id": "603d76a8",
   "metadata": {},
   "outputs": [],
   "source": [
    "# Need to set max capacity because of logistic regression\n",
    "# set as 53 for now\n",
    "\n",
    "df['cap'] = 53"
   ]
  },
  {
   "cell_type": "code",
   "execution_count": 13,
   "id": "31114de4",
   "metadata": {},
   "outputs": [
    {
     "name": "stderr",
     "output_type": "stream",
     "text": [
      "19:09:33 - cmdstanpy - INFO - Chain [1] start processing\n",
      "19:09:33 - cmdstanpy - INFO - Chain [1] done processing\n"
     ]
    },
    {
     "data": {
      "text/plain": [
       "<prophet.forecaster.Prophet at 0x7fe28d889130>"
      ]
     },
     "execution_count": 13,
     "metadata": {},
     "output_type": "execute_result"
    }
   ],
   "source": [
    "m = Prophet(growth='logistic')\n",
    "m.fit(df)"
   ]
  },
  {
   "cell_type": "code",
   "execution_count": 14,
   "id": "f6d8aa49",
   "metadata": {},
   "outputs": [
    {
     "data": {
      "image/png": "[encoded data removed]",
      "text/plain": [
       "<Figure size 720x432 with 1 Axes>"
      ]
     },
     "metadata": {},
     "output_type": "display_data"
    }
   ],
   "source": [
    "future = m.make_future_dataframe(periods=52, freq='W-WED')\n",
    "future['cap'] = 53\n",
    "fcst = m.predict(future)\n",
    "fig = m.plot(fcst)"
   ]
  },
  {
   "cell_type": "code",
   "execution_count": 15,
   "id": "d7597acd",
   "metadata": {},
   "outputs": [
    {
     "data": {
      "text/html": [
       "<div>\n",
       "<style scoped>\n",
       "    .dataframe tbody tr th:only-of-type {\n",
       "        vertical-align: middle;\n",
       "    }\n",
       "\n",
       "    .dataframe tbody tr th {\n",
       "        vertical-align: top;\n",
       "    }\n",
       "\n",
       "    .dataframe thead th {\n",
       "        text-align: right;\n",
       "    }\n",
       "</style>\n",
       "<table border=\"1\" class=\"dataframe\">\n",
       "  <thead>\n",
       "    <tr style=\"text-align: right;\">\n",
       "      <th></th>\n",
       "      <th>ds</th>\n",
       "      <th>trend</th>\n",
       "      <th>cap</th>\n",
       "      <th>yhat_lower</th>\n",
       "      <th>yhat_upper</th>\n",
       "      <th>trend_lower</th>\n",
       "      <th>trend_upper</th>\n",
       "      <th>additive_terms</th>\n",
       "      <th>additive_terms_lower</th>\n",
       "      <th>additive_terms_upper</th>\n",
       "      <th>multiplicative_terms</th>\n",
       "      <th>multiplicative_terms_lower</th>\n",
       "      <th>multiplicative_terms_upper</th>\n",
       "      <th>yhat</th>\n",
       "    </tr>\n",
       "  </thead>\n",
       "  <tbody>\n",
       "    <tr>\n",
       "      <th>127</th>\n",
       "      <td>2024-04-10</td>\n",
       "      <td>52.998082</td>\n",
       "      <td>53</td>\n",
       "      <td>49.344346</td>\n",
       "      <td>56.924890</td>\n",
       "      <td>52.998082</td>\n",
       "      <td>52.998082</td>\n",
       "      <td>0.0</td>\n",
       "      <td>0.0</td>\n",
       "      <td>0.0</td>\n",
       "      <td>0.0</td>\n",
       "      <td>0.0</td>\n",
       "      <td>0.0</td>\n",
       "      <td>52.998082</td>\n",
       "    </tr>\n",
       "    <tr>\n",
       "      <th>128</th>\n",
       "      <td>2024-04-17</td>\n",
       "      <td>52.998238</td>\n",
       "      <td>53</td>\n",
       "      <td>49.536241</td>\n",
       "      <td>56.697151</td>\n",
       "      <td>52.998238</td>\n",
       "      <td>52.998238</td>\n",
       "      <td>0.0</td>\n",
       "      <td>0.0</td>\n",
       "      <td>0.0</td>\n",
       "      <td>0.0</td>\n",
       "      <td>0.0</td>\n",
       "      <td>0.0</td>\n",
       "      <td>52.998238</td>\n",
       "    </tr>\n",
       "    <tr>\n",
       "      <th>129</th>\n",
       "      <td>2024-04-24</td>\n",
       "      <td>52.998380</td>\n",
       "      <td>53</td>\n",
       "      <td>48.925376</td>\n",
       "      <td>56.589987</td>\n",
       "      <td>52.998380</td>\n",
       "      <td>52.998380</td>\n",
       "      <td>0.0</td>\n",
       "      <td>0.0</td>\n",
       "      <td>0.0</td>\n",
       "      <td>0.0</td>\n",
       "      <td>0.0</td>\n",
       "      <td>0.0</td>\n",
       "      <td>52.998380</td>\n",
       "    </tr>\n",
       "    <tr>\n",
       "      <th>130</th>\n",
       "      <td>2024-05-01</td>\n",
       "      <td>52.998512</td>\n",
       "      <td>53</td>\n",
       "      <td>48.941932</td>\n",
       "      <td>56.855190</td>\n",
       "      <td>52.998512</td>\n",
       "      <td>52.998512</td>\n",
       "      <td>0.0</td>\n",
       "      <td>0.0</td>\n",
       "      <td>0.0</td>\n",
       "      <td>0.0</td>\n",
       "      <td>0.0</td>\n",
       "      <td>0.0</td>\n",
       "      <td>52.998512</td>\n",
       "    </tr>\n",
       "    <tr>\n",
       "      <th>131</th>\n",
       "      <td>2024-05-08</td>\n",
       "      <td>52.998632</td>\n",
       "      <td>53</td>\n",
       "      <td>49.058595</td>\n",
       "      <td>56.828107</td>\n",
       "      <td>52.998632</td>\n",
       "      <td>52.998632</td>\n",
       "      <td>0.0</td>\n",
       "      <td>0.0</td>\n",
       "      <td>0.0</td>\n",
       "      <td>0.0</td>\n",
       "      <td>0.0</td>\n",
       "      <td>0.0</td>\n",
       "      <td>52.998632</td>\n",
       "    </tr>\n",
       "  </tbody>\n",
       "</table>\n",
       "</div>"
      ],
      "text/plain": [
       "            ds      trend  cap  yhat_lower  yhat_upper  trend_lower  \\\n",
       "127 2024-04-10  52.998082   53   49.344346   56.924890    52.998082   \n",
       "128 2024-04-17  52.998238   53   49.536241   56.697151    52.998238   \n",
       "129 2024-04-24  52.998380   53   48.925376   56.589987    52.998380   \n",
       "130 2024-05-01  52.998512   53   48.941932   56.855190    52.998512   \n",
       "131 2024-05-08  52.998632   53   49.058595   56.828107    52.998632   \n",
       "\n",
       "     trend_upper  additive_terms  additive_terms_lower  additive_terms_upper  \\\n",
       "127    52.998082             0.0                   0.0                   0.0   \n",
       "128    52.998238             0.0                   0.0                   0.0   \n",
       "129    52.998380             0.0                   0.0                   0.0   \n",
       "130    52.998512             0.0                   0.0                   0.0   \n",
       "131    52.998632             0.0                   0.0                   0.0   \n",
       "\n",
       "     multiplicative_terms  multiplicative_terms_lower  \\\n",
       "127                   0.0                         0.0   \n",
       "128                   0.0                         0.0   \n",
       "129                   0.0                         0.0   \n",
       "130                   0.0                         0.0   \n",
       "131                   0.0                         0.0   \n",
       "\n",
       "     multiplicative_terms_upper       yhat  \n",
       "127                         0.0  52.998082  \n",
       "128                         0.0  52.998238  \n",
       "129                         0.0  52.998380  \n",
       "130                         0.0  52.998512  \n",
       "131                         0.0  52.998632  "
      ]
     },
     "execution_count": 15,
     "metadata": {},
     "output_type": "execute_result"
    }
   ],
   "source": [
    "fcst.tail()"
   ]
  },
  {
   "cell_type": "code",
   "execution_count": 16,
   "id": "b98701f8",
   "metadata": {},
   "outputs": [],
   "source": [
    "# Initial RMSE\n",
    "\n",
    "# Extract actual values and predicted values\n",
    "actual_values = df['y']\n",
    "predicted_values = fcst['yhat'][:-52] "
   ]
  },
  {
   "cell_type": "code",
   "execution_count": 17,
   "id": "49079cdf",
   "metadata": {},
   "outputs": [
    {
     "name": "stdout",
     "output_type": "stream",
     "text": [
      "Root Mean Squared Error (RMSE): 2.9593725179628465\n"
     ]
    }
   ],
   "source": [
    "# Calculate RMSE\n",
    "rmse = np.sqrt(mean_squared_error(actual_values, predicted_values))\n",
    "print(\"Root Mean Squared Error (RMSE):\", rmse)"
   ]
  },
  {
   "cell_type": "code",
   "execution_count": 18,
   "id": "ad0e802b",
   "metadata": {},
   "outputs": [
    {
     "data": {
      "text/plain": [
       "2.555044788524841"
      ]
     },
     "execution_count": 18,
     "metadata": {},
     "output_type": "execute_result"
    }
   ],
   "source": [
    "mean_absolute_error(actual_values,\n",
    "                   predicted_values)"
   ]
  },
  {
   "cell_type": "markdown",
   "id": "45ff4fe0",
   "metadata": {},
   "source": [
    "## Change Points"
   ]
  },
  {
   "cell_type": "code",
   "execution_count": 19,
   "id": "b5694e60",
   "metadata": {},
   "outputs": [
    {
     "data": {
      "image/png": "[encoded data removed]",
      "text/plain": [
       "<Figure size 720x432 with 1 Axes>"
      ]
     },
     "metadata": {},
     "output_type": "display_data"
    }
   ],
   "source": [
    "from prophet.plot import add_changepoints_to_plot\n",
    "fig = m.plot(forecast)\n",
    "a = add_changepoints_to_plot(fig.gca(), m, forecast)"
   ]
  },
  {
   "cell_type": "code",
   "execution_count": 20,
   "id": "092577dd",
   "metadata": {},
   "outputs": [],
   "source": [
    "# Change points doesn't apply - logistic regression"
   ]
  },
  {
   "cell_type": "markdown",
   "id": "a69ebd5d",
   "metadata": {},
   "source": [
    "## Adding Country Holidays"
   ]
  },
  {
   "cell_type": "code",
   "execution_count": 21,
   "id": "96993f31",
   "metadata": {},
   "outputs": [],
   "source": [
    "df.drop('cap', axis=1, inplace=True)"
   ]
  },
  {
   "cell_type": "code",
   "execution_count": 22,
   "id": "1bbd7651",
   "metadata": {},
   "outputs": [
    {
     "name": "stderr",
     "output_type": "stream",
     "text": [
      "19:09:33 - cmdstanpy - INFO - Chain [1] start processing\n",
      "19:09:34 - cmdstanpy - INFO - Chain [1] done processing\n"
     ]
    },
    {
     "data": {
      "text/plain": [
       "<prophet.forecaster.Prophet at 0x7fe28dd2f460>"
      ]
     },
     "execution_count": 22,
     "metadata": {},
     "output_type": "execute_result"
    }
   ],
   "source": [
    "# Python\n",
    "m_Holiday = Prophet()\n",
    "m_Holiday.add_country_holidays(country_name='US')\n",
    "m_Holiday.fit(df)"
   ]
  },
  {
   "cell_type": "code",
   "execution_count": 23,
   "id": "b0dfc6a2",
   "metadata": {},
   "outputs": [
    {
     "data": {
      "text/plain": [
       "0                          Martin Luther King Jr. Day\n",
       "1                               Washington's Birthday\n",
       "2                                        Columbus Day\n",
       "3                                      New Year's Day\n",
       "4                           New Year's Day (Observed)\n",
       "5                                        Memorial Day\n",
       "6                Juneteenth National Independence Day\n",
       "7     Juneteenth National Independence Day (Observed)\n",
       "8                                    Independence Day\n",
       "9                         Independence Day (Observed)\n",
       "10                                          Labor Day\n",
       "11                                       Veterans Day\n",
       "12                                       Thanksgiving\n",
       "13                                      Christmas Day\n",
       "14                           Christmas Day (Observed)\n",
       "15                            Veterans Day (Observed)\n",
       "dtype: object"
      ]
     },
     "execution_count": 23,
     "metadata": {},
     "output_type": "execute_result"
    }
   ],
   "source": [
    "m_Holiday.train_holiday_names"
   ]
  },
  {
   "cell_type": "code",
   "execution_count": 24,
   "id": "bcfe452f",
   "metadata": {},
   "outputs": [],
   "source": [
    "future = m_Holiday.make_future_dataframe(periods=52, freq='W-WED')"
   ]
  },
  {
   "cell_type": "code",
   "execution_count": 25,
   "id": "7694dcc2",
   "metadata": {},
   "outputs": [
    {
     "data": {
      "image/png": "[encoded data removed]",
      "text/plain": [
       "<Figure size 648x432 with 2 Axes>"
      ]
     },
     "metadata": {},
     "output_type": "display_data"
    }
   ],
   "source": [
    "forecast = m_Holiday.predict(future)\n",
    "fig = m_Holiday.plot_components(forecast)"
   ]
  },
  {
   "cell_type": "code",
   "execution_count": 26,
   "id": "5abcc79b",
   "metadata": {},
   "outputs": [
    {
     "name": "stdout",
     "output_type": "stream",
     "text": [
      "Root Mean Squared Error (RMSE): 0.1209719874634589\n"
     ]
    }
   ],
   "source": [
    "actual_values = df['y']\n",
    "predicted_values = forecast['yhat'][:-52] \n",
    "rmse = np.sqrt(mean_squared_error(actual_values, predicted_values))\n",
    "print(\"Root Mean Squared Error (RMSE):\", rmse)"
   ]
  },
  {
   "cell_type": "markdown",
   "id": "5b5dab68",
   "metadata": {},
   "source": [
    "Holiday effects are applied to the particular date on which the holiday was specified. With data that has been aggregated to weekly or monthly frequency, holidays that don’t fall on the particular date used in the data will be ignored: for example, a Monday holiday in a weekly time series where each data point is on a Sunday. To include holiday effects in the model, the holiday will need to be moved to the date in the history dataframe for which the effect is desired. Note that with weekly or monthly aggregated data, many holiday effects will be well-captured by the yearly seasonality, so added holidays may only be necessary for holidays that occur in different weeks throughout the time series."
   ]
  },
  {
   "cell_type": "markdown",
   "id": "ecf4236e",
   "metadata": {},
   "source": [
    "# Adding weekly seasonality"
   ]
  },
  {
   "cell_type": "code",
   "execution_count": 29,
   "id": "979ac8ff",
   "metadata": {},
   "outputs": [
    {
     "name": "stderr",
     "output_type": "stream",
     "text": [
      "19:09:59 - cmdstanpy - INFO - Chain [1] start processing\n",
      "19:10:00 - cmdstanpy - INFO - Chain [1] done processing\n"
     ]
    },
    {
     "data": {
      "text/plain": [
       "<prophet.forecaster.Prophet at 0x7fe2692000a0>"
      ]
     },
     "execution_count": 29,
     "metadata": {},
     "output_type": "execute_result"
    }
   ],
   "source": [
    "prophet_model = Prophet(weekly_seasonality=True)\n",
    "prophet_model.fit(df)"
   ]
  },
  {
   "cell_type": "code",
   "execution_count": 30,
   "id": "83f30466",
   "metadata": {},
   "outputs": [],
   "source": [
    "# Extend DF into future - Weekly on wednesdays\n",
    "future = prophet_model.make_future_dataframe(periods=52, freq='W-WED')\n",
    "forecast = prophet_model.predict(future)"
   ]
  },
  {
   "cell_type": "code",
   "execution_count": 31,
   "id": "efd11756",
   "metadata": {},
   "outputs": [
    {
     "name": "stdout",
     "output_type": "stream",
     "text": [
      "Root Mean Squared Error (RMSE): 0.12096993022806114\n"
     ]
    }
   ],
   "source": [
    "actual_values = df['y']\n",
    "predicted_values = forecast['yhat'][:-52] \n",
    "rmse = np.sqrt(mean_squared_error(actual_values, predicted_values))\n",
    "print(\"Root Mean Squared Error (RMSE):\", rmse)"
   ]
  },
  {
   "cell_type": "code",
   "execution_count": null,
   "id": "acb1c590",
   "metadata": {},
   "outputs": [],
   "source": []
  }
 ],
 "metadata": {
  "kernelspec": {
   "display_name": "Python 3 (ipykernel)",
   "language": "python",
   "name": "python3"
  },
  "language_info": {
   "codemirror_mode": {
    "name": "ipython",
    "version": 3
   },
   "file_extension": ".py",
   "mimetype": "text/x-python",
   "name": "python",
   "nbconvert_exporter": "python",
   "pygments_lexer": "ipython3",
   "version": "3.9.12"
  }
 },
 "nbformat": 4,
 "nbformat_minor": 5
}
