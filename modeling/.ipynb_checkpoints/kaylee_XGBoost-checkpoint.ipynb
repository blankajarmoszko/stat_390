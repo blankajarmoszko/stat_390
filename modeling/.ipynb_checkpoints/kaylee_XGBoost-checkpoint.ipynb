{
 "cells": [
  {
   "cell_type": "code",
   "execution_count": 85,
   "id": "2bea2454",
   "metadata": {},
   "outputs": [],
   "source": [
    "# Import libraries\n",
    "import pandas as pd\n",
    "import numpy as np\n",
    "import xgboost as xgb\n",
    "from sklearn.metrics import mean_squared_error, mean_absolute_error\n",
    "from sklearn.model_selection import cross_val_score,train_test_split, KFold, cross_val_predict\n",
    "from sklearn.model_selection import train_test_split, TimeSeriesSplit, RandomizedSearchCV, GridSearchCV\n",
    "import seaborn as sns\n",
    "import matplotlib.pyplot as plt\n",
    "from xgboost import plot_importance, plot_tree\n",
    "import itertools as it\n",
    "import time as time\n",
    "import xgboost as xgb\n",
    "\n",
    "# Suppress all warnings\n",
    "import warnings\n",
    "warnings.simplefilter(\"ignore\")\n",
    "\n",
    "plt.style.use('fivethirtyeight')"
   ]
  },
  {
   "cell_type": "markdown",
   "id": "0d80408a",
   "metadata": {},
   "source": [
    "## Preprocessing & Feature Importances (Lags Too)"
   ]
  },
  {
   "cell_type": "code",
   "execution_count": 2,
   "id": "e933883d",
   "metadata": {},
   "outputs": [
    {
     "data": {
      "text/html": [
       "<div>\n",
       "<style scoped>\n",
       "    .dataframe tbody tr th:only-of-type {\n",
       "        vertical-align: middle;\n",
       "    }\n",
       "\n",
       "    .dataframe tbody tr th {\n",
       "        vertical-align: top;\n",
       "    }\n",
       "\n",
       "    .dataframe thead th {\n",
       "        text-align: right;\n",
       "    }\n",
       "</style>\n",
       "<table border=\"1\" class=\"dataframe\">\n",
       "  <thead>\n",
       "    <tr style=\"text-align: right;\">\n",
       "      <th></th>\n",
       "      <th>Date</th>\n",
       "      <th>MMWR_week</th>\n",
       "      <th>Location</th>\n",
       "      <th>Distributed</th>\n",
       "      <th>Distributed_Janssen</th>\n",
       "      <th>Distributed_Moderna</th>\n",
       "      <th>Distributed_Pfizer</th>\n",
       "      <th>Distributed_Unk_Manuf</th>\n",
       "      <th>Dist_Per_100K</th>\n",
       "      <th>Distributed_Per_100k_5Plus</th>\n",
       "      <th>...</th>\n",
       "      <th>day_of_week</th>\n",
       "      <th>quarter</th>\n",
       "      <th>dayofyear</th>\n",
       "      <th>dayofmonth</th>\n",
       "      <th>weekofyear</th>\n",
       "      <th>season</th>\n",
       "      <th>holidays</th>\n",
       "      <th>holiday_season</th>\n",
       "      <th>vax_announcement</th>\n",
       "      <th>Additional_Doses_Vax_Pct_1_w_lag</th>\n",
       "    </tr>\n",
       "  </thead>\n",
       "  <tbody>\n",
       "    <tr>\n",
       "      <th>0</th>\n",
       "      <td>2023-05-10</td>\n",
       "      <td>19</td>\n",
       "      <td>NE</td>\n",
       "      <td>5481710</td>\n",
       "      <td>152400</td>\n",
       "      <td>1647380</td>\n",
       "      <td>2905630</td>\n",
       "      <td>0</td>\n",
       "      <td>283379</td>\n",
       "      <td>303944.0</td>\n",
       "      <td>...</td>\n",
       "      <td>Wednesday</td>\n",
       "      <td>2</td>\n",
       "      <td>130</td>\n",
       "      <td>10</td>\n",
       "      <td>19</td>\n",
       "      <td>spring</td>\n",
       "      <td>Normal day</td>\n",
       "      <td>False</td>\n",
       "      <td>False</td>\n",
       "      <td>NaN</td>\n",
       "    </tr>\n",
       "    <tr>\n",
       "      <th>1</th>\n",
       "      <td>2023-05-10</td>\n",
       "      <td>19</td>\n",
       "      <td>LA</td>\n",
       "      <td>10282120</td>\n",
       "      <td>330500</td>\n",
       "      <td>3807980</td>\n",
       "      <td>5164550</td>\n",
       "      <td>0</td>\n",
       "      <td>221178</td>\n",
       "      <td>236516.0</td>\n",
       "      <td>...</td>\n",
       "      <td>Wednesday</td>\n",
       "      <td>2</td>\n",
       "      <td>130</td>\n",
       "      <td>10</td>\n",
       "      <td>19</td>\n",
       "      <td>spring</td>\n",
       "      <td>Normal day</td>\n",
       "      <td>False</td>\n",
       "      <td>False</td>\n",
       "      <td>55.8</td>\n",
       "    </tr>\n",
       "    <tr>\n",
       "      <th>2</th>\n",
       "      <td>2023-05-10</td>\n",
       "      <td>19</td>\n",
       "      <td>GA</td>\n",
       "      <td>28727475</td>\n",
       "      <td>869100</td>\n",
       "      <td>9763000</td>\n",
       "      <td>14773655</td>\n",
       "      <td>0</td>\n",
       "      <td>270569</td>\n",
       "      <td>288404.0</td>\n",
       "      <td>...</td>\n",
       "      <td>Wednesday</td>\n",
       "      <td>2</td>\n",
       "      <td>130</td>\n",
       "      <td>10</td>\n",
       "      <td>19</td>\n",
       "      <td>spring</td>\n",
       "      <td>Normal day</td>\n",
       "      <td>False</td>\n",
       "      <td>False</td>\n",
       "      <td>43.3</td>\n",
       "    </tr>\n",
       "    <tr>\n",
       "      <th>3</th>\n",
       "      <td>2023-05-10</td>\n",
       "      <td>19</td>\n",
       "      <td>WY</td>\n",
       "      <td>1281755</td>\n",
       "      <td>49300</td>\n",
       "      <td>490040</td>\n",
       "      <td>585605</td>\n",
       "      <td>0</td>\n",
       "      <td>221466</td>\n",
       "      <td>235691.0</td>\n",
       "      <td>...</td>\n",
       "      <td>Wednesday</td>\n",
       "      <td>2</td>\n",
       "      <td>130</td>\n",
       "      <td>10</td>\n",
       "      <td>19</td>\n",
       "      <td>spring</td>\n",
       "      <td>Normal day</td>\n",
       "      <td>False</td>\n",
       "      <td>False</td>\n",
       "      <td>44.3</td>\n",
       "    </tr>\n",
       "    <tr>\n",
       "      <th>4</th>\n",
       "      <td>2023-05-10</td>\n",
       "      <td>19</td>\n",
       "      <td>CO</td>\n",
       "      <td>17769135</td>\n",
       "      <td>501900</td>\n",
       "      <td>5402640</td>\n",
       "      <td>9029715</td>\n",
       "      <td>0</td>\n",
       "      <td>308560</td>\n",
       "      <td>327449.0</td>\n",
       "      <td>...</td>\n",
       "      <td>Wednesday</td>\n",
       "      <td>2</td>\n",
       "      <td>130</td>\n",
       "      <td>10</td>\n",
       "      <td>19</td>\n",
       "      <td>spring</td>\n",
       "      <td>Normal day</td>\n",
       "      <td>False</td>\n",
       "      <td>False</td>\n",
       "      <td>47.3</td>\n",
       "    </tr>\n",
       "  </tbody>\n",
       "</table>\n",
       "<p>5 rows × 74 columns</p>\n",
       "</div>"
      ],
      "text/plain": [
       "         Date  MMWR_week Location  Distributed  Distributed_Janssen  \\\n",
       "0  2023-05-10         19       NE      5481710               152400   \n",
       "1  2023-05-10         19       LA     10282120               330500   \n",
       "2  2023-05-10         19       GA     28727475               869100   \n",
       "3  2023-05-10         19       WY      1281755                49300   \n",
       "4  2023-05-10         19       CO     17769135               501900   \n",
       "\n",
       "   Distributed_Moderna  Distributed_Pfizer  Distributed_Unk_Manuf  \\\n",
       "0              1647380             2905630                      0   \n",
       "1              3807980             5164550                      0   \n",
       "2              9763000            14773655                      0   \n",
       "3               490040              585605                      0   \n",
       "4              5402640             9029715                      0   \n",
       "\n",
       "   Dist_Per_100K  Distributed_Per_100k_5Plus  ...  day_of_week  quarter  \\\n",
       "0         283379                    303944.0  ...    Wednesday        2   \n",
       "1         221178                    236516.0  ...    Wednesday        2   \n",
       "2         270569                    288404.0  ...    Wednesday        2   \n",
       "3         221466                    235691.0  ...    Wednesday        2   \n",
       "4         308560                    327449.0  ...    Wednesday        2   \n",
       "\n",
       "   dayofyear  dayofmonth  weekofyear  season    holidays  holiday_season  \\\n",
       "0        130          10          19  spring  Normal day           False   \n",
       "1        130          10          19  spring  Normal day           False   \n",
       "2        130          10          19  spring  Normal day           False   \n",
       "3        130          10          19  spring  Normal day           False   \n",
       "4        130          10          19  spring  Normal day           False   \n",
       "\n",
       "   vax_announcement  Additional_Doses_Vax_Pct_1_w_lag  \n",
       "0             False                               NaN  \n",
       "1             False                              55.8  \n",
       "2             False                              43.3  \n",
       "3             False                              44.3  \n",
       "4             False                              47.3  \n",
       "\n",
       "[5 rows x 74 columns]"
      ]
     },
     "execution_count": 2,
     "metadata": {},
     "output_type": "execute_result"
    }
   ],
   "source": [
    "# import data\n",
    "df = pd.read_csv('df_post_eda.csv')\n",
    "df.head()"
   ]
  },
  {
   "cell_type": "code",
   "execution_count": 3,
   "id": "2f64f942",
   "metadata": {},
   "outputs": [],
   "source": [
    "# Date column to datetime format\n",
    "df['Date'] = pd.to_datetime(df['Date'])\n",
    "\n",
    "# Make sure the data is sorted by Date\n",
    "df.sort_values('Date', inplace=True)\n",
    "\n",
    "# Set 'Date' column to index\n",
    "df.set_index('Date', inplace=True)"
   ]
  },
  {
   "cell_type": "code",
   "execution_count": 4,
   "id": "28f6d13a",
   "metadata": {},
   "outputs": [
    {
     "data": {
      "text/html": [
       "<div>\n",
       "<style scoped>\n",
       "    .dataframe tbody tr th:only-of-type {\n",
       "        vertical-align: middle;\n",
       "    }\n",
       "\n",
       "    .dataframe tbody tr th {\n",
       "        vertical-align: top;\n",
       "    }\n",
       "\n",
       "    .dataframe thead th {\n",
       "        text-align: right;\n",
       "    }\n",
       "</style>\n",
       "<table border=\"1\" class=\"dataframe\">\n",
       "  <thead>\n",
       "    <tr style=\"text-align: right;\">\n",
       "      <th></th>\n",
       "      <th>MMWR_week</th>\n",
       "      <th>Distributed</th>\n",
       "      <th>Distributed_Janssen</th>\n",
       "      <th>Distributed_Moderna</th>\n",
       "      <th>Distributed_Pfizer</th>\n",
       "      <th>Distributed_Unk_Manuf</th>\n",
       "      <th>Dist_Per_100K</th>\n",
       "      <th>Distributed_Per_100k_5Plus</th>\n",
       "      <th>Distributed_Per_100k_12Plus</th>\n",
       "      <th>Distributed_Per_100k_18Plus</th>\n",
       "      <th>...</th>\n",
       "      <th>Additional_Doses_Unk_Manuf</th>\n",
       "      <th>month</th>\n",
       "      <th>year</th>\n",
       "      <th>quarter</th>\n",
       "      <th>dayofyear</th>\n",
       "      <th>dayofmonth</th>\n",
       "      <th>weekofyear</th>\n",
       "      <th>holiday_season</th>\n",
       "      <th>vax_announcement</th>\n",
       "      <th>Additional_Doses_Vax_Pct_1_w_lag</th>\n",
       "    </tr>\n",
       "    <tr>\n",
       "      <th>Date</th>\n",
       "      <th></th>\n",
       "      <th></th>\n",
       "      <th></th>\n",
       "      <th></th>\n",
       "      <th></th>\n",
       "      <th></th>\n",
       "      <th></th>\n",
       "      <th></th>\n",
       "      <th></th>\n",
       "      <th></th>\n",
       "      <th></th>\n",
       "      <th></th>\n",
       "      <th></th>\n",
       "      <th></th>\n",
       "      <th></th>\n",
       "      <th></th>\n",
       "      <th></th>\n",
       "      <th></th>\n",
       "      <th></th>\n",
       "      <th></th>\n",
       "      <th></th>\n",
       "    </tr>\n",
       "  </thead>\n",
       "  <tbody>\n",
       "    <tr>\n",
       "      <th>2021-11-03</th>\n",
       "      <td>44.0</td>\n",
       "      <td>1.663188e+07</td>\n",
       "      <td>818798.4375</td>\n",
       "      <td>6.480709e+06</td>\n",
       "      <td>9.242425e+06</td>\n",
       "      <td>89947.65625</td>\n",
       "      <td>146818.062500</td>\n",
       "      <td>152028.625000</td>\n",
       "      <td>167037.250000</td>\n",
       "      <td>186038.703125</td>\n",
       "      <td>...</td>\n",
       "      <td>249.390625</td>\n",
       "      <td>11.0</td>\n",
       "      <td>2021.0</td>\n",
       "      <td>4.0</td>\n",
       "      <td>307.0</td>\n",
       "      <td>3.0</td>\n",
       "      <td>44.0</td>\n",
       "      <td>0.0</td>\n",
       "      <td>0.0</td>\n",
       "      <td>10.367188</td>\n",
       "    </tr>\n",
       "    <tr>\n",
       "      <th>2021-11-10</th>\n",
       "      <td>45.0</td>\n",
       "      <td>1.714537e+07</td>\n",
       "      <td>836476.5625</td>\n",
       "      <td>6.642025e+06</td>\n",
       "      <td>9.666864e+06</td>\n",
       "      <td>0.00000</td>\n",
       "      <td>151460.531250</td>\n",
       "      <td>156997.781250</td>\n",
       "      <td>173446.453125</td>\n",
       "      <td>194278.203125</td>\n",
       "      <td>...</td>\n",
       "      <td>243.156250</td>\n",
       "      <td>11.0</td>\n",
       "      <td>2021.0</td>\n",
       "      <td>4.0</td>\n",
       "      <td>314.0</td>\n",
       "      <td>10.0</td>\n",
       "      <td>45.0</td>\n",
       "      <td>1.0</td>\n",
       "      <td>0.0</td>\n",
       "      <td>13.204688</td>\n",
       "    </tr>\n",
       "    <tr>\n",
       "      <th>2021-11-17</th>\n",
       "      <td>46.0</td>\n",
       "      <td>1.768302e+07</td>\n",
       "      <td>853621.8750</td>\n",
       "      <td>6.841471e+06</td>\n",
       "      <td>9.987929e+06</td>\n",
       "      <td>0.00000</td>\n",
       "      <td>155606.890625</td>\n",
       "      <td>161287.484375</td>\n",
       "      <td>178169.640625</td>\n",
       "      <td>199577.812500</td>\n",
       "      <td>...</td>\n",
       "      <td>272.468750</td>\n",
       "      <td>11.0</td>\n",
       "      <td>2021.0</td>\n",
       "      <td>4.0</td>\n",
       "      <td>321.0</td>\n",
       "      <td>17.0</td>\n",
       "      <td>46.0</td>\n",
       "      <td>0.0</td>\n",
       "      <td>1.0</td>\n",
       "      <td>15.907813</td>\n",
       "    </tr>\n",
       "    <tr>\n",
       "      <th>2021-11-24</th>\n",
       "      <td>47.0</td>\n",
       "      <td>1.811490e+07</td>\n",
       "      <td>874050.0000</td>\n",
       "      <td>6.908257e+06</td>\n",
       "      <td>1.033259e+07</td>\n",
       "      <td>0.00000</td>\n",
       "      <td>159194.265625</td>\n",
       "      <td>165021.546875</td>\n",
       "      <td>182287.593750</td>\n",
       "      <td>204172.562500</td>\n",
       "      <td>...</td>\n",
       "      <td>310.875000</td>\n",
       "      <td>11.0</td>\n",
       "      <td>2021.0</td>\n",
       "      <td>4.0</td>\n",
       "      <td>328.0</td>\n",
       "      <td>24.0</td>\n",
       "      <td>47.0</td>\n",
       "      <td>1.0</td>\n",
       "      <td>0.0</td>\n",
       "      <td>18.985937</td>\n",
       "    </tr>\n",
       "    <tr>\n",
       "      <th>2021-12-01</th>\n",
       "      <td>48.0</td>\n",
       "      <td>1.822699e+07</td>\n",
       "      <td>882312.5000</td>\n",
       "      <td>6.931029e+06</td>\n",
       "      <td>1.041364e+07</td>\n",
       "      <td>0.00000</td>\n",
       "      <td>160201.109375</td>\n",
       "      <td>166069.109375</td>\n",
       "      <td>183443.203125</td>\n",
       "      <td>205459.156250</td>\n",
       "      <td>...</td>\n",
       "      <td>332.187500</td>\n",
       "      <td>12.0</td>\n",
       "      <td>2021.0</td>\n",
       "      <td>4.0</td>\n",
       "      <td>335.0</td>\n",
       "      <td>1.0</td>\n",
       "      <td>48.0</td>\n",
       "      <td>0.0</td>\n",
       "      <td>1.0</td>\n",
       "      <td>20.384375</td>\n",
       "    </tr>\n",
       "  </tbody>\n",
       "</table>\n",
       "<p>5 rows × 69 columns</p>\n",
       "</div>"
      ],
      "text/plain": [
       "            MMWR_week   Distributed  Distributed_Janssen  Distributed_Moderna  \\\n",
       "Date                                                                            \n",
       "2021-11-03       44.0  1.663188e+07          818798.4375         6.480709e+06   \n",
       "2021-11-10       45.0  1.714537e+07          836476.5625         6.642025e+06   \n",
       "2021-11-17       46.0  1.768302e+07          853621.8750         6.841471e+06   \n",
       "2021-11-24       47.0  1.811490e+07          874050.0000         6.908257e+06   \n",
       "2021-12-01       48.0  1.822699e+07          882312.5000         6.931029e+06   \n",
       "\n",
       "            Distributed_Pfizer  Distributed_Unk_Manuf  Dist_Per_100K  \\\n",
       "Date                                                                   \n",
       "2021-11-03        9.242425e+06            89947.65625  146818.062500   \n",
       "2021-11-10        9.666864e+06                0.00000  151460.531250   \n",
       "2021-11-17        9.987929e+06                0.00000  155606.890625   \n",
       "2021-11-24        1.033259e+07                0.00000  159194.265625   \n",
       "2021-12-01        1.041364e+07                0.00000  160201.109375   \n",
       "\n",
       "            Distributed_Per_100k_5Plus  Distributed_Per_100k_12Plus  \\\n",
       "Date                                                                  \n",
       "2021-11-03               152028.625000                167037.250000   \n",
       "2021-11-10               156997.781250                173446.453125   \n",
       "2021-11-17               161287.484375                178169.640625   \n",
       "2021-11-24               165021.546875                182287.593750   \n",
       "2021-12-01               166069.109375                183443.203125   \n",
       "\n",
       "            Distributed_Per_100k_18Plus  ...  Additional_Doses_Unk_Manuf  \\\n",
       "Date                                     ...                               \n",
       "2021-11-03                186038.703125  ...                  249.390625   \n",
       "2021-11-10                194278.203125  ...                  243.156250   \n",
       "2021-11-17                199577.812500  ...                  272.468750   \n",
       "2021-11-24                204172.562500  ...                  310.875000   \n",
       "2021-12-01                205459.156250  ...                  332.187500   \n",
       "\n",
       "            month    year  quarter  dayofyear  dayofmonth  weekofyear  \\\n",
       "Date                                                                    \n",
       "2021-11-03   11.0  2021.0      4.0      307.0         3.0        44.0   \n",
       "2021-11-10   11.0  2021.0      4.0      314.0        10.0        45.0   \n",
       "2021-11-17   11.0  2021.0      4.0      321.0        17.0        46.0   \n",
       "2021-11-24   11.0  2021.0      4.0      328.0        24.0        47.0   \n",
       "2021-12-01   12.0  2021.0      4.0      335.0         1.0        48.0   \n",
       "\n",
       "            holiday_season  vax_announcement  Additional_Doses_Vax_Pct_1_w_lag  \n",
       "Date                                                                            \n",
       "2021-11-03             0.0               0.0                         10.367188  \n",
       "2021-11-10             1.0               0.0                         13.204688  \n",
       "2021-11-17             0.0               1.0                         15.907813  \n",
       "2021-11-24             1.0               0.0                         18.985937  \n",
       "2021-12-01             0.0               1.0                         20.384375  \n",
       "\n",
       "[5 rows x 69 columns]"
      ]
     },
     "execution_count": 4,
     "metadata": {},
     "output_type": "execute_result"
    }
   ],
   "source": [
    "# Group df by date\n",
    "grouped = df.groupby(df.index).mean()\n",
    "grouped.head()"
   ]
  },
  {
   "cell_type": "code",
   "execution_count": 5,
   "id": "375ef9ae",
   "metadata": {},
   "outputs": [
    {
     "data": {
      "text/plain": [
       "Index(['MMWR_week', 'Distributed', 'Distributed_Janssen',\n",
       "       'Distributed_Moderna', 'Distributed_Pfizer', 'Distributed_Unk_Manuf',\n",
       "       'Dist_Per_100K', 'Distributed_Per_100k_5Plus',\n",
       "       'Distributed_Per_100k_12Plus', 'Distributed_Per_100k_18Plus',\n",
       "       'Distributed_Per_100k_65Plus', 'Administered', 'Administered_5Plus',\n",
       "       'Administered_12Plus', 'Administered_18Plus', 'Administered_65Plus',\n",
       "       'Administered_Janssen', 'Administered_Moderna', 'Administered_Pfizer',\n",
       "       'Administered_Unk_Manuf', 'Admin_Per_100K', 'Admin_Per_100k_5Plus',\n",
       "       'Admin_Per_100k_12Plus', 'Admin_Per_100k_18Plus',\n",
       "       'Admin_Per_100k_65Plus', 'Recip_Administered',\n",
       "       'Administered_Dose1_Pop_Pct', 'Administered_Dose1_Recip_5PlusPop_Pct',\n",
       "       'Administered_Dose1_Recip_12PlusPop_Pct',\n",
       "       'Administered_Dose1_Recip_18PlusPop_Pct',\n",
       "       'Administered_Dose1_Recip_65PlusPop_Pct', 'Series_Complete_Pop_Pct',\n",
       "       'Series_Complete_5PlusPop_Pct', 'Series_Complete_12PlusPop_Pct',\n",
       "       'Series_Complete_18PlusPop_Pct', 'Series_Complete_65PlusPop_Pct',\n",
       "       'Series_Complete_Janssen', 'Series_Complete_Moderna',\n",
       "       'Series_Complete_Pfizer', 'Series_Complete_Unk_Manuf',\n",
       "       'Series_Complete_Janssen_12Plus', 'Series_Complete_Moderna_12Plus',\n",
       "       'Series_Complete_Pfizer_12Plus', 'Series_Complete_Unk_Manuf_12Plus',\n",
       "       'Series_Complete_Janssen_18Plus', 'Series_Complete_Moderna_18Plus',\n",
       "       'Series_Complete_Pfizer_18Plus', 'Series_Complete_Unk_Manuf_18Plus',\n",
       "       'Series_Complete_Janssen_65Plus', 'Series_Complete_Moderna_65Plus',\n",
       "       'Series_Complete_Pfizer_65Plus', 'Series_Complete_Unk_Manuf_65Plus',\n",
       "       'Additional_Doses_Vax_Pct', 'Additional_Doses_18Plus_Vax_Pct',\n",
       "       'Additional_Doses_50Plus_Vax_Pct', 'Additional_Doses_65Plus_Vax_Pct',\n",
       "       'Additional_Doses_Moderna', 'Additional_Doses_Pfizer',\n",
       "       'Additional_Doses_Janssen', 'Additional_Doses_Unk_Manuf', 'month',\n",
       "       'year', 'quarter', 'dayofyear', 'dayofmonth', 'weekofyear',\n",
       "       'holiday_season', 'vax_announcement',\n",
       "       'Additional_Doses_Vax_Pct_1_w_lag'],\n",
       "      dtype='object')"
      ]
     },
     "execution_count": 5,
     "metadata": {},
     "output_type": "execute_result"
    }
   ],
   "source": [
    "grouped.columns"
   ]
  },
  {
   "cell_type": "code",
   "execution_count": 6,
   "id": "5213277d",
   "metadata": {},
   "outputs": [],
   "source": [
    "# Dropping Unncessary Columns\n",
    "\n",
    "columns_to_drop = ['MMWR_week', 'Additional_Doses_Vax_Pct_1_w_lag'] #MMWR_week and weekofyear are same\n",
    "# I am going to lag myself\n",
    "\n",
    "# Drop the specified columns\n",
    "df = grouped.drop(columns=columns_to_drop)"
   ]
  },
  {
   "cell_type": "code",
   "execution_count": 7,
   "id": "36746879",
   "metadata": {},
   "outputs": [
    {
     "data": {
      "text/html": [
       "<div>\n",
       "<style scoped>\n",
       "    .dataframe tbody tr th:only-of-type {\n",
       "        vertical-align: middle;\n",
       "    }\n",
       "\n",
       "    .dataframe tbody tr th {\n",
       "        vertical-align: top;\n",
       "    }\n",
       "\n",
       "    .dataframe thead th {\n",
       "        text-align: right;\n",
       "    }\n",
       "</style>\n",
       "<table border=\"1\" class=\"dataframe\">\n",
       "  <thead>\n",
       "    <tr style=\"text-align: right;\">\n",
       "      <th></th>\n",
       "      <th>Distributed</th>\n",
       "      <th>Distributed_Janssen</th>\n",
       "      <th>Distributed_Moderna</th>\n",
       "      <th>Distributed_Pfizer</th>\n",
       "      <th>Distributed_Unk_Manuf</th>\n",
       "      <th>Dist_Per_100K</th>\n",
       "      <th>Distributed_Per_100k_5Plus</th>\n",
       "      <th>Distributed_Per_100k_12Plus</th>\n",
       "      <th>Distributed_Per_100k_18Plus</th>\n",
       "      <th>Distributed_Per_100k_65Plus</th>\n",
       "      <th>...</th>\n",
       "      <th>Additional_Doses_Janssen</th>\n",
       "      <th>Additional_Doses_Unk_Manuf</th>\n",
       "      <th>month</th>\n",
       "      <th>year</th>\n",
       "      <th>quarter</th>\n",
       "      <th>dayofyear</th>\n",
       "      <th>dayofmonth</th>\n",
       "      <th>weekofyear</th>\n",
       "      <th>holiday_season</th>\n",
       "      <th>vax_announcement</th>\n",
       "    </tr>\n",
       "    <tr>\n",
       "      <th>Date</th>\n",
       "      <th></th>\n",
       "      <th></th>\n",
       "      <th></th>\n",
       "      <th></th>\n",
       "      <th></th>\n",
       "      <th></th>\n",
       "      <th></th>\n",
       "      <th></th>\n",
       "      <th></th>\n",
       "      <th></th>\n",
       "      <th></th>\n",
       "      <th></th>\n",
       "      <th></th>\n",
       "      <th></th>\n",
       "      <th></th>\n",
       "      <th></th>\n",
       "      <th></th>\n",
       "      <th></th>\n",
       "      <th></th>\n",
       "      <th></th>\n",
       "      <th></th>\n",
       "    </tr>\n",
       "  </thead>\n",
       "  <tbody>\n",
       "    <tr>\n",
       "      <th>2021-11-03</th>\n",
       "      <td>0.000000</td>\n",
       "      <td>0.000000</td>\n",
       "      <td>0.000000</td>\n",
       "      <td>0.000000</td>\n",
       "      <td>1.0</td>\n",
       "      <td>0.000000</td>\n",
       "      <td>0.000000</td>\n",
       "      <td>0.000000</td>\n",
       "      <td>0.000000</td>\n",
       "      <td>0.000000</td>\n",
       "      <td>...</td>\n",
       "      <td>0.000000</td>\n",
       "      <td>0.002677</td>\n",
       "      <td>0.909091</td>\n",
       "      <td>0.0</td>\n",
       "      <td>1.0</td>\n",
       "      <td>0.844011</td>\n",
       "      <td>0.066667</td>\n",
       "      <td>0.843137</td>\n",
       "      <td>0.0</td>\n",
       "      <td>0.0</td>\n",
       "    </tr>\n",
       "    <tr>\n",
       "      <th>2021-11-10</th>\n",
       "      <td>0.035505</td>\n",
       "      <td>0.083761</td>\n",
       "      <td>0.034580</td>\n",
       "      <td>0.045848</td>\n",
       "      <td>0.0</td>\n",
       "      <td>0.035776</td>\n",
       "      <td>0.035678</td>\n",
       "      <td>0.041371</td>\n",
       "      <td>0.048715</td>\n",
       "      <td>0.137336</td>\n",
       "      <td>...</td>\n",
       "      <td>0.085305</td>\n",
       "      <td>0.000000</td>\n",
       "      <td>0.909091</td>\n",
       "      <td>0.0</td>\n",
       "      <td>1.0</td>\n",
       "      <td>0.863510</td>\n",
       "      <td>0.300000</td>\n",
       "      <td>0.862745</td>\n",
       "      <td>1.0</td>\n",
       "      <td>0.0</td>\n",
       "    </tr>\n",
       "    <tr>\n",
       "      <th>2021-11-17</th>\n",
       "      <td>0.072682</td>\n",
       "      <td>0.164997</td>\n",
       "      <td>0.077333</td>\n",
       "      <td>0.080529</td>\n",
       "      <td>0.0</td>\n",
       "      <td>0.067730</td>\n",
       "      <td>0.066477</td>\n",
       "      <td>0.071859</td>\n",
       "      <td>0.080049</td>\n",
       "      <td>0.163318</td>\n",
       "      <td>...</td>\n",
       "      <td>0.164947</td>\n",
       "      <td>0.012586</td>\n",
       "      <td>0.909091</td>\n",
       "      <td>0.0</td>\n",
       "      <td>1.0</td>\n",
       "      <td>0.883008</td>\n",
       "      <td>0.533333</td>\n",
       "      <td>0.882353</td>\n",
       "      <td>0.0</td>\n",
       "      <td>1.0</td>\n",
       "    </tr>\n",
       "  </tbody>\n",
       "</table>\n",
       "<p>3 rows × 67 columns</p>\n",
       "</div>"
      ],
      "text/plain": [
       "            Distributed  Distributed_Janssen  Distributed_Moderna  \\\n",
       "Date                                                                \n",
       "2021-11-03     0.000000             0.000000             0.000000   \n",
       "2021-11-10     0.035505             0.083761             0.034580   \n",
       "2021-11-17     0.072682             0.164997             0.077333   \n",
       "\n",
       "            Distributed_Pfizer  Distributed_Unk_Manuf  Dist_Per_100K  \\\n",
       "Date                                                                   \n",
       "2021-11-03            0.000000                    1.0       0.000000   \n",
       "2021-11-10            0.045848                    0.0       0.035776   \n",
       "2021-11-17            0.080529                    0.0       0.067730   \n",
       "\n",
       "            Distributed_Per_100k_5Plus  Distributed_Per_100k_12Plus  \\\n",
       "Date                                                                  \n",
       "2021-11-03                    0.000000                     0.000000   \n",
       "2021-11-10                    0.035678                     0.041371   \n",
       "2021-11-17                    0.066477                     0.071859   \n",
       "\n",
       "            Distributed_Per_100k_18Plus  Distributed_Per_100k_65Plus  ...  \\\n",
       "Date                                                                  ...   \n",
       "2021-11-03                     0.000000                     0.000000  ...   \n",
       "2021-11-10                     0.048715                     0.137336  ...   \n",
       "2021-11-17                     0.080049                     0.163318  ...   \n",
       "\n",
       "            Additional_Doses_Janssen  Additional_Doses_Unk_Manuf     month  \\\n",
       "Date                                                                         \n",
       "2021-11-03                  0.000000                    0.002677  0.909091   \n",
       "2021-11-10                  0.085305                    0.000000  0.909091   \n",
       "2021-11-17                  0.164947                    0.012586  0.909091   \n",
       "\n",
       "            year  quarter  dayofyear  dayofmonth  weekofyear  holiday_season  \\\n",
       "Date                                                                           \n",
       "2021-11-03   0.0      1.0   0.844011    0.066667    0.843137             0.0   \n",
       "2021-11-10   0.0      1.0   0.863510    0.300000    0.862745             1.0   \n",
       "2021-11-17   0.0      1.0   0.883008    0.533333    0.882353             0.0   \n",
       "\n",
       "            vax_announcement  \n",
       "Date                          \n",
       "2021-11-03               0.0  \n",
       "2021-11-10               0.0  \n",
       "2021-11-17               1.0  \n",
       "\n",
       "[3 rows x 67 columns]"
      ]
     },
     "execution_count": 7,
     "metadata": {},
     "output_type": "execute_result"
    }
   ],
   "source": [
    "# Scale data \n",
    "from sklearn.preprocessing import MinMaxScaler\n",
    "scaler = MinMaxScaler()\n",
    "df_scaled = pd.DataFrame(scaler.fit_transform(df), columns=df.columns, index=df.index)\n",
    "df_scaled.head(3)"
   ]
  },
  {
   "cell_type": "code",
   "execution_count": 8,
   "id": "98a4a287",
   "metadata": {},
   "outputs": [
    {
     "data": {
      "text/html": [
       "<div>\n",
       "<style scoped>\n",
       "    .dataframe tbody tr th:only-of-type {\n",
       "        vertical-align: middle;\n",
       "    }\n",
       "\n",
       "    .dataframe tbody tr th {\n",
       "        vertical-align: top;\n",
       "    }\n",
       "\n",
       "    .dataframe thead th {\n",
       "        text-align: right;\n",
       "    }\n",
       "</style>\n",
       "<table border=\"1\" class=\"dataframe\">\n",
       "  <thead>\n",
       "    <tr style=\"text-align: right;\">\n",
       "      <th></th>\n",
       "      <th>Additional_Doses_Vax_Pct</th>\n",
       "      <th>holiday_season</th>\n",
       "      <th>vax_announcement</th>\n",
       "      <th>lag1_Distributed</th>\n",
       "      <th>lag1_Distributed_Janssen</th>\n",
       "      <th>lag1_Distributed_Moderna</th>\n",
       "      <th>lag1_Distributed_Pfizer</th>\n",
       "      <th>lag1_Distributed_Unk_Manuf</th>\n",
       "      <th>lag1_Dist_Per_100K</th>\n",
       "      <th>lag1_Distributed_Per_100k_5Plus</th>\n",
       "      <th>...</th>\n",
       "      <th>lag1_Additional_Doses_Moderna</th>\n",
       "      <th>lag1_Additional_Doses_Pfizer</th>\n",
       "      <th>lag1_Additional_Doses_Janssen</th>\n",
       "      <th>lag1_Additional_Doses_Unk_Manuf</th>\n",
       "      <th>lag1_month</th>\n",
       "      <th>lag1_year</th>\n",
       "      <th>lag1_quarter</th>\n",
       "      <th>lag1_dayofyear</th>\n",
       "      <th>lag1_dayofmonth</th>\n",
       "      <th>lag1_weekofyear</th>\n",
       "    </tr>\n",
       "    <tr>\n",
       "      <th>Date</th>\n",
       "      <th></th>\n",
       "      <th></th>\n",
       "      <th></th>\n",
       "      <th></th>\n",
       "      <th></th>\n",
       "      <th></th>\n",
       "      <th></th>\n",
       "      <th></th>\n",
       "      <th></th>\n",
       "      <th></th>\n",
       "      <th></th>\n",
       "      <th></th>\n",
       "      <th></th>\n",
       "      <th></th>\n",
       "      <th></th>\n",
       "      <th></th>\n",
       "      <th></th>\n",
       "      <th></th>\n",
       "      <th></th>\n",
       "      <th></th>\n",
       "      <th></th>\n",
       "    </tr>\n",
       "  </thead>\n",
       "  <tbody>\n",
       "    <tr>\n",
       "      <th>2021-11-03</th>\n",
       "      <td>0.000000</td>\n",
       "      <td>0.0</td>\n",
       "      <td>0.0</td>\n",
       "      <td>0.000000</td>\n",
       "      <td>0.000000</td>\n",
       "      <td>0.000000</td>\n",
       "      <td>0.000000</td>\n",
       "      <td>0.0</td>\n",
       "      <td>0.000000</td>\n",
       "      <td>0.000000</td>\n",
       "      <td>...</td>\n",
       "      <td>0.000000</td>\n",
       "      <td>0.000000</td>\n",
       "      <td>0.000000</td>\n",
       "      <td>0.000000</td>\n",
       "      <td>0.000000</td>\n",
       "      <td>0.0</td>\n",
       "      <td>0.0</td>\n",
       "      <td>0.000000</td>\n",
       "      <td>0.000000</td>\n",
       "      <td>0.000000</td>\n",
       "    </tr>\n",
       "    <tr>\n",
       "      <th>2021-11-10</th>\n",
       "      <td>0.070026</td>\n",
       "      <td>1.0</td>\n",
       "      <td>0.0</td>\n",
       "      <td>0.000000</td>\n",
       "      <td>0.000000</td>\n",
       "      <td>0.000000</td>\n",
       "      <td>0.000000</td>\n",
       "      <td>1.0</td>\n",
       "      <td>0.000000</td>\n",
       "      <td>0.000000</td>\n",
       "      <td>...</td>\n",
       "      <td>0.000000</td>\n",
       "      <td>0.000000</td>\n",
       "      <td>0.000000</td>\n",
       "      <td>0.002677</td>\n",
       "      <td>0.909091</td>\n",
       "      <td>0.0</td>\n",
       "      <td>1.0</td>\n",
       "      <td>0.844011</td>\n",
       "      <td>0.066667</td>\n",
       "      <td>0.843137</td>\n",
       "    </tr>\n",
       "    <tr>\n",
       "      <th>2021-11-17</th>\n",
       "      <td>0.135949</td>\n",
       "      <td>0.0</td>\n",
       "      <td>1.0</td>\n",
       "      <td>0.035505</td>\n",
       "      <td>0.083761</td>\n",
       "      <td>0.034580</td>\n",
       "      <td>0.045848</td>\n",
       "      <td>0.0</td>\n",
       "      <td>0.035776</td>\n",
       "      <td>0.035678</td>\n",
       "      <td>...</td>\n",
       "      <td>0.075766</td>\n",
       "      <td>0.039331</td>\n",
       "      <td>0.085305</td>\n",
       "      <td>0.000000</td>\n",
       "      <td>0.909091</td>\n",
       "      <td>0.0</td>\n",
       "      <td>1.0</td>\n",
       "      <td>0.863510</td>\n",
       "      <td>0.300000</td>\n",
       "      <td>0.862745</td>\n",
       "    </tr>\n",
       "    <tr>\n",
       "      <th>2021-11-24</th>\n",
       "      <td>0.204748</td>\n",
       "      <td>1.0</td>\n",
       "      <td>0.0</td>\n",
       "      <td>0.072682</td>\n",
       "      <td>0.164997</td>\n",
       "      <td>0.077333</td>\n",
       "      <td>0.080529</td>\n",
       "      <td>0.0</td>\n",
       "      <td>0.067730</td>\n",
       "      <td>0.066477</td>\n",
       "      <td>...</td>\n",
       "      <td>0.147337</td>\n",
       "      <td>0.080079</td>\n",
       "      <td>0.164947</td>\n",
       "      <td>0.012586</td>\n",
       "      <td>0.909091</td>\n",
       "      <td>0.0</td>\n",
       "      <td>1.0</td>\n",
       "      <td>0.883008</td>\n",
       "      <td>0.533333</td>\n",
       "      <td>0.882353</td>\n",
       "    </tr>\n",
       "    <tr>\n",
       "      <th>2021-12-01</th>\n",
       "      <td>0.254180</td>\n",
       "      <td>0.0</td>\n",
       "      <td>1.0</td>\n",
       "      <td>0.102544</td>\n",
       "      <td>0.261788</td>\n",
       "      <td>0.091649</td>\n",
       "      <td>0.117759</td>\n",
       "      <td>0.0</td>\n",
       "      <td>0.095375</td>\n",
       "      <td>0.093287</td>\n",
       "      <td>...</td>\n",
       "      <td>0.224831</td>\n",
       "      <td>0.128386</td>\n",
       "      <td>0.248347</td>\n",
       "      <td>0.029076</td>\n",
       "      <td>0.909091</td>\n",
       "      <td>0.0</td>\n",
       "      <td>1.0</td>\n",
       "      <td>0.902507</td>\n",
       "      <td>0.766667</td>\n",
       "      <td>0.901961</td>\n",
       "    </tr>\n",
       "  </tbody>\n",
       "</table>\n",
       "<p>5 rows × 68 columns</p>\n",
       "</div>"
      ],
      "text/plain": [
       "            Additional_Doses_Vax_Pct  holiday_season  vax_announcement  \\\n",
       "Date                                                                     \n",
       "2021-11-03                  0.000000             0.0               0.0   \n",
       "2021-11-10                  0.070026             1.0               0.0   \n",
       "2021-11-17                  0.135949             0.0               1.0   \n",
       "2021-11-24                  0.204748             1.0               0.0   \n",
       "2021-12-01                  0.254180             0.0               1.0   \n",
       "\n",
       "            lag1_Distributed  lag1_Distributed_Janssen  \\\n",
       "Date                                                     \n",
       "2021-11-03          0.000000                  0.000000   \n",
       "2021-11-10          0.000000                  0.000000   \n",
       "2021-11-17          0.035505                  0.083761   \n",
       "2021-11-24          0.072682                  0.164997   \n",
       "2021-12-01          0.102544                  0.261788   \n",
       "\n",
       "            lag1_Distributed_Moderna  lag1_Distributed_Pfizer  \\\n",
       "Date                                                            \n",
       "2021-11-03                  0.000000                 0.000000   \n",
       "2021-11-10                  0.000000                 0.000000   \n",
       "2021-11-17                  0.034580                 0.045848   \n",
       "2021-11-24                  0.077333                 0.080529   \n",
       "2021-12-01                  0.091649                 0.117759   \n",
       "\n",
       "            lag1_Distributed_Unk_Manuf  lag1_Dist_Per_100K  \\\n",
       "Date                                                         \n",
       "2021-11-03                         0.0            0.000000   \n",
       "2021-11-10                         1.0            0.000000   \n",
       "2021-11-17                         0.0            0.035776   \n",
       "2021-11-24                         0.0            0.067730   \n",
       "2021-12-01                         0.0            0.095375   \n",
       "\n",
       "            lag1_Distributed_Per_100k_5Plus  ...  \\\n",
       "Date                                         ...   \n",
       "2021-11-03                         0.000000  ...   \n",
       "2021-11-10                         0.000000  ...   \n",
       "2021-11-17                         0.035678  ...   \n",
       "2021-11-24                         0.066477  ...   \n",
       "2021-12-01                         0.093287  ...   \n",
       "\n",
       "            lag1_Additional_Doses_Moderna  lag1_Additional_Doses_Pfizer  \\\n",
       "Date                                                                      \n",
       "2021-11-03                       0.000000                      0.000000   \n",
       "2021-11-10                       0.000000                      0.000000   \n",
       "2021-11-17                       0.075766                      0.039331   \n",
       "2021-11-24                       0.147337                      0.080079   \n",
       "2021-12-01                       0.224831                      0.128386   \n",
       "\n",
       "            lag1_Additional_Doses_Janssen  lag1_Additional_Doses_Unk_Manuf  \\\n",
       "Date                                                                         \n",
       "2021-11-03                       0.000000                         0.000000   \n",
       "2021-11-10                       0.000000                         0.002677   \n",
       "2021-11-17                       0.085305                         0.000000   \n",
       "2021-11-24                       0.164947                         0.012586   \n",
       "2021-12-01                       0.248347                         0.029076   \n",
       "\n",
       "            lag1_month  lag1_year  lag1_quarter  lag1_dayofyear  \\\n",
       "Date                                                              \n",
       "2021-11-03    0.000000        0.0           0.0        0.000000   \n",
       "2021-11-10    0.909091        0.0           1.0        0.844011   \n",
       "2021-11-17    0.909091        0.0           1.0        0.863510   \n",
       "2021-11-24    0.909091        0.0           1.0        0.883008   \n",
       "2021-12-01    0.909091        0.0           1.0        0.902507   \n",
       "\n",
       "            lag1_dayofmonth  lag1_weekofyear  \n",
       "Date                                          \n",
       "2021-11-03         0.000000         0.000000  \n",
       "2021-11-10         0.066667         0.843137  \n",
       "2021-11-17         0.300000         0.862745  \n",
       "2021-11-24         0.533333         0.882353  \n",
       "2021-12-01         0.766667         0.901961  \n",
       "\n",
       "[5 rows x 68 columns]"
      ]
     },
     "execution_count": 8,
     "metadata": {},
     "output_type": "execute_result"
    }
   ],
   "source": [
    "# Adding lag of 1 to columns -> looking at PACF graph\n",
    "def process(df, columns_to_exclude=['holiday_season', 'vax_announcement']):\n",
    "    columns_to_lag = [col for col in df.columns if col not in columns_to_exclude]\n",
    "    lag1df = df[columns_to_lag].shift(1)\n",
    "    lag1df.columns = ['lag1_' + str(col) for col in lag1df.columns]\n",
    "    df=df[['Additional_Doses_Vax_Pct', 'holiday_season', 'vax_announcement']].join(lag1df)\n",
    "    return df.fillna(0) \n",
    "df = process(df_scaled)\n",
    "df.head()"
   ]
  },
  {
   "cell_type": "code",
   "execution_count": 10,
   "id": "aa50070c",
   "metadata": {},
   "outputs": [
    {
     "name": "stdout",
     "output_type": "stream",
     "text": [
      "(61, 68) (19, 68)\n"
     ]
    }
   ],
   "source": [
    "# Splitting data into Train and Test -> test is from start of 2023 and beyond\n",
    "\n",
    "split_date = '2023-01-03'\n",
    "\n",
    "train = df[df.index < split_date]\n",
    "test= df[df.index >= split_date]\n",
    "print(train.shape, test.shape)"
   ]
  },
  {
   "cell_type": "code",
   "execution_count": 11,
   "id": "d7563676",
   "metadata": {},
   "outputs": [],
   "source": [
    "pred_var = 'Additional_Doses_Vax_Pct'\n",
    "X_train, y_train = train.drop(pred_var, axis=1), train[pred_var]\n",
    "X_test, y_test = test.drop(pred_var, axis=1), test[pred_var]"
   ]
  },
  {
   "cell_type": "markdown",
   "id": "3cf2b47f",
   "metadata": {},
   "source": [
    "### Base Model"
   ]
  },
  {
   "cell_type": "code",
   "execution_count": 13,
   "id": "24cedbb4",
   "metadata": {},
   "outputs": [
    {
     "name": "stdout",
     "output_type": "stream",
     "text": [
      "[0]\tvalidation_0-rmse:0.26226\tvalidation_1-rmse:0.37300\n",
      "[1]\tvalidation_0-rmse:0.18960\tvalidation_1-rmse:0.28266\n",
      "[2]\tvalidation_0-rmse:0.13775\tvalidation_1-rmse:0.21640\n",
      "[3]\tvalidation_0-rmse:0.10051\tvalidation_1-rmse:0.16739\n",
      "[4]\tvalidation_0-rmse:0.07408\tvalidation_1-rmse:0.13520\n",
      "[5]\tvalidation_0-rmse:0.05489\tvalidation_1-rmse:0.10716\n",
      "[6]\tvalidation_0-rmse:0.04116\tvalidation_1-rmse:0.08502\n",
      "[7]\tvalidation_0-rmse:0.03122\tvalidation_1-rmse:0.06940\n",
      "[8]\tvalidation_0-rmse:0.02403\tvalidation_1-rmse:0.05688\n",
      "[9]\tvalidation_0-rmse:0.01890\tvalidation_1-rmse:0.04793\n",
      "[10]\tvalidation_0-rmse:0.01497\tvalidation_1-rmse:0.04058\n",
      "[11]\tvalidation_0-rmse:0.01198\tvalidation_1-rmse:0.03513\n",
      "[12]\tvalidation_0-rmse:0.00972\tvalidation_1-rmse:0.03088\n",
      "[13]\tvalidation_0-rmse:0.00803\tvalidation_1-rmse:0.02749\n",
      "[14]\tvalidation_0-rmse:0.00672\tvalidation_1-rmse:0.02569\n",
      "[15]\tvalidation_0-rmse:0.00560\tvalidation_1-rmse:0.02416\n",
      "[16]\tvalidation_0-rmse:0.00476\tvalidation_1-rmse:0.02346\n",
      "[17]\tvalidation_0-rmse:0.00406\tvalidation_1-rmse:0.02303\n",
      "[18]\tvalidation_0-rmse:0.00343\tvalidation_1-rmse:0.02278\n",
      "[19]\tvalidation_0-rmse:0.00293\tvalidation_1-rmse:0.02236\n",
      "[20]\tvalidation_0-rmse:0.00253\tvalidation_1-rmse:0.02209\n",
      "[21]\tvalidation_0-rmse:0.00216\tvalidation_1-rmse:0.02191\n",
      "[22]\tvalidation_0-rmse:0.00185\tvalidation_1-rmse:0.02180\n",
      "[23]\tvalidation_0-rmse:0.00161\tvalidation_1-rmse:0.02220\n",
      "[24]\tvalidation_0-rmse:0.00140\tvalidation_1-rmse:0.02237\n",
      "[25]\tvalidation_0-rmse:0.00125\tvalidation_1-rmse:0.02234\n",
      "[26]\tvalidation_0-rmse:0.00112\tvalidation_1-rmse:0.02253\n",
      "[27]\tvalidation_0-rmse:0.00101\tvalidation_1-rmse:0.02259\n",
      "[28]\tvalidation_0-rmse:0.00096\tvalidation_1-rmse:0.02268\n",
      "[29]\tvalidation_0-rmse:0.00092\tvalidation_1-rmse:0.02276\n",
      "[30]\tvalidation_0-rmse:0.00088\tvalidation_1-rmse:0.02283\n",
      "[31]\tvalidation_0-rmse:0.00086\tvalidation_1-rmse:0.02283\n"
     ]
    },
    {
     "data": {
      "text/plain": [
       "XGBRegressor(base_score=None, booster=None, callbacks=None,\n",
       "             colsample_bylevel=None, colsample_bynode=None,\n",
       "             colsample_bytree=None, early_stopping_rounds=10,\n",
       "             enable_categorical=False, eval_metric=None, feature_types=None,\n",
       "             gamma=None, gpu_id=None, grow_policy=None, importance_type=None,\n",
       "             interaction_constraints=None, learning_rate=None, max_bin=None,\n",
       "             max_cat_threshold=None, max_cat_to_onehot=None,\n",
       "             max_delta_step=None, max_depth=None, max_leaves=None,\n",
       "             min_child_weight=None, missing=nan, monotone_constraints=None,\n",
       "             n_estimators=1000, n_jobs=None, num_parallel_tree=None,\n",
       "             predictor=None, random_state=None, ...)"
      ]
     },
     "execution_count": 13,
     "metadata": {},
     "output_type": "execute_result"
    }
   ],
   "source": [
    "reg = xgb.XGBRegressor(n_estimators=1000, early_stopping_rounds=10)\n",
    "reg.fit(X_train, y_train, eval_set=[(X_train, y_train), (X_test, y_test)], verbose=True)"
   ]
  },
  {
   "cell_type": "code",
   "execution_count": 19,
   "id": "4b7b1cd1",
   "metadata": {},
   "outputs": [
    {
     "name": "stdout",
     "output_type": "stream",
     "text": [
      "Train RMSE: 0.0018504543723000836\n",
      "Test RMSE: 0.021802618661274798\n"
     ]
    }
   ],
   "source": [
    "y_train_pred = reg.predict(X_train)\n",
    "y_test_pred = reg.predict(X_test)\n",
    "\n",
    "train_rmse = np.sqrt(mean_squared_error(y_train, y_train_pred))\n",
    "test_rmse = np.sqrt(mean_squared_error(y_test, y_test_pred))\n",
    "\n",
    "print(f\"Train RMSE: {train_rmse}\")\n",
    "print(f\"Test RMSE: {test_rmse}\")"
   ]
  },
  {
   "cell_type": "code",
   "execution_count": 40,
   "id": "f16348ba",
   "metadata": {},
   "outputs": [],
   "source": [
    "# seems too have overfitting issues"
   ]
  },
  {
   "cell_type": "code",
   "execution_count": 37,
   "id": "4834965c",
   "metadata": {},
   "outputs": [
    {
     "data": {
      "text/plain": [
       "<matplotlib.legend.Legend at 0x7f98af1e7df0>"
      ]
     },
     "execution_count": 37,
     "metadata": {},
     "output_type": "execute_result"
    },
    {
     "data": {
      "image/png": "[encoded data removed]",
      "text/plain": [
       "<Figure size 1080x360 with 1 Axes>"
      ]
     },
     "metadata": {},
     "output_type": "display_data"
    }
   ],
   "source": [
    "pd.concat([y_train.reset_index()['Additional_Doses_Vax_Pct'], pd.Series(y_train_pred)], axis=1).plot(figsize=(15,5)) \n",
    "plt.legend(['train', 'train_pred'])"
   ]
  },
  {
   "cell_type": "code",
   "execution_count": 39,
   "id": "255217f0",
   "metadata": {},
   "outputs": [
    {
     "data": {
      "text/plain": [
       "<matplotlib.legend.Legend at 0x7f98d934f400>"
      ]
     },
     "execution_count": 39,
     "metadata": {},
     "output_type": "execute_result"
    },
    {
     "data": {
      "image/png": "[encoded data removed]",
      "text/plain": [
       "<Figure size 1080x360 with 1 Axes>"
      ]
     },
     "metadata": {},
     "output_type": "display_data"
    }
   ],
   "source": [
    "pd.concat([y_test.reset_index()['Additional_Doses_Vax_Pct'], pd.Series(y_test_pred)], axis=1).plot(figsize=(15,5)) \n",
    "plt.legend(['test', 'test_pred'])"
   ]
  },
  {
   "cell_type": "code",
   "execution_count": 46,
   "id": "b89541ef",
   "metadata": {},
   "outputs": [
    {
     "data": {
      "image/png": "[encoded data removed]",
      "text/plain": [
       "<Figure size 432x288 with 1 Axes>"
      ]
     },
     "metadata": {},
     "output_type": "display_data"
    }
   ],
   "source": [
    "# Get feature importances\n",
    "feature_importances = pd.Series(reg.feature_importances_, index=X_train.columns)\n",
    "top_10_features = feature_importances.sort_values(ascending=False).head(10)\n",
    "\n",
    "# Plot top 10 feature importances\n",
    "top_10_features.plot(kind='bar')\n",
    "plt.title('Top 10 Feature Importances')\n",
    "plt.show()"
   ]
  },
  {
   "cell_type": "code",
   "execution_count": 49,
   "id": "fcaa7595",
   "metadata": {},
   "outputs": [
    {
     "name": "stdout",
     "output_type": "stream",
     "text": [
      "[0]\tvalidation_0-rmse:0.26226\tvalidation_1-rmse:0.37300\n",
      "[1]\tvalidation_0-rmse:0.18960\tvalidation_1-rmse:0.28266\n",
      "[2]\tvalidation_0-rmse:0.13775\tvalidation_1-rmse:0.21640\n",
      "[3]\tvalidation_0-rmse:0.10051\tvalidation_1-rmse:0.16739\n",
      "[4]\tvalidation_0-rmse:0.07408\tvalidation_1-rmse:0.13520\n",
      "[5]\tvalidation_0-rmse:0.05489\tvalidation_1-rmse:0.10716\n",
      "[6]\tvalidation_0-rmse:0.04118\tvalidation_1-rmse:0.08502\n",
      "[7]\tvalidation_0-rmse:0.03130\tvalidation_1-rmse:0.06940\n",
      "[8]\tvalidation_0-rmse:0.02417\tvalidation_1-rmse:0.05688\n",
      "[9]\tvalidation_0-rmse:0.01912\tvalidation_1-rmse:0.04743\n",
      "[10]\tvalidation_0-rmse:0.01517\tvalidation_1-rmse:0.04021\n",
      "[11]\tvalidation_0-rmse:0.01226\tvalidation_1-rmse:0.03528\n",
      "[12]\tvalidation_0-rmse:0.01012\tvalidation_1-rmse:0.03099\n",
      "[13]\tvalidation_0-rmse:0.00841\tvalidation_1-rmse:0.02757\n",
      "[14]\tvalidation_0-rmse:0.00709\tvalidation_1-rmse:0.02567\n",
      "[15]\tvalidation_0-rmse:0.00606\tvalidation_1-rmse:0.02415\n",
      "[16]\tvalidation_0-rmse:0.00524\tvalidation_1-rmse:0.02297\n",
      "[17]\tvalidation_0-rmse:0.00457\tvalidation_1-rmse:0.02219\n",
      "[18]\tvalidation_0-rmse:0.00402\tvalidation_1-rmse:0.02168\n",
      "[19]\tvalidation_0-rmse:0.00354\tvalidation_1-rmse:0.02129\n",
      "[20]\tvalidation_0-rmse:0.00314\tvalidation_1-rmse:0.02103\n",
      "[21]\tvalidation_0-rmse:0.00274\tvalidation_1-rmse:0.02088\n",
      "[22]\tvalidation_0-rmse:0.00243\tvalidation_1-rmse:0.02079\n",
      "[23]\tvalidation_0-rmse:0.00225\tvalidation_1-rmse:0.02074\n",
      "[24]\tvalidation_0-rmse:0.00206\tvalidation_1-rmse:0.02083\n",
      "[25]\tvalidation_0-rmse:0.00186\tvalidation_1-rmse:0.02077\n",
      "[26]\tvalidation_0-rmse:0.00179\tvalidation_1-rmse:0.02053\n",
      "[27]\tvalidation_0-rmse:0.00166\tvalidation_1-rmse:0.02016\n",
      "[28]\tvalidation_0-rmse:0.00163\tvalidation_1-rmse:0.02027\n",
      "[29]\tvalidation_0-rmse:0.00160\tvalidation_1-rmse:0.02036\n",
      "[30]\tvalidation_0-rmse:0.00158\tvalidation_1-rmse:0.02043\n",
      "[31]\tvalidation_0-rmse:0.00157\tvalidation_1-rmse:0.02050\n",
      "[32]\tvalidation_0-rmse:0.00156\tvalidation_1-rmse:0.02049\n",
      "[33]\tvalidation_0-rmse:0.00155\tvalidation_1-rmse:0.02055\n",
      "[34]\tvalidation_0-rmse:0.00149\tvalidation_1-rmse:0.02056\n",
      "[35]\tvalidation_0-rmse:0.00149\tvalidation_1-rmse:0.02055\n",
      "[36]\tvalidation_0-rmse:0.00149\tvalidation_1-rmse:0.02059\n",
      "[37]\tvalidation_0-rmse:0.00148\tvalidation_1-rmse:0.02045\n"
     ]
    },
    {
     "data": {
      "text/plain": [
       "XGBRegressor(base_score=None, booster=None, callbacks=None,\n",
       "             colsample_bylevel=None, colsample_bynode=None,\n",
       "             colsample_bytree=None, early_stopping_rounds=10,\n",
       "             enable_categorical=False, eval_metric=None, feature_types=None,\n",
       "             gamma=None, gpu_id=None, grow_policy=None, importance_type=None,\n",
       "             interaction_constraints=None, learning_rate=None, max_bin=None,\n",
       "             max_cat_threshold=None, max_cat_to_onehot=None,\n",
       "             max_delta_step=None, max_depth=None, max_leaves=None,\n",
       "             min_child_weight=None, missing=nan, monotone_constraints=None,\n",
       "             n_estimators=1000, n_jobs=None, num_parallel_tree=None,\n",
       "             predictor=None, random_state=None, ...)"
      ]
     },
     "execution_count": 49,
     "metadata": {},
     "output_type": "execute_result"
    }
   ],
   "source": [
    "# Base XGBoost model with just top 10 features\n",
    "X_train_top10 = X_train[top_10_features.index]\n",
    "X_test_top10 = X_test[top_10_features.index]\n",
    "\n",
    "reg = xgb.XGBRegressor(n_estimators=1000, early_stopping_rounds=10)\n",
    "reg.fit(X_train_top10, y_train, eval_set=[(X_train_top10, y_train), (X_test_top10, y_test)], verbose=True)"
   ]
  },
  {
   "cell_type": "code",
   "execution_count": 50,
   "id": "7155f2fe",
   "metadata": {},
   "outputs": [
    {
     "name": "stdout",
     "output_type": "stream",
     "text": [
      "Train RMSE: 0.0016619708811932306\n",
      "Test RMSE: 0.02016371462014783\n"
     ]
    }
   ],
   "source": [
    "y_train_pred = reg.predict(X_train_top10)\n",
    "y_test_pred = reg.predict(X_test_top10)\n",
    "\n",
    "train_rmse = np.sqrt(mean_squared_error(y_train, y_train_pred))\n",
    "test_rmse = np.sqrt(mean_squared_error(y_test, y_test_pred))\n",
    "\n",
    "print(f\"Train RMSE: {train_rmse}\")\n",
    "print(f\"Test RMSE: {test_rmse}\") #not much of a difference to base model, just less features"
   ]
  },
  {
   "cell_type": "code",
   "execution_count": 51,
   "id": "3d89096e",
   "metadata": {},
   "outputs": [
    {
     "data": {
      "text/plain": [
       "<matplotlib.legend.Legend at 0x7f98af926820>"
      ]
     },
     "execution_count": 51,
     "metadata": {},
     "output_type": "execute_result"
    },
    {
     "data": {
      "image/png": "[encoded data removed]",
      "text/plain": [
       "<Figure size 1080x360 with 1 Axes>"
      ]
     },
     "metadata": {},
     "output_type": "display_data"
    }
   ],
   "source": [
    "pd.concat([y_test.reset_index()['Additional_Doses_Vax_Pct'], pd.Series(y_test_pred)], axis=1).plot(figsize=(15,5)) \n",
    "plt.legend(['test', 'test_pred']) #one point with very low value, seems to be very much overfitting to train data"
   ]
  },
  {
   "cell_type": "markdown",
   "id": "dcfcf6ea",
   "metadata": {},
   "source": [
    "## Parameter Tuning"
   ]
  },
  {
   "cell_type": "code",
   "execution_count": 52,
   "id": "2153f6db",
   "metadata": {},
   "outputs": [],
   "source": [
    "X_train_top10 = X_train[top_10_features.index] #utilizing feature importances\n",
    "X_test_top10 = X_test[top_10_features.index]\n",
    "#y_train and y_test as is "
   ]
  },
  {
   "cell_type": "markdown",
   "id": "2a14fec6",
   "metadata": {},
   "source": [
    "### Learning Rate"
   ]
  },
  {
   "cell_type": "code",
   "execution_count": 55,
   "id": "134ea4b8",
   "metadata": {},
   "outputs": [
    {
     "name": "stdout",
     "output_type": "stream",
     "text": [
      ">0.0100 0.1466783290 (0.0280059732)\n",
      ">0.0500 0.0285389118 (0.0228750322)\n",
      ">0.1000 0.0284679363 (0.0205851750)\n",
      ">0.2000 0.0293585391 (0.0200014733)\n",
      ">0.3000 0.0297478872 (0.0199792234)\n",
      ">0.4000 0.0311810576 (0.0199697048)\n",
      ">0.5000 0.0296522196 (0.0184055783)\n",
      ">0.6000 0.0348558257 (0.0204509808)\n",
      ">0.8000 0.0377798702 (0.0218429573)\n",
      ">1.0000 0.0388673220 (0.0294141985)\n"
     ]
    },
    {
     "data": {
      "image/png": "[encoded data removed]",
      "text/plain": [
       "<Figure size 504x504 with 1 Axes>"
      ]
     },
     "metadata": {},
     "output_type": "display_data"
    }
   ],
   "source": [
    "# reduce overfitting -> see hyperparameter values that would do this\n",
    "from sklearn.model_selection import KFold, cross_val_score\n",
    "\n",
    "# Learning Rate\n",
    "def get_models():\n",
    "    models = dict()\n",
    "    # explore learning rates from 0.01 to 2 in 0.1 increments\n",
    "    for i in [0.01, 0.05, 0.1, 0.2, 0.3, 0.4, 0.5, 0.6, 0.8, 1.0]:\n",
    "        key = '%.4f' % i\n",
    "        models[key] = xgb.XGBRegressor(learning_rate=i, random_state=1)\n",
    "    return models\n",
    "\n",
    "# evaluate a given model using cross-validation\n",
    "def evaluate_model(model, X, y):\n",
    "    # define the evaluation procedure\n",
    "    cv = KFold(n_splits=10, shuffle=True, random_state=1)\n",
    "    # evaluate the model and collect the results\n",
    "    scores = np.sqrt(-cross_val_score(model, X, y, scoring='neg_mean_squared_error', cv=cv, n_jobs=-1))\n",
    "    return scores\n",
    "\n",
    "# get the models to evaluate\n",
    "models = get_models()\n",
    "\n",
    "# evaluate the models and store results\n",
    "results, names = list(), list()\n",
    "for name, model in models.items():\n",
    "    # evaluate the model\n",
    "    scores = evaluate_model(model, X_train_top10, y_train)  # Use X_train_top10 and y_train for training\n",
    "    # store the results\n",
    "    results.append(scores)\n",
    "    names.append(name)\n",
    "    # summarize the performance along the way\n",
    "    print('>%s %.10f (%.10f)' % (name, np.mean(scores), np.std(scores)))\n",
    "\n",
    "# plot model performance for comparison\n",
    "plt.figure(figsize=(7, 7))\n",
    "plt.boxplot(results, labels=names, showmeans=True)\n",
    "plt.ylabel('Cross-validation error', fontsize=15)\n",
    "plt.xlabel('Learning rate', fontsize=15)\n",
    "plt.show() "
   ]
  },
  {
   "cell_type": "code",
   "execution_count": null,
   "id": "7db448ac",
   "metadata": {},
   "outputs": [],
   "source": [
    "#0.05, 0.1, 0.2, 0.3"
   ]
  },
  {
   "cell_type": "markdown",
   "id": "0a59fee6",
   "metadata": {},
   "source": [
    "### Number of Trees"
   ]
  },
  {
   "cell_type": "code",
   "execution_count": 62,
   "id": "7fc102fe",
   "metadata": {},
   "outputs": [
    {
     "name": "stdout",
     "output_type": "stream",
     "text": [
      ">5 0.0827258307 (0.0178492736)\n",
      ">10 0.0379069111 (0.0214289200)\n",
      ">50 0.0329392215 (0.0134810379)\n",
      ">100 0.0329392298 (0.0134809574)\n",
      ">500 0.0329392635 (0.0134809458)\n",
      ">1000 0.0329392635 (0.0134809458)\n",
      ">2000 0.0329392635 (0.0134809458)\n",
      ">5000 0.0329392635 (0.0134809458)\n"
     ]
    },
    {
     "data": {
      "text/plain": [
       "Text(0.5, 0, 'Number of trees')"
      ]
     },
     "execution_count": 62,
     "metadata": {},
     "output_type": "execute_result"
    },
    {
     "data": {
      "image/png": "[encoded data removed]",
      "text/plain": [
       "<Figure size 432x288 with 1 Axes>"
      ]
     },
     "metadata": {},
     "output_type": "display_data"
    }
   ],
   "source": [
    "def get_models():\n",
    "    models = dict()\n",
    "    # define number of trees to consider\n",
    "    n_trees = [5, 10, 50, 100, 500, 1000, 2000, 5000]\n",
    "    for n in n_trees:\n",
    "        models[str(n)] = xgb.XGBRegressor(n_estimators=n,random_state=1)\n",
    "    return models\n",
    "\n",
    "# evaluate a given model using cross-validation\n",
    "def evaluate_model(model, X, y):\n",
    "    # define the evaluation procedure\n",
    "    cv = KFold(n_splits=5, shuffle=True, random_state=1)\n",
    "    # evaluate the model and collect the results\n",
    "    scores = np.sqrt(-cross_val_score(model, X, y, scoring='neg_mean_squared_error', cv=cv, n_jobs=-1))\n",
    "    return scores\n",
    "\n",
    "# get the models to evaluate\n",
    "models = get_models()\n",
    "# evaluate the models and store results\n",
    "results, names = list(), list()\n",
    "for name, model in models.items():\n",
    "    # evaluate the model\n",
    "    scores = evaluate_model(model, X_train_top10, y_train)\n",
    "    # store the results\n",
    "    results.append(scores)\n",
    "    names.append(name)\n",
    "    # summarize the performance along the way\n",
    "    print('>%s %.10f (%.10f)' % (name, np.mean(scores), np.std(scores)))\n",
    "# plot model performance for comparison\n",
    "plt.boxplot(results, labels=names, showmeans=True)\n",
    "plt.ylabel('Cross validation error',fontsize=15)\n",
    "plt.xlabel('Number of trees',fontsize=15) "
   ]
  },
  {
   "cell_type": "code",
   "execution_count": null,
   "id": "7abc14f0",
   "metadata": {},
   "outputs": [],
   "source": [
    "#plateaus around 50 and above"
   ]
  },
  {
   "cell_type": "markdown",
   "id": "d54e2201",
   "metadata": {},
   "source": [
    "### Max_Depth"
   ]
  },
  {
   "cell_type": "code",
   "execution_count": 64,
   "id": "29516b38",
   "metadata": {},
   "outputs": [
    {
     "name": "stdout",
     "output_type": "stream",
     "text": [
      ">1 0.0342250877 (0.0265997672)\n",
      ">2 0.0295785057 (0.0204218658)\n",
      ">3 0.0296433885 (0.0190699584)\n",
      ">4 0.0305959898 (0.0191665181)\n",
      ">5 0.0293911687 (0.0199065004)\n",
      ">6 0.0297478872 (0.0199792234)\n",
      ">7 0.0294056024 (0.0200786552)\n",
      ">8 0.0296664587 (0.0197879922)\n",
      ">9 0.0293209814 (0.0200423291)\n",
      ">10 0.0292908434 (0.0202447915)\n"
     ]
    },
    {
     "data": {
      "text/plain": [
       "Text(0.5, 0, 'Depth of each tree')"
      ]
     },
     "execution_count": 64,
     "metadata": {},
     "output_type": "execute_result"
    },
    {
     "data": {
      "image/png": "[encoded data removed]",
      "text/plain": [
       "<Figure size 432x288 with 1 Axes>"
      ]
     },
     "metadata": {},
     "output_type": "display_data"
    }
   ],
   "source": [
    "# get a list of models to evaluate\n",
    "def get_models():\n",
    "    models = dict()\n",
    "    # explore depths from 1 to 10\n",
    "    for i in range(1,11):\n",
    "        # define ensemble model\n",
    "        models[str(i)] = xgb.XGBRegressor(random_state=1,max_depth=i)\n",
    "    return models\n",
    "\n",
    "# evaluate a given model using cross-validation\n",
    "def evaluate_model(model, X, y):\n",
    "    # define the evaluation procedure\n",
    "    cv = KFold(n_splits=10, shuffle=True, random_state=1)\n",
    "    # evaluate the model and collect the results\n",
    "    scores = np.sqrt(-cross_val_score(model, X, y, scoring='neg_mean_squared_error', cv=cv, n_jobs=-1))\n",
    "    return scores\n",
    "\n",
    "# get the models to evaluate\n",
    "models = get_models()\n",
    "# evaluate the models and store results\n",
    "results, names = list(), list()\n",
    "for name, model in models.items():\n",
    "    # evaluate the model\n",
    "    scores = evaluate_model(model, X_train_top10, y_train)\n",
    "    # store the results\n",
    "    results.append(scores)\n",
    "    names.append(name)\n",
    "    # summarize the performance along the way\n",
    "    print('>%s %.10f (%.10f)' % (name, np.mean(scores), np.std(scores)))\n",
    "plt.boxplot(results, labels=names, showmeans=True)\n",
    "plt.ylabel('Cross validation error',fontsize=15)\n",
    "plt.xlabel('Depth of each tree',fontsize=15)"
   ]
  },
  {
   "cell_type": "markdown",
   "id": "62955cf9",
   "metadata": {},
   "source": [
    "### Min_Child_Weight"
   ]
  },
  {
   "cell_type": "code",
   "execution_count": 67,
   "id": "1c449b49",
   "metadata": {},
   "outputs": [
    {
     "name": "stdout",
     "output_type": "stream",
     "text": [
      ">1 0.0297478872 (0.0199792234)\n",
      ">2 0.0296349547 (0.0218032310)\n",
      ">3 0.0351836106 (0.0276147145)\n",
      ">4 0.0373687963 (0.0362711416)\n",
      ">5 0.0406508884 (0.0373153929)\n",
      ">6 0.0482004642 (0.0478162387)\n",
      ">7 0.0575333393 (0.0613069113)\n",
      ">8 0.0680702779 (0.0811762278)\n",
      ">9 0.0758048687 (0.0891955501)\n"
     ]
    },
    {
     "data": {
      "text/plain": [
       "Text(0.5, 0, 'Minimum Child Weight')"
      ]
     },
     "execution_count": 67,
     "metadata": {},
     "output_type": "execute_result"
    },
    {
     "data": {
      "image/png": "[encoded data removed]",
      "text/plain": [
       "<Figure size 432x288 with 1 Axes>"
      ]
     },
     "metadata": {},
     "output_type": "display_data"
    }
   ],
   "source": [
    "# get a list of models to evaluate\n",
    "def get_models():\n",
    "    models = dict()\n",
    "    # explore depths from 1 to 10\n",
    "    for i in range(1,10):\n",
    "        # define ensemble model\n",
    "        models[str(i)] = xgb.XGBRegressor(random_state=1,min_child_weight=i)\n",
    "    return models\n",
    "\n",
    "# evaluate a given model using cross-validation\n",
    "def evaluate_model(model, X, y):\n",
    "    # define the evaluation procedure\n",
    "    cv = KFold(n_splits=10, shuffle=True, random_state=1)\n",
    "    # evaluate the model and collect the results\n",
    "    scores = np.sqrt(-cross_val_score(model, X, y, scoring='neg_mean_squared_error', cv=cv, n_jobs=-1))\n",
    "    return scores\n",
    "\n",
    "# get the models to evaluate\n",
    "models = get_models()\n",
    "# evaluate the models and store results\n",
    "results, names = list(), list()\n",
    "for name, model in models.items():\n",
    "    # evaluate the model\n",
    "    scores = evaluate_model(model, X_train_top10, y_train)\n",
    "    # store the results\n",
    "    results.append(scores)\n",
    "    names.append(name)\n",
    "    # summarize the performance along the way\n",
    "    print('>%s %.10f (%.10f)' % (name, np.mean(scores), np.std(scores)))\n",
    "plt.boxplot(results, labels=names, showmeans=True)\n",
    "plt.ylabel('Cross validation error',fontsize=15)\n",
    "plt.xlabel('Minimum Child Weight',fontsize=15)"
   ]
  },
  {
   "cell_type": "code",
   "execution_count": null,
   "id": "f021e395",
   "metadata": {},
   "outputs": [],
   "source": [
    "# 1-5"
   ]
  },
  {
   "cell_type": "markdown",
   "id": "1cb5c139",
   "metadata": {},
   "source": [
    "### Gamma"
   ]
  },
  {
   "cell_type": "code",
   "execution_count": 74,
   "id": "e03b1483",
   "metadata": {},
   "outputs": [
    {
     "name": "stdout",
     "output_type": "stream",
     "text": [
      ">0.0001 0.03005 (0.02057)\n",
      ">0.0010 0.03212 (0.02321)\n",
      ">0.0100 0.03905 (0.03277)\n",
      ">0.0200 0.04383 (0.03728)\n",
      ">0.0300 0.04663 (0.03680)\n",
      ">0.0400 0.04987 (0.03874)\n",
      ">0.0500 0.05469 (0.03960)\n",
      ">0.1000 0.06344 (0.04648)\n",
      ">0.1500 0.07386 (0.04505)\n",
      ">0.2000 0.08087 (0.05192)\n"
     ]
    },
    {
     "data": {
      "text/plain": [
       "Text(0.5, 0, 'gamma')"
      ]
     },
     "execution_count": 74,
     "metadata": {},
     "output_type": "execute_result"
    },
    {
     "data": {
      "image/png": "[encoded data removed]",
      "text/plain": [
       "<Figure size 504x504 with 1 Axes>"
      ]
     },
     "metadata": {},
     "output_type": "display_data"
    }
   ],
   "source": [
    "def get_models():\n",
    "    models = dict()\n",
    "    # explore gamma from 0.1 to 2 in 0.1 increments\n",
    "    for i in [0.0001, 0.001, 0.01, 0.02, 0.03, 0.04, 0.05, 0.1, 0.15, 0.2]:\n",
    "        key = '%.4f' % i\n",
    "        models[key] = xgb.XGBRegressor(gamma=i,random_state=1)\n",
    "    return models\n",
    "\n",
    "# evaluate a given model using cross-validation\n",
    "def evaluate_model(model, X, y):\n",
    "    # define the evaluation procedure\n",
    "    cv = KFold(n_splits=10, shuffle=True, random_state=1)\n",
    "    # evaluate the model and collect the results\n",
    "    scores = np.sqrt(-cross_val_score(model, X, y, scoring='neg_mean_squared_error', cv=cv, n_jobs=-1))\n",
    "    return scores\n",
    "\n",
    "# get the models to evaluate\n",
    "models = get_models()\n",
    "# evaluate the models and store results\n",
    "results, names = list(), list()\n",
    "for name, model in models.items():\n",
    "    # evaluate the model\n",
    "    scores = evaluate_model(model, X_train_top10, y_train)\n",
    "    # store the results\n",
    "    results.append(scores)\n",
    "    names.append(name)\n",
    "    # summarize the performance along the way\n",
    "    print('>%s %.5f (%.5f)' % (name, np.mean(scores), np.std(scores)))\n",
    "# plot model performance for comparison\n",
    "plt.figure(figsize=(7, 7))\n",
    "plt.boxplot(results, labels=names, showmeans=True)\n",
    "plt.ylabel('Cross validation error',fontsize=15)\n",
    "plt.xlabel('gamma',fontsize=15)"
   ]
  },
  {
   "cell_type": "markdown",
   "id": "025f5ac1",
   "metadata": {},
   "source": [
    "### Reg_Lambda"
   ]
  },
  {
   "cell_type": "code",
   "execution_count": 76,
   "id": "8b46c7c6",
   "metadata": {},
   "outputs": [
    {
     "name": "stdout",
     "output_type": "stream",
     "text": [
      ">0.0000 0.02930 (0.02133)\n",
      ">0.5000 0.02808 (0.01981)\n",
      ">1.0000 0.02975 (0.01998)\n",
      ">1.5000 0.02976 (0.02044)\n",
      ">2.0000 0.03073 (0.02017)\n",
      ">10.0000 0.02845 (0.02002)\n",
      ">100.0000 0.03871 (0.04502)\n"
     ]
    },
    {
     "data": {
      "text/plain": [
       "Text(0.5, 0, 'reg_lambda')"
      ]
     },
     "execution_count": 76,
     "metadata": {},
     "output_type": "execute_result"
    },
    {
     "data": {
      "image/png": "[encoded data removed]",
      "text/plain": [
       "<Figure size 504x504 with 1 Axes>"
      ]
     },
     "metadata": {},
     "output_type": "display_data"
    }
   ],
   "source": [
    "def get_models():\n",
    "    models = dict()\n",
    "    # explore 'reg_lambda' from 0.1 to 2 in 0.1 increments\n",
    "    for i in [0,0.5,1.0,1.5,2,10,100]:\n",
    "        key = '%.4f' % i\n",
    "        models[key] = xgb.XGBRegressor(reg_lambda=i,random_state=1)\n",
    "    return models\n",
    "\n",
    "# evaluate a given model using cross-validation\n",
    "def evaluate_model(model, X, y):\n",
    "    # define the evaluation procedure\n",
    "    cv = KFold(n_splits=10, shuffle=True, random_state=1)\n",
    "    # evaluate the model and collect the results\n",
    "    scores = np.sqrt(-cross_val_score(model, X, y, scoring='neg_mean_squared_error', cv=cv, n_jobs=-1))\n",
    "    return scores\n",
    "\n",
    "# get the models to evaluate\n",
    "models = get_models()\n",
    "# evaluate the models and store results\n",
    "results, names = list(), list()\n",
    "for name, model in models.items():\n",
    "    # evaluate the model\n",
    "    scores = evaluate_model(model, X_train_top10, y_train)\n",
    "    # store the results\n",
    "    results.append(scores)\n",
    "    names.append(name)\n",
    "    # summarize the performance along the way\n",
    "    print('>%s %.5f (%.5f)' % (name, np.mean(scores), np.std(scores)))\n",
    "# plot model performance for comparison\n",
    "plt.figure(figsize=(7, 7))\n",
    "plt.boxplot(results, labels=names, showmeans=True)\n",
    "plt.ylabel('Cross validation error',fontsize=15)\n",
    "plt.xlabel('reg_lambda',fontsize=15)"
   ]
  },
  {
   "cell_type": "markdown",
   "id": "38f32167",
   "metadata": {},
   "source": [
    "### Reg_Alpha"
   ]
  },
  {
   "cell_type": "code",
   "execution_count": 78,
   "id": "2d89ad2d",
   "metadata": {},
   "outputs": [
    {
     "name": "stdout",
     "output_type": "stream",
     "text": [
      ">0.0100 0.02997 (0.01997)\n",
      ">0.1000 0.03403 (0.02906)\n",
      ">0.3000 0.04038 (0.03941)\n",
      ">0.5000 0.04865 (0.04974)\n",
      ">0.7000 0.05902 (0.05874)\n",
      ">0.9000 0.06865 (0.06709)\n",
      ">1.0000 0.07372 (0.06971)\n"
     ]
    },
    {
     "data": {
      "text/plain": [
       "Text(0.5, 0, 'reg_alpha')"
      ]
     },
     "execution_count": 78,
     "metadata": {},
     "output_type": "execute_result"
    },
    {
     "data": {
      "image/png": "[encoded data removed]",
      "text/plain": [
       "<Figure size 504x504 with 1 Axes>"
      ]
     },
     "metadata": {},
     "output_type": "display_data"
    }
   ],
   "source": [
    "def get_models():\n",
    "    models = dict()\n",
    "    # explore 'reg_lambda' from 0.1 to 2 in 0.1 increments\n",
    "    for i in [0.01, 0.1, 0.3, 0.5, 0.7, 0.9, 1.0]:\n",
    "        key = '%.4f' % i\n",
    "        models[key] = xgb.XGBRegressor(reg_alpha=i,random_state=1)\n",
    "    return models\n",
    "\n",
    "# evaluate a given model using cross-validation\n",
    "def evaluate_model(model, X, y):\n",
    "    # define the evaluation procedure\n",
    "    cv = KFold(n_splits=10, shuffle=True, random_state=1)\n",
    "    # evaluate the model and collect the results\n",
    "    scores = np.sqrt(-cross_val_score(model, X, y, scoring='neg_mean_squared_error', cv=cv, n_jobs=-1))\n",
    "    return scores\n",
    "\n",
    "# get the models to evaluate\n",
    "models = get_models()\n",
    "# evaluate the models and store results\n",
    "results, names = list(), list()\n",
    "for name, model in models.items():\n",
    "    # evaluate the model\n",
    "    scores = evaluate_model(model, X_train_top10, y_train)\n",
    "    # store the results\n",
    "    results.append(scores)\n",
    "    names.append(name)\n",
    "    # summarize the performance along the way\n",
    "    print('>%s %.5f (%.5f)' % (name, np.mean(scores), np.std(scores)))\n",
    "# plot model performance for comparison\n",
    "plt.figure(figsize=(7, 7))\n",
    "plt.boxplot(results, labels=names, showmeans=True)\n",
    "plt.ylabel('Cross validation error',fontsize=15)\n",
    "plt.xlabel('reg_alpha',fontsize=15)"
   ]
  },
  {
   "cell_type": "markdown",
   "id": "fda053b9",
   "metadata": {},
   "source": [
    "### Subsample"
   ]
  },
  {
   "cell_type": "code",
   "execution_count": 81,
   "id": "10b196d8",
   "metadata": {},
   "outputs": [
    {
     "name": "stdout",
     "output_type": "stream",
     "text": [
      ">0.1000 0.03446 (0.03491)\n",
      ">0.2000 0.03480 (0.02655)\n",
      ">0.3000 0.02706 (0.02585)\n",
      ">0.4000 0.02599 (0.01916)\n",
      ">0.5000 0.03347 (0.01894)\n",
      ">0.6000 0.02783 (0.01928)\n",
      ">0.7000 0.02743 (0.01992)\n",
      ">0.8000 0.02755 (0.01877)\n",
      ">0.9000 0.03002 (0.01963)\n",
      ">1.0000 0.02975 (0.01998)\n"
     ]
    },
    {
     "data": {
      "text/plain": [
       "Text(0.5, 0, 'subsample')"
      ]
     },
     "execution_count": 81,
     "metadata": {},
     "output_type": "execute_result"
    },
    {
     "data": {
      "image/png": "[encoded data removed]",
      "text/plain": [
       "<Figure size 504x504 with 1 Axes>"
      ]
     },
     "metadata": {},
     "output_type": "display_data"
    }
   ],
   "source": [
    "def get_models():\n",
    "    models = dict()\n",
    "    # explore 'reg_lambda' from 0.1 to 2 in 0.1 increments\n",
    "    for i in [0.1, 0.2, 0.3, 0.4, 0.5, 0.6, 0.7, 0.8, 0.9, 1.0]:\n",
    "        key = '%.4f' % i\n",
    "        models[key] = xgb.XGBRegressor(subsample=i,random_state=1)\n",
    "    return models\n",
    "\n",
    "# evaluate a given model using cross-validation\n",
    "def evaluate_model(model, X, y):\n",
    "    # define the evaluation procedure\n",
    "    cv = KFold(n_splits=10, shuffle=True, random_state=1)\n",
    "    # evaluate the model and collect the results\n",
    "    scores = np.sqrt(-cross_val_score(model, X, y, scoring='neg_mean_squared_error', cv=cv, n_jobs=-1))\n",
    "    return scores\n",
    "\n",
    "# get the models to evaluate\n",
    "models = get_models()\n",
    "# evaluate the models and store results\n",
    "results, names = list(), list()\n",
    "for name, model in models.items():\n",
    "    # evaluate the model\n",
    "    scores = evaluate_model(model, X_train_top10, y_train)\n",
    "    # store the results\n",
    "    results.append(scores)\n",
    "    names.append(name)\n",
    "    # summarize the performance along the way\n",
    "    print('>%s %.5f (%.5f)' % (name, np.mean(scores), np.std(scores)))\n",
    "# plot model performance for comparison\n",
    "plt.figure(figsize=(7, 7))\n",
    "plt.boxplot(results, labels=names, showmeans=True)\n",
    "plt.ylabel('Cross validation error',fontsize=15)\n",
    "plt.xlabel('subsample',fontsize=15)"
   ]
  },
  {
   "cell_type": "markdown",
   "id": "ab0efef7",
   "metadata": {},
   "source": [
    "### Colsample_bytree"
   ]
  },
  {
   "cell_type": "code",
   "execution_count": 83,
   "id": "5d53beaf",
   "metadata": {},
   "outputs": [
    {
     "name": "stdout",
     "output_type": "stream",
     "text": [
      ">0.1000 0.03788 (0.01628)\n",
      ">0.1500 0.03788 (0.01628)\n",
      ">0.2000 0.02409 (0.01808)\n",
      ">0.2500 0.02409 (0.01808)\n",
      ">0.3000 0.02630 (0.01950)\n",
      ">0.3500 0.02630 (0.01950)\n",
      ">0.4000 0.02599 (0.01916)\n",
      ">0.4500 0.02599 (0.01916)\n",
      ">0.5000 0.02642 (0.01971)\n"
     ]
    },
    {
     "data": {
      "text/plain": [
       "Text(0.5, 0, 'colsample_bytree')"
      ]
     },
     "execution_count": 83,
     "metadata": {},
     "output_type": "execute_result"
    },
    {
     "data": {
      "image/png": "[encoded data removed]",
      "text/plain": [
       "<Figure size 504x504 with 1 Axes>"
      ]
     },
     "metadata": {},
     "output_type": "display_data"
    }
   ],
   "source": [
    "def get_models():\n",
    "    models = dict()\n",
    "    # explore 'reg_lambda' from 0.1 to 2 in 0.1 increments\n",
    "    for i in [0.1, 0.15, 0.2, 0.25, 0.3, 0.35, 0.4, 0.45, 0.5]:\n",
    "        key = '%.4f' % i\n",
    "        models[key] = xgb.XGBRegressor(colsample_bytree=i,random_state=1)\n",
    "    return models\n",
    "\n",
    "# evaluate a given model using cross-validation\n",
    "def evaluate_model(model, X, y):\n",
    "    # define the evaluation procedure\n",
    "    cv = KFold(n_splits=10, shuffle=True, random_state=1)\n",
    "    # evaluate the model and collect the results\n",
    "    scores = np.sqrt(-cross_val_score(model, X, y, scoring='neg_mean_squared_error', cv=cv, n_jobs=-1))\n",
    "    return scores\n",
    "\n",
    "# get the models to evaluate\n",
    "models = get_models()\n",
    "# evaluate the models and store results\n",
    "results, names = list(), list()\n",
    "for name, model in models.items():\n",
    "    # evaluate the model\n",
    "    scores = evaluate_model(model, X_train_top10, y_train)\n",
    "    # store the results\n",
    "    results.append(scores)\n",
    "    names.append(name)\n",
    "    # summarize the performance along the way\n",
    "    print('>%s %.5f (%.5f)' % (name, np.mean(scores), np.std(scores)))\n",
    "# plot model performance for comparison\n",
    "plt.figure(figsize=(7, 7))\n",
    "plt.boxplot(results, labels=names, showmeans=True)\n",
    "plt.ylabel('Cross validation error',fontsize=15)\n",
    "plt.xlabel('colsample_bytree',fontsize=15)"
   ]
  },
  {
   "cell_type": "markdown",
   "id": "216bd219",
   "metadata": {},
   "source": [
    "### Early stopping rounds\n",
    "How many iterations should early stopping take? I’m using 10 rounds for early stopping (usually with 1000 trees). There are some heuristics that recommend to use 10% of your total iterations for early stopping, which sounds reasonable."
   ]
  },
  {
   "cell_type": "markdown",
   "id": "5d6f8db4",
   "metadata": {},
   "source": [
    "# Grid Search"
   ]
  },
  {
   "cell_type": "code",
   "execution_count": 84,
   "id": "3cef10f9",
   "metadata": {},
   "outputs": [
    {
     "ename": "NameError",
     "evalue": "name 'time' is not defined",
     "output_type": "error",
     "traceback": [
      "\u001b[0;31m---------------------------------------------------------------------------\u001b[0m",
      "\u001b[0;31mNameError\u001b[0m                                 Traceback (most recent call last)",
      "Input \u001b[0;32mIn [84]\u001b[0m, in \u001b[0;36m<cell line: 2>\u001b[0;34m()\u001b[0m\n\u001b[1;32m      1\u001b[0m \u001b[38;5;66;03m#K-fold cross validation to find optimal parameters for XGBoost\u001b[39;00m\n\u001b[0;32m----> 2\u001b[0m start_time \u001b[38;5;241m=\u001b[39m \u001b[43mtime\u001b[49m\u001b[38;5;241m.\u001b[39mtime()\n\u001b[1;32m      3\u001b[0m param_grid \u001b[38;5;241m=\u001b[39m {\u001b[38;5;124m'\u001b[39m\u001b[38;5;124mmax_depth\u001b[39m\u001b[38;5;124m'\u001b[39m: [\u001b[38;5;241m4\u001b[39m,\u001b[38;5;241m6\u001b[39m,\u001b[38;5;241m8\u001b[39m],\n\u001b[1;32m      4\u001b[0m               \u001b[38;5;124m'\u001b[39m\u001b[38;5;124mlearning_rate\u001b[39m\u001b[38;5;124m'\u001b[39m: [\u001b[38;5;241m0.01\u001b[39m, \u001b[38;5;241m0.05\u001b[39m, \u001b[38;5;241m0.1\u001b[39m],\n\u001b[1;32m      5\u001b[0m                \u001b[38;5;124m'\u001b[39m\u001b[38;5;124mreg_lambda\u001b[39m\u001b[38;5;124m'\u001b[39m:[\u001b[38;5;241m0\u001b[39m, \u001b[38;5;241m1\u001b[39m, \u001b[38;5;241m10\u001b[39m],\n\u001b[0;32m   (...)\u001b[0m\n\u001b[1;32m      8\u001b[0m                 \u001b[38;5;124m'\u001b[39m\u001b[38;5;124msubsample\u001b[39m\u001b[38;5;124m'\u001b[39m: [\u001b[38;5;241m0.5\u001b[39m, \u001b[38;5;241m0.75\u001b[39m, \u001b[38;5;241m1.0\u001b[39m],\n\u001b[1;32m      9\u001b[0m                 \u001b[38;5;124m'\u001b[39m\u001b[38;5;124mcolsample_bytree\u001b[39m\u001b[38;5;124m'\u001b[39m: [\u001b[38;5;241m0.5\u001b[39m, \u001b[38;5;241m0.75\u001b[39m, \u001b[38;5;241m1.0\u001b[39m]}\n\u001b[1;32m     11\u001b[0m cv \u001b[38;5;241m=\u001b[39m KFold(n_splits\u001b[38;5;241m=\u001b[39m\u001b[38;5;241m5\u001b[39m,shuffle\u001b[38;5;241m=\u001b[39m\u001b[38;5;28;01mTrue\u001b[39;00m,random_state\u001b[38;5;241m=\u001b[39m\u001b[38;5;241m1\u001b[39m)\n",
      "\u001b[0;31mNameError\u001b[0m: name 'time' is not defined"
     ]
    }
   ],
   "source": [
    "#K-fold cross validation to find optimal parameters for XGBoost\n",
    "\n",
    "\n",
    "start_time = time.time()\n",
    "param_grid = {'max_depth': [2, 3, 4, 5, 6, 7],\n",
    "              'learning_rate': [0.05, 0.1, 0.2, 0.3],\n",
    "              'min_child_weight': [1, 2, 3, 4, 5]\n",
    "               'reg_lambda':[],\n",
    "                'n_estimators':[50, 100, 500, 1000, 2000, 5000],\n",
    "                'gamma': [0.0001, 0.001, 0.01, 0.02],\n",
    "                'subsample': [],\n",
    "                'colsample_bytree': []}\n",
    "\n",
    "cv = KFold(n_splits=5,shuffle=True,random_state=1)\n",
    "optimal_params = RandomizedSearchCV(estimator=xgb.XGBRegressor(random_state=1), param_distributions = param_grid, n_iter = 200,\n",
    "                             verbose = 1, n_jobs=-1, cv = cv, scoring='neg_mean_squared_error')\n",
    "optimal_params.fit(X_train_top10, y_train, eval_set=[(X_train_top10, y_train), (X_test_top10, y_test)], verbose=True)\n",
    "\n",
    "print(\"Optimal parameter values =\", optimal_params.best_params_)\n",
    "print(\"Optimal cross validation rmse = \",optimal_params.best_score_)\n",
    "print(\"Time taken = \", round((time.time()-start_time)/60), \" minutes\")"
   ]
  },
  {
   "cell_type": "code",
   "execution_count": null,
   "id": "9402abb9",
   "metadata": {},
   "outputs": [],
   "source": []
  }
 ],
 "metadata": {
  "kernelspec": {
   "display_name": "Python 3 (ipykernel)",
   "language": "python",
   "name": "python3"
  },
  "language_info": {
   "codemirror_mode": {
    "name": "ipython",
    "version": 3
   },
   "file_extension": ".py",
   "mimetype": "text/x-python",
   "name": "python",
   "nbconvert_exporter": "python",
   "pygments_lexer": "ipython3",
   "version": "3.9.12"
  }
 },
 "nbformat": 4,
 "nbformat_minor": 5
}
