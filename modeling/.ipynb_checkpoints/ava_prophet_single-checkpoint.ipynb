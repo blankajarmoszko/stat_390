{
 "cells": [
  {
   "cell_type": "code",
   "execution_count": 17,
   "id": "8728d869",
   "metadata": {},
   "outputs": [],
   "source": [
    "%matplotlib inline\n",
    "import pandas as pd \n",
    "import numpy as np\n",
    "import matplotlib.pyplot as plt\n",
    "import prophet\n",
    "from prophet import Prophet\n",
    "from prophet.diagnostics import cross_validation, performance_metrics\n",
    "from sklearn.metrics import mean_squared_error\n",
    "from math import sqrt\n",
    "# Suppress all warnings\n",
    "import warnings\n",
    "warnings.simplefilter(\"ignore\")"
   ]
  },
  {
   "cell_type": "markdown",
   "id": "43d0fb11",
   "metadata": {},
   "source": [
    "# Feature Engineering"
   ]
  },
  {
   "cell_type": "code",
   "execution_count": 5,
   "id": "04ab101e",
   "metadata": {},
   "outputs": [
    {
     "name": "stdout",
     "output_type": "stream",
     "text": [
      "(80, 2)\n"
     ]
    },
    {
     "data": {
      "text/html": [
       "<div>\n",
       "<style scoped>\n",
       "    .dataframe tbody tr th:only-of-type {\n",
       "        vertical-align: middle;\n",
       "    }\n",
       "\n",
       "    .dataframe tbody tr th {\n",
       "        vertical-align: top;\n",
       "    }\n",
       "\n",
       "    .dataframe thead th {\n",
       "        text-align: right;\n",
       "    }\n",
       "</style>\n",
       "<table border=\"1\" class=\"dataframe\">\n",
       "  <thead>\n",
       "    <tr style=\"text-align: right;\">\n",
       "      <th></th>\n",
       "      <th>ds</th>\n",
       "      <th>y</th>\n",
       "    </tr>\n",
       "  </thead>\n",
       "  <tbody>\n",
       "    <tr>\n",
       "      <th>0</th>\n",
       "      <td>2021-11-03</td>\n",
       "      <td>10.332812</td>\n",
       "    </tr>\n",
       "    <tr>\n",
       "      <th>1</th>\n",
       "      <td>2021-11-10</td>\n",
       "      <td>13.185937</td>\n",
       "    </tr>\n",
       "    <tr>\n",
       "      <th>2</th>\n",
       "      <td>2021-11-17</td>\n",
       "      <td>15.871875</td>\n",
       "    </tr>\n",
       "    <tr>\n",
       "      <th>3</th>\n",
       "      <td>2021-11-24</td>\n",
       "      <td>18.675000</td>\n",
       "    </tr>\n",
       "    <tr>\n",
       "      <th>4</th>\n",
       "      <td>2021-12-01</td>\n",
       "      <td>20.689062</td>\n",
       "    </tr>\n",
       "  </tbody>\n",
       "</table>\n",
       "</div>"
      ],
      "text/plain": [
       "          ds          y\n",
       "0 2021-11-03  10.332812\n",
       "1 2021-11-10  13.185937\n",
       "2 2021-11-17  15.871875\n",
       "3 2021-11-24  18.675000\n",
       "4 2021-12-01  20.689062"
      ]
     },
     "execution_count": 5,
     "metadata": {},
     "output_type": "execute_result"
    }
   ],
   "source": [
    "# Predictive variable\n",
    "pred_var = 'Additional_Doses_Vax_Pct'\n",
    "\n",
    "# Import data with specific columns\n",
    "df = pd.read_csv('df_post_eda.csv', usecols=['Date', pred_var])\n",
    "\n",
    "# Convert 'Date' to datetime and set as index\n",
    "df['Date'] = pd.to_datetime(df['Date'])\n",
    "df.set_index('Date', inplace=True)\n",
    "\n",
    "# Group by 'Date' to ensure there is one unique value per date\n",
    "df = df.groupby('Date').mean()\n",
    "\n",
    "# Reset the index to convert the 'Date' index back to a column\n",
    "df.reset_index(inplace=True)\n",
    "\n",
    "# Rename the columns for compatibility with Prophet\n",
    "df.rename(columns={'Date': 'ds', pred_var: 'y'}, inplace=True)\n",
    "\n",
    "# Print the shape of the dataframe and the first few rows to verify\n",
    "print(df.shape)\n",
    "df.head()\n"
   ]
  },
  {
   "cell_type": "code",
   "execution_count": 12,
   "id": "17b8c69c",
   "metadata": {},
   "outputs": [
    {
     "data": {
      "text/html": [
       "<div>\n",
       "<style scoped>\n",
       "    .dataframe tbody tr th:only-of-type {\n",
       "        vertical-align: middle;\n",
       "    }\n",
       "\n",
       "    .dataframe tbody tr th {\n",
       "        vertical-align: top;\n",
       "    }\n",
       "\n",
       "    .dataframe thead th {\n",
       "        text-align: right;\n",
       "    }\n",
       "</style>\n",
       "<table border=\"1\" class=\"dataframe\">\n",
       "  <thead>\n",
       "    <tr style=\"text-align: right;\">\n",
       "      <th></th>\n",
       "      <th>ds</th>\n",
       "      <th>y</th>\n",
       "    </tr>\n",
       "  </thead>\n",
       "  <tbody>\n",
       "    <tr>\n",
       "      <th>75</th>\n",
       "      <td>2023-04-12</td>\n",
       "      <td>50.951563</td>\n",
       "    </tr>\n",
       "    <tr>\n",
       "      <th>76</th>\n",
       "      <td>2023-04-19</td>\n",
       "      <td>51.012500</td>\n",
       "    </tr>\n",
       "    <tr>\n",
       "      <th>77</th>\n",
       "      <td>2023-04-26</td>\n",
       "      <td>51.034375</td>\n",
       "    </tr>\n",
       "    <tr>\n",
       "      <th>78</th>\n",
       "      <td>2023-05-03</td>\n",
       "      <td>51.064062</td>\n",
       "    </tr>\n",
       "    <tr>\n",
       "      <th>79</th>\n",
       "      <td>2023-05-10</td>\n",
       "      <td>51.076563</td>\n",
       "    </tr>\n",
       "  </tbody>\n",
       "</table>\n",
       "</div>"
      ],
      "text/plain": [
       "           ds          y\n",
       "75 2023-04-12  50.951563\n",
       "76 2023-04-19  51.012500\n",
       "77 2023-04-26  51.034375\n",
       "78 2023-05-03  51.064062\n",
       "79 2023-05-10  51.076563"
      ]
     },
     "execution_count": 12,
     "metadata": {},
     "output_type": "execute_result"
    }
   ],
   "source": [
    "df.tail()"
   ]
  },
  {
   "cell_type": "code",
   "execution_count": 6,
   "id": "243a5a88",
   "metadata": {},
   "outputs": [
    {
     "name": "stdout",
     "output_type": "stream",
     "text": [
      "(56, 2) (24, 2)\n"
     ]
    },
    {
     "name": "stderr",
     "output_type": "stream",
     "text": [
      "23:59:54 - cmdstanpy - INFO - Chain [1] start processing\n",
      "23:59:56 - cmdstanpy - INFO - Chain [1] done processing\n"
     ]
    }
   ],
   "source": [
    "# Calculate the index for the 70-30 split\n",
    "split_index = int(len(df) * 0.7)\n",
    "\n",
    "# Split into train and test\n",
    "train = df.iloc[:split_index]\n",
    "test = df.iloc[split_index:]\n",
    "\n",
    "print(train.shape, test.shape)\n",
    "\n",
    "# Initialize and fit the Prophet model on the training data\n",
    "model = Prophet()\n",
    "model.fit(train[['ds', 'y']])\n",
    "\n",
    "# Make predictions on the training set\n",
    "train_pred = model.predict(train[['ds']])\n",
    "train_pred = train_pred.set_index('ds')"
   ]
  },
  {
   "cell_type": "code",
   "execution_count": 7,
   "id": "f29a337b",
   "metadata": {},
   "outputs": [
    {
     "data": {
      "text/plain": [
       "<matplotlib.legend.Legend at 0x7ff5a8feee20>"
      ]
     },
     "execution_count": 7,
     "metadata": {},
     "output_type": "execute_result"
    },
    {
     "data": {
      "image/png": "[encoded data removed]",
      "text/plain": [
       "<Figure size 1500x500 with 1 Axes>"
      ]
     },
     "metadata": {},
     "output_type": "display_data"
    }
   ],
   "source": [
    "# Plot the training predictions\n",
    "pd.concat([train['y'], train_pred['yhat']], axis=1).plot(figsize=(15,5))\n",
    "plt.legend(['train', 'train_pred'])"
   ]
  },
  {
   "cell_type": "code",
   "execution_count": 8,
   "id": "3251cd58",
   "metadata": {},
   "outputs": [
    {
     "data": {
      "text/plain": [
       "<matplotlib.legend.Legend at 0x7ff5a8834610>"
      ]
     },
     "execution_count": 8,
     "metadata": {},
     "output_type": "execute_result"
    },
    {
     "data": {
      "image/png": "[encoded data removed]",
      "text/plain": [
       "<Figure size 640x480 with 1 Axes>"
      ]
     },
     "metadata": {},
     "output_type": "display_data"
    }
   ],
   "source": [
    "# Make predictions on the test set\n",
    "test_pred = model.predict(test[['ds']])\n",
    "test_pred = test_pred.set_index('ds')\n",
    "\n",
    "# Plot the test predictions\n",
    "pd.concat([test['y'], test_pred['yhat']], axis=1).plot()\n",
    "plt.legend(['test', 'test_pred'])"
   ]
  },
  {
   "cell_type": "code",
   "execution_count": 9,
   "id": "d95ef5f8",
   "metadata": {},
   "outputs": [
    {
     "name": "stdout",
     "output_type": "stream",
     "text": [
      "Train RMSE: 0.11644967428298858\n",
      "Test RMSE: 0.964760938339838\n"
     ]
    }
   ],
   "source": [
    "# Calculate RMSE for the training set\n",
    "train_rmse = sqrt(mean_squared_error(train['y'], train_pred['yhat']))\n",
    "print(f\"Train RMSE: {train_rmse}\")\n",
    "\n",
    "# Calculate RMSE for the test set\n",
    "test_rmse = sqrt(mean_squared_error(test['y'], test_pred['yhat']))\n",
    "print(f\"Test RMSE: {test_rmse}\")"
   ]
  },
  {
   "cell_type": "markdown",
   "id": "ce7ec340",
   "metadata": {},
   "source": [
    "# Tuning"
   ]
  },
  {
   "cell_type": "code",
   "execution_count": 14,
   "id": "d90e8635",
   "metadata": {},
   "outputs": [
    {
     "name": "stderr",
     "output_type": "stream",
     "text": [
      "00:08:48 - cmdstanpy - INFO - Chain [1] start processing\n",
      "00:08:48 - cmdstanpy - INFO - Chain [1] done processing\n"
     ]
    },
    {
     "data": {
      "application/vnd.jupyter.widget-view+json": {
       "model_id": "135885b4fa8b4a618b9c7ba88868c5ed",
       "version_major": 2,
       "version_minor": 0
      },
      "text/plain": [
       "  0%|          | 0/2 [00:00<?, ?it/s]"
      ]
     },
     "metadata": {},
     "output_type": "display_data"
    },
    {
     "name": "stderr",
     "output_type": "stream",
     "text": [
      "00:08:48 - cmdstanpy - INFO - Chain [1] start processing\n",
      "00:08:49 - cmdstanpy - INFO - Chain [1] done processing\n",
      "00:08:49 - cmdstanpy - INFO - Chain [1] start processing\n",
      "00:08:49 - cmdstanpy - INFO - Chain [1] done processing\n"
     ]
    },
    {
     "name": "stdout",
     "output_type": "stream",
     "text": [
      "  horizon       mse      rmse       mae      mape     mdape     smape  \\\n",
      "0  7 days  0.023454  0.153147  0.135139  0.002667  0.002667  0.002662   \n",
      "1 14 days  0.103178  0.321213  0.266256  0.005253  0.005253  0.005233   \n",
      "2 21 days  0.142568  0.377581  0.318632  0.006280  0.006280  0.006252   \n",
      "3 28 days  0.155439  0.394258  0.330849  0.006516  0.006516  0.006486   \n",
      "\n",
      "   coverage  \n",
      "0       0.5  \n",
      "1       0.5  \n",
      "2       0.5  \n",
      "3       0.5  \n"
     ]
    }
   ],
   "source": [
    "# Initialize the Prophet model with multiplicative seasonality\n",
    "model = Prophet(seasonality_mode='multiplicative')  # or 'additive', depending on your data\n",
    "\n",
    "# Add custom seasonality\n",
    "model.add_seasonality(name='monthly', period=24, fourier_order=5)\n",
    "\n",
    "# Fit the model to your dataframe 'df'\n",
    "model.fit(df)\n",
    "\n",
    "# Set the parameters for cross-validation\n",
    "initial = '364 days'  # Start with 1 year of data as the initial training set\n",
    "period = '84 days'   # Set the period for cross-validation to 3 months\n",
    "horizon = '28 days'   # Set the horizon for forecasting to 1 month\n",
    "\n",
    "# Perform cross-validation\n",
    "df_cv = cross_validation(model, initial=initial, period=period, horizon=horizon)\n",
    "\n",
    "# Calculate performance metrics\n",
    "df_p = performance_metrics(df_cv)\n",
    "\n",
    "# Print performance metrics\n",
    "print(df_p)"
   ]
  },
  {
   "cell_type": "code",
   "execution_count": 18,
   "id": "ce6087dc",
   "metadata": {},
   "outputs": [
    {
     "name": "stderr",
     "output_type": "stream",
     "text": [
      "00:13:09 - cmdstanpy - INFO - Chain [1] start processing\n",
      "00:13:12 - cmdstanpy - INFO - Chain [1] done processing\n",
      "Seasonality has period of 365.25 days which is larger than initial window. Consider increasing initial.\n"
     ]
    },
    {
     "data": {
      "application/vnd.jupyter.widget-view+json": {
       "model_id": "033681547a41449daa4b06b0b131c5a3",
       "version_major": 2,
       "version_minor": 0
      },
      "text/plain": [
       "  0%|          | 0/2 [00:00<?, ?it/s]"
      ]
     },
     "metadata": {},
     "output_type": "display_data"
    },
    {
     "name": "stderr",
     "output_type": "stream",
     "text": [
      "00:13:12 - cmdstanpy - INFO - Chain [1] start processing\n",
      "00:13:13 - cmdstanpy - INFO - Chain [1] done processing\n",
      "00:13:13 - cmdstanpy - INFO - Chain [1] start processing\n",
      "00:13:14 - cmdstanpy - INFO - Chain [1] done processing\n",
      "00:13:15 - cmdstanpy - INFO - Chain [1] start processing\n",
      "00:13:16 - cmdstanpy - INFO - Chain [1] done processing\n",
      "Seasonality has period of 365.25 days which is larger than initial window. Consider increasing initial.\n"
     ]
    },
    {
     "data": {
      "application/vnd.jupyter.widget-view+json": {
       "model_id": "0d58bcfeb6cc4108a8d806388e55e297",
       "version_major": 2,
       "version_minor": 0
      },
      "text/plain": [
       "  0%|          | 0/2 [00:00<?, ?it/s]"
      ]
     },
     "metadata": {},
     "output_type": "display_data"
    },
    {
     "name": "stderr",
     "output_type": "stream",
     "text": [
      "00:13:16 - cmdstanpy - INFO - Chain [1] start processing\n",
      "00:13:18 - cmdstanpy - INFO - Chain [1] done processing\n",
      "00:13:18 - cmdstanpy - INFO - Chain [1] start processing\n",
      "00:13:20 - cmdstanpy - INFO - Chain [1] done processing\n",
      "00:13:20 - cmdstanpy - INFO - Chain [1] start processing\n",
      "00:13:24 - cmdstanpy - INFO - Chain [1] done processing\n",
      "Seasonality has period of 365.25 days which is larger than initial window. Consider increasing initial.\n"
     ]
    },
    {
     "data": {
      "application/vnd.jupyter.widget-view+json": {
       "model_id": "3fbbbb42d66343408ad03358eedb3f7f",
       "version_major": 2,
       "version_minor": 0
      },
      "text/plain": [
       "  0%|          | 0/2 [00:00<?, ?it/s]"
      ]
     },
     "metadata": {},
     "output_type": "display_data"
    },
    {
     "name": "stderr",
     "output_type": "stream",
     "text": [
      "00:13:24 - cmdstanpy - INFO - Chain [1] start processing\n",
      "00:13:26 - cmdstanpy - INFO - Chain [1] done processing\n",
      "00:13:26 - cmdstanpy - INFO - Chain [1] start processing\n",
      "00:13:30 - cmdstanpy - INFO - Chain [1] done processing\n",
      "00:13:30 - cmdstanpy - INFO - Chain [1] start processing\n",
      "00:13:33 - cmdstanpy - INFO - Chain [1] done processing\n",
      "Seasonality has period of 365.25 days which is larger than initial window. Consider increasing initial.\n"
     ]
    },
    {
     "data": {
      "application/vnd.jupyter.widget-view+json": {
       "model_id": "e1665603fe0a44efbdff66cfef954fd7",
       "version_major": 2,
       "version_minor": 0
      },
      "text/plain": [
       "  0%|          | 0/2 [00:00<?, ?it/s]"
      ]
     },
     "metadata": {},
     "output_type": "display_data"
    },
    {
     "name": "stderr",
     "output_type": "stream",
     "text": [
      "00:13:34 - cmdstanpy - INFO - Chain [1] start processing\n",
      "00:13:37 - cmdstanpy - INFO - Chain [1] done processing\n",
      "00:13:37 - cmdstanpy - INFO - Chain [1] start processing\n",
      "00:13:44 - cmdstanpy - INFO - Chain [1] done processing\n",
      "00:13:44 - cmdstanpy - INFO - Chain [1] start processing\n",
      "00:13:49 - cmdstanpy - INFO - Chain [1] done processing\n",
      "Seasonality has period of 365.25 days which is larger than initial window. Consider increasing initial.\n"
     ]
    },
    {
     "data": {
      "application/vnd.jupyter.widget-view+json": {
       "model_id": "cab37c7969cd4fec853f2e711f6eed57",
       "version_major": 2,
       "version_minor": 0
      },
      "text/plain": [
       "  0%|          | 0/2 [00:00<?, ?it/s]"
      ]
     },
     "metadata": {},
     "output_type": "display_data"
    },
    {
     "name": "stderr",
     "output_type": "stream",
     "text": [
      "00:13:49 - cmdstanpy - INFO - Chain [1] start processing\n",
      "00:13:54 - cmdstanpy - INFO - Chain [1] done processing\n",
      "00:13:54 - cmdstanpy - INFO - Chain [1] start processing\n",
      "00:13:59 - cmdstanpy - INFO - Chain [1] done processing\n",
      "00:14:00 - cmdstanpy - INFO - Chain [1] start processing\n",
      "00:14:09 - cmdstanpy - INFO - Chain [1] done processing\n",
      "Seasonality has period of 365.25 days which is larger than initial window. Consider increasing initial.\n"
     ]
    },
    {
     "data": {
      "application/vnd.jupyter.widget-view+json": {
       "model_id": "e5e316c33a2846c5933a5320eea760f1",
       "version_major": 2,
       "version_minor": 0
      },
      "text/plain": [
       "  0%|          | 0/2 [00:00<?, ?it/s]"
      ]
     },
     "metadata": {},
     "output_type": "display_data"
    },
    {
     "name": "stderr",
     "output_type": "stream",
     "text": [
      "00:14:09 - cmdstanpy - INFO - Chain [1] start processing\n",
      "00:14:16 - cmdstanpy - INFO - Chain [1] done processing\n",
      "00:14:16 - cmdstanpy - INFO - Chain [1] start processing\n",
      "00:14:25 - cmdstanpy - INFO - Chain [1] done processing\n",
      "00:14:25 - cmdstanpy - INFO - Chain [1] start processing\n",
      "00:14:32 - cmdstanpy - INFO - Chain [1] done processing\n",
      "Seasonality has period of 365.25 days which is larger than initial window. Consider increasing initial.\n"
     ]
    },
    {
     "data": {
      "application/vnd.jupyter.widget-view+json": {
       "model_id": "c6c4d4ee76704421ab65877f76a7b212",
       "version_major": 2,
       "version_minor": 0
      },
      "text/plain": [
       "  0%|          | 0/2 [00:00<?, ?it/s]"
      ]
     },
     "metadata": {},
     "output_type": "display_data"
    },
    {
     "name": "stderr",
     "output_type": "stream",
     "text": [
      "00:14:33 - cmdstanpy - INFO - Chain [1] start processing\n",
      "00:14:39 - cmdstanpy - INFO - Chain [1] done processing\n",
      "00:14:40 - cmdstanpy - INFO - Chain [1] start processing\n",
      "00:14:46 - cmdstanpy - INFO - Chain [1] done processing\n",
      "00:14:47 - cmdstanpy - INFO - Chain [1] start processing\n",
      "00:14:54 - cmdstanpy - INFO - Chain [1] done processing\n",
      "Seasonality has period of 365.25 days which is larger than initial window. Consider increasing initial.\n"
     ]
    },
    {
     "data": {
      "application/vnd.jupyter.widget-view+json": {
       "model_id": "550cd3600afb4c8c81d892e65078a16d",
       "version_major": 2,
       "version_minor": 0
      },
      "text/plain": [
       "  0%|          | 0/2 [00:00<?, ?it/s]"
      ]
     },
     "metadata": {},
     "output_type": "display_data"
    },
    {
     "name": "stderr",
     "output_type": "stream",
     "text": [
      "00:14:55 - cmdstanpy - INFO - Chain [1] start processing\n",
      "00:14:55 - cmdstanpy - INFO - Chain [1] done processing\n",
      "00:14:56 - cmdstanpy - INFO - Chain [1] start processing\n",
      "00:15:04 - cmdstanpy - INFO - Chain [1] done processing\n",
      "00:15:05 - cmdstanpy - INFO - Chain [1] start processing\n",
      "00:15:12 - cmdstanpy - INFO - Chain [1] done processing\n",
      "Seasonality has period of 365.25 days which is larger than initial window. Consider increasing initial.\n"
     ]
    },
    {
     "data": {
      "application/vnd.jupyter.widget-view+json": {
       "model_id": "7495a1d48b6547289591a35a31e9e652",
       "version_major": 2,
       "version_minor": 0
      },
      "text/plain": [
       "  0%|          | 0/2 [00:00<?, ?it/s]"
      ]
     },
     "metadata": {},
     "output_type": "display_data"
    },
    {
     "name": "stderr",
     "output_type": "stream",
     "text": [
      "00:15:12 - cmdstanpy - INFO - Chain [1] start processing\n",
      "00:15:13 - cmdstanpy - INFO - Chain [1] done processing\n",
      "00:15:13 - cmdstanpy - INFO - Chain [1] start processing\n",
      "00:15:24 - cmdstanpy - INFO - Chain [1] done processing\n",
      "00:15:24 - cmdstanpy - INFO - Chain [1] start processing\n",
      "00:15:32 - cmdstanpy - INFO - Chain [1] done processing\n",
      "Seasonality has period of 365.25 days which is larger than initial window. Consider increasing initial.\n"
     ]
    },
    {
     "data": {
      "application/vnd.jupyter.widget-view+json": {
       "model_id": "5327058c60c44c46970958ead4a53238",
       "version_major": 2,
       "version_minor": 0
      },
      "text/plain": [
       "  0%|          | 0/2 [00:00<?, ?it/s]"
      ]
     },
     "metadata": {},
     "output_type": "display_data"
    },
    {
     "name": "stderr",
     "output_type": "stream",
     "text": [
      "00:15:32 - cmdstanpy - INFO - Chain [1] start processing\n",
      "00:15:44 - cmdstanpy - INFO - Chain [1] done processing\n",
      "00:15:44 - cmdstanpy - INFO - Chain [1] start processing\n",
      "00:16:00 - cmdstanpy - INFO - Chain [1] done processing\n",
      "00:16:00 - cmdstanpy - INFO - Chain [1] start processing\n",
      "00:16:16 - cmdstanpy - INFO - Chain [1] done processing\n",
      "Seasonality has period of 365.25 days which is larger than initial window. Consider increasing initial.\n"
     ]
    },
    {
     "data": {
      "application/vnd.jupyter.widget-view+json": {
       "model_id": "9bb5cced107c45aabf6dfc61e7c29628",
       "version_major": 2,
       "version_minor": 0
      },
      "text/plain": [
       "  0%|          | 0/2 [00:00<?, ?it/s]"
      ]
     },
     "metadata": {},
     "output_type": "display_data"
    },
    {
     "name": "stderr",
     "output_type": "stream",
     "text": [
      "00:16:16 - cmdstanpy - INFO - Chain [1] start processing\n",
      "00:16:35 - cmdstanpy - INFO - Chain [1] done processing\n",
      "00:16:36 - cmdstanpy - INFO - Chain [1] start processing\n",
      "00:16:49 - cmdstanpy - INFO - Chain [1] done processing\n",
      "00:16:50 - cmdstanpy - INFO - Chain [1] start processing\n",
      "00:17:04 - cmdstanpy - INFO - Chain [1] done processing\n",
      "Seasonality has period of 365.25 days which is larger than initial window. Consider increasing initial.\n"
     ]
    },
    {
     "data": {
      "application/vnd.jupyter.widget-view+json": {
       "model_id": "78ec63db422542f0aedc0bd377207b9d",
       "version_major": 2,
       "version_minor": 0
      },
      "text/plain": [
       "  0%|          | 0/2 [00:00<?, ?it/s]"
      ]
     },
     "metadata": {},
     "output_type": "display_data"
    },
    {
     "name": "stderr",
     "output_type": "stream",
     "text": [
      "00:17:04 - cmdstanpy - INFO - Chain [1] start processing\n",
      "00:17:18 - cmdstanpy - INFO - Chain [1] done processing\n",
      "00:17:19 - cmdstanpy - INFO - Chain [1] start processing\n",
      "00:17:35 - cmdstanpy - INFO - Chain [1] done processing\n",
      "00:17:36 - cmdstanpy - INFO - Chain [1] start processing\n",
      "00:17:48 - cmdstanpy - INFO - Chain [1] done processing\n",
      "Seasonality has period of 365.25 days which is larger than initial window. Consider increasing initial.\n"
     ]
    },
    {
     "data": {
      "application/vnd.jupyter.widget-view+json": {
       "model_id": "c961bf268fac4936ab5176e5f899592a",
       "version_major": 2,
       "version_minor": 0
      },
      "text/plain": [
       "  0%|          | 0/2 [00:00<?, ?it/s]"
      ]
     },
     "metadata": {},
     "output_type": "display_data"
    },
    {
     "name": "stderr",
     "output_type": "stream",
     "text": [
      "00:17:48 - cmdstanpy - INFO - Chain [1] start processing\n",
      "00:18:06 - cmdstanpy - INFO - Chain [1] done processing\n",
      "00:18:06 - cmdstanpy - INFO - Chain [1] start processing\n",
      "00:18:18 - cmdstanpy - INFO - Chain [1] done processing\n",
      "00:18:18 - cmdstanpy - INFO - Chain [1] start processing\n",
      "00:18:27 - cmdstanpy - INFO - Chain [1] done processing\n",
      "Seasonality has period of 365.25 days which is larger than initial window. Consider increasing initial.\n"
     ]
    },
    {
     "data": {
      "application/vnd.jupyter.widget-view+json": {
       "model_id": "71a4ba24c9094eb799af6e8018b3676d",
       "version_major": 2,
       "version_minor": 0
      },
      "text/plain": [
       "  0%|          | 0/2 [00:00<?, ?it/s]"
      ]
     },
     "metadata": {},
     "output_type": "display_data"
    },
    {
     "name": "stderr",
     "output_type": "stream",
     "text": [
      "00:18:27 - cmdstanpy - INFO - Chain [1] start processing\n",
      "00:18:38 - cmdstanpy - INFO - Chain [1] done processing\n",
      "00:18:38 - cmdstanpy - INFO - Chain [1] start processing\n",
      "00:18:49 - cmdstanpy - INFO - Chain [1] done processing\n",
      "00:18:49 - cmdstanpy - INFO - Chain [1] start processing\n",
      "00:18:58 - cmdstanpy - INFO - Chain [1] done processing\n",
      "Seasonality has period of 365.25 days which is larger than initial window. Consider increasing initial.\n"
     ]
    },
    {
     "data": {
      "application/vnd.jupyter.widget-view+json": {
       "model_id": "53ccebc785c849dea0b18275c7ba3045",
       "version_major": 2,
       "version_minor": 0
      },
      "text/plain": [
       "  0%|          | 0/2 [00:00<?, ?it/s]"
      ]
     },
     "metadata": {},
     "output_type": "display_data"
    },
    {
     "name": "stderr",
     "output_type": "stream",
     "text": [
      "00:18:58 - cmdstanpy - INFO - Chain [1] start processing\n",
      "00:19:15 - cmdstanpy - INFO - Chain [1] done processing\n",
      "00:19:15 - cmdstanpy - INFO - Chain [1] start processing\n",
      "00:19:25 - cmdstanpy - INFO - Chain [1] done processing\n",
      "00:19:26 - cmdstanpy - INFO - Chain [1] start processing\n",
      "00:19:39 - cmdstanpy - INFO - Chain [1] done processing\n",
      "Seasonality has period of 365.25 days which is larger than initial window. Consider increasing initial.\n"
     ]
    },
    {
     "data": {
      "application/vnd.jupyter.widget-view+json": {
       "model_id": "c9908f1de2ca40dc959004674df74b58",
       "version_major": 2,
       "version_minor": 0
      },
      "text/plain": [
       "  0%|          | 0/2 [00:00<?, ?it/s]"
      ]
     },
     "metadata": {},
     "output_type": "display_data"
    },
    {
     "name": "stderr",
     "output_type": "stream",
     "text": [
      "00:19:39 - cmdstanpy - INFO - Chain [1] start processing\n",
      "00:19:40 - cmdstanpy - INFO - Chain [1] done processing\n",
      "00:19:40 - cmdstanpy - INFO - Chain [1] start processing\n",
      "00:20:01 - cmdstanpy - INFO - Chain [1] done processing\n",
      "00:20:01 - cmdstanpy - INFO - Chain [1] start processing\n",
      "00:20:22 - cmdstanpy - INFO - Chain [1] done processing\n",
      "Seasonality has period of 365.25 days which is larger than initial window. Consider increasing initial.\n"
     ]
    },
    {
     "data": {
      "application/vnd.jupyter.widget-view+json": {
       "model_id": "562ff3655c4b41539440031ce6e8c113",
       "version_major": 2,
       "version_minor": 0
      },
      "text/plain": [
       "  0%|          | 0/2 [00:00<?, ?it/s]"
      ]
     },
     "metadata": {},
     "output_type": "display_data"
    },
    {
     "name": "stderr",
     "output_type": "stream",
     "text": [
      "00:20:23 - cmdstanpy - INFO - Chain [1] start processing\n",
      "00:20:52 - cmdstanpy - INFO - Chain [1] done processing\n",
      "00:20:52 - cmdstanpy - INFO - Chain [1] start processing\n",
      "00:21:25 - cmdstanpy - INFO - Chain [1] done processing\n",
      "00:21:26 - cmdstanpy - INFO - Chain [1] start processing\n",
      "00:21:49 - cmdstanpy - INFO - Chain [1] done processing\n",
      "Seasonality has period of 365.25 days which is larger than initial window. Consider increasing initial.\n"
     ]
    },
    {
     "data": {
      "application/vnd.jupyter.widget-view+json": {
       "model_id": "565fe2371cdf4b25b32898fadf3e72b5",
       "version_major": 2,
       "version_minor": 0
      },
      "text/plain": [
       "  0%|          | 0/2 [00:00<?, ?it/s]"
      ]
     },
     "metadata": {},
     "output_type": "display_data"
    },
    {
     "name": "stderr",
     "output_type": "stream",
     "text": [
      "00:21:50 - cmdstanpy - INFO - Chain [1] start processing\n",
      "00:22:21 - cmdstanpy - INFO - Chain [1] done processing\n",
      "00:22:21 - cmdstanpy - INFO - Chain [1] start processing\n",
      "00:22:45 - cmdstanpy - INFO - Chain [1] done processing\n",
      "00:22:45 - cmdstanpy - INFO - Chain [1] start processing\n",
      "00:23:06 - cmdstanpy - INFO - Chain [1] done processing\n",
      "Seasonality has period of 365.25 days which is larger than initial window. Consider increasing initial.\n"
     ]
    },
    {
     "data": {
      "application/vnd.jupyter.widget-view+json": {
       "model_id": "56381120bc52459084caaf8e090519e8",
       "version_major": 2,
       "version_minor": 0
      },
      "text/plain": [
       "  0%|          | 0/2 [00:00<?, ?it/s]"
      ]
     },
     "metadata": {},
     "output_type": "display_data"
    },
    {
     "name": "stderr",
     "output_type": "stream",
     "text": [
      "00:23:06 - cmdstanpy - INFO - Chain [1] start processing\n",
      "00:23:31 - cmdstanpy - INFO - Chain [1] done processing\n",
      "00:23:31 - cmdstanpy - INFO - Chain [1] start processing\n",
      "00:23:58 - cmdstanpy - INFO - Chain [1] done processing\n",
      "00:23:59 - cmdstanpy - INFO - Chain [1] start processing\n",
      "00:24:14 - cmdstanpy - INFO - Chain [1] done processing\n",
      "Seasonality has period of 365.25 days which is larger than initial window. Consider increasing initial.\n"
     ]
    },
    {
     "data": {
      "application/vnd.jupyter.widget-view+json": {
       "model_id": "8019106913824b098efd7fdfa559c914",
       "version_major": 2,
       "version_minor": 0
      },
      "text/plain": [
       "  0%|          | 0/2 [00:00<?, ?it/s]"
      ]
     },
     "metadata": {},
     "output_type": "display_data"
    },
    {
     "name": "stderr",
     "output_type": "stream",
     "text": [
      "00:24:15 - cmdstanpy - INFO - Chain [1] start processing\n",
      "00:24:16 - cmdstanpy - INFO - Chain [1] done processing\n",
      "00:24:16 - cmdstanpy - INFO - Chain [1] start processing\n",
      "00:24:49 - cmdstanpy - INFO - Chain [1] done processing\n"
     ]
    },
    {
     "name": "stdout",
     "output_type": "stream",
     "text": [
      "Best Fourier Order: 3\n",
      "Best RMSE: 0.024252465566972643\n",
      "  horizon       mse      rmse       mae      mape     mdape     smape  \\\n",
      "0  7 days  0.001115  0.033384  0.028616  0.000562  0.000562  0.000562   \n",
      "1 14 days  0.000946  0.030760  0.029567  0.000581  0.000581  0.000581   \n",
      "2 21 days  0.000753  0.027432  0.026365  0.000518  0.000518  0.000518   \n",
      "3 28 days  0.000030  0.005433  0.005392  0.000106  0.000106  0.000106   \n",
      "\n",
      "   coverage  \n",
      "0       1.0  \n",
      "1       1.0  \n",
      "2       1.0  \n",
      "3       1.0  \n"
     ]
    }
   ],
   "source": [
    "# Initialize variables for tuning\n",
    "best_fourier_order = 1\n",
    "best_rmse = float('inf')\n",
    "best_model = None\n",
    "best_metrics = None\n",
    "\n",
    "# Define the range of fourier orders you want to test\n",
    "fourier_orders = range(1, 21)  # For example, testing 1 through 20\n",
    "\n",
    "for fourier_order in fourier_orders:\n",
    "    # Initialize the Prophet model with the current fourier_order\n",
    "    model = Prophet(seasonality_mode='multiplicative')\n",
    "    model.add_seasonality(name='weekly', period=7, fourier_order=fourier_order)\n",
    "    model.add_seasonality(name='yearly', period=365.25, fourier_order=fourier_order)\n",
    "    \n",
    "    # Fit the model\n",
    "    model.fit(df)\n",
    "    \n",
    "    # Perform cross-validation\n",
    "    df_cv = cross_validation(model, initial='364 days', period='84 days', horizon='28 days')\n",
    "    \n",
    "    # Calculate performance metrics\n",
    "    df_p = performance_metrics(df_cv)\n",
    "    current_rmse = np.mean(df_p['rmse'])\n",
    "    \n",
    "    # If the current model is better than the previous best, update best_model\n",
    "    if current_rmse < best_rmse:\n",
    "        best_rmse = current_rmse\n",
    "        best_fourier_order = fourier_order\n",
    "        best_model = model\n",
    "        best_metrics = df_p\n",
    "\n",
    "# Print the best results\n",
    "print(f\"Best Fourier Order: {best_fourier_order}\")\n",
    "print(f\"Best RMSE: {best_rmse}\")\n",
    "print(best_metrics)\n"
   ]
  },
  {
   "cell_type": "markdown",
   "id": "3007527e",
   "metadata": {},
   "source": [
    "# Final Model"
   ]
  },
  {
   "cell_type": "code",
   "execution_count": 20,
   "id": "2b819ab1",
   "metadata": {},
   "outputs": [
    {
     "name": "stderr",
     "output_type": "stream",
     "text": [
      "00:37:55 - cmdstanpy - INFO - Chain [1] start processing\n",
      "00:37:59 - cmdstanpy - INFO - Chain [1] done processing\n"
     ]
    },
    {
     "name": "stdout",
     "output_type": "stream",
     "text": [
      "Train RMSE: 51.11306119900755\n",
      "Test RMSE: 60.97692526024666\n"
     ]
    }
   ],
   "source": [
    "# Initialize the best model based on tuning results\n",
    "best_model = Prophet(seasonality_mode='multiplicative')\n",
    "best_model.add_seasonality(name='weekly', period=7, fourier_order=3)\n",
    "best_model.add_seasonality(name='yearly', period=365.25, fourier_order=3)\n",
    "\n",
    "# Fit the model with the entire dataset\n",
    "best_model.fit(df)\n",
    "\n",
    "# Create future dataframe for predictions\n",
    "future_train = best_model.make_future_dataframe(periods=len(train), freq='W')\n",
    "future_test = best_model.make_future_dataframe(periods=len(test), freq='W')\n",
    "\n",
    "# Predict on training and testing data\n",
    "forecast_train = best_model.predict(future_train)\n",
    "forecast_test = best_model.predict(future_test)\n",
    "\n",
    "# Calculate RMSE for train data\n",
    "train_rmse = sqrt(mean_squared_error(train['y'], forecast_train[-len(train):]['yhat']))\n",
    "\n",
    "# Calculate RMSE for test data\n",
    "test_rmse = sqrt(mean_squared_error(test['y'], forecast_test[-len(test):]['yhat']))\n",
    "\n",
    "# Print the RMSE values\n",
    "print(f\"Train RMSE: {train_rmse}\")\n",
    "print(f\"Test RMSE: {test_rmse}\")"
   ]
  },
  {
   "cell_type": "code",
   "execution_count": 21,
   "id": "10b4a2a2",
   "metadata": {},
   "outputs": [
    {
     "name": "stderr",
     "output_type": "stream",
     "text": [
      "00:41:03 - cmdstanpy - INFO - Chain [1] start processing\n",
      "00:41:05 - cmdstanpy - INFO - Chain [1] done processing\n"
     ]
    },
    {
     "name": "stdout",
     "output_type": "stream",
     "text": [
      "Train RMSE: 0.06874138344574612\n",
      "Test RMSE: 53.392811817640435\n"
     ]
    }
   ],
   "source": [
    "from prophet import Prophet\n",
    "from sklearn.metrics import mean_squared_error\n",
    "from math import sqrt\n",
    "\n",
    "# Split the data into train and test sets again for clarity\n",
    "split_index = int(len(df) * 0.7)\n",
    "train = df.iloc[:split_index].reset_index().rename(columns={'Date':'ds', pred_var:'y'})\n",
    "test = df.iloc[split_index:].reset_index().rename(columns={'Date':'ds', pred_var:'y'})\n",
    "\n",
    "# Initialize and fit the Prophet model on the training data\n",
    "model = Prophet(seasonality_mode='multiplicative')\n",
    "model.add_seasonality(name='weekly', period=7, fourier_order=3)\n",
    "model.add_seasonality(name='yearly', period=365.25, fourier_order=3)\n",
    "model.fit(train)\n",
    "\n",
    "# Create future dataframe for predictions\n",
    "future = model.make_future_dataframe(periods=len(test), freq='W')\n",
    "\n",
    "# Make predictions\n",
    "forecast = model.predict(future)\n",
    "\n",
    "# Calculate RMSE for train data\n",
    "train_forecast = forecast.iloc[:split_index, :]\n",
    "train_rmse = sqrt(mean_squared_error(train['y'], train_forecast['yhat']))\n",
    "\n",
    "# Calculate RMSE for test data\n",
    "test_forecast = forecast.iloc[split_index:, :]\n",
    "test_rmse = sqrt(mean_squared_error(test['y'], test_forecast['yhat']))\n",
    "\n",
    "# Print the RMSE values\n",
    "print(f\"Train RMSE: {train_rmse}\")\n",
    "print(f\"Test RMSE: {test_rmse}\")\n"
   ]
  },
  {
   "cell_type": "code",
   "execution_count": null,
   "id": "716a8b8e",
   "metadata": {},
   "outputs": [],
   "source": []
  }
 ],
 "metadata": {
  "kernelspec": {
   "display_name": "Python 3 (ipykernel)",
   "language": "python",
   "name": "python3"
  },
  "language_info": {
   "codemirror_mode": {
    "name": "ipython",
    "version": 3
   },
   "file_extension": ".py",
   "mimetype": "text/x-python",
   "name": "python",
   "nbconvert_exporter": "python",
   "pygments_lexer": "ipython3",
   "version": "3.9.12"
  }
 },
 "nbformat": 4,
 "nbformat_minor": 5
}
