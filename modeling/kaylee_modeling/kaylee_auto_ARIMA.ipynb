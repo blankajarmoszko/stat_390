{
 "cells": [
  {
   "cell_type": "markdown",
   "id": "29f98272",
   "metadata": {},
   "source": [
    "**Automated Parameter Selection**: Auto-ARIMA, on the other hand, automates the process of selecting the order of the ARIMA model.\n",
    "- Search Algorithm: Auto-ARIMA typically employs a search algorithm that explores different combinations of AR, I, and MA orders to find the model with the lowest Akaike Information Criterion (AIC) or Bayesian Information Criterion (BIC).\n",
    "- Ease of Use: Auto-ARIMA is user-friendly and requires less manual intervention compared to traditional ARIMA. It is suitable for users who are less familiar with time series analysis."
   ]
  },
  {
   "cell_type": "markdown",
   "id": "d512029e",
   "metadata": {},
   "source": [
    "# Preprocessing"
   ]
  },
  {
   "cell_type": "code",
   "execution_count": 1,
   "id": "56b34648",
   "metadata": {},
   "outputs": [
    {
     "name": "stderr",
     "output_type": "stream",
     "text": [
      "/opt/anaconda3/lib/python3.9/site-packages/scipy/__init__.py:146: UserWarning: A NumPy version >=1.16.5 and <1.23.0 is required for this version of SciPy (detected version 1.26.2\n",
      "  warnings.warn(f\"A NumPy version >={np_minversion} and <{np_maxversion}\"\n"
     ]
    }
   ],
   "source": [
    "import pandas as pd\n",
    "from statsmodels.tsa.arima.model import ARIMA\n",
    "from sklearn.preprocessing import MinMaxScaler\n",
    "import numpy as np\n",
    "import matplotlib.pyplot as plt\n",
    "from sklearn.metrics import mean_squared_error, mean_absolute_error\n",
    "from math import sqrt\n",
    "import warnings\n",
    "# Suppress all warnings\n",
    "warnings.simplefilter(\"ignore\")"
   ]
  },
  {
   "cell_type": "code",
   "execution_count": 2,
   "id": "74ae65d3",
   "metadata": {},
   "outputs": [],
   "source": [
    "from pmdarima.arima import auto_arima"
   ]
  },
  {
   "cell_type": "code",
   "execution_count": 3,
   "id": "dbd191e6",
   "metadata": {},
   "outputs": [],
   "source": [
    "# import data\n",
    "df = pd.read_csv('df_post_eda.csv')"
   ]
  },
  {
   "cell_type": "code",
   "execution_count": 4,
   "id": "e4aefd0e",
   "metadata": {},
   "outputs": [
    {
     "data": {
      "text/html": [
       "<div>\n",
       "<style scoped>\n",
       "    .dataframe tbody tr th:only-of-type {\n",
       "        vertical-align: middle;\n",
       "    }\n",
       "\n",
       "    .dataframe tbody tr th {\n",
       "        vertical-align: top;\n",
       "    }\n",
       "\n",
       "    .dataframe thead th {\n",
       "        text-align: right;\n",
       "    }\n",
       "</style>\n",
       "<table border=\"1\" class=\"dataframe\">\n",
       "  <thead>\n",
       "    <tr style=\"text-align: right;\">\n",
       "      <th></th>\n",
       "      <th>Additional_Doses_Vax_Pct</th>\n",
       "    </tr>\n",
       "    <tr>\n",
       "      <th>Date</th>\n",
       "      <th></th>\n",
       "    </tr>\n",
       "  </thead>\n",
       "  <tbody>\n",
       "    <tr>\n",
       "      <th>2021-11-03</th>\n",
       "      <td>10.332812</td>\n",
       "    </tr>\n",
       "    <tr>\n",
       "      <th>2021-11-10</th>\n",
       "      <td>13.185937</td>\n",
       "    </tr>\n",
       "    <tr>\n",
       "      <th>2021-11-17</th>\n",
       "      <td>15.871875</td>\n",
       "    </tr>\n",
       "    <tr>\n",
       "      <th>2021-11-24</th>\n",
       "      <td>18.675000</td>\n",
       "    </tr>\n",
       "    <tr>\n",
       "      <th>2021-12-01</th>\n",
       "      <td>20.689062</td>\n",
       "    </tr>\n",
       "  </tbody>\n",
       "</table>\n",
       "</div>"
      ],
      "text/plain": [
       "            Additional_Doses_Vax_Pct\n",
       "Date                                \n",
       "2021-11-03                 10.332812\n",
       "2021-11-10                 13.185937\n",
       "2021-11-17                 15.871875\n",
       "2021-11-24                 18.675000\n",
       "2021-12-01                 20.689062"
      ]
     },
     "execution_count": 4,
     "metadata": {},
     "output_type": "execute_result"
    }
   ],
   "source": [
    "pred_var = 'Additional_Doses_Vax_Pct'\n",
    "df['Date'] = pd.to_datetime(df['Date'])\n",
    "df = df.groupby('Date')[pred_var].mean()\n",
    "df = pd.DataFrame(df)\n",
    "df.head()"
   ]
  },
  {
   "cell_type": "code",
   "execution_count": 5,
   "id": "86643cae",
   "metadata": {},
   "outputs": [
    {
     "data": {
      "text/html": [
       "<div>\n",
       "<style scoped>\n",
       "    .dataframe tbody tr th:only-of-type {\n",
       "        vertical-align: middle;\n",
       "    }\n",
       "\n",
       "    .dataframe tbody tr th {\n",
       "        vertical-align: top;\n",
       "    }\n",
       "\n",
       "    .dataframe thead th {\n",
       "        text-align: right;\n",
       "    }\n",
       "</style>\n",
       "<table border=\"1\" class=\"dataframe\">\n",
       "  <thead>\n",
       "    <tr style=\"text-align: right;\">\n",
       "      <th></th>\n",
       "      <th>Additional_Doses_Vax_Pct</th>\n",
       "    </tr>\n",
       "    <tr>\n",
       "      <th>Date</th>\n",
       "      <th></th>\n",
       "    </tr>\n",
       "  </thead>\n",
       "  <tbody>\n",
       "    <tr>\n",
       "      <th>2021-11-03</th>\n",
       "      <td>0.000000</td>\n",
       "    </tr>\n",
       "    <tr>\n",
       "      <th>2021-11-10</th>\n",
       "      <td>0.070026</td>\n",
       "    </tr>\n",
       "    <tr>\n",
       "      <th>2021-11-17</th>\n",
       "      <td>0.135949</td>\n",
       "    </tr>\n",
       "    <tr>\n",
       "      <th>2021-11-24</th>\n",
       "      <td>0.204748</td>\n",
       "    </tr>\n",
       "    <tr>\n",
       "      <th>2021-12-01</th>\n",
       "      <td>0.254180</td>\n",
       "    </tr>\n",
       "  </tbody>\n",
       "</table>\n",
       "</div>"
      ],
      "text/plain": [
       "            Additional_Doses_Vax_Pct\n",
       "Date                                \n",
       "2021-11-03                  0.000000\n",
       "2021-11-10                  0.070026\n",
       "2021-11-17                  0.135949\n",
       "2021-11-24                  0.204748\n",
       "2021-12-01                  0.254180"
      ]
     },
     "execution_count": 5,
     "metadata": {},
     "output_type": "execute_result"
    }
   ],
   "source": [
    "# Scale data -> some % columns, some raw number columns\n",
    "scaler = MinMaxScaler()\n",
    "df_scaled = pd.DataFrame(scaler.fit_transform(df), columns=df.columns, index=df.index)\n",
    "df_scaled.head()"
   ]
  },
  {
   "cell_type": "code",
   "execution_count": 6,
   "id": "e021a185",
   "metadata": {},
   "outputs": [
    {
     "name": "stdout",
     "output_type": "stream",
     "text": [
      "(61, 1) (19, 1)\n"
     ]
    }
   ],
   "source": [
    "train_size = int(len(df_scaled) * 0.7625)\n",
    "train, test = df_scaled[0:train_size], df_scaled[train_size:]\n",
    "print(train.shape, test.shape)"
   ]
  },
  {
   "cell_type": "markdown",
   "id": "ad3f7a28",
   "metadata": {},
   "source": [
    "# Model Building"
   ]
  },
  {
   "cell_type": "markdown",
   "id": "57f07902",
   "metadata": {},
   "source": [
    "#### No Tuning of Auto-ARIMA"
   ]
  },
  {
   "cell_type": "code",
   "execution_count": 7,
   "id": "14f210c8",
   "metadata": {},
   "outputs": [
    {
     "name": "stdout",
     "output_type": "stream",
     "text": [
      "Performing stepwise search to minimize aic\n",
      " ARIMA(2,2,2)(1,0,1)[12]             : AIC=-416.820, Time=0.31 sec\n",
      " ARIMA(0,2,0)(0,0,0)[12]             : AIC=-422.034, Time=0.03 sec\n",
      " ARIMA(1,2,0)(1,0,0)[12]             : AIC=-424.844, Time=0.10 sec\n",
      " ARIMA(0,2,1)(0,0,1)[12]             : AIC=-424.468, Time=0.11 sec\n",
      " ARIMA(1,2,0)(0,0,0)[12]             : AIC=-423.808, Time=0.04 sec\n",
      " ARIMA(1,2,0)(2,0,0)[12]             : AIC=-422.859, Time=0.38 sec\n",
      " ARIMA(1,2,0)(1,0,1)[12]             : AIC=-422.812, Time=0.11 sec\n",
      " ARIMA(1,2,0)(0,0,1)[12]             : AIC=-424.527, Time=0.09 sec\n",
      " ARIMA(1,2,0)(2,0,1)[12]             : AIC=-420.904, Time=0.35 sec\n",
      " ARIMA(0,2,0)(1,0,0)[12]             : AIC=-423.070, Time=0.08 sec\n",
      " ARIMA(2,2,0)(1,0,0)[12]             : AIC=-422.906, Time=0.17 sec\n",
      " ARIMA(1,2,1)(1,0,0)[12]             : AIC=-422.056, Time=0.05 sec\n",
      " ARIMA(0,2,1)(1,0,0)[12]             : AIC=-424.006, Time=0.07 sec\n",
      " ARIMA(2,2,1)(1,0,0)[12]             : AIC=-420.921, Time=0.18 sec\n",
      " ARIMA(1,2,0)(1,0,0)[12] intercept   : AIC=-425.204, Time=0.14 sec\n",
      " ARIMA(1,2,0)(0,0,0)[12] intercept   : AIC=-424.874, Time=0.02 sec\n",
      " ARIMA(1,2,0)(2,0,0)[12] intercept   : AIC=-423.186, Time=0.84 sec\n",
      " ARIMA(1,2,0)(1,0,1)[12] intercept   : AIC=-423.193, Time=0.17 sec\n",
      " ARIMA(1,2,0)(0,0,1)[12] intercept   : AIC=-425.027, Time=0.12 sec\n",
      " ARIMA(1,2,0)(2,0,1)[12] intercept   : AIC=-421.212, Time=0.69 sec\n",
      " ARIMA(0,2,0)(1,0,0)[12] intercept   : AIC=-422.432, Time=0.09 sec\n",
      " ARIMA(2,2,0)(1,0,0)[12] intercept   : AIC=-422.956, Time=0.07 sec\n",
      " ARIMA(1,2,1)(1,0,0)[12] intercept   : AIC=-423.050, Time=0.07 sec\n",
      " ARIMA(0,2,1)(1,0,0)[12] intercept   : AIC=-425.500, Time=0.16 sec\n",
      " ARIMA(0,2,1)(0,0,0)[12] intercept   : AIC=-425.399, Time=0.05 sec\n",
      " ARIMA(0,2,1)(2,0,0)[12] intercept   : AIC=-423.531, Time=0.40 sec\n",
      " ARIMA(0,2,1)(1,0,1)[12] intercept   : AIC=-423.519, Time=0.13 sec\n",
      " ARIMA(0,2,1)(0,0,1)[12] intercept   : AIC=-425.317, Time=0.12 sec\n",
      " ARIMA(0,2,1)(2,0,1)[12] intercept   : AIC=-421.523, Time=0.59 sec\n",
      " ARIMA(0,2,2)(1,0,0)[12] intercept   : AIC=-423.461, Time=0.20 sec\n",
      " ARIMA(1,2,2)(1,0,0)[12] intercept   : AIC=-413.138, Time=0.16 sec\n",
      "\n",
      "Best model:  ARIMA(0,2,1)(1,0,0)[12] intercept\n",
      "Total fit time: 7.507 seconds\n"
     ]
    }
   ],
   "source": [
    "model = auto_arima(train, seasonal=True, m=12, \n",
    "                      suppress_warnings=True, stepwise=True,\n",
    "                      error_action='warn', trace=True,\n",
    "                      seasonal_order=None,   # Let the algorithm determine the optimal seasonal order\n",
    "                   seasonal_test='ocsb', # Use 'ocsb' for seasonal order selection\n",
    "                        random_state=45)"
   ]
  },
  {
   "cell_type": "code",
   "execution_count": 8,
   "id": "77eb7906",
   "metadata": {},
   "outputs": [
    {
     "name": "stdout",
     "output_type": "stream",
     "text": [
      "Optimization terminated successfully.\n",
      "         Current function value: -3.531121\n",
      "         Iterations: 2\n",
      "         Function evaluations: 122\n",
      "Training RMSE: 0.010981423610464548\n",
      "Testing RMSE: 0.005517790178342288\n"
     ]
    }
   ],
   "source": [
    "from statsmodels.tsa.statespace.sarimax import SARIMAX\n",
    "# Best hyperparameters\n",
    "p, d, q = 0, 2, 1\n",
    "P, D, Q, S = 1, 0, 0, 12\n",
    "\n",
    "# Create and train the SARIMAX model\n",
    "model = SARIMAX(train, order=(p, d, q), seasonal_order=(P, D, Q, S))\n",
    "fit_model = model.fit(method='powell')\n",
    "\n",
    "# Make predictions on the training set (fitted values)\n",
    "train_pred = fit_model.fittedvalues\n",
    "\n",
    "# Make predictions on the test set\n",
    "test_pred = fit_model.get_forecast(steps=len(test))\n",
    "test_pred_mean = test_pred.predicted_mean\n",
    "\n",
    "# Calculate RMSE for training set\n",
    "train_rmse = sqrt(mean_squared_error(train, train_pred))\n",
    "\n",
    "# Calculate RMSE for test set\n",
    "test_rmse = sqrt(mean_squared_error(test, test_pred_mean))\n",
    "\n",
    "print(f\"Training RMSE: {train_rmse}\")\n",
    "print(f\"Testing RMSE: {test_rmse}\")\n",
    "# overfitting"
   ]
  },
  {
   "cell_type": "code",
   "execution_count": 9,
   "id": "e8e75ea0",
   "metadata": {},
   "outputs": [
    {
     "data": {
      "text/plain": [
       "<matplotlib.legend.Legend at 0x7fbb518506a0>"
      ]
     },
     "execution_count": 9,
     "metadata": {},
     "output_type": "execute_result"
    },
    {
     "data": {
      "image/png": "[encoded data removed]",
      "text/plain": [
       "<Figure size 1440x576 with 1 Axes>"
      ]
     },
     "metadata": {
      "needs_background": "light"
     },
     "output_type": "display_data"
    }
   ],
   "source": [
    "pd.concat([train, train_pred], axis=1).plot(figsize=(20, 8))\n",
    "plt.legend(['train_gt', 'train_pred'])"
   ]
  },
  {
   "cell_type": "code",
   "execution_count": 10,
   "id": "9299b798",
   "metadata": {},
   "outputs": [
    {
     "data": {
      "text/plain": [
       "<matplotlib.legend.Legend at 0x7fbb61cfc8b0>"
      ]
     },
     "execution_count": 10,
     "metadata": {},
     "output_type": "execute_result"
    },
    {
     "data": {
      "image/png": "[encoded data removed]",
      "text/plain": [
       "<Figure size 1440x576 with 1 Axes>"
      ]
     },
     "metadata": {
      "needs_background": "light"
     },
     "output_type": "display_data"
    }
   ],
   "source": [
    "pd.concat([test, test_pred_mean], axis=1).plot(figsize=(20, 8))\n",
    "plt.legend(['test', 'test_pred'])"
   ]
  },
  {
   "cell_type": "markdown",
   "id": "5b720c42",
   "metadata": {},
   "source": [
    "## Tuning"
   ]
  },
  {
   "cell_type": "code",
   "execution_count": 19,
   "id": "79219a53",
   "metadata": {},
   "outputs": [
    {
     "name": "stdout",
     "output_type": "stream",
     "text": [
      "Performing stepwise search to minimize aic\n",
      " ARIMA(0,2,0)(1,0,1)[12]             : AIC=-417.994, Time=0.10 sec\n",
      " ARIMA(0,2,0)(0,0,0)[12]             : AIC=-422.034, Time=0.03 sec\n",
      " ARIMA(1,2,0)(1,0,0)[12]             : AIC=-424.844, Time=0.12 sec\n",
      " ARIMA(0,2,1)(0,0,1)[12]             : AIC=-424.468, Time=0.14 sec\n",
      " ARIMA(1,2,0)(0,0,0)[12]             : AIC=-423.808, Time=0.05 sec\n",
      " ARIMA(1,2,0)(2,0,0)[12]             : AIC=-422.859, Time=0.50 sec\n",
      " ARIMA(1,2,0)(1,0,1)[12]             : AIC=-422.812, Time=0.13 sec\n",
      " ARIMA(1,2,0)(0,0,1)[12]             : AIC=-424.527, Time=0.10 sec\n",
      " ARIMA(1,2,0)(2,0,1)[12]             : AIC=-420.904, Time=0.46 sec\n",
      " ARIMA(0,2,0)(1,0,0)[12]             : AIC=-423.070, Time=0.08 sec\n",
      " ARIMA(2,2,0)(1,0,0)[12]             : AIC=-422.906, Time=0.17 sec\n",
      " ARIMA(1,2,1)(1,0,0)[12]             : AIC=-422.056, Time=0.07 sec\n",
      " ARIMA(0,2,1)(1,0,0)[12]             : AIC=-424.006, Time=0.07 sec\n",
      " ARIMA(2,2,1)(1,0,0)[12]             : AIC=-420.921, Time=0.21 sec\n",
      " ARIMA(1,2,0)(1,0,0)[12] intercept   : AIC=-425.204, Time=0.15 sec\n",
      " ARIMA(1,2,0)(0,0,0)[12] intercept   : AIC=-424.874, Time=0.03 sec\n",
      " ARIMA(1,2,0)(2,0,0)[12] intercept   : AIC=-423.186, Time=0.89 sec\n",
      " ARIMA(1,2,0)(1,0,1)[12] intercept   : AIC=-423.193, Time=0.17 sec\n",
      " ARIMA(1,2,0)(0,0,1)[12] intercept   : AIC=-425.027, Time=0.12 sec\n",
      " ARIMA(1,2,0)(2,0,1)[12] intercept   : AIC=-421.212, Time=0.77 sec\n",
      " ARIMA(0,2,0)(1,0,0)[12] intercept   : AIC=-422.432, Time=0.09 sec\n",
      " ARIMA(2,2,0)(1,0,0)[12] intercept   : AIC=-422.956, Time=0.08 sec\n",
      " ARIMA(1,2,1)(1,0,0)[12] intercept   : AIC=-423.050, Time=0.08 sec\n",
      " ARIMA(0,2,1)(1,0,0)[12] intercept   : AIC=-425.500, Time=0.17 sec\n",
      " ARIMA(0,2,1)(0,0,0)[12] intercept   : AIC=-425.399, Time=0.06 sec\n",
      " ARIMA(0,2,1)(2,0,0)[12] intercept   : AIC=-423.531, Time=0.54 sec\n",
      " ARIMA(0,2,1)(1,0,1)[12] intercept   : AIC=-423.519, Time=0.14 sec\n",
      " ARIMA(0,2,1)(0,0,1)[12] intercept   : AIC=-425.317, Time=0.14 sec\n",
      " ARIMA(0,2,1)(2,0,1)[12] intercept   : AIC=-421.523, Time=0.79 sec\n",
      " ARIMA(0,2,2)(1,0,0)[12] intercept   : AIC=-423.461, Time=0.23 sec\n",
      " ARIMA(1,2,2)(1,0,0)[12] intercept   : AIC=-413.138, Time=0.23 sec\n",
      "\n",
      "Best model:  ARIMA(0,2,1)(1,0,0)[12] intercept\n",
      "Total fit time: 6.945 seconds\n"
     ]
    }
   ],
   "source": [
    "model = auto_arima(train, seasonal=True, m=12,  \n",
    "                      suppress_warnings=True, stepwise=True,\n",
    "                      error_action='warn', trace=True,\n",
    "                      random_state = 45,\n",
    "                      start_p=0, start_q=0, max_p=3, max_q=3, \n",
    "                      d=None, # want algorithm to determin optimal value for d\n",
    "                      seasonal_order=None,  # Let the algorithm determine the optimal seasonal order\n",
    "                      seasonal_test='ocsb',  # Use 'ocsb' for seasonal order selection\n",
    "                      suppress_state_transition_warnings=True)"
   ]
  },
  {
   "cell_type": "code",
   "execution_count": 20,
   "id": "ca658724",
   "metadata": {},
   "outputs": [
    {
     "name": "stdout",
     "output_type": "stream",
     "text": [
      "Optimization terminated successfully.\n",
      "         Current function value: -3.531121\n",
      "         Iterations: 2\n",
      "         Function evaluations: 122\n",
      "Training RMSE: 0.010981423610464548\n",
      "Testing RMSE: 0.005517790178342288\n"
     ]
    }
   ],
   "source": [
    "from statsmodels.tsa.statespace.sarimax import SARIMAX\n",
    "# Best hyperparameters\n",
    "p, d, q = 0, 2, 1\n",
    "P, D, Q, S = 1, 0, 0, 12\n",
    "\n",
    "# Create and train the SARIMAX model\n",
    "model = SARIMAX(train, order=(p, d, q), seasonal_order=(P, D, Q, S))\n",
    "fit_model = model.fit(enforce_stationarity=False, enforce_invertibility=False, method='powell')\n",
    "\n",
    "# Make predictions on the training set (fitted values)\n",
    "train_pred = fit_model.fittedvalues\n",
    "\n",
    "# Make predictions on the test set\n",
    "test_pred = fit_model.get_forecast(steps=len(test))\n",
    "test_pred_mean = test_pred.predicted_mean\n",
    "\n",
    "# Calculate RMSE for training set\n",
    "train_rmse = sqrt(mean_squared_error(train, train_pred))\n",
    "\n",
    "# Calculate RMSE for test set\n",
    "test_rmse = sqrt(mean_squared_error(test, test_pred_mean))\n",
    "\n",
    "print(f\"Training RMSE: {train_rmse}\")\n",
    "print(f\"Testing RMSE: {test_rmse}\")"
   ]
  },
  {
   "cell_type": "code",
   "execution_count": 21,
   "id": "1e45132f",
   "metadata": {},
   "outputs": [
    {
     "data": {
      "text/plain": [
       "<matplotlib.legend.Legend at 0x7fba85152c10>"
      ]
     },
     "execution_count": 21,
     "metadata": {},
     "output_type": "execute_result"
    },
    {
     "data": {
      "image/png": "[encoded data removed]",
      "text/plain": [
       "<Figure size 1440x576 with 1 Axes>"
      ]
     },
     "metadata": {
      "needs_background": "light"
     },
     "output_type": "display_data"
    }
   ],
   "source": [
    "pd.concat([train, train_pred], axis=1).plot(figsize=(20, 8))\n",
    "plt.legend(['train', 'train_pred'])"
   ]
  },
  {
   "cell_type": "code",
   "execution_count": 22,
   "id": "aa8e3289",
   "metadata": {},
   "outputs": [
    {
     "data": {
      "text/plain": [
       "<matplotlib.legend.Legend at 0x7fbaa0be6760>"
      ]
     },
     "execution_count": 22,
     "metadata": {},
     "output_type": "execute_result"
    },
    {
     "data": {
      "image/png": "[encoded data removed]",
      "text/plain": [
       "<Figure size 1440x576 with 1 Axes>"
      ]
     },
     "metadata": {
      "needs_background": "light"
     },
     "output_type": "display_data"
    }
   ],
   "source": [
    "pd.concat([test, test_pred_mean], axis=1).plot(figsize=(20, 8))\n",
    "plt.legend(['test', 'test_pred'])"
   ]
  },
  {
   "cell_type": "code",
   "execution_count": 23,
   "id": "f5694974",
   "metadata": {},
   "outputs": [
    {
     "data": {
      "image/png": "[encoded data removed]",
      "text/plain": [
       "<Figure size 864x432 with 1 Axes>"
      ]
     },
     "metadata": {
      "needs_background": "light"
     },
     "output_type": "display_data"
    }
   ],
   "source": [
    "# Plot the actual vs. forecasted values\n",
    "plt.figure(figsize=(12, 6))\n",
    "plt.plot(train, label='Training Data')\n",
    "plt.plot(test, label='Test Data')\n",
    "plt.plot(test.index, test_pred_mean, label='Test Pred', color='red')\n",
    "plt.plot(train.index, train_pred, label='Train Pred', color='green')\n",
    "plt.legend()\n",
    "plt.title('AUTOARIMA Forecast vs. Actual Data')\n",
    "plt.show()"
   ]
  },
  {
   "cell_type": "markdown",
   "id": "720616b0",
   "metadata": {},
   "source": [
    "# Larger Grid Search"
   ]
  },
  {
   "cell_type": "code",
   "execution_count": 24,
   "id": "9803ea4e",
   "metadata": {},
   "outputs": [
    {
     "name": "stdout",
     "output_type": "stream",
     "text": [
      "Performing stepwise search to minimize aic\n",
      " ARIMA(0,2,0)(0,0,0)[12]             : AIC=-422.034, Time=0.04 sec\n",
      " ARIMA(1,2,0)(1,0,0)[12]             : AIC=-424.844, Time=0.10 sec\n",
      " ARIMA(0,2,1)(0,0,1)[12]             : AIC=-424.468, Time=0.14 sec\n",
      " ARIMA(1,2,0)(0,0,0)[12]             : AIC=-423.808, Time=0.04 sec\n",
      " ARIMA(1,2,0)(2,0,0)[12]             : AIC=-422.859, Time=0.47 sec\n",
      " ARIMA(1,2,0)(1,0,1)[12]             : AIC=-422.812, Time=0.12 sec\n",
      " ARIMA(1,2,0)(0,0,1)[12]             : AIC=-424.527, Time=0.13 sec\n",
      " ARIMA(1,2,0)(2,0,1)[12]             : AIC=-420.904, Time=0.47 sec\n",
      " ARIMA(0,2,0)(1,0,0)[12]             : AIC=-423.070, Time=0.09 sec\n",
      " ARIMA(2,2,0)(1,0,0)[12]             : AIC=-422.906, Time=0.17 sec\n",
      " ARIMA(1,2,1)(1,0,0)[12]             : AIC=-422.056, Time=0.06 sec\n",
      " ARIMA(0,2,1)(1,0,0)[12]             : AIC=-424.006, Time=0.07 sec\n",
      " ARIMA(2,2,1)(1,0,0)[12]             : AIC=-420.921, Time=0.19 sec\n",
      " ARIMA(1,2,0)(1,0,0)[12] intercept   : AIC=-425.204, Time=0.14 sec\n",
      " ARIMA(1,2,0)(0,0,0)[12] intercept   : AIC=-424.874, Time=0.02 sec\n",
      " ARIMA(1,2,0)(2,0,0)[12] intercept   : AIC=-423.186, Time=0.76 sec\n",
      " ARIMA(1,2,0)(1,0,1)[12] intercept   : AIC=-423.193, Time=0.17 sec\n",
      " ARIMA(1,2,0)(0,0,1)[12] intercept   : AIC=-425.027, Time=0.11 sec\n",
      " ARIMA(1,2,0)(2,0,1)[12] intercept   : AIC=-421.212, Time=0.82 sec\n",
      " ARIMA(0,2,0)(1,0,0)[12] intercept   : AIC=-422.432, Time=0.08 sec\n",
      " ARIMA(2,2,0)(1,0,0)[12] intercept   : AIC=-422.956, Time=0.07 sec\n",
      " ARIMA(1,2,1)(1,0,0)[12] intercept   : AIC=-423.050, Time=0.07 sec\n",
      " ARIMA(0,2,1)(1,0,0)[12] intercept   : AIC=-425.500, Time=0.16 sec\n",
      " ARIMA(0,2,1)(0,0,0)[12] intercept   : AIC=-425.399, Time=0.05 sec\n",
      " ARIMA(0,2,1)(2,0,0)[12] intercept   : AIC=-423.531, Time=0.46 sec\n",
      " ARIMA(0,2,1)(1,0,1)[12] intercept   : AIC=-423.519, Time=0.12 sec\n",
      " ARIMA(0,2,1)(0,0,1)[12] intercept   : AIC=-425.317, Time=0.12 sec\n",
      " ARIMA(0,2,1)(2,0,1)[12] intercept   : AIC=-421.523, Time=0.71 sec\n",
      " ARIMA(0,2,2)(1,0,0)[12] intercept   : AIC=-423.461, Time=0.20 sec\n",
      " ARIMA(1,2,2)(1,0,0)[12] intercept   : AIC=-413.138, Time=0.16 sec\n",
      "\n",
      "Best model:  ARIMA(0,2,1)(1,0,0)[12] intercept\n",
      "Total fit time: 6.376 seconds\n"
     ]
    }
   ],
   "source": [
    "model = auto_arima(train, seasonal=True, m=12,  \n",
    "                      suppress_warnings=True, stepwise=True,\n",
    "                      error_action='warn', trace=True,\n",
    "                      random_state = 45,\n",
    "                      start_p=0, start_q=0, max_p=5, max_q=5, \n",
    "                      start_P=0, start_Q=0, max_P=5, max_Q=5,\n",
    "                      D=None, # want algorithm to determin optimal value for D\n",
    "                      d=None, # want algorithm to determin optimal value for d\n",
    "                      seasonal_test='ocsb',  # Use 'ocsb' for seasonal order selection\n",
    "                      suppress_state_transition_warnings=True)"
   ]
  },
  {
   "cell_type": "code",
   "execution_count": null,
   "id": "2a5bff0b",
   "metadata": {},
   "outputs": [],
   "source": [
    "# larger range for p, q, P and Q values -> returned same result"
   ]
  },
  {
   "cell_type": "code",
   "execution_count": 25,
   "id": "f9bc347c",
   "metadata": {},
   "outputs": [
    {
     "name": "stdout",
     "output_type": "stream",
     "text": [
      "Performing stepwise search to minimize aic\n",
      " ARIMA(0,2,0)(0,0,0)[12]             : AIC=-422.034, Time=0.04 sec\n",
      " ARIMA(1,2,0)(1,0,0)[12]             : AIC=-424.844, Time=0.10 sec\n",
      " ARIMA(0,2,1)(0,0,1)[12]             : AIC=-424.468, Time=0.13 sec\n",
      " ARIMA(1,2,0)(0,0,0)[12]             : AIC=-423.808, Time=0.04 sec\n",
      " ARIMA(1,2,0)(2,0,0)[12]             : AIC=-422.859, Time=0.44 sec\n",
      " ARIMA(1,2,0)(1,0,1)[12]             : AIC=-422.812, Time=0.15 sec\n",
      " ARIMA(1,2,0)(0,0,1)[12]             : AIC=-424.527, Time=0.13 sec\n",
      " ARIMA(1,2,0)(2,0,1)[12]             : AIC=-420.904, Time=0.38 sec\n",
      " ARIMA(0,2,0)(1,0,0)[12]             : AIC=-423.070, Time=0.08 sec\n",
      " ARIMA(2,2,0)(1,0,0)[12]             : AIC=-422.906, Time=0.17 sec\n",
      " ARIMA(1,2,1)(1,0,0)[12]             : AIC=-422.056, Time=0.06 sec\n",
      " ARIMA(0,2,1)(1,0,0)[12]             : AIC=-424.006, Time=0.07 sec\n",
      " ARIMA(2,2,1)(1,0,0)[12]             : AIC=-420.921, Time=0.18 sec\n",
      " ARIMA(1,2,0)(1,0,0)[12] intercept   : AIC=-425.204, Time=0.14 sec\n",
      " ARIMA(1,2,0)(0,0,0)[12] intercept   : AIC=-424.874, Time=0.02 sec\n",
      " ARIMA(1,2,0)(2,0,0)[12] intercept   : AIC=-423.186, Time=0.90 sec\n",
      " ARIMA(1,2,0)(1,0,1)[12] intercept   : AIC=-423.193, Time=0.17 sec\n",
      " ARIMA(1,2,0)(0,0,1)[12] intercept   : AIC=-425.027, Time=0.12 sec\n",
      " ARIMA(1,2,0)(2,0,1)[12] intercept   : AIC=-421.212, Time=0.71 sec\n",
      " ARIMA(0,2,0)(1,0,0)[12] intercept   : AIC=-422.432, Time=0.09 sec\n",
      " ARIMA(2,2,0)(1,0,0)[12] intercept   : AIC=-422.956, Time=0.07 sec\n",
      " ARIMA(1,2,1)(1,0,0)[12] intercept   : AIC=-423.050, Time=0.07 sec\n",
      " ARIMA(0,2,1)(1,0,0)[12] intercept   : AIC=-425.500, Time=0.16 sec\n",
      " ARIMA(0,2,1)(0,0,0)[12] intercept   : AIC=-425.399, Time=0.05 sec\n",
      " ARIMA(0,2,1)(2,0,0)[12] intercept   : AIC=-423.531, Time=0.49 sec\n",
      " ARIMA(0,2,1)(1,0,1)[12] intercept   : AIC=-423.519, Time=0.13 sec\n",
      " ARIMA(0,2,1)(0,0,1)[12] intercept   : AIC=-425.317, Time=0.12 sec\n",
      " ARIMA(0,2,1)(2,0,1)[12] intercept   : AIC=-421.523, Time=0.58 sec\n",
      " ARIMA(0,2,2)(1,0,0)[12] intercept   : AIC=-423.461, Time=0.20 sec\n",
      " ARIMA(1,2,2)(1,0,0)[12] intercept   : AIC=-413.138, Time=0.16 sec\n",
      "\n",
      "Best model:  ARIMA(0,2,1)(1,0,0)[12] intercept\n",
      "Total fit time: 6.186 seconds\n"
     ]
    }
   ],
   "source": [
    "# a little larger\n",
    "model = auto_arima(train, seasonal=True, m=12,  \n",
    "                      suppress_warnings=True, stepwise=True,\n",
    "                      error_action='warn', trace=True,\n",
    "                      random_state = 45,\n",
    "                      start_p=0, start_q=0, max_p=10, max_q=10, \n",
    "                      start_P=0, start_Q=0, max_P=10, max_Q=10,\n",
    "                      D=None, # want algorithm to determin optimal value for D\n",
    "                      d=None, # want algorithm to determin optimal value for d\n",
    "                      seasonal_test='ocsb',  # Use 'ocsb' for seasonal order selection\n",
    "                      suppress_state_transition_warnings=True)"
   ]
  },
  {
   "cell_type": "code",
   "execution_count": 29,
   "id": "09721d0e",
   "metadata": {},
   "outputs": [],
   "source": [
    "# seems that our data is setting d=2 and D=0"
   ]
  },
  {
   "cell_type": "markdown",
   "id": "8ab7595e",
   "metadata": {},
   "source": [
    "## Changing m"
   ]
  },
  {
   "cell_type": "code",
   "execution_count": 30,
   "id": "9aeddac5",
   "metadata": {},
   "outputs": [
    {
     "name": "stdout",
     "output_type": "stream",
     "text": [
      "Performing stepwise search to minimize aic\n",
      " ARIMA(0,2,0)(0,0,0)[0]             : AIC=-422.034, Time=0.04 sec\n",
      " ARIMA(1,2,0)(0,0,0)[0]             : AIC=-423.808, Time=0.04 sec\n",
      " ARIMA(0,2,1)(0,0,0)[0]             : AIC=-423.754, Time=0.02 sec\n",
      " ARIMA(2,2,0)(0,0,0)[0]             : AIC=-421.822, Time=0.04 sec\n",
      " ARIMA(1,2,1)(0,0,0)[0]             : AIC=-421.799, Time=0.02 sec\n",
      " ARIMA(2,2,1)(0,0,0)[0]             : AIC=-419.835, Time=0.08 sec\n",
      " ARIMA(1,2,0)(0,0,0)[0] intercept   : AIC=-424.874, Time=0.02 sec\n",
      " ARIMA(0,2,0)(0,0,0)[0] intercept   : AIC=-421.845, Time=0.03 sec\n",
      " ARIMA(2,2,0)(0,0,0)[0] intercept   : AIC=-423.152, Time=0.03 sec\n",
      " ARIMA(1,2,1)(0,0,0)[0] intercept   : AIC=-423.335, Time=0.04 sec\n",
      " ARIMA(0,2,1)(0,0,0)[0] intercept   : AIC=-425.399, Time=0.04 sec\n",
      " ARIMA(0,2,2)(0,0,0)[0] intercept   : AIC=-423.399, Time=0.07 sec\n",
      " ARIMA(1,2,2)(0,0,0)[0] intercept   : AIC=-413.370, Time=0.05 sec\n",
      "\n",
      "Best model:  ARIMA(0,2,1)(0,0,0)[0] intercept\n",
      "Total fit time: 0.550 seconds\n",
      "Performing stepwise search to minimize aic\n",
      " ARIMA(0,2,0)(0,0,0)[4]             : AIC=-422.034, Time=0.03 sec\n",
      " ARIMA(1,2,0)(1,0,0)[4]             : AIC=-425.525, Time=0.06 sec\n",
      " ARIMA(0,2,1)(0,0,1)[4]             : AIC=-425.642, Time=0.11 sec\n",
      " ARIMA(0,2,1)(0,0,0)[4]             : AIC=-423.754, Time=0.02 sec\n",
      " ARIMA(0,2,1)(1,0,1)[4]             : AIC=-423.956, Time=0.10 sec\n",
      " ARIMA(0,2,1)(0,0,2)[4]             : AIC=-423.733, Time=0.16 sec\n",
      " ARIMA(0,2,1)(1,0,0)[4]             : AIC=-424.775, Time=0.02 sec\n",
      " ARIMA(0,2,1)(1,0,2)[4]             : AIC=-421.527, Time=0.11 sec\n",
      " ARIMA(0,2,0)(0,0,1)[4]             : AIC=-420.344, Time=0.02 sec\n",
      " ARIMA(1,2,1)(0,0,1)[4]             : AIC=-423.583, Time=0.08 sec\n",
      " ARIMA(0,2,2)(0,0,1)[4]             : AIC=-423.649, Time=0.10 sec\n",
      " ARIMA(1,2,0)(0,0,1)[4]             : AIC=-425.243, Time=0.07 sec\n",
      " ARIMA(1,2,2)(0,0,1)[4]             : AIC=inf, Time=0.19 sec\n",
      " ARIMA(0,2,1)(0,0,1)[4] intercept   : AIC=-426.114, Time=0.07 sec\n",
      " ARIMA(0,2,1)(0,0,0)[4] intercept   : AIC=-425.399, Time=0.05 sec\n",
      " ARIMA(0,2,1)(1,0,1)[4] intercept   : AIC=-424.036, Time=0.09 sec\n",
      " ARIMA(0,2,1)(0,0,2)[4] intercept   : AIC=-423.873, Time=0.10 sec\n",
      " ARIMA(0,2,1)(1,0,0)[4] intercept   : AIC=-426.207, Time=0.10 sec\n",
      " ARIMA(0,2,1)(2,0,0)[4] intercept   : AIC=-424.268, Time=0.24 sec\n",
      " ARIMA(0,2,1)(2,0,1)[4] intercept   : AIC=-421.903, Time=0.14 sec\n",
      " ARIMA(0,2,0)(1,0,0)[4] intercept   : AIC=-421.271, Time=0.02 sec\n",
      " ARIMA(1,2,1)(1,0,0)[4] intercept   : AIC=-424.163, Time=0.09 sec\n",
      " ARIMA(0,2,2)(1,0,0)[4] intercept   : AIC=-424.180, Time=0.18 sec\n",
      " ARIMA(1,2,0)(1,0,0)[4] intercept   : AIC=-424.998, Time=0.05 sec\n",
      " ARIMA(1,2,2)(1,0,0)[4] intercept   : AIC=-414.908, Time=0.07 sec\n",
      "\n",
      "Best model:  ARIMA(0,2,1)(1,0,0)[4] intercept\n",
      "Total fit time: 2.270 seconds\n",
      "Performing stepwise search to minimize aic\n",
      " ARIMA(0,2,0)(0,0,0)[7]             : AIC=-422.034, Time=0.03 sec\n",
      " ARIMA(1,2,0)(1,0,0)[7]             : AIC=-421.987, Time=0.04 sec\n",
      " ARIMA(0,2,1)(0,0,1)[7]             : AIC=-421.843, Time=0.09 sec\n",
      " ARIMA(0,2,0)(1,0,0)[7]             : AIC=-420.594, Time=0.03 sec\n",
      " ARIMA(0,2,0)(0,0,1)[7]             : AIC=-420.131, Time=0.04 sec\n",
      " ARIMA(0,2,0)(1,0,1)[7]             : AIC=-418.130, Time=0.05 sec\n",
      " ARIMA(1,2,0)(0,0,0)[7]             : AIC=-423.808, Time=0.04 sec\n",
      " ARIMA(1,2,0)(0,0,1)[7]             : AIC=-421.858, Time=0.05 sec\n",
      " ARIMA(1,2,0)(1,0,1)[7]             : AIC=-419.858, Time=0.05 sec\n",
      " ARIMA(2,2,0)(0,0,0)[7]             : AIC=-421.822, Time=0.04 sec\n",
      " ARIMA(1,2,1)(0,0,0)[7]             : AIC=-421.799, Time=0.02 sec\n",
      " ARIMA(0,2,1)(0,0,0)[7]             : AIC=-423.754, Time=0.02 sec\n",
      " ARIMA(2,2,1)(0,0,0)[7]             : AIC=-419.835, Time=0.08 sec\n",
      " ARIMA(1,2,0)(0,0,0)[7] intercept   : AIC=-424.874, Time=0.02 sec\n",
      " ARIMA(1,2,0)(1,0,0)[7] intercept   : AIC=-423.439, Time=0.04 sec\n",
      " ARIMA(1,2,0)(0,0,1)[7] intercept   : AIC=-423.570, Time=0.08 sec\n",
      " ARIMA(1,2,0)(1,0,1)[7] intercept   : AIC=-421.529, Time=0.16 sec\n",
      " ARIMA(0,2,0)(0,0,0)[7] intercept   : AIC=-421.845, Time=0.03 sec\n",
      " ARIMA(2,2,0)(0,0,0)[7] intercept   : AIC=-423.152, Time=0.03 sec\n",
      " ARIMA(1,2,1)(0,0,0)[7] intercept   : AIC=-423.335, Time=0.05 sec\n",
      " ARIMA(0,2,1)(0,0,0)[7] intercept   : AIC=-425.399, Time=0.05 sec\n",
      " ARIMA(0,2,1)(1,0,0)[7] intercept   : AIC=-423.789, Time=0.07 sec\n",
      " ARIMA(0,2,1)(0,0,1)[7] intercept   : AIC=-423.769, Time=0.09 sec\n",
      " ARIMA(0,2,1)(1,0,1)[7] intercept   : AIC=-421.773, Time=0.09 sec\n",
      " ARIMA(0,2,2)(0,0,0)[7] intercept   : AIC=-423.399, Time=0.08 sec\n",
      " ARIMA(1,2,2)(0,0,0)[7] intercept   : AIC=-413.370, Time=0.05 sec\n",
      "\n",
      "Best model:  ARIMA(0,2,1)(0,0,0)[7] intercept\n",
      "Total fit time: 1.434 seconds\n",
      "Performing stepwise search to minimize aic\n",
      " ARIMA(0,2,0)(0,0,0)[12]             : AIC=-422.034, Time=0.03 sec\n",
      " ARIMA(1,2,0)(1,0,0)[12]             : AIC=-424.844, Time=0.10 sec\n",
      " ARIMA(0,2,1)(0,0,1)[12]             : AIC=-424.468, Time=0.13 sec\n",
      " ARIMA(1,2,0)(0,0,0)[12]             : AIC=-423.808, Time=0.04 sec\n",
      " ARIMA(1,2,0)(2,0,0)[12]             : AIC=-422.859, Time=0.40 sec\n",
      " ARIMA(1,2,0)(1,0,1)[12]             : AIC=-422.812, Time=0.13 sec\n",
      " ARIMA(1,2,0)(0,0,1)[12]             : AIC=-424.527, Time=0.12 sec\n",
      " ARIMA(1,2,0)(2,0,1)[12]             : AIC=-420.904, Time=0.52 sec\n",
      " ARIMA(0,2,0)(1,0,0)[12]             : AIC=-423.070, Time=0.08 sec\n",
      " ARIMA(2,2,0)(1,0,0)[12]             : AIC=-422.906, Time=0.17 sec\n",
      " ARIMA(1,2,1)(1,0,0)[12]             : AIC=-422.056, Time=0.06 sec\n",
      " ARIMA(0,2,1)(1,0,0)[12]             : AIC=-424.006, Time=0.07 sec\n",
      " ARIMA(2,2,1)(1,0,0)[12]             : AIC=-420.921, Time=0.19 sec\n",
      " ARIMA(1,2,0)(1,0,0)[12] intercept   : AIC=-425.204, Time=0.14 sec\n",
      " ARIMA(1,2,0)(0,0,0)[12] intercept   : AIC=-424.874, Time=0.02 sec\n",
      " ARIMA(1,2,0)(2,0,0)[12] intercept   : AIC=-423.186, Time=0.98 sec\n",
      " ARIMA(1,2,0)(1,0,1)[12] intercept   : AIC=-423.193, Time=0.17 sec\n",
      " ARIMA(1,2,0)(0,0,1)[12] intercept   : AIC=-425.027, Time=0.12 sec\n",
      " ARIMA(1,2,0)(2,0,1)[12] intercept   : AIC=-421.212, Time=0.80 sec\n",
      " ARIMA(0,2,0)(1,0,0)[12] intercept   : AIC=-422.432, Time=0.09 sec\n",
      " ARIMA(2,2,0)(1,0,0)[12] intercept   : AIC=-422.956, Time=0.07 sec\n",
      " ARIMA(1,2,1)(1,0,0)[12] intercept   : AIC=-423.050, Time=0.07 sec\n",
      " ARIMA(0,2,1)(1,0,0)[12] intercept   : AIC=-425.500, Time=0.16 sec\n",
      " ARIMA(0,2,1)(0,0,0)[12] intercept   : AIC=-425.399, Time=0.05 sec\n",
      " ARIMA(0,2,1)(2,0,0)[12] intercept   : AIC=-423.531, Time=0.48 sec\n",
      " ARIMA(0,2,1)(1,0,1)[12] intercept   : AIC=-423.519, Time=0.13 sec\n",
      " ARIMA(0,2,1)(0,0,1)[12] intercept   : AIC=-425.317, Time=0.12 sec\n",
      " ARIMA(0,2,1)(2,0,1)[12] intercept   : AIC=-421.523, Time=0.67 sec\n",
      " ARIMA(0,2,2)(1,0,0)[12] intercept   : AIC=-423.461, Time=0.20 sec\n",
      " ARIMA(1,2,2)(1,0,0)[12] intercept   : AIC=-413.138, Time=0.16 sec\n",
      "\n",
      "Best model:  ARIMA(0,2,1)(1,0,0)[12] intercept\n",
      "Total fit time: 6.504 seconds\n",
      "Performing stepwise search to minimize aic\n",
      " ARIMA(0,2,0)(0,0,0)[24]             : AIC=-422.034, Time=0.03 sec\n",
      " ARIMA(1,2,0)(1,0,0)[24]             : AIC=-421.893, Time=0.19 sec\n",
      " ARIMA(0,2,1)(0,0,1)[24]             : AIC=-421.846, Time=0.33 sec\n",
      " ARIMA(0,2,0)(1,0,0)[24]             : AIC=-420.081, Time=0.17 sec\n",
      " ARIMA(0,2,0)(0,0,1)[24]             : AIC=-420.034, Time=0.18 sec\n",
      " ARIMA(0,2,0)(1,0,1)[24]             : AIC=-418.034, Time=0.42 sec\n",
      " ARIMA(1,2,0)(0,0,0)[24]             : AIC=-423.808, Time=0.04 sec\n",
      " ARIMA(1,2,0)(0,0,1)[24]             : AIC=-421.808, Time=0.26 sec\n",
      " ARIMA(1,2,0)(1,0,1)[24]             : AIC=-419.808, Time=0.28 sec\n",
      " ARIMA(2,2,0)(0,0,0)[24]             : AIC=-421.822, Time=0.04 sec\n",
      " ARIMA(1,2,1)(0,0,0)[24]             : AIC=-421.799, Time=0.03 sec\n",
      " ARIMA(0,2,1)(0,0,0)[24]             : AIC=-423.754, Time=0.02 sec\n",
      " ARIMA(2,2,1)(0,0,0)[24]             : AIC=-419.835, Time=0.08 sec\n",
      " ARIMA(1,2,0)(0,0,0)[24] intercept   : AIC=-424.874, Time=0.02 sec\n",
      " ARIMA(1,2,0)(1,0,0)[24] intercept   : AIC=-422.898, Time=0.37 sec\n",
      " ARIMA(1,2,0)(0,0,1)[24] intercept   : AIC=-422.874, Time=0.56 sec\n",
      " ARIMA(1,2,0)(1,0,1)[24] intercept   : AIC=-420.874, Time=0.37 sec\n",
      " ARIMA(0,2,0)(0,0,0)[24] intercept   : AIC=-421.845, Time=0.03 sec\n",
      " ARIMA(2,2,0)(0,0,0)[24] intercept   : AIC=-423.152, Time=0.03 sec\n",
      " ARIMA(1,2,1)(0,0,0)[24] intercept   : AIC=-423.335, Time=0.05 sec\n",
      " ARIMA(0,2,1)(0,0,0)[24] intercept   : AIC=-425.399, Time=0.05 sec\n",
      " ARIMA(0,2,1)(1,0,0)[24] intercept   : AIC=-423.400, Time=0.59 sec\n"
     ]
    },
    {
     "name": "stdout",
     "output_type": "stream",
     "text": [
      " ARIMA(0,2,1)(0,0,1)[24] intercept   : AIC=-423.399, Time=0.42 sec\n",
      " ARIMA(0,2,1)(1,0,1)[24] intercept   : AIC=-421.397, Time=0.63 sec\n",
      " ARIMA(0,2,2)(0,0,0)[24] intercept   : AIC=-423.399, Time=0.08 sec\n",
      " ARIMA(1,2,2)(0,0,0)[24] intercept   : AIC=-413.370, Time=0.05 sec\n",
      "\n",
      "Best model:  ARIMA(0,2,1)(0,0,0)[24] intercept\n",
      "Total fit time: 5.331 seconds\n",
      "Best Model Test RMSE: 0.0845601255764781\n",
      "Best Model m: 12\n"
     ]
    }
   ],
   "source": [
    "# Define a range of m values to iterate over\n",
    "m_values = [1, 4, 7, 12, 24]  # Adjust this list based on your considerations\n",
    "\n",
    "best_rmse = float('inf')\n",
    "best_m = None\n",
    "\n",
    "for m in m_values:\n",
    "    model = auto_arima(train, seasonal=True, m=m,  \n",
    "                      suppress_warnings=True, stepwise=True,\n",
    "                      error_action='warn', trace=True,\n",
    "                      random_state = 45,\n",
    "                      start_p=0, start_q=0, max_p=3, max_q=3, \n",
    "                      start_P=0, start_Q=0, max_P=3, max_Q=3,\n",
    "                      D=None, # want algorithm to determin optimal value for D\n",
    "                      d=None, # want algorithm to determin optimal value for d\n",
    "                      seasonal_test='ocsb',  # Use 'ocsb' for seasonal order selection\n",
    "                      suppress_state_transition_warnings=True)\n",
    "    \n",
    "    # Make predictions on the test set\n",
    "    test_predictions = model.predict(len(test))\n",
    "    \n",
    "    # Calculate RMSE for the current m value\n",
    "    rmse = sqrt(mean_squared_error(test, test_predictions))\n",
    "    \n",
    "    # Update the best m if the current m performs better\n",
    "    if rmse < best_rmse:\n",
    "        best_rmse = rmse\n",
    "        best_m = m\n",
    "\n",
    "print('Best Model Test RMSE:', best_rmse)\n",
    "print('Best Model m:', best_m)"
   ]
  },
  {
   "cell_type": "code",
   "execution_count": 31,
   "id": "630768a6",
   "metadata": {},
   "outputs": [],
   "source": [
    "# best model still returned m=12\n",
    "#  ARIMA(0,2,1)(1,0,0)[12]\n",
    "# same best ARIMA model as above!"
   ]
  },
  {
   "cell_type": "markdown",
   "id": "fab152d5",
   "metadata": {},
   "source": [
    "### TimeSeriesSplit"
   ]
  },
  {
   "cell_type": "code",
   "execution_count": 12,
   "id": "efeb1172",
   "metadata": {},
   "outputs": [
    {
     "name": "stdout",
     "output_type": "stream",
     "text": [
      " ARIMA(0,2,0)(0,0,0)[12]             : AIC=-62.951, Time=0.02 sec\n",
      " ARIMA(0,2,0)(0,0,1)[12]             : AIC=-60.951, Time=0.04 sec\n",
      " ARIMA(0,2,0)(0,0,2)[12]             : AIC=-58.951, Time=0.31 sec\n",
      " ARIMA(0,2,0)(0,0,3)[12]             : AIC=-56.951, Time=1.75 sec\n",
      " ARIMA(0,2,0)(0,0,4)[12]             : AIC=-54.951, Time=4.99 sec\n",
      " ARIMA(0,2,0)(0,0,5)[12]             : AIC=-52.951, Time=1.42 sec\n",
      " ARIMA(0,2,0)(1,0,0)[12]             : AIC=-60.951, Time=0.06 sec\n",
      " ARIMA(0,2,0)(1,0,1)[12]             : AIC=-58.951, Time=0.08 sec\n",
      " ARIMA(0,2,0)(1,0,2)[12]             : AIC=-56.951, Time=0.38 sec\n",
      " ARIMA(0,2,0)(1,0,3)[12]             : AIC=-54.951, Time=2.15 sec\n",
      " ARIMA(0,2,0)(1,0,4)[12]             : AIC=-52.951, Time=2.66 sec\n",
      " ARIMA(0,2,0)(2,0,0)[12]             : AIC=-58.951, Time=0.39 sec\n",
      " ARIMA(0,2,0)(2,0,1)[12]             : AIC=-56.951, Time=0.58 sec\n",
      " ARIMA(0,2,0)(2,0,2)[12]             : AIC=-54.951, Time=0.50 sec\n",
      " ARIMA(0,2,0)(2,0,3)[12]             : AIC=-52.951, Time=2.34 sec\n",
      " ARIMA(0,2,0)(3,0,0)[12]             : AIC=-56.951, Time=1.82 sec\n",
      " ARIMA(0,2,0)(3,0,1)[12]             : AIC=-54.951, Time=1.84 sec\n",
      " ARIMA(0,2,0)(3,0,2)[12]             : AIC=-52.951, Time=2.56 sec\n",
      " ARIMA(0,2,0)(4,0,0)[12]             : AIC=-54.951, Time=2.44 sec\n",
      " ARIMA(0,2,0)(4,0,1)[12]             : AIC=-52.951, Time=2.79 sec\n",
      " ARIMA(0,2,0)(5,0,0)[12]             : AIC=-52.951, Time=3.41 sec\n",
      " ARIMA(0,2,1)(0,0,0)[12]             : AIC=-62.169, Time=0.02 sec\n",
      " ARIMA(0,2,1)(0,0,1)[12]             : AIC=-60.169, Time=0.05 sec\n",
      " ARIMA(0,2,1)(0,0,2)[12]             : AIC=-58.169, Time=0.55 sec\n",
      " ARIMA(0,2,1)(0,0,3)[12]             : AIC=-56.169, Time=1.93 sec\n",
      " ARIMA(0,2,1)(0,0,4)[12]             : AIC=-54.169, Time=2.60 sec\n",
      " ARIMA(0,2,1)(1,0,0)[12]             : AIC=-60.169, Time=0.05 sec\n",
      " ARIMA(0,2,1)(1,0,1)[12]             : AIC=-58.169, Time=0.08 sec\n",
      " ARIMA(0,2,1)(1,0,2)[12]             : AIC=-56.169, Time=0.54 sec\n",
      " ARIMA(0,2,1)(1,0,3)[12]             : AIC=-54.169, Time=2.17 sec\n",
      " ARIMA(0,2,1)(2,0,0)[12]             : AIC=-58.169, Time=0.45 sec\n",
      " ARIMA(0,2,1)(2,0,1)[12]             : AIC=-56.169, Time=0.52 sec\n",
      " ARIMA(0,2,1)(2,0,2)[12]             : AIC=-54.169, Time=0.50 sec\n",
      " ARIMA(0,2,1)(3,0,0)[12]             : AIC=-56.169, Time=2.71 sec\n",
      " ARIMA(0,2,1)(3,0,1)[12]             : AIC=-54.169, Time=2.12 sec\n",
      " ARIMA(0,2,1)(4,0,0)[12]             : AIC=-54.169, Time=3.16 sec\n",
      " ARIMA(0,2,2)(0,0,0)[12]             : AIC=-60.177, Time=0.07 sec\n",
      " ARIMA(0,2,2)(0,0,1)[12]             : AIC=-58.179, Time=0.12 sec\n",
      " ARIMA(0,2,2)(0,0,2)[12]             : AIC=-56.179, Time=1.09 sec\n",
      " ARIMA(0,2,2)(0,0,3)[12]             : AIC=-54.179, Time=6.29 sec\n",
      " ARIMA(0,2,2)(1,0,0)[12]             : AIC=-58.179, Time=0.14 sec\n",
      " ARIMA(0,2,2)(1,0,1)[12]             : AIC=-56.179, Time=0.17 sec\n",
      " ARIMA(0,2,2)(1,0,2)[12]             : AIC=-54.179, Time=1.48 sec\n",
      " ARIMA(0,2,2)(2,0,0)[12]             : AIC=-56.178, Time=1.44 sec\n",
      " ARIMA(0,2,2)(2,0,1)[12]             : AIC=-54.179, Time=1.60 sec\n",
      " ARIMA(0,2,2)(3,0,0)[12]             : AIC=-54.179, Time=6.82 sec\n",
      " ARIMA(0,2,3)(0,0,0)[12]             : AIC=nan, Time=0.02 sec\n",
      " ARIMA(0,2,3)(0,0,1)[12]             : AIC=nan, Time=0.09 sec\n",
      " ARIMA(0,2,3)(0,0,2)[12]             : AIC=nan, Time=0.47 sec\n",
      " ARIMA(0,2,3)(1,0,0)[12]             : AIC=inf, Time=nan sec\n",
      " ARIMA(0,2,3)(1,0,1)[12]             : AIC=inf, Time=nan sec\n",
      " ARIMA(0,2,3)(2,0,0)[12]             : AIC=inf, Time=nan sec\n",
      " ARIMA(0,2,4)(0,0,0)[12]             : AIC=-57.040, Time=0.06 sec\n",
      " ARIMA(0,2,4)(0,0,1)[12]             : AIC=-55.333, Time=1.02 sec\n",
      " ARIMA(0,2,4)(1,0,0)[12]             : AIC=-55.628, Time=0.25 sec\n",
      " ARIMA(1,2,0)(0,0,0)[12]             : AIC=-61.886, Time=0.03 sec\n",
      " ARIMA(1,2,0)(0,0,1)[12]             : AIC=-59.886, Time=0.05 sec\n",
      " ARIMA(1,2,0)(0,0,2)[12]             : AIC=-57.886, Time=0.42 sec\n",
      " ARIMA(1,2,0)(0,0,3)[12]             : AIC=-55.886, Time=2.32 sec\n",
      " ARIMA(1,2,0)(0,0,4)[12]             : AIC=-53.899, Time=6.88 sec\n",
      " ARIMA(1,2,0)(1,0,0)[12]             : AIC=-59.886, Time=0.05 sec\n",
      " ARIMA(1,2,0)(1,0,1)[12]             : AIC=-57.897, Time=0.20 sec\n",
      " ARIMA(1,2,0)(1,0,2)[12]             : AIC=-55.896, Time=1.13 sec\n",
      " ARIMA(1,2,0)(1,0,3)[12]             : AIC=-53.886, Time=2.17 sec\n",
      " ARIMA(1,2,0)(2,0,0)[12]             : AIC=-57.886, Time=0.16 sec\n",
      " ARIMA(1,2,0)(2,0,1)[12]             : AIC=-55.886, Time=0.53 sec\n",
      " ARIMA(1,2,0)(2,0,2)[12]             : AIC=-53.886, Time=0.60 sec\n",
      " ARIMA(1,2,0)(3,0,0)[12]             : AIC=-55.886, Time=0.48 sec\n",
      " ARIMA(1,2,0)(3,0,1)[12]             : AIC=-53.897, Time=2.85 sec\n",
      " ARIMA(1,2,0)(4,0,0)[12]             : AIC=-53.886, Time=1.46 sec\n",
      " ARIMA(1,2,1)(0,0,0)[12]             : AIC=-60.161, Time=0.08 sec\n",
      " ARIMA(1,2,1)(0,0,1)[12]             : AIC=-57.717, Time=0.12 sec\n",
      " ARIMA(1,2,1)(0,0,2)[12]             : AIC=-56.186, Time=0.94 sec\n",
      " ARIMA(1,2,1)(0,0,3)[12]             : AIC=-54.194, Time=7.41 sec\n",
      " ARIMA(1,2,1)(1,0,0)[12]             : AIC=-57.766, Time=0.16 sec\n",
      " ARIMA(1,2,1)(1,0,1)[12]             : AIC=-56.194, Time=0.17 sec\n",
      " ARIMA(1,2,1)(1,0,2)[12]             : AIC=-53.721, Time=0.39 sec\n",
      " ARIMA(1,2,1)(2,0,0)[12]             : AIC=-56.177, Time=1.38 sec\n",
      " ARIMA(1,2,1)(2,0,1)[12]             : AIC=-54.203, Time=1.18 sec\n",
      " ARIMA(1,2,1)(3,0,0)[12]             : AIC=-54.084, Time=4.29 sec\n",
      " ARIMA(1,2,2)(0,0,0)[12]             : AIC=-58.473, Time=0.07 sec\n",
      " ARIMA(1,2,2)(0,0,1)[12]             : AIC=-56.465, Time=0.17 sec\n",
      " ARIMA(1,2,2)(0,0,2)[12]             : AIC=-54.463, Time=1.07 sec\n",
      " ARIMA(1,2,2)(1,0,0)[12]             : AIC=-56.402, Time=0.14 sec\n",
      " ARIMA(1,2,2)(1,0,1)[12]             : AIC=-54.427, Time=0.25 sec\n",
      " ARIMA(1,2,2)(2,0,0)[12]             : AIC=-53.617, Time=1.45 sec\n",
      " ARIMA(1,2,3)(0,0,0)[12]             : AIC=inf, Time=nan sec\n",
      " ARIMA(1,2,3)(0,0,1)[12]             : AIC=inf, Time=nan sec\n",
      " ARIMA(1,2,3)(1,0,0)[12]             : AIC=inf, Time=nan sec\n",
      " ARIMA(1,2,4)(0,0,0)[12]             : AIC=-54.945, Time=0.09 sec\n",
      " ARIMA(2,2,0)(0,0,0)[12]             : AIC=-60.031, Time=0.02 sec\n",
      " ARIMA(2,2,0)(0,0,1)[12]             : AIC=-58.031, Time=0.04 sec\n",
      " ARIMA(2,2,0)(0,0,2)[12]             : AIC=-56.031, Time=0.50 sec\n",
      " ARIMA(2,2,0)(0,0,3)[12]             : AIC=-54.031, Time=0.96 sec\n",
      " ARIMA(2,2,0)(1,0,0)[12]             : AIC=-58.031, Time=0.05 sec\n",
      " ARIMA(2,2,0)(1,0,1)[12]             : AIC=-56.031, Time=0.07 sec\n",
      " ARIMA(2,2,0)(1,0,2)[12]             : AIC=-54.031, Time=0.41 sec\n",
      " ARIMA(2,2,0)(2,0,0)[12]             : AIC=-56.031, Time=0.54 sec\n",
      " ARIMA(2,2,0)(2,0,1)[12]             : AIC=-54.031, Time=0.41 sec\n",
      " ARIMA(2,2,0)(3,0,0)[12]             : AIC=-54.031, Time=1.45 sec\n",
      " ARIMA(2,2,1)(0,0,0)[12]             : AIC=-58.147, Time=0.05 sec\n",
      " ARIMA(2,2,1)(0,0,1)[12]             : AIC=-56.150, Time=0.14 sec\n",
      " ARIMA(2,2,1)(0,0,2)[12]             : AIC=-54.169, Time=1.08 sec\n",
      " ARIMA(2,2,1)(1,0,0)[12]             : AIC=-56.149, Time=0.14 sec\n",
      " ARIMA(2,2,1)(1,0,1)[12]             : AIC=-54.159, Time=0.23 sec\n",
      " ARIMA(2,2,1)(2,0,0)[12]             : AIC=-54.148, Time=0.69 sec\n",
      " ARIMA(2,2,2)(0,0,0)[12]             : AIC=-56.168, Time=0.06 sec\n",
      " ARIMA(2,2,2)(0,0,1)[12]             : AIC=-54.169, Time=0.16 sec\n",
      " ARIMA(2,2,2)(1,0,0)[12]             : AIC=-54.171, Time=0.23 sec\n",
      " ARIMA(2,2,3)(0,0,0)[12]             : AIC=inf, Time=nan sec\n",
      " ARIMA(3,2,0)(0,0,0)[12]             : AIC=-58.635, Time=0.06 sec\n",
      " ARIMA(3,2,0)(0,0,1)[12]             : AIC=-56.650, Time=0.18 sec\n",
      " ARIMA(3,2,0)(0,0,2)[12]             : AIC=-54.638, Time=0.65 sec\n",
      " ARIMA(3,2,0)(1,0,0)[12]             : AIC=-56.641, Time=0.10 sec\n",
      " ARIMA(3,2,0)(1,0,1)[12]             : AIC=-54.844, Time=0.26 sec\n",
      " ARIMA(3,2,0)(2,0,0)[12]             : AIC=-54.644, Time=0.86 sec\n",
      " ARIMA(3,2,1)(0,0,0)[12]             : AIC=-56.504, Time=0.08 sec\n",
      " ARIMA(3,2,1)(0,0,1)[12]             : AIC=-54.546, Time=0.33 sec\n",
      " ARIMA(3,2,1)(1,0,0)[12]             : AIC=-54.544, Time=0.25 sec\n",
      " ARIMA(3,2,2)(0,0,0)[12]             : AIC=-52.935, Time=0.02 sec\n",
      " ARIMA(4,2,0)(0,0,0)[12]             : AIC=-56.828, Time=0.09 sec\n",
      " ARIMA(4,2,0)(0,0,1)[12]             : AIC=-54.825, Time=0.18 sec\n",
      " ARIMA(4,2,0)(1,0,0)[12]             : AIC=-54.899, Time=0.21 sec\n",
      " ARIMA(4,2,1)(0,0,0)[12]             : AIC=-55.112, Time=0.09 sec\n",
      "\n",
      "Best model:  ARIMA(0,2,0)(0,0,0)[12]          \n",
      "Total fit time: 121.268 seconds\n",
      " ARIMA(0,2,0)(0,0,0)[12]             : AIC=-155.721, Time=0.02 sec\n"
     ]
    },
    {
     "name": "stdout",
     "output_type": "stream",
     "text": [
      " ARIMA(0,2,0)(0,0,1)[12]             : AIC=-154.970, Time=0.09 sec\n",
      " ARIMA(0,2,0)(0,0,2)[12]             : AIC=-152.970, Time=0.63 sec\n",
      " ARIMA(0,2,0)(0,0,3)[12]             : AIC=-150.970, Time=5.34 sec\n",
      " ARIMA(0,2,0)(0,0,4)[12]             : AIC=-148.970, Time=6.15 sec\n",
      " ARIMA(0,2,0)(0,0,5)[12]             : AIC=-146.969, Time=12.51 sec\n",
      " ARIMA(0,2,0)(1,0,0)[12]             : AIC=-154.970, Time=0.08 sec\n",
      " ARIMA(0,2,0)(1,0,1)[12]             : AIC=-152.970, Time=0.12 sec\n",
      " ARIMA(0,2,0)(1,0,2)[12]             : AIC=-150.970, Time=0.46 sec\n",
      " ARIMA(0,2,0)(1,0,3)[12]             : AIC=-148.970, Time=6.82 sec\n",
      " ARIMA(0,2,0)(1,0,4)[12]             : AIC=-146.969, Time=4.87 sec\n",
      " ARIMA(0,2,0)(2,0,0)[12]             : AIC=-152.966, Time=0.59 sec\n",
      " ARIMA(0,2,0)(2,0,1)[12]             : AIC=-150.970, Time=0.47 sec\n",
      " ARIMA(0,2,0)(2,0,2)[12]             : AIC=-148.970, Time=0.54 sec\n",
      " ARIMA(0,2,0)(2,0,3)[12]             : AIC=-146.970, Time=8.06 sec\n",
      " ARIMA(0,2,0)(3,0,0)[12]             : AIC=-150.970, Time=3.78 sec\n",
      " ARIMA(0,2,0)(3,0,1)[12]             : AIC=-148.970, Time=1.98 sec\n",
      " ARIMA(0,2,0)(3,0,2)[12]             : AIC=-146.970, Time=2.25 sec\n",
      " ARIMA(0,2,0)(4,0,0)[12]             : AIC=-148.963, Time=2.15 sec\n",
      " ARIMA(0,2,0)(4,0,1)[12]             : AIC=-146.970, Time=3.72 sec\n",
      " ARIMA(0,2,0)(5,0,0)[12]             : AIC=-146.970, Time=9.19 sec\n",
      " ARIMA(0,2,1)(0,0,0)[12]             : AIC=-154.263, Time=0.03 sec\n",
      " ARIMA(0,2,1)(0,0,1)[12]             : AIC=-153.507, Time=0.14 sec\n",
      " ARIMA(0,2,1)(0,0,2)[12]             : AIC=-151.503, Time=0.91 sec\n",
      " ARIMA(0,2,1)(0,0,3)[12]             : AIC=-149.504, Time=8.15 sec\n",
      " ARIMA(0,2,1)(0,0,4)[12]             : AIC=-147.504, Time=7.62 sec\n",
      " ARIMA(0,2,1)(1,0,0)[12]             : AIC=-153.510, Time=0.14 sec\n",
      " ARIMA(0,2,1)(1,0,1)[12]             : AIC=-151.506, Time=0.16 sec\n",
      " ARIMA(0,2,1)(1,0,2)[12]             : AIC=-149.509, Time=0.87 sec\n",
      " ARIMA(0,2,1)(1,0,3)[12]             : AIC=-147.509, Time=7.94 sec\n",
      " ARIMA(0,2,1)(2,0,0)[12]             : AIC=-151.483, Time=0.63 sec\n",
      " ARIMA(0,2,1)(2,0,1)[12]             : AIC=-149.506, Time=0.77 sec\n",
      " ARIMA(0,2,1)(2,0,2)[12]             : AIC=-147.508, Time=1.19 sec\n",
      " ARIMA(0,2,1)(3,0,0)[12]             : AIC=-149.483, Time=6.63 sec\n",
      " ARIMA(0,2,1)(3,0,1)[12]             : AIC=-147.506, Time=4.34 sec\n",
      " ARIMA(0,2,1)(4,0,0)[12]             : AIC=-147.483, Time=4.53 sec\n",
      " ARIMA(0,2,2)(0,0,0)[12]             : AIC=-152.277, Time=0.07 sec\n",
      " ARIMA(0,2,2)(0,0,1)[12]             : AIC=-151.486, Time=0.17 sec\n",
      " ARIMA(0,2,2)(0,0,2)[12]             : AIC=-149.506, Time=0.87 sec\n",
      " ARIMA(0,2,2)(0,0,3)[12]             : AIC=-147.512, Time=9.98 sec\n",
      " ARIMA(0,2,2)(1,0,0)[12]             : AIC=-151.508, Time=0.17 sec\n",
      " ARIMA(0,2,2)(1,0,1)[12]             : AIC=-149.513, Time=0.24 sec\n",
      " ARIMA(0,2,2)(1,0,2)[12]             : AIC=-147.473, Time=1.28 sec\n",
      " ARIMA(0,2,2)(2,0,0)[12]             : AIC=-149.508, Time=0.94 sec\n",
      " ARIMA(0,2,2)(2,0,1)[12]             : AIC=-147.511, Time=1.43 sec\n",
      " ARIMA(0,2,2)(3,0,0)[12]             : AIC=-147.512, Time=8.78 sec\n",
      " ARIMA(0,2,3)(0,0,0)[12]             : AIC=-150.412, Time=0.09 sec\n",
      " ARIMA(0,2,3)(0,0,1)[12]             : AIC=-149.432, Time=0.26 sec\n",
      " ARIMA(0,2,3)(0,0,2)[12]             : AIC=-147.431, Time=1.14 sec\n",
      " ARIMA(0,2,3)(1,0,0)[12]             : AIC=-149.540, Time=0.21 sec\n",
      " ARIMA(0,2,3)(1,0,1)[12]             : AIC=-147.542, Time=0.33 sec\n",
      " ARIMA(0,2,3)(2,0,0)[12]             : AIC=-147.434, Time=1.06 sec\n",
      " ARIMA(0,2,4)(0,0,0)[12]             : AIC=-152.790, Time=0.09 sec\n",
      " ARIMA(0,2,4)(0,0,1)[12]             : AIC=-150.938, Time=1.02 sec\n",
      " ARIMA(0,2,4)(1,0,0)[12]             : AIC=-150.397, Time=0.25 sec\n",
      " ARIMA(0,2,5)(0,0,0)[12]             : AIC=-136.778, Time=0.20 sec\n",
      " ARIMA(1,2,0)(0,0,0)[12]             : AIC=-154.290, Time=0.02 sec\n",
      " ARIMA(1,2,0)(0,0,1)[12]             : AIC=-153.515, Time=0.10 sec\n",
      " ARIMA(1,2,0)(0,0,2)[12]             : AIC=-151.487, Time=0.79 sec\n",
      " ARIMA(1,2,0)(0,0,3)[12]             : AIC=-149.513, Time=5.62 sec\n",
      " ARIMA(1,2,0)(0,0,4)[12]             : AIC=-147.514, Time=10.15 sec\n",
      " ARIMA(1,2,0)(1,0,0)[12]             : AIC=-153.517, Time=0.12 sec\n",
      " ARIMA(1,2,0)(1,0,1)[12]             : AIC=-151.518, Time=0.14 sec\n",
      " ARIMA(1,2,0)(1,0,2)[12]             : AIC=-149.518, Time=0.59 sec\n",
      " ARIMA(1,2,0)(1,0,3)[12]             : AIC=-147.517, Time=5.74 sec\n",
      " ARIMA(1,2,0)(2,0,0)[12]             : AIC=-151.519, Time=1.00 sec\n",
      " ARIMA(1,2,0)(2,0,1)[12]             : AIC=-149.516, Time=1.12 sec\n",
      " ARIMA(1,2,0)(2,0,2)[12]             : AIC=-147.518, Time=1.24 sec\n",
      " ARIMA(1,2,0)(3,0,0)[12]             : AIC=-149.519, Time=5.37 sec\n",
      " ARIMA(1,2,0)(3,0,1)[12]             : AIC=-147.516, Time=3.86 sec\n",
      " ARIMA(1,2,0)(4,0,0)[12]             : AIC=-147.519, Time=5.06 sec\n",
      " ARIMA(1,2,1)(0,0,0)[12]             : AIC=-152.284, Time=0.10 sec\n",
      " ARIMA(1,2,1)(0,0,1)[12]             : AIC=-151.493, Time=0.23 sec\n",
      " ARIMA(1,2,1)(0,0,2)[12]             : AIC=-149.336, Time=0.52 sec\n",
      " ARIMA(1,2,1)(0,0,3)[12]             : AIC=-147.336, Time=2.29 sec\n",
      " ARIMA(1,2,1)(1,0,0)[12]             : AIC=-151.473, Time=0.13 sec\n",
      " ARIMA(1,2,1)(1,0,1)[12]             : AIC=-149.522, Time=0.21 sec\n",
      " ARIMA(1,2,1)(1,0,2)[12]             : AIC=-147.497, Time=1.67 sec\n",
      " ARIMA(1,2,1)(2,0,0)[12]             : AIC=-149.523, Time=1.00 sec\n",
      " ARIMA(1,2,1)(2,0,1)[12]             : AIC=-147.522, Time=1.24 sec\n",
      " ARIMA(1,2,1)(3,0,0)[12]             : AIC=-147.522, Time=5.74 sec\n",
      " ARIMA(1,2,2)(0,0,0)[12]             : AIC=-151.567, Time=0.10 sec\n",
      " ARIMA(1,2,2)(0,0,1)[12]             : AIC=-149.612, Time=0.24 sec\n",
      " ARIMA(1,2,2)(0,0,2)[12]             : AIC=-146.637, Time=0.97 sec\n",
      " ARIMA(1,2,2)(1,0,0)[12]             : AIC=-148.736, Time=0.19 sec\n",
      " ARIMA(1,2,2)(1,0,1)[12]             : AIC=-146.751, Time=0.39 sec\n",
      " ARIMA(1,2,2)(2,0,0)[12]             : AIC=-147.184, Time=2.12 sec\n",
      " ARIMA(1,2,3)(0,0,0)[12]             : AIC=-148.270, Time=0.07 sec\n",
      " ARIMA(1,2,3)(0,0,1)[12]             : AIC=-147.379, Time=0.31 sec\n",
      " ARIMA(1,2,3)(1,0,0)[12]             : AIC=-147.491, Time=0.30 sec\n",
      " ARIMA(1,2,4)(0,0,0)[12]             : AIC=-150.402, Time=0.11 sec\n",
      " ARIMA(2,2,0)(0,0,0)[12]             : AIC=-152.307, Time=0.02 sec\n",
      " ARIMA(2,2,0)(0,0,1)[12]             : AIC=-151.505, Time=0.14 sec\n",
      " ARIMA(2,2,0)(0,0,2)[12]             : AIC=-149.489, Time=0.67 sec\n",
      " ARIMA(2,2,0)(0,0,3)[12]             : AIC=-147.518, Time=8.26 sec\n",
      " ARIMA(2,2,0)(1,0,0)[12]             : AIC=-151.510, Time=0.14 sec\n",
      " ARIMA(2,2,0)(1,0,1)[12]             : AIC=-149.519, Time=0.22 sec\n",
      " ARIMA(2,2,0)(1,0,2)[12]             : AIC=-147.514, Time=1.07 sec\n",
      " ARIMA(2,2,0)(2,0,0)[12]             : AIC=-149.517, Time=1.00 sec\n",
      " ARIMA(2,2,0)(2,0,1)[12]             : AIC=-147.507, Time=1.42 sec\n",
      " ARIMA(2,2,0)(3,0,0)[12]             : AIC=-147.520, Time=7.43 sec\n",
      " ARIMA(2,2,1)(0,0,0)[12]             : AIC=-150.298, Time=0.06 sec\n",
      " ARIMA(2,2,1)(0,0,1)[12]             : AIC=-149.510, Time=0.28 sec\n",
      " ARIMA(2,2,1)(0,0,2)[12]             : AIC=-147.518, Time=1.40 sec\n",
      " ARIMA(2,2,1)(1,0,0)[12]             : AIC=-149.362, Time=0.12 sec\n",
      " ARIMA(2,2,1)(1,0,1)[12]             : AIC=-147.518, Time=0.25 sec\n",
      " ARIMA(2,2,1)(2,0,0)[12]             : AIC=-147.499, Time=1.10 sec\n",
      " ARIMA(2,2,2)(0,0,0)[12]             : AIC=-148.856, Time=0.07 sec\n",
      " ARIMA(2,2,2)(0,0,1)[12]             : AIC=-147.990, Time=0.22 sec\n",
      " ARIMA(2,2,2)(1,0,0)[12]             : AIC=-148.428, Time=0.25 sec\n",
      " ARIMA(2,2,3)(0,0,0)[12]             : AIC=-146.404, Time=0.11 sec\n",
      " ARIMA(3,2,0)(0,0,0)[12]             : AIC=-150.593, Time=0.01 sec\n",
      " ARIMA(3,2,0)(0,0,1)[12]             : AIC=-149.709, Time=0.21 sec\n",
      " ARIMA(3,2,0)(0,0,2)[12]             : AIC=-147.668, Time=1.16 sec\n",
      " ARIMA(3,2,0)(1,0,0)[12]             : AIC=-149.461, Time=0.09 sec\n",
      " ARIMA(3,2,0)(1,0,1)[12]             : AIC=-147.701, Time=0.27 sec\n",
      " ARIMA(3,2,0)(2,0,0)[12]             : AIC=-147.606, Time=1.02 sec\n",
      " ARIMA(3,2,1)(0,0,0)[12]             : AIC=-148.520, Time=0.06 sec\n",
      " ARIMA(3,2,1)(0,0,1)[12]             : AIC=-147.596, Time=0.27 sec\n",
      " ARIMA(3,2,1)(1,0,0)[12]             : AIC=-147.685, Time=0.26 sec\n",
      " ARIMA(3,2,2)(0,0,0)[12]             : AIC=-147.837, Time=0.11 sec\n",
      " ARIMA(4,2,0)(0,0,0)[12]             : AIC=-150.161, Time=0.11 sec\n",
      " ARIMA(4,2,0)(0,0,1)[12]             : AIC=-148.746, Time=0.32 sec\n",
      " ARIMA(4,2,0)(1,0,0)[12]             : AIC=-148.785, Time=0.31 sec\n",
      " ARIMA(4,2,1)(0,0,0)[12]             : AIC=-148.241, Time=0.05 sec\n",
      " ARIMA(5,2,0)(0,0,0)[12]             : AIC=-150.172, Time=0.09 sec\n",
      "\n",
      "Best model:  ARIMA(0,2,0)(0,0,0)[12]          \n",
      "Total fit time: 230.089 seconds\n",
      " ARIMA(0,2,0)(0,0,0)[12]             : AIC=-246.913, Time=0.02 sec\n"
     ]
    },
    {
     "name": "stdout",
     "output_type": "stream",
     "text": [
      " ARIMA(0,2,0)(0,0,1)[12]             : AIC=-247.275, Time=0.15 sec\n",
      " ARIMA(0,2,0)(0,0,2)[12]             : AIC=-245.483, Time=0.88 sec\n",
      " ARIMA(0,2,0)(0,0,3)[12]             : AIC=-243.486, Time=8.38 sec\n",
      " ARIMA(0,2,0)(0,0,4)[12]             : AIC=-241.485, Time=14.70 sec\n",
      " ARIMA(0,2,0)(0,0,5)[12]             : AIC=-239.485, Time=18.30 sec\n",
      " ARIMA(0,2,0)(1,0,0)[12]             : AIC=-246.773, Time=0.08 sec\n",
      " ARIMA(0,2,0)(1,0,1)[12]             : AIC=-245.029, Time=0.15 sec\n",
      " ARIMA(0,2,0)(1,0,2)[12]             : AIC=-243.487, Time=1.14 sec\n",
      " ARIMA(0,2,0)(1,0,3)[12]             : AIC=-241.487, Time=5.78 sec\n",
      " ARIMA(0,2,0)(1,0,4)[12]             : AIC=-239.487, Time=9.90 sec\n",
      " ARIMA(0,2,0)(2,0,0)[12]             : AIC=-245.449, Time=0.54 sec\n",
      " ARIMA(0,2,0)(2,0,1)[12]             : AIC=-243.486, Time=0.62 sec\n",
      " ARIMA(0,2,0)(2,0,2)[12]             : AIC=-241.476, Time=0.99 sec\n",
      " ARIMA(0,2,0)(2,0,3)[12]             : AIC=-239.485, Time=9.56 sec\n",
      " ARIMA(0,2,0)(3,0,0)[12]             : AIC=-243.485, Time=9.04 sec\n",
      " ARIMA(0,2,0)(3,0,1)[12]             : AIC=-241.485, Time=11.60 sec\n",
      " ARIMA(0,2,0)(3,0,2)[12]             : AIC=-239.477, Time=10.18 sec\n"
     ]
    },
    {
     "ename": "KeyboardInterrupt",
     "evalue": "",
     "output_type": "error",
     "traceback": [
      "\u001b[0;31m---------------------------------------------------------------------------\u001b[0m",
      "\u001b[0;31mKeyboardInterrupt\u001b[0m                         Traceback (most recent call last)",
      "Input \u001b[0;32mIn [12]\u001b[0m, in \u001b[0;36m<cell line: 22>\u001b[0;34m()\u001b[0m\n\u001b[1;32m     19\u001b[0m     \u001b[38;5;28;01mreturn\u001b[39;00m np\u001b[38;5;241m.\u001b[39mmean(tscv_results)\n\u001b[1;32m     21\u001b[0m \u001b[38;5;66;03m# Run Time Series Cross-Validation\u001b[39;00m\n\u001b[0;32m---> 22\u001b[0m cv_rmse \u001b[38;5;241m=\u001b[39m \u001b[43mtime_series_cv\u001b[49m\u001b[43m(\u001b[49m\u001b[43mdf_scaled\u001b[49m\u001b[43m,\u001b[49m\u001b[43m \u001b[49m\u001b[43mn_splits\u001b[49m\u001b[38;5;241;43m=\u001b[39;49m\u001b[38;5;241;43m5\u001b[39;49m\u001b[43m,\u001b[49m\u001b[43m \u001b[49m\u001b[43mhorizon\u001b[49m\u001b[38;5;241;43m=\u001b[39;49m\u001b[38;5;241;43m3\u001b[39;49m\u001b[43m)\u001b[49m\n\u001b[1;32m     23\u001b[0m \u001b[38;5;28mprint\u001b[39m(\u001b[38;5;124mf\u001b[39m\u001b[38;5;124m\"\u001b[39m\u001b[38;5;124mAverage RMSE from Time Series Cross-Validation: \u001b[39m\u001b[38;5;132;01m{\u001b[39;00mcv_rmse\u001b[38;5;132;01m}\u001b[39;00m\u001b[38;5;124m\"\u001b[39m)\n",
      "Input \u001b[0;32mIn [12]\u001b[0m, in \u001b[0;36mtime_series_cv\u001b[0;34m(data, n_splits, horizon)\u001b[0m\n\u001b[1;32m      7\u001b[0m train \u001b[38;5;241m=\u001b[39m data[:split_length\u001b[38;5;241m*\u001b[39m(i\u001b[38;5;241m+\u001b[39m\u001b[38;5;241m1\u001b[39m)]\n\u001b[1;32m      8\u001b[0m test \u001b[38;5;241m=\u001b[39m data[split_length\u001b[38;5;241m*\u001b[39m(i\u001b[38;5;241m+\u001b[39m\u001b[38;5;241m1\u001b[39m):split_length\u001b[38;5;241m*\u001b[39m(i\u001b[38;5;241m+\u001b[39m\u001b[38;5;241m1\u001b[39m) \u001b[38;5;241m+\u001b[39m horizon]\n\u001b[0;32m---> 10\u001b[0m model \u001b[38;5;241m=\u001b[39m \u001b[43mauto_arima\u001b[49m\u001b[43m(\u001b[49m\u001b[43mtrain\u001b[49m\u001b[43m,\u001b[49m\u001b[43m \u001b[49m\u001b[43mstart_p\u001b[49m\u001b[38;5;241;43m=\u001b[39;49m\u001b[38;5;241;43m0\u001b[39;49m\u001b[43m,\u001b[49m\u001b[43m \u001b[49m\u001b[43mstart_q\u001b[49m\u001b[38;5;241;43m=\u001b[39;49m\u001b[38;5;241;43m0\u001b[39;49m\u001b[43m,\u001b[49m\u001b[43m \u001b[49m\u001b[43mmax_p\u001b[49m\u001b[38;5;241;43m=\u001b[39;49m\u001b[38;5;241;43m5\u001b[39;49m\u001b[43m,\u001b[49m\u001b[43m \u001b[49m\u001b[43mmax_q\u001b[49m\u001b[38;5;241;43m=\u001b[39;49m\u001b[38;5;241;43m5\u001b[39;49m\u001b[43m,\u001b[49m\u001b[43m \u001b[49m\u001b[43mm\u001b[49m\u001b[38;5;241;43m=\u001b[39;49m\u001b[38;5;241;43m12\u001b[39;49m\u001b[43m,\u001b[49m\n\u001b[1;32m     11\u001b[0m \u001b[43m                   \u001b[49m\u001b[43mstart_P\u001b[49m\u001b[38;5;241;43m=\u001b[39;49m\u001b[38;5;241;43m0\u001b[39;49m\u001b[43m,\u001b[49m\u001b[43m \u001b[49m\u001b[43mstart_Q\u001b[49m\u001b[38;5;241;43m=\u001b[39;49m\u001b[38;5;241;43m0\u001b[39;49m\u001b[43m,\u001b[49m\u001b[43m \u001b[49m\u001b[43mmax_P\u001b[49m\u001b[38;5;241;43m=\u001b[39;49m\u001b[38;5;241;43m5\u001b[39;49m\u001b[43m,\u001b[49m\u001b[43m \u001b[49m\u001b[43mmax_Q\u001b[49m\u001b[38;5;241;43m=\u001b[39;49m\u001b[38;5;241;43m5\u001b[39;49m\u001b[43m,\u001b[49m\u001b[43m \u001b[49m\u001b[43mseasonal\u001b[49m\u001b[38;5;241;43m=\u001b[39;49m\u001b[38;5;28;43;01mTrue\u001b[39;49;00m\u001b[43m,\u001b[49m\u001b[43m \u001b[49m\n\u001b[1;32m     12\u001b[0m \u001b[43m                   \u001b[49m\u001b[43md\u001b[49m\u001b[38;5;241;43m=\u001b[39;49m\u001b[38;5;241;43m2\u001b[39;49m\u001b[43m,\u001b[49m\u001b[43m \u001b[49m\u001b[43mD\u001b[49m\u001b[43m \u001b[49m\u001b[38;5;241;43m=\u001b[39;49m\u001b[38;5;241;43m0\u001b[39;49m\u001b[43m,\u001b[49m\u001b[43m \u001b[49m\u001b[43mtrace\u001b[49m\u001b[38;5;241;43m=\u001b[39;49m\u001b[38;5;28;43;01mTrue\u001b[39;49;00m\u001b[43m,\u001b[49m\n\u001b[1;32m     13\u001b[0m \u001b[43m                \u001b[49m\u001b[43merror_action\u001b[49m\u001b[38;5;241;43m=\u001b[39;49m\u001b[38;5;124;43m'\u001b[39;49m\u001b[38;5;124;43mignore\u001b[39;49m\u001b[38;5;124;43m'\u001b[39;49m\u001b[43m,\u001b[49m\u001b[43m \u001b[49m\u001b[43msuppress_warnings\u001b[49m\u001b[38;5;241;43m=\u001b[39;49m\u001b[38;5;28;43;01mTrue\u001b[39;49;00m\u001b[43m,\u001b[49m\u001b[43m \u001b[49m\u001b[43mstepwise\u001b[49m\u001b[38;5;241;43m=\u001b[39;49m\u001b[38;5;28;43;01mFalse\u001b[39;49;00m\u001b[43m)\u001b[49m\n\u001b[1;32m     15\u001b[0m test_pred \u001b[38;5;241m=\u001b[39m model\u001b[38;5;241m.\u001b[39mpredict(\u001b[38;5;28mlen\u001b[39m(test))\n\u001b[1;32m     16\u001b[0m rmse \u001b[38;5;241m=\u001b[39m np\u001b[38;5;241m.\u001b[39msqrt(mean_squared_error(test, test_pred))\n",
      "File \u001b[0;32m/opt/anaconda3/lib/python3.9/site-packages/pmdarima/arima/auto.py:701\u001b[0m, in \u001b[0;36mauto_arima\u001b[0;34m(y, X, start_p, d, start_q, max_p, max_d, max_q, start_P, D, start_Q, max_P, max_D, max_Q, max_order, m, seasonal, stationary, information_criterion, alpha, test, seasonal_test, stepwise, n_jobs, start_params, trend, method, maxiter, offset_test_args, seasonal_test_args, suppress_warnings, error_action, trace, random, random_state, n_fits, return_valid_fits, out_of_sample_size, scoring, scoring_args, with_intercept, sarimax_kwargs, **fit_args)\u001b[0m\n\u001b[1;32m    669\u001b[0m     \u001b[38;5;66;03m# init the stepwise model wrapper\u001b[39;00m\n\u001b[1;32m    670\u001b[0m     search \u001b[38;5;241m=\u001b[39m solvers\u001b[38;5;241m.\u001b[39m_StepwiseFitWrapper(\n\u001b[1;32m    671\u001b[0m         y,\n\u001b[1;32m    672\u001b[0m         X\u001b[38;5;241m=\u001b[39mX,\n\u001b[0;32m   (...)\u001b[0m\n\u001b[1;32m    698\u001b[0m         \u001b[38;5;241m*\u001b[39m\u001b[38;5;241m*\u001b[39msarimax_kwargs,\n\u001b[1;32m    699\u001b[0m     )\n\u001b[0;32m--> 701\u001b[0m sorted_res \u001b[38;5;241m=\u001b[39m \u001b[43msearch\u001b[49m\u001b[38;5;241;43m.\u001b[39;49m\u001b[43msolve\u001b[49m\u001b[43m(\u001b[49m\u001b[43m)\u001b[49m\n\u001b[1;32m    702\u001b[0m \u001b[38;5;28;01mreturn\u001b[39;00m _return_wrapper(sorted_res, return_valid_fits, start, trace)\n",
      "File \u001b[0;32m/opt/anaconda3/lib/python3.9/site-packages/pmdarima/arima/_auto_solvers.py:127\u001b[0m, in \u001b[0;36m_RandomFitWrapper.solve\u001b[0;34m(self)\u001b[0m\n\u001b[1;32m    124\u001b[0m gen \u001b[38;5;241m=\u001b[39m \u001b[38;5;28mself\u001b[39m\u001b[38;5;241m.\u001b[39mgen\n\u001b[1;32m    126\u001b[0m \u001b[38;5;66;03m# get results in parallel\u001b[39;00m\n\u001b[0;32m--> 127\u001b[0m all_res \u001b[38;5;241m=\u001b[39m \u001b[43mParallel\u001b[49m\u001b[43m(\u001b[49m\u001b[43mn_jobs\u001b[49m\u001b[38;5;241;43m=\u001b[39;49m\u001b[43mn_jobs\u001b[49m\u001b[43m)\u001b[49m\u001b[43m(\u001b[49m\n\u001b[1;32m    128\u001b[0m \u001b[43m    \u001b[49m\u001b[43mdelayed\u001b[49m\u001b[43m(\u001b[49m\u001b[43mfit_partial\u001b[49m\u001b[43m)\u001b[49m\u001b[43m(\u001b[49m\n\u001b[1;32m    129\u001b[0m \u001b[43m        \u001b[49m\u001b[43morder\u001b[49m\u001b[38;5;241;43m=\u001b[39;49m\u001b[43morder\u001b[49m\u001b[43m,\u001b[49m\n\u001b[1;32m    130\u001b[0m \u001b[43m        \u001b[49m\u001b[43mseasonal_order\u001b[49m\u001b[38;5;241;43m=\u001b[39;49m\u001b[43mseasonal_order\u001b[49m\u001b[43m,\u001b[49m\n\u001b[1;32m    131\u001b[0m \u001b[43m    \u001b[49m\u001b[43m)\u001b[49m\n\u001b[1;32m    132\u001b[0m \u001b[43m    \u001b[49m\u001b[38;5;28;43;01mfor\u001b[39;49;00m\u001b[43m \u001b[49m\u001b[43morder\u001b[49m\u001b[43m,\u001b[49m\u001b[43m \u001b[49m\u001b[43mseasonal_order\u001b[49m\u001b[43m \u001b[49m\u001b[38;5;129;43;01min\u001b[39;49;00m\u001b[43m \u001b[49m\u001b[43mgen\u001b[49m\n\u001b[1;32m    133\u001b[0m \u001b[43m\u001b[49m\u001b[43m)\u001b[49m\n\u001b[1;32m    135\u001b[0m sorted_fits \u001b[38;5;241m=\u001b[39m _sort_and_filter_fits(all_res)\n\u001b[1;32m    136\u001b[0m \u001b[38;5;28;01mif\u001b[39;00m \u001b[38;5;28mself\u001b[39m\u001b[38;5;241m.\u001b[39mtrace \u001b[38;5;129;01mand\u001b[39;00m sorted_fits:\n",
      "File \u001b[0;32m/opt/anaconda3/lib/python3.9/site-packages/joblib/parallel.py:1046\u001b[0m, in \u001b[0;36mParallel.__call__\u001b[0;34m(self, iterable)\u001b[0m\n\u001b[1;32m   1043\u001b[0m \u001b[38;5;28;01mif\u001b[39;00m \u001b[38;5;28mself\u001b[39m\u001b[38;5;241m.\u001b[39mdispatch_one_batch(iterator):\n\u001b[1;32m   1044\u001b[0m     \u001b[38;5;28mself\u001b[39m\u001b[38;5;241m.\u001b[39m_iterating \u001b[38;5;241m=\u001b[39m \u001b[38;5;28mself\u001b[39m\u001b[38;5;241m.\u001b[39m_original_iterator \u001b[38;5;129;01mis\u001b[39;00m \u001b[38;5;129;01mnot\u001b[39;00m \u001b[38;5;28;01mNone\u001b[39;00m\n\u001b[0;32m-> 1046\u001b[0m \u001b[38;5;28;01mwhile\u001b[39;00m \u001b[38;5;28;43mself\u001b[39;49m\u001b[38;5;241;43m.\u001b[39;49m\u001b[43mdispatch_one_batch\u001b[49m\u001b[43m(\u001b[49m\u001b[43miterator\u001b[49m\u001b[43m)\u001b[49m:\n\u001b[1;32m   1047\u001b[0m     \u001b[38;5;28;01mpass\u001b[39;00m\n\u001b[1;32m   1049\u001b[0m \u001b[38;5;28;01mif\u001b[39;00m pre_dispatch \u001b[38;5;241m==\u001b[39m \u001b[38;5;124m\"\u001b[39m\u001b[38;5;124mall\u001b[39m\u001b[38;5;124m\"\u001b[39m \u001b[38;5;129;01mor\u001b[39;00m n_jobs \u001b[38;5;241m==\u001b[39m \u001b[38;5;241m1\u001b[39m:\n\u001b[1;32m   1050\u001b[0m     \u001b[38;5;66;03m# The iterable was consumed all at once by the above for loop.\u001b[39;00m\n\u001b[1;32m   1051\u001b[0m     \u001b[38;5;66;03m# No need to wait for async callbacks to trigger to\u001b[39;00m\n\u001b[1;32m   1052\u001b[0m     \u001b[38;5;66;03m# consumption.\u001b[39;00m\n",
      "File \u001b[0;32m/opt/anaconda3/lib/python3.9/site-packages/joblib/parallel.py:861\u001b[0m, in \u001b[0;36mParallel.dispatch_one_batch\u001b[0;34m(self, iterator)\u001b[0m\n\u001b[1;32m    859\u001b[0m     \u001b[38;5;28;01mreturn\u001b[39;00m \u001b[38;5;28;01mFalse\u001b[39;00m\n\u001b[1;32m    860\u001b[0m \u001b[38;5;28;01melse\u001b[39;00m:\n\u001b[0;32m--> 861\u001b[0m     \u001b[38;5;28;43mself\u001b[39;49m\u001b[38;5;241;43m.\u001b[39;49m\u001b[43m_dispatch\u001b[49m\u001b[43m(\u001b[49m\u001b[43mtasks\u001b[49m\u001b[43m)\u001b[49m\n\u001b[1;32m    862\u001b[0m     \u001b[38;5;28;01mreturn\u001b[39;00m \u001b[38;5;28;01mTrue\u001b[39;00m\n",
      "File \u001b[0;32m/opt/anaconda3/lib/python3.9/site-packages/joblib/parallel.py:779\u001b[0m, in \u001b[0;36mParallel._dispatch\u001b[0;34m(self, batch)\u001b[0m\n\u001b[1;32m    777\u001b[0m \u001b[38;5;28;01mwith\u001b[39;00m \u001b[38;5;28mself\u001b[39m\u001b[38;5;241m.\u001b[39m_lock:\n\u001b[1;32m    778\u001b[0m     job_idx \u001b[38;5;241m=\u001b[39m \u001b[38;5;28mlen\u001b[39m(\u001b[38;5;28mself\u001b[39m\u001b[38;5;241m.\u001b[39m_jobs)\n\u001b[0;32m--> 779\u001b[0m     job \u001b[38;5;241m=\u001b[39m \u001b[38;5;28;43mself\u001b[39;49m\u001b[38;5;241;43m.\u001b[39;49m\u001b[43m_backend\u001b[49m\u001b[38;5;241;43m.\u001b[39;49m\u001b[43mapply_async\u001b[49m\u001b[43m(\u001b[49m\u001b[43mbatch\u001b[49m\u001b[43m,\u001b[49m\u001b[43m \u001b[49m\u001b[43mcallback\u001b[49m\u001b[38;5;241;43m=\u001b[39;49m\u001b[43mcb\u001b[49m\u001b[43m)\u001b[49m\n\u001b[1;32m    780\u001b[0m     \u001b[38;5;66;03m# A job can complete so quickly than its callback is\u001b[39;00m\n\u001b[1;32m    781\u001b[0m     \u001b[38;5;66;03m# called before we get here, causing self._jobs to\u001b[39;00m\n\u001b[1;32m    782\u001b[0m     \u001b[38;5;66;03m# grow. To ensure correct results ordering, .insert is\u001b[39;00m\n\u001b[1;32m    783\u001b[0m     \u001b[38;5;66;03m# used (rather than .append) in the following line\u001b[39;00m\n\u001b[1;32m    784\u001b[0m     \u001b[38;5;28mself\u001b[39m\u001b[38;5;241m.\u001b[39m_jobs\u001b[38;5;241m.\u001b[39minsert(job_idx, job)\n",
      "File \u001b[0;32m/opt/anaconda3/lib/python3.9/site-packages/joblib/_parallel_backends.py:208\u001b[0m, in \u001b[0;36mSequentialBackend.apply_async\u001b[0;34m(self, func, callback)\u001b[0m\n\u001b[1;32m    206\u001b[0m \u001b[38;5;28;01mdef\u001b[39;00m \u001b[38;5;21mapply_async\u001b[39m(\u001b[38;5;28mself\u001b[39m, func, callback\u001b[38;5;241m=\u001b[39m\u001b[38;5;28;01mNone\u001b[39;00m):\n\u001b[1;32m    207\u001b[0m     \u001b[38;5;124;03m\"\"\"Schedule a func to be run\"\"\"\u001b[39;00m\n\u001b[0;32m--> 208\u001b[0m     result \u001b[38;5;241m=\u001b[39m \u001b[43mImmediateResult\u001b[49m\u001b[43m(\u001b[49m\u001b[43mfunc\u001b[49m\u001b[43m)\u001b[49m\n\u001b[1;32m    209\u001b[0m     \u001b[38;5;28;01mif\u001b[39;00m callback:\n\u001b[1;32m    210\u001b[0m         callback(result)\n",
      "File \u001b[0;32m/opt/anaconda3/lib/python3.9/site-packages/joblib/_parallel_backends.py:572\u001b[0m, in \u001b[0;36mImmediateResult.__init__\u001b[0;34m(self, batch)\u001b[0m\n\u001b[1;32m    569\u001b[0m \u001b[38;5;28;01mdef\u001b[39;00m \u001b[38;5;21m__init__\u001b[39m(\u001b[38;5;28mself\u001b[39m, batch):\n\u001b[1;32m    570\u001b[0m     \u001b[38;5;66;03m# Don't delay the application, to avoid keeping the input\u001b[39;00m\n\u001b[1;32m    571\u001b[0m     \u001b[38;5;66;03m# arguments in memory\u001b[39;00m\n\u001b[0;32m--> 572\u001b[0m     \u001b[38;5;28mself\u001b[39m\u001b[38;5;241m.\u001b[39mresults \u001b[38;5;241m=\u001b[39m \u001b[43mbatch\u001b[49m\u001b[43m(\u001b[49m\u001b[43m)\u001b[49m\n",
      "File \u001b[0;32m/opt/anaconda3/lib/python3.9/site-packages/joblib/parallel.py:262\u001b[0m, in \u001b[0;36mBatchedCalls.__call__\u001b[0;34m(self)\u001b[0m\n\u001b[1;32m    258\u001b[0m \u001b[38;5;28;01mdef\u001b[39;00m \u001b[38;5;21m__call__\u001b[39m(\u001b[38;5;28mself\u001b[39m):\n\u001b[1;32m    259\u001b[0m     \u001b[38;5;66;03m# Set the default nested backend to self._backend but do not set the\u001b[39;00m\n\u001b[1;32m    260\u001b[0m     \u001b[38;5;66;03m# change the default number of processes to -1\u001b[39;00m\n\u001b[1;32m    261\u001b[0m     \u001b[38;5;28;01mwith\u001b[39;00m parallel_backend(\u001b[38;5;28mself\u001b[39m\u001b[38;5;241m.\u001b[39m_backend, n_jobs\u001b[38;5;241m=\u001b[39m\u001b[38;5;28mself\u001b[39m\u001b[38;5;241m.\u001b[39m_n_jobs):\n\u001b[0;32m--> 262\u001b[0m         \u001b[38;5;28;01mreturn\u001b[39;00m [func(\u001b[38;5;241m*\u001b[39margs, \u001b[38;5;241m*\u001b[39m\u001b[38;5;241m*\u001b[39mkwargs)\n\u001b[1;32m    263\u001b[0m                 \u001b[38;5;28;01mfor\u001b[39;00m func, args, kwargs \u001b[38;5;129;01min\u001b[39;00m \u001b[38;5;28mself\u001b[39m\u001b[38;5;241m.\u001b[39mitems]\n",
      "File \u001b[0;32m/opt/anaconda3/lib/python3.9/site-packages/joblib/parallel.py:262\u001b[0m, in \u001b[0;36m<listcomp>\u001b[0;34m(.0)\u001b[0m\n\u001b[1;32m    258\u001b[0m \u001b[38;5;28;01mdef\u001b[39;00m \u001b[38;5;21m__call__\u001b[39m(\u001b[38;5;28mself\u001b[39m):\n\u001b[1;32m    259\u001b[0m     \u001b[38;5;66;03m# Set the default nested backend to self._backend but do not set the\u001b[39;00m\n\u001b[1;32m    260\u001b[0m     \u001b[38;5;66;03m# change the default number of processes to -1\u001b[39;00m\n\u001b[1;32m    261\u001b[0m     \u001b[38;5;28;01mwith\u001b[39;00m parallel_backend(\u001b[38;5;28mself\u001b[39m\u001b[38;5;241m.\u001b[39m_backend, n_jobs\u001b[38;5;241m=\u001b[39m\u001b[38;5;28mself\u001b[39m\u001b[38;5;241m.\u001b[39m_n_jobs):\n\u001b[0;32m--> 262\u001b[0m         \u001b[38;5;28;01mreturn\u001b[39;00m [\u001b[43mfunc\u001b[49m\u001b[43m(\u001b[49m\u001b[38;5;241;43m*\u001b[39;49m\u001b[43margs\u001b[49m\u001b[43m,\u001b[49m\u001b[43m \u001b[49m\u001b[38;5;241;43m*\u001b[39;49m\u001b[38;5;241;43m*\u001b[39;49m\u001b[43mkwargs\u001b[49m\u001b[43m)\u001b[49m\n\u001b[1;32m    263\u001b[0m                 \u001b[38;5;28;01mfor\u001b[39;00m func, args, kwargs \u001b[38;5;129;01min\u001b[39;00m \u001b[38;5;28mself\u001b[39m\u001b[38;5;241m.\u001b[39mitems]\n",
      "File \u001b[0;32m/opt/anaconda3/lib/python3.9/site-packages/pmdarima/arima/_auto_solvers.py:508\u001b[0m, in \u001b[0;36m_fit_candidate_model\u001b[0;34m(y, X, order, seasonal_order, start_params, trend, method, maxiter, fit_params, suppress_warnings, trace, error_action, out_of_sample_size, scoring, scoring_args, with_intercept, information_criterion, **kwargs)\u001b[0m\n\u001b[1;32m    500\u001b[0m fit \u001b[38;5;241m=\u001b[39m ARIMA(order\u001b[38;5;241m=\u001b[39morder, seasonal_order\u001b[38;5;241m=\u001b[39mseasonal_order,\n\u001b[1;32m    501\u001b[0m             start_params\u001b[38;5;241m=\u001b[39mstart_params, trend\u001b[38;5;241m=\u001b[39mtrend, method\u001b[38;5;241m=\u001b[39mmethod,\n\u001b[1;32m    502\u001b[0m             maxiter\u001b[38;5;241m=\u001b[39mmaxiter, suppress_warnings\u001b[38;5;241m=\u001b[39msuppress_warnings,\n\u001b[1;32m    503\u001b[0m             out_of_sample_size\u001b[38;5;241m=\u001b[39mout_of_sample_size, scoring\u001b[38;5;241m=\u001b[39mscoring,\n\u001b[1;32m    504\u001b[0m             scoring_args\u001b[38;5;241m=\u001b[39mscoring_args,\n\u001b[1;32m    505\u001b[0m             with_intercept\u001b[38;5;241m=\u001b[39mwith_intercept, \u001b[38;5;241m*\u001b[39m\u001b[38;5;241m*\u001b[39mkwargs)\n\u001b[1;32m    507\u001b[0m \u001b[38;5;28;01mtry\u001b[39;00m:\n\u001b[0;32m--> 508\u001b[0m     \u001b[43mfit\u001b[49m\u001b[38;5;241;43m.\u001b[39;49m\u001b[43mfit\u001b[49m\u001b[43m(\u001b[49m\u001b[43my\u001b[49m\u001b[43m,\u001b[49m\u001b[43m \u001b[49m\u001b[43mX\u001b[49m\u001b[38;5;241;43m=\u001b[39;49m\u001b[43mX\u001b[49m\u001b[43m,\u001b[49m\u001b[43m \u001b[49m\u001b[38;5;241;43m*\u001b[39;49m\u001b[38;5;241;43m*\u001b[39;49m\u001b[43mfit_params\u001b[49m\u001b[43m)\u001b[49m\n\u001b[1;32m    510\u001b[0m \u001b[38;5;66;03m# for non-stationarity errors or singular matrices, return None\u001b[39;00m\n\u001b[1;32m    511\u001b[0m \u001b[38;5;28;01mexcept\u001b[39;00m (LinAlgError, \u001b[38;5;167;01mValueError\u001b[39;00m) \u001b[38;5;28;01mas\u001b[39;00m v:\n",
      "File \u001b[0;32m/opt/anaconda3/lib/python3.9/site-packages/pmdarima/arima/arima.py:603\u001b[0m, in \u001b[0;36mARIMA.fit\u001b[0;34m(self, y, X, **fit_args)\u001b[0m\n\u001b[1;32m    600\u001b[0m         X \u001b[38;5;241m=\u001b[39m safe_indexing(X, \u001b[38;5;28mslice\u001b[39m(\u001b[38;5;241m0\u001b[39m, n_exog \u001b[38;5;241m-\u001b[39m cv))\n\u001b[1;32m    602\u001b[0m \u001b[38;5;66;03m# Internal call\u001b[39;00m\n\u001b[0;32m--> 603\u001b[0m \u001b[38;5;28;43mself\u001b[39;49m\u001b[38;5;241;43m.\u001b[39;49m\u001b[43m_fit\u001b[49m\u001b[43m(\u001b[49m\u001b[43my\u001b[49m\u001b[43m,\u001b[49m\u001b[43m \u001b[49m\u001b[43mX\u001b[49m\u001b[43m,\u001b[49m\u001b[43m \u001b[49m\u001b[38;5;241;43m*\u001b[39;49m\u001b[38;5;241;43m*\u001b[39;49m\u001b[43mfit_args\u001b[49m\u001b[43m)\u001b[49m\n\u001b[1;32m    605\u001b[0m \u001b[38;5;66;03m# now make a forecast if we're validating to compute the\u001b[39;00m\n\u001b[1;32m    606\u001b[0m \u001b[38;5;66;03m# out-of-sample score\u001b[39;00m\n\u001b[1;32m    607\u001b[0m \u001b[38;5;28;01mif\u001b[39;00m cv_samples \u001b[38;5;129;01mis\u001b[39;00m \u001b[38;5;129;01mnot\u001b[39;00m \u001b[38;5;28;01mNone\u001b[39;00m:\n\u001b[1;32m    608\u001b[0m     \u001b[38;5;66;03m# get the predictions (use self.predict, which calls forecast\u001b[39;00m\n\u001b[1;32m    609\u001b[0m     \u001b[38;5;66;03m# from statsmodels internally)\u001b[39;00m\n",
      "File \u001b[0;32m/opt/anaconda3/lib/python3.9/site-packages/pmdarima/arima/arima.py:524\u001b[0m, in \u001b[0;36mARIMA._fit\u001b[0;34m(self, y, X, **fit_args)\u001b[0m\n\u001b[1;32m    522\u001b[0m     \u001b[38;5;28;01mwith\u001b[39;00m warnings\u001b[38;5;241m.\u001b[39mcatch_warnings(record\u001b[38;5;241m=\u001b[39m\u001b[38;5;28;01mFalse\u001b[39;00m):\n\u001b[1;32m    523\u001b[0m         warnings\u001b[38;5;241m.\u001b[39msimplefilter(\u001b[38;5;124m'\u001b[39m\u001b[38;5;124mignore\u001b[39m\u001b[38;5;124m'\u001b[39m)\n\u001b[0;32m--> 524\u001b[0m         fit, \u001b[38;5;28mself\u001b[39m\u001b[38;5;241m.\u001b[39marima_res_ \u001b[38;5;241m=\u001b[39m \u001b[43m_fit_wrapper\u001b[49m\u001b[43m(\u001b[49m\u001b[43m)\u001b[49m\n\u001b[1;32m    525\u001b[0m \u001b[38;5;28;01melse\u001b[39;00m:\n\u001b[1;32m    526\u001b[0m     fit, \u001b[38;5;28mself\u001b[39m\u001b[38;5;241m.\u001b[39marima_res_ \u001b[38;5;241m=\u001b[39m _fit_wrapper()\n",
      "File \u001b[0;32m/opt/anaconda3/lib/python3.9/site-packages/pmdarima/arima/arima.py:510\u001b[0m, in \u001b[0;36mARIMA._fit.<locals>._fit_wrapper\u001b[0;34m()\u001b[0m\n\u001b[1;32m    507\u001b[0m _maxiter \u001b[38;5;241m=\u001b[39m fit_args\u001b[38;5;241m.\u001b[39mpop(\u001b[38;5;124m\"\u001b[39m\u001b[38;5;124mmaxiter\u001b[39m\u001b[38;5;124m\"\u001b[39m, _maxiter)\n\u001b[1;32m    509\u001b[0m disp \u001b[38;5;241m=\u001b[39m fit_args\u001b[38;5;241m.\u001b[39mpop(\u001b[38;5;124m\"\u001b[39m\u001b[38;5;124mdisp\u001b[39m\u001b[38;5;124m\"\u001b[39m, \u001b[38;5;241m0\u001b[39m)\n\u001b[0;32m--> 510\u001b[0m fitted \u001b[38;5;241m=\u001b[39m \u001b[43marima\u001b[49m\u001b[38;5;241;43m.\u001b[39;49m\u001b[43mfit\u001b[49m\u001b[43m(\u001b[49m\n\u001b[1;32m    511\u001b[0m \u001b[43m    \u001b[49m\u001b[43mstart_params\u001b[49m\u001b[38;5;241;43m=\u001b[39;49m\u001b[43mstart_params\u001b[49m\u001b[43m,\u001b[49m\n\u001b[1;32m    512\u001b[0m \u001b[43m    \u001b[49m\u001b[43mmethod\u001b[49m\u001b[38;5;241;43m=\u001b[39;49m\u001b[43mmethod\u001b[49m\u001b[43m,\u001b[49m\n\u001b[1;32m    513\u001b[0m \u001b[43m    \u001b[49m\u001b[43mmaxiter\u001b[49m\u001b[38;5;241;43m=\u001b[39;49m\u001b[43m_maxiter\u001b[49m\u001b[43m,\u001b[49m\n\u001b[1;32m    514\u001b[0m \u001b[43m    \u001b[49m\u001b[43mdisp\u001b[49m\u001b[38;5;241;43m=\u001b[39;49m\u001b[43mdisp\u001b[49m\u001b[43m,\u001b[49m\n\u001b[1;32m    515\u001b[0m \u001b[43m    \u001b[49m\u001b[38;5;241;43m*\u001b[39;49m\u001b[38;5;241;43m*\u001b[39;49m\u001b[43mfit_args\u001b[49m\u001b[43m,\u001b[49m\n\u001b[1;32m    516\u001b[0m \u001b[43m\u001b[49m\u001b[43m)\u001b[49m\n\u001b[1;32m    518\u001b[0m \u001b[38;5;28;01mreturn\u001b[39;00m arima, fitted\n",
      "File \u001b[0;32m/opt/anaconda3/lib/python3.9/site-packages/statsmodels/tsa/statespace/mlemodel.py:728\u001b[0m, in \u001b[0;36mMLEModel.fit\u001b[0;34m(self, start_params, transformed, includes_fixed, cov_type, cov_kwds, method, maxiter, full_output, disp, callback, return_params, optim_score, optim_complex_step, optim_hessian, flags, low_memory, **kwargs)\u001b[0m\n\u001b[1;32m    726\u001b[0m \u001b[38;5;28;01melse\u001b[39;00m:\n\u001b[1;32m    727\u001b[0m     func \u001b[38;5;241m=\u001b[39m \u001b[38;5;28mself\u001b[39m\u001b[38;5;241m.\u001b[39msmooth\n\u001b[0;32m--> 728\u001b[0m res \u001b[38;5;241m=\u001b[39m \u001b[43mfunc\u001b[49m\u001b[43m(\u001b[49m\u001b[43mmlefit\u001b[49m\u001b[38;5;241;43m.\u001b[39;49m\u001b[43mparams\u001b[49m\u001b[43m,\u001b[49m\u001b[43m \u001b[49m\u001b[43mtransformed\u001b[49m\u001b[38;5;241;43m=\u001b[39;49m\u001b[38;5;28;43;01mFalse\u001b[39;49;00m\u001b[43m,\u001b[49m\u001b[43m \u001b[49m\u001b[43mincludes_fixed\u001b[49m\u001b[38;5;241;43m=\u001b[39;49m\u001b[38;5;28;43;01mFalse\u001b[39;49;00m\u001b[43m,\u001b[49m\n\u001b[1;32m    729\u001b[0m \u001b[43m           \u001b[49m\u001b[43mcov_type\u001b[49m\u001b[38;5;241;43m=\u001b[39;49m\u001b[43mcov_type\u001b[49m\u001b[43m,\u001b[49m\u001b[43m \u001b[49m\u001b[43mcov_kwds\u001b[49m\u001b[38;5;241;43m=\u001b[39;49m\u001b[43mcov_kwds\u001b[49m\u001b[43m)\u001b[49m\n\u001b[1;32m    731\u001b[0m res\u001b[38;5;241m.\u001b[39mmlefit \u001b[38;5;241m=\u001b[39m mlefit\n\u001b[1;32m    732\u001b[0m res\u001b[38;5;241m.\u001b[39mmle_retvals \u001b[38;5;241m=\u001b[39m mlefit\u001b[38;5;241m.\u001b[39mmle_retvals\n",
      "File \u001b[0;32m/opt/anaconda3/lib/python3.9/site-packages/statsmodels/tsa/statespace/mlemodel.py:886\u001b[0m, in \u001b[0;36mMLEModel.smooth\u001b[0;34m(self, params, transformed, includes_fixed, complex_step, cov_type, cov_kwds, return_ssm, results_class, results_wrapper_class, **kwargs)\u001b[0m\n\u001b[1;32m    883\u001b[0m     kwargs[\u001b[38;5;124m'\u001b[39m\u001b[38;5;124minversion_method\u001b[39m\u001b[38;5;124m'\u001b[39m] \u001b[38;5;241m=\u001b[39m INVERT_UNIVARIATE \u001b[38;5;241m|\u001b[39m SOLVE_LU\n\u001b[1;32m    885\u001b[0m \u001b[38;5;66;03m# Get the state space output\u001b[39;00m\n\u001b[0;32m--> 886\u001b[0m result \u001b[38;5;241m=\u001b[39m \u001b[38;5;28;43mself\u001b[39;49m\u001b[38;5;241;43m.\u001b[39;49m\u001b[43mssm\u001b[49m\u001b[38;5;241;43m.\u001b[39;49m\u001b[43msmooth\u001b[49m\u001b[43m(\u001b[49m\u001b[43mcomplex_step\u001b[49m\u001b[38;5;241;43m=\u001b[39;49m\u001b[43mcomplex_step\u001b[49m\u001b[43m,\u001b[49m\u001b[43m \u001b[49m\u001b[38;5;241;43m*\u001b[39;49m\u001b[38;5;241;43m*\u001b[39;49m\u001b[43mkwargs\u001b[49m\u001b[43m)\u001b[49m\n\u001b[1;32m    888\u001b[0m \u001b[38;5;66;03m# Wrap in a results object\u001b[39;00m\n\u001b[1;32m    889\u001b[0m \u001b[38;5;28;01mreturn\u001b[39;00m \u001b[38;5;28mself\u001b[39m\u001b[38;5;241m.\u001b[39m_wrap_results(params, result, return_ssm, cov_type,\n\u001b[1;32m    890\u001b[0m                           cov_kwds, results_class,\n\u001b[1;32m    891\u001b[0m                           results_wrapper_class)\n",
      "File \u001b[0;32m/opt/anaconda3/lib/python3.9/site-packages/statsmodels/tsa/statespace/kalman_smoother.py:410\u001b[0m, in \u001b[0;36mKalmanSmoother.smooth\u001b[0;34m(self, smoother_output, smooth_method, results, run_filter, prefix, complex_step, update_representation, update_filter, update_smoother, **kwargs)\u001b[0m\n\u001b[1;32m    408\u001b[0m \u001b[38;5;28;01mif\u001b[39;00m smoother_output \u001b[38;5;129;01mis\u001b[39;00m \u001b[38;5;28;01mNone\u001b[39;00m:\n\u001b[1;32m    409\u001b[0m     smoother_output \u001b[38;5;241m=\u001b[39m \u001b[38;5;28mself\u001b[39m\u001b[38;5;241m.\u001b[39msmoother_output\n\u001b[0;32m--> 410\u001b[0m smoother \u001b[38;5;241m=\u001b[39m \u001b[38;5;28;43mself\u001b[39;49m\u001b[38;5;241;43m.\u001b[39;49m\u001b[43m_smooth\u001b[49m\u001b[43m(\u001b[49m\u001b[43msmoother_output\u001b[49m\u001b[43m,\u001b[49m\u001b[43m \u001b[49m\u001b[43mresults\u001b[49m\u001b[38;5;241;43m=\u001b[39;49m\u001b[43mresults\u001b[49m\u001b[43m,\u001b[49m\u001b[43m \u001b[49m\u001b[38;5;241;43m*\u001b[39;49m\u001b[38;5;241;43m*\u001b[39;49m\u001b[43mkwargs\u001b[49m\u001b[43m)\u001b[49m\n\u001b[1;32m    412\u001b[0m \u001b[38;5;66;03m# Update the results\u001b[39;00m\n\u001b[1;32m    413\u001b[0m \u001b[38;5;28;01mif\u001b[39;00m update_smoother:\n",
      "File \u001b[0;32m/opt/anaconda3/lib/python3.9/site-packages/statsmodels/tsa/statespace/kalman_smoother.py:360\u001b[0m, in \u001b[0;36mKalmanSmoother._smooth\u001b[0;34m(self, smoother_output, smooth_method, prefix, complex_step, results, **kwargs)\u001b[0m\n\u001b[1;32m    357\u001b[0m smoother \u001b[38;5;241m=\u001b[39m \u001b[38;5;28mself\u001b[39m\u001b[38;5;241m.\u001b[39m_kalman_smoothers[prefix]\n\u001b[1;32m    359\u001b[0m \u001b[38;5;66;03m# Run the smoother\u001b[39;00m\n\u001b[0;32m--> 360\u001b[0m \u001b[43msmoother\u001b[49m\u001b[43m(\u001b[49m\u001b[43m)\u001b[49m\n\u001b[1;32m    362\u001b[0m \u001b[38;5;28;01mreturn\u001b[39;00m smoother\n",
      "\u001b[0;31mKeyboardInterrupt\u001b[0m: "
     ]
    }
   ],
   "source": [
    "tscv = TimeSeriesSplit(n_splits=5, test_size=4, gap=3)\n",
    "\n",
    "# Initialize variables to store the best model parameters and lowest RMSE\n",
    "best_order = None\n",
    "best_rmse = float('inf')\n",
    "\n",
    "# Iterate through the time series splits\n",
    "for train_index, test_index in tscv.split(train):\n",
    "    train_data, test_data = train.iloc[train_index], train.iloc[test_index]\n",
    "\n",
    "    # Use auto_arima to find the best order parameters\n",
    "    model = auto_arima(train_data, start_p=0, start_q=0, max_p=5, max_q=5, m=12,\n",
    "                           start_P=0, start_Q=0, max_P=5, max_Q=5, seasonal=True, \n",
    "                           d=2, D =0, trace=True,\n",
    "                        error_action='ignore', suppress_warnings=True, stepwise=False)\n",
    "    order = model.get_params()['order']\n",
    "    seasonal_order = model.get_params()['seasonal_order']\n",
    "\n",
    "    # Train SARIMAX model with the best order parameters\n",
    "    model = SARIMAX(train_data, order=order, seasonal_order=seasonal_order)\n",
    "    arima_fit = model.fit(enforce_stationarity=False, enforce_invertibility=False, method='powell')\n",
    "\n",
    "    # Make predictions on the test set\n",
    "    predictions = arima_fit.predict(start=len(train_data), end=len(train_data) + len(test_data) - 1, typ='levels')\n",
    "\n",
    "    # Calculate RMSE for the test set\n",
    "    rmse = np.sqrt(mean_squared_error(test_data, predictions))\n",
    "\n",
    "    # Update best parameters if current RMSE is lower\n",
    "    if rmse < best_rmse:\n",
    "        best_rmse = rmse\n",
    "        best_order = order\n",
    "        best_seasonal_order = seasonal_order\n",
    "\n",
    "# Print the best order parameters and the corresponding RMSE\n",
    "print(f\"Best Order Parameters: {best_order}\")\n",
    "print(f\"Best Seasonal Order Parameters: {best_seasonal_order}\")\n",
    "print(f\"Lowest Test RMSE: {best_rmse}\")"
   ]
  },
  {
   "cell_type": "code",
   "execution_count": null,
   "id": "049a231c",
   "metadata": {},
   "outputs": [],
   "source": []
  }
 ],
 "metadata": {
  "kernelspec": {
   "display_name": "Python 3 (ipykernel)",
   "language": "python",
   "name": "python3"
  },
  "language_info": {
   "codemirror_mode": {
    "name": "ipython",
    "version": 3
   },
   "file_extension": ".py",
   "mimetype": "text/x-python",
   "name": "python",
   "nbconvert_exporter": "python",
   "pygments_lexer": "ipython3",
   "version": "3.9.12"
  }
 },
 "nbformat": 4,
 "nbformat_minor": 5
}
