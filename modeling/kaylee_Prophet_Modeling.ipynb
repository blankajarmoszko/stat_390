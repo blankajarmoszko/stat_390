{
 "cells": [
  {
   "cell_type": "markdown",
   "id": "00fa8c75",
   "metadata": {},
   "source": [
    "Prophet Modeling\n",
    "\n",
    "-  Prophet is capable of handling missing data points and outliers, making it a robust tool for forecasting real-world data\n",
    "- single regressor model typically refers to a model where you have only one predictor variable (regressor) to forecast the target variable (usually a time series)\n",
    "- In the case of Prophet, the single regressor model means you have one additional input feature (regressor) to aid in forecasting the target time series data\n",
    "- Prophet allows you to include additional regressor variables to improve the accuracy of your forecasts. These regressors can represent any relevant information that might impact the time series you are trying to predict. For example, if you are forecasting daily sales data, a regressor could be a binary variable indicating whether it's a holiday or not. Including such additional information can help Prophet make more accurate predictions.\n",
    "\n",
    "- Additive Regressive Model\n",
    "- y(t) = g(t) (trend factor) + h(t) (holiday component) + s(t) (seasonality component) + e\n",
    "\n",
    "- Trend factor: logistic growth model or piecewise linear model"
   ]
  },
  {
   "cell_type": "code",
   "execution_count": 36,
   "id": "bc49d54f",
   "metadata": {},
   "outputs": [],
   "source": [
    "import pandas as pd\n",
    "from prophet import Prophet\n",
    "import numpy as np\n",
    "import matplotlib.pyplot as plt\n",
    "from sklearn.metrics import mean_squared_error, mean_absolute_error\n",
    "from math import sqrt"
   ]
  },
  {
   "cell_type": "code",
   "execution_count": 2,
   "id": "c6b59a75",
   "metadata": {},
   "outputs": [
    {
     "data": {
      "text/html": [
       "<div>\n",
       "<style scoped>\n",
       "    .dataframe tbody tr th:only-of-type {\n",
       "        vertical-align: middle;\n",
       "    }\n",
       "\n",
       "    .dataframe tbody tr th {\n",
       "        vertical-align: top;\n",
       "    }\n",
       "\n",
       "    .dataframe thead th {\n",
       "        text-align: right;\n",
       "    }\n",
       "</style>\n",
       "<table border=\"1\" class=\"dataframe\">\n",
       "  <thead>\n",
       "    <tr style=\"text-align: right;\">\n",
       "      <th></th>\n",
       "      <th>Date</th>\n",
       "      <th>MMWR_week</th>\n",
       "      <th>Location</th>\n",
       "      <th>Distributed</th>\n",
       "      <th>Distributed_Janssen</th>\n",
       "      <th>Distributed_Moderna</th>\n",
       "      <th>Distributed_Pfizer</th>\n",
       "      <th>Distributed_Unk_Manuf</th>\n",
       "      <th>Dist_Per_100K</th>\n",
       "      <th>Distributed_Per_100k_5Plus</th>\n",
       "      <th>...</th>\n",
       "      <th>day_of_week</th>\n",
       "      <th>quarter</th>\n",
       "      <th>dayofyear</th>\n",
       "      <th>dayofmonth</th>\n",
       "      <th>weekofyear</th>\n",
       "      <th>season</th>\n",
       "      <th>holidays</th>\n",
       "      <th>holiday_season</th>\n",
       "      <th>vax_announcement</th>\n",
       "      <th>Additional_Doses_Vax_Pct_1_w_lag</th>\n",
       "    </tr>\n",
       "  </thead>\n",
       "  <tbody>\n",
       "    <tr>\n",
       "      <th>0</th>\n",
       "      <td>2023-05-10</td>\n",
       "      <td>19</td>\n",
       "      <td>NE</td>\n",
       "      <td>5481710</td>\n",
       "      <td>152400</td>\n",
       "      <td>1647380</td>\n",
       "      <td>2905630</td>\n",
       "      <td>0</td>\n",
       "      <td>283379</td>\n",
       "      <td>303944.0</td>\n",
       "      <td>...</td>\n",
       "      <td>Wednesday</td>\n",
       "      <td>2</td>\n",
       "      <td>130</td>\n",
       "      <td>10</td>\n",
       "      <td>19</td>\n",
       "      <td>spring</td>\n",
       "      <td>Normal day</td>\n",
       "      <td>False</td>\n",
       "      <td>False</td>\n",
       "      <td>NaN</td>\n",
       "    </tr>\n",
       "    <tr>\n",
       "      <th>1</th>\n",
       "      <td>2023-05-10</td>\n",
       "      <td>19</td>\n",
       "      <td>LA</td>\n",
       "      <td>10282120</td>\n",
       "      <td>330500</td>\n",
       "      <td>3807980</td>\n",
       "      <td>5164550</td>\n",
       "      <td>0</td>\n",
       "      <td>221178</td>\n",
       "      <td>236516.0</td>\n",
       "      <td>...</td>\n",
       "      <td>Wednesday</td>\n",
       "      <td>2</td>\n",
       "      <td>130</td>\n",
       "      <td>10</td>\n",
       "      <td>19</td>\n",
       "      <td>spring</td>\n",
       "      <td>Normal day</td>\n",
       "      <td>False</td>\n",
       "      <td>False</td>\n",
       "      <td>55.8</td>\n",
       "    </tr>\n",
       "    <tr>\n",
       "      <th>2</th>\n",
       "      <td>2023-05-10</td>\n",
       "      <td>19</td>\n",
       "      <td>GA</td>\n",
       "      <td>28727475</td>\n",
       "      <td>869100</td>\n",
       "      <td>9763000</td>\n",
       "      <td>14773655</td>\n",
       "      <td>0</td>\n",
       "      <td>270569</td>\n",
       "      <td>288404.0</td>\n",
       "      <td>...</td>\n",
       "      <td>Wednesday</td>\n",
       "      <td>2</td>\n",
       "      <td>130</td>\n",
       "      <td>10</td>\n",
       "      <td>19</td>\n",
       "      <td>spring</td>\n",
       "      <td>Normal day</td>\n",
       "      <td>False</td>\n",
       "      <td>False</td>\n",
       "      <td>43.3</td>\n",
       "    </tr>\n",
       "    <tr>\n",
       "      <th>3</th>\n",
       "      <td>2023-05-10</td>\n",
       "      <td>19</td>\n",
       "      <td>WY</td>\n",
       "      <td>1281755</td>\n",
       "      <td>49300</td>\n",
       "      <td>490040</td>\n",
       "      <td>585605</td>\n",
       "      <td>0</td>\n",
       "      <td>221466</td>\n",
       "      <td>235691.0</td>\n",
       "      <td>...</td>\n",
       "      <td>Wednesday</td>\n",
       "      <td>2</td>\n",
       "      <td>130</td>\n",
       "      <td>10</td>\n",
       "      <td>19</td>\n",
       "      <td>spring</td>\n",
       "      <td>Normal day</td>\n",
       "      <td>False</td>\n",
       "      <td>False</td>\n",
       "      <td>44.3</td>\n",
       "    </tr>\n",
       "    <tr>\n",
       "      <th>4</th>\n",
       "      <td>2023-05-10</td>\n",
       "      <td>19</td>\n",
       "      <td>CO</td>\n",
       "      <td>17769135</td>\n",
       "      <td>501900</td>\n",
       "      <td>5402640</td>\n",
       "      <td>9029715</td>\n",
       "      <td>0</td>\n",
       "      <td>308560</td>\n",
       "      <td>327449.0</td>\n",
       "      <td>...</td>\n",
       "      <td>Wednesday</td>\n",
       "      <td>2</td>\n",
       "      <td>130</td>\n",
       "      <td>10</td>\n",
       "      <td>19</td>\n",
       "      <td>spring</td>\n",
       "      <td>Normal day</td>\n",
       "      <td>False</td>\n",
       "      <td>False</td>\n",
       "      <td>47.3</td>\n",
       "    </tr>\n",
       "  </tbody>\n",
       "</table>\n",
       "<p>5 rows × 74 columns</p>\n",
       "</div>"
      ],
      "text/plain": [
       "         Date  MMWR_week Location  Distributed  Distributed_Janssen  \\\n",
       "0  2023-05-10         19       NE      5481710               152400   \n",
       "1  2023-05-10         19       LA     10282120               330500   \n",
       "2  2023-05-10         19       GA     28727475               869100   \n",
       "3  2023-05-10         19       WY      1281755                49300   \n",
       "4  2023-05-10         19       CO     17769135               501900   \n",
       "\n",
       "   Distributed_Moderna  Distributed_Pfizer  Distributed_Unk_Manuf  \\\n",
       "0              1647380             2905630                      0   \n",
       "1              3807980             5164550                      0   \n",
       "2              9763000            14773655                      0   \n",
       "3               490040              585605                      0   \n",
       "4              5402640             9029715                      0   \n",
       "\n",
       "   Dist_Per_100K  Distributed_Per_100k_5Plus  ...  day_of_week  quarter  \\\n",
       "0         283379                    303944.0  ...    Wednesday        2   \n",
       "1         221178                    236516.0  ...    Wednesday        2   \n",
       "2         270569                    288404.0  ...    Wednesday        2   \n",
       "3         221466                    235691.0  ...    Wednesday        2   \n",
       "4         308560                    327449.0  ...    Wednesday        2   \n",
       "\n",
       "   dayofyear  dayofmonth  weekofyear  season    holidays  holiday_season  \\\n",
       "0        130          10          19  spring  Normal day           False   \n",
       "1        130          10          19  spring  Normal day           False   \n",
       "2        130          10          19  spring  Normal day           False   \n",
       "3        130          10          19  spring  Normal day           False   \n",
       "4        130          10          19  spring  Normal day           False   \n",
       "\n",
       "   vax_announcement  Additional_Doses_Vax_Pct_1_w_lag  \n",
       "0             False                               NaN  \n",
       "1             False                              55.8  \n",
       "2             False                              43.3  \n",
       "3             False                              44.3  \n",
       "4             False                              47.3  \n",
       "\n",
       "[5 rows x 74 columns]"
      ]
     },
     "execution_count": 2,
     "metadata": {},
     "output_type": "execute_result"
    }
   ],
   "source": [
    "# import data\n",
    "df = pd.read_csv('df_post_eda.csv')\n",
    "df.head()"
   ]
  },
  {
   "cell_type": "code",
   "execution_count": 3,
   "id": "89643ff3",
   "metadata": {},
   "outputs": [],
   "source": [
    "# Predictive variable\n",
    "pred_var = 'Additional_Doses_Vax_Pct'"
   ]
  },
  {
   "cell_type": "code",
   "execution_count": 4,
   "id": "36e3b7a9",
   "metadata": {},
   "outputs": [],
   "source": [
    "# Date column to datetime format\n",
    "df['Date'] = pd.to_datetime(df['Date'])"
   ]
  },
  {
   "cell_type": "code",
   "execution_count": 5,
   "id": "c2090381",
   "metadata": {},
   "outputs": [],
   "source": [
    "df['Date'] = pd.to_datetime(df['Date'])\n",
    "df = df.groupby('Date')[pred_var].mean()"
   ]
  },
  {
   "cell_type": "code",
   "execution_count": 6,
   "id": "c29e0dfa",
   "metadata": {},
   "outputs": [
    {
     "data": {
      "text/html": [
       "<div>\n",
       "<style scoped>\n",
       "    .dataframe tbody tr th:only-of-type {\n",
       "        vertical-align: middle;\n",
       "    }\n",
       "\n",
       "    .dataframe tbody tr th {\n",
       "        vertical-align: top;\n",
       "    }\n",
       "\n",
       "    .dataframe thead th {\n",
       "        text-align: right;\n",
       "    }\n",
       "</style>\n",
       "<table border=\"1\" class=\"dataframe\">\n",
       "  <thead>\n",
       "    <tr style=\"text-align: right;\">\n",
       "      <th></th>\n",
       "      <th>ds</th>\n",
       "      <th>y</th>\n",
       "    </tr>\n",
       "  </thead>\n",
       "  <tbody>\n",
       "    <tr>\n",
       "      <th>75</th>\n",
       "      <td>2023-04-12</td>\n",
       "      <td>50.951563</td>\n",
       "    </tr>\n",
       "    <tr>\n",
       "      <th>76</th>\n",
       "      <td>2023-04-19</td>\n",
       "      <td>51.012500</td>\n",
       "    </tr>\n",
       "    <tr>\n",
       "      <th>77</th>\n",
       "      <td>2023-04-26</td>\n",
       "      <td>51.034375</td>\n",
       "    </tr>\n",
       "    <tr>\n",
       "      <th>78</th>\n",
       "      <td>2023-05-03</td>\n",
       "      <td>51.064062</td>\n",
       "    </tr>\n",
       "    <tr>\n",
       "      <th>79</th>\n",
       "      <td>2023-05-10</td>\n",
       "      <td>51.076563</td>\n",
       "    </tr>\n",
       "  </tbody>\n",
       "</table>\n",
       "</div>"
      ],
      "text/plain": [
       "           ds          y\n",
       "75 2023-04-12  50.951563\n",
       "76 2023-04-19  51.012500\n",
       "77 2023-04-26  51.034375\n",
       "78 2023-05-03  51.064062\n",
       "79 2023-05-10  51.076563"
      ]
     },
     "execution_count": 6,
     "metadata": {},
     "output_type": "execute_result"
    }
   ],
   "source": [
    "df = pd.DataFrame(df)\n",
    "df.reset_index(level=0, inplace=True)\n",
    "df = df.rename(columns={'Date': 'ds', 'Additional_Doses_Vax_Pct': 'y'})\n",
    "df.tail()"
   ]
  },
  {
   "cell_type": "code",
   "execution_count": 7,
   "id": "493550e3",
   "metadata": {},
   "outputs": [
    {
     "data": {
      "text/html": [
       "<div>\n",
       "<style scoped>\n",
       "    .dataframe tbody tr th:only-of-type {\n",
       "        vertical-align: middle;\n",
       "    }\n",
       "\n",
       "    .dataframe tbody tr th {\n",
       "        vertical-align: top;\n",
       "    }\n",
       "\n",
       "    .dataframe thead th {\n",
       "        text-align: right;\n",
       "    }\n",
       "</style>\n",
       "<table border=\"1\" class=\"dataframe\">\n",
       "  <thead>\n",
       "    <tr style=\"text-align: right;\">\n",
       "      <th></th>\n",
       "      <th>ds</th>\n",
       "      <th>y</th>\n",
       "    </tr>\n",
       "  </thead>\n",
       "  <tbody>\n",
       "    <tr>\n",
       "      <th>0</th>\n",
       "      <td>2021-11-03</td>\n",
       "      <td>10.332812</td>\n",
       "    </tr>\n",
       "    <tr>\n",
       "      <th>1</th>\n",
       "      <td>2021-11-10</td>\n",
       "      <td>13.185937</td>\n",
       "    </tr>\n",
       "    <tr>\n",
       "      <th>2</th>\n",
       "      <td>2021-11-17</td>\n",
       "      <td>15.871875</td>\n",
       "    </tr>\n",
       "    <tr>\n",
       "      <th>3</th>\n",
       "      <td>2021-11-24</td>\n",
       "      <td>18.675000</td>\n",
       "    </tr>\n",
       "    <tr>\n",
       "      <th>4</th>\n",
       "      <td>2021-12-01</td>\n",
       "      <td>20.689062</td>\n",
       "    </tr>\n",
       "  </tbody>\n",
       "</table>\n",
       "</div>"
      ],
      "text/plain": [
       "          ds          y\n",
       "0 2021-11-03  10.332812\n",
       "1 2021-11-10  13.185937\n",
       "2 2021-11-17  15.871875\n",
       "3 2021-11-24  18.675000\n",
       "4 2021-12-01  20.689062"
      ]
     },
     "execution_count": 7,
     "metadata": {},
     "output_type": "execute_result"
    }
   ],
   "source": [
    "df.head()"
   ]
  },
  {
   "cell_type": "markdown",
   "id": "18857bb0",
   "metadata": {},
   "source": [
    "## Initial Prophet"
   ]
  },
  {
   "cell_type": "code",
   "execution_count": 8,
   "id": "66caaa7a",
   "metadata": {},
   "outputs": [
    {
     "name": "stderr",
     "output_type": "stream",
     "text": [
      "10:19:41 - cmdstanpy - INFO - Chain [1] start processing\n",
      "10:19:41 - cmdstanpy - INFO - Chain [1] done processing\n"
     ]
    },
    {
     "data": {
      "text/plain": [
       "<prophet.forecaster.Prophet at 0x7fd3898b5340>"
      ]
     },
     "execution_count": 8,
     "metadata": {},
     "output_type": "execute_result"
    }
   ],
   "source": [
    "# Instantiating a new Prophet model\n",
    "# Assuming linear regression\n",
    "m = Prophet()\n",
    "m.fit(df)"
   ]
  },
  {
   "cell_type": "code",
   "execution_count": 9,
   "id": "574166df",
   "metadata": {},
   "outputs": [
    {
     "data": {
      "text/html": [
       "<div>\n",
       "<style scoped>\n",
       "    .dataframe tbody tr th:only-of-type {\n",
       "        vertical-align: middle;\n",
       "    }\n",
       "\n",
       "    .dataframe tbody tr th {\n",
       "        vertical-align: top;\n",
       "    }\n",
       "\n",
       "    .dataframe thead th {\n",
       "        text-align: right;\n",
       "    }\n",
       "</style>\n",
       "<table border=\"1\" class=\"dataframe\">\n",
       "  <thead>\n",
       "    <tr style=\"text-align: right;\">\n",
       "      <th></th>\n",
       "      <th>ds</th>\n",
       "    </tr>\n",
       "  </thead>\n",
       "  <tbody>\n",
       "    <tr>\n",
       "      <th>127</th>\n",
       "      <td>2024-04-10</td>\n",
       "    </tr>\n",
       "    <tr>\n",
       "      <th>128</th>\n",
       "      <td>2024-04-17</td>\n",
       "    </tr>\n",
       "    <tr>\n",
       "      <th>129</th>\n",
       "      <td>2024-04-24</td>\n",
       "    </tr>\n",
       "    <tr>\n",
       "      <th>130</th>\n",
       "      <td>2024-05-01</td>\n",
       "    </tr>\n",
       "    <tr>\n",
       "      <th>131</th>\n",
       "      <td>2024-05-08</td>\n",
       "    </tr>\n",
       "  </tbody>\n",
       "</table>\n",
       "</div>"
      ],
      "text/plain": [
       "            ds\n",
       "127 2024-04-10\n",
       "128 2024-04-17\n",
       "129 2024-04-24\n",
       "130 2024-05-01\n",
       "131 2024-05-08"
      ]
     },
     "execution_count": 9,
     "metadata": {},
     "output_type": "execute_result"
    }
   ],
   "source": [
    "# Extend DF into future - Weekly on wednesdays\n",
    "future = m.make_future_dataframe(periods=52, freq='W-WED')\n",
    "future.tail()"
   ]
  },
  {
   "cell_type": "code",
   "execution_count": 10,
   "id": "9824e237",
   "metadata": {},
   "outputs": [
    {
     "data": {
      "text/html": [
       "<div>\n",
       "<style scoped>\n",
       "    .dataframe tbody tr th:only-of-type {\n",
       "        vertical-align: middle;\n",
       "    }\n",
       "\n",
       "    .dataframe tbody tr th {\n",
       "        vertical-align: top;\n",
       "    }\n",
       "\n",
       "    .dataframe thead th {\n",
       "        text-align: right;\n",
       "    }\n",
       "</style>\n",
       "<table border=\"1\" class=\"dataframe\">\n",
       "  <thead>\n",
       "    <tr style=\"text-align: right;\">\n",
       "      <th></th>\n",
       "      <th>ds</th>\n",
       "      <th>yhat</th>\n",
       "      <th>yhat_lower</th>\n",
       "      <th>yhat_upper</th>\n",
       "    </tr>\n",
       "  </thead>\n",
       "  <tbody>\n",
       "    <tr>\n",
       "      <th>127</th>\n",
       "      <td>2024-04-10</td>\n",
       "      <td>52.786855</td>\n",
       "      <td>32.648203</td>\n",
       "      <td>73.482141</td>\n",
       "    </tr>\n",
       "    <tr>\n",
       "      <th>128</th>\n",
       "      <td>2024-04-17</td>\n",
       "      <td>52.821918</td>\n",
       "      <td>32.315314</td>\n",
       "      <td>74.074667</td>\n",
       "    </tr>\n",
       "    <tr>\n",
       "      <th>129</th>\n",
       "      <td>2024-04-24</td>\n",
       "      <td>52.856981</td>\n",
       "      <td>31.992254</td>\n",
       "      <td>74.838357</td>\n",
       "    </tr>\n",
       "    <tr>\n",
       "      <th>130</th>\n",
       "      <td>2024-05-01</td>\n",
       "      <td>52.892044</td>\n",
       "      <td>31.360841</td>\n",
       "      <td>75.817965</td>\n",
       "    </tr>\n",
       "    <tr>\n",
       "      <th>131</th>\n",
       "      <td>2024-05-08</td>\n",
       "      <td>52.927107</td>\n",
       "      <td>30.624121</td>\n",
       "      <td>76.237741</td>\n",
       "    </tr>\n",
       "  </tbody>\n",
       "</table>\n",
       "</div>"
      ],
      "text/plain": [
       "            ds       yhat  yhat_lower  yhat_upper\n",
       "127 2024-04-10  52.786855   32.648203   73.482141\n",
       "128 2024-04-17  52.821918   32.315314   74.074667\n",
       "129 2024-04-24  52.856981   31.992254   74.838357\n",
       "130 2024-05-01  52.892044   31.360841   75.817965\n",
       "131 2024-05-08  52.927107   30.624121   76.237741"
      ]
     },
     "execution_count": 10,
     "metadata": {},
     "output_type": "execute_result"
    }
   ],
   "source": [
    "# Assign future values a predicted value\n",
    "forecast = m.predict(future)\n",
    "forecast[['ds', 'yhat', 'yhat_lower', 'yhat_upper']].tail()"
   ]
  },
  {
   "cell_type": "code",
   "execution_count": 11,
   "id": "1e8653b9",
   "metadata": {},
   "outputs": [
    {
     "data": {
      "image/png": "[encoded data removed]",
      "text/plain": [
       "<Figure size 720x432 with 1 Axes>"
      ]
     },
     "metadata": {},
     "output_type": "display_data"
    }
   ],
   "source": [
    "# Plot forecast\n",
    "fig1 = m.plot(forecast)"
   ]
  },
  {
   "cell_type": "markdown",
   "id": "829edf3a",
   "metadata": {},
   "source": [
    "## Max Capacity - Logistic Growth"
   ]
  },
  {
   "cell_type": "code",
   "execution_count": 30,
   "id": "5b51269d",
   "metadata": {},
   "outputs": [],
   "source": [
    "# Need to set max capacity because of logistic regression\n",
    "# set as 53 for now\n",
    "\n",
    "df['cap'] = 53"
   ]
  },
  {
   "cell_type": "code",
   "execution_count": 31,
   "id": "bec72b22",
   "metadata": {},
   "outputs": [
    {
     "name": "stderr",
     "output_type": "stream",
     "text": [
      "10:20:48 - cmdstanpy - INFO - Chain [1] start processing\n",
      "10:20:48 - cmdstanpy - INFO - Chain [1] done processing\n"
     ]
    },
    {
     "data": {
      "text/plain": [
       "<prophet.forecaster.Prophet at 0x7fd3684e8490>"
      ]
     },
     "execution_count": 31,
     "metadata": {},
     "output_type": "execute_result"
    }
   ],
   "source": [
    "m = Prophet(growth='logistic')\n",
    "m.fit(df)"
   ]
  },
  {
   "cell_type": "code",
   "execution_count": 32,
   "id": "aa7c4ae9",
   "metadata": {},
   "outputs": [
    {
     "data": {
      "image/png": "[encoded data removed]",
      "text/plain": [
       "<Figure size 720x432 with 1 Axes>"
      ]
     },
     "metadata": {},
     "output_type": "display_data"
    }
   ],
   "source": [
    "future = m.make_future_dataframe(periods=52, freq='W-WED')\n",
    "future['cap'] = 53\n",
    "fcst = m.predict(future)\n",
    "fig = m.plot(fcst)"
   ]
  },
  {
   "cell_type": "code",
   "execution_count": 33,
   "id": "ea6fd59a",
   "metadata": {},
   "outputs": [
    {
     "data": {
      "text/html": [
       "<div>\n",
       "<style scoped>\n",
       "    .dataframe tbody tr th:only-of-type {\n",
       "        vertical-align: middle;\n",
       "    }\n",
       "\n",
       "    .dataframe tbody tr th {\n",
       "        vertical-align: top;\n",
       "    }\n",
       "\n",
       "    .dataframe thead th {\n",
       "        text-align: right;\n",
       "    }\n",
       "</style>\n",
       "<table border=\"1\" class=\"dataframe\">\n",
       "  <thead>\n",
       "    <tr style=\"text-align: right;\">\n",
       "      <th></th>\n",
       "      <th>ds</th>\n",
       "      <th>trend</th>\n",
       "      <th>cap</th>\n",
       "      <th>yhat_lower</th>\n",
       "      <th>yhat_upper</th>\n",
       "      <th>trend_lower</th>\n",
       "      <th>trend_upper</th>\n",
       "      <th>additive_terms</th>\n",
       "      <th>additive_terms_lower</th>\n",
       "      <th>additive_terms_upper</th>\n",
       "      <th>multiplicative_terms</th>\n",
       "      <th>multiplicative_terms_lower</th>\n",
       "      <th>multiplicative_terms_upper</th>\n",
       "      <th>yhat</th>\n",
       "    </tr>\n",
       "  </thead>\n",
       "  <tbody>\n",
       "    <tr>\n",
       "      <th>127</th>\n",
       "      <td>2024-04-10</td>\n",
       "      <td>52.998082</td>\n",
       "      <td>53</td>\n",
       "      <td>49.298485</td>\n",
       "      <td>56.898805</td>\n",
       "      <td>52.998082</td>\n",
       "      <td>52.998082</td>\n",
       "      <td>0.0</td>\n",
       "      <td>0.0</td>\n",
       "      <td>0.0</td>\n",
       "      <td>0.0</td>\n",
       "      <td>0.0</td>\n",
       "      <td>0.0</td>\n",
       "      <td>52.998082</td>\n",
       "    </tr>\n",
       "    <tr>\n",
       "      <th>128</th>\n",
       "      <td>2024-04-17</td>\n",
       "      <td>52.998238</td>\n",
       "      <td>53</td>\n",
       "      <td>49.385159</td>\n",
       "      <td>56.713846</td>\n",
       "      <td>52.998238</td>\n",
       "      <td>52.998238</td>\n",
       "      <td>0.0</td>\n",
       "      <td>0.0</td>\n",
       "      <td>0.0</td>\n",
       "      <td>0.0</td>\n",
       "      <td>0.0</td>\n",
       "      <td>0.0</td>\n",
       "      <td>52.998238</td>\n",
       "    </tr>\n",
       "    <tr>\n",
       "      <th>129</th>\n",
       "      <td>2024-04-24</td>\n",
       "      <td>52.998380</td>\n",
       "      <td>53</td>\n",
       "      <td>49.399642</td>\n",
       "      <td>56.983333</td>\n",
       "      <td>52.998380</td>\n",
       "      <td>52.998380</td>\n",
       "      <td>0.0</td>\n",
       "      <td>0.0</td>\n",
       "      <td>0.0</td>\n",
       "      <td>0.0</td>\n",
       "      <td>0.0</td>\n",
       "      <td>0.0</td>\n",
       "      <td>52.998380</td>\n",
       "    </tr>\n",
       "    <tr>\n",
       "      <th>130</th>\n",
       "      <td>2024-05-01</td>\n",
       "      <td>52.998512</td>\n",
       "      <td>53</td>\n",
       "      <td>49.441643</td>\n",
       "      <td>56.653015</td>\n",
       "      <td>52.998512</td>\n",
       "      <td>52.998512</td>\n",
       "      <td>0.0</td>\n",
       "      <td>0.0</td>\n",
       "      <td>0.0</td>\n",
       "      <td>0.0</td>\n",
       "      <td>0.0</td>\n",
       "      <td>0.0</td>\n",
       "      <td>52.998512</td>\n",
       "    </tr>\n",
       "    <tr>\n",
       "      <th>131</th>\n",
       "      <td>2024-05-08</td>\n",
       "      <td>52.998632</td>\n",
       "      <td>53</td>\n",
       "      <td>49.114579</td>\n",
       "      <td>56.911113</td>\n",
       "      <td>52.998632</td>\n",
       "      <td>52.998632</td>\n",
       "      <td>0.0</td>\n",
       "      <td>0.0</td>\n",
       "      <td>0.0</td>\n",
       "      <td>0.0</td>\n",
       "      <td>0.0</td>\n",
       "      <td>0.0</td>\n",
       "      <td>52.998632</td>\n",
       "    </tr>\n",
       "  </tbody>\n",
       "</table>\n",
       "</div>"
      ],
      "text/plain": [
       "            ds      trend  cap  yhat_lower  yhat_upper  trend_lower  \\\n",
       "127 2024-04-10  52.998082   53   49.298485   56.898805    52.998082   \n",
       "128 2024-04-17  52.998238   53   49.385159   56.713846    52.998238   \n",
       "129 2024-04-24  52.998380   53   49.399642   56.983333    52.998380   \n",
       "130 2024-05-01  52.998512   53   49.441643   56.653015    52.998512   \n",
       "131 2024-05-08  52.998632   53   49.114579   56.911113    52.998632   \n",
       "\n",
       "     trend_upper  additive_terms  additive_terms_lower  additive_terms_upper  \\\n",
       "127    52.998082             0.0                   0.0                   0.0   \n",
       "128    52.998238             0.0                   0.0                   0.0   \n",
       "129    52.998380             0.0                   0.0                   0.0   \n",
       "130    52.998512             0.0                   0.0                   0.0   \n",
       "131    52.998632             0.0                   0.0                   0.0   \n",
       "\n",
       "     multiplicative_terms  multiplicative_terms_lower  \\\n",
       "127                   0.0                         0.0   \n",
       "128                   0.0                         0.0   \n",
       "129                   0.0                         0.0   \n",
       "130                   0.0                         0.0   \n",
       "131                   0.0                         0.0   \n",
       "\n",
       "     multiplicative_terms_upper       yhat  \n",
       "127                         0.0  52.998082  \n",
       "128                         0.0  52.998238  \n",
       "129                         0.0  52.998380  \n",
       "130                         0.0  52.998512  \n",
       "131                         0.0  52.998632  "
      ]
     },
     "execution_count": 33,
     "metadata": {},
     "output_type": "execute_result"
    }
   ],
   "source": [
    "fcst.tail()"
   ]
  },
  {
   "cell_type": "code",
   "execution_count": 34,
   "id": "b96ad4c8",
   "metadata": {},
   "outputs": [],
   "source": [
    "# Initial RMSE\n",
    "\n",
    "# Extract actual values and predicted values\n",
    "actual_values = df['y']\n",
    "predicted_values = fcst['yhat'][:-52] "
   ]
  },
  {
   "cell_type": "code",
   "execution_count": 35,
   "id": "b3c39103",
   "metadata": {},
   "outputs": [
    {
     "name": "stdout",
     "output_type": "stream",
     "text": [
      "Root Mean Squared Error (RMSE): 2.9593725179628465\n"
     ]
    }
   ],
   "source": [
    "# Calculate RMSE\n",
    "rmse = np.sqrt(mean_squared_error(actual_values, predicted_values))\n",
    "print(\"Root Mean Squared Error (RMSE):\", rmse)"
   ]
  },
  {
   "cell_type": "code",
   "execution_count": 37,
   "id": "d8c0f147",
   "metadata": {},
   "outputs": [
    {
     "data": {
      "text/plain": [
       "2.555044788524841"
      ]
     },
     "execution_count": 37,
     "metadata": {},
     "output_type": "execute_result"
    }
   ],
   "source": [
    "mean_absolute_error(actual_values,\n",
    "                   predicted_values)"
   ]
  },
  {
   "cell_type": "markdown",
   "id": "98b9bebd",
   "metadata": {},
   "source": [
    "## Change Points"
   ]
  },
  {
   "cell_type": "code",
   "execution_count": 39,
   "id": "c4a2e0a3",
   "metadata": {},
   "outputs": [
    {
     "data": {
      "image/png": "[encoded data removed]",
      "text/plain": [
       "<Figure size 720x432 with 1 Axes>"
      ]
     },
     "metadata": {},
     "output_type": "display_data"
    }
   ],
   "source": [
    "from prophet.plot import add_changepoints_to_plot\n",
    "fig = m.plot(forecast)\n",
    "a = add_changepoints_to_plot(fig.gca(), m, forecast)"
   ]
  },
  {
   "cell_type": "code",
   "execution_count": 40,
   "id": "39eba2eb",
   "metadata": {},
   "outputs": [],
   "source": [
    "# Change points doesn't apply - logistic regression"
   ]
  },
  {
   "cell_type": "code",
   "execution_count": null,
   "id": "ec2b34b5",
   "metadata": {},
   "outputs": [],
   "source": []
  }
 ],
 "metadata": {
  "kernelspec": {
   "display_name": "Python 3 (ipykernel)",
   "language": "python",
   "name": "python3"
  },
  "language_info": {
   "codemirror_mode": {
    "name": "ipython",
    "version": 3
   },
   "file_extension": ".py",
   "mimetype": "text/x-python",
   "name": "python",
   "nbconvert_exporter": "python",
   "pygments_lexer": "ipython3",
   "version": "3.9.12"
  }
 },
 "nbformat": 4,
 "nbformat_minor": 5
}
