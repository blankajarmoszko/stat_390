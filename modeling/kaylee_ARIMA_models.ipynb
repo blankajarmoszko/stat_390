{
 "cells": [
  {
   "cell_type": "markdown",
   "id": "29f98272",
   "metadata": {},
   "source": [
    "**ARIMA** (AutoRegressive Integrated Moving Average):\n",
    "- Components: ARIMA models consist of three main components: Autoregressive (AR) terms, Integrated (I) terms, and Moving Average (MA) terms.\n",
    "- Manual Selection: In a traditional ARIMA approach, you manually select the order of the AR, I, and MA components based on analysis of the autocorrelation and partial autocorrelation plots, as well as stationarity tests.\n",
    "- Usage: ARIMA is a powerful and flexible method, but choosing the right orders can be challenging, especially for users without extensive time series expertise.\n",
    "Auto-ARIMA:\n",
    "\n",
    "**Automated Parameter Selection**: Auto-ARIMA, on the other hand, automates the process of selecting the order of the ARIMA model.\n",
    "- Search Algorithm: Auto-ARIMA typically employs a search algorithm that explores different combinations of AR, I, and MA orders to find the model with the lowest Akaike Information Criterion (AIC) or Bayesian Information Criterion (BIC).\n",
    "- Ease of Use: Auto-ARIMA is user-friendly and requires less manual intervention compared to traditional ARIMA. It is suitable for users who are less familiar with time series analysis."
   ]
  },
  {
   "cell_type": "markdown",
   "id": "e2a773fd",
   "metadata": {},
   "source": [
    "# ARIMA"
   ]
  },
  {
   "cell_type": "markdown",
   "id": "83b19526",
   "metadata": {},
   "source": [
    "ARIMA(p,d,q) \n",
    "- p: The number of lag observations included in the model, also called the lag order.\n",
    "- d: The number of times that the raw observations are differenced, also called the degree of differencing.\n",
    "- q: The size of the moving average window, also called the order of moving average."
   ]
  },
  {
   "cell_type": "markdown",
   "id": "dfabd89b",
   "metadata": {},
   "source": [
    "- AR term refers to the past values used for forecasting the next value. The AR term is defined by the parameter ‘p’ in arima. The value of ‘p’ is determined using the PACF plot.\n",
    "\n",
    "- MA term is used to defines number of past forecast errors used to predict the future values. The parameter ‘q’ in arima represents the MA term. ACF plot is used to identify the correct ‘q’ value.\n",
    "\n",
    "- Order of differencing  specifies the number of times the differencing operation is performed on series to make it stationary. Test like ADF and KPSS can be used to determine whether the series is stationary and help in identifying the d value."
   ]
  },
  {
   "cell_type": "code",
   "execution_count": 1,
   "id": "56b34648",
   "metadata": {},
   "outputs": [],
   "source": [
    "import pandas as pd\n",
    "from statsmodels.tsa.arima.model import ARIMA\n",
    "import numpy as np\n",
    "import matplotlib.pyplot as plt\n",
    "from sklearn.metrics import mean_squared_error, mean_absolute_error\n",
    "from math import sqrt"
   ]
  },
  {
   "cell_type": "code",
   "execution_count": 2,
   "id": "dbd191e6",
   "metadata": {},
   "outputs": [
    {
     "data": {
      "text/html": [
       "<div>\n",
       "<style scoped>\n",
       "    .dataframe tbody tr th:only-of-type {\n",
       "        vertical-align: middle;\n",
       "    }\n",
       "\n",
       "    .dataframe tbody tr th {\n",
       "        vertical-align: top;\n",
       "    }\n",
       "\n",
       "    .dataframe thead th {\n",
       "        text-align: right;\n",
       "    }\n",
       "</style>\n",
       "<table border=\"1\" class=\"dataframe\">\n",
       "  <thead>\n",
       "    <tr style=\"text-align: right;\">\n",
       "      <th></th>\n",
       "      <th>Date</th>\n",
       "      <th>MMWR_week</th>\n",
       "      <th>Location</th>\n",
       "      <th>Distributed</th>\n",
       "      <th>Distributed_Janssen</th>\n",
       "      <th>Distributed_Moderna</th>\n",
       "      <th>Distributed_Pfizer</th>\n",
       "      <th>Distributed_Unk_Manuf</th>\n",
       "      <th>Dist_Per_100K</th>\n",
       "      <th>Distributed_Per_100k_5Plus</th>\n",
       "      <th>...</th>\n",
       "      <th>day_of_week</th>\n",
       "      <th>quarter</th>\n",
       "      <th>dayofyear</th>\n",
       "      <th>dayofmonth</th>\n",
       "      <th>weekofyear</th>\n",
       "      <th>season</th>\n",
       "      <th>holidays</th>\n",
       "      <th>holiday_season</th>\n",
       "      <th>vax_announcement</th>\n",
       "      <th>Additional_Doses_Vax_Pct_1_w_lag</th>\n",
       "    </tr>\n",
       "  </thead>\n",
       "  <tbody>\n",
       "    <tr>\n",
       "      <th>0</th>\n",
       "      <td>2023-05-10</td>\n",
       "      <td>19</td>\n",
       "      <td>NE</td>\n",
       "      <td>5481710</td>\n",
       "      <td>152400</td>\n",
       "      <td>1647380</td>\n",
       "      <td>2905630</td>\n",
       "      <td>0</td>\n",
       "      <td>283379</td>\n",
       "      <td>303944.0</td>\n",
       "      <td>...</td>\n",
       "      <td>Wednesday</td>\n",
       "      <td>2</td>\n",
       "      <td>130</td>\n",
       "      <td>10</td>\n",
       "      <td>19</td>\n",
       "      <td>spring</td>\n",
       "      <td>Normal day</td>\n",
       "      <td>False</td>\n",
       "      <td>False</td>\n",
       "      <td>NaN</td>\n",
       "    </tr>\n",
       "    <tr>\n",
       "      <th>1</th>\n",
       "      <td>2023-05-10</td>\n",
       "      <td>19</td>\n",
       "      <td>LA</td>\n",
       "      <td>10282120</td>\n",
       "      <td>330500</td>\n",
       "      <td>3807980</td>\n",
       "      <td>5164550</td>\n",
       "      <td>0</td>\n",
       "      <td>221178</td>\n",
       "      <td>236516.0</td>\n",
       "      <td>...</td>\n",
       "      <td>Wednesday</td>\n",
       "      <td>2</td>\n",
       "      <td>130</td>\n",
       "      <td>10</td>\n",
       "      <td>19</td>\n",
       "      <td>spring</td>\n",
       "      <td>Normal day</td>\n",
       "      <td>False</td>\n",
       "      <td>False</td>\n",
       "      <td>55.8</td>\n",
       "    </tr>\n",
       "    <tr>\n",
       "      <th>2</th>\n",
       "      <td>2023-05-10</td>\n",
       "      <td>19</td>\n",
       "      <td>GA</td>\n",
       "      <td>28727475</td>\n",
       "      <td>869100</td>\n",
       "      <td>9763000</td>\n",
       "      <td>14773655</td>\n",
       "      <td>0</td>\n",
       "      <td>270569</td>\n",
       "      <td>288404.0</td>\n",
       "      <td>...</td>\n",
       "      <td>Wednesday</td>\n",
       "      <td>2</td>\n",
       "      <td>130</td>\n",
       "      <td>10</td>\n",
       "      <td>19</td>\n",
       "      <td>spring</td>\n",
       "      <td>Normal day</td>\n",
       "      <td>False</td>\n",
       "      <td>False</td>\n",
       "      <td>43.3</td>\n",
       "    </tr>\n",
       "    <tr>\n",
       "      <th>3</th>\n",
       "      <td>2023-05-10</td>\n",
       "      <td>19</td>\n",
       "      <td>WY</td>\n",
       "      <td>1281755</td>\n",
       "      <td>49300</td>\n",
       "      <td>490040</td>\n",
       "      <td>585605</td>\n",
       "      <td>0</td>\n",
       "      <td>221466</td>\n",
       "      <td>235691.0</td>\n",
       "      <td>...</td>\n",
       "      <td>Wednesday</td>\n",
       "      <td>2</td>\n",
       "      <td>130</td>\n",
       "      <td>10</td>\n",
       "      <td>19</td>\n",
       "      <td>spring</td>\n",
       "      <td>Normal day</td>\n",
       "      <td>False</td>\n",
       "      <td>False</td>\n",
       "      <td>44.3</td>\n",
       "    </tr>\n",
       "    <tr>\n",
       "      <th>4</th>\n",
       "      <td>2023-05-10</td>\n",
       "      <td>19</td>\n",
       "      <td>CO</td>\n",
       "      <td>17769135</td>\n",
       "      <td>501900</td>\n",
       "      <td>5402640</td>\n",
       "      <td>9029715</td>\n",
       "      <td>0</td>\n",
       "      <td>308560</td>\n",
       "      <td>327449.0</td>\n",
       "      <td>...</td>\n",
       "      <td>Wednesday</td>\n",
       "      <td>2</td>\n",
       "      <td>130</td>\n",
       "      <td>10</td>\n",
       "      <td>19</td>\n",
       "      <td>spring</td>\n",
       "      <td>Normal day</td>\n",
       "      <td>False</td>\n",
       "      <td>False</td>\n",
       "      <td>47.3</td>\n",
       "    </tr>\n",
       "  </tbody>\n",
       "</table>\n",
       "<p>5 rows × 74 columns</p>\n",
       "</div>"
      ],
      "text/plain": [
       "         Date  MMWR_week Location  Distributed  Distributed_Janssen  \\\n",
       "0  2023-05-10         19       NE      5481710               152400   \n",
       "1  2023-05-10         19       LA     10282120               330500   \n",
       "2  2023-05-10         19       GA     28727475               869100   \n",
       "3  2023-05-10         19       WY      1281755                49300   \n",
       "4  2023-05-10         19       CO     17769135               501900   \n",
       "\n",
       "   Distributed_Moderna  Distributed_Pfizer  Distributed_Unk_Manuf  \\\n",
       "0              1647380             2905630                      0   \n",
       "1              3807980             5164550                      0   \n",
       "2              9763000            14773655                      0   \n",
       "3               490040              585605                      0   \n",
       "4              5402640             9029715                      0   \n",
       "\n",
       "   Dist_Per_100K  Distributed_Per_100k_5Plus  ...  day_of_week  quarter  \\\n",
       "0         283379                    303944.0  ...    Wednesday        2   \n",
       "1         221178                    236516.0  ...    Wednesday        2   \n",
       "2         270569                    288404.0  ...    Wednesday        2   \n",
       "3         221466                    235691.0  ...    Wednesday        2   \n",
       "4         308560                    327449.0  ...    Wednesday        2   \n",
       "\n",
       "   dayofyear  dayofmonth  weekofyear  season    holidays  holiday_season  \\\n",
       "0        130          10          19  spring  Normal day           False   \n",
       "1        130          10          19  spring  Normal day           False   \n",
       "2        130          10          19  spring  Normal day           False   \n",
       "3        130          10          19  spring  Normal day           False   \n",
       "4        130          10          19  spring  Normal day           False   \n",
       "\n",
       "   vax_announcement  Additional_Doses_Vax_Pct_1_w_lag  \n",
       "0             False                               NaN  \n",
       "1             False                              55.8  \n",
       "2             False                              43.3  \n",
       "3             False                              44.3  \n",
       "4             False                              47.3  \n",
       "\n",
       "[5 rows x 74 columns]"
      ]
     },
     "execution_count": 2,
     "metadata": {},
     "output_type": "execute_result"
    }
   ],
   "source": [
    "# import data\n",
    "df = pd.read_csv('df_post_eda.csv')\n",
    "df.head()"
   ]
  },
  {
   "cell_type": "code",
   "execution_count": 3,
   "id": "e4aefd0e",
   "metadata": {},
   "outputs": [
    {
     "data": {
      "text/html": [
       "<div>\n",
       "<style scoped>\n",
       "    .dataframe tbody tr th:only-of-type {\n",
       "        vertical-align: middle;\n",
       "    }\n",
       "\n",
       "    .dataframe tbody tr th {\n",
       "        vertical-align: top;\n",
       "    }\n",
       "\n",
       "    .dataframe thead th {\n",
       "        text-align: right;\n",
       "    }\n",
       "</style>\n",
       "<table border=\"1\" class=\"dataframe\">\n",
       "  <thead>\n",
       "    <tr style=\"text-align: right;\">\n",
       "      <th></th>\n",
       "      <th>Additional_Doses_Vax_Pct</th>\n",
       "    </tr>\n",
       "    <tr>\n",
       "      <th>Date</th>\n",
       "      <th></th>\n",
       "    </tr>\n",
       "  </thead>\n",
       "  <tbody>\n",
       "    <tr>\n",
       "      <th>2021-11-03</th>\n",
       "      <td>10.332812</td>\n",
       "    </tr>\n",
       "    <tr>\n",
       "      <th>2021-11-10</th>\n",
       "      <td>13.185937</td>\n",
       "    </tr>\n",
       "    <tr>\n",
       "      <th>2021-11-17</th>\n",
       "      <td>15.871875</td>\n",
       "    </tr>\n",
       "    <tr>\n",
       "      <th>2021-11-24</th>\n",
       "      <td>18.675000</td>\n",
       "    </tr>\n",
       "    <tr>\n",
       "      <th>2021-12-01</th>\n",
       "      <td>20.689062</td>\n",
       "    </tr>\n",
       "  </tbody>\n",
       "</table>\n",
       "</div>"
      ],
      "text/plain": [
       "            Additional_Doses_Vax_Pct\n",
       "Date                                \n",
       "2021-11-03                 10.332812\n",
       "2021-11-10                 13.185937\n",
       "2021-11-17                 15.871875\n",
       "2021-11-24                 18.675000\n",
       "2021-12-01                 20.689062"
      ]
     },
     "execution_count": 3,
     "metadata": {},
     "output_type": "execute_result"
    }
   ],
   "source": [
    "pred_var = 'Additional_Doses_Vax_Pct'\n",
    "df['Date'] = pd.to_datetime(df['Date'])\n",
    "df = df.groupby('Date')[pred_var].mean()\n",
    "df = pd.DataFrame(df)\n",
    "df.head()"
   ]
  },
  {
   "cell_type": "code",
   "execution_count": 4,
   "id": "fe146c90",
   "metadata": {},
   "outputs": [
    {
     "data": {
      "image/png": "[encoded data removed]",
      "text/plain": [
       "<Figure size 432x288 with 1 Axes>"
      ]
     },
     "metadata": {
      "needs_background": "light"
     },
     "output_type": "display_data"
    }
   ],
   "source": [
    "plt.plot(df.index, df['Additional_Doses_Vax_Pct'], marker='o', linestyle='-')\n",
    "plt.xlabel('Date')\n",
    "plt.ylabel('Additional Doses Vaccination Percentage')\n",
    "plt.show()"
   ]
  },
  {
   "cell_type": "markdown",
   "id": "4d6497c1",
   "metadata": {},
   "source": [
    "### Stationary Test\n",
    "\n",
    "- Null Hypothesis (H0): If failed to be rejected, it suggests the time series has a unit root, meaning it is non-stationary. It has some time dependent structure.\n",
    "- Alternate Hypothesis (H1): The null hypothesis is rejected; it suggests the time series does not have a unit root, meaning it is stationary. It does not have time-dependent structure\n",
    "\n",
    "- p-value > 0.05: Fail to reject the null hypothesis (H0), the data has a unit root and is non-stationary.\n",
    "- p-value <= 0.05: Reject the null hypothesis (H0), the data does not have a unit root and is stationary."
   ]
  },
  {
   "cell_type": "code",
   "execution_count": 5,
   "id": "20f23b59",
   "metadata": {},
   "outputs": [
    {
     "name": "stdout",
     "output_type": "stream",
     "text": [
      "ADF Statistic: -4.009253\n",
      "p-value: 0.001363\n",
      "Critical Values:\n",
      "\t1%: -3.518\n",
      "\t5%: -2.900\n",
      "\t10%: -2.587\n"
     ]
    }
   ],
   "source": [
    "# Time series are stationary if they do not have trend or seasonal effects. \n",
    "#Summary statistics calculated on the time series are consistent over time, \n",
    "# like the mean or the variance of the observations.\n",
    "\n",
    "from statsmodels.tsa.stattools import adfuller\n",
    "\n",
    "X = df.values\n",
    "result = adfuller(X)\n",
    "print('ADF Statistic: %f' % result[0])\n",
    "print('p-value: %f' % result[1])\n",
    "print('Critical Values:')\n",
    "for key, value in result[4].items():\n",
    " print('\\t%s: %.3f' % (key, value))"
   ]
  },
  {
   "cell_type": "markdown",
   "id": "b46789ce",
   "metadata": {},
   "source": [
    "##### p-value < 0.05 so we Reject the Null Hypothesis, the data is stationary"
   ]
  },
  {
   "cell_type": "markdown",
   "id": "afd54f2f",
   "metadata": {},
   "source": [
    "### Autocorrelation Test"
   ]
  },
  {
   "cell_type": "code",
   "execution_count": 6,
   "id": "07f0fb70",
   "metadata": {},
   "outputs": [
    {
     "data": {
      "image/png": "[encoded data removed]",
      "text/plain": [
       "<Figure size 432x288 with 1 Axes>"
      ]
     },
     "metadata": {
      "needs_background": "light"
     },
     "output_type": "display_data"
    }
   ],
   "source": [
    "from statsmodels.graphics.tsaplots import plot_acf, plot_pacf\n",
    "alpha=0.05\n",
    "# Select a multiple of the seasonal frequency for the number of lags\n",
    "plot_acf(df[pred_var])\n",
    "plt.xlabel('Lags')\n",
    "plt.tight_layout()"
   ]
  },
  {
   "cell_type": "code",
   "execution_count": 7,
   "id": "39e611ce",
   "metadata": {},
   "outputs": [
    {
     "name": "stderr",
     "output_type": "stream",
     "text": [
      "/opt/anaconda3/lib/python3.9/site-packages/statsmodels/graphics/tsaplots.py:348: FutureWarning: The default method 'yw' can produce PACF values outside of the [-1,1] interval. After 0.13, the default will change tounadjusted Yule-Walker ('ywm'). You can use this method now by setting method='ywm'.\n",
      "  warnings.warn(\n"
     ]
    },
    {
     "data": {
      "image/png": "[encoded data removed]",
      "text/plain": [
       "<Figure size 432x288 with 1 Axes>"
      ]
     },
     "metadata": {
      "needs_background": "light"
     },
     "output_type": "display_data"
    }
   ],
   "source": [
    "plot_pacf(df[pred_var])\n",
    "plt.xlabel('Lags')\n",
    "plt.tight_layout()\n",
    "plt.show()"
   ]
  },
  {
   "cell_type": "markdown",
   "id": "a03eae91",
   "metadata": {},
   "source": [
    "#### consider lag of 1"
   ]
  },
  {
   "cell_type": "markdown",
   "id": "8ffaae96",
   "metadata": {},
   "source": [
    "### Base ARIMA Model"
   ]
  },
  {
   "cell_type": "code",
   "execution_count": 5,
   "id": "c8cd6682",
   "metadata": {},
   "outputs": [
    {
     "name": "stdout",
     "output_type": "stream",
     "text": [
      "(56, 1) (24, 1)\n"
     ]
    }
   ],
   "source": [
    "train_size = int(0.7 * len(df))  # 70% training data, 30% testing data\n",
    "train = df[:train_size]\n",
    "test = df[train_size:]\n",
    "\n",
    "print(train.shape, test.shape) # 70-30 train split"
   ]
  },
  {
   "cell_type": "code",
   "execution_count": 9,
   "id": "d1e4f53d",
   "metadata": {},
   "outputs": [
    {
     "name": "stderr",
     "output_type": "stream",
     "text": [
      "/opt/anaconda3/lib/python3.9/site-packages/statsmodels/tsa/base/tsa_model.py:471: ValueWarning: No frequency information was provided, so inferred frequency W-WED will be used.\n",
      "  self._init_dates(dates, freq)\n",
      "/opt/anaconda3/lib/python3.9/site-packages/statsmodels/tsa/base/tsa_model.py:471: ValueWarning: No frequency information was provided, so inferred frequency W-WED will be used.\n",
      "  self._init_dates(dates, freq)\n",
      "/opt/anaconda3/lib/python3.9/site-packages/statsmodels/tsa/base/tsa_model.py:471: ValueWarning: No frequency information was provided, so inferred frequency W-WED will be used.\n",
      "  self._init_dates(dates, freq)\n"
     ]
    },
    {
     "name": "stdout",
     "output_type": "stream",
     "text": [
      "                                  SARIMAX Results                                   \n",
      "====================================================================================\n",
      "Dep. Variable:     Additional_Doses_Vax_Pct   No. Observations:                   56\n",
      "Model:                       ARIMA(1, 0, 0)   Log Likelihood                 -90.299\n",
      "Date:                      Fri, 10 Nov 2023   AIC                            186.599\n",
      "Time:                              14:27:56   BIC                            192.675\n",
      "Sample:                          11-03-2021   HQIC                           188.954\n",
      "                               - 11-23-2022                                         \n",
      "Covariance Type:                        opg                                         \n",
      "==============================================================================\n",
      "                 coef    std err          z      P>|z|      [0.025      0.975]\n",
      "------------------------------------------------------------------------------\n",
      "const         30.5404     21.354      1.430      0.153     -11.313      72.394\n",
      "ar.L1          0.9982      0.023     42.879      0.000       0.953       1.044\n",
      "sigma2         1.3317      0.317      4.204      0.000       0.711       1.953\n",
      "===================================================================================\n",
      "Ljung-Box (L1) (Q):                  32.46   Jarque-Bera (JB):                16.23\n",
      "Prob(Q):                              0.00   Prob(JB):                         0.00\n",
      "Heteroskedasticity (H):               0.01   Skew:                             1.27\n",
      "Prob(H) (two-sided):                  0.00   Kurtosis:                         3.72\n",
      "===================================================================================\n",
      "\n",
      "Warnings:\n",
      "[1] Covariance matrix calculated using the outer product of gradients (complex-step).\n"
     ]
    },
    {
     "data": {
      "image/png": "[encoded data removed]",
      "text/plain": [
       "<Figure size 432x288 with 1 Axes>"
      ]
     },
     "metadata": {
      "needs_background": "light"
     },
     "output_type": "display_data"
    },
    {
     "data": {
      "image/png": "[encoded data removed]",
      "text/plain": [
       "<Figure size 432x288 with 1 Axes>"
      ]
     },
     "metadata": {
      "needs_background": "light"
     },
     "output_type": "display_data"
    },
    {
     "name": "stdout",
     "output_type": "stream",
     "text": [
      "               0\n",
      "count  56.000000\n",
      "mean    0.361033\n",
      "std     2.936190\n",
      "min   -20.207602\n",
      "25%     0.181867\n",
      "50%     0.249572\n",
      "75%     0.818483\n",
      "max     3.004312\n"
     ]
    }
   ],
   "source": [
    "# fit model\n",
    "model = ARIMA(train, order=(1,0,0)) #Lag 1, data stationary, moving average model = 0\n",
    "model_fit = model.fit()\n",
    "# summary of fit model\n",
    "print(model_fit.summary())\n",
    "# line plot of residuals\n",
    "residuals = pd.DataFrame(model_fit.resid)\n",
    "residuals.plot()\n",
    "plt.show()\n",
    "# density plot of residuals\n",
    "residuals.plot(kind='kde')\n",
    "plt.show()\n",
    "# summary stats of residuals\n",
    "print(residuals.describe())"
   ]
  },
  {
   "cell_type": "markdown",
   "id": "2ce67b31",
   "metadata": {},
   "source": [
    "##### The results show that indeed there is a bias in the prediction (a non-zero mean in the residuals)."
   ]
  },
  {
   "cell_type": "code",
   "execution_count": 10,
   "id": "0bacd74e",
   "metadata": {},
   "outputs": [
    {
     "name": "stderr",
     "output_type": "stream",
     "text": [
      "/opt/anaconda3/lib/python3.9/site-packages/statsmodels/tsa/base/tsa_model.py:471: ValueWarning: No frequency information was provided, so inferred frequency W-WED will be used.\n",
      "  self._init_dates(dates, freq)\n",
      "/opt/anaconda3/lib/python3.9/site-packages/statsmodels/tsa/base/tsa_model.py:471: ValueWarning: No frequency information was provided, so inferred frequency W-WED will be used.\n",
      "  self._init_dates(dates, freq)\n",
      "/opt/anaconda3/lib/python3.9/site-packages/statsmodels/tsa/base/tsa_model.py:471: ValueWarning: No frequency information was provided, so inferred frequency W-WED will be used.\n",
      "  self._init_dates(dates, freq)\n"
     ]
    },
    {
     "data": {
      "text/plain": [
       "<matplotlib.legend.Legend at 0x7fbc905d12e0>"
      ]
     },
     "execution_count": 10,
     "metadata": {},
     "output_type": "execute_result"
    },
    {
     "data": {
      "image/png": "[encoded data removed]",
      "text/plain": [
       "<Figure size 1440x576 with 1 Axes>"
      ]
     },
     "metadata": {
      "needs_background": "light"
     },
     "output_type": "display_data"
    }
   ],
   "source": [
    "model = ARIMA(train, order=(1,0,0)) #Lag 1, data stationary, moving average model = 0\n",
    "model = model.fit()\n",
    "train_pred=model.fittedvalues\n",
    "pd.concat([train, train_pred], axis=1).plot(figsize=(20, 8))\n",
    "plt.legend(['train_gt', 'train_pred'])"
   ]
  },
  {
   "cell_type": "markdown",
   "id": "cbebb374",
   "metadata": {},
   "source": [
    "#### train_pred lagging behind train with lag 1"
   ]
  },
  {
   "cell_type": "code",
   "execution_count": 11,
   "id": "994729a5",
   "metadata": {},
   "outputs": [
    {
     "data": {
      "text/plain": [
       "<matplotlib.legend.Legend at 0x7fbca0baf4c0>"
      ]
     },
     "execution_count": 11,
     "metadata": {},
     "output_type": "execute_result"
    },
    {
     "data": {
      "image/png": "[encoded data removed]",
      "text/plain": [
       "<Figure size 432x288 with 1 Axes>"
      ]
     },
     "metadata": {
      "needs_background": "light"
     },
     "output_type": "display_data"
    }
   ],
   "source": [
    "test_pred=model.predict(start=len(train), end=len(train)+len(test)-1, dynamic=True)\n",
    "pd.concat([test, test_pred], axis=1).plot()\n",
    "plt.legend(['test_gt', 'test_pred'])"
   ]
  },
  {
   "cell_type": "code",
   "execution_count": 12,
   "id": "1c61c701",
   "metadata": {},
   "outputs": [
    {
     "name": "stdout",
     "output_type": "stream",
     "text": [
      "predicted=49.701716, expected=49.832813\n",
      "predicted=49.799171, expected=49.964062\n",
      "predicted=49.931125, expected=50.093750\n",
      "predicted=50.061480, expected=50.179688\n",
      "predicted=50.148047, expected=50.251562\n",
      "predicted=50.220514, expected=50.325000\n",
      "predicted=50.294531, expected=50.467188\n",
      "predicted=50.437321, expected=50.531250\n",
      "predicted=50.502043, expected=50.575000\n",
      "predicted=50.546172, expected=50.621875\n",
      "predicted=50.593530, expected=50.667187\n",
      "predicted=50.639320, expected=50.706250\n",
      "predicted=50.678839, expected=50.745312\n",
      "predicted=50.718371, expected=50.767187\n",
      "predicted=50.740640, expected=50.795313\n",
      "predicted=50.769172, expected=50.832813\n",
      "predicted=50.807088, expected=50.857813\n",
      "predicted=50.832481, expected=50.876562\n",
      "predicted=50.851579, expected=50.901562\n",
      "predicted=50.876969, expected=50.951563\n",
      "predicted=50.927319, expected=51.012500\n",
      "predicted=50.988614, expected=51.034375\n",
      "predicted=51.010823, expected=51.064062\n",
      "predicted=51.040841, expected=51.076563\n",
      "Test RMSE: 0.093\n"
     ]
    },
    {
     "data": {
      "image/png": "[encoded data removed]",
      "text/plain": [
       "<Figure size 432x288 with 1 Axes>"
      ]
     },
     "metadata": {
      "needs_background": "light"
     },
     "output_type": "display_data"
    }
   ],
   "source": [
    "X = df.values\n",
    "size = int(len(X) * 0.7)\n",
    "train, test = X[0:size], X[size:len(X)]\n",
    "history = [x for x in train]\n",
    "predictions = list()\n",
    "\n",
    "# walk-forward validation\n",
    "for t in range(len(test)):\n",
    "    model = ARIMA(history, order=(1,0,0))\n",
    "    model_fit = model.fit()\n",
    "    output = model_fit.forecast()\n",
    "    yhat = output[0]\n",
    "    predictions.append(yhat)\n",
    "    obs = test[t]\n",
    "    history.append(obs)\n",
    "    print('predicted=%f, expected=%f' % (yhat, obs))\n",
    "# evaluate forecasts\n",
    "rmse = sqrt(mean_squared_error(test, predictions))\n",
    "print('Test RMSE: %.3f' % rmse)\n",
    "# plot forecasts against actual outcomes\n",
    "plt.plot(test)\n",
    "plt.plot(predictions, color='red')\n",
    "plt.show()"
   ]
  },
  {
   "cell_type": "markdown",
   "id": "c3265fe7",
   "metadata": {},
   "source": [
    "### Tuning ARIMA Model"
   ]
  },
  {
   "cell_type": "code",
   "execution_count": 14,
   "id": "73bca605",
   "metadata": {},
   "outputs": [
    {
     "data": {
      "text/html": [
       "<div>\n",
       "<style scoped>\n",
       "    .dataframe tbody tr th:only-of-type {\n",
       "        vertical-align: middle;\n",
       "    }\n",
       "\n",
       "    .dataframe tbody tr th {\n",
       "        vertical-align: top;\n",
       "    }\n",
       "\n",
       "    .dataframe thead th {\n",
       "        text-align: right;\n",
       "    }\n",
       "</style>\n",
       "<table border=\"1\" class=\"dataframe\">\n",
       "  <thead>\n",
       "    <tr style=\"text-align: right;\">\n",
       "      <th></th>\n",
       "      <th>Additional_Doses_Vax_Pct</th>\n",
       "    </tr>\n",
       "    <tr>\n",
       "      <th>Date</th>\n",
       "      <th></th>\n",
       "    </tr>\n",
       "  </thead>\n",
       "  <tbody>\n",
       "    <tr>\n",
       "      <th>2021-11-03</th>\n",
       "      <td>10.332812</td>\n",
       "    </tr>\n",
       "    <tr>\n",
       "      <th>2021-11-10</th>\n",
       "      <td>13.185937</td>\n",
       "    </tr>\n",
       "    <tr>\n",
       "      <th>2021-11-17</th>\n",
       "      <td>15.871875</td>\n",
       "    </tr>\n",
       "    <tr>\n",
       "      <th>2021-11-24</th>\n",
       "      <td>18.675000</td>\n",
       "    </tr>\n",
       "    <tr>\n",
       "      <th>2021-12-01</th>\n",
       "      <td>20.689062</td>\n",
       "    </tr>\n",
       "  </tbody>\n",
       "</table>\n",
       "</div>"
      ],
      "text/plain": [
       "            Additional_Doses_Vax_Pct\n",
       "Date                                \n",
       "2021-11-03                 10.332812\n",
       "2021-11-10                 13.185937\n",
       "2021-11-17                 15.871875\n",
       "2021-11-24                 18.675000\n",
       "2021-12-01                 20.689062"
      ]
     },
     "execution_count": 14,
     "metadata": {},
     "output_type": "execute_result"
    }
   ],
   "source": [
    "df.head()"
   ]
  },
  {
   "cell_type": "markdown",
   "id": "24af1a9b",
   "metadata": {},
   "source": [
    "1. Split the dataset into training and test sets.\n",
    "2. Walk the time steps in the test dataset.\n",
    "    1. Train an ARIMA model.\n",
    "    2. Make a one-step prediction.\n",
    "    3. Store prediction; get and store actual observation.\n",
    "3. Calculate error score for predictions compared to expected values."
   ]
  },
  {
   "cell_type": "code",
   "execution_count": 15,
   "id": "4e68aae9",
   "metadata": {},
   "outputs": [],
   "source": [
    "def evaluate_arima_model(X, arima_order):\n",
    "    # prepare training dataset\n",
    "    train_size = int(len(X) * 0.70)\n",
    "    train, test = X[0:train_size], X[train_size:]\n",
    "    history = [x for x in train]\n",
    "    # make predictions\n",
    "    predictions = list()\n",
    "    for t in range(len(test)):\n",
    "        model = ARIMA(history, order=arima_order)\n",
    "        model_fit = model.fit()\n",
    "        yhat = model_fit.forecast()[0]\n",
    "        predictions.append(yhat)\n",
    "        history.append(test[t])  \n",
    "    # calculate out of sample error\n",
    "    error = mean_squared_error(test, predictions)\n",
    "    return error"
   ]
  },
  {
   "cell_type": "code",
   "execution_count": 17,
   "id": "02fb849c",
   "metadata": {},
   "outputs": [],
   "source": [
    "import warnings\n",
    "warnings.filterwarnings(\"ignore\")"
   ]
  },
  {
   "cell_type": "code",
   "execution_count": 28,
   "id": "f00f15dd",
   "metadata": {},
   "outputs": [],
   "source": [
    "def evaluate_models(dataset, p_values, d_values, q_values):\n",
    "    dataset = dataset.astype('float32')\n",
    "    best_score, best_cfg = float(\"inf\"), None\n",
    "    for p in p_values:\n",
    "        for d in d_values:\n",
    "            for q in q_values:\n",
    "                order = (p, d, q)\n",
    "                try:\n",
    "                    rmse = evaluate_arima_model(dataset, order)\n",
    "                    if rmse < best_score:\n",
    "                        best_score, best_cfg = rmse, order\n",
    "                    print('ARIMA%s RMSE=%.3f' % (order, rmse))\n",
    "                except:\n",
    "                    continue\n",
    "    print('Best ARIMA%s RMSE=%.3f' % (best_cfg, best_score))"
   ]
  },
  {
   "cell_type": "code",
   "execution_count": 29,
   "id": "de787480",
   "metadata": {},
   "outputs": [
    {
     "name": "stdout",
     "output_type": "stream",
     "text": [
      "ARIMA(0, 0, 0) RMSE=64.354\n",
      "ARIMA(0, 0, 1) RMSE=17.242\n",
      "ARIMA(0, 0, 2) RMSE=5.109\n",
      "ARIMA(0, 1, 0) RMSE=0.004\n",
      "ARIMA(0, 1, 1) RMSE=0.002\n",
      "ARIMA(0, 1, 2) RMSE=0.001\n",
      "ARIMA(0, 2, 0) RMSE=0.001\n",
      "ARIMA(0, 2, 1) RMSE=0.001\n",
      "ARIMA(0, 2, 2) RMSE=0.001\n",
      "ARIMA(1, 0, 0) RMSE=0.009\n",
      "ARIMA(1, 0, 1) RMSE=0.003\n",
      "ARIMA(1, 0, 2) RMSE=0.002\n",
      "ARIMA(1, 1, 0) RMSE=0.001\n",
      "ARIMA(1, 1, 1) RMSE=0.001\n",
      "ARIMA(1, 1, 2) RMSE=0.001\n",
      "ARIMA(1, 2, 0) RMSE=0.001\n",
      "ARIMA(1, 2, 1) RMSE=0.001\n",
      "ARIMA(1, 2, 2) RMSE=0.001\n",
      "ARIMA(2, 0, 0) RMSE=0.003\n",
      "ARIMA(2, 0, 1) RMSE=0.003\n",
      "ARIMA(2, 0, 2) RMSE=0.003\n",
      "ARIMA(2, 1, 0) RMSE=0.001\n",
      "ARIMA(2, 1, 1) RMSE=0.001\n",
      "ARIMA(2, 1, 2) RMSE=0.001\n",
      "ARIMA(2, 2, 0) RMSE=0.001\n",
      "ARIMA(2, 2, 1) RMSE=0.001\n",
      "ARIMA(2, 2, 2) RMSE=0.001\n",
      "ARIMA(3, 0, 0) RMSE=1471.609\n",
      "ARIMA(3, 0, 1) RMSE=0.001\n",
      "ARIMA(3, 0, 2) RMSE=14770.828\n",
      "ARIMA(3, 1, 0) RMSE=0.001\n",
      "ARIMA(3, 1, 1) RMSE=0.001\n",
      "ARIMA(3, 1, 2) RMSE=0.001\n",
      "ARIMA(3, 2, 0) RMSE=0.001\n",
      "ARIMA(3, 2, 1) RMSE=0.001\n",
      "ARIMA(3, 2, 2) RMSE=0.003\n",
      "ARIMA(4, 0, 0) RMSE=0.002\n",
      "ARIMA(4, 0, 1) RMSE=0.001\n",
      "ARIMA(4, 0, 2) RMSE=0.003\n",
      "ARIMA(4, 1, 0) RMSE=0.001\n",
      "ARIMA(4, 1, 1) RMSE=0.001\n",
      "ARIMA(4, 1, 2) RMSE=0.003\n",
      "ARIMA(4, 2, 0) RMSE=0.001\n",
      "ARIMA(4, 2, 1) RMSE=0.001\n",
      "ARIMA(4, 2, 2) RMSE=0.005\n",
      "ARIMA(5, 0, 0) RMSE=0.001\n",
      "ARIMA(5, 0, 1) RMSE=0.001\n",
      "ARIMA(5, 0, 2) RMSE=0.001\n",
      "ARIMA(5, 1, 0) RMSE=0.001\n",
      "ARIMA(5, 1, 1) RMSE=0.001\n",
      "ARIMA(5, 1, 2) RMSE=0.003\n",
      "ARIMA(5, 2, 0) RMSE=0.001\n",
      "ARIMA(5, 2, 1) RMSE=0.001\n",
      "ARIMA(5, 2, 2) RMSE=0.005\n",
      "Best ARIMA(1, 1, 2) RMSE=0.001\n"
     ]
    }
   ],
   "source": [
    "p_values = [0, 1, 2, 3, 4, 5]\n",
    "d_values = range(0, 3)\n",
    "q_values = range(0, 3)\n",
    "warnings.filterwarnings(\"ignore\")\n",
    "evaluate_models(df.values, p_values, d_values, q_values)"
   ]
  },
  {
   "cell_type": "markdown",
   "id": "98bc6661",
   "metadata": {},
   "source": [
    "**Autoregressive (AR) Component (p):**\n",
    "p=1 indicates that the model includes one lag of the dependent variable (current value is regressed on the previous value).\n",
    "The AR component captures the linear relationship between the current value and its previous values.\n",
    "\n",
    "**Differencing Component (d):**\n",
    "d=1 indicates that the time series data has been differenced once. Differencing involves computing the difference between consecutive observations to make the data stationary.\n",
    "The differencing component helps remove trends or seasonality from the time series.\n",
    "\n",
    "**Moving Average (MA) Component (q):**\n",
    "q=2 indicates that the model includes two lagged forecast errors (residuals from previous predictions).\n",
    "The MA component captures the linear relationship between the current value and the residuals from past forecasts.\n",
    "In summary, an ARIMA(1,1,2) model can be described as follows:\n",
    "\n",
    "**It includes one lag of the dependent variable in the autoregressive component.\n",
    "The time series data has been differenced once to achieve stationarity.\n",
    "It includes two lagged forecast errors in the moving average component.**"
   ]
  },
  {
   "cell_type": "code",
   "execution_count": 31,
   "id": "6a5e80b2",
   "metadata": {},
   "outputs": [
    {
     "data": {
      "text/plain": [
       "0.0008754307013686138"
      ]
     },
     "execution_count": 31,
     "metadata": {},
     "output_type": "execute_result"
    }
   ],
   "source": [
    "evaluate_arima_model(df.values, (1, 1, 2))"
   ]
  },
  {
   "cell_type": "markdown",
   "id": "52d0aaee",
   "metadata": {},
   "source": [
    "### ARIMA model RMSE = 0.000875"
   ]
  },
  {
   "cell_type": "markdown",
   "id": "ad3f7a28",
   "metadata": {},
   "source": [
    "# Auto-ARIMA"
   ]
  },
  {
   "cell_type": "code",
   "execution_count": 6,
   "id": "0d1402f2",
   "metadata": {},
   "outputs": [
    {
     "name": "stdout",
     "output_type": "stream",
     "text": [
      "Requirement already satisfied: pmdarima in /opt/anaconda3/lib/python3.9/site-packages (2.0.4)\n",
      "Requirement already satisfied: joblib>=0.11 in /opt/anaconda3/lib/python3.9/site-packages (from pmdarima) (1.1.0)\n",
      "Requirement already satisfied: Cython!=0.29.18,!=0.29.31,>=0.29 in /opt/anaconda3/lib/python3.9/site-packages (from pmdarima) (0.29.28)\n",
      "Requirement already satisfied: numpy>=1.21.2 in /opt/anaconda3/lib/python3.9/site-packages (from pmdarima) (1.21.5)\n",
      "Requirement already satisfied: pandas>=0.19 in /opt/anaconda3/lib/python3.9/site-packages (from pmdarima) (1.4.2)\n",
      "Requirement already satisfied: scikit-learn>=0.22 in /opt/anaconda3/lib/python3.9/site-packages (from pmdarima) (1.0.2)\n",
      "Requirement already satisfied: scipy>=1.3.2 in /opt/anaconda3/lib/python3.9/site-packages (from pmdarima) (1.7.3)\n",
      "Requirement already satisfied: statsmodels>=0.13.2 in /opt/anaconda3/lib/python3.9/site-packages (from pmdarima) (0.13.2)\n",
      "Requirement already satisfied: urllib3 in /opt/anaconda3/lib/python3.9/site-packages (from pmdarima) (1.26.9)\n",
      "Requirement already satisfied: setuptools!=50.0.0,>=38.6.0 in /opt/anaconda3/lib/python3.9/site-packages (from pmdarima) (66.0.0)\n",
      "Requirement already satisfied: packaging>=17.1 in /opt/anaconda3/lib/python3.9/site-packages (from pmdarima) (21.3)\n",
      "Requirement already satisfied: pyparsing!=3.0.5,>=2.0.2 in /opt/anaconda3/lib/python3.9/site-packages (from packaging>=17.1->pmdarima) (3.0.4)\n",
      "Requirement already satisfied: python-dateutil>=2.8.1 in /opt/anaconda3/lib/python3.9/site-packages (from pandas>=0.19->pmdarima) (2.8.2)\n",
      "Requirement already satisfied: pytz>=2020.1 in /opt/anaconda3/lib/python3.9/site-packages (from pandas>=0.19->pmdarima) (2021.3)\n",
      "Requirement already satisfied: threadpoolctl>=2.0.0 in /opt/anaconda3/lib/python3.9/site-packages (from scikit-learn>=0.22->pmdarima) (2.2.0)\n",
      "Requirement already satisfied: patsy>=0.5.2 in /opt/anaconda3/lib/python3.9/site-packages (from statsmodels>=0.13.2->pmdarima) (0.5.2)\n",
      "Requirement already satisfied: six in /opt/anaconda3/lib/python3.9/site-packages (from patsy>=0.5.2->statsmodels>=0.13.2->pmdarima) (1.16.0)\n"
     ]
    }
   ],
   "source": [
    "! pip install pmdarima"
   ]
  },
  {
   "cell_type": "code",
   "execution_count": 7,
   "id": "74ae65d3",
   "metadata": {},
   "outputs": [],
   "source": [
    "from pmdarima.arima import auto_arima"
   ]
  },
  {
   "cell_type": "code",
   "execution_count": 8,
   "id": "4e574ccc",
   "metadata": {},
   "outputs": [
    {
     "data": {
      "text/html": [
       "<div>\n",
       "<style scoped>\n",
       "    .dataframe tbody tr th:only-of-type {\n",
       "        vertical-align: middle;\n",
       "    }\n",
       "\n",
       "    .dataframe tbody tr th {\n",
       "        vertical-align: top;\n",
       "    }\n",
       "\n",
       "    .dataframe thead th {\n",
       "        text-align: right;\n",
       "    }\n",
       "</style>\n",
       "<table border=\"1\" class=\"dataframe\">\n",
       "  <thead>\n",
       "    <tr style=\"text-align: right;\">\n",
       "      <th></th>\n",
       "      <th>Additional_Doses_Vax_Pct</th>\n",
       "    </tr>\n",
       "    <tr>\n",
       "      <th>Date</th>\n",
       "      <th></th>\n",
       "    </tr>\n",
       "  </thead>\n",
       "  <tbody>\n",
       "    <tr>\n",
       "      <th>2021-11-03</th>\n",
       "      <td>10.332812</td>\n",
       "    </tr>\n",
       "    <tr>\n",
       "      <th>2021-11-10</th>\n",
       "      <td>13.185937</td>\n",
       "    </tr>\n",
       "    <tr>\n",
       "      <th>2021-11-17</th>\n",
       "      <td>15.871875</td>\n",
       "    </tr>\n",
       "    <tr>\n",
       "      <th>2021-11-24</th>\n",
       "      <td>18.675000</td>\n",
       "    </tr>\n",
       "    <tr>\n",
       "      <th>2021-12-01</th>\n",
       "      <td>20.689062</td>\n",
       "    </tr>\n",
       "  </tbody>\n",
       "</table>\n",
       "</div>"
      ],
      "text/plain": [
       "            Additional_Doses_Vax_Pct\n",
       "Date                                \n",
       "2021-11-03                 10.332812\n",
       "2021-11-10                 13.185937\n",
       "2021-11-17                 15.871875\n",
       "2021-11-24                 18.675000\n",
       "2021-12-01                 20.689062"
      ]
     },
     "execution_count": 8,
     "metadata": {},
     "output_type": "execute_result"
    }
   ],
   "source": [
    "df.head()"
   ]
  },
  {
   "cell_type": "code",
   "execution_count": 9,
   "id": "3ae5dba5",
   "metadata": {},
   "outputs": [
    {
     "data": {
      "text/plain": [
       "<AxesSubplot:xlabel='Date'>"
      ]
     },
     "execution_count": 9,
     "metadata": {},
     "output_type": "execute_result"
    },
    {
     "data": {
      "image/png": "[encoded data removed]",
      "text/plain": [
       "<Figure size 432x288 with 1 Axes>"
      ]
     },
     "metadata": {
      "needs_background": "light"
     },
     "output_type": "display_data"
    }
   ],
   "source": [
    "df.plot()"
   ]
  },
  {
   "cell_type": "code",
   "execution_count": 10,
   "id": "e021a185",
   "metadata": {},
   "outputs": [
    {
     "name": "stdout",
     "output_type": "stream",
     "text": [
      "(56, 1) (24, 1)\n"
     ]
    }
   ],
   "source": [
    "train_size = int(0.7 * len(df))  # 70% training data, 30% testing data\n",
    "train = df[:train_size]\n",
    "test = df[train_size:]\n",
    "\n",
    "print(train.shape, test.shape) # 70-30 train split"
   ]
  },
  {
   "cell_type": "code",
   "execution_count": 11,
   "id": "ca97647e",
   "metadata": {},
   "outputs": [
    {
     "name": "stdout",
     "output_type": "stream",
     "text": [
      "Performing stepwise search to minimize aic\n",
      " ARIMA(0,1,0)(0,1,0)[12]             : AIC=126.033, Time=0.03 sec\n",
      " ARIMA(1,1,0)(0,1,0)[12]             : AIC=29.539, Time=0.04 sec\n",
      " ARIMA(0,1,1)(0,1,0)[12]             : AIC=92.610, Time=0.04 sec\n",
      " ARIMA(2,1,0)(0,1,0)[12]             : AIC=28.267, Time=0.07 sec\n",
      " ARIMA(3,1,0)(0,1,0)[12]             : AIC=30.267, Time=0.07 sec\n",
      " ARIMA(2,1,1)(0,1,0)[12]             : AIC=30.267, Time=0.07 sec\n",
      " ARIMA(1,1,1)(0,1,0)[12]             : AIC=28.498, Time=0.06 sec\n",
      " ARIMA(3,1,1)(0,1,0)[12]             : AIC=32.041, Time=0.18 sec\n",
      " ARIMA(2,1,0)(0,1,0)[12] intercept   : AIC=29.303, Time=0.08 sec\n",
      "\n",
      "Best model:  ARIMA(2,1,0)(0,1,0)[12]          \n",
      "Total fit time: 0.643 seconds\n",
      "28.26733521672162\n"
     ]
    }
   ],
   "source": [
    "# auto-arima model\n",
    "import warnings\n",
    "warnings.filterwarnings(\"ignore\")\n",
    "model = auto_arima(train, start_p=0, d=1, start_q=0, max_p=5, max_d=5, max_q=5, D=1,\n",
    "                   start_P=0, start_Q=0, max_P=0, max_Q=0, max_D=0, m=12, seasonal=True,\n",
    "                    trace=True, error_action='ignore', suppress_warnings=True, stepwise=True,\n",
    "                  random_state=42)\n",
    "print(model.aic())"
   ]
  },
  {
   "cell_type": "code",
   "execution_count": 12,
   "id": "ba12d543",
   "metadata": {},
   "outputs": [
    {
     "name": "stdout",
     "output_type": "stream",
     "text": [
      "1.6103684605049837\n"
     ]
    }
   ],
   "source": [
    "forecast = model.predict(n_periods=len(test))\n",
    "forecast = pd.DataFrame(forecast,index = test.index, columns=['Additional_Doses_Vax_Pct'])\n",
    "rms = sqrt(mean_squared_error(test,forecast))\n",
    "print(rms)"
   ]
  },
  {
   "cell_type": "markdown",
   "id": "be6cfcf9",
   "metadata": {},
   "source": [
    "### Tuning AUTO-ARIMA Model"
   ]
  },
  {
   "cell_type": "code",
   "execution_count": 27,
   "id": "c1b22849",
   "metadata": {},
   "outputs": [],
   "source": [
    "from itertools import product\n",
    "p_values = range(0, 3)  # Replace with appropriate range\n",
    "d_values = range(0, 3)  # Replace with appropriate range\n",
    "q_values = range(0, 3)  # Replace with appropriate range\n",
    "P_values = range(0, 3)  # Replace with appropriate range\n",
    "D_values = range(0, 3)  # Replace with appropriate range\n",
    "Q_values = range(0, 3)  # Replace with appropriate range\n",
    "\n",
    "hyperparameters_grid = list(product(p_values, d_values, q_values, P_values, D_values, Q_values))"
   ]
  },
  {
   "cell_type": "code",
   "execution_count": null,
   "id": "5794ac24",
   "metadata": {},
   "outputs": [
    {
     "name": "stderr",
     "output_type": "stream",
     "text": [
      "/opt/anaconda3/lib/python3.9/site-packages/statsmodels/tsa/statespace/sarimax.py:1899: RuntimeWarning: invalid value encountered in reciprocal\n",
      "  return np.roots(self.polynomial_reduced_ar)**-1\n",
      "/opt/anaconda3/lib/python3.9/site-packages/statsmodels/tsa/statespace/sarimax.py:1899: RuntimeWarning: invalid value encountered in reciprocal\n",
      "  return np.roots(self.polynomial_reduced_ar)**-1\n",
      "/opt/anaconda3/lib/python3.9/site-packages/statsmodels/tsa/statespace/sarimax.py:1906: RuntimeWarning: invalid value encountered in reciprocal\n",
      "  return np.roots(self.polynomial_reduced_ma)**-1\n",
      "/opt/anaconda3/lib/python3.9/site-packages/statsmodels/tsa/statespace/sarimax.py:1906: RuntimeWarning: invalid value encountered in reciprocal\n",
      "  return np.roots(self.polynomial_reduced_ma)**-1\n",
      "/opt/anaconda3/lib/python3.9/site-packages/statsmodels/tsa/statespace/sarimax.py:1906: RuntimeWarning: invalid value encountered in reciprocal\n",
      "  return np.roots(self.polynomial_reduced_ma)**-1\n",
      "/opt/anaconda3/lib/python3.9/site-packages/statsmodels/tsa/statespace/sarimax.py:1899: RuntimeWarning: invalid value encountered in reciprocal\n",
      "  return np.roots(self.polynomial_reduced_ar)**-1\n",
      "/opt/anaconda3/lib/python3.9/site-packages/statsmodels/tsa/statespace/sarimax.py:1899: RuntimeWarning: invalid value encountered in reciprocal\n",
      "  return np.roots(self.polynomial_reduced_ar)**-1\n",
      "/opt/anaconda3/lib/python3.9/site-packages/statsmodels/tsa/statespace/sarimax.py:1899: RuntimeWarning: invalid value encountered in reciprocal\n",
      "  return np.roots(self.polynomial_reduced_ar)**-1\n",
      "/opt/anaconda3/lib/python3.9/site-packages/statsmodels/tsa/statespace/sarimax.py:1906: RuntimeWarning: invalid value encountered in reciprocal\n",
      "  return np.roots(self.polynomial_reduced_ma)**-1\n",
      "/opt/anaconda3/lib/python3.9/site-packages/statsmodels/tsa/statespace/sarimax.py:1906: RuntimeWarning: invalid value encountered in reciprocal\n",
      "  return np.roots(self.polynomial_reduced_ma)**-1\n",
      "/opt/anaconda3/lib/python3.9/site-packages/statsmodels/tsa/statespace/sarimax.py:1906: RuntimeWarning: invalid value encountered in reciprocal\n",
      "  return np.roots(self.polynomial_reduced_ma)**-1\n",
      "/opt/anaconda3/lib/python3.9/site-packages/statsmodels/tsa/statespace/sarimax.py:1899: RuntimeWarning: invalid value encountered in reciprocal\n",
      "  return np.roots(self.polynomial_reduced_ar)**-1\n",
      "/opt/anaconda3/lib/python3.9/site-packages/statsmodels/tsa/statespace/sarimax.py:1906: RuntimeWarning: invalid value encountered in reciprocal\n",
      "  return np.roots(self.polynomial_reduced_ma)**-1\n"
     ]
    },
    {
     "name": "stdout",
     "output_type": "stream",
     "text": [
      "Hyperparameters: (0, 0, 0, 0, 0, 0), RMSE: 5.846\n"
     ]
    },
    {
     "name": "stderr",
     "output_type": "stream",
     "text": [
      "/opt/anaconda3/lib/python3.9/site-packages/statsmodels/tsa/statespace/sarimax.py:1899: RuntimeWarning: invalid value encountered in reciprocal\n",
      "  return np.roots(self.polynomial_reduced_ar)**-1\n",
      "/opt/anaconda3/lib/python3.9/site-packages/statsmodels/tsa/statespace/sarimax.py:1899: RuntimeWarning: invalid value encountered in reciprocal\n",
      "  return np.roots(self.polynomial_reduced_ar)**-1\n",
      "/opt/anaconda3/lib/python3.9/site-packages/statsmodels/tsa/statespace/sarimax.py:1906: RuntimeWarning: invalid value encountered in reciprocal\n",
      "  return np.roots(self.polynomial_reduced_ma)**-1\n",
      "/opt/anaconda3/lib/python3.9/site-packages/statsmodels/tsa/statespace/sarimax.py:1906: RuntimeWarning: invalid value encountered in reciprocal\n",
      "  return np.roots(self.polynomial_reduced_ma)**-1\n",
      "/opt/anaconda3/lib/python3.9/site-packages/statsmodels/tsa/statespace/sarimax.py:1906: RuntimeWarning: invalid value encountered in reciprocal\n",
      "  return np.roots(self.polynomial_reduced_ma)**-1\n",
      "/opt/anaconda3/lib/python3.9/site-packages/statsmodels/tsa/statespace/sarimax.py:1899: RuntimeWarning: invalid value encountered in reciprocal\n",
      "  return np.roots(self.polynomial_reduced_ar)**-1\n",
      "/opt/anaconda3/lib/python3.9/site-packages/statsmodels/tsa/statespace/sarimax.py:1899: RuntimeWarning: invalid value encountered in reciprocal\n",
      "  return np.roots(self.polynomial_reduced_ar)**-1\n",
      "/opt/anaconda3/lib/python3.9/site-packages/statsmodels/tsa/statespace/sarimax.py:1899: RuntimeWarning: invalid value encountered in reciprocal\n",
      "  return np.roots(self.polynomial_reduced_ar)**-1\n",
      "/opt/anaconda3/lib/python3.9/site-packages/statsmodels/tsa/statespace/sarimax.py:1906: RuntimeWarning: invalid value encountered in reciprocal\n",
      "  return np.roots(self.polynomial_reduced_ma)**-1\n",
      "/opt/anaconda3/lib/python3.9/site-packages/statsmodels/tsa/statespace/sarimax.py:1906: RuntimeWarning: invalid value encountered in reciprocal\n",
      "  return np.roots(self.polynomial_reduced_ma)**-1\n",
      "/opt/anaconda3/lib/python3.9/site-packages/statsmodels/tsa/statespace/sarimax.py:1906: RuntimeWarning: invalid value encountered in reciprocal\n",
      "  return np.roots(self.polynomial_reduced_ma)**-1\n",
      "/opt/anaconda3/lib/python3.9/site-packages/statsmodels/tsa/statespace/sarimax.py:1899: RuntimeWarning: invalid value encountered in reciprocal\n",
      "  return np.roots(self.polynomial_reduced_ar)**-1\n",
      "/opt/anaconda3/lib/python3.9/site-packages/statsmodels/tsa/statespace/sarimax.py:1906: RuntimeWarning: invalid value encountered in reciprocal\n",
      "  return np.roots(self.polynomial_reduced_ma)**-1\n"
     ]
    },
    {
     "name": "stdout",
     "output_type": "stream",
     "text": [
      "Hyperparameters: (0, 0, 0, 0, 0, 1), RMSE: 5.846\n"
     ]
    },
    {
     "name": "stderr",
     "output_type": "stream",
     "text": [
      "/opt/anaconda3/lib/python3.9/site-packages/statsmodels/tsa/statespace/sarimax.py:1899: RuntimeWarning: invalid value encountered in reciprocal\n",
      "  return np.roots(self.polynomial_reduced_ar)**-1\n",
      "/opt/anaconda3/lib/python3.9/site-packages/statsmodels/tsa/statespace/sarimax.py:1899: RuntimeWarning: invalid value encountered in reciprocal\n",
      "  return np.roots(self.polynomial_reduced_ar)**-1\n",
      "/opt/anaconda3/lib/python3.9/site-packages/statsmodels/tsa/statespace/sarimax.py:1906: RuntimeWarning: invalid value encountered in reciprocal\n",
      "  return np.roots(self.polynomial_reduced_ma)**-1\n",
      "/opt/anaconda3/lib/python3.9/site-packages/statsmodels/tsa/statespace/sarimax.py:1906: RuntimeWarning: invalid value encountered in reciprocal\n",
      "  return np.roots(self.polynomial_reduced_ma)**-1\n",
      "/opt/anaconda3/lib/python3.9/site-packages/statsmodels/tsa/statespace/sarimax.py:1906: RuntimeWarning: invalid value encountered in reciprocal\n",
      "  return np.roots(self.polynomial_reduced_ma)**-1\n",
      "/opt/anaconda3/lib/python3.9/site-packages/statsmodels/tsa/statespace/sarimax.py:1899: RuntimeWarning: invalid value encountered in reciprocal\n",
      "  return np.roots(self.polynomial_reduced_ar)**-1\n",
      "/opt/anaconda3/lib/python3.9/site-packages/statsmodels/tsa/statespace/sarimax.py:1899: RuntimeWarning: invalid value encountered in reciprocal\n",
      "  return np.roots(self.polynomial_reduced_ar)**-1\n",
      "/opt/anaconda3/lib/python3.9/site-packages/statsmodels/tsa/statespace/sarimax.py:1899: RuntimeWarning: invalid value encountered in reciprocal\n",
      "  return np.roots(self.polynomial_reduced_ar)**-1\n",
      "/opt/anaconda3/lib/python3.9/site-packages/statsmodels/tsa/statespace/sarimax.py:1906: RuntimeWarning: invalid value encountered in reciprocal\n",
      "  return np.roots(self.polynomial_reduced_ma)**-1\n",
      "/opt/anaconda3/lib/python3.9/site-packages/statsmodels/tsa/statespace/sarimax.py:1906: RuntimeWarning: invalid value encountered in reciprocal\n",
      "  return np.roots(self.polynomial_reduced_ma)**-1\n",
      "/opt/anaconda3/lib/python3.9/site-packages/statsmodels/tsa/statespace/sarimax.py:1906: RuntimeWarning: invalid value encountered in reciprocal\n",
      "  return np.roots(self.polynomial_reduced_ma)**-1\n",
      "/opt/anaconda3/lib/python3.9/site-packages/statsmodels/tsa/statespace/sarimax.py:1899: RuntimeWarning: invalid value encountered in reciprocal\n",
      "  return np.roots(self.polynomial_reduced_ar)**-1\n",
      "/opt/anaconda3/lib/python3.9/site-packages/statsmodels/tsa/statespace/sarimax.py:1906: RuntimeWarning: invalid value encountered in reciprocal\n",
      "  return np.roots(self.polynomial_reduced_ma)**-1\n"
     ]
    },
    {
     "name": "stdout",
     "output_type": "stream",
     "text": [
      "Hyperparameters: (0, 0, 0, 0, 0, 2), RMSE: 5.846\n"
     ]
    },
    {
     "name": "stderr",
     "output_type": "stream",
     "text": [
      "/opt/anaconda3/lib/python3.9/site-packages/statsmodels/tsa/statespace/sarimax.py:1899: RuntimeWarning: invalid value encountered in reciprocal\n",
      "  return np.roots(self.polynomial_reduced_ar)**-1\n",
      "/opt/anaconda3/lib/python3.9/site-packages/statsmodels/tsa/statespace/sarimax.py:1899: RuntimeWarning: invalid value encountered in reciprocal\n",
      "  return np.roots(self.polynomial_reduced_ar)**-1\n",
      "/opt/anaconda3/lib/python3.9/site-packages/statsmodels/tsa/statespace/sarimax.py:1906: RuntimeWarning: invalid value encountered in reciprocal\n",
      "  return np.roots(self.polynomial_reduced_ma)**-1\n",
      "/opt/anaconda3/lib/python3.9/site-packages/statsmodels/tsa/statespace/sarimax.py:1906: RuntimeWarning: invalid value encountered in reciprocal\n",
      "  return np.roots(self.polynomial_reduced_ma)**-1\n",
      "/opt/anaconda3/lib/python3.9/site-packages/statsmodels/tsa/statespace/sarimax.py:1906: RuntimeWarning: invalid value encountered in reciprocal\n",
      "  return np.roots(self.polynomial_reduced_ma)**-1\n",
      "/opt/anaconda3/lib/python3.9/site-packages/statsmodels/tsa/statespace/sarimax.py:1899: RuntimeWarning: invalid value encountered in reciprocal\n",
      "  return np.roots(self.polynomial_reduced_ar)**-1\n",
      "/opt/anaconda3/lib/python3.9/site-packages/statsmodels/tsa/statespace/sarimax.py:1899: RuntimeWarning: invalid value encountered in reciprocal\n",
      "  return np.roots(self.polynomial_reduced_ar)**-1\n",
      "/opt/anaconda3/lib/python3.9/site-packages/statsmodels/tsa/statespace/sarimax.py:1899: RuntimeWarning: invalid value encountered in reciprocal\n",
      "  return np.roots(self.polynomial_reduced_ar)**-1\n",
      "/opt/anaconda3/lib/python3.9/site-packages/statsmodels/tsa/statespace/sarimax.py:1906: RuntimeWarning: invalid value encountered in reciprocal\n",
      "  return np.roots(self.polynomial_reduced_ma)**-1\n",
      "/opt/anaconda3/lib/python3.9/site-packages/statsmodels/tsa/statespace/sarimax.py:1906: RuntimeWarning: invalid value encountered in reciprocal\n",
      "  return np.roots(self.polynomial_reduced_ma)**-1\n",
      "/opt/anaconda3/lib/python3.9/site-packages/statsmodels/tsa/statespace/sarimax.py:1906: RuntimeWarning: invalid value encountered in reciprocal\n",
      "  return np.roots(self.polynomial_reduced_ma)**-1\n",
      "/opt/anaconda3/lib/python3.9/site-packages/statsmodels/tsa/statespace/sarimax.py:1899: RuntimeWarning: invalid value encountered in reciprocal\n",
      "  return np.roots(self.polynomial_reduced_ar)**-1\n",
      "/opt/anaconda3/lib/python3.9/site-packages/statsmodels/tsa/statespace/sarimax.py:1906: RuntimeWarning: invalid value encountered in reciprocal\n",
      "  return np.roots(self.polynomial_reduced_ma)**-1\n"
     ]
    },
    {
     "name": "stdout",
     "output_type": "stream",
     "text": [
      "Hyperparameters: (0, 0, 0, 0, 1, 0), RMSE: 5.846\n"
     ]
    },
    {
     "name": "stderr",
     "output_type": "stream",
     "text": [
      "/opt/anaconda3/lib/python3.9/site-packages/statsmodels/tsa/statespace/sarimax.py:1899: RuntimeWarning: invalid value encountered in reciprocal\n",
      "  return np.roots(self.polynomial_reduced_ar)**-1\n",
      "/opt/anaconda3/lib/python3.9/site-packages/statsmodels/tsa/statespace/sarimax.py:1899: RuntimeWarning: invalid value encountered in reciprocal\n",
      "  return np.roots(self.polynomial_reduced_ar)**-1\n",
      "/opt/anaconda3/lib/python3.9/site-packages/statsmodels/tsa/statespace/sarimax.py:1906: RuntimeWarning: invalid value encountered in reciprocal\n",
      "  return np.roots(self.polynomial_reduced_ma)**-1\n",
      "/opt/anaconda3/lib/python3.9/site-packages/statsmodels/tsa/statespace/sarimax.py:1906: RuntimeWarning: invalid value encountered in reciprocal\n",
      "  return np.roots(self.polynomial_reduced_ma)**-1\n",
      "/opt/anaconda3/lib/python3.9/site-packages/statsmodels/tsa/statespace/sarimax.py:1906: RuntimeWarning: invalid value encountered in reciprocal\n",
      "  return np.roots(self.polynomial_reduced_ma)**-1\n",
      "/opt/anaconda3/lib/python3.9/site-packages/statsmodels/tsa/statespace/sarimax.py:1899: RuntimeWarning: invalid value encountered in reciprocal\n",
      "  return np.roots(self.polynomial_reduced_ar)**-1\n",
      "/opt/anaconda3/lib/python3.9/site-packages/statsmodels/tsa/statespace/sarimax.py:1899: RuntimeWarning: invalid value encountered in reciprocal\n",
      "  return np.roots(self.polynomial_reduced_ar)**-1\n",
      "/opt/anaconda3/lib/python3.9/site-packages/statsmodels/tsa/statespace/sarimax.py:1899: RuntimeWarning: invalid value encountered in reciprocal\n",
      "  return np.roots(self.polynomial_reduced_ar)**-1\n",
      "/opt/anaconda3/lib/python3.9/site-packages/statsmodels/tsa/statespace/sarimax.py:1906: RuntimeWarning: invalid value encountered in reciprocal\n",
      "  return np.roots(self.polynomial_reduced_ma)**-1\n",
      "/opt/anaconda3/lib/python3.9/site-packages/statsmodels/tsa/statespace/sarimax.py:1906: RuntimeWarning: invalid value encountered in reciprocal\n",
      "  return np.roots(self.polynomial_reduced_ma)**-1\n",
      "/opt/anaconda3/lib/python3.9/site-packages/statsmodels/tsa/statespace/sarimax.py:1906: RuntimeWarning: invalid value encountered in reciprocal\n",
      "  return np.roots(self.polynomial_reduced_ma)**-1\n",
      "/opt/anaconda3/lib/python3.9/site-packages/statsmodels/tsa/statespace/sarimax.py:1899: RuntimeWarning: invalid value encountered in reciprocal\n",
      "  return np.roots(self.polynomial_reduced_ar)**-1\n",
      "/opt/anaconda3/lib/python3.9/site-packages/statsmodels/tsa/statespace/sarimax.py:1906: RuntimeWarning: invalid value encountered in reciprocal\n",
      "  return np.roots(self.polynomial_reduced_ma)**-1\n"
     ]
    },
    {
     "name": "stdout",
     "output_type": "stream",
     "text": [
      "Hyperparameters: (0, 0, 0, 0, 1, 2), RMSE: 5.846\n"
     ]
    },
    {
     "name": "stderr",
     "output_type": "stream",
     "text": [
      "/opt/anaconda3/lib/python3.9/site-packages/statsmodels/tsa/statespace/sarimax.py:1899: RuntimeWarning: invalid value encountered in reciprocal\n",
      "  return np.roots(self.polynomial_reduced_ar)**-1\n",
      "/opt/anaconda3/lib/python3.9/site-packages/statsmodels/tsa/statespace/sarimax.py:1899: RuntimeWarning: invalid value encountered in reciprocal\n",
      "  return np.roots(self.polynomial_reduced_ar)**-1\n",
      "/opt/anaconda3/lib/python3.9/site-packages/statsmodels/tsa/statespace/sarimax.py:1906: RuntimeWarning: invalid value encountered in reciprocal\n",
      "  return np.roots(self.polynomial_reduced_ma)**-1\n",
      "/opt/anaconda3/lib/python3.9/site-packages/statsmodels/tsa/statespace/sarimax.py:1906: RuntimeWarning: invalid value encountered in reciprocal\n",
      "  return np.roots(self.polynomial_reduced_ma)**-1\n",
      "/opt/anaconda3/lib/python3.9/site-packages/statsmodels/tsa/statespace/sarimax.py:1906: RuntimeWarning: invalid value encountered in reciprocal\n",
      "  return np.roots(self.polynomial_reduced_ma)**-1\n",
      "/opt/anaconda3/lib/python3.9/site-packages/statsmodels/tsa/statespace/sarimax.py:1899: RuntimeWarning: invalid value encountered in reciprocal\n",
      "  return np.roots(self.polynomial_reduced_ar)**-1\n",
      "/opt/anaconda3/lib/python3.9/site-packages/statsmodels/tsa/statespace/sarimax.py:1899: RuntimeWarning: invalid value encountered in reciprocal\n",
      "  return np.roots(self.polynomial_reduced_ar)**-1\n",
      "/opt/anaconda3/lib/python3.9/site-packages/statsmodels/tsa/statespace/sarimax.py:1899: RuntimeWarning: invalid value encountered in reciprocal\n",
      "  return np.roots(self.polynomial_reduced_ar)**-1\n",
      "/opt/anaconda3/lib/python3.9/site-packages/statsmodels/tsa/statespace/sarimax.py:1906: RuntimeWarning: invalid value encountered in reciprocal\n",
      "  return np.roots(self.polynomial_reduced_ma)**-1\n",
      "/opt/anaconda3/lib/python3.9/site-packages/statsmodels/tsa/statespace/sarimax.py:1906: RuntimeWarning: invalid value encountered in reciprocal\n",
      "  return np.roots(self.polynomial_reduced_ma)**-1\n",
      "/opt/anaconda3/lib/python3.9/site-packages/statsmodels/tsa/statespace/sarimax.py:1906: RuntimeWarning: invalid value encountered in reciprocal\n",
      "  return np.roots(self.polynomial_reduced_ma)**-1\n",
      "/opt/anaconda3/lib/python3.9/site-packages/statsmodels/tsa/statespace/sarimax.py:1899: RuntimeWarning: invalid value encountered in reciprocal\n",
      "  return np.roots(self.polynomial_reduced_ar)**-1\n",
      "/opt/anaconda3/lib/python3.9/site-packages/statsmodels/tsa/statespace/sarimax.py:1906: RuntimeWarning: invalid value encountered in reciprocal\n",
      "  return np.roots(self.polynomial_reduced_ma)**-1\n"
     ]
    },
    {
     "name": "stdout",
     "output_type": "stream",
     "text": [
      "Hyperparameters: (0, 0, 0, 0, 2, 0), RMSE: 5.846\n"
     ]
    },
    {
     "name": "stderr",
     "output_type": "stream",
     "text": [
      "/opt/anaconda3/lib/python3.9/site-packages/statsmodels/tsa/statespace/sarimax.py:1899: RuntimeWarning: invalid value encountered in reciprocal\n",
      "  return np.roots(self.polynomial_reduced_ar)**-1\n",
      "/opt/anaconda3/lib/python3.9/site-packages/statsmodels/tsa/statespace/sarimax.py:1899: RuntimeWarning: invalid value encountered in reciprocal\n",
      "  return np.roots(self.polynomial_reduced_ar)**-1\n",
      "/opt/anaconda3/lib/python3.9/site-packages/statsmodels/tsa/statespace/sarimax.py:1906: RuntimeWarning: invalid value encountered in reciprocal\n",
      "  return np.roots(self.polynomial_reduced_ma)**-1\n",
      "/opt/anaconda3/lib/python3.9/site-packages/statsmodels/tsa/statespace/sarimax.py:1906: RuntimeWarning: invalid value encountered in reciprocal\n",
      "  return np.roots(self.polynomial_reduced_ma)**-1\n",
      "/opt/anaconda3/lib/python3.9/site-packages/statsmodels/tsa/statespace/sarimax.py:1906: RuntimeWarning: invalid value encountered in reciprocal\n",
      "  return np.roots(self.polynomial_reduced_ma)**-1\n",
      "/opt/anaconda3/lib/python3.9/site-packages/statsmodels/tsa/statespace/sarimax.py:1899: RuntimeWarning: invalid value encountered in reciprocal\n",
      "  return np.roots(self.polynomial_reduced_ar)**-1\n",
      "/opt/anaconda3/lib/python3.9/site-packages/statsmodels/tsa/statespace/sarimax.py:1899: RuntimeWarning: invalid value encountered in reciprocal\n",
      "  return np.roots(self.polynomial_reduced_ar)**-1\n",
      "/opt/anaconda3/lib/python3.9/site-packages/statsmodels/tsa/statespace/sarimax.py:1899: RuntimeWarning: invalid value encountered in reciprocal\n",
      "  return np.roots(self.polynomial_reduced_ar)**-1\n",
      "/opt/anaconda3/lib/python3.9/site-packages/statsmodels/tsa/statespace/sarimax.py:1906: RuntimeWarning: invalid value encountered in reciprocal\n",
      "  return np.roots(self.polynomial_reduced_ma)**-1\n",
      "/opt/anaconda3/lib/python3.9/site-packages/statsmodels/tsa/statespace/sarimax.py:1906: RuntimeWarning: invalid value encountered in reciprocal\n",
      "  return np.roots(self.polynomial_reduced_ma)**-1\n",
      "/opt/anaconda3/lib/python3.9/site-packages/statsmodels/tsa/statespace/sarimax.py:1906: RuntimeWarning: invalid value encountered in reciprocal\n",
      "  return np.roots(self.polynomial_reduced_ma)**-1\n",
      "/opt/anaconda3/lib/python3.9/site-packages/statsmodels/tsa/statespace/sarimax.py:1899: RuntimeWarning: invalid value encountered in reciprocal\n",
      "  return np.roots(self.polynomial_reduced_ar)**-1\n",
      "/opt/anaconda3/lib/python3.9/site-packages/statsmodels/tsa/statespace/sarimax.py:1906: RuntimeWarning: invalid value encountered in reciprocal\n",
      "  return np.roots(self.polynomial_reduced_ma)**-1\n"
     ]
    },
    {
     "name": "stdout",
     "output_type": "stream",
     "text": [
      "Hyperparameters: (0, 0, 0, 0, 2, 1), RMSE: 5.846\n"
     ]
    },
    {
     "name": "stderr",
     "output_type": "stream",
     "text": [
      "/opt/anaconda3/lib/python3.9/site-packages/statsmodels/tsa/statespace/sarimax.py:1899: RuntimeWarning: invalid value encountered in reciprocal\n",
      "  return np.roots(self.polynomial_reduced_ar)**-1\n",
      "/opt/anaconda3/lib/python3.9/site-packages/statsmodels/tsa/statespace/sarimax.py:1899: RuntimeWarning: invalid value encountered in reciprocal\n",
      "  return np.roots(self.polynomial_reduced_ar)**-1\n",
      "/opt/anaconda3/lib/python3.9/site-packages/statsmodels/tsa/statespace/sarimax.py:1906: RuntimeWarning: invalid value encountered in reciprocal\n",
      "  return np.roots(self.polynomial_reduced_ma)**-1\n",
      "/opt/anaconda3/lib/python3.9/site-packages/statsmodels/tsa/statespace/sarimax.py:1906: RuntimeWarning: invalid value encountered in reciprocal\n",
      "  return np.roots(self.polynomial_reduced_ma)**-1\n",
      "/opt/anaconda3/lib/python3.9/site-packages/statsmodels/tsa/statespace/sarimax.py:1906: RuntimeWarning: invalid value encountered in reciprocal\n",
      "  return np.roots(self.polynomial_reduced_ma)**-1\n",
      "/opt/anaconda3/lib/python3.9/site-packages/statsmodels/tsa/statespace/sarimax.py:1899: RuntimeWarning: invalid value encountered in reciprocal\n",
      "  return np.roots(self.polynomial_reduced_ar)**-1\n",
      "/opt/anaconda3/lib/python3.9/site-packages/statsmodels/tsa/statespace/sarimax.py:1899: RuntimeWarning: invalid value encountered in reciprocal\n",
      "  return np.roots(self.polynomial_reduced_ar)**-1\n",
      "/opt/anaconda3/lib/python3.9/site-packages/statsmodels/tsa/statespace/sarimax.py:1899: RuntimeWarning: invalid value encountered in reciprocal\n",
      "  return np.roots(self.polynomial_reduced_ar)**-1\n",
      "/opt/anaconda3/lib/python3.9/site-packages/statsmodels/tsa/statespace/sarimax.py:1906: RuntimeWarning: invalid value encountered in reciprocal\n",
      "  return np.roots(self.polynomial_reduced_ma)**-1\n",
      "/opt/anaconda3/lib/python3.9/site-packages/statsmodels/tsa/statespace/sarimax.py:1906: RuntimeWarning: invalid value encountered in reciprocal\n",
      "  return np.roots(self.polynomial_reduced_ma)**-1\n",
      "/opt/anaconda3/lib/python3.9/site-packages/statsmodels/tsa/statespace/sarimax.py:1906: RuntimeWarning: invalid value encountered in reciprocal\n",
      "  return np.roots(self.polynomial_reduced_ma)**-1\n",
      "/opt/anaconda3/lib/python3.9/site-packages/statsmodels/tsa/statespace/sarimax.py:1899: RuntimeWarning: invalid value encountered in reciprocal\n",
      "  return np.roots(self.polynomial_reduced_ar)**-1\n",
      "/opt/anaconda3/lib/python3.9/site-packages/statsmodels/tsa/statespace/sarimax.py:1906: RuntimeWarning: invalid value encountered in reciprocal\n",
      "  return np.roots(self.polynomial_reduced_ma)**-1\n"
     ]
    },
    {
     "name": "stdout",
     "output_type": "stream",
     "text": [
      "Hyperparameters: (0, 0, 0, 0, 2, 2), RMSE: 5.846\n"
     ]
    },
    {
     "name": "stderr",
     "output_type": "stream",
     "text": [
      "/opt/anaconda3/lib/python3.9/site-packages/statsmodels/tsa/statespace/sarimax.py:1899: RuntimeWarning: invalid value encountered in reciprocal\n",
      "  return np.roots(self.polynomial_reduced_ar)**-1\n",
      "/opt/anaconda3/lib/python3.9/site-packages/statsmodels/tsa/statespace/sarimax.py:1899: RuntimeWarning: invalid value encountered in reciprocal\n",
      "  return np.roots(self.polynomial_reduced_ar)**-1\n",
      "/opt/anaconda3/lib/python3.9/site-packages/statsmodels/tsa/statespace/sarimax.py:1906: RuntimeWarning: invalid value encountered in reciprocal\n",
      "  return np.roots(self.polynomial_reduced_ma)**-1\n",
      "/opt/anaconda3/lib/python3.9/site-packages/statsmodels/tsa/statespace/sarimax.py:1906: RuntimeWarning: invalid value encountered in reciprocal\n",
      "  return np.roots(self.polynomial_reduced_ma)**-1\n",
      "/opt/anaconda3/lib/python3.9/site-packages/statsmodels/tsa/statespace/sarimax.py:1906: RuntimeWarning: invalid value encountered in reciprocal\n",
      "  return np.roots(self.polynomial_reduced_ma)**-1\n",
      "/opt/anaconda3/lib/python3.9/site-packages/statsmodels/tsa/statespace/sarimax.py:1899: RuntimeWarning: invalid value encountered in reciprocal\n",
      "  return np.roots(self.polynomial_reduced_ar)**-1\n",
      "/opt/anaconda3/lib/python3.9/site-packages/statsmodels/tsa/statespace/sarimax.py:1899: RuntimeWarning: invalid value encountered in reciprocal\n",
      "  return np.roots(self.polynomial_reduced_ar)**-1\n",
      "/opt/anaconda3/lib/python3.9/site-packages/statsmodels/tsa/statespace/sarimax.py:1899: RuntimeWarning: invalid value encountered in reciprocal\n",
      "  return np.roots(self.polynomial_reduced_ar)**-1\n",
      "/opt/anaconda3/lib/python3.9/site-packages/statsmodels/tsa/statespace/sarimax.py:1906: RuntimeWarning: invalid value encountered in reciprocal\n",
      "  return np.roots(self.polynomial_reduced_ma)**-1\n",
      "/opt/anaconda3/lib/python3.9/site-packages/statsmodels/tsa/statespace/sarimax.py:1906: RuntimeWarning: invalid value encountered in reciprocal\n",
      "  return np.roots(self.polynomial_reduced_ma)**-1\n",
      "/opt/anaconda3/lib/python3.9/site-packages/statsmodels/tsa/statespace/sarimax.py:1906: RuntimeWarning: invalid value encountered in reciprocal\n",
      "  return np.roots(self.polynomial_reduced_ma)**-1\n",
      "/opt/anaconda3/lib/python3.9/site-packages/statsmodels/tsa/statespace/sarimax.py:1899: RuntimeWarning: invalid value encountered in reciprocal\n",
      "  return np.roots(self.polynomial_reduced_ar)**-1\n",
      "/opt/anaconda3/lib/python3.9/site-packages/statsmodels/tsa/statespace/sarimax.py:1906: RuntimeWarning: invalid value encountered in reciprocal\n",
      "  return np.roots(self.polynomial_reduced_ma)**-1\n"
     ]
    },
    {
     "name": "stdout",
     "output_type": "stream",
     "text": [
      "Hyperparameters: (0, 0, 0, 1, 0, 0), RMSE: 5.846\n"
     ]
    },
    {
     "name": "stderr",
     "output_type": "stream",
     "text": [
      "/opt/anaconda3/lib/python3.9/site-packages/statsmodels/tsa/statespace/sarimax.py:1899: RuntimeWarning: invalid value encountered in reciprocal\n",
      "  return np.roots(self.polynomial_reduced_ar)**-1\n",
      "/opt/anaconda3/lib/python3.9/site-packages/statsmodels/tsa/statespace/sarimax.py:1899: RuntimeWarning: invalid value encountered in reciprocal\n",
      "  return np.roots(self.polynomial_reduced_ar)**-1\n",
      "/opt/anaconda3/lib/python3.9/site-packages/statsmodels/tsa/statespace/sarimax.py:1906: RuntimeWarning: invalid value encountered in reciprocal\n",
      "  return np.roots(self.polynomial_reduced_ma)**-1\n",
      "/opt/anaconda3/lib/python3.9/site-packages/statsmodels/tsa/statespace/sarimax.py:1906: RuntimeWarning: invalid value encountered in reciprocal\n",
      "  return np.roots(self.polynomial_reduced_ma)**-1\n",
      "/opt/anaconda3/lib/python3.9/site-packages/statsmodels/tsa/statespace/sarimax.py:1906: RuntimeWarning: invalid value encountered in reciprocal\n",
      "  return np.roots(self.polynomial_reduced_ma)**-1\n",
      "/opt/anaconda3/lib/python3.9/site-packages/statsmodels/tsa/statespace/sarimax.py:1899: RuntimeWarning: invalid value encountered in reciprocal\n",
      "  return np.roots(self.polynomial_reduced_ar)**-1\n",
      "/opt/anaconda3/lib/python3.9/site-packages/statsmodels/tsa/statespace/sarimax.py:1899: RuntimeWarning: invalid value encountered in reciprocal\n",
      "  return np.roots(self.polynomial_reduced_ar)**-1\n",
      "/opt/anaconda3/lib/python3.9/site-packages/statsmodels/tsa/statespace/sarimax.py:1899: RuntimeWarning: invalid value encountered in reciprocal\n",
      "  return np.roots(self.polynomial_reduced_ar)**-1\n",
      "/opt/anaconda3/lib/python3.9/site-packages/statsmodels/tsa/statespace/sarimax.py:1906: RuntimeWarning: invalid value encountered in reciprocal\n",
      "  return np.roots(self.polynomial_reduced_ma)**-1\n",
      "/opt/anaconda3/lib/python3.9/site-packages/statsmodels/tsa/statespace/sarimax.py:1906: RuntimeWarning: invalid value encountered in reciprocal\n",
      "  return np.roots(self.polynomial_reduced_ma)**-1\n",
      "/opt/anaconda3/lib/python3.9/site-packages/statsmodels/tsa/statespace/sarimax.py:1906: RuntimeWarning: invalid value encountered in reciprocal\n",
      "  return np.roots(self.polynomial_reduced_ma)**-1\n",
      "/opt/anaconda3/lib/python3.9/site-packages/statsmodels/tsa/statespace/sarimax.py:1899: RuntimeWarning: invalid value encountered in reciprocal\n",
      "  return np.roots(self.polynomial_reduced_ar)**-1\n",
      "/opt/anaconda3/lib/python3.9/site-packages/statsmodels/tsa/statespace/sarimax.py:1906: RuntimeWarning: invalid value encountered in reciprocal\n",
      "  return np.roots(self.polynomial_reduced_ma)**-1\n"
     ]
    },
    {
     "name": "stdout",
     "output_type": "stream",
     "text": [
      "Hyperparameters: (0, 0, 0, 1, 0, 1), RMSE: 5.846\n"
     ]
    },
    {
     "name": "stderr",
     "output_type": "stream",
     "text": [
      "/opt/anaconda3/lib/python3.9/site-packages/statsmodels/tsa/statespace/sarimax.py:1899: RuntimeWarning: invalid value encountered in reciprocal\n",
      "  return np.roots(self.polynomial_reduced_ar)**-1\n",
      "/opt/anaconda3/lib/python3.9/site-packages/statsmodels/tsa/statespace/sarimax.py:1899: RuntimeWarning: invalid value encountered in reciprocal\n",
      "  return np.roots(self.polynomial_reduced_ar)**-1\n",
      "/opt/anaconda3/lib/python3.9/site-packages/statsmodels/tsa/statespace/sarimax.py:1906: RuntimeWarning: invalid value encountered in reciprocal\n",
      "  return np.roots(self.polynomial_reduced_ma)**-1\n",
      "/opt/anaconda3/lib/python3.9/site-packages/statsmodels/tsa/statespace/sarimax.py:1906: RuntimeWarning: invalid value encountered in reciprocal\n",
      "  return np.roots(self.polynomial_reduced_ma)**-1\n",
      "/opt/anaconda3/lib/python3.9/site-packages/statsmodels/tsa/statespace/sarimax.py:1906: RuntimeWarning: invalid value encountered in reciprocal\n",
      "  return np.roots(self.polynomial_reduced_ma)**-1\n",
      "/opt/anaconda3/lib/python3.9/site-packages/statsmodels/tsa/statespace/sarimax.py:1899: RuntimeWarning: invalid value encountered in reciprocal\n",
      "  return np.roots(self.polynomial_reduced_ar)**-1\n",
      "/opt/anaconda3/lib/python3.9/site-packages/statsmodels/tsa/statespace/sarimax.py:1899: RuntimeWarning: invalid value encountered in reciprocal\n",
      "  return np.roots(self.polynomial_reduced_ar)**-1\n",
      "/opt/anaconda3/lib/python3.9/site-packages/statsmodels/tsa/statespace/sarimax.py:1899: RuntimeWarning: invalid value encountered in reciprocal\n",
      "  return np.roots(self.polynomial_reduced_ar)**-1\n",
      "/opt/anaconda3/lib/python3.9/site-packages/statsmodels/tsa/statespace/sarimax.py:1906: RuntimeWarning: invalid value encountered in reciprocal\n",
      "  return np.roots(self.polynomial_reduced_ma)**-1\n",
      "/opt/anaconda3/lib/python3.9/site-packages/statsmodels/tsa/statespace/sarimax.py:1906: RuntimeWarning: invalid value encountered in reciprocal\n",
      "  return np.roots(self.polynomial_reduced_ma)**-1\n",
      "/opt/anaconda3/lib/python3.9/site-packages/statsmodels/tsa/statespace/sarimax.py:1906: RuntimeWarning: invalid value encountered in reciprocal\n",
      "  return np.roots(self.polynomial_reduced_ma)**-1\n",
      "/opt/anaconda3/lib/python3.9/site-packages/statsmodels/tsa/statespace/sarimax.py:1899: RuntimeWarning: invalid value encountered in reciprocal\n",
      "  return np.roots(self.polynomial_reduced_ar)**-1\n",
      "/opt/anaconda3/lib/python3.9/site-packages/statsmodels/tsa/statespace/sarimax.py:1906: RuntimeWarning: invalid value encountered in reciprocal\n",
      "  return np.roots(self.polynomial_reduced_ma)**-1\n"
     ]
    },
    {
     "name": "stdout",
     "output_type": "stream",
     "text": [
      "Hyperparameters: (0, 0, 0, 1, 0, 2), RMSE: 5.846\n"
     ]
    },
    {
     "name": "stderr",
     "output_type": "stream",
     "text": [
      "/opt/anaconda3/lib/python3.9/site-packages/statsmodels/tsa/statespace/sarimax.py:1899: RuntimeWarning: invalid value encountered in reciprocal\n",
      "  return np.roots(self.polynomial_reduced_ar)**-1\n",
      "/opt/anaconda3/lib/python3.9/site-packages/statsmodels/tsa/statespace/sarimax.py:1899: RuntimeWarning: invalid value encountered in reciprocal\n",
      "  return np.roots(self.polynomial_reduced_ar)**-1\n",
      "/opt/anaconda3/lib/python3.9/site-packages/statsmodels/tsa/statespace/sarimax.py:1906: RuntimeWarning: invalid value encountered in reciprocal\n",
      "  return np.roots(self.polynomial_reduced_ma)**-1\n",
      "/opt/anaconda3/lib/python3.9/site-packages/statsmodels/tsa/statespace/sarimax.py:1906: RuntimeWarning: invalid value encountered in reciprocal\n",
      "  return np.roots(self.polynomial_reduced_ma)**-1\n",
      "/opt/anaconda3/lib/python3.9/site-packages/statsmodels/tsa/statespace/sarimax.py:1906: RuntimeWarning: invalid value encountered in reciprocal\n",
      "  return np.roots(self.polynomial_reduced_ma)**-1\n",
      "/opt/anaconda3/lib/python3.9/site-packages/statsmodels/tsa/statespace/sarimax.py:1899: RuntimeWarning: invalid value encountered in reciprocal\n",
      "  return np.roots(self.polynomial_reduced_ar)**-1\n",
      "/opt/anaconda3/lib/python3.9/site-packages/statsmodels/tsa/statespace/sarimax.py:1899: RuntimeWarning: invalid value encountered in reciprocal\n",
      "  return np.roots(self.polynomial_reduced_ar)**-1\n",
      "/opt/anaconda3/lib/python3.9/site-packages/statsmodels/tsa/statespace/sarimax.py:1899: RuntimeWarning: invalid value encountered in reciprocal\n",
      "  return np.roots(self.polynomial_reduced_ar)**-1\n",
      "/opt/anaconda3/lib/python3.9/site-packages/statsmodels/tsa/statespace/sarimax.py:1906: RuntimeWarning: invalid value encountered in reciprocal\n",
      "  return np.roots(self.polynomial_reduced_ma)**-1\n",
      "/opt/anaconda3/lib/python3.9/site-packages/statsmodels/tsa/statespace/sarimax.py:1906: RuntimeWarning: invalid value encountered in reciprocal\n",
      "  return np.roots(self.polynomial_reduced_ma)**-1\n",
      "/opt/anaconda3/lib/python3.9/site-packages/statsmodels/tsa/statespace/sarimax.py:1906: RuntimeWarning: invalid value encountered in reciprocal\n",
      "  return np.roots(self.polynomial_reduced_ma)**-1\n",
      "/opt/anaconda3/lib/python3.9/site-packages/statsmodels/tsa/statespace/sarimax.py:1899: RuntimeWarning: invalid value encountered in reciprocal\n",
      "  return np.roots(self.polynomial_reduced_ar)**-1\n",
      "/opt/anaconda3/lib/python3.9/site-packages/statsmodels/tsa/statespace/sarimax.py:1906: RuntimeWarning: invalid value encountered in reciprocal\n",
      "  return np.roots(self.polynomial_reduced_ma)**-1\n"
     ]
    },
    {
     "name": "stdout",
     "output_type": "stream",
     "text": [
      "Hyperparameters: (0, 0, 0, 1, 1, 0), RMSE: 5.846\n"
     ]
    },
    {
     "name": "stderr",
     "output_type": "stream",
     "text": [
      "/opt/anaconda3/lib/python3.9/site-packages/statsmodels/tsa/statespace/sarimax.py:1899: RuntimeWarning: invalid value encountered in reciprocal\n",
      "  return np.roots(self.polynomial_reduced_ar)**-1\n",
      "/opt/anaconda3/lib/python3.9/site-packages/statsmodels/tsa/statespace/sarimax.py:1899: RuntimeWarning: invalid value encountered in reciprocal\n",
      "  return np.roots(self.polynomial_reduced_ar)**-1\n",
      "/opt/anaconda3/lib/python3.9/site-packages/statsmodels/tsa/statespace/sarimax.py:1906: RuntimeWarning: invalid value encountered in reciprocal\n",
      "  return np.roots(self.polynomial_reduced_ma)**-1\n",
      "/opt/anaconda3/lib/python3.9/site-packages/statsmodels/tsa/statespace/sarimax.py:1906: RuntimeWarning: invalid value encountered in reciprocal\n",
      "  return np.roots(self.polynomial_reduced_ma)**-1\n",
      "/opt/anaconda3/lib/python3.9/site-packages/statsmodels/tsa/statespace/sarimax.py:1906: RuntimeWarning: invalid value encountered in reciprocal\n",
      "  return np.roots(self.polynomial_reduced_ma)**-1\n",
      "/opt/anaconda3/lib/python3.9/site-packages/statsmodels/tsa/statespace/sarimax.py:1899: RuntimeWarning: invalid value encountered in reciprocal\n",
      "  return np.roots(self.polynomial_reduced_ar)**-1\n",
      "/opt/anaconda3/lib/python3.9/site-packages/statsmodels/tsa/statespace/sarimax.py:1899: RuntimeWarning: invalid value encountered in reciprocal\n",
      "  return np.roots(self.polynomial_reduced_ar)**-1\n",
      "/opt/anaconda3/lib/python3.9/site-packages/statsmodels/tsa/statespace/sarimax.py:1899: RuntimeWarning: invalid value encountered in reciprocal\n",
      "  return np.roots(self.polynomial_reduced_ar)**-1\n",
      "/opt/anaconda3/lib/python3.9/site-packages/statsmodels/tsa/statespace/sarimax.py:1906: RuntimeWarning: invalid value encountered in reciprocal\n",
      "  return np.roots(self.polynomial_reduced_ma)**-1\n",
      "/opt/anaconda3/lib/python3.9/site-packages/statsmodels/tsa/statespace/sarimax.py:1906: RuntimeWarning: invalid value encountered in reciprocal\n",
      "  return np.roots(self.polynomial_reduced_ma)**-1\n",
      "/opt/anaconda3/lib/python3.9/site-packages/statsmodels/tsa/statespace/sarimax.py:1906: RuntimeWarning: invalid value encountered in reciprocal\n",
      "  return np.roots(self.polynomial_reduced_ma)**-1\n",
      "/opt/anaconda3/lib/python3.9/site-packages/statsmodels/tsa/statespace/sarimax.py:1899: RuntimeWarning: invalid value encountered in reciprocal\n",
      "  return np.roots(self.polynomial_reduced_ar)**-1\n",
      "/opt/anaconda3/lib/python3.9/site-packages/statsmodels/tsa/statespace/sarimax.py:1906: RuntimeWarning: invalid value encountered in reciprocal\n",
      "  return np.roots(self.polynomial_reduced_ma)**-1\n"
     ]
    },
    {
     "name": "stdout",
     "output_type": "stream",
     "text": [
      "Hyperparameters: (0, 0, 0, 1, 1, 1), RMSE: 5.846\n"
     ]
    },
    {
     "name": "stderr",
     "output_type": "stream",
     "text": [
      "/opt/anaconda3/lib/python3.9/site-packages/statsmodels/tsa/statespace/sarimax.py:1899: RuntimeWarning: invalid value encountered in reciprocal\n",
      "  return np.roots(self.polynomial_reduced_ar)**-1\n",
      "/opt/anaconda3/lib/python3.9/site-packages/statsmodels/tsa/statespace/sarimax.py:1899: RuntimeWarning: invalid value encountered in reciprocal\n",
      "  return np.roots(self.polynomial_reduced_ar)**-1\n",
      "/opt/anaconda3/lib/python3.9/site-packages/statsmodels/tsa/statespace/sarimax.py:1906: RuntimeWarning: invalid value encountered in reciprocal\n",
      "  return np.roots(self.polynomial_reduced_ma)**-1\n",
      "/opt/anaconda3/lib/python3.9/site-packages/statsmodels/tsa/statespace/sarimax.py:1906: RuntimeWarning: invalid value encountered in reciprocal\n",
      "  return np.roots(self.polynomial_reduced_ma)**-1\n",
      "/opt/anaconda3/lib/python3.9/site-packages/statsmodels/tsa/statespace/sarimax.py:1906: RuntimeWarning: invalid value encountered in reciprocal\n",
      "  return np.roots(self.polynomial_reduced_ma)**-1\n",
      "/opt/anaconda3/lib/python3.9/site-packages/statsmodels/tsa/statespace/sarimax.py:1899: RuntimeWarning: invalid value encountered in reciprocal\n",
      "  return np.roots(self.polynomial_reduced_ar)**-1\n",
      "/opt/anaconda3/lib/python3.9/site-packages/statsmodels/tsa/statespace/sarimax.py:1899: RuntimeWarning: invalid value encountered in reciprocal\n",
      "  return np.roots(self.polynomial_reduced_ar)**-1\n",
      "/opt/anaconda3/lib/python3.9/site-packages/statsmodels/tsa/statespace/sarimax.py:1899: RuntimeWarning: invalid value encountered in reciprocal\n",
      "  return np.roots(self.polynomial_reduced_ar)**-1\n",
      "/opt/anaconda3/lib/python3.9/site-packages/statsmodels/tsa/statespace/sarimax.py:1906: RuntimeWarning: invalid value encountered in reciprocal\n",
      "  return np.roots(self.polynomial_reduced_ma)**-1\n",
      "/opt/anaconda3/lib/python3.9/site-packages/statsmodels/tsa/statespace/sarimax.py:1906: RuntimeWarning: invalid value encountered in reciprocal\n",
      "  return np.roots(self.polynomial_reduced_ma)**-1\n",
      "/opt/anaconda3/lib/python3.9/site-packages/statsmodels/tsa/statespace/sarimax.py:1906: RuntimeWarning: invalid value encountered in reciprocal\n",
      "  return np.roots(self.polynomial_reduced_ma)**-1\n",
      "/opt/anaconda3/lib/python3.9/site-packages/statsmodels/tsa/statespace/sarimax.py:1899: RuntimeWarning: invalid value encountered in reciprocal\n",
      "  return np.roots(self.polynomial_reduced_ar)**-1\n",
      "/opt/anaconda3/lib/python3.9/site-packages/statsmodels/tsa/statespace/sarimax.py:1906: RuntimeWarning: invalid value encountered in reciprocal\n",
      "  return np.roots(self.polynomial_reduced_ma)**-1\n"
     ]
    },
    {
     "name": "stdout",
     "output_type": "stream",
     "text": [
      "Hyperparameters: (0, 0, 0, 1, 1, 2), RMSE: 5.846\n"
     ]
    },
    {
     "name": "stderr",
     "output_type": "stream",
     "text": [
      "/opt/anaconda3/lib/python3.9/site-packages/statsmodels/tsa/statespace/sarimax.py:1899: RuntimeWarning: invalid value encountered in reciprocal\n",
      "  return np.roots(self.polynomial_reduced_ar)**-1\n",
      "/opt/anaconda3/lib/python3.9/site-packages/statsmodels/tsa/statespace/sarimax.py:1899: RuntimeWarning: invalid value encountered in reciprocal\n",
      "  return np.roots(self.polynomial_reduced_ar)**-1\n",
      "/opt/anaconda3/lib/python3.9/site-packages/statsmodels/tsa/statespace/sarimax.py:1906: RuntimeWarning: invalid value encountered in reciprocal\n",
      "  return np.roots(self.polynomial_reduced_ma)**-1\n",
      "/opt/anaconda3/lib/python3.9/site-packages/statsmodels/tsa/statespace/sarimax.py:1906: RuntimeWarning: invalid value encountered in reciprocal\n",
      "  return np.roots(self.polynomial_reduced_ma)**-1\n",
      "/opt/anaconda3/lib/python3.9/site-packages/statsmodels/tsa/statespace/sarimax.py:1906: RuntimeWarning: invalid value encountered in reciprocal\n",
      "  return np.roots(self.polynomial_reduced_ma)**-1\n",
      "/opt/anaconda3/lib/python3.9/site-packages/statsmodels/tsa/statespace/sarimax.py:1899: RuntimeWarning: invalid value encountered in reciprocal\n",
      "  return np.roots(self.polynomial_reduced_ar)**-1\n",
      "/opt/anaconda3/lib/python3.9/site-packages/statsmodels/tsa/statespace/sarimax.py:1899: RuntimeWarning: invalid value encountered in reciprocal\n",
      "  return np.roots(self.polynomial_reduced_ar)**-1\n",
      "/opt/anaconda3/lib/python3.9/site-packages/statsmodels/tsa/statespace/sarimax.py:1899: RuntimeWarning: invalid value encountered in reciprocal\n",
      "  return np.roots(self.polynomial_reduced_ar)**-1\n",
      "/opt/anaconda3/lib/python3.9/site-packages/statsmodels/tsa/statespace/sarimax.py:1906: RuntimeWarning: invalid value encountered in reciprocal\n",
      "  return np.roots(self.polynomial_reduced_ma)**-1\n",
      "/opt/anaconda3/lib/python3.9/site-packages/statsmodels/tsa/statespace/sarimax.py:1906: RuntimeWarning: invalid value encountered in reciprocal\n",
      "  return np.roots(self.polynomial_reduced_ma)**-1\n",
      "/opt/anaconda3/lib/python3.9/site-packages/statsmodels/tsa/statespace/sarimax.py:1906: RuntimeWarning: invalid value encountered in reciprocal\n",
      "  return np.roots(self.polynomial_reduced_ma)**-1\n",
      "/opt/anaconda3/lib/python3.9/site-packages/statsmodels/tsa/statespace/sarimax.py:1899: RuntimeWarning: invalid value encountered in reciprocal\n",
      "  return np.roots(self.polynomial_reduced_ar)**-1\n",
      "/opt/anaconda3/lib/python3.9/site-packages/statsmodels/tsa/statespace/sarimax.py:1906: RuntimeWarning: invalid value encountered in reciprocal\n",
      "  return np.roots(self.polynomial_reduced_ma)**-1\n"
     ]
    },
    {
     "name": "stdout",
     "output_type": "stream",
     "text": [
      "Hyperparameters: (0, 0, 0, 1, 2, 0), RMSE: 5.846\n"
     ]
    },
    {
     "name": "stderr",
     "output_type": "stream",
     "text": [
      "/opt/anaconda3/lib/python3.9/site-packages/statsmodels/tsa/statespace/sarimax.py:1899: RuntimeWarning: invalid value encountered in reciprocal\n",
      "  return np.roots(self.polynomial_reduced_ar)**-1\n",
      "/opt/anaconda3/lib/python3.9/site-packages/statsmodels/tsa/statespace/sarimax.py:1899: RuntimeWarning: invalid value encountered in reciprocal\n",
      "  return np.roots(self.polynomial_reduced_ar)**-1\n",
      "/opt/anaconda3/lib/python3.9/site-packages/statsmodels/tsa/statespace/sarimax.py:1906: RuntimeWarning: invalid value encountered in reciprocal\n",
      "  return np.roots(self.polynomial_reduced_ma)**-1\n",
      "/opt/anaconda3/lib/python3.9/site-packages/statsmodels/tsa/statespace/sarimax.py:1906: RuntimeWarning: invalid value encountered in reciprocal\n",
      "  return np.roots(self.polynomial_reduced_ma)**-1\n",
      "/opt/anaconda3/lib/python3.9/site-packages/statsmodels/tsa/statespace/sarimax.py:1906: RuntimeWarning: invalid value encountered in reciprocal\n",
      "  return np.roots(self.polynomial_reduced_ma)**-1\n",
      "/opt/anaconda3/lib/python3.9/site-packages/statsmodels/tsa/statespace/sarimax.py:1899: RuntimeWarning: invalid value encountered in reciprocal\n",
      "  return np.roots(self.polynomial_reduced_ar)**-1\n",
      "/opt/anaconda3/lib/python3.9/site-packages/statsmodels/tsa/statespace/sarimax.py:1899: RuntimeWarning: invalid value encountered in reciprocal\n",
      "  return np.roots(self.polynomial_reduced_ar)**-1\n",
      "/opt/anaconda3/lib/python3.9/site-packages/statsmodels/tsa/statespace/sarimax.py:1899: RuntimeWarning: invalid value encountered in reciprocal\n",
      "  return np.roots(self.polynomial_reduced_ar)**-1\n",
      "/opt/anaconda3/lib/python3.9/site-packages/statsmodels/tsa/statespace/sarimax.py:1906: RuntimeWarning: invalid value encountered in reciprocal\n",
      "  return np.roots(self.polynomial_reduced_ma)**-1\n",
      "/opt/anaconda3/lib/python3.9/site-packages/statsmodels/tsa/statespace/sarimax.py:1906: RuntimeWarning: invalid value encountered in reciprocal\n",
      "  return np.roots(self.polynomial_reduced_ma)**-1\n",
      "/opt/anaconda3/lib/python3.9/site-packages/statsmodels/tsa/statespace/sarimax.py:1906: RuntimeWarning: invalid value encountered in reciprocal\n",
      "  return np.roots(self.polynomial_reduced_ma)**-1\n",
      "/opt/anaconda3/lib/python3.9/site-packages/statsmodels/tsa/statespace/sarimax.py:1899: RuntimeWarning: invalid value encountered in reciprocal\n",
      "  return np.roots(self.polynomial_reduced_ar)**-1\n",
      "/opt/anaconda3/lib/python3.9/site-packages/statsmodels/tsa/statespace/sarimax.py:1906: RuntimeWarning: invalid value encountered in reciprocal\n",
      "  return np.roots(self.polynomial_reduced_ma)**-1\n"
     ]
    },
    {
     "name": "stdout",
     "output_type": "stream",
     "text": [
      "Hyperparameters: (0, 0, 0, 1, 2, 1), RMSE: 5.846\n"
     ]
    },
    {
     "name": "stderr",
     "output_type": "stream",
     "text": [
      "/opt/anaconda3/lib/python3.9/site-packages/statsmodels/tsa/statespace/sarimax.py:1899: RuntimeWarning: invalid value encountered in reciprocal\n",
      "  return np.roots(self.polynomial_reduced_ar)**-1\n",
      "/opt/anaconda3/lib/python3.9/site-packages/statsmodels/tsa/statespace/sarimax.py:1899: RuntimeWarning: invalid value encountered in reciprocal\n",
      "  return np.roots(self.polynomial_reduced_ar)**-1\n",
      "/opt/anaconda3/lib/python3.9/site-packages/statsmodels/tsa/statespace/sarimax.py:1906: RuntimeWarning: invalid value encountered in reciprocal\n",
      "  return np.roots(self.polynomial_reduced_ma)**-1\n",
      "/opt/anaconda3/lib/python3.9/site-packages/statsmodels/tsa/statespace/sarimax.py:1906: RuntimeWarning: invalid value encountered in reciprocal\n",
      "  return np.roots(self.polynomial_reduced_ma)**-1\n",
      "/opt/anaconda3/lib/python3.9/site-packages/statsmodels/tsa/statespace/sarimax.py:1906: RuntimeWarning: invalid value encountered in reciprocal\n",
      "  return np.roots(self.polynomial_reduced_ma)**-1\n",
      "/opt/anaconda3/lib/python3.9/site-packages/statsmodels/tsa/statespace/sarimax.py:1899: RuntimeWarning: invalid value encountered in reciprocal\n",
      "  return np.roots(self.polynomial_reduced_ar)**-1\n",
      "/opt/anaconda3/lib/python3.9/site-packages/statsmodels/tsa/statespace/sarimax.py:1899: RuntimeWarning: invalid value encountered in reciprocal\n",
      "  return np.roots(self.polynomial_reduced_ar)**-1\n",
      "/opt/anaconda3/lib/python3.9/site-packages/statsmodels/tsa/statespace/sarimax.py:1899: RuntimeWarning: invalid value encountered in reciprocal\n",
      "  return np.roots(self.polynomial_reduced_ar)**-1\n",
      "/opt/anaconda3/lib/python3.9/site-packages/statsmodels/tsa/statespace/sarimax.py:1906: RuntimeWarning: invalid value encountered in reciprocal\n",
      "  return np.roots(self.polynomial_reduced_ma)**-1\n",
      "/opt/anaconda3/lib/python3.9/site-packages/statsmodels/tsa/statespace/sarimax.py:1906: RuntimeWarning: invalid value encountered in reciprocal\n",
      "  return np.roots(self.polynomial_reduced_ma)**-1\n",
      "/opt/anaconda3/lib/python3.9/site-packages/statsmodels/tsa/statespace/sarimax.py:1906: RuntimeWarning: invalid value encountered in reciprocal\n",
      "  return np.roots(self.polynomial_reduced_ma)**-1\n",
      "/opt/anaconda3/lib/python3.9/site-packages/statsmodels/tsa/statespace/sarimax.py:1899: RuntimeWarning: invalid value encountered in reciprocal\n",
      "  return np.roots(self.polynomial_reduced_ar)**-1\n",
      "/opt/anaconda3/lib/python3.9/site-packages/statsmodels/tsa/statespace/sarimax.py:1906: RuntimeWarning: invalid value encountered in reciprocal\n",
      "  return np.roots(self.polynomial_reduced_ma)**-1\n"
     ]
    },
    {
     "name": "stdout",
     "output_type": "stream",
     "text": [
      "Hyperparameters: (0, 0, 0, 1, 2, 2), RMSE: 5.846\n"
     ]
    },
    {
     "name": "stderr",
     "output_type": "stream",
     "text": [
      "/opt/anaconda3/lib/python3.9/site-packages/statsmodels/tsa/statespace/sarimax.py:1899: RuntimeWarning: invalid value encountered in reciprocal\n",
      "  return np.roots(self.polynomial_reduced_ar)**-1\n",
      "/opt/anaconda3/lib/python3.9/site-packages/statsmodels/tsa/statespace/sarimax.py:1899: RuntimeWarning: invalid value encountered in reciprocal\n",
      "  return np.roots(self.polynomial_reduced_ar)**-1\n",
      "/opt/anaconda3/lib/python3.9/site-packages/statsmodels/tsa/statespace/sarimax.py:1906: RuntimeWarning: invalid value encountered in reciprocal\n",
      "  return np.roots(self.polynomial_reduced_ma)**-1\n",
      "/opt/anaconda3/lib/python3.9/site-packages/statsmodels/tsa/statespace/sarimax.py:1906: RuntimeWarning: invalid value encountered in reciprocal\n",
      "  return np.roots(self.polynomial_reduced_ma)**-1\n",
      "/opt/anaconda3/lib/python3.9/site-packages/statsmodels/tsa/statespace/sarimax.py:1906: RuntimeWarning: invalid value encountered in reciprocal\n",
      "  return np.roots(self.polynomial_reduced_ma)**-1\n",
      "/opt/anaconda3/lib/python3.9/site-packages/statsmodels/tsa/statespace/sarimax.py:1899: RuntimeWarning: invalid value encountered in reciprocal\n",
      "  return np.roots(self.polynomial_reduced_ar)**-1\n",
      "/opt/anaconda3/lib/python3.9/site-packages/statsmodels/tsa/statespace/sarimax.py:1899: RuntimeWarning: invalid value encountered in reciprocal\n",
      "  return np.roots(self.polynomial_reduced_ar)**-1\n",
      "/opt/anaconda3/lib/python3.9/site-packages/statsmodels/tsa/statespace/sarimax.py:1899: RuntimeWarning: invalid value encountered in reciprocal\n",
      "  return np.roots(self.polynomial_reduced_ar)**-1\n",
      "/opt/anaconda3/lib/python3.9/site-packages/statsmodels/tsa/statespace/sarimax.py:1906: RuntimeWarning: invalid value encountered in reciprocal\n",
      "  return np.roots(self.polynomial_reduced_ma)**-1\n",
      "/opt/anaconda3/lib/python3.9/site-packages/statsmodels/tsa/statespace/sarimax.py:1906: RuntimeWarning: invalid value encountered in reciprocal\n",
      "  return np.roots(self.polynomial_reduced_ma)**-1\n",
      "/opt/anaconda3/lib/python3.9/site-packages/statsmodels/tsa/statespace/sarimax.py:1906: RuntimeWarning: invalid value encountered in reciprocal\n",
      "  return np.roots(self.polynomial_reduced_ma)**-1\n",
      "/opt/anaconda3/lib/python3.9/site-packages/statsmodels/tsa/statespace/sarimax.py:1899: RuntimeWarning: invalid value encountered in reciprocal\n",
      "  return np.roots(self.polynomial_reduced_ar)**-1\n",
      "/opt/anaconda3/lib/python3.9/site-packages/statsmodels/tsa/statespace/sarimax.py:1906: RuntimeWarning: invalid value encountered in reciprocal\n",
      "  return np.roots(self.polynomial_reduced_ma)**-1\n"
     ]
    },
    {
     "name": "stdout",
     "output_type": "stream",
     "text": [
      "Hyperparameters: (0, 0, 0, 2, 0, 0), RMSE: 5.846\n"
     ]
    },
    {
     "name": "stderr",
     "output_type": "stream",
     "text": [
      "/opt/anaconda3/lib/python3.9/site-packages/statsmodels/tsa/statespace/sarimax.py:1899: RuntimeWarning: invalid value encountered in reciprocal\n",
      "  return np.roots(self.polynomial_reduced_ar)**-1\n",
      "/opt/anaconda3/lib/python3.9/site-packages/statsmodels/tsa/statespace/sarimax.py:1899: RuntimeWarning: invalid value encountered in reciprocal\n",
      "  return np.roots(self.polynomial_reduced_ar)**-1\n",
      "/opt/anaconda3/lib/python3.9/site-packages/statsmodels/tsa/statespace/sarimax.py:1906: RuntimeWarning: invalid value encountered in reciprocal\n",
      "  return np.roots(self.polynomial_reduced_ma)**-1\n",
      "/opt/anaconda3/lib/python3.9/site-packages/statsmodels/tsa/statespace/sarimax.py:1906: RuntimeWarning: invalid value encountered in reciprocal\n",
      "  return np.roots(self.polynomial_reduced_ma)**-1\n",
      "/opt/anaconda3/lib/python3.9/site-packages/statsmodels/tsa/statespace/sarimax.py:1906: RuntimeWarning: invalid value encountered in reciprocal\n",
      "  return np.roots(self.polynomial_reduced_ma)**-1\n",
      "/opt/anaconda3/lib/python3.9/site-packages/statsmodels/tsa/statespace/sarimax.py:1899: RuntimeWarning: invalid value encountered in reciprocal\n",
      "  return np.roots(self.polynomial_reduced_ar)**-1\n",
      "/opt/anaconda3/lib/python3.9/site-packages/statsmodels/tsa/statespace/sarimax.py:1899: RuntimeWarning: invalid value encountered in reciprocal\n",
      "  return np.roots(self.polynomial_reduced_ar)**-1\n",
      "/opt/anaconda3/lib/python3.9/site-packages/statsmodels/tsa/statespace/sarimax.py:1899: RuntimeWarning: invalid value encountered in reciprocal\n",
      "  return np.roots(self.polynomial_reduced_ar)**-1\n",
      "/opt/anaconda3/lib/python3.9/site-packages/statsmodels/tsa/statespace/sarimax.py:1906: RuntimeWarning: invalid value encountered in reciprocal\n",
      "  return np.roots(self.polynomial_reduced_ma)**-1\n",
      "/opt/anaconda3/lib/python3.9/site-packages/statsmodels/tsa/statespace/sarimax.py:1906: RuntimeWarning: invalid value encountered in reciprocal\n",
      "  return np.roots(self.polynomial_reduced_ma)**-1\n",
      "/opt/anaconda3/lib/python3.9/site-packages/statsmodels/tsa/statespace/sarimax.py:1906: RuntimeWarning: invalid value encountered in reciprocal\n",
      "  return np.roots(self.polynomial_reduced_ma)**-1\n",
      "/opt/anaconda3/lib/python3.9/site-packages/statsmodels/tsa/statespace/sarimax.py:1899: RuntimeWarning: invalid value encountered in reciprocal\n",
      "  return np.roots(self.polynomial_reduced_ar)**-1\n",
      "/opt/anaconda3/lib/python3.9/site-packages/statsmodels/tsa/statespace/sarimax.py:1906: RuntimeWarning: invalid value encountered in reciprocal\n",
      "  return np.roots(self.polynomial_reduced_ma)**-1\n"
     ]
    },
    {
     "name": "stdout",
     "output_type": "stream",
     "text": [
      "Hyperparameters: (0, 0, 0, 2, 0, 1), RMSE: 5.846\n"
     ]
    },
    {
     "name": "stderr",
     "output_type": "stream",
     "text": [
      "/opt/anaconda3/lib/python3.9/site-packages/statsmodels/tsa/statespace/sarimax.py:1899: RuntimeWarning: invalid value encountered in reciprocal\n",
      "  return np.roots(self.polynomial_reduced_ar)**-1\n",
      "/opt/anaconda3/lib/python3.9/site-packages/statsmodels/tsa/statespace/sarimax.py:1899: RuntimeWarning: invalid value encountered in reciprocal\n",
      "  return np.roots(self.polynomial_reduced_ar)**-1\n",
      "/opt/anaconda3/lib/python3.9/site-packages/statsmodels/tsa/statespace/sarimax.py:1906: RuntimeWarning: invalid value encountered in reciprocal\n",
      "  return np.roots(self.polynomial_reduced_ma)**-1\n",
      "/opt/anaconda3/lib/python3.9/site-packages/statsmodels/tsa/statespace/sarimax.py:1906: RuntimeWarning: invalid value encountered in reciprocal\n",
      "  return np.roots(self.polynomial_reduced_ma)**-1\n",
      "/opt/anaconda3/lib/python3.9/site-packages/statsmodels/tsa/statespace/sarimax.py:1906: RuntimeWarning: invalid value encountered in reciprocal\n",
      "  return np.roots(self.polynomial_reduced_ma)**-1\n",
      "/opt/anaconda3/lib/python3.9/site-packages/statsmodels/tsa/statespace/sarimax.py:1899: RuntimeWarning: invalid value encountered in reciprocal\n",
      "  return np.roots(self.polynomial_reduced_ar)**-1\n",
      "/opt/anaconda3/lib/python3.9/site-packages/statsmodels/tsa/statespace/sarimax.py:1899: RuntimeWarning: invalid value encountered in reciprocal\n",
      "  return np.roots(self.polynomial_reduced_ar)**-1\n",
      "/opt/anaconda3/lib/python3.9/site-packages/statsmodels/tsa/statespace/sarimax.py:1899: RuntimeWarning: invalid value encountered in reciprocal\n",
      "  return np.roots(self.polynomial_reduced_ar)**-1\n",
      "/opt/anaconda3/lib/python3.9/site-packages/statsmodels/tsa/statespace/sarimax.py:1906: RuntimeWarning: invalid value encountered in reciprocal\n",
      "  return np.roots(self.polynomial_reduced_ma)**-1\n",
      "/opt/anaconda3/lib/python3.9/site-packages/statsmodels/tsa/statespace/sarimax.py:1906: RuntimeWarning: invalid value encountered in reciprocal\n",
      "  return np.roots(self.polynomial_reduced_ma)**-1\n",
      "/opt/anaconda3/lib/python3.9/site-packages/statsmodels/tsa/statespace/sarimax.py:1906: RuntimeWarning: invalid value encountered in reciprocal\n",
      "  return np.roots(self.polynomial_reduced_ma)**-1\n",
      "/opt/anaconda3/lib/python3.9/site-packages/statsmodels/tsa/statespace/sarimax.py:1899: RuntimeWarning: invalid value encountered in reciprocal\n",
      "  return np.roots(self.polynomial_reduced_ar)**-1\n",
      "/opt/anaconda3/lib/python3.9/site-packages/statsmodels/tsa/statespace/sarimax.py:1906: RuntimeWarning: invalid value encountered in reciprocal\n",
      "  return np.roots(self.polynomial_reduced_ma)**-1\n"
     ]
    },
    {
     "name": "stdout",
     "output_type": "stream",
     "text": [
      "Hyperparameters: (0, 0, 0, 2, 0, 2), RMSE: 5.846\n"
     ]
    },
    {
     "name": "stderr",
     "output_type": "stream",
     "text": [
      "/opt/anaconda3/lib/python3.9/site-packages/statsmodels/tsa/statespace/sarimax.py:1899: RuntimeWarning: invalid value encountered in reciprocal\n",
      "  return np.roots(self.polynomial_reduced_ar)**-1\n",
      "/opt/anaconda3/lib/python3.9/site-packages/statsmodels/tsa/statespace/sarimax.py:1899: RuntimeWarning: invalid value encountered in reciprocal\n",
      "  return np.roots(self.polynomial_reduced_ar)**-1\n",
      "/opt/anaconda3/lib/python3.9/site-packages/statsmodels/tsa/statespace/sarimax.py:1906: RuntimeWarning: invalid value encountered in reciprocal\n",
      "  return np.roots(self.polynomial_reduced_ma)**-1\n",
      "/opt/anaconda3/lib/python3.9/site-packages/statsmodels/tsa/statespace/sarimax.py:1906: RuntimeWarning: invalid value encountered in reciprocal\n",
      "  return np.roots(self.polynomial_reduced_ma)**-1\n",
      "/opt/anaconda3/lib/python3.9/site-packages/statsmodels/tsa/statespace/sarimax.py:1906: RuntimeWarning: invalid value encountered in reciprocal\n",
      "  return np.roots(self.polynomial_reduced_ma)**-1\n",
      "/opt/anaconda3/lib/python3.9/site-packages/statsmodels/tsa/statespace/sarimax.py:1899: RuntimeWarning: invalid value encountered in reciprocal\n",
      "  return np.roots(self.polynomial_reduced_ar)**-1\n",
      "/opt/anaconda3/lib/python3.9/site-packages/statsmodels/tsa/statespace/sarimax.py:1899: RuntimeWarning: invalid value encountered in reciprocal\n",
      "  return np.roots(self.polynomial_reduced_ar)**-1\n",
      "/opt/anaconda3/lib/python3.9/site-packages/statsmodels/tsa/statespace/sarimax.py:1899: RuntimeWarning: invalid value encountered in reciprocal\n",
      "  return np.roots(self.polynomial_reduced_ar)**-1\n",
      "/opt/anaconda3/lib/python3.9/site-packages/statsmodels/tsa/statespace/sarimax.py:1906: RuntimeWarning: invalid value encountered in reciprocal\n",
      "  return np.roots(self.polynomial_reduced_ma)**-1\n",
      "/opt/anaconda3/lib/python3.9/site-packages/statsmodels/tsa/statespace/sarimax.py:1906: RuntimeWarning: invalid value encountered in reciprocal\n",
      "  return np.roots(self.polynomial_reduced_ma)**-1\n",
      "/opt/anaconda3/lib/python3.9/site-packages/statsmodels/tsa/statespace/sarimax.py:1906: RuntimeWarning: invalid value encountered in reciprocal\n",
      "  return np.roots(self.polynomial_reduced_ma)**-1\n",
      "/opt/anaconda3/lib/python3.9/site-packages/statsmodels/tsa/statespace/sarimax.py:1899: RuntimeWarning: invalid value encountered in reciprocal\n",
      "  return np.roots(self.polynomial_reduced_ar)**-1\n",
      "/opt/anaconda3/lib/python3.9/site-packages/statsmodels/tsa/statespace/sarimax.py:1906: RuntimeWarning: invalid value encountered in reciprocal\n",
      "  return np.roots(self.polynomial_reduced_ma)**-1\n"
     ]
    },
    {
     "name": "stdout",
     "output_type": "stream",
     "text": [
      "Hyperparameters: (0, 0, 0, 2, 1, 0), RMSE: 5.846\n"
     ]
    },
    {
     "name": "stderr",
     "output_type": "stream",
     "text": [
      "/opt/anaconda3/lib/python3.9/site-packages/statsmodels/tsa/statespace/sarimax.py:1899: RuntimeWarning: invalid value encountered in reciprocal\n",
      "  return np.roots(self.polynomial_reduced_ar)**-1\n",
      "/opt/anaconda3/lib/python3.9/site-packages/statsmodels/tsa/statespace/sarimax.py:1899: RuntimeWarning: invalid value encountered in reciprocal\n",
      "  return np.roots(self.polynomial_reduced_ar)**-1\n",
      "/opt/anaconda3/lib/python3.9/site-packages/statsmodels/tsa/statespace/sarimax.py:1906: RuntimeWarning: invalid value encountered in reciprocal\n",
      "  return np.roots(self.polynomial_reduced_ma)**-1\n",
      "/opt/anaconda3/lib/python3.9/site-packages/statsmodels/tsa/statespace/sarimax.py:1906: RuntimeWarning: invalid value encountered in reciprocal\n",
      "  return np.roots(self.polynomial_reduced_ma)**-1\n",
      "/opt/anaconda3/lib/python3.9/site-packages/statsmodels/tsa/statespace/sarimax.py:1906: RuntimeWarning: invalid value encountered in reciprocal\n",
      "  return np.roots(self.polynomial_reduced_ma)**-1\n",
      "/opt/anaconda3/lib/python3.9/site-packages/statsmodels/tsa/statespace/sarimax.py:1899: RuntimeWarning: invalid value encountered in reciprocal\n",
      "  return np.roots(self.polynomial_reduced_ar)**-1\n",
      "/opt/anaconda3/lib/python3.9/site-packages/statsmodels/tsa/statespace/sarimax.py:1899: RuntimeWarning: invalid value encountered in reciprocal\n",
      "  return np.roots(self.polynomial_reduced_ar)**-1\n",
      "/opt/anaconda3/lib/python3.9/site-packages/statsmodels/tsa/statespace/sarimax.py:1899: RuntimeWarning: invalid value encountered in reciprocal\n",
      "  return np.roots(self.polynomial_reduced_ar)**-1\n",
      "/opt/anaconda3/lib/python3.9/site-packages/statsmodels/tsa/statespace/sarimax.py:1906: RuntimeWarning: invalid value encountered in reciprocal\n",
      "  return np.roots(self.polynomial_reduced_ma)**-1\n",
      "/opt/anaconda3/lib/python3.9/site-packages/statsmodels/tsa/statespace/sarimax.py:1906: RuntimeWarning: invalid value encountered in reciprocal\n",
      "  return np.roots(self.polynomial_reduced_ma)**-1\n",
      "/opt/anaconda3/lib/python3.9/site-packages/statsmodels/tsa/statespace/sarimax.py:1906: RuntimeWarning: invalid value encountered in reciprocal\n",
      "  return np.roots(self.polynomial_reduced_ma)**-1\n",
      "/opt/anaconda3/lib/python3.9/site-packages/statsmodels/tsa/statespace/sarimax.py:1899: RuntimeWarning: invalid value encountered in reciprocal\n",
      "  return np.roots(self.polynomial_reduced_ar)**-1\n",
      "/opt/anaconda3/lib/python3.9/site-packages/statsmodels/tsa/statespace/sarimax.py:1906: RuntimeWarning: invalid value encountered in reciprocal\n",
      "  return np.roots(self.polynomial_reduced_ma)**-1\n"
     ]
    },
    {
     "name": "stdout",
     "output_type": "stream",
     "text": [
      "Hyperparameters: (0, 0, 0, 2, 1, 1), RMSE: 5.846\n"
     ]
    },
    {
     "name": "stderr",
     "output_type": "stream",
     "text": [
      "/opt/anaconda3/lib/python3.9/site-packages/statsmodels/tsa/statespace/sarimax.py:1899: RuntimeWarning: invalid value encountered in reciprocal\n",
      "  return np.roots(self.polynomial_reduced_ar)**-1\n",
      "/opt/anaconda3/lib/python3.9/site-packages/statsmodels/tsa/statespace/sarimax.py:1899: RuntimeWarning: invalid value encountered in reciprocal\n",
      "  return np.roots(self.polynomial_reduced_ar)**-1\n",
      "/opt/anaconda3/lib/python3.9/site-packages/statsmodels/tsa/statespace/sarimax.py:1906: RuntimeWarning: invalid value encountered in reciprocal\n",
      "  return np.roots(self.polynomial_reduced_ma)**-1\n",
      "/opt/anaconda3/lib/python3.9/site-packages/statsmodels/tsa/statespace/sarimax.py:1906: RuntimeWarning: invalid value encountered in reciprocal\n",
      "  return np.roots(self.polynomial_reduced_ma)**-1\n",
      "/opt/anaconda3/lib/python3.9/site-packages/statsmodels/tsa/statespace/sarimax.py:1906: RuntimeWarning: invalid value encountered in reciprocal\n",
      "  return np.roots(self.polynomial_reduced_ma)**-1\n",
      "/opt/anaconda3/lib/python3.9/site-packages/statsmodels/tsa/statespace/sarimax.py:1899: RuntimeWarning: invalid value encountered in reciprocal\n",
      "  return np.roots(self.polynomial_reduced_ar)**-1\n",
      "/opt/anaconda3/lib/python3.9/site-packages/statsmodels/tsa/statespace/sarimax.py:1899: RuntimeWarning: invalid value encountered in reciprocal\n",
      "  return np.roots(self.polynomial_reduced_ar)**-1\n",
      "/opt/anaconda3/lib/python3.9/site-packages/statsmodels/tsa/statespace/sarimax.py:1899: RuntimeWarning: invalid value encountered in reciprocal\n",
      "  return np.roots(self.polynomial_reduced_ar)**-1\n",
      "/opt/anaconda3/lib/python3.9/site-packages/statsmodels/tsa/statespace/sarimax.py:1906: RuntimeWarning: invalid value encountered in reciprocal\n",
      "  return np.roots(self.polynomial_reduced_ma)**-1\n",
      "/opt/anaconda3/lib/python3.9/site-packages/statsmodels/tsa/statespace/sarimax.py:1906: RuntimeWarning: invalid value encountered in reciprocal\n",
      "  return np.roots(self.polynomial_reduced_ma)**-1\n",
      "/opt/anaconda3/lib/python3.9/site-packages/statsmodels/tsa/statespace/sarimax.py:1906: RuntimeWarning: invalid value encountered in reciprocal\n",
      "  return np.roots(self.polynomial_reduced_ma)**-1\n",
      "/opt/anaconda3/lib/python3.9/site-packages/statsmodels/tsa/statespace/sarimax.py:1899: RuntimeWarning: invalid value encountered in reciprocal\n",
      "  return np.roots(self.polynomial_reduced_ar)**-1\n",
      "/opt/anaconda3/lib/python3.9/site-packages/statsmodels/tsa/statespace/sarimax.py:1906: RuntimeWarning: invalid value encountered in reciprocal\n",
      "  return np.roots(self.polynomial_reduced_ma)**-1\n"
     ]
    },
    {
     "name": "stdout",
     "output_type": "stream",
     "text": [
      "Hyperparameters: (0, 0, 0, 2, 1, 2), RMSE: 5.846\n"
     ]
    },
    {
     "name": "stderr",
     "output_type": "stream",
     "text": [
      "/opt/anaconda3/lib/python3.9/site-packages/statsmodels/tsa/statespace/sarimax.py:1899: RuntimeWarning: invalid value encountered in reciprocal\n",
      "  return np.roots(self.polynomial_reduced_ar)**-1\n",
      "/opt/anaconda3/lib/python3.9/site-packages/statsmodels/tsa/statespace/sarimax.py:1899: RuntimeWarning: invalid value encountered in reciprocal\n",
      "  return np.roots(self.polynomial_reduced_ar)**-1\n",
      "/opt/anaconda3/lib/python3.9/site-packages/statsmodels/tsa/statespace/sarimax.py:1906: RuntimeWarning: invalid value encountered in reciprocal\n",
      "  return np.roots(self.polynomial_reduced_ma)**-1\n",
      "/opt/anaconda3/lib/python3.9/site-packages/statsmodels/tsa/statespace/sarimax.py:1906: RuntimeWarning: invalid value encountered in reciprocal\n",
      "  return np.roots(self.polynomial_reduced_ma)**-1\n",
      "/opt/anaconda3/lib/python3.9/site-packages/statsmodels/tsa/statespace/sarimax.py:1906: RuntimeWarning: invalid value encountered in reciprocal\n",
      "  return np.roots(self.polynomial_reduced_ma)**-1\n",
      "/opt/anaconda3/lib/python3.9/site-packages/statsmodels/tsa/statespace/sarimax.py:1899: RuntimeWarning: invalid value encountered in reciprocal\n",
      "  return np.roots(self.polynomial_reduced_ar)**-1\n",
      "/opt/anaconda3/lib/python3.9/site-packages/statsmodels/tsa/statespace/sarimax.py:1899: RuntimeWarning: invalid value encountered in reciprocal\n",
      "  return np.roots(self.polynomial_reduced_ar)**-1\n",
      "/opt/anaconda3/lib/python3.9/site-packages/statsmodels/tsa/statespace/sarimax.py:1899: RuntimeWarning: invalid value encountered in reciprocal\n",
      "  return np.roots(self.polynomial_reduced_ar)**-1\n",
      "/opt/anaconda3/lib/python3.9/site-packages/statsmodels/tsa/statespace/sarimax.py:1906: RuntimeWarning: invalid value encountered in reciprocal\n",
      "  return np.roots(self.polynomial_reduced_ma)**-1\n",
      "/opt/anaconda3/lib/python3.9/site-packages/statsmodels/tsa/statespace/sarimax.py:1906: RuntimeWarning: invalid value encountered in reciprocal\n",
      "  return np.roots(self.polynomial_reduced_ma)**-1\n",
      "/opt/anaconda3/lib/python3.9/site-packages/statsmodels/tsa/statespace/sarimax.py:1906: RuntimeWarning: invalid value encountered in reciprocal\n",
      "  return np.roots(self.polynomial_reduced_ma)**-1\n",
      "/opt/anaconda3/lib/python3.9/site-packages/statsmodels/tsa/statespace/sarimax.py:1899: RuntimeWarning: invalid value encountered in reciprocal\n",
      "  return np.roots(self.polynomial_reduced_ar)**-1\n",
      "/opt/anaconda3/lib/python3.9/site-packages/statsmodels/tsa/statespace/sarimax.py:1906: RuntimeWarning: invalid value encountered in reciprocal\n",
      "  return np.roots(self.polynomial_reduced_ma)**-1\n"
     ]
    },
    {
     "name": "stdout",
     "output_type": "stream",
     "text": [
      "Hyperparameters: (0, 0, 0, 2, 2, 0), RMSE: 5.846\n"
     ]
    },
    {
     "name": "stderr",
     "output_type": "stream",
     "text": [
      "/opt/anaconda3/lib/python3.9/site-packages/statsmodels/tsa/statespace/sarimax.py:1899: RuntimeWarning: invalid value encountered in reciprocal\n",
      "  return np.roots(self.polynomial_reduced_ar)**-1\n",
      "/opt/anaconda3/lib/python3.9/site-packages/statsmodels/tsa/statespace/sarimax.py:1899: RuntimeWarning: invalid value encountered in reciprocal\n",
      "  return np.roots(self.polynomial_reduced_ar)**-1\n",
      "/opt/anaconda3/lib/python3.9/site-packages/statsmodels/tsa/statespace/sarimax.py:1906: RuntimeWarning: invalid value encountered in reciprocal\n",
      "  return np.roots(self.polynomial_reduced_ma)**-1\n",
      "/opt/anaconda3/lib/python3.9/site-packages/statsmodels/tsa/statespace/sarimax.py:1906: RuntimeWarning: invalid value encountered in reciprocal\n",
      "  return np.roots(self.polynomial_reduced_ma)**-1\n",
      "/opt/anaconda3/lib/python3.9/site-packages/statsmodels/tsa/statespace/sarimax.py:1906: RuntimeWarning: invalid value encountered in reciprocal\n",
      "  return np.roots(self.polynomial_reduced_ma)**-1\n",
      "/opt/anaconda3/lib/python3.9/site-packages/statsmodels/tsa/statespace/sarimax.py:1899: RuntimeWarning: invalid value encountered in reciprocal\n",
      "  return np.roots(self.polynomial_reduced_ar)**-1\n",
      "/opt/anaconda3/lib/python3.9/site-packages/statsmodels/tsa/statespace/sarimax.py:1899: RuntimeWarning: invalid value encountered in reciprocal\n",
      "  return np.roots(self.polynomial_reduced_ar)**-1\n",
      "/opt/anaconda3/lib/python3.9/site-packages/statsmodels/tsa/statespace/sarimax.py:1899: RuntimeWarning: invalid value encountered in reciprocal\n",
      "  return np.roots(self.polynomial_reduced_ar)**-1\n",
      "/opt/anaconda3/lib/python3.9/site-packages/statsmodels/tsa/statespace/sarimax.py:1906: RuntimeWarning: invalid value encountered in reciprocal\n",
      "  return np.roots(self.polynomial_reduced_ma)**-1\n",
      "/opt/anaconda3/lib/python3.9/site-packages/statsmodels/tsa/statespace/sarimax.py:1906: RuntimeWarning: invalid value encountered in reciprocal\n",
      "  return np.roots(self.polynomial_reduced_ma)**-1\n",
      "/opt/anaconda3/lib/python3.9/site-packages/statsmodels/tsa/statespace/sarimax.py:1906: RuntimeWarning: invalid value encountered in reciprocal\n",
      "  return np.roots(self.polynomial_reduced_ma)**-1\n",
      "/opt/anaconda3/lib/python3.9/site-packages/statsmodels/tsa/statespace/sarimax.py:1899: RuntimeWarning: invalid value encountered in reciprocal\n",
      "  return np.roots(self.polynomial_reduced_ar)**-1\n",
      "/opt/anaconda3/lib/python3.9/site-packages/statsmodels/tsa/statespace/sarimax.py:1906: RuntimeWarning: invalid value encountered in reciprocal\n",
      "  return np.roots(self.polynomial_reduced_ma)**-1\n"
     ]
    },
    {
     "name": "stdout",
     "output_type": "stream",
     "text": [
      "Hyperparameters: (0, 0, 0, 2, 2, 1), RMSE: 5.846\n"
     ]
    },
    {
     "name": "stderr",
     "output_type": "stream",
     "text": [
      "/opt/anaconda3/lib/python3.9/site-packages/statsmodels/tsa/statespace/sarimax.py:1899: RuntimeWarning: invalid value encountered in reciprocal\n",
      "  return np.roots(self.polynomial_reduced_ar)**-1\n",
      "/opt/anaconda3/lib/python3.9/site-packages/statsmodels/tsa/statespace/sarimax.py:1899: RuntimeWarning: invalid value encountered in reciprocal\n",
      "  return np.roots(self.polynomial_reduced_ar)**-1\n",
      "/opt/anaconda3/lib/python3.9/site-packages/statsmodels/tsa/statespace/sarimax.py:1906: RuntimeWarning: invalid value encountered in reciprocal\n",
      "  return np.roots(self.polynomial_reduced_ma)**-1\n",
      "/opt/anaconda3/lib/python3.9/site-packages/statsmodels/tsa/statespace/sarimax.py:1906: RuntimeWarning: invalid value encountered in reciprocal\n",
      "  return np.roots(self.polynomial_reduced_ma)**-1\n",
      "/opt/anaconda3/lib/python3.9/site-packages/statsmodels/tsa/statespace/sarimax.py:1906: RuntimeWarning: invalid value encountered in reciprocal\n",
      "  return np.roots(self.polynomial_reduced_ma)**-1\n",
      "/opt/anaconda3/lib/python3.9/site-packages/statsmodels/tsa/statespace/sarimax.py:1899: RuntimeWarning: invalid value encountered in reciprocal\n",
      "  return np.roots(self.polynomial_reduced_ar)**-1\n",
      "/opt/anaconda3/lib/python3.9/site-packages/statsmodels/tsa/statespace/sarimax.py:1899: RuntimeWarning: invalid value encountered in reciprocal\n",
      "  return np.roots(self.polynomial_reduced_ar)**-1\n",
      "/opt/anaconda3/lib/python3.9/site-packages/statsmodels/tsa/statespace/sarimax.py:1899: RuntimeWarning: invalid value encountered in reciprocal\n",
      "  return np.roots(self.polynomial_reduced_ar)**-1\n",
      "/opt/anaconda3/lib/python3.9/site-packages/statsmodels/tsa/statespace/sarimax.py:1906: RuntimeWarning: invalid value encountered in reciprocal\n",
      "  return np.roots(self.polynomial_reduced_ma)**-1\n",
      "/opt/anaconda3/lib/python3.9/site-packages/statsmodels/tsa/statespace/sarimax.py:1906: RuntimeWarning: invalid value encountered in reciprocal\n",
      "  return np.roots(self.polynomial_reduced_ma)**-1\n",
      "/opt/anaconda3/lib/python3.9/site-packages/statsmodels/tsa/statespace/sarimax.py:1906: RuntimeWarning: invalid value encountered in reciprocal\n",
      "  return np.roots(self.polynomial_reduced_ma)**-1\n",
      "/opt/anaconda3/lib/python3.9/site-packages/statsmodels/tsa/statespace/sarimax.py:1899: RuntimeWarning: invalid value encountered in reciprocal\n",
      "  return np.roots(self.polynomial_reduced_ar)**-1\n",
      "/opt/anaconda3/lib/python3.9/site-packages/statsmodels/tsa/statespace/sarimax.py:1906: RuntimeWarning: invalid value encountered in reciprocal\n",
      "  return np.roots(self.polynomial_reduced_ma)**-1\n"
     ]
    },
    {
     "name": "stdout",
     "output_type": "stream",
     "text": [
      "Hyperparameters: (0, 0, 0, 2, 2, 2), RMSE: 5.846\n"
     ]
    },
    {
     "name": "stderr",
     "output_type": "stream",
     "text": [
      "/opt/anaconda3/lib/python3.9/site-packages/statsmodels/tsa/statespace/sarimax.py:1899: RuntimeWarning: invalid value encountered in reciprocal\n",
      "  return np.roots(self.polynomial_reduced_ar)**-1\n",
      "/opt/anaconda3/lib/python3.9/site-packages/statsmodels/tsa/statespace/sarimax.py:1899: RuntimeWarning: invalid value encountered in reciprocal\n",
      "  return np.roots(self.polynomial_reduced_ar)**-1\n",
      "/opt/anaconda3/lib/python3.9/site-packages/statsmodels/tsa/statespace/sarimax.py:1906: RuntimeWarning: invalid value encountered in reciprocal\n",
      "  return np.roots(self.polynomial_reduced_ma)**-1\n",
      "/opt/anaconda3/lib/python3.9/site-packages/statsmodels/tsa/statespace/sarimax.py:1906: RuntimeWarning: invalid value encountered in reciprocal\n",
      "  return np.roots(self.polynomial_reduced_ma)**-1\n",
      "/opt/anaconda3/lib/python3.9/site-packages/statsmodels/tsa/statespace/sarimax.py:1906: RuntimeWarning: invalid value encountered in reciprocal\n",
      "  return np.roots(self.polynomial_reduced_ma)**-1\n",
      "/opt/anaconda3/lib/python3.9/site-packages/statsmodels/tsa/statespace/sarimax.py:1899: RuntimeWarning: invalid value encountered in reciprocal\n",
      "  return np.roots(self.polynomial_reduced_ar)**-1\n",
      "/opt/anaconda3/lib/python3.9/site-packages/statsmodels/tsa/statespace/sarimax.py:1899: RuntimeWarning: invalid value encountered in reciprocal\n",
      "  return np.roots(self.polynomial_reduced_ar)**-1\n",
      "/opt/anaconda3/lib/python3.9/site-packages/statsmodels/tsa/statespace/sarimax.py:1899: RuntimeWarning: invalid value encountered in reciprocal\n",
      "  return np.roots(self.polynomial_reduced_ar)**-1\n",
      "/opt/anaconda3/lib/python3.9/site-packages/statsmodels/tsa/statespace/sarimax.py:1906: RuntimeWarning: invalid value encountered in reciprocal\n",
      "  return np.roots(self.polynomial_reduced_ma)**-1\n",
      "/opt/anaconda3/lib/python3.9/site-packages/statsmodels/tsa/statespace/sarimax.py:1906: RuntimeWarning: invalid value encountered in reciprocal\n",
      "  return np.roots(self.polynomial_reduced_ma)**-1\n",
      "/opt/anaconda3/lib/python3.9/site-packages/statsmodels/tsa/statespace/sarimax.py:1906: RuntimeWarning: invalid value encountered in reciprocal\n",
      "  return np.roots(self.polynomial_reduced_ma)**-1\n",
      "/opt/anaconda3/lib/python3.9/site-packages/statsmodels/tsa/statespace/sarimax.py:1899: RuntimeWarning: invalid value encountered in reciprocal\n",
      "  return np.roots(self.polynomial_reduced_ar)**-1\n",
      "/opt/anaconda3/lib/python3.9/site-packages/statsmodels/tsa/statespace/sarimax.py:1906: RuntimeWarning: invalid value encountered in reciprocal\n",
      "  return np.roots(self.polynomial_reduced_ma)**-1\n"
     ]
    },
    {
     "name": "stdout",
     "output_type": "stream",
     "text": [
      "Hyperparameters: (0, 0, 1, 0, 0, 0), RMSE: 5.846\n"
     ]
    },
    {
     "name": "stderr",
     "output_type": "stream",
     "text": [
      "/opt/anaconda3/lib/python3.9/site-packages/statsmodels/tsa/statespace/sarimax.py:1899: RuntimeWarning: invalid value encountered in reciprocal\n",
      "  return np.roots(self.polynomial_reduced_ar)**-1\n",
      "/opt/anaconda3/lib/python3.9/site-packages/statsmodels/tsa/statespace/sarimax.py:1899: RuntimeWarning: invalid value encountered in reciprocal\n",
      "  return np.roots(self.polynomial_reduced_ar)**-1\n",
      "/opt/anaconda3/lib/python3.9/site-packages/statsmodels/tsa/statespace/sarimax.py:1906: RuntimeWarning: invalid value encountered in reciprocal\n",
      "  return np.roots(self.polynomial_reduced_ma)**-1\n",
      "/opt/anaconda3/lib/python3.9/site-packages/statsmodels/tsa/statespace/sarimax.py:1906: RuntimeWarning: invalid value encountered in reciprocal\n",
      "  return np.roots(self.polynomial_reduced_ma)**-1\n",
      "/opt/anaconda3/lib/python3.9/site-packages/statsmodels/tsa/statespace/sarimax.py:1906: RuntimeWarning: invalid value encountered in reciprocal\n",
      "  return np.roots(self.polynomial_reduced_ma)**-1\n",
      "/opt/anaconda3/lib/python3.9/site-packages/statsmodels/tsa/statespace/sarimax.py:1899: RuntimeWarning: invalid value encountered in reciprocal\n",
      "  return np.roots(self.polynomial_reduced_ar)**-1\n",
      "/opt/anaconda3/lib/python3.9/site-packages/statsmodels/tsa/statespace/sarimax.py:1899: RuntimeWarning: invalid value encountered in reciprocal\n",
      "  return np.roots(self.polynomial_reduced_ar)**-1\n",
      "/opt/anaconda3/lib/python3.9/site-packages/statsmodels/tsa/statespace/sarimax.py:1899: RuntimeWarning: invalid value encountered in reciprocal\n",
      "  return np.roots(self.polynomial_reduced_ar)**-1\n",
      "/opt/anaconda3/lib/python3.9/site-packages/statsmodels/tsa/statespace/sarimax.py:1906: RuntimeWarning: invalid value encountered in reciprocal\n",
      "  return np.roots(self.polynomial_reduced_ma)**-1\n",
      "/opt/anaconda3/lib/python3.9/site-packages/statsmodels/tsa/statespace/sarimax.py:1906: RuntimeWarning: invalid value encountered in reciprocal\n",
      "  return np.roots(self.polynomial_reduced_ma)**-1\n",
      "/opt/anaconda3/lib/python3.9/site-packages/statsmodels/tsa/statespace/sarimax.py:1906: RuntimeWarning: invalid value encountered in reciprocal\n",
      "  return np.roots(self.polynomial_reduced_ma)**-1\n",
      "/opt/anaconda3/lib/python3.9/site-packages/statsmodels/tsa/statespace/sarimax.py:1899: RuntimeWarning: invalid value encountered in reciprocal\n",
      "  return np.roots(self.polynomial_reduced_ar)**-1\n",
      "/opt/anaconda3/lib/python3.9/site-packages/statsmodels/tsa/statespace/sarimax.py:1906: RuntimeWarning: invalid value encountered in reciprocal\n",
      "  return np.roots(self.polynomial_reduced_ma)**-1\n"
     ]
    },
    {
     "name": "stdout",
     "output_type": "stream",
     "text": [
      "Hyperparameters: (0, 0, 1, 0, 0, 1), RMSE: 5.846\n"
     ]
    },
    {
     "name": "stderr",
     "output_type": "stream",
     "text": [
      "/opt/anaconda3/lib/python3.9/site-packages/statsmodels/tsa/statespace/sarimax.py:1899: RuntimeWarning: invalid value encountered in reciprocal\n",
      "  return np.roots(self.polynomial_reduced_ar)**-1\n",
      "/opt/anaconda3/lib/python3.9/site-packages/statsmodels/tsa/statespace/sarimax.py:1899: RuntimeWarning: invalid value encountered in reciprocal\n",
      "  return np.roots(self.polynomial_reduced_ar)**-1\n",
      "/opt/anaconda3/lib/python3.9/site-packages/statsmodels/tsa/statespace/sarimax.py:1906: RuntimeWarning: invalid value encountered in reciprocal\n",
      "  return np.roots(self.polynomial_reduced_ma)**-1\n",
      "/opt/anaconda3/lib/python3.9/site-packages/statsmodels/tsa/statespace/sarimax.py:1906: RuntimeWarning: invalid value encountered in reciprocal\n",
      "  return np.roots(self.polynomial_reduced_ma)**-1\n",
      "/opt/anaconda3/lib/python3.9/site-packages/statsmodels/tsa/statespace/sarimax.py:1906: RuntimeWarning: invalid value encountered in reciprocal\n",
      "  return np.roots(self.polynomial_reduced_ma)**-1\n",
      "/opt/anaconda3/lib/python3.9/site-packages/statsmodels/tsa/statespace/sarimax.py:1899: RuntimeWarning: invalid value encountered in reciprocal\n",
      "  return np.roots(self.polynomial_reduced_ar)**-1\n",
      "/opt/anaconda3/lib/python3.9/site-packages/statsmodels/tsa/statespace/sarimax.py:1899: RuntimeWarning: invalid value encountered in reciprocal\n",
      "  return np.roots(self.polynomial_reduced_ar)**-1\n",
      "/opt/anaconda3/lib/python3.9/site-packages/statsmodels/tsa/statespace/sarimax.py:1899: RuntimeWarning: invalid value encountered in reciprocal\n",
      "  return np.roots(self.polynomial_reduced_ar)**-1\n",
      "/opt/anaconda3/lib/python3.9/site-packages/statsmodels/tsa/statespace/sarimax.py:1906: RuntimeWarning: invalid value encountered in reciprocal\n",
      "  return np.roots(self.polynomial_reduced_ma)**-1\n",
      "/opt/anaconda3/lib/python3.9/site-packages/statsmodels/tsa/statespace/sarimax.py:1906: RuntimeWarning: invalid value encountered in reciprocal\n",
      "  return np.roots(self.polynomial_reduced_ma)**-1\n",
      "/opt/anaconda3/lib/python3.9/site-packages/statsmodels/tsa/statespace/sarimax.py:1906: RuntimeWarning: invalid value encountered in reciprocal\n",
      "  return np.roots(self.polynomial_reduced_ma)**-1\n",
      "/opt/anaconda3/lib/python3.9/site-packages/statsmodels/tsa/statespace/sarimax.py:1899: RuntimeWarning: invalid value encountered in reciprocal\n",
      "  return np.roots(self.polynomial_reduced_ar)**-1\n",
      "/opt/anaconda3/lib/python3.9/site-packages/statsmodels/tsa/statespace/sarimax.py:1906: RuntimeWarning: invalid value encountered in reciprocal\n",
      "  return np.roots(self.polynomial_reduced_ma)**-1\n"
     ]
    },
    {
     "name": "stdout",
     "output_type": "stream",
     "text": [
      "Hyperparameters: (0, 0, 1, 0, 0, 2), RMSE: 5.846\n"
     ]
    },
    {
     "name": "stderr",
     "output_type": "stream",
     "text": [
      "/opt/anaconda3/lib/python3.9/site-packages/statsmodels/tsa/statespace/sarimax.py:1899: RuntimeWarning: invalid value encountered in reciprocal\n",
      "  return np.roots(self.polynomial_reduced_ar)**-1\n",
      "/opt/anaconda3/lib/python3.9/site-packages/statsmodels/tsa/statespace/sarimax.py:1899: RuntimeWarning: invalid value encountered in reciprocal\n",
      "  return np.roots(self.polynomial_reduced_ar)**-1\n",
      "/opt/anaconda3/lib/python3.9/site-packages/statsmodels/tsa/statespace/sarimax.py:1906: RuntimeWarning: invalid value encountered in reciprocal\n",
      "  return np.roots(self.polynomial_reduced_ma)**-1\n",
      "/opt/anaconda3/lib/python3.9/site-packages/statsmodels/tsa/statespace/sarimax.py:1906: RuntimeWarning: invalid value encountered in reciprocal\n",
      "  return np.roots(self.polynomial_reduced_ma)**-1\n",
      "/opt/anaconda3/lib/python3.9/site-packages/statsmodels/tsa/statespace/sarimax.py:1906: RuntimeWarning: invalid value encountered in reciprocal\n",
      "  return np.roots(self.polynomial_reduced_ma)**-1\n",
      "/opt/anaconda3/lib/python3.9/site-packages/statsmodels/tsa/statespace/sarimax.py:1899: RuntimeWarning: invalid value encountered in reciprocal\n",
      "  return np.roots(self.polynomial_reduced_ar)**-1\n",
      "/opt/anaconda3/lib/python3.9/site-packages/statsmodels/tsa/statespace/sarimax.py:1899: RuntimeWarning: invalid value encountered in reciprocal\n",
      "  return np.roots(self.polynomial_reduced_ar)**-1\n",
      "/opt/anaconda3/lib/python3.9/site-packages/statsmodels/tsa/statespace/sarimax.py:1899: RuntimeWarning: invalid value encountered in reciprocal\n",
      "  return np.roots(self.polynomial_reduced_ar)**-1\n",
      "/opt/anaconda3/lib/python3.9/site-packages/statsmodels/tsa/statespace/sarimax.py:1906: RuntimeWarning: invalid value encountered in reciprocal\n",
      "  return np.roots(self.polynomial_reduced_ma)**-1\n",
      "/opt/anaconda3/lib/python3.9/site-packages/statsmodels/tsa/statespace/sarimax.py:1906: RuntimeWarning: invalid value encountered in reciprocal\n",
      "  return np.roots(self.polynomial_reduced_ma)**-1\n",
      "/opt/anaconda3/lib/python3.9/site-packages/statsmodels/tsa/statespace/sarimax.py:1906: RuntimeWarning: invalid value encountered in reciprocal\n",
      "  return np.roots(self.polynomial_reduced_ma)**-1\n",
      "/opt/anaconda3/lib/python3.9/site-packages/statsmodels/tsa/statespace/sarimax.py:1899: RuntimeWarning: invalid value encountered in reciprocal\n",
      "  return np.roots(self.polynomial_reduced_ar)**-1\n",
      "/opt/anaconda3/lib/python3.9/site-packages/statsmodels/tsa/statespace/sarimax.py:1906: RuntimeWarning: invalid value encountered in reciprocal\n",
      "  return np.roots(self.polynomial_reduced_ma)**-1\n"
     ]
    },
    {
     "name": "stdout",
     "output_type": "stream",
     "text": [
      "Hyperparameters: (0, 0, 1, 0, 1, 0), RMSE: 5.846\n"
     ]
    },
    {
     "name": "stderr",
     "output_type": "stream",
     "text": [
      "/opt/anaconda3/lib/python3.9/site-packages/statsmodels/tsa/statespace/sarimax.py:1899: RuntimeWarning: invalid value encountered in reciprocal\n",
      "  return np.roots(self.polynomial_reduced_ar)**-1\n",
      "/opt/anaconda3/lib/python3.9/site-packages/statsmodels/tsa/statespace/sarimax.py:1899: RuntimeWarning: invalid value encountered in reciprocal\n",
      "  return np.roots(self.polynomial_reduced_ar)**-1\n",
      "/opt/anaconda3/lib/python3.9/site-packages/statsmodels/tsa/statespace/sarimax.py:1906: RuntimeWarning: invalid value encountered in reciprocal\n",
      "  return np.roots(self.polynomial_reduced_ma)**-1\n",
      "/opt/anaconda3/lib/python3.9/site-packages/statsmodels/tsa/statespace/sarimax.py:1906: RuntimeWarning: invalid value encountered in reciprocal\n",
      "  return np.roots(self.polynomial_reduced_ma)**-1\n",
      "/opt/anaconda3/lib/python3.9/site-packages/statsmodels/tsa/statespace/sarimax.py:1906: RuntimeWarning: invalid value encountered in reciprocal\n",
      "  return np.roots(self.polynomial_reduced_ma)**-1\n",
      "/opt/anaconda3/lib/python3.9/site-packages/statsmodels/tsa/statespace/sarimax.py:1899: RuntimeWarning: invalid value encountered in reciprocal\n",
      "  return np.roots(self.polynomial_reduced_ar)**-1\n",
      "/opt/anaconda3/lib/python3.9/site-packages/statsmodels/tsa/statespace/sarimax.py:1899: RuntimeWarning: invalid value encountered in reciprocal\n",
      "  return np.roots(self.polynomial_reduced_ar)**-1\n",
      "/opt/anaconda3/lib/python3.9/site-packages/statsmodels/tsa/statespace/sarimax.py:1899: RuntimeWarning: invalid value encountered in reciprocal\n",
      "  return np.roots(self.polynomial_reduced_ar)**-1\n",
      "/opt/anaconda3/lib/python3.9/site-packages/statsmodels/tsa/statespace/sarimax.py:1906: RuntimeWarning: invalid value encountered in reciprocal\n",
      "  return np.roots(self.polynomial_reduced_ma)**-1\n",
      "/opt/anaconda3/lib/python3.9/site-packages/statsmodels/tsa/statespace/sarimax.py:1906: RuntimeWarning: invalid value encountered in reciprocal\n",
      "  return np.roots(self.polynomial_reduced_ma)**-1\n",
      "/opt/anaconda3/lib/python3.9/site-packages/statsmodels/tsa/statespace/sarimax.py:1906: RuntimeWarning: invalid value encountered in reciprocal\n",
      "  return np.roots(self.polynomial_reduced_ma)**-1\n",
      "/opt/anaconda3/lib/python3.9/site-packages/statsmodels/tsa/statespace/sarimax.py:1899: RuntimeWarning: invalid value encountered in reciprocal\n",
      "  return np.roots(self.polynomial_reduced_ar)**-1\n",
      "/opt/anaconda3/lib/python3.9/site-packages/statsmodels/tsa/statespace/sarimax.py:1906: RuntimeWarning: invalid value encountered in reciprocal\n",
      "  return np.roots(self.polynomial_reduced_ma)**-1\n"
     ]
    },
    {
     "name": "stdout",
     "output_type": "stream",
     "text": [
      "Hyperparameters: (0, 0, 1, 0, 1, 1), RMSE: 5.846\n"
     ]
    },
    {
     "name": "stderr",
     "output_type": "stream",
     "text": [
      "/opt/anaconda3/lib/python3.9/site-packages/statsmodels/tsa/statespace/sarimax.py:1899: RuntimeWarning: invalid value encountered in reciprocal\n",
      "  return np.roots(self.polynomial_reduced_ar)**-1\n",
      "/opt/anaconda3/lib/python3.9/site-packages/statsmodels/tsa/statespace/sarimax.py:1899: RuntimeWarning: invalid value encountered in reciprocal\n",
      "  return np.roots(self.polynomial_reduced_ar)**-1\n",
      "/opt/anaconda3/lib/python3.9/site-packages/statsmodels/tsa/statespace/sarimax.py:1906: RuntimeWarning: invalid value encountered in reciprocal\n",
      "  return np.roots(self.polynomial_reduced_ma)**-1\n",
      "/opt/anaconda3/lib/python3.9/site-packages/statsmodels/tsa/statespace/sarimax.py:1906: RuntimeWarning: invalid value encountered in reciprocal\n",
      "  return np.roots(self.polynomial_reduced_ma)**-1\n",
      "/opt/anaconda3/lib/python3.9/site-packages/statsmodels/tsa/statespace/sarimax.py:1906: RuntimeWarning: invalid value encountered in reciprocal\n",
      "  return np.roots(self.polynomial_reduced_ma)**-1\n",
      "/opt/anaconda3/lib/python3.9/site-packages/statsmodels/tsa/statespace/sarimax.py:1899: RuntimeWarning: invalid value encountered in reciprocal\n",
      "  return np.roots(self.polynomial_reduced_ar)**-1\n",
      "/opt/anaconda3/lib/python3.9/site-packages/statsmodels/tsa/statespace/sarimax.py:1899: RuntimeWarning: invalid value encountered in reciprocal\n",
      "  return np.roots(self.polynomial_reduced_ar)**-1\n",
      "/opt/anaconda3/lib/python3.9/site-packages/statsmodels/tsa/statespace/sarimax.py:1899: RuntimeWarning: invalid value encountered in reciprocal\n",
      "  return np.roots(self.polynomial_reduced_ar)**-1\n",
      "/opt/anaconda3/lib/python3.9/site-packages/statsmodels/tsa/statespace/sarimax.py:1906: RuntimeWarning: invalid value encountered in reciprocal\n",
      "  return np.roots(self.polynomial_reduced_ma)**-1\n",
      "/opt/anaconda3/lib/python3.9/site-packages/statsmodels/tsa/statespace/sarimax.py:1906: RuntimeWarning: invalid value encountered in reciprocal\n",
      "  return np.roots(self.polynomial_reduced_ma)**-1\n",
      "/opt/anaconda3/lib/python3.9/site-packages/statsmodels/tsa/statespace/sarimax.py:1906: RuntimeWarning: invalid value encountered in reciprocal\n",
      "  return np.roots(self.polynomial_reduced_ma)**-1\n",
      "/opt/anaconda3/lib/python3.9/site-packages/statsmodels/tsa/statespace/sarimax.py:1899: RuntimeWarning: invalid value encountered in reciprocal\n",
      "  return np.roots(self.polynomial_reduced_ar)**-1\n",
      "/opt/anaconda3/lib/python3.9/site-packages/statsmodels/tsa/statespace/sarimax.py:1906: RuntimeWarning: invalid value encountered in reciprocal\n",
      "  return np.roots(self.polynomial_reduced_ma)**-1\n"
     ]
    },
    {
     "name": "stdout",
     "output_type": "stream",
     "text": [
      "Hyperparameters: (0, 0, 1, 0, 1, 2), RMSE: 5.846\n"
     ]
    },
    {
     "name": "stderr",
     "output_type": "stream",
     "text": [
      "/opt/anaconda3/lib/python3.9/site-packages/statsmodels/tsa/statespace/sarimax.py:1899: RuntimeWarning: invalid value encountered in reciprocal\n",
      "  return np.roots(self.polynomial_reduced_ar)**-1\n",
      "/opt/anaconda3/lib/python3.9/site-packages/statsmodels/tsa/statespace/sarimax.py:1899: RuntimeWarning: invalid value encountered in reciprocal\n",
      "  return np.roots(self.polynomial_reduced_ar)**-1\n",
      "/opt/anaconda3/lib/python3.9/site-packages/statsmodels/tsa/statespace/sarimax.py:1906: RuntimeWarning: invalid value encountered in reciprocal\n",
      "  return np.roots(self.polynomial_reduced_ma)**-1\n",
      "/opt/anaconda3/lib/python3.9/site-packages/statsmodels/tsa/statespace/sarimax.py:1906: RuntimeWarning: invalid value encountered in reciprocal\n",
      "  return np.roots(self.polynomial_reduced_ma)**-1\n",
      "/opt/anaconda3/lib/python3.9/site-packages/statsmodels/tsa/statespace/sarimax.py:1906: RuntimeWarning: invalid value encountered in reciprocal\n",
      "  return np.roots(self.polynomial_reduced_ma)**-1\n",
      "/opt/anaconda3/lib/python3.9/site-packages/statsmodels/tsa/statespace/sarimax.py:1899: RuntimeWarning: invalid value encountered in reciprocal\n",
      "  return np.roots(self.polynomial_reduced_ar)**-1\n",
      "/opt/anaconda3/lib/python3.9/site-packages/statsmodels/tsa/statespace/sarimax.py:1899: RuntimeWarning: invalid value encountered in reciprocal\n",
      "  return np.roots(self.polynomial_reduced_ar)**-1\n",
      "/opt/anaconda3/lib/python3.9/site-packages/statsmodels/tsa/statespace/sarimax.py:1899: RuntimeWarning: invalid value encountered in reciprocal\n",
      "  return np.roots(self.polynomial_reduced_ar)**-1\n",
      "/opt/anaconda3/lib/python3.9/site-packages/statsmodels/tsa/statespace/sarimax.py:1906: RuntimeWarning: invalid value encountered in reciprocal\n",
      "  return np.roots(self.polynomial_reduced_ma)**-1\n",
      "/opt/anaconda3/lib/python3.9/site-packages/statsmodels/tsa/statespace/sarimax.py:1906: RuntimeWarning: invalid value encountered in reciprocal\n",
      "  return np.roots(self.polynomial_reduced_ma)**-1\n",
      "/opt/anaconda3/lib/python3.9/site-packages/statsmodels/tsa/statespace/sarimax.py:1906: RuntimeWarning: invalid value encountered in reciprocal\n",
      "  return np.roots(self.polynomial_reduced_ma)**-1\n",
      "/opt/anaconda3/lib/python3.9/site-packages/statsmodels/tsa/statespace/sarimax.py:1899: RuntimeWarning: invalid value encountered in reciprocal\n",
      "  return np.roots(self.polynomial_reduced_ar)**-1\n",
      "/opt/anaconda3/lib/python3.9/site-packages/statsmodels/tsa/statespace/sarimax.py:1906: RuntimeWarning: invalid value encountered in reciprocal\n",
      "  return np.roots(self.polynomial_reduced_ma)**-1\n"
     ]
    },
    {
     "name": "stdout",
     "output_type": "stream",
     "text": [
      "Hyperparameters: (0, 0, 1, 0, 2, 0), RMSE: 5.846\n"
     ]
    },
    {
     "name": "stderr",
     "output_type": "stream",
     "text": [
      "/opt/anaconda3/lib/python3.9/site-packages/statsmodels/tsa/statespace/sarimax.py:1899: RuntimeWarning: invalid value encountered in reciprocal\n",
      "  return np.roots(self.polynomial_reduced_ar)**-1\n",
      "/opt/anaconda3/lib/python3.9/site-packages/statsmodels/tsa/statespace/sarimax.py:1899: RuntimeWarning: invalid value encountered in reciprocal\n",
      "  return np.roots(self.polynomial_reduced_ar)**-1\n",
      "/opt/anaconda3/lib/python3.9/site-packages/statsmodels/tsa/statespace/sarimax.py:1906: RuntimeWarning: invalid value encountered in reciprocal\n",
      "  return np.roots(self.polynomial_reduced_ma)**-1\n",
      "/opt/anaconda3/lib/python3.9/site-packages/statsmodels/tsa/statespace/sarimax.py:1906: RuntimeWarning: invalid value encountered in reciprocal\n",
      "  return np.roots(self.polynomial_reduced_ma)**-1\n",
      "/opt/anaconda3/lib/python3.9/site-packages/statsmodels/tsa/statespace/sarimax.py:1906: RuntimeWarning: invalid value encountered in reciprocal\n",
      "  return np.roots(self.polynomial_reduced_ma)**-1\n",
      "/opt/anaconda3/lib/python3.9/site-packages/statsmodels/tsa/statespace/sarimax.py:1899: RuntimeWarning: invalid value encountered in reciprocal\n",
      "  return np.roots(self.polynomial_reduced_ar)**-1\n",
      "/opt/anaconda3/lib/python3.9/site-packages/statsmodels/tsa/statespace/sarimax.py:1899: RuntimeWarning: invalid value encountered in reciprocal\n",
      "  return np.roots(self.polynomial_reduced_ar)**-1\n",
      "/opt/anaconda3/lib/python3.9/site-packages/statsmodels/tsa/statespace/sarimax.py:1899: RuntimeWarning: invalid value encountered in reciprocal\n",
      "  return np.roots(self.polynomial_reduced_ar)**-1\n",
      "/opt/anaconda3/lib/python3.9/site-packages/statsmodels/tsa/statespace/sarimax.py:1906: RuntimeWarning: invalid value encountered in reciprocal\n",
      "  return np.roots(self.polynomial_reduced_ma)**-1\n",
      "/opt/anaconda3/lib/python3.9/site-packages/statsmodels/tsa/statespace/sarimax.py:1906: RuntimeWarning: invalid value encountered in reciprocal\n",
      "  return np.roots(self.polynomial_reduced_ma)**-1\n",
      "/opt/anaconda3/lib/python3.9/site-packages/statsmodels/tsa/statespace/sarimax.py:1906: RuntimeWarning: invalid value encountered in reciprocal\n",
      "  return np.roots(self.polynomial_reduced_ma)**-1\n",
      "/opt/anaconda3/lib/python3.9/site-packages/statsmodels/tsa/statespace/sarimax.py:1899: RuntimeWarning: invalid value encountered in reciprocal\n",
      "  return np.roots(self.polynomial_reduced_ar)**-1\n",
      "/opt/anaconda3/lib/python3.9/site-packages/statsmodels/tsa/statespace/sarimax.py:1906: RuntimeWarning: invalid value encountered in reciprocal\n",
      "  return np.roots(self.polynomial_reduced_ma)**-1\n"
     ]
    },
    {
     "name": "stdout",
     "output_type": "stream",
     "text": [
      "Hyperparameters: (0, 0, 1, 0, 2, 1), RMSE: 5.846\n"
     ]
    },
    {
     "name": "stderr",
     "output_type": "stream",
     "text": [
      "/opt/anaconda3/lib/python3.9/site-packages/statsmodels/tsa/statespace/sarimax.py:1899: RuntimeWarning: invalid value encountered in reciprocal\n",
      "  return np.roots(self.polynomial_reduced_ar)**-1\n",
      "/opt/anaconda3/lib/python3.9/site-packages/statsmodels/tsa/statespace/sarimax.py:1899: RuntimeWarning: invalid value encountered in reciprocal\n",
      "  return np.roots(self.polynomial_reduced_ar)**-1\n",
      "/opt/anaconda3/lib/python3.9/site-packages/statsmodels/tsa/statespace/sarimax.py:1906: RuntimeWarning: invalid value encountered in reciprocal\n",
      "  return np.roots(self.polynomial_reduced_ma)**-1\n",
      "/opt/anaconda3/lib/python3.9/site-packages/statsmodels/tsa/statespace/sarimax.py:1906: RuntimeWarning: invalid value encountered in reciprocal\n",
      "  return np.roots(self.polynomial_reduced_ma)**-1\n",
      "/opt/anaconda3/lib/python3.9/site-packages/statsmodels/tsa/statespace/sarimax.py:1906: RuntimeWarning: invalid value encountered in reciprocal\n",
      "  return np.roots(self.polynomial_reduced_ma)**-1\n",
      "/opt/anaconda3/lib/python3.9/site-packages/statsmodels/tsa/statespace/sarimax.py:1899: RuntimeWarning: invalid value encountered in reciprocal\n",
      "  return np.roots(self.polynomial_reduced_ar)**-1\n",
      "/opt/anaconda3/lib/python3.9/site-packages/statsmodels/tsa/statespace/sarimax.py:1899: RuntimeWarning: invalid value encountered in reciprocal\n",
      "  return np.roots(self.polynomial_reduced_ar)**-1\n",
      "/opt/anaconda3/lib/python3.9/site-packages/statsmodels/tsa/statespace/sarimax.py:1899: RuntimeWarning: invalid value encountered in reciprocal\n",
      "  return np.roots(self.polynomial_reduced_ar)**-1\n",
      "/opt/anaconda3/lib/python3.9/site-packages/statsmodels/tsa/statespace/sarimax.py:1906: RuntimeWarning: invalid value encountered in reciprocal\n",
      "  return np.roots(self.polynomial_reduced_ma)**-1\n",
      "/opt/anaconda3/lib/python3.9/site-packages/statsmodels/tsa/statespace/sarimax.py:1906: RuntimeWarning: invalid value encountered in reciprocal\n",
      "  return np.roots(self.polynomial_reduced_ma)**-1\n",
      "/opt/anaconda3/lib/python3.9/site-packages/statsmodels/tsa/statespace/sarimax.py:1906: RuntimeWarning: invalid value encountered in reciprocal\n",
      "  return np.roots(self.polynomial_reduced_ma)**-1\n",
      "/opt/anaconda3/lib/python3.9/site-packages/statsmodels/tsa/statespace/sarimax.py:1899: RuntimeWarning: invalid value encountered in reciprocal\n",
      "  return np.roots(self.polynomial_reduced_ar)**-1\n",
      "/opt/anaconda3/lib/python3.9/site-packages/statsmodels/tsa/statespace/sarimax.py:1906: RuntimeWarning: invalid value encountered in reciprocal\n",
      "  return np.roots(self.polynomial_reduced_ma)**-1\n"
     ]
    },
    {
     "name": "stdout",
     "output_type": "stream",
     "text": [
      "Hyperparameters: (0, 0, 1, 0, 2, 2), RMSE: 5.846\n"
     ]
    },
    {
     "name": "stderr",
     "output_type": "stream",
     "text": [
      "/opt/anaconda3/lib/python3.9/site-packages/statsmodels/tsa/statespace/sarimax.py:1899: RuntimeWarning: invalid value encountered in reciprocal\n",
      "  return np.roots(self.polynomial_reduced_ar)**-1\n",
      "/opt/anaconda3/lib/python3.9/site-packages/statsmodels/tsa/statespace/sarimax.py:1899: RuntimeWarning: invalid value encountered in reciprocal\n",
      "  return np.roots(self.polynomial_reduced_ar)**-1\n",
      "/opt/anaconda3/lib/python3.9/site-packages/statsmodels/tsa/statespace/sarimax.py:1906: RuntimeWarning: invalid value encountered in reciprocal\n",
      "  return np.roots(self.polynomial_reduced_ma)**-1\n",
      "/opt/anaconda3/lib/python3.9/site-packages/statsmodels/tsa/statespace/sarimax.py:1906: RuntimeWarning: invalid value encountered in reciprocal\n",
      "  return np.roots(self.polynomial_reduced_ma)**-1\n",
      "/opt/anaconda3/lib/python3.9/site-packages/statsmodels/tsa/statespace/sarimax.py:1906: RuntimeWarning: invalid value encountered in reciprocal\n",
      "  return np.roots(self.polynomial_reduced_ma)**-1\n",
      "/opt/anaconda3/lib/python3.9/site-packages/statsmodels/tsa/statespace/sarimax.py:1899: RuntimeWarning: invalid value encountered in reciprocal\n",
      "  return np.roots(self.polynomial_reduced_ar)**-1\n",
      "/opt/anaconda3/lib/python3.9/site-packages/statsmodels/tsa/statespace/sarimax.py:1899: RuntimeWarning: invalid value encountered in reciprocal\n",
      "  return np.roots(self.polynomial_reduced_ar)**-1\n",
      "/opt/anaconda3/lib/python3.9/site-packages/statsmodels/tsa/statespace/sarimax.py:1899: RuntimeWarning: invalid value encountered in reciprocal\n",
      "  return np.roots(self.polynomial_reduced_ar)**-1\n",
      "/opt/anaconda3/lib/python3.9/site-packages/statsmodels/tsa/statespace/sarimax.py:1906: RuntimeWarning: invalid value encountered in reciprocal\n",
      "  return np.roots(self.polynomial_reduced_ma)**-1\n",
      "/opt/anaconda3/lib/python3.9/site-packages/statsmodels/tsa/statespace/sarimax.py:1906: RuntimeWarning: invalid value encountered in reciprocal\n",
      "  return np.roots(self.polynomial_reduced_ma)**-1\n",
      "/opt/anaconda3/lib/python3.9/site-packages/statsmodels/tsa/statespace/sarimax.py:1906: RuntimeWarning: invalid value encountered in reciprocal\n",
      "  return np.roots(self.polynomial_reduced_ma)**-1\n",
      "/opt/anaconda3/lib/python3.9/site-packages/statsmodels/tsa/statespace/sarimax.py:1899: RuntimeWarning: invalid value encountered in reciprocal\n",
      "  return np.roots(self.polynomial_reduced_ar)**-1\n",
      "/opt/anaconda3/lib/python3.9/site-packages/statsmodels/tsa/statespace/sarimax.py:1906: RuntimeWarning: invalid value encountered in reciprocal\n",
      "  return np.roots(self.polynomial_reduced_ma)**-1\n"
     ]
    },
    {
     "name": "stdout",
     "output_type": "stream",
     "text": [
      "Hyperparameters: (0, 0, 1, 1, 0, 0), RMSE: 5.846\n"
     ]
    },
    {
     "name": "stderr",
     "output_type": "stream",
     "text": [
      "/opt/anaconda3/lib/python3.9/site-packages/statsmodels/tsa/statespace/sarimax.py:1899: RuntimeWarning: invalid value encountered in reciprocal\n",
      "  return np.roots(self.polynomial_reduced_ar)**-1\n",
      "/opt/anaconda3/lib/python3.9/site-packages/statsmodels/tsa/statespace/sarimax.py:1899: RuntimeWarning: invalid value encountered in reciprocal\n",
      "  return np.roots(self.polynomial_reduced_ar)**-1\n",
      "/opt/anaconda3/lib/python3.9/site-packages/statsmodels/tsa/statespace/sarimax.py:1906: RuntimeWarning: invalid value encountered in reciprocal\n",
      "  return np.roots(self.polynomial_reduced_ma)**-1\n",
      "/opt/anaconda3/lib/python3.9/site-packages/statsmodels/tsa/statespace/sarimax.py:1906: RuntimeWarning: invalid value encountered in reciprocal\n",
      "  return np.roots(self.polynomial_reduced_ma)**-1\n",
      "/opt/anaconda3/lib/python3.9/site-packages/statsmodels/tsa/statespace/sarimax.py:1906: RuntimeWarning: invalid value encountered in reciprocal\n",
      "  return np.roots(self.polynomial_reduced_ma)**-1\n",
      "/opt/anaconda3/lib/python3.9/site-packages/statsmodels/tsa/statespace/sarimax.py:1899: RuntimeWarning: invalid value encountered in reciprocal\n",
      "  return np.roots(self.polynomial_reduced_ar)**-1\n",
      "/opt/anaconda3/lib/python3.9/site-packages/statsmodels/tsa/statespace/sarimax.py:1899: RuntimeWarning: invalid value encountered in reciprocal\n",
      "  return np.roots(self.polynomial_reduced_ar)**-1\n",
      "/opt/anaconda3/lib/python3.9/site-packages/statsmodels/tsa/statespace/sarimax.py:1899: RuntimeWarning: invalid value encountered in reciprocal\n",
      "  return np.roots(self.polynomial_reduced_ar)**-1\n",
      "/opt/anaconda3/lib/python3.9/site-packages/statsmodels/tsa/statespace/sarimax.py:1906: RuntimeWarning: invalid value encountered in reciprocal\n",
      "  return np.roots(self.polynomial_reduced_ma)**-1\n",
      "/opt/anaconda3/lib/python3.9/site-packages/statsmodels/tsa/statespace/sarimax.py:1906: RuntimeWarning: invalid value encountered in reciprocal\n",
      "  return np.roots(self.polynomial_reduced_ma)**-1\n",
      "/opt/anaconda3/lib/python3.9/site-packages/statsmodels/tsa/statespace/sarimax.py:1906: RuntimeWarning: invalid value encountered in reciprocal\n",
      "  return np.roots(self.polynomial_reduced_ma)**-1\n",
      "/opt/anaconda3/lib/python3.9/site-packages/statsmodels/tsa/statespace/sarimax.py:1899: RuntimeWarning: invalid value encountered in reciprocal\n",
      "  return np.roots(self.polynomial_reduced_ar)**-1\n",
      "/opt/anaconda3/lib/python3.9/site-packages/statsmodels/tsa/statespace/sarimax.py:1906: RuntimeWarning: invalid value encountered in reciprocal\n",
      "  return np.roots(self.polynomial_reduced_ma)**-1\n"
     ]
    },
    {
     "name": "stdout",
     "output_type": "stream",
     "text": [
      "Hyperparameters: (0, 0, 1, 1, 0, 1), RMSE: 5.846\n"
     ]
    },
    {
     "name": "stderr",
     "output_type": "stream",
     "text": [
      "/opt/anaconda3/lib/python3.9/site-packages/statsmodels/tsa/statespace/sarimax.py:1899: RuntimeWarning: invalid value encountered in reciprocal\n",
      "  return np.roots(self.polynomial_reduced_ar)**-1\n",
      "/opt/anaconda3/lib/python3.9/site-packages/statsmodels/tsa/statespace/sarimax.py:1899: RuntimeWarning: invalid value encountered in reciprocal\n",
      "  return np.roots(self.polynomial_reduced_ar)**-1\n",
      "/opt/anaconda3/lib/python3.9/site-packages/statsmodels/tsa/statespace/sarimax.py:1906: RuntimeWarning: invalid value encountered in reciprocal\n",
      "  return np.roots(self.polynomial_reduced_ma)**-1\n",
      "/opt/anaconda3/lib/python3.9/site-packages/statsmodels/tsa/statespace/sarimax.py:1906: RuntimeWarning: invalid value encountered in reciprocal\n",
      "  return np.roots(self.polynomial_reduced_ma)**-1\n",
      "/opt/anaconda3/lib/python3.9/site-packages/statsmodels/tsa/statespace/sarimax.py:1906: RuntimeWarning: invalid value encountered in reciprocal\n",
      "  return np.roots(self.polynomial_reduced_ma)**-1\n",
      "/opt/anaconda3/lib/python3.9/site-packages/statsmodels/tsa/statespace/sarimax.py:1899: RuntimeWarning: invalid value encountered in reciprocal\n",
      "  return np.roots(self.polynomial_reduced_ar)**-1\n",
      "/opt/anaconda3/lib/python3.9/site-packages/statsmodels/tsa/statespace/sarimax.py:1899: RuntimeWarning: invalid value encountered in reciprocal\n",
      "  return np.roots(self.polynomial_reduced_ar)**-1\n",
      "/opt/anaconda3/lib/python3.9/site-packages/statsmodels/tsa/statespace/sarimax.py:1899: RuntimeWarning: invalid value encountered in reciprocal\n",
      "  return np.roots(self.polynomial_reduced_ar)**-1\n",
      "/opt/anaconda3/lib/python3.9/site-packages/statsmodels/tsa/statespace/sarimax.py:1899: RuntimeWarning: invalid value encountered in reciprocal\n",
      "  return np.roots(self.polynomial_reduced_ar)**-1\n",
      "/opt/anaconda3/lib/python3.9/site-packages/statsmodels/tsa/statespace/sarimax.py:1906: RuntimeWarning: invalid value encountered in reciprocal\n",
      "  return np.roots(self.polynomial_reduced_ma)**-1\n",
      "/opt/anaconda3/lib/python3.9/site-packages/statsmodels/tsa/statespace/sarimax.py:1906: RuntimeWarning: invalid value encountered in reciprocal\n",
      "  return np.roots(self.polynomial_reduced_ma)**-1\n",
      "/opt/anaconda3/lib/python3.9/site-packages/statsmodels/tsa/statespace/sarimax.py:1906: RuntimeWarning: invalid value encountered in reciprocal\n",
      "  return np.roots(self.polynomial_reduced_ma)**-1\n",
      "/opt/anaconda3/lib/python3.9/site-packages/statsmodels/tsa/statespace/sarimax.py:1899: RuntimeWarning: invalid value encountered in reciprocal\n",
      "  return np.roots(self.polynomial_reduced_ar)**-1\n",
      "/opt/anaconda3/lib/python3.9/site-packages/statsmodels/tsa/statespace/sarimax.py:1899: RuntimeWarning: invalid value encountered in reciprocal\n",
      "  return np.roots(self.polynomial_reduced_ar)**-1\n"
     ]
    }
   ],
   "source": [
    "best_rmse = float('inf')\n",
    "best_hyperparameters = None\n",
    "\n",
    "for hyperparameters in hyperparameters_grid:\n",
    "    order = hyperparameters[:3]\n",
    "    seasonal_order = hyperparameters[3:]\n",
    "    \n",
    "    try:\n",
    "        model = auto_arima(train, seasonal=True, m=12, suppress_warnings=True, order=order, seasonal_order=seasonal_order, \n",
    "                           random_state=42, stepwise=True)\n",
    "        predictions = model.predict(n_periods=len(test))\n",
    "        rmse = sqrt(mean_squared_error(test,predictions))\n",
    "\n",
    "        if rmse < best_rmse:\n",
    "            best_rmse = rmse\n",
    "            best_hyperparameters = hyperparameters\n",
    "\n",
    "        print(f'Hyperparameters: {hyperparameters}, RMSE: {rmse:.3f}')\n",
    "\n",
    "    except:\n",
    "        continue"
   ]
  },
  {
   "cell_type": "code",
   "execution_count": 25,
   "id": "0ce2a4ef",
   "metadata": {},
   "outputs": [
    {
     "name": "stdout",
     "output_type": "stream",
     "text": [
      "Best Hyperparameters: None, Best RMSE: inf\n"
     ]
    }
   ],
   "source": [
    "print(f'Best Hyperparameters: {best_hyperparameters}, Best RMSE: {best_rmse:.3f}')"
   ]
  },
  {
   "cell_type": "code",
   "execution_count": 14,
   "id": "ce815ca7",
   "metadata": {},
   "outputs": [
    {
     "name": "stdout",
     "output_type": "stream",
     "text": [
      "Best Hyperparameters: (0, 0, 0, 0, 0, 0)\n",
      "Best AIC: 16.138\n"
     ]
    }
   ],
   "source": [
    "# Define the hyperparameter grid\n",
    "from itertools import product\n",
    "p_values = [0, 1, 2]\n",
    "d_values = [0, 1]\n",
    "q_values = [0, 1, 2]\n",
    "P_values = [0, 1, 2]\n",
    "D_values = [0, 1]\n",
    "Q_values = [0, 1, 2]\n",
    "seasonal_periods = [12] \n",
    "\n",
    "\n",
    "best_aic = float('inf')\n",
    "best_params = None\n",
    "\n",
    "# Iterate through all possible combinations of hyperparameters\n",
    "for params in product(p_values, d_values, q_values, P_values, D_values, Q_values):\n",
    "    p, d, q, P, D, Q = params\n",
    "    order = (p, d, q)\n",
    "    seasonal_order = (P, D, Q, seasonal_periods[0])\n",
    "\n",
    "    # Train Auto-ARIMA model\n",
    "    model = auto_arima(train, seasonal=True, m=seasonal_periods[0], order=order, seasonal_order=seasonal_order, suppress_warnings=True)\n",
    "    \n",
    "    # Calculate AIC\n",
    "    aic = model.aic()\n",
    "\n",
    "    # Update best hyperparameters if the current model has lower AIC\n",
    "    if aic < best_aic:\n",
    "        best_aic = aic\n",
    "        best_params = params\n",
    "\n",
    "# Print the best hyperparameters and AIC\n",
    "print(f'Best Hyperparameters: {best_params}')\n",
    "print(f'Best AIC: {best_aic:.3f}')"
   ]
  },
  {
   "cell_type": "code",
   "execution_count": 15,
   "id": "d26b6fcb",
   "metadata": {},
   "outputs": [
    {
     "name": "stdout",
     "output_type": "stream",
     "text": [
      "RMSE for the Best Model: 5.846\n"
     ]
    }
   ],
   "source": [
    "# Train the Auto-ARIMA model with the best hyperparameters\n",
    "best_order = (best_params[0], best_params[1], best_params[2])\n",
    "best_seasonal_order = (best_params[3], best_params[4], best_params[5], seasonal_periods[0])\n",
    "best_model = auto_arima(train, seasonal=True, m=seasonal_periods[0], order=best_order, seasonal_order=best_seasonal_order, suppress_warnings=True)\n",
    "\n",
    "# Make predictions on the test set\n",
    "predictions = best_model.predict(test.shape[0])\n",
    "\n",
    "# Calculate RMSE\n",
    "rmse = mean_squared_error(test, predictions, squared=False)\n",
    "print(f'RMSE for the Best Model: {rmse:.3f}')"
   ]
  },
  {
   "cell_type": "markdown",
   "id": "492b98bb",
   "metadata": {},
   "source": [
    "### No matter what I run the best RMSE I get for the Auto-ARIMA model is 5.846"
   ]
  },
  {
   "cell_type": "code",
   "execution_count": null,
   "id": "a5f59e26",
   "metadata": {},
   "outputs": [],
   "source": []
  }
 ],
 "metadata": {
  "kernelspec": {
   "display_name": "Python 3 (ipykernel)",
   "language": "python",
   "name": "python3"
  },
  "language_info": {
   "codemirror_mode": {
    "name": "ipython",
    "version": 3
   },
   "file_extension": ".py",
   "mimetype": "text/x-python",
   "name": "python",
   "nbconvert_exporter": "python",
   "pygments_lexer": "ipython3",
   "version": "3.9.12"
  }
 },
 "nbformat": 4,
 "nbformat_minor": 5
}
