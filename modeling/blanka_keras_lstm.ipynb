{
  "nbformat": 4,
  "nbformat_minor": 0,
  "metadata": {
    "colab": {
      "provenance": []
    },
    "kernelspec": {
      "name": "python3",
      "display_name": "Python 3"
    },
    "language_info": {
      "name": "python"
    }
  },
  "cells": [
    {
      "cell_type": "code",
      "execution_count": 2,
      "metadata": {
        "id": "wvpQxoUmpeZC"
      },
      "outputs": [],
      "source": [
        "import numpy as np\n",
        "import matplotlib.pyplot as plt\n",
        "import pandas as pd\n",
        "import tensorflow as tf\n",
        "from tensorflow.keras.models import Sequential\n",
        "from tensorflow.keras.layers import Dense\n",
        "from tensorflow.keras.layers import LSTM\n",
        "from sklearn.preprocessing import MinMaxScaler\n",
        "from sklearn.metrics import mean_squared_error\n",
        "\n",
        "pred_var = 'Additional_Doses_Vax_Pct'\n",
        "\n",
        "data = pd.read_csv('df_post_eda.csv')\n",
        "\n",
        "data['Date'] = pd.to_datetime(data['Date'])\n",
        "data = data.groupby('Date')[pred_var].mean()\n",
        "#df.set_index('Date', inplace=True)\n",
        "\n",
        "#subset data to be only dates and predictin variable values\n",
        "df = pd.DataFrame(data)\n"
      ]
    },
    {
      "cell_type": "code",
      "source": [
        "# load the dataset\n",
        "dataset = df.values\n",
        "dataset = dataset.astype('float32')"
      ],
      "metadata": {
        "id": "XcxSO9y8p79G"
      },
      "execution_count": 3,
      "outputs": []
    },
    {
      "cell_type": "code",
      "source": [
        "# fix random seed for reproducibility\n",
        "tf.random.set_seed(7)"
      ],
      "metadata": {
        "id": "gLp6jX50qDG5"
      },
      "execution_count": 4,
      "outputs": []
    },
    {
      "cell_type": "code",
      "source": [
        "# normalize the dataset\n",
        "scaler = MinMaxScaler(feature_range=(0, 1))\n",
        "dataset = scaler.fit_transform(dataset)"
      ],
      "metadata": {
        "id": "Jsg909_FqDFD"
      },
      "execution_count": 5,
      "outputs": []
    },
    {
      "cell_type": "code",
      "source": [
        "# split into train and test sets\n",
        "train_size = int(len(dataset) * 0.8)\n",
        "test_size = len(dataset) - train_size\n",
        "train, test = dataset[0:train_size,:], dataset[train_size:len(dataset),:]\n",
        "print(len(train), len(test))"
      ],
      "metadata": {
        "colab": {
          "base_uri": "https://localhost:8080/"
        },
        "id": "rxB5SPKrqDC0",
        "outputId": "94ab2a70-838c-4ac5-f04d-55829559d65c"
      },
      "execution_count": 6,
      "outputs": [
        {
          "output_type": "stream",
          "name": "stdout",
          "text": [
            "64 16\n"
          ]
        }
      ]
    },
    {
      "cell_type": "code",
      "source": [
        "# convert an array of values into a dataset matrix\n",
        "def create_dataset(dataset, look_back=1):\n",
        "    dataX, dataY = [], []\n",
        "    for i in range(len(dataset)-look_back-1):\n",
        "        a = dataset[i:(i+look_back), 0]\n",
        "        dataX.append(a)\n",
        "        dataY.append(dataset[i + look_back, 0])\n",
        "    return np.array(dataX), np.array(dataY)"
      ],
      "metadata": {
        "id": "rHOKrV8mqDAv"
      },
      "execution_count": 7,
      "outputs": []
    },
    {
      "cell_type": "code",
      "source": [
        "# reshape into X=t and Y=t+1\n",
        "look_back = 1\n",
        "trainX, trainY = create_dataset(train, look_back)\n",
        "testX, testY = create_dataset(test, look_back)"
      ],
      "metadata": {
        "id": "ExoeaEsfqC-u"
      },
      "execution_count": 8,
      "outputs": []
    },
    {
      "cell_type": "code",
      "source": [
        "# reshape input to be [samples, time steps, features]\n",
        "trainX = np.reshape(trainX, (trainX.shape[0], 1, trainX.shape[1]))\n",
        "testX = np.reshape(testX, (testX.shape[0], 1, testX.shape[1]))"
      ],
      "metadata": {
        "id": "nkQgo_5OqC8p"
      },
      "execution_count": 9,
      "outputs": []
    },
    {
      "cell_type": "code",
      "source": [
        "# create and fit the LSTM network\n",
        "model = Sequential()\n",
        "model.add(LSTM(4, input_shape=(1, look_back)))\n",
        "model.add(Dense(1))\n",
        "model.compile(loss='mean_squared_error', optimizer='adam')\n",
        "model.fit(trainX, trainY, epochs=100, batch_size=1, verbose=2)"
      ],
      "metadata": {
        "colab": {
          "base_uri": "https://localhost:8080/"
        },
        "id": "0sERHFLyqC6a",
        "outputId": "9d6f4826-ed8f-418e-8641-3ca43eda2546"
      },
      "execution_count": 10,
      "outputs": [
        {
          "output_type": "stream",
          "name": "stdout",
          "text": [
            "Epoch 1/100\n",
            "62/62 - 2s - loss: 0.3556 - 2s/epoch - 34ms/step\n",
            "Epoch 2/100\n",
            "62/62 - 0s - loss: 0.1979 - 209ms/epoch - 3ms/step\n",
            "Epoch 3/100\n",
            "62/62 - 0s - loss: 0.0891 - 216ms/epoch - 3ms/step\n",
            "Epoch 4/100\n",
            "62/62 - 0s - loss: 0.0323 - 220ms/epoch - 4ms/step\n",
            "Epoch 5/100\n",
            "62/62 - 0s - loss: 0.0127 - 213ms/epoch - 3ms/step\n",
            "Epoch 6/100\n",
            "62/62 - 0s - loss: 0.0079 - 223ms/epoch - 4ms/step\n",
            "Epoch 7/100\n",
            "62/62 - 0s - loss: 0.0071 - 248ms/epoch - 4ms/step\n",
            "Epoch 8/100\n",
            "62/62 - 0s - loss: 0.0067 - 227ms/epoch - 4ms/step\n",
            "Epoch 9/100\n",
            "62/62 - 0s - loss: 0.0063 - 256ms/epoch - 4ms/step\n",
            "Epoch 10/100\n",
            "62/62 - 0s - loss: 0.0059 - 259ms/epoch - 4ms/step\n",
            "Epoch 11/100\n",
            "62/62 - 0s - loss: 0.0056 - 263ms/epoch - 4ms/step\n",
            "Epoch 12/100\n",
            "62/62 - 0s - loss: 0.0052 - 154ms/epoch - 2ms/step\n",
            "Epoch 13/100\n",
            "62/62 - 0s - loss: 0.0048 - 176ms/epoch - 3ms/step\n",
            "Epoch 14/100\n",
            "62/62 - 0s - loss: 0.0045 - 198ms/epoch - 3ms/step\n",
            "Epoch 15/100\n",
            "62/62 - 0s - loss: 0.0041 - 185ms/epoch - 3ms/step\n",
            "Epoch 16/100\n",
            "62/62 - 0s - loss: 0.0037 - 178ms/epoch - 3ms/step\n",
            "Epoch 17/100\n",
            "62/62 - 0s - loss: 0.0034 - 179ms/epoch - 3ms/step\n",
            "Epoch 18/100\n",
            "62/62 - 0s - loss: 0.0031 - 129ms/epoch - 2ms/step\n",
            "Epoch 19/100\n",
            "62/62 - 0s - loss: 0.0028 - 114ms/epoch - 2ms/step\n",
            "Epoch 20/100\n",
            "62/62 - 0s - loss: 0.0025 - 128ms/epoch - 2ms/step\n",
            "Epoch 21/100\n",
            "62/62 - 0s - loss: 0.0021 - 110ms/epoch - 2ms/step\n",
            "Epoch 22/100\n",
            "62/62 - 0s - loss: 0.0019 - 118ms/epoch - 2ms/step\n",
            "Epoch 23/100\n",
            "62/62 - 0s - loss: 0.0017 - 115ms/epoch - 2ms/step\n",
            "Epoch 24/100\n",
            "62/62 - 0s - loss: 0.0014 - 116ms/epoch - 2ms/step\n",
            "Epoch 25/100\n",
            "62/62 - 0s - loss: 0.0012 - 125ms/epoch - 2ms/step\n",
            "Epoch 26/100\n",
            "62/62 - 0s - loss: 0.0011 - 144ms/epoch - 2ms/step\n",
            "Epoch 27/100\n",
            "62/62 - 0s - loss: 9.0179e-04 - 131ms/epoch - 2ms/step\n",
            "Epoch 28/100\n",
            "62/62 - 0s - loss: 7.6219e-04 - 150ms/epoch - 2ms/step\n",
            "Epoch 29/100\n",
            "62/62 - 0s - loss: 6.4640e-04 - 172ms/epoch - 3ms/step\n",
            "Epoch 30/100\n",
            "62/62 - 0s - loss: 5.5090e-04 - 164ms/epoch - 3ms/step\n",
            "Epoch 31/100\n",
            "62/62 - 0s - loss: 4.6232e-04 - 142ms/epoch - 2ms/step\n",
            "Epoch 32/100\n",
            "62/62 - 0s - loss: 3.8559e-04 - 127ms/epoch - 2ms/step\n",
            "Epoch 33/100\n",
            "62/62 - 0s - loss: 3.2003e-04 - 112ms/epoch - 2ms/step\n",
            "Epoch 34/100\n",
            "62/62 - 0s - loss: 2.6573e-04 - 115ms/epoch - 2ms/step\n",
            "Epoch 35/100\n",
            "62/62 - 0s - loss: 2.2609e-04 - 114ms/epoch - 2ms/step\n",
            "Epoch 36/100\n",
            "62/62 - 0s - loss: 1.9658e-04 - 119ms/epoch - 2ms/step\n",
            "Epoch 37/100\n",
            "62/62 - 0s - loss: 1.8117e-04 - 126ms/epoch - 2ms/step\n",
            "Epoch 38/100\n",
            "62/62 - 0s - loss: 1.4802e-04 - 124ms/epoch - 2ms/step\n",
            "Epoch 39/100\n",
            "62/62 - 0s - loss: 1.3561e-04 - 128ms/epoch - 2ms/step\n",
            "Epoch 40/100\n",
            "62/62 - 0s - loss: 1.2294e-04 - 116ms/epoch - 2ms/step\n",
            "Epoch 41/100\n",
            "62/62 - 0s - loss: 1.1538e-04 - 112ms/epoch - 2ms/step\n",
            "Epoch 42/100\n",
            "62/62 - 0s - loss: 1.1050e-04 - 113ms/epoch - 2ms/step\n",
            "Epoch 43/100\n",
            "62/62 - 0s - loss: 1.0348e-04 - 115ms/epoch - 2ms/step\n",
            "Epoch 44/100\n",
            "62/62 - 0s - loss: 1.0071e-04 - 116ms/epoch - 2ms/step\n",
            "Epoch 45/100\n",
            "62/62 - 0s - loss: 9.7294e-05 - 113ms/epoch - 2ms/step\n",
            "Epoch 46/100\n",
            "62/62 - 0s - loss: 9.5204e-05 - 116ms/epoch - 2ms/step\n",
            "Epoch 47/100\n",
            "62/62 - 0s - loss: 9.7754e-05 - 113ms/epoch - 2ms/step\n",
            "Epoch 48/100\n",
            "62/62 - 0s - loss: 9.6103e-05 - 118ms/epoch - 2ms/step\n",
            "Epoch 49/100\n",
            "62/62 - 0s - loss: 9.4708e-05 - 115ms/epoch - 2ms/step\n",
            "Epoch 50/100\n",
            "62/62 - 0s - loss: 1.0310e-04 - 117ms/epoch - 2ms/step\n",
            "Epoch 51/100\n",
            "62/62 - 0s - loss: 9.5727e-05 - 116ms/epoch - 2ms/step\n",
            "Epoch 52/100\n",
            "62/62 - 0s - loss: 9.3413e-05 - 116ms/epoch - 2ms/step\n",
            "Epoch 53/100\n",
            "62/62 - 0s - loss: 1.0002e-04 - 121ms/epoch - 2ms/step\n",
            "Epoch 54/100\n",
            "62/62 - 0s - loss: 9.5626e-05 - 111ms/epoch - 2ms/step\n",
            "Epoch 55/100\n",
            "62/62 - 0s - loss: 9.4436e-05 - 120ms/epoch - 2ms/step\n",
            "Epoch 56/100\n",
            "62/62 - 0s - loss: 1.0171e-04 - 111ms/epoch - 2ms/step\n",
            "Epoch 57/100\n",
            "62/62 - 0s - loss: 9.5649e-05 - 110ms/epoch - 2ms/step\n",
            "Epoch 58/100\n",
            "62/62 - 0s - loss: 9.3559e-05 - 126ms/epoch - 2ms/step\n",
            "Epoch 59/100\n",
            "62/62 - 0s - loss: 9.5572e-05 - 125ms/epoch - 2ms/step\n",
            "Epoch 60/100\n",
            "62/62 - 0s - loss: 9.6302e-05 - 119ms/epoch - 2ms/step\n",
            "Epoch 61/100\n",
            "62/62 - 0s - loss: 9.4654e-05 - 122ms/epoch - 2ms/step\n",
            "Epoch 62/100\n",
            "62/62 - 0s - loss: 9.5531e-05 - 113ms/epoch - 2ms/step\n",
            "Epoch 63/100\n",
            "62/62 - 0s - loss: 9.0473e-05 - 119ms/epoch - 2ms/step\n",
            "Epoch 64/100\n",
            "62/62 - 0s - loss: 9.3650e-05 - 115ms/epoch - 2ms/step\n",
            "Epoch 65/100\n",
            "62/62 - 0s - loss: 9.5082e-05 - 117ms/epoch - 2ms/step\n",
            "Epoch 66/100\n",
            "62/62 - 0s - loss: 1.0052e-04 - 115ms/epoch - 2ms/step\n",
            "Epoch 67/100\n",
            "62/62 - 0s - loss: 9.0745e-05 - 113ms/epoch - 2ms/step\n",
            "Epoch 68/100\n",
            "62/62 - 0s - loss: 9.2388e-05 - 113ms/epoch - 2ms/step\n",
            "Epoch 69/100\n",
            "62/62 - 0s - loss: 9.1789e-05 - 116ms/epoch - 2ms/step\n",
            "Epoch 70/100\n",
            "62/62 - 0s - loss: 1.0339e-04 - 136ms/epoch - 2ms/step\n",
            "Epoch 71/100\n",
            "62/62 - 0s - loss: 9.7932e-05 - 122ms/epoch - 2ms/step\n",
            "Epoch 72/100\n",
            "62/62 - 0s - loss: 9.1651e-05 - 123ms/epoch - 2ms/step\n",
            "Epoch 73/100\n",
            "62/62 - 0s - loss: 1.0379e-04 - 113ms/epoch - 2ms/step\n",
            "Epoch 74/100\n",
            "62/62 - 0s - loss: 9.5867e-05 - 123ms/epoch - 2ms/step\n",
            "Epoch 75/100\n",
            "62/62 - 0s - loss: 9.9356e-05 - 157ms/epoch - 3ms/step\n",
            "Epoch 76/100\n",
            "62/62 - 0s - loss: 9.6619e-05 - 134ms/epoch - 2ms/step\n",
            "Epoch 77/100\n",
            "62/62 - 0s - loss: 9.8680e-05 - 168ms/epoch - 3ms/step\n",
            "Epoch 78/100\n",
            "62/62 - 0s - loss: 9.4940e-05 - 162ms/epoch - 3ms/step\n",
            "Epoch 79/100\n",
            "62/62 - 0s - loss: 9.8350e-05 - 144ms/epoch - 2ms/step\n",
            "Epoch 80/100\n",
            "62/62 - 0s - loss: 9.6828e-05 - 128ms/epoch - 2ms/step\n",
            "Epoch 81/100\n",
            "62/62 - 0s - loss: 1.0896e-04 - 137ms/epoch - 2ms/step\n",
            "Epoch 82/100\n",
            "62/62 - 0s - loss: 9.4957e-05 - 139ms/epoch - 2ms/step\n",
            "Epoch 83/100\n",
            "62/62 - 0s - loss: 9.7824e-05 - 131ms/epoch - 2ms/step\n",
            "Epoch 84/100\n",
            "62/62 - 0s - loss: 9.5912e-05 - 147ms/epoch - 2ms/step\n",
            "Epoch 85/100\n",
            "62/62 - 0s - loss: 1.0210e-04 - 138ms/epoch - 2ms/step\n",
            "Epoch 86/100\n",
            "62/62 - 0s - loss: 1.0600e-04 - 145ms/epoch - 2ms/step\n",
            "Epoch 87/100\n",
            "62/62 - 0s - loss: 9.0336e-05 - 124ms/epoch - 2ms/step\n",
            "Epoch 88/100\n",
            "62/62 - 0s - loss: 9.2120e-05 - 132ms/epoch - 2ms/step\n",
            "Epoch 89/100\n",
            "62/62 - 0s - loss: 1.0073e-04 - 114ms/epoch - 2ms/step\n",
            "Epoch 90/100\n",
            "62/62 - 0s - loss: 1.0626e-04 - 113ms/epoch - 2ms/step\n",
            "Epoch 91/100\n",
            "62/62 - 0s - loss: 1.0559e-04 - 109ms/epoch - 2ms/step\n",
            "Epoch 92/100\n",
            "62/62 - 0s - loss: 9.1326e-05 - 130ms/epoch - 2ms/step\n",
            "Epoch 93/100\n",
            "62/62 - 0s - loss: 1.0094e-04 - 122ms/epoch - 2ms/step\n",
            "Epoch 94/100\n",
            "62/62 - 0s - loss: 1.1131e-04 - 113ms/epoch - 2ms/step\n",
            "Epoch 95/100\n",
            "62/62 - 0s - loss: 1.0798e-04 - 114ms/epoch - 2ms/step\n",
            "Epoch 96/100\n",
            "62/62 - 0s - loss: 9.0404e-05 - 167ms/epoch - 3ms/step\n",
            "Epoch 97/100\n",
            "62/62 - 0s - loss: 8.9254e-05 - 167ms/epoch - 3ms/step\n",
            "Epoch 98/100\n",
            "62/62 - 0s - loss: 1.0557e-04 - 183ms/epoch - 3ms/step\n",
            "Epoch 99/100\n",
            "62/62 - 0s - loss: 8.8551e-05 - 172ms/epoch - 3ms/step\n",
            "Epoch 100/100\n",
            "62/62 - 0s - loss: 1.0294e-04 - 166ms/epoch - 3ms/step\n"
          ]
        },
        {
          "output_type": "execute_result",
          "data": {
            "text/plain": [
              "<keras.src.callbacks.History at 0x79330f711930>"
            ]
          },
          "metadata": {},
          "execution_count": 10
        }
      ]
    },
    {
      "cell_type": "code",
      "source": [
        "# make predictions\n",
        "trainPredict = model.predict(trainX)\n",
        "testPredict = model.predict(testX)\n",
        "# invert predictions\n",
        "trainPredict = scaler.inverse_transform(trainPredict)\n",
        "trainY = scaler.inverse_transform([trainY])\n",
        "testPredict = scaler.inverse_transform(testPredict)\n",
        "testY = scaler.inverse_transform([testY])\n",
        "# calculate root mean squared error\n",
        "trainScore = np.sqrt(mean_squared_error(trainY[0], trainPredict[:,0]))\n",
        "print('Train Score: %.2f RMSE' % (trainScore))\n",
        "testScore = np.sqrt(mean_squared_error(testY[0], testPredict[:,0]))\n",
        "print('Test Score: %.2f RMSE' % (testScore))"
      ],
      "metadata": {
        "colab": {
          "base_uri": "https://localhost:8080/"
        },
        "id": "d6OmlGxJqC4M",
        "outputId": "3263fd2a-8f4f-4126-b78c-76a5298fc40a"
      },
      "execution_count": 11,
      "outputs": [
        {
          "output_type": "stream",
          "name": "stdout",
          "text": [
            "2/2 [==============================] - 1s 8ms/step\n",
            "1/1 [==============================] - 0s 100ms/step\n",
            "Train Score: 0.40 RMSE\n",
            "Test Score: 0.50 RMSE\n"
          ]
        }
      ]
    },
    {
      "cell_type": "code",
      "source": [
        "# shift train predictions for plotting\n",
        "trainPredictPlot = np.empty_like(dataset)\n",
        "trainPredictPlot[:, :] = np.nan\n",
        "trainPredictPlot[look_back:len(trainPredict)+look_back, :] = trainPredict\n",
        "# shift test predictions for plotting\n",
        "testPredictPlot = np.empty_like(dataset)\n",
        "testPredictPlot[:, :] = np.nan\n",
        "testPredictPlot[len(trainPredict)+(look_back*2)+1:len(dataset)-1, :] = testPredict\n",
        "# plot baseline and predictions\n",
        "plt.plot(scaler.inverse_transform(dataset))\n",
        "plt.plot(trainPredictPlot)\n",
        "plt.plot(testPredictPlot)\n",
        "plt.show()"
      ],
      "metadata": {
        "colab": {
          "base_uri": "https://localhost:8080/",
          "height": 430
        },
        "id": "yHUvfjdoqC2A",
        "outputId": "a8f6ff9b-989a-4987-b873-e206670f4f5f"
      },
      "execution_count": 12,
      "outputs": [
        {
          "output_type": "display_data",
          "data": {
            "text/plain": [
              "<Figure size 640x480 with 1 Axes>"
            ],
            "image/png": "[encoded data removed]"
          },
          "metadata": {}
        }
      ]
    },
    {
      "cell_type": "markdown",
      "source": [
        "LSTM w/ Window Method"
      ],
      "metadata": {
        "id": "rwZ-TIjjq673"
      }
    },
    {
      "cell_type": "code",
      "source": [
        "# convert an array of values into a dataset matrix\n",
        "def create_dataset(dataset, look_back=1):\n",
        "\tdataX, dataY = [], []\n",
        "\tfor i in range(len(dataset)-look_back-1):\n",
        "\t\ta = dataset[i:(i+look_back), 0]\n",
        "\t\tdataX.append(a)\n",
        "\t\tdataY.append(dataset[i + look_back, 0])\n",
        "\treturn np.array(dataX), np.array(dataY)\n",
        "# fix random seed for reproducibility\n",
        "tf.random.set_seed(7)\n",
        "# load the dataset\n",
        "pred_var = 'Additional_Doses_Vax_Pct'\n",
        "\n",
        "data = pd.read_csv('df_post_eda.csv')\n",
        "\n",
        "data['Date'] = pd.to_datetime(data['Date'])\n",
        "data = data.groupby('Date')[pred_var].mean()\n",
        "#df.set_index('Date', inplace=True)\n",
        "\n",
        "#subset data to be only dates and predictin variable values\n",
        "df = pd.DataFrame(data)\n",
        "\n",
        "# load the dataset\n",
        "dataset = df.values\n",
        "dataset = dataset.astype('float32')\n",
        "\n",
        "# normalize the dataset\n",
        "scaler = MinMaxScaler(feature_range=(0, 1))\n",
        "dataset = scaler.fit_transform(dataset)\n",
        "# split into train and test sets\n",
        "train_size = int(len(dataset) * 0.67)\n",
        "test_size = len(dataset) - train_size\n",
        "train, test = dataset[0:train_size,:], dataset[train_size:len(dataset),:]\n",
        "# reshape into X=t and Y=t+1\n",
        "look_back = 3\n",
        "trainX, trainY = create_dataset(train, look_back)\n",
        "testX, testY = create_dataset(test, look_back)\n",
        "# reshape input to be [samples, time steps, features]\n",
        "trainX = np.reshape(trainX, (trainX.shape[0], 1, trainX.shape[1]))\n",
        "testX = np.reshape(testX, (testX.shape[0], 1, testX.shape[1]))\n",
        "# create and fit the LSTM network\n",
        "model = Sequential()\n",
        "model.add(LSTM(4, input_shape=(1, look_back)))\n",
        "model.add(Dense(1))\n",
        "model.compile(loss='mean_squared_error', optimizer='adam')\n",
        "model.fit(trainX, trainY, epochs=100, batch_size=1, verbose=2)\n",
        "# make predictions\n",
        "trainPredict = model.predict(trainX)\n",
        "testPredict = model.predict(testX)\n",
        "# invert predictions\n",
        "trainPredict = scaler.inverse_transform(trainPredict)\n",
        "trainY = scaler.inverse_transform([trainY])\n",
        "testPredict = scaler.inverse_transform(testPredict)\n",
        "testY = scaler.inverse_transform([testY])\n",
        "# calculate root mean squared error\n",
        "trainScore = np.sqrt(mean_squared_error(trainY[0], trainPredict[:,0]))\n",
        "print('Train Score: %.2f RMSE' % (trainScore))\n",
        "testScore = np.sqrt(mean_squared_error(testY[0], testPredict[:,0]))\n",
        "print('Test Score: %.2f RMSE' % (testScore))\n",
        "# shift train predictions for plotting\n",
        "trainPredictPlot = np.empty_like(dataset)\n",
        "trainPredictPlot[:, :] = np.nan\n",
        "trainPredictPlot[look_back:len(trainPredict)+look_back, :] = trainPredict\n",
        "# shift test predictions for plotting\n",
        "testPredictPlot = np.empty_like(dataset)\n",
        "testPredictPlot[:, :] = np.nan\n",
        "testPredictPlot[len(trainPredict)+(look_back*2)+1:len(dataset)-1, :] = testPredict\n",
        "# plot baseline and predictions\n",
        "plt.plot(scaler.inverse_transform(dataset))\n",
        "plt.plot(trainPredictPlot)\n",
        "plt.plot(testPredictPlot)\n",
        "plt.show()"
      ],
      "metadata": {
        "colab": {
          "base_uri": "https://localhost:8080/",
          "height": 1000
        },
        "id": "xrGjTlkbqCvf",
        "outputId": "c8689da1-54ea-4048-87e7-c27ff3264e9f"
      },
      "execution_count": 14,
      "outputs": [
        {
          "output_type": "stream",
          "name": "stdout",
          "text": [
            "Epoch 1/100\n",
            "49/49 - 3s - loss: 0.5870 - 3s/epoch - 64ms/step\n",
            "Epoch 2/100\n",
            "49/49 - 0s - loss: 0.4114 - 104ms/epoch - 2ms/step\n",
            "Epoch 3/100\n",
            "49/49 - 0s - loss: 0.2297 - 143ms/epoch - 3ms/step\n",
            "Epoch 4/100\n",
            "49/49 - 0s - loss: 0.0853 - 123ms/epoch - 3ms/step\n",
            "Epoch 5/100\n",
            "49/49 - 0s - loss: 0.0202 - 119ms/epoch - 2ms/step\n",
            "Epoch 6/100\n",
            "49/49 - 0s - loss: 0.0039 - 130ms/epoch - 3ms/step\n",
            "Epoch 7/100\n",
            "49/49 - 0s - loss: 0.0018 - 146ms/epoch - 3ms/step\n",
            "Epoch 8/100\n",
            "49/49 - 0s - loss: 0.0016 - 118ms/epoch - 2ms/step\n",
            "Epoch 9/100\n",
            "49/49 - 0s - loss: 0.0015 - 113ms/epoch - 2ms/step\n",
            "Epoch 10/100\n",
            "49/49 - 0s - loss: 0.0015 - 96ms/epoch - 2ms/step\n",
            "Epoch 11/100\n",
            "49/49 - 0s - loss: 0.0014 - 89ms/epoch - 2ms/step\n",
            "Epoch 12/100\n",
            "49/49 - 0s - loss: 0.0013 - 106ms/epoch - 2ms/step\n",
            "Epoch 13/100\n",
            "49/49 - 0s - loss: 0.0012 - 99ms/epoch - 2ms/step\n",
            "Epoch 14/100\n",
            "49/49 - 0s - loss: 0.0012 - 103ms/epoch - 2ms/step\n",
            "Epoch 15/100\n",
            "49/49 - 0s - loss: 0.0011 - 105ms/epoch - 2ms/step\n",
            "Epoch 16/100\n",
            "49/49 - 0s - loss: 0.0010 - 95ms/epoch - 2ms/step\n",
            "Epoch 17/100\n",
            "49/49 - 0s - loss: 9.8299e-04 - 93ms/epoch - 2ms/step\n",
            "Epoch 18/100\n",
            "49/49 - 0s - loss: 9.2046e-04 - 89ms/epoch - 2ms/step\n",
            "Epoch 19/100\n",
            "49/49 - 0s - loss: 8.6411e-04 - 96ms/epoch - 2ms/step\n",
            "Epoch 20/100\n",
            "49/49 - 0s - loss: 8.0798e-04 - 86ms/epoch - 2ms/step\n",
            "Epoch 21/100\n",
            "49/49 - 0s - loss: 7.5670e-04 - 91ms/epoch - 2ms/step\n",
            "Epoch 22/100\n",
            "49/49 - 0s - loss: 7.1723e-04 - 86ms/epoch - 2ms/step\n",
            "Epoch 23/100\n",
            "49/49 - 0s - loss: 6.5569e-04 - 88ms/epoch - 2ms/step\n",
            "Epoch 24/100\n",
            "49/49 - 0s - loss: 6.1919e-04 - 93ms/epoch - 2ms/step\n",
            "Epoch 25/100\n",
            "49/49 - 0s - loss: 5.6900e-04 - 93ms/epoch - 2ms/step\n",
            "Epoch 26/100\n",
            "49/49 - 0s - loss: 5.4166e-04 - 97ms/epoch - 2ms/step\n",
            "Epoch 27/100\n",
            "49/49 - 0s - loss: 5.0040e-04 - 92ms/epoch - 2ms/step\n",
            "Epoch 28/100\n",
            "49/49 - 0s - loss: 4.6707e-04 - 91ms/epoch - 2ms/step\n",
            "Epoch 29/100\n",
            "49/49 - 0s - loss: 4.3430e-04 - 129ms/epoch - 3ms/step\n",
            "Epoch 30/100\n",
            "49/49 - 0s - loss: 4.0951e-04 - 101ms/epoch - 2ms/step\n",
            "Epoch 31/100\n",
            "49/49 - 0s - loss: 3.8333e-04 - 116ms/epoch - 2ms/step\n",
            "Epoch 32/100\n",
            "49/49 - 0s - loss: 3.6439e-04 - 102ms/epoch - 2ms/step\n",
            "Epoch 33/100\n",
            "49/49 - 0s - loss: 3.4500e-04 - 135ms/epoch - 3ms/step\n",
            "Epoch 34/100\n",
            "49/49 - 0s - loss: 3.2904e-04 - 106ms/epoch - 2ms/step\n",
            "Epoch 35/100\n",
            "49/49 - 0s - loss: 3.1174e-04 - 128ms/epoch - 3ms/step\n",
            "Epoch 36/100\n",
            "49/49 - 0s - loss: 3.0006e-04 - 118ms/epoch - 2ms/step\n",
            "Epoch 37/100\n",
            "49/49 - 0s - loss: 2.8702e-04 - 101ms/epoch - 2ms/step\n",
            "Epoch 38/100\n",
            "49/49 - 0s - loss: 2.8362e-04 - 100ms/epoch - 2ms/step\n",
            "Epoch 39/100\n",
            "49/49 - 0s - loss: 2.7707e-04 - 95ms/epoch - 2ms/step\n",
            "Epoch 40/100\n",
            "49/49 - 0s - loss: 2.6491e-04 - 91ms/epoch - 2ms/step\n",
            "Epoch 41/100\n",
            "49/49 - 0s - loss: 2.5833e-04 - 93ms/epoch - 2ms/step\n",
            "Epoch 42/100\n",
            "49/49 - 0s - loss: 2.5209e-04 - 93ms/epoch - 2ms/step\n",
            "Epoch 43/100\n",
            "49/49 - 0s - loss: 2.4589e-04 - 96ms/epoch - 2ms/step\n",
            "Epoch 44/100\n",
            "49/49 - 0s - loss: 2.3880e-04 - 96ms/epoch - 2ms/step\n",
            "Epoch 45/100\n",
            "49/49 - 0s - loss: 2.4332e-04 - 101ms/epoch - 2ms/step\n",
            "Epoch 46/100\n",
            "49/49 - 0s - loss: 2.4475e-04 - 102ms/epoch - 2ms/step\n",
            "Epoch 47/100\n",
            "49/49 - 0s - loss: 2.3468e-04 - 104ms/epoch - 2ms/step\n",
            "Epoch 48/100\n",
            "49/49 - 0s - loss: 2.3532e-04 - 118ms/epoch - 2ms/step\n",
            "Epoch 49/100\n",
            "49/49 - 0s - loss: 2.2573e-04 - 90ms/epoch - 2ms/step\n",
            "Epoch 50/100\n",
            "49/49 - 0s - loss: 2.4245e-04 - 98ms/epoch - 2ms/step\n",
            "Epoch 51/100\n",
            "49/49 - 0s - loss: 2.3172e-04 - 92ms/epoch - 2ms/step\n",
            "Epoch 52/100\n",
            "49/49 - 0s - loss: 2.3416e-04 - 87ms/epoch - 2ms/step\n",
            "Epoch 53/100\n",
            "49/49 - 0s - loss: 2.1844e-04 - 100ms/epoch - 2ms/step\n",
            "Epoch 54/100\n",
            "49/49 - 0s - loss: 2.2689e-04 - 102ms/epoch - 2ms/step\n",
            "Epoch 55/100\n",
            "49/49 - 0s - loss: 2.2410e-04 - 98ms/epoch - 2ms/step\n",
            "Epoch 56/100\n",
            "49/49 - 0s - loss: 2.2155e-04 - 89ms/epoch - 2ms/step\n",
            "Epoch 57/100\n",
            "49/49 - 0s - loss: 2.2810e-04 - 100ms/epoch - 2ms/step\n",
            "Epoch 58/100\n",
            "49/49 - 0s - loss: 2.2269e-04 - 110ms/epoch - 2ms/step\n",
            "Epoch 59/100\n",
            "49/49 - 0s - loss: 2.2186e-04 - 112ms/epoch - 2ms/step\n",
            "Epoch 60/100\n",
            "49/49 - 0s - loss: 2.2914e-04 - 96ms/epoch - 2ms/step\n",
            "Epoch 61/100\n",
            "49/49 - 0s - loss: 2.2301e-04 - 109ms/epoch - 2ms/step\n",
            "Epoch 62/100\n",
            "49/49 - 0s - loss: 2.3349e-04 - 135ms/epoch - 3ms/step\n",
            "Epoch 63/100\n",
            "49/49 - 0s - loss: 2.2478e-04 - 103ms/epoch - 2ms/step\n",
            "Epoch 64/100\n",
            "49/49 - 0s - loss: 2.1909e-04 - 113ms/epoch - 2ms/step\n",
            "Epoch 65/100\n",
            "49/49 - 0s - loss: 2.3736e-04 - 116ms/epoch - 2ms/step\n",
            "Epoch 66/100\n",
            "49/49 - 0s - loss: 2.2630e-04 - 108ms/epoch - 2ms/step\n",
            "Epoch 67/100\n",
            "49/49 - 0s - loss: 2.2307e-04 - 104ms/epoch - 2ms/step\n",
            "Epoch 68/100\n",
            "49/49 - 0s - loss: 2.2395e-04 - 89ms/epoch - 2ms/step\n",
            "Epoch 69/100\n",
            "49/49 - 0s - loss: 2.1566e-04 - 96ms/epoch - 2ms/step\n",
            "Epoch 70/100\n",
            "49/49 - 0s - loss: 2.4659e-04 - 97ms/epoch - 2ms/step\n",
            "Epoch 71/100\n",
            "49/49 - 0s - loss: 2.2399e-04 - 91ms/epoch - 2ms/step\n",
            "Epoch 72/100\n",
            "49/49 - 0s - loss: 2.1997e-04 - 93ms/epoch - 2ms/step\n",
            "Epoch 73/100\n",
            "49/49 - 0s - loss: 2.1359e-04 - 96ms/epoch - 2ms/step\n",
            "Epoch 74/100\n",
            "49/49 - 0s - loss: 2.3930e-04 - 89ms/epoch - 2ms/step\n",
            "Epoch 75/100\n",
            "49/49 - 0s - loss: 2.3390e-04 - 91ms/epoch - 2ms/step\n",
            "Epoch 76/100\n",
            "49/49 - 0s - loss: 2.1711e-04 - 93ms/epoch - 2ms/step\n",
            "Epoch 77/100\n",
            "49/49 - 0s - loss: 2.1707e-04 - 120ms/epoch - 2ms/step\n",
            "Epoch 78/100\n",
            "49/49 - 0s - loss: 2.2136e-04 - 109ms/epoch - 2ms/step\n",
            "Epoch 79/100\n",
            "49/49 - 0s - loss: 2.2760e-04 - 110ms/epoch - 2ms/step\n",
            "Epoch 80/100\n",
            "49/49 - 0s - loss: 2.2841e-04 - 107ms/epoch - 2ms/step\n",
            "Epoch 81/100\n",
            "49/49 - 0s - loss: 2.2026e-04 - 126ms/epoch - 3ms/step\n",
            "Epoch 82/100\n",
            "49/49 - 0s - loss: 2.2158e-04 - 122ms/epoch - 2ms/step\n",
            "Epoch 83/100\n",
            "49/49 - 0s - loss: 2.2367e-04 - 107ms/epoch - 2ms/step\n",
            "Epoch 84/100\n",
            "49/49 - 0s - loss: 2.1527e-04 - 138ms/epoch - 3ms/step\n",
            "Epoch 85/100\n",
            "49/49 - 0s - loss: 2.2982e-04 - 133ms/epoch - 3ms/step\n",
            "Epoch 86/100\n",
            "49/49 - 0s - loss: 2.3096e-04 - 138ms/epoch - 3ms/step\n",
            "Epoch 87/100\n",
            "49/49 - 0s - loss: 2.1594e-04 - 141ms/epoch - 3ms/step\n",
            "Epoch 88/100\n",
            "49/49 - 0s - loss: 2.3346e-04 - 112ms/epoch - 2ms/step\n",
            "Epoch 89/100\n",
            "49/49 - 0s - loss: 2.2344e-04 - 115ms/epoch - 2ms/step\n",
            "Epoch 90/100\n",
            "49/49 - 0s - loss: 2.1658e-04 - 109ms/epoch - 2ms/step\n",
            "Epoch 91/100\n",
            "49/49 - 0s - loss: 2.0331e-04 - 167ms/epoch - 3ms/step\n",
            "Epoch 92/100\n",
            "49/49 - 0s - loss: 2.1522e-04 - 142ms/epoch - 3ms/step\n",
            "Epoch 93/100\n",
            "49/49 - 0s - loss: 2.1409e-04 - 139ms/epoch - 3ms/step\n",
            "Epoch 94/100\n",
            "49/49 - 0s - loss: 2.2019e-04 - 132ms/epoch - 3ms/step\n",
            "Epoch 95/100\n",
            "49/49 - 0s - loss: 2.0925e-04 - 132ms/epoch - 3ms/step\n",
            "Epoch 96/100\n",
            "49/49 - 0s - loss: 2.1667e-04 - 127ms/epoch - 3ms/step\n",
            "Epoch 97/100\n",
            "49/49 - 0s - loss: 2.2913e-04 - 134ms/epoch - 3ms/step\n",
            "Epoch 98/100\n",
            "49/49 - 0s - loss: 2.2708e-04 - 143ms/epoch - 3ms/step\n",
            "Epoch 99/100\n",
            "49/49 - 0s - loss: 2.0617e-04 - 121ms/epoch - 2ms/step\n",
            "Epoch 100/100\n",
            "49/49 - 0s - loss: 2.0466e-04 - 121ms/epoch - 2ms/step\n",
            "2/2 [==============================] - 0s 8ms/step\n",
            "1/1 [==============================] - 0s 25ms/step\n",
            "Train Score: 0.59 RMSE\n",
            "Test Score: 0.56 RMSE\n"
          ]
        },
        {
          "output_type": "display_data",
          "data": {
            "text/plain": [
              "<Figure size 640x480 with 1 Axes>"
            ],
            "image/png": "[encoded data removed]"
          },
          "metadata": {}
        }
      ]
    },
    {
      "cell_type": "code",
      "source": [],
      "metadata": {
        "id": "UgLzts5nq6fh"
      },
      "execution_count": null,
      "outputs": []
    },
    {
      "cell_type": "code",
      "source": [],
      "metadata": {
        "id": "dx-vomPMq6dZ"
      },
      "execution_count": null,
      "outputs": []
    },
    {
      "cell_type": "code",
      "source": [],
      "metadata": {
        "id": "gFqOf085q6bK"
      },
      "execution_count": null,
      "outputs": []
    },
    {
      "cell_type": "code",
      "source": [],
      "metadata": {
        "id": "F6tCTPhWq6ZK"
      },
      "execution_count": null,
      "outputs": []
    },
    {
      "cell_type": "code",
      "source": [],
      "metadata": {
        "id": "f0UGLSZnq6Wu"
      },
      "execution_count": null,
      "outputs": []
    },
    {
      "cell_type": "code",
      "source": [],
      "metadata": {
        "id": "QJY6aWZxq6Sp"
      },
      "execution_count": null,
      "outputs": []
    },
    {
      "cell_type": "code",
      "source": [],
      "metadata": {
        "id": "kbjB7Bpkq6QN"
      },
      "execution_count": null,
      "outputs": []
    },
    {
      "cell_type": "code",
      "source": [],
      "metadata": {
        "id": "Z_L7fbluq6Is"
      },
      "execution_count": null,
      "outputs": []
    },
    {
      "cell_type": "code",
      "source": [],
      "metadata": {
        "id": "Kl1XseuXqCl7"
      },
      "execution_count": null,
      "outputs": []
    },
    {
      "cell_type": "code",
      "source": [],
      "metadata": {
        "id": "ij6SB29QqCai"
      },
      "execution_count": null,
      "outputs": []
    },
    {
      "cell_type": "markdown",
      "source": [],
      "metadata": {
        "id": "UchV8N2zqBzY"
      }
    }
  ]
}