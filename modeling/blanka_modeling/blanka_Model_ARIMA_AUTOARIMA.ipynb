{
 "cells": [
  {
   "cell_type": "code",
   "execution_count": 1,
   "id": "920013bb",
   "metadata": {},
   "outputs": [],
   "source": [
    "import pandas as pd\n",
    "import numpy as np\n",
    "import matplotlib.pyplot as plt\n",
    "from statsmodels.tsa.arima.model import ARIMA\n",
    "from sklearn.metrics import mean_squared_error\n",
    "from math import sqrt"
   ]
  },
  {
   "cell_type": "markdown",
   "id": "7f4af35f",
   "metadata": {},
   "source": [
    "## Data Preparation for ARIMA models"
   ]
  },
  {
   "cell_type": "code",
   "execution_count": 2,
   "id": "524b7940",
   "metadata": {},
   "outputs": [],
   "source": [
    "pred_var = 'Additional_Doses_Vax_Pct'"
   ]
  },
  {
   "cell_type": "code",
   "execution_count": 20,
   "id": "16c59db6",
   "metadata": {},
   "outputs": [],
   "source": [
    "df = pd.read_csv('df_post_eda.csv')\n",
    "\n",
    "df['Date'] = pd.to_datetime(df['Date'])\n",
    "df = df.groupby('Date')[pred_var].mean()\n",
    "#df.set_index('Date', inplace=True)\n",
    "\n",
    "#subset data to be only dates and predictin variable values\n",
    "data = pd.DataFrame(df)"
   ]
  },
  {
   "cell_type": "code",
   "execution_count": 21,
   "id": "8b1a3cab",
   "metadata": {},
   "outputs": [
    {
     "data": {
      "text/html": [
       "<div>\n",
       "<style scoped>\n",
       "    .dataframe tbody tr th:only-of-type {\n",
       "        vertical-align: middle;\n",
       "    }\n",
       "\n",
       "    .dataframe tbody tr th {\n",
       "        vertical-align: top;\n",
       "    }\n",
       "\n",
       "    .dataframe thead th {\n",
       "        text-align: right;\n",
       "    }\n",
       "</style>\n",
       "<table border=\"1\" class=\"dataframe\">\n",
       "  <thead>\n",
       "    <tr style=\"text-align: right;\">\n",
       "      <th></th>\n",
       "      <th>Additional_Doses_Vax_Pct</th>\n",
       "    </tr>\n",
       "    <tr>\n",
       "      <th>Date</th>\n",
       "      <th></th>\n",
       "    </tr>\n",
       "  </thead>\n",
       "  <tbody>\n",
       "    <tr>\n",
       "      <th>2021-11-03</th>\n",
       "      <td>10.332812</td>\n",
       "    </tr>\n",
       "    <tr>\n",
       "      <th>2021-11-10</th>\n",
       "      <td>13.185937</td>\n",
       "    </tr>\n",
       "    <tr>\n",
       "      <th>2021-11-17</th>\n",
       "      <td>15.871875</td>\n",
       "    </tr>\n",
       "    <tr>\n",
       "      <th>2021-11-24</th>\n",
       "      <td>18.675000</td>\n",
       "    </tr>\n",
       "    <tr>\n",
       "      <th>2021-12-01</th>\n",
       "      <td>20.689062</td>\n",
       "    </tr>\n",
       "  </tbody>\n",
       "</table>\n",
       "</div>"
      ],
      "text/plain": [
       "            Additional_Doses_Vax_Pct\n",
       "Date                                \n",
       "2021-11-03                 10.332812\n",
       "2021-11-10                 13.185937\n",
       "2021-11-17                 15.871875\n",
       "2021-11-24                 18.675000\n",
       "2021-12-01                 20.689062"
      ]
     },
     "execution_count": 21,
     "metadata": {},
     "output_type": "execute_result"
    }
   ],
   "source": [
    "data.head()"
   ]
  },
  {
   "cell_type": "code",
   "execution_count": 22,
   "id": "4f846fb7",
   "metadata": {},
   "outputs": [
    {
     "name": "stdout",
     "output_type": "stream",
     "text": [
      "The data is stationary.\n"
     ]
    }
   ],
   "source": [
    "# checking if data is stationary\n",
    "from statsmodels.tsa.stattools import adfuller\n",
    "\n",
    "# Differencing the data\n",
    "data_diff = data.diff().dropna()\n",
    "\n",
    "# Perform the Augmented Dickey-Fuller test to check for stationarity\n",
    "result = adfuller(data_diff)\n",
    "p_value = result[1]\n",
    "\n",
    "if p_value <= 0.05:\n",
    "    print(\"The data is stationary.\")\n",
    "else:\n",
    "    print(\"The data is not stationary. Further differencing may be required.\")\n"
   ]
  },
  {
   "cell_type": "code",
   "execution_count": 23,
   "id": "f50ad989",
   "metadata": {},
   "outputs": [
    {
     "data": {
      "text/html": [
       "<div>\n",
       "<style scoped>\n",
       "    .dataframe tbody tr th:only-of-type {\n",
       "        vertical-align: middle;\n",
       "    }\n",
       "\n",
       "    .dataframe tbody tr th {\n",
       "        vertical-align: top;\n",
       "    }\n",
       "\n",
       "    .dataframe thead th {\n",
       "        text-align: right;\n",
       "    }\n",
       "</style>\n",
       "<table border=\"1\" class=\"dataframe\">\n",
       "  <thead>\n",
       "    <tr style=\"text-align: right;\">\n",
       "      <th></th>\n",
       "      <th>Additional_Doses_Vax_Pct</th>\n",
       "    </tr>\n",
       "    <tr>\n",
       "      <th>Date</th>\n",
       "      <th></th>\n",
       "    </tr>\n",
       "  </thead>\n",
       "  <tbody>\n",
       "    <tr>\n",
       "      <th>2021-11-03</th>\n",
       "      <td>10.332812</td>\n",
       "    </tr>\n",
       "    <tr>\n",
       "      <th>2021-11-10</th>\n",
       "      <td>13.185937</td>\n",
       "    </tr>\n",
       "    <tr>\n",
       "      <th>2021-11-17</th>\n",
       "      <td>15.871875</td>\n",
       "    </tr>\n",
       "    <tr>\n",
       "      <th>2021-11-24</th>\n",
       "      <td>18.675000</td>\n",
       "    </tr>\n",
       "    <tr>\n",
       "      <th>2021-12-01</th>\n",
       "      <td>20.689062</td>\n",
       "    </tr>\n",
       "  </tbody>\n",
       "</table>\n",
       "</div>"
      ],
      "text/plain": [
       "            Additional_Doses_Vax_Pct\n",
       "Date                                \n",
       "2021-11-03                 10.332812\n",
       "2021-11-10                 13.185937\n",
       "2021-11-17                 15.871875\n",
       "2021-11-24                 18.675000\n",
       "2021-12-01                 20.689062"
      ]
     },
     "execution_count": 23,
     "metadata": {},
     "output_type": "execute_result"
    }
   ],
   "source": [
    "data.head()"
   ]
  },
  {
   "cell_type": "code",
   "execution_count": 24,
   "id": "240dd91b",
   "metadata": {},
   "outputs": [],
   "source": [
    "# resambpling to weekly datetime to prevent convergence warnings\n",
    "data = data.resample('W').sum()"
   ]
  },
  {
   "cell_type": "code",
   "execution_count": 25,
   "id": "6ecd3350",
   "metadata": {},
   "outputs": [],
   "source": [
    "# Split data into test and train\n",
    "\n",
    "# Determine the split point (e.g., 70% for training, 30% for testing)\n",
    "split_date = int(len(data) * 0.8)\n",
    "data = data.sort_index(ascending=True)\n",
    "# Split the data\n",
    "train_data = data.iloc[:split_date]\n",
    "test_data = data.iloc[split_date:]\n"
   ]
  },
  {
   "cell_type": "code",
   "execution_count": 26,
   "id": "443e8ab8",
   "metadata": {},
   "outputs": [
    {
     "data": {
      "text/html": [
       "<div>\n",
       "<style scoped>\n",
       "    .dataframe tbody tr th:only-of-type {\n",
       "        vertical-align: middle;\n",
       "    }\n",
       "\n",
       "    .dataframe tbody tr th {\n",
       "        vertical-align: top;\n",
       "    }\n",
       "\n",
       "    .dataframe thead th {\n",
       "        text-align: right;\n",
       "    }\n",
       "</style>\n",
       "<table border=\"1\" class=\"dataframe\">\n",
       "  <thead>\n",
       "    <tr style=\"text-align: right;\">\n",
       "      <th></th>\n",
       "      <th>Additional_Doses_Vax_Pct</th>\n",
       "    </tr>\n",
       "    <tr>\n",
       "      <th>Date</th>\n",
       "      <th></th>\n",
       "    </tr>\n",
       "  </thead>\n",
       "  <tbody>\n",
       "    <tr>\n",
       "      <th>2021-11-07</th>\n",
       "      <td>10.332812</td>\n",
       "    </tr>\n",
       "    <tr>\n",
       "      <th>2021-11-14</th>\n",
       "      <td>13.185937</td>\n",
       "    </tr>\n",
       "    <tr>\n",
       "      <th>2021-11-21</th>\n",
       "      <td>15.871875</td>\n",
       "    </tr>\n",
       "    <tr>\n",
       "      <th>2021-11-28</th>\n",
       "      <td>18.675000</td>\n",
       "    </tr>\n",
       "    <tr>\n",
       "      <th>2021-12-05</th>\n",
       "      <td>20.689062</td>\n",
       "    </tr>\n",
       "  </tbody>\n",
       "</table>\n",
       "</div>"
      ],
      "text/plain": [
       "            Additional_Doses_Vax_Pct\n",
       "Date                                \n",
       "2021-11-07                 10.332812\n",
       "2021-11-14                 13.185937\n",
       "2021-11-21                 15.871875\n",
       "2021-11-28                 18.675000\n",
       "2021-12-05                 20.689062"
      ]
     },
     "execution_count": 26,
     "metadata": {},
     "output_type": "execute_result"
    }
   ],
   "source": [
    "data.head()"
   ]
  },
  {
   "cell_type": "code",
   "execution_count": 27,
   "id": "d0882dfd",
   "metadata": {},
   "outputs": [
    {
     "data": {
      "text/html": [
       "<div>\n",
       "<style scoped>\n",
       "    .dataframe tbody tr th:only-of-type {\n",
       "        vertical-align: middle;\n",
       "    }\n",
       "\n",
       "    .dataframe tbody tr th {\n",
       "        vertical-align: top;\n",
       "    }\n",
       "\n",
       "    .dataframe thead th {\n",
       "        text-align: right;\n",
       "    }\n",
       "</style>\n",
       "<table border=\"1\" class=\"dataframe\">\n",
       "  <thead>\n",
       "    <tr style=\"text-align: right;\">\n",
       "      <th></th>\n",
       "      <th>Additional_Doses_Vax_Pct</th>\n",
       "    </tr>\n",
       "    <tr>\n",
       "      <th>Date</th>\n",
       "      <th></th>\n",
       "    </tr>\n",
       "  </thead>\n",
       "  <tbody>\n",
       "    <tr>\n",
       "      <th>2021-11-07</th>\n",
       "      <td>10.332812</td>\n",
       "    </tr>\n",
       "    <tr>\n",
       "      <th>2021-11-14</th>\n",
       "      <td>13.185937</td>\n",
       "    </tr>\n",
       "    <tr>\n",
       "      <th>2021-11-21</th>\n",
       "      <td>15.871875</td>\n",
       "    </tr>\n",
       "    <tr>\n",
       "      <th>2021-11-28</th>\n",
       "      <td>18.675000</td>\n",
       "    </tr>\n",
       "    <tr>\n",
       "      <th>2021-12-05</th>\n",
       "      <td>20.689062</td>\n",
       "    </tr>\n",
       "  </tbody>\n",
       "</table>\n",
       "</div>"
      ],
      "text/plain": [
       "            Additional_Doses_Vax_Pct\n",
       "Date                                \n",
       "2021-11-07                 10.332812\n",
       "2021-11-14                 13.185937\n",
       "2021-11-21                 15.871875\n",
       "2021-11-28                 18.675000\n",
       "2021-12-05                 20.689062"
      ]
     },
     "execution_count": 27,
     "metadata": {},
     "output_type": "execute_result"
    }
   ],
   "source": [
    "train_data.head()"
   ]
  },
  {
   "cell_type": "code",
   "execution_count": 28,
   "id": "9a19bc33",
   "metadata": {},
   "outputs": [
    {
     "data": {
      "text/html": [
       "<div>\n",
       "<style scoped>\n",
       "    .dataframe tbody tr th:only-of-type {\n",
       "        vertical-align: middle;\n",
       "    }\n",
       "\n",
       "    .dataframe tbody tr th {\n",
       "        vertical-align: top;\n",
       "    }\n",
       "\n",
       "    .dataframe thead th {\n",
       "        text-align: right;\n",
       "    }\n",
       "</style>\n",
       "<table border=\"1\" class=\"dataframe\">\n",
       "  <thead>\n",
       "    <tr style=\"text-align: right;\">\n",
       "      <th></th>\n",
       "      <th>Additional_Doses_Vax_Pct</th>\n",
       "    </tr>\n",
       "    <tr>\n",
       "      <th>Date</th>\n",
       "      <th></th>\n",
       "    </tr>\n",
       "  </thead>\n",
       "  <tbody>\n",
       "    <tr>\n",
       "      <th>2023-01-29</th>\n",
       "      <td>50.575000</td>\n",
       "    </tr>\n",
       "    <tr>\n",
       "      <th>2023-02-05</th>\n",
       "      <td>50.621875</td>\n",
       "    </tr>\n",
       "    <tr>\n",
       "      <th>2023-02-12</th>\n",
       "      <td>50.667187</td>\n",
       "    </tr>\n",
       "    <tr>\n",
       "      <th>2023-02-19</th>\n",
       "      <td>50.706250</td>\n",
       "    </tr>\n",
       "    <tr>\n",
       "      <th>2023-02-26</th>\n",
       "      <td>50.745312</td>\n",
       "    </tr>\n",
       "  </tbody>\n",
       "</table>\n",
       "</div>"
      ],
      "text/plain": [
       "            Additional_Doses_Vax_Pct\n",
       "Date                                \n",
       "2023-01-29                 50.575000\n",
       "2023-02-05                 50.621875\n",
       "2023-02-12                 50.667187\n",
       "2023-02-19                 50.706250\n",
       "2023-02-26                 50.745312"
      ]
     },
     "execution_count": 28,
     "metadata": {},
     "output_type": "execute_result"
    }
   ],
   "source": [
    "test_data.head()"
   ]
  },
  {
   "cell_type": "markdown",
   "id": "2847fb1e",
   "metadata": {},
   "source": [
    "## ARIMA MODEL"
   ]
  },
  {
   "cell_type": "code",
   "execution_count": 29,
   "id": "e0a49205",
   "metadata": {},
   "outputs": [],
   "source": [
    "# fiting initial model without tunning\n",
    "\n",
    "# Create and fit an ARIMA model on the training data\n",
    "p = 1  # Order of the autoregressive (AR) component\n",
    "d = 1  # Order of differencing\n",
    "q = 1  # Order of the moving average (MA) component\n",
    "\n",
    "model = ARIMA(train_data, order=(p, d, q))\n",
    "model_fit = model.fit()"
   ]
  },
  {
   "cell_type": "code",
   "execution_count": 30,
   "id": "542270a2",
   "metadata": {},
   "outputs": [
    {
     "name": "stdout",
     "output_type": "stream",
     "text": [
      "Root Mean Squared Error (RMSE): 0.3858283342055915\n"
     ]
    },
    {
     "data": {
      "image/png": "[encoded data removed]",
      "text/plain": [
       "<Figure size 864x432 with 1 Axes>"
      ]
     },
     "metadata": {
      "needs_background": "light"
     },
     "output_type": "display_data"
    }
   ],
   "source": [
    "# Forecast future values using the ARIMA model\n",
    "n_forecast = len(test_data)\n",
    "forecast = model_fit.forecast(steps=n_forecast)\n",
    "\n",
    "# Evaluate the model's performance\n",
    "rmse = sqrt(mean_squared_error(test_data, forecast))\n",
    "print(f\"Root Mean Squared Error (RMSE): {rmse}\")\n",
    "\n",
    "\n",
    "# Plot the actual vs. forecasted values\n",
    "plt.figure(figsize=(12, 6))\n",
    "plt.plot(train_data, label='Training Data')\n",
    "plt.plot(test_data, label='Test Data')\n",
    "plt.plot(test_data.index, forecast, label='ARIMA Forecast', color='red')\n",
    "plt.legend()\n",
    "plt.title('ARIMA Forecast vs. Actual Data')\n",
    "plt.show()"
   ]
  },
  {
   "cell_type": "code",
   "execution_count": 31,
   "id": "df596e6f",
   "metadata": {},
   "outputs": [],
   "source": [
    "import warnings\n",
    "\n",
    "# Suppress specific warning types\n",
    "warnings.filterwarnings(\"ignore\")"
   ]
  },
  {
   "cell_type": "markdown",
   "id": "2f523e95",
   "metadata": {},
   "source": [
    "### p (AutoRegressive Order):\n",
    "The \"p\" in ARIMA stands for the autoregressive order. It represents the number of lag observations included in the model. In other words, it indicates how many past time points should be considered to predict the current value. A higher value of p means that the model takes into account more past observations.\n",
    "### d (Integrated Order):\n",
    "The \"d\" in ARIMA stands for differencing. It represents the number of times the raw observations are differenced to achieve stationarity. Stationarity is a property of time series data where statistical properties, such as mean and variance, remain constant over time. Differencing helps in making the time series stationary by removing trends or seasonality.\n",
    "### q (Moving Average Order):\n",
    "The \"q\" in ARIMA stands for the moving average order. It represents the number of lagged forecast errors in the prediction equation. A moving average model uses past forecast errors to predict future values. The parameter q determines how many lagged forecast errors are included in the model. Similar to p, a higher value of q means that the model considers more past errors."
   ]
  },
  {
   "cell_type": "code",
   "execution_count": 32,
   "id": "bef15424",
   "metadata": {},
   "outputs": [
    {
     "name": "stdout",
     "output_type": "stream",
     "text": [
      "Best ARIMA Order: (5, 0, 6) with RMSE: 0.039346660772371055\n"
     ]
    }
   ],
   "source": [
    "## tuning model\n",
    "\n",
    "import itertools\n",
    "\n",
    "p_values = range(0, 10)\n",
    "d_values = range(0, 10)\n",
    "q_values = range(0, 10)\n",
    "\n",
    "best_rmse = float('inf')\n",
    "best_order = (0, 0, 0)\n",
    "\n",
    "for p, d, q in itertools.product(p_values, d_values, q_values):\n",
    "    try:\n",
    "        model = ARIMA(train_data, order=(p, d, q))\n",
    "        model_fit = model.fit()\n",
    "\n",
    "        forecast = model_fit.forecast(steps=len(test_data))\n",
    "        rmse = sqrt(mean_squared_error(test_data, forecast))\n",
    "\n",
    "        if rmse < best_rmse:\n",
    "            best_rmse = rmse\n",
    "            best_order = (p, d, q)\n",
    "    except:\n",
    "        continue\n",
    "\n",
    "print(f\"Best ARIMA Order: {best_order} with RMSE: {best_rmse}\")"
   ]
  },
  {
   "cell_type": "code",
   "execution_count": null,
   "id": "0ed8e157",
   "metadata": {},
   "outputs": [],
   "source": [
    "def evaluate_arima_model(X, arima_order):\n",
    "    # prepare training dataset\n",
    "    train_size = int(len(X) * 0.80)\n",
    "    train, test = X[0:train_size], X[train_size:]\n",
    "    history = [x for x in train]\n",
    "    # make predictions\n",
    "    predictions = list()\n",
    "    for t in range(len(test)):\n",
    "        model = ARIMA(history, order=arima_order)\n",
    "        model_fit = model.fit()\n",
    "        yhat = model_fit.forecast()[0]\n",
    "        predictions.append(yhat)\n",
    "        history.append(test[t])  \n",
    "    # calculate out of sample error\n",
    "    error = mean_squared_error(test, predictions)\n",
    "    return error"
   ]
  },
  {
   "cell_type": "code",
   "execution_count": 55,
   "id": "82a701dc",
   "metadata": {},
   "outputs": [
    {
     "name": "stdout",
     "output_type": "stream",
     "text": [
      "Root Mean Squared Error (RMSE): 0.039346660772371055\n"
     ]
    },
    {
     "data": {
      "image/png": "[encoded data removed]",
      "text/plain": [
       "<Figure size 864x432 with 1 Axes>"
      ]
     },
     "metadata": {
      "needs_background": "light"
     },
     "output_type": "display_data"
    }
   ],
   "source": [
    "model = ARIMA(train_data, order=(5, 0, 6))\n",
    "model_fit = model.fit()\n",
    "\n",
    "# Forecast future values using the ARIMA model\n",
    "n_forecast = len(test_data)\n",
    "forecast = model_fit.forecast(steps=n_forecast)\n",
    "\n",
    "# Evaluate the model's performance\n",
    "rmse = sqrt(mean_squared_error(test_data, forecast))\n",
    "print(f\"Root Mean Squared Error (RMSE): {rmse}\")\n",
    "\n",
    "\n",
    "# Plot the actual vs. forecasted values\n",
    "plt.figure(figsize=(12, 6))\n",
    "plt.plot(train_data, label='Training Data')\n",
    "plt.plot(test_data, label='Test Data')\n",
    "plt.plot(test_data.index, forecast, label='ARIMA Forecast', color='red')\n",
    "plt.legend()\n",
    "plt.title('ARIMA Forecast vs. Actual Data')\n",
    "plt.show()"
   ]
  },
  {
   "cell_type": "code",
   "execution_count": null,
   "id": "c41bd53e",
   "metadata": {},
   "outputs": [],
   "source": [
    "## different approach"
   ]
  },
  {
   "cell_type": "code",
   "execution_count": 49,
   "id": "0cd2533a",
   "metadata": {},
   "outputs": [
    {
     "data": {
      "text/html": [
       "<div>\n",
       "<style scoped>\n",
       "    .dataframe tbody tr th:only-of-type {\n",
       "        vertical-align: middle;\n",
       "    }\n",
       "\n",
       "    .dataframe tbody tr th {\n",
       "        vertical-align: top;\n",
       "    }\n",
       "\n",
       "    .dataframe thead th {\n",
       "        text-align: right;\n",
       "    }\n",
       "</style>\n",
       "<table border=\"1\" class=\"dataframe\">\n",
       "  <thead>\n",
       "    <tr style=\"text-align: right;\">\n",
       "      <th></th>\n",
       "      <th>Additional_Doses_Vax_Pct</th>\n",
       "    </tr>\n",
       "    <tr>\n",
       "      <th>Date</th>\n",
       "      <th></th>\n",
       "    </tr>\n",
       "  </thead>\n",
       "  <tbody>\n",
       "    <tr>\n",
       "      <th>2021-11-03</th>\n",
       "      <td>10.332812</td>\n",
       "    </tr>\n",
       "    <tr>\n",
       "      <th>2021-11-10</th>\n",
       "      <td>13.185937</td>\n",
       "    </tr>\n",
       "    <tr>\n",
       "      <th>2021-11-17</th>\n",
       "      <td>15.871875</td>\n",
       "    </tr>\n",
       "    <tr>\n",
       "      <th>2021-11-24</th>\n",
       "      <td>18.675000</td>\n",
       "    </tr>\n",
       "    <tr>\n",
       "      <th>2021-12-01</th>\n",
       "      <td>20.689062</td>\n",
       "    </tr>\n",
       "  </tbody>\n",
       "</table>\n",
       "</div>"
      ],
      "text/plain": [
       "            Additional_Doses_Vax_Pct\n",
       "Date                                \n",
       "2021-11-03                 10.332812\n",
       "2021-11-10                 13.185937\n",
       "2021-11-17                 15.871875\n",
       "2021-11-24                 18.675000\n",
       "2021-12-01                 20.689062"
      ]
     },
     "execution_count": 49,
     "metadata": {},
     "output_type": "execute_result"
    }
   ],
   "source": [
    "# fit an ARIMA model and plot residual errors\n",
    "from pandas import datetime\n",
    "from pandas import read_csv\n",
    "from pandas import DataFrame\n",
    "from statsmodels.tsa.arima.model import ARIMA\n",
    "from matplotlib import pyplot\n",
    "# load dataset\n",
    "\n",
    "df = read_csv('df_post_eda.csv')\n",
    "series = df[['Date',pred_var]]\n",
    "series = series.groupby('Date')[pred_var].mean()\n",
    "series = series.to_frame()\n",
    "#series = series.set_index('Date')\n",
    "series.head()\n",
    "#series.index = series.index.to_period('W')"
   ]
  },
  {
   "cell_type": "code",
   "execution_count": 50,
   "id": "53352380",
   "metadata": {},
   "outputs": [
    {
     "name": "stdout",
     "output_type": "stream",
     "text": [
      "                                  SARIMAX Results                                   \n",
      "====================================================================================\n",
      "Dep. Variable:     Additional_Doses_Vax_Pct   No. Observations:                   80\n",
      "Model:                       ARIMA(5, 1, 0)   Log Likelihood                   4.178\n",
      "Date:                      Sun, 12 Nov 2023   AIC                              3.645\n",
      "Time:                              19:28:38   BIC                             17.862\n",
      "Sample:                          11-03-2021   HQIC                             9.341\n",
      "                               - 05-10-2023                                         \n",
      "Covariance Type:                        opg                                         \n",
      "==============================================================================\n",
      "                 coef    std err          z      P>|z|      [0.025      0.975]\n",
      "------------------------------------------------------------------------------\n",
      "ar.L1          0.7570      0.067     11.266      0.000       0.625       0.889\n",
      "ar.L2          0.2086      0.129      1.618      0.106      -0.044       0.461\n",
      "ar.L3         -0.0621      0.111     -0.557      0.578      -0.280       0.156\n",
      "ar.L4          0.3075      0.088      3.505      0.000       0.136       0.479\n",
      "ar.L5         -0.2193      0.068     -3.236      0.001      -0.352      -0.086\n",
      "sigma2         0.0499      0.005     10.266      0.000       0.040       0.059\n",
      "===================================================================================\n",
      "Ljung-Box (L1) (Q):                   1.03   Jarque-Bera (JB):                82.60\n",
      "Prob(Q):                              0.31   Prob(JB):                         0.00\n",
      "Heteroskedasticity (H):               0.01   Skew:                            -0.27\n",
      "Prob(H) (two-sided):                  0.00   Kurtosis:                         7.98\n",
      "===================================================================================\n",
      "\n",
      "Warnings:\n",
      "[1] Covariance matrix calculated using the outer product of gradients (complex-step).\n"
     ]
    },
    {
     "data": {
      "image/png": "[encoded data removed]",
      "text/plain": [
       "<Figure size 432x288 with 1 Axes>"
      ]
     },
     "metadata": {
      "needs_background": "light"
     },
     "output_type": "display_data"
    },
    {
     "data": {
      "image/png": "[encoded data removed]",
      "text/plain": [
       "<Figure size 432x288 with 1 Axes>"
      ]
     },
     "metadata": {
      "needs_background": "light"
     },
     "output_type": "display_data"
    },
    {
     "name": "stdout",
     "output_type": "stream",
     "text": [
      "               0\n",
      "count  80.000000\n",
      "mean    0.128543\n",
      "std     1.219274\n",
      "min    -0.806042\n",
      "25%    -0.053109\n",
      "50%    -0.002891\n",
      "75%     0.020361\n",
      "max    10.332812\n"
     ]
    }
   ],
   "source": [
    "# fit model\n",
    "model = ARIMA(series, order=(5,1,0))\n",
    "model_fit = model.fit()\n",
    "# summary of fit model\n",
    "print(model_fit.summary())\n",
    "# line plot of residuals\n",
    "residuals = DataFrame(model_fit.resid)\n",
    "residuals.plot()\n",
    "pyplot.show()\n",
    "# density plot of residuals\n",
    "residuals.plot(kind='kde')\n",
    "pyplot.show()\n",
    "# summary stats of residuals\n",
    "print(residuals.describe())"
   ]
  },
  {
   "cell_type": "code",
   "execution_count": 81,
   "id": "19f4790d",
   "metadata": {},
   "outputs": [
    {
     "name": "stdout",
     "output_type": "stream",
     "text": [
      "Iteration 64 - Best Parameters: (3, 0, 3), Final Forecast: 50.579740, Actual: 50.575000, Final RMSE: 0.00473970\n",
      "Iteration 65 - Best Parameters: (2, 3, 1), Final Forecast: 50.621079, Actual: 50.621875, Final RMSE: 0.00079591\n",
      "Iteration 66 - Best Parameters: (2, 1, 0), Final Forecast: 50.667604, Actual: 50.667187, Final RMSE: 0.00041666\n",
      "Iteration 67 - Best Parameters: (2, 3, 0), Final Forecast: 50.706450, Actual: 50.706250, Final RMSE: 0.00020009\n",
      "Iteration 68 - Best Parameters: (0, 2, 0), Final Forecast: 50.745313, Actual: 50.745312, Final RMSE: 0.00000000\n",
      "Iteration 69 - Best Parameters: (1, 3, 1), Final Forecast: 50.770395, Actual: 50.767187, Final RMSE: 0.00320761\n",
      "Iteration 70 - Best Parameters: (3, 1, 2), Final Forecast: 50.795257, Actual: 50.795313, Final RMSE: 0.00005583\n",
      "Iteration 71 - Best Parameters: (0, 3, 0), Final Forecast: 50.829687, Actual: 50.832813, Final RMSE: 0.00312500\n",
      "Iteration 72 - Best Parameters: (1, 3, 2), Final Forecast: 50.856930, Actual: 50.857813, Final RMSE: 0.00088246\n",
      "Iteration 73 - Best Parameters: (2, 3, 1), Final Forecast: 50.876316, Actual: 50.876562, Final RMSE: 0.00024654\n",
      "Iteration 74 - Best Parameters: (0, 1, 2), Final Forecast: 50.900487, Actual: 50.901562, Final RMSE: 0.00107575\n",
      "Iteration 75 - Best Parameters: (3, 3, 2), Final Forecast: 50.948247, Actual: 50.951563, Final RMSE: 0.00331595\n",
      "Iteration 76 - Best Parameters: (1, 0, 3), Final Forecast: 51.011057, Actual: 51.012500, Final RMSE: 0.00144334\n",
      "Iteration 77 - Best Parameters: (2, 0, 0), Final Forecast: 51.034115, Actual: 51.034375, Final RMSE: 0.00026046\n",
      "Iteration 78 - Best Parameters: (2, 1, 3), Final Forecast: 51.063956, Actual: 51.064062, Final RMSE: 0.00010690\n",
      "Iteration 79 - Best Parameters: (0, 3, 1), Final Forecast: 51.076862, Actual: 51.076563, Final RMSE: 0.00029902\n",
      "Average Test RMSE: 0.001\n"
     ]
    },
    {
     "data": {
      "image/png": "[encoded data removed]",
      "text/plain": [
       "<Figure size 432x288 with 1 Axes>"
      ]
     },
     "metadata": {
      "needs_background": "light"
     },
     "output_type": "display_data"
    }
   ],
   "source": [
    "import pandas as pd\n",
    "from statsmodels.tsa.arima.model import ARIMA\n",
    "from statsmodels.tsa.stattools import adfuller\n",
    "from math import sqrt\n",
    "from sklearn.metrics import mean_squared_error\n",
    "import matplotlib.pyplot as plt\n",
    "\n",
    "# Convert the series to an array\n",
    "X = series.values\n",
    "\n",
    "# Set the order ranges for the ARIMA model parameters\n",
    "p_range = range(0, 4)  # Adjust as needed\n",
    "d_range = range(0, 4)  # Adjust as needed\n",
    "q_range = range(0, 4)  # Adjust as needed\n",
    "\n",
    "# Number of observations to use for training\n",
    "size = int(len(X) * 0.8)\n",
    "\n",
    "# Initialize an empty list to store forecast values\n",
    "forecast_values = []\n",
    "\n",
    "# Initialize an empty list to store RMSE values\n",
    "rmse_values = []\n",
    "\n",
    "# Walk-forward validation with parameter tuning\n",
    "for t in range(size, len(X)):\n",
    "    train, test = X[0:t], X[t:t+1]\n",
    "    history = [x for x in train]\n",
    "    best_rmse = float('inf')\n",
    "    best_params = None\n",
    "\n",
    "    # Iterate over parameter combinations\n",
    "    for p in p_range:\n",
    "        for d in d_range:\n",
    "            for q in q_range:\n",
    "                # Fit the ARIMA model\n",
    "                model = ARIMA(history, order=(p, d, q))\n",
    "                model_fit = model.fit()\n",
    "                # Make a one-step forecast\n",
    "                output = model_fit.forecast(steps=1)\n",
    "                yhat = output[0]\n",
    "                # Evaluate the forecast\n",
    "                rmse = sqrt(mean_squared_error(test, [yhat]))\n",
    "                # Update best parameters if the RMSE improves\n",
    "                if rmse < best_rmse:\n",
    "                    best_rmse = rmse\n",
    "                    best_params = (p, d, q)\n",
    "\n",
    "    # Use the best parameters to fit the final model and make the forecast\n",
    "    final_model = ARIMA(history, order=best_params)\n",
    "    final_model_fit = final_model.fit()\n",
    "    final_output = final_model_fit.forecast(steps=1)\n",
    "    final_yhat = final_output[0]\n",
    "\n",
    "    # Append the last forecast value to the list\n",
    "    forecast_values.append(final_yhat)\n",
    "\n",
    "    # Append the RMSE of the final model to the list\n",
    "    rmse_values.append(best_rmse)\n",
    "\n",
    "    # Append the actual observation to the history for the next iteration\n",
    "    history.append(test[0])\n",
    "\n",
    "    print('Iteration %d - Best Parameters: %s, Final Forecast: %f, Actual: %f, Final RMSE: %.8f' % (\n",
    "        t, best_params, final_yhat, test[0], best_rmse))\n",
    "\n",
    "# Calculate the average RMSE\n",
    "average_rmse = sum(rmse_values) / len(rmse_values)\n",
    "print('Average Test RMSE: %.3f' % average_rmse)\n",
    "\n",
    "# Plot actual outcomes and forecasts\n",
    "plt.plot(X[size:])\n",
    "plt.plot(forecast_values, color='red', linestyle='dashed')\n",
    "plt.show()\n"
   ]
  },
  {
   "cell_type": "markdown",
   "id": "aed53716",
   "metadata": {},
   "source": [
    "# AUTOARIMA"
   ]
  },
  {
   "cell_type": "code",
   "execution_count": 13,
   "id": "f30355fe",
   "metadata": {},
   "outputs": [],
   "source": [
    "from pmdarima import auto_arima"
   ]
  },
  {
   "cell_type": "code",
   "execution_count": 9,
   "id": "c9f44f81",
   "metadata": {},
   "outputs": [],
   "source": [
    "# adding lag variables\n",
    "data['lag_1'] = data[pred_var].shift(1)\n",
    "data['lag_2'] = data[pred_var].shift(2)\n",
    "# Add more lag features as needed\n"
   ]
  },
  {
   "cell_type": "code",
   "execution_count": 18,
   "id": "935ef1c5",
   "metadata": {},
   "outputs": [
    {
     "name": "stdout",
     "output_type": "stream",
     "text": [
      "Performing stepwise search to minimize aic\n",
      " ARIMA(2,2,2)(0,0,0)[0] intercept   : AIC=21.553, Time=0.09 sec\n",
      " ARIMA(0,2,0)(0,0,0)[0] intercept   : AIC=19.268, Time=0.01 sec\n",
      " ARIMA(1,2,0)(0,0,0)[0] intercept   : AIC=16.652, Time=0.01 sec\n",
      " ARIMA(0,2,1)(0,0,0)[0] intercept   : AIC=16.138, Time=0.01 sec\n",
      " ARIMA(0,2,0)(0,0,0)[0]             : AIC=18.945, Time=0.01 sec\n",
      " ARIMA(1,2,1)(0,0,0)[0] intercept   : AIC=18.138, Time=0.02 sec\n",
      " ARIMA(0,2,2)(0,0,0)[0] intercept   : AIC=18.138, Time=0.02 sec\n",
      " ARIMA(1,2,2)(0,0,0)[0] intercept   : AIC=19.912, Time=0.06 sec\n",
      " ARIMA(0,2,1)(0,0,0)[0]             : AIC=17.556, Time=0.01 sec\n",
      "\n",
      "Best model:  ARIMA(0,2,1)(0,0,0)[0] intercept\n",
      "Total fit time: 0.279 seconds\n"
     ]
    }
   ],
   "source": [
    "# untuned\n",
    "model = auto_arima(train_data, seasonal=False, stepwise=True, trace=True)\n"
   ]
  },
  {
   "cell_type": "code",
   "execution_count": 19,
   "id": "c0caa4f3",
   "metadata": {},
   "outputs": [],
   "source": [
    "best_order = model.get_params()['order']"
   ]
  },
  {
   "cell_type": "code",
   "execution_count": 20,
   "id": "2e237711",
   "metadata": {},
   "outputs": [],
   "source": [
    "p, d, q = best_order\n",
    "final_model = ARIMA(train_data, order=(p, d, q))\n",
    "final_model_fit = final_model.fit()"
   ]
  },
  {
   "cell_type": "code",
   "execution_count": 27,
   "id": "e1c12502",
   "metadata": {},
   "outputs": [
    {
     "name": "stdout",
     "output_type": "stream",
     "text": [
      "Root Mean Squared Error (RMSE): 1.541922692173141\n"
     ]
    },
    {
     "data": {
      "image/png": "[encoded data removed]",
      "text/plain": [
       "<Figure size 864x432 with 1 Axes>"
      ]
     },
     "metadata": {
      "needs_background": "light"
     },
     "output_type": "display_data"
    }
   ],
   "source": [
    "n_forecast = len(test_data)\n",
    "forecast = final_model_fit.forecast(steps=n_forecast)\n",
    "rmse = sqrt(mean_squared_error(test_data, forecast))\n",
    "print(f\"Root Mean Squared Error (RMSE): {rmse}\")\n",
    "\n",
    "# Plot the actual vs. forecasted values\n",
    "plt.figure(figsize=(12, 6))\n",
    "plt.plot(train_data, label='Training Data')\n",
    "plt.plot(test_data, label='Test Data')\n",
    "plt.plot(test_data.index, forecast, label='ARIMA Forecast', color='red')\n",
    "plt.legend()\n",
    "plt.title('AUTOARIMA Forecast vs. Actual Data')\n",
    "plt.show()"
   ]
  },
  {
   "cell_type": "code",
   "execution_count": null,
   "id": "5d66fdfa",
   "metadata": {},
   "outputs": [],
   "source": [
    "#### TUNING"
   ]
  },
  {
   "cell_type": "code",
   "execution_count": 28,
   "id": "c791b843",
   "metadata": {},
   "outputs": [
    {
     "name": "stdout",
     "output_type": "stream",
     "text": [
      "Root Mean Squared Error (RMSE): 1.541922692173141\n"
     ]
    },
    {
     "data": {
      "image/png": "[encoded data removed]",
      "text/plain": [
       "<Figure size 864x432 with 1 Axes>"
      ]
     },
     "metadata": {
      "needs_background": "light"
     },
     "output_type": "display_data"
    }
   ],
   "source": [
    "# seasonal = True\n",
    "model = auto_arima(train_data, seasonal=True, m=12)\n",
    "best_order = model.get_params()['order']\n",
    "p, d, q = best_order\n",
    "final_model = ARIMA(train_data, order=(p, d, q))\n",
    "final_model_fit = final_model.fit()\n",
    "n_forecast = len(test_data)\n",
    "forecast = final_model_fit.forecast(steps=n_forecast)\n",
    "rmse = sqrt(mean_squared_error(test_data, forecast))\n",
    "print(f\"Root Mean Squared Error (RMSE): {rmse}\")\n",
    "\n",
    "# Plot the actual vs. forecasted values\n",
    "plt.figure(figsize=(12, 6))\n",
    "plt.plot(train_data, label='Training Data')\n",
    "plt.plot(test_data, label='Test Data')\n",
    "plt.plot(test_data.index, forecast, label='AUTOARIMA Forecast', color='red')\n",
    "plt.legend()\n",
    "plt.title('ARIMA Forecast vs. Actual Data')\n",
    "plt.show()"
   ]
  },
  {
   "cell_type": "code",
   "execution_count": 29,
   "id": "125271e1",
   "metadata": {},
   "outputs": [
    {
     "name": "stdout",
     "output_type": "stream",
     "text": [
      "Performing stepwise search to minimize aic\n",
      " ARIMA(1,1,1)(0,1,1)[12]             : AIC=29.168, Time=0.18 sec\n",
      " ARIMA(0,1,0)(0,1,0)[12]             : AIC=126.033, Time=0.01 sec\n",
      " ARIMA(1,1,0)(1,1,0)[12]             : AIC=30.259, Time=0.09 sec\n",
      " ARIMA(0,1,1)(0,1,1)[12]             : AIC=93.621, Time=0.06 sec\n",
      " ARIMA(1,1,1)(0,1,0)[12]             : AIC=28.498, Time=0.04 sec\n",
      " ARIMA(1,1,1)(1,1,0)[12]             : AIC=29.302, Time=0.09 sec\n",
      " ARIMA(1,1,1)(1,1,1)[12]             : AIC=31.136, Time=0.20 sec\n",
      " ARIMA(0,1,1)(0,1,0)[12]             : AIC=92.610, Time=0.02 sec\n",
      " ARIMA(1,1,0)(0,1,0)[12]             : AIC=29.539, Time=0.02 sec\n",
      " ARIMA(2,1,1)(0,1,0)[12]             : AIC=30.267, Time=0.06 sec\n",
      " ARIMA(1,1,2)(0,1,0)[12]             : AIC=30.292, Time=0.06 sec\n",
      " ARIMA(0,1,2)(0,1,0)[12]             : AIC=69.478, Time=0.03 sec\n",
      " ARIMA(2,1,0)(0,1,0)[12]             : AIC=28.267, Time=0.05 sec\n",
      " ARIMA(2,1,0)(1,1,0)[12]             : AIC=29.049, Time=0.14 sec\n",
      " ARIMA(2,1,0)(0,1,1)[12]             : AIC=28.918, Time=0.13 sec\n",
      " ARIMA(2,1,0)(1,1,1)[12]             : AIC=30.899, Time=0.24 sec\n",
      " ARIMA(3,1,0)(0,1,0)[12]             : AIC=30.267, Time=0.04 sec\n",
      " ARIMA(3,1,1)(0,1,0)[12]             : AIC=32.041, Time=0.10 sec\n",
      " ARIMA(2,1,0)(0,1,0)[12] intercept   : AIC=29.303, Time=0.06 sec\n",
      "\n",
      "Best model:  ARIMA(2,1,0)(0,1,0)[12]          \n",
      "Total fit time: 1.621 seconds\n",
      "Root Mean Squared Error (RMSE): 1.3565442142747086\n"
     ]
    },
    {
     "data": {
      "image/png": "[encoded data removed]",
      "text/plain": [
       "<Figure size 864x432 with 1 Axes>"
      ]
     },
     "metadata": {
      "needs_background": "light"
     },
     "output_type": "display_data"
    }
   ],
   "source": [
    "# seatch range\n",
    "model = auto_arima(train_data, start_p=1, start_q=1,\n",
    "                           max_p=3, max_q=3, m=12,\n",
    "                           start_P=0, seasonal=True,\n",
    "                           d=1, D=1, trace=True,\n",
    "                           error_action='ignore',  \n",
    "                           suppress_warnings=True, \n",
    "                           stepwise=True)\n",
    "\n",
    "best_order = model.get_params()['order']\n",
    "p, d, q = best_order\n",
    "final_model = ARIMA(train_data, order=(p, d, q))\n",
    "final_model_fit = final_model.fit()\n",
    "n_forecast = len(test_data)\n",
    "forecast = final_model_fit.forecast(steps=n_forecast)\n",
    "rmse = sqrt(mean_squared_error(test_data, forecast))\n",
    "print(f\"Root Mean Squared Error (RMSE): {rmse}\")\n",
    "\n",
    "# Plot the actual vs. forecasted values\n",
    "plt.figure(figsize=(12, 6))\n",
    "plt.plot(train_data, label='Training Data')\n",
    "plt.plot(test_data, label='Test Data')\n",
    "plt.plot(test_data.index, forecast, label='ARIMA Forecast', color='red')\n",
    "plt.legend()\n",
    "plt.title('ARIMA Forecast vs. Actual Data')\n",
    "plt.show()"
   ]
  },
  {
   "cell_type": "code",
   "execution_count": 32,
   "id": "ed12a322",
   "metadata": {},
   "outputs": [
    {
     "name": "stdout",
     "output_type": "stream",
     "text": [
      "Performing stepwise search to minimize aic\n",
      " ARIMA(1,1,1)(0,1,1)[12]             : AIC=29.168, Time=0.18 sec\n",
      " ARIMA(0,1,0)(0,1,0)[12]             : AIC=126.033, Time=0.01 sec\n",
      " ARIMA(1,1,0)(1,1,0)[12]             : AIC=30.259, Time=0.09 sec\n",
      " ARIMA(0,1,1)(0,1,1)[12]             : AIC=93.621, Time=0.05 sec\n",
      " ARIMA(1,1,1)(0,1,0)[12]             : AIC=28.498, Time=0.04 sec\n",
      " ARIMA(1,1,1)(1,1,0)[12]             : AIC=29.302, Time=0.08 sec\n",
      " ARIMA(1,1,1)(1,1,1)[12]             : AIC=31.136, Time=0.20 sec\n",
      " ARIMA(0,1,1)(0,1,0)[12]             : AIC=92.610, Time=0.02 sec\n",
      " ARIMA(1,1,0)(0,1,0)[12]             : AIC=29.539, Time=0.02 sec\n",
      " ARIMA(2,1,1)(0,1,0)[12]             : AIC=30.267, Time=0.06 sec\n",
      " ARIMA(1,1,2)(0,1,0)[12]             : AIC=30.292, Time=0.05 sec\n",
      " ARIMA(0,1,2)(0,1,0)[12]             : AIC=69.478, Time=0.03 sec\n",
      " ARIMA(2,1,0)(0,1,0)[12]             : AIC=28.267, Time=0.04 sec\n",
      " ARIMA(2,1,0)(1,1,0)[12]             : AIC=29.049, Time=0.13 sec\n",
      " ARIMA(2,1,0)(0,1,1)[12]             : AIC=28.918, Time=0.13 sec\n",
      " ARIMA(2,1,0)(1,1,1)[12]             : AIC=30.899, Time=0.23 sec\n",
      " ARIMA(3,1,0)(0,1,0)[12]             : AIC=30.267, Time=0.04 sec\n",
      " ARIMA(3,1,1)(0,1,0)[12]             : AIC=32.041, Time=0.10 sec\n",
      " ARIMA(2,1,0)(0,1,0)[12] intercept   : AIC=29.303, Time=0.06 sec\n",
      "\n",
      "Best model:  ARIMA(2,1,0)(0,1,0)[12]          \n",
      "Total fit time: 1.576 seconds\n",
      "Root Mean Squared Error (RMSE): 1.3565442142747086\n"
     ]
    },
    {
     "data": {
      "image/png": "[encoded data removed]",
      "text/plain": [
       "<Figure size 864x432 with 1 Axes>"
      ]
     },
     "metadata": {
      "needs_background": "light"
     },
     "output_type": "display_data"
    }
   ],
   "source": [
    "# seatch range\n",
    "model = auto_arima(train_data, start_p=1, start_q=1,\n",
    "                           max_p=5, max_q=5, m=12,\n",
    "                           start_P=0, seasonal=True,\n",
    "                           d=1, D=1, trace=True,\n",
    "                           error_action='ignore',  \n",
    "                           suppress_warnings=True, \n",
    "                           stepwise=True)\n",
    "\n",
    "best_order = model.get_params()['order']\n",
    "p, d, q = best_order\n",
    "final_model = ARIMA(train_data, order=(p, d, q))\n",
    "final_model_fit = final_model.fit()\n",
    "n_forecast = len(test_data)\n",
    "forecast = final_model_fit.forecast(steps=n_forecast)\n",
    "rmse = sqrt(mean_squared_error(test_data, forecast))\n",
    "print(f\"Root Mean Squared Error (RMSE): {rmse}\")\n",
    "\n",
    "# Plot the actual vs. forecasted values\n",
    "plt.figure(figsize=(12, 6))\n",
    "plt.plot(train_data, label='Training Data')\n",
    "plt.plot(test_data, label='Test Data')\n",
    "plt.plot(test_data.index, forecast, label='ARIMA Forecast', color='red')\n",
    "plt.legend()\n",
    "plt.title('ARIMA Forecast vs. Actual Data')\n",
    "plt.show()"
   ]
  },
  {
   "cell_type": "code",
   "execution_count": 33,
   "id": "321143a0",
   "metadata": {},
   "outputs": [
    {
     "name": "stdout",
     "output_type": "stream",
     "text": [
      "Performing stepwise search to minimize aic\n",
      " ARIMA(1,1,1)(0,1,1)[12]             : AIC=10.422, Time=0.20 sec\n",
      " ARIMA(0,1,0)(0,1,0)[12]             : AIC=165.776, Time=0.01 sec\n",
      " ARIMA(1,1,0)(1,1,0)[12]             : AIC=13.724, Time=0.10 sec\n",
      " ARIMA(0,1,1)(0,1,1)[12]             : AIC=112.660, Time=0.07 sec\n",
      " ARIMA(1,1,1)(0,1,0)[12]             : AIC=10.688, Time=0.05 sec\n",
      " ARIMA(1,1,1)(1,1,1)[12]             : AIC=12.272, Time=0.29 sec\n",
      " ARIMA(1,1,1)(0,1,2)[12]             : AIC=12.294, Time=1.82 sec\n",
      " ARIMA(1,1,1)(1,1,0)[12]             : AIC=10.768, Time=0.15 sec\n",
      " ARIMA(1,1,1)(1,1,2)[12]             : AIC=14.240, Time=2.25 sec\n",
      " ARIMA(1,1,0)(0,1,1)[12]             : AIC=13.304, Time=0.16 sec\n",
      " ARIMA(2,1,1)(0,1,1)[12]             : AIC=12.235, Time=0.20 sec\n",
      " ARIMA(1,1,2)(0,1,1)[12]             : AIC=12.134, Time=0.32 sec\n",
      " ARIMA(0,1,0)(0,1,1)[12]             : AIC=165.192, Time=0.08 sec\n",
      " ARIMA(0,1,2)(0,1,1)[12]             : AIC=76.665, Time=0.13 sec\n",
      " ARIMA(2,1,0)(0,1,1)[12]             : AIC=10.040, Time=0.21 sec\n",
      " ARIMA(2,1,0)(0,1,0)[12]             : AIC=10.404, Time=0.04 sec\n",
      " ARIMA(2,1,0)(1,1,1)[12]             : AIC=11.935, Time=0.24 sec\n",
      " ARIMA(2,1,0)(0,1,2)[12]             : AIC=11.950, Time=1.57 sec\n",
      " ARIMA(2,1,0)(1,1,0)[12]             : AIC=10.372, Time=0.16 sec\n",
      " ARIMA(2,1,0)(1,1,2)[12]             : AIC=13.962, Time=0.99 sec\n",
      " ARIMA(3,1,0)(0,1,1)[12]             : AIC=12.036, Time=0.21 sec\n",
      " ARIMA(3,1,1)(0,1,1)[12]             : AIC=12.884, Time=0.37 sec\n",
      " ARIMA(2,1,0)(0,1,1)[12] intercept   : AIC=11.058, Time=0.28 sec\n",
      "\n",
      "Best model:  ARIMA(2,1,0)(0,1,1)[12]          \n",
      "Total fit time: 9.921 seconds\n",
      "10.040262432992717\n"
     ]
    }
   ],
   "source": [
    "# seasonal ARIMA\n",
    "stepwise_model = auto_arima(data, start_p=1, start_q=1,\n",
    "                           max_p=3, max_q=3, m=12,\n",
    "                           start_P=0, seasonal=True,\n",
    "                           d=1, D=1, trace=True,\n",
    "                           error_action='ignore',  \n",
    "                           suppress_warnings=True, \n",
    "                           stepwise=True)\n",
    "print(stepwise_model.aic())"
   ]
  },
  {
   "cell_type": "code",
   "execution_count": 34,
   "id": "a54b7fc9",
   "metadata": {},
   "outputs": [
    {
     "data": {
      "text/plain": [
       "ARIMA(order=(2, 1, 0), scoring_args={}, seasonal_order=(0, 1, 1, 12),\n",
       "      suppress_warnings=True, with_intercept=False)"
      ]
     },
     "execution_count": 34,
     "metadata": {},
     "output_type": "execute_result"
    }
   ],
   "source": [
    "stepwise_model.fit(train_data)"
   ]
  },
  {
   "cell_type": "code",
   "execution_count": 35,
   "id": "a47e4f03",
   "metadata": {},
   "outputs": [
    {
     "data": {
      "text/plain": [
       "(24, 1)"
      ]
     },
     "execution_count": 35,
     "metadata": {},
     "output_type": "execute_result"
    }
   ],
   "source": [
    "test_data.shape"
   ]
  },
  {
   "cell_type": "code",
   "execution_count": 36,
   "id": "6dd950e3",
   "metadata": {},
   "outputs": [],
   "source": [
    "future_forecast = stepwise_model.predict(n_periods=24)"
   ]
  },
  {
   "cell_type": "code",
   "execution_count": 45,
   "id": "080c9c5c",
   "metadata": {},
   "outputs": [],
   "source": [
    "future_forecast = pd.DataFrame(future_forecast,index = test_data.index,columns=['Prediction'])\n",
    "df_auto_arima = pd.concat([test_data,future_forecast],axis=1)"
   ]
  },
  {
   "cell_type": "code",
   "execution_count": 47,
   "id": "5b2b4057",
   "metadata": {},
   "outputs": [
    {
     "data": {
      "image/png": "[encoded data removed]",
      "text/plain": [
       "<Figure size 864x432 with 1 Axes>"
      ]
     },
     "metadata": {
      "needs_background": "light"
     },
     "output_type": "display_data"
    }
   ],
   "source": [
    "# Plot the actual values\n",
    "plt.figure(figsize=(12, 6))\n",
    "plt.plot(df_auto_arima.index, df_auto_arima['Additional_Doses_Vax_Pct'], label='Actual', marker='o', color='blue')\n",
    "\n",
    "# Plot the predicted values\n",
    "plt.plot(df_auto_arima.index, df_auto_arima['Prediction'], label='Predicted', marker='x', color='red')\n",
    "\n",
    "# Add labels, title, and legend\n",
    "plt.xlabel('Date')\n",
    "plt.ylabel('Value')\n",
    "plt.title('Actual vs. Predicted Values')\n",
    "plt.legend()\n",
    "\n",
    "# Show the plot\n",
    "plt.grid(True)\n",
    "plt.show()\n"
   ]
  },
  {
   "cell_type": "code",
   "execution_count": 48,
   "id": "d2f17ef0",
   "metadata": {},
   "outputs": [
    {
     "data": {
      "image/png": "[encoded data removed]",
      "text/plain": [
       "<Figure size 864x432 with 1 Axes>"
      ]
     },
     "metadata": {
      "needs_background": "light"
     },
     "output_type": "display_data"
    }
   ],
   "source": [
    "# Plot the actual vs. forecasted values\n",
    "plt.figure(figsize=(12, 6))\n",
    "plt.plot(train_data, label='Training Data')\n",
    "plt.plot(test_data, label='Test Data')\n",
    "plt.plot(test_data.index, future_forecast, label='ARIMA Forecast', color='red')\n",
    "plt.legend()\n",
    "plt.title('ARIMA Forecast vs. Actual Data')\n",
    "plt.show()"
   ]
  },
  {
   "cell_type": "code",
   "execution_count": 49,
   "id": "539709ef",
   "metadata": {},
   "outputs": [
    {
     "name": "stdout",
     "output_type": "stream",
     "text": [
      "Performing stepwise search to minimize aic\n",
      " ARIMA(1,1,1)(0,0,0)[0] intercept   : AIC=24.495, Time=0.05 sec\n",
      " ARIMA(0,1,0)(0,0,0)[0] intercept   : AIC=149.114, Time=0.01 sec\n",
      " ARIMA(1,1,0)(0,0,0)[0] intercept   : AIC=25.482, Time=0.02 sec\n",
      " ARIMA(0,1,1)(0,0,0)[0] intercept   : AIC=105.838, Time=0.01 sec\n",
      " ARIMA(0,1,0)(0,0,0)[0]             : AIC=173.869, Time=0.01 sec\n",
      " ARIMA(2,1,1)(0,0,0)[0] intercept   : AIC=26.397, Time=0.05 sec\n",
      " ARIMA(1,1,2)(0,0,0)[0] intercept   : AIC=26.412, Time=0.05 sec\n",
      " ARIMA(0,1,2)(0,0,0)[0] intercept   : AIC=75.475, Time=0.02 sec\n",
      " ARIMA(2,1,0)(0,0,0)[0] intercept   : AIC=24.401, Time=0.03 sec\n",
      " ARIMA(3,1,0)(0,0,0)[0] intercept   : AIC=26.400, Time=0.04 sec\n",
      " ARIMA(3,1,1)(0,0,0)[0] intercept   : AIC=27.895, Time=0.06 sec\n",
      " ARIMA(2,1,0)(0,0,0)[0]             : AIC=inf, Time=0.02 sec\n",
      "\n",
      "Best model:  ARIMA(2,1,0)(0,0,0)[0] intercept\n",
      "Total fit time: 0.381 seconds\n",
      "Root Mean Squared Error (RMSE): 1.3565442142747086\n"
     ]
    },
    {
     "data": {
      "image/png": "[encoded data removed]",
      "text/plain": [
       "<Figure size 864x432 with 1 Axes>"
      ]
     },
     "metadata": {
      "needs_background": "light"
     },
     "output_type": "display_data"
    }
   ],
   "source": [
    "# seatch range\n",
    "model = auto_arima(train_data, start_p=1, start_q=1,\n",
    "                           max_p=10, max_q=10,\n",
    "                           start_P=0, seasonal=False,\n",
    "                           d=1, D=1, trace=True,\n",
    "                           error_action='ignore',  \n",
    "                           suppress_warnings=True, \n",
    "                           stepwise=True)\n",
    "\n",
    "best_order = model.get_params()['order']\n",
    "p, d, q = best_order\n",
    "final_model = ARIMA(train_data, order=(p, d, q))\n",
    "final_model_fit = final_model.fit()\n",
    "n_forecast = len(test_data)\n",
    "forecast = final_model_fit.forecast(steps=n_forecast)\n",
    "rmse = sqrt(mean_squared_error(test_data, forecast))\n",
    "print(f\"Root Mean Squared Error (RMSE): {rmse}\")\n",
    "\n",
    "# Plot the actual vs. forecasted values\n",
    "plt.figure(figsize=(12, 6))\n",
    "plt.plot(train_data, label='Training Data')\n",
    "plt.plot(test_data, label='Test Data')\n",
    "plt.plot(test_data.index, forecast, label='ARIMA Forecast', color='red')\n",
    "plt.legend()\n",
    "plt.title('ARIMA Forecast vs. Actual Data')\n",
    "plt.show()"
   ]
  },
  {
   "cell_type": "markdown",
   "id": "422cfbf3",
   "metadata": {},
   "source": [
    "### AUTO ARIMA with lag"
   ]
  },
  {
   "cell_type": "code",
   "execution_count": 76,
   "id": "2dd1be8e",
   "metadata": {},
   "outputs": [
    {
     "name": "stdout",
     "output_type": "stream",
     "text": [
      "Performing stepwise search to minimize aic\n",
      " ARIMA(0,2,0)(0,0,1)[12]             : AIC=18.365, Time=0.06 sec\n",
      " ARIMA(0,2,0)(0,0,0)[12]             : AIC=18.945, Time=0.01 sec\n",
      " ARIMA(1,2,0)(1,0,0)[12]             : AIC=16.785, Time=0.03 sec\n",
      " ARIMA(0,2,1)(0,0,1)[12]             : AIC=17.027, Time=0.06 sec\n",
      " ARIMA(1,2,0)(0,0,0)[12]             : AIC=17.510, Time=0.01 sec\n",
      " ARIMA(1,2,0)(2,0,0)[12]             : AIC=18.782, Time=0.11 sec\n",
      " ARIMA(1,2,0)(1,0,1)[12]             : AIC=18.782, Time=0.05 sec\n",
      " ARIMA(1,2,0)(0,0,1)[12]             : AIC=16.966, Time=0.02 sec\n",
      " ARIMA(1,2,0)(2,0,1)[12]             : AIC=20.782, Time=0.10 sec\n",
      " ARIMA(0,2,0)(1,0,0)[12]             : AIC=18.282, Time=0.02 sec\n",
      " ARIMA(2,2,0)(1,0,0)[12]             : AIC=18.781, Time=0.04 sec\n",
      " ARIMA(1,2,1)(1,0,0)[12]             : AIC=18.775, Time=0.05 sec\n",
      " ARIMA(0,2,1)(1,0,0)[12]             : AIC=16.880, Time=0.03 sec\n",
      " ARIMA(2,2,1)(1,0,0)[12]             : AIC=20.767, Time=0.07 sec\n",
      " ARIMA(1,2,0)(1,0,0)[12] intercept   : AIC=16.666, Time=0.04 sec\n",
      " ARIMA(1,2,0)(0,0,0)[12] intercept   : AIC=16.652, Time=0.02 sec\n",
      " ARIMA(1,2,0)(0,0,1)[12] intercept   : AIC=16.694, Time=0.03 sec\n",
      " ARIMA(1,2,0)(1,0,1)[12] intercept   : AIC=18.631, Time=0.07 sec\n",
      " ARIMA(0,2,0)(0,0,0)[12] intercept   : AIC=19.268, Time=0.01 sec\n",
      " ARIMA(2,2,0)(0,0,0)[12] intercept   : AIC=18.382, Time=0.02 sec\n",
      " ARIMA(1,2,1)(0,0,0)[12] intercept   : AIC=18.138, Time=0.02 sec\n",
      " ARIMA(0,2,1)(0,0,0)[12] intercept   : AIC=16.138, Time=0.01 sec\n",
      " ARIMA(0,2,1)(1,0,0)[12] intercept   : AIC=16.374, Time=0.04 sec\n",
      " ARIMA(0,2,1)(0,0,1)[12] intercept   : AIC=16.343, Time=0.04 sec\n",
      " ARIMA(0,2,1)(1,0,1)[12] intercept   : AIC=18.310, Time=0.08 sec\n",
      " ARIMA(0,2,2)(0,0,0)[12] intercept   : AIC=18.138, Time=0.02 sec\n",
      " ARIMA(1,2,2)(0,0,0)[12] intercept   : AIC=19.912, Time=0.06 sec\n",
      " ARIMA(0,2,1)(0,0,0)[12]             : AIC=17.556, Time=0.02 sec\n",
      "\n",
      "Best model:  ARIMA(0,2,1)(0,0,0)[12] intercept\n",
      "Total fit time: 1.152 seconds\n",
      "Root Mean Squared Error (RMSE): 5.846134311320214\n"
     ]
    }
   ],
   "source": [
    "\n",
    "# Train AutoARIMA model with exogenous variables\n",
    "model = auto_arima(train_data[pred_var], exogenous=train_data[['lag_1']],\n",
    "                   start_p=0, \n",
    "                   start_q=0,\n",
    "                   start_d =0,\n",
    "                   max_p=10,\n",
    "                   max_q=10,\n",
    "                   max_d =10,\n",
    "                   start_P=0,\n",
    "                   max_P = 10,\n",
    "                   seasonal=True,\n",
    "                   start_D =0,\n",
    "                   max_D = 10,\n",
    "                   m=12, trace=True,\n",
    "                           error_action='ignore',  \n",
    "                           suppress_warnings=True, \n",
    "                           stepwise=True)\n",
    "\n",
    "# Make predictions\n",
    "forecast, conf_int = model.predict(n_periods=len(test_data), exogenous=test_data[['lag_1', 'lag_2']], return_conf_int=True)\n",
    "\n",
    "rmse = sqrt(mean_squared_error(test_data[pred_var], forecast))\n",
    "print(f\"Root Mean Squared Error (RMSE): {rmse}\")"
   ]
  },
  {
   "cell_type": "code",
   "execution_count": 70,
   "id": "4b905af2",
   "metadata": {},
   "outputs": [
    {
     "data": {
      "image/png": "[encoded data removed]",
      "text/plain": [
       "<Figure size 864x432 with 1 Axes>"
      ]
     },
     "metadata": {
      "needs_background": "light"
     },
     "output_type": "display_data"
    }
   ],
   "source": [
    "# Plot the actual vs. forecasted values\n",
    "plt.figure(figsize=(12, 6))\n",
    "plt.plot(train_data[pred_var], label='Training Data')\n",
    "plt.plot(test_data[pred_var], label='Test Data')\n",
    "plt.plot(test_data.index, forecast, label='ARIMA Forecast', color='red')\n",
    "plt.legend()\n",
    "plt.title('ARIMA Forecast vs. Actual Data')\n",
    "plt.show()"
   ]
  },
  {
   "cell_type": "code",
   "execution_count": null,
   "id": "2e201e0b",
   "metadata": {},
   "outputs": [],
   "source": []
  }
 ],
 "metadata": {
  "kernelspec": {
   "display_name": "Python 3 (ipykernel)",
   "language": "python",
   "name": "python3"
  },
  "language_info": {
   "codemirror_mode": {
    "name": "ipython",
    "version": 3
   },
   "file_extension": ".py",
   "mimetype": "text/x-python",
   "name": "python",
   "nbconvert_exporter": "python",
   "pygments_lexer": "ipython3",
   "version": "3.11.5"
  }
 },
 "nbformat": 4,
 "nbformat_minor": 5
}
