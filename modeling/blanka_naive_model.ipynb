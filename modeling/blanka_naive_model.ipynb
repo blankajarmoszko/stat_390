{
 "cells": [
  {
   "cell_type": "code",
   "execution_count": 9,
   "id": "920013bb",
   "metadata": {},
   "outputs": [],
   "source": [
    "import pandas as pd\n",
    "import numpy as np\n",
    "import matplotlib.pyplot as plt\n",
    "from statsmodels.tsa.arima.model import ARIMA\n",
    "from sklearn.metrics import mean_squared_error\n",
    "from math import sqrt"
   ]
  },
  {
   "cell_type": "code",
   "execution_count": 10,
   "id": "b1d9453c",
   "metadata": {},
   "outputs": [],
   "source": [
    "pred_var = 'Additional_Doses_Vax_Pct'"
   ]
  },
  {
   "cell_type": "code",
   "execution_count": 11,
   "id": "16c59db6",
   "metadata": {},
   "outputs": [],
   "source": [
    "df = pd.read_csv('df_post_eda.csv')\n",
    "\n",
    "df['Date'] = pd.to_datetime(df['Date'])\n",
    "df = df.groupby('Date')[pred_var].mean()\n",
    "#df.set_index('Date', inplace=True)\n",
    "\n",
    "#subset data to be only dates and predictin variable values\n",
    "data = pd.DataFrame(df)"
   ]
  },
  {
   "cell_type": "code",
   "execution_count": 12,
   "id": "db50877a",
   "metadata": {},
   "outputs": [
    {
     "data": {
      "text/html": [
       "<div>\n",
       "<style scoped>\n",
       "    .dataframe tbody tr th:only-of-type {\n",
       "        vertical-align: middle;\n",
       "    }\n",
       "\n",
       "    .dataframe tbody tr th {\n",
       "        vertical-align: top;\n",
       "    }\n",
       "\n",
       "    .dataframe thead th {\n",
       "        text-align: right;\n",
       "    }\n",
       "</style>\n",
       "<table border=\"1\" class=\"dataframe\">\n",
       "  <thead>\n",
       "    <tr style=\"text-align: right;\">\n",
       "      <th></th>\n",
       "      <th>Additional_Doses_Vax_Pct</th>\n",
       "    </tr>\n",
       "    <tr>\n",
       "      <th>Date</th>\n",
       "      <th></th>\n",
       "    </tr>\n",
       "  </thead>\n",
       "  <tbody>\n",
       "    <tr>\n",
       "      <th>2021-11-03</th>\n",
       "      <td>10.332812</td>\n",
       "    </tr>\n",
       "    <tr>\n",
       "      <th>2021-11-10</th>\n",
       "      <td>13.185937</td>\n",
       "    </tr>\n",
       "    <tr>\n",
       "      <th>2021-11-17</th>\n",
       "      <td>15.871875</td>\n",
       "    </tr>\n",
       "    <tr>\n",
       "      <th>2021-11-24</th>\n",
       "      <td>18.675000</td>\n",
       "    </tr>\n",
       "    <tr>\n",
       "      <th>2021-12-01</th>\n",
       "      <td>20.689062</td>\n",
       "    </tr>\n",
       "  </tbody>\n",
       "</table>\n",
       "</div>"
      ],
      "text/plain": [
       "            Additional_Doses_Vax_Pct\n",
       "Date                                \n",
       "2021-11-03                 10.332812\n",
       "2021-11-10                 13.185937\n",
       "2021-11-17                 15.871875\n",
       "2021-11-24                 18.675000\n",
       "2021-12-01                 20.689062"
      ]
     },
     "execution_count": 12,
     "metadata": {},
     "output_type": "execute_result"
    }
   ],
   "source": [
    "data.head()"
   ]
  },
  {
   "cell_type": "code",
   "execution_count": 13,
   "id": "b7911b00",
   "metadata": {},
   "outputs": [
    {
     "data": {
      "image/png": "[encoded data removed]",
      "text/plain": [
       "<Figure size 432x288 with 1 Axes>"
      ]
     },
     "metadata": {
      "needs_background": "light"
     },
     "output_type": "display_data"
    }
   ],
   "source": [
    "# original time series for whole dataset\n",
    "df.plot()\n",
    "plt.show()"
   ]
  },
  {
   "cell_type": "code",
   "execution_count": 14,
   "id": "24666c6d",
   "metadata": {},
   "outputs": [
    {
     "name": "stdout",
     "output_type": "stream",
     "text": [
      "                  t-1        t+1\n",
      "Date                            \n",
      "2021-11-03        NaN  10.332812\n",
      "2021-11-10  10.332812  13.185937\n",
      "2021-11-17  13.185937  15.871875\n",
      "2021-11-24  15.871875  18.675000\n",
      "2021-12-01  18.675000  20.689062\n"
     ]
    }
   ],
   "source": [
    "# Create lagged dataset\n",
    "values = data\n",
    "dataframe = pd.concat([values.shift(1), values], axis=1)\n",
    "dataframe.columns = ['t-1', 't+1']\n",
    "print(dataframe.head(5))"
   ]
  },
  {
   "cell_type": "code",
   "execution_count": 15,
   "id": "62aae354",
   "metadata": {},
   "outputs": [],
   "source": [
    "# split into train and test sets\n",
    "X = dataframe.values\n",
    "train_size = int(len(X) * 0.8)\n",
    "train, test = X[1:train_size], X[train_size:]\n",
    "train_X, train_y = train[:,0], train[:,1]\n",
    "test_X, test_y = test[:,0], test[:,1]"
   ]
  },
  {
   "cell_type": "code",
   "execution_count": 16,
   "id": "5a8d0185",
   "metadata": {},
   "outputs": [],
   "source": [
    "# persistence model\n",
    "def model_persistence(x):\n",
    "    return x"
   ]
  },
  {
   "cell_type": "code",
   "execution_count": 17,
   "id": "47b8f8e8",
   "metadata": {},
   "outputs": [
    {
     "name": "stdout",
     "output_type": "stream",
     "text": [
      "Test RMSE: 0.036\n"
     ]
    }
   ],
   "source": [
    "# walk-forward validation\n",
    "predictions = list()\n",
    "for x in test_X:\n",
    "\tyhat = model_persistence(x)\n",
    "\tpredictions.append(yhat)\n",
    "test_score = sqrt(mean_squared_error(test_y, predictions))\n",
    "print('Test RMSE: %.3f' % test_score)"
   ]
  },
  {
   "cell_type": "code",
   "execution_count": 18,
   "id": "fb456cda",
   "metadata": {},
   "outputs": [
    {
     "data": {
      "image/png": "[encoded data removed]",
      "text/plain": [
       "<Figure size 432x288 with 1 Axes>"
      ]
     },
     "metadata": {
      "needs_background": "light"
     },
     "output_type": "display_data"
    }
   ],
   "source": [
    "# plot predictions and expected results\n",
    "plt.plot(train_y)\n",
    "plt.plot([None for i in train_y] + [x for x in test_y])\n",
    "plt.plot([None for i in train_y] + [x for x in predictions])\n",
    "plt.show()"
   ]
  },
  {
   "cell_type": "code",
   "execution_count": null,
   "id": "32e3b295",
   "metadata": {},
   "outputs": [],
   "source": [
    "# different approach"
   ]
  },
  {
   "cell_type": "code",
   "execution_count": 19,
   "id": "047cab52",
   "metadata": {},
   "outputs": [],
   "source": [
    "# Split data into test and train\n",
    "\n",
    "# Determine the split point (e.g., 70% for training, 30% for testing)\n",
    "split_date = int(len(data) * 0.7)\n",
    "data = data.sort_index(ascending=True)\n",
    "# Split the data\n",
    "train_data = data.iloc[:split_date]\n",
    "test_data = data.iloc[split_date:]"
   ]
  },
  {
   "cell_type": "code",
   "execution_count": 20,
   "id": "79fead36",
   "metadata": {},
   "outputs": [
    {
     "name": "stdout",
     "output_type": "stream",
     "text": [
      "Baseline Model RMSE: 0.06512001618666988\n"
     ]
    }
   ],
   "source": [
    "# baseline/ naive model\n",
    "\n",
    "baseline_forecast = test_data.shift(1)  # Forecast based on the last observed value\n",
    "\n",
    "# Evaluate the baseline model's performance\n",
    "rmse = sqrt(mean_squared_error(test_data[1:], baseline_forecast[1:]))\n",
    "print(f\"Baseline Model RMSE: {rmse}\")"
   ]
  },
  {
   "cell_type": "markdown",
   "id": "9e34f22b",
   "metadata": {},
   "source": [
    "## SCALED NAIVE"
   ]
  },
  {
   "cell_type": "code",
   "execution_count": 24,
   "id": "1b254a2f",
   "metadata": {},
   "outputs": [],
   "source": [
    "from sklearn.preprocessing import MinMaxScaler\n",
    "\n",
    "pred_var = 'Additional_Doses_Vax_Pct'\n",
    "\n",
    "df = pd.read_csv('df_post_eda.csv')\n",
    "\n",
    "df['Date'] = pd.to_datetime(df['Date'])\n",
    "df = df.groupby('Date')[pred_var].mean()\n",
    "#df.set_index('Date', inplace=True)\n",
    "\n",
    "#subset data to be only dates and predictin variable values\n",
    "data = pd.DataFrame(df)"
   ]
  },
  {
   "cell_type": "code",
   "execution_count": 25,
   "id": "d24d057f",
   "metadata": {},
   "outputs": [],
   "source": [
    "min_max_scaler = MinMaxScaler(feature_range=(0, 1))\n",
    "data = pd.DataFrame(min_max_scaler.fit_transform(data), columns=data.columns, index=df.index)"
   ]
  },
  {
   "cell_type": "code",
   "execution_count": 26,
   "id": "efd24d4e",
   "metadata": {},
   "outputs": [
    {
     "data": {
      "text/html": [
       "<div>\n",
       "<style scoped>\n",
       "    .dataframe tbody tr th:only-of-type {\n",
       "        vertical-align: middle;\n",
       "    }\n",
       "\n",
       "    .dataframe tbody tr th {\n",
       "        vertical-align: top;\n",
       "    }\n",
       "\n",
       "    .dataframe thead th {\n",
       "        text-align: right;\n",
       "    }\n",
       "</style>\n",
       "<table border=\"1\" class=\"dataframe\">\n",
       "  <thead>\n",
       "    <tr style=\"text-align: right;\">\n",
       "      <th></th>\n",
       "      <th>Additional_Doses_Vax_Pct</th>\n",
       "    </tr>\n",
       "    <tr>\n",
       "      <th>Date</th>\n",
       "      <th></th>\n",
       "    </tr>\n",
       "  </thead>\n",
       "  <tbody>\n",
       "    <tr>\n",
       "      <th>2021-11-03</th>\n",
       "      <td>0.000000</td>\n",
       "    </tr>\n",
       "    <tr>\n",
       "      <th>2021-11-10</th>\n",
       "      <td>0.070026</td>\n",
       "    </tr>\n",
       "    <tr>\n",
       "      <th>2021-11-17</th>\n",
       "      <td>0.135949</td>\n",
       "    </tr>\n",
       "    <tr>\n",
       "      <th>2021-11-24</th>\n",
       "      <td>0.204748</td>\n",
       "    </tr>\n",
       "    <tr>\n",
       "      <th>2021-12-01</th>\n",
       "      <td>0.254180</td>\n",
       "    </tr>\n",
       "  </tbody>\n",
       "</table>\n",
       "</div>"
      ],
      "text/plain": [
       "            Additional_Doses_Vax_Pct\n",
       "Date                                \n",
       "2021-11-03                  0.000000\n",
       "2021-11-10                  0.070026\n",
       "2021-11-17                  0.135949\n",
       "2021-11-24                  0.204748\n",
       "2021-12-01                  0.254180"
      ]
     },
     "execution_count": 26,
     "metadata": {},
     "output_type": "execute_result"
    }
   ],
   "source": [
    "data.head()"
   ]
  },
  {
   "cell_type": "code",
   "execution_count": 8,
   "id": "049b21ae",
   "metadata": {},
   "outputs": [
    {
     "name": "stdout",
     "output_type": "stream",
     "text": [
      "Baseline Model RMSE: 0.0008805908852267367\n"
     ]
    }
   ],
   "source": [
    "# Split data into test and train\n",
    "\n",
    "split_date = int(len(data) * 0.8)\n",
    "data = data.sort_index(ascending=True)\n",
    "# Split the data\n",
    "train_data = data.iloc[:split_date]\n",
    "test_data = data.iloc[split_date:]\n",
    "\n",
    "# baseline/ naive model\n",
    "\n",
    "baseline_forecast = test_data.shift(1)  # Forecast based on the last observed value\n",
    "train_forecast\n",
    "\n",
    "# Evaluate the baseline model's performance\n",
    "rmse = sqrt(mean_squared_error(test_data[1:], baseline_forecast[1:]))\n",
    "print(f\"Baseline Model RMSE: {rmse}\")"
   ]
  },
  {
   "cell_type": "code",
   "execution_count": 28,
   "id": "ba4b98c8",
   "metadata": {},
   "outputs": [
    {
     "data": {
      "image/png": "[encoded data removed]",
      "text/plain": [
       "<Figure size 864x432 with 1 Axes>"
      ]
     },
     "metadata": {
      "needs_background": "light"
     },
     "output_type": "display_data"
    },
    {
     "name": "stdout",
     "output_type": "stream",
     "text": [
      "Training RMSE: 0.02649\n",
      "Testing RMSE: 0.00088\n"
     ]
    }
   ],
   "source": [
    "import pandas as pd\n",
    "import numpy as np\n",
    "from sklearn.model_selection import TimeSeriesSplit\n",
    "from sklearn.metrics import mean_squared_error\n",
    "import matplotlib.pyplot as plt\n",
    "\n",
    "split_date = int(len(data) * 0.8)\n",
    "data = data.sort_index(ascending=True)\n",
    "# Split the data\n",
    "train_data = data.iloc[:split_date]\n",
    "test_data = data.iloc[split_date:]\n",
    "\n",
    "# baseline/ naive model\n",
    "\n",
    "baseline_forecast = test_data.shift(1)  # Forecast based on the last observed value\n",
    "train_forecast = train_data.shift(1) # forecast based on the last observed value\n",
    "\n",
    "# Evaluate the baseline model's performance\n",
    "test_rmse = sqrt(mean_squared_error(test_data[1:], baseline_forecast[1:]))\n",
    "train_rmse = sqrt(mean_squared_error(train_data[1:], train_forecast[1:]))\n",
    "# print(f\"Baseline Model RMSE: {rmse}\")\n",
    "\n",
    "# Plot the results\n",
    "plt.figure(figsize=(12, 6))\n",
    "plt.plot(data.index, data['Additional_Doses_Vax_Pct'], label='Actual Data')\n",
    "plt.plot(train_data.index, train_forecast, label='Train Predictions', linestyle='--')\n",
    "plt.plot(test_data.index, baseline_forecast, label='Test Predictions', linestyle='--')\n",
    "plt.title('Naive Time Series Prediction')\n",
    "plt.xlabel('Date')\n",
    "plt.ylabel('Additional_Doses_Vax_Pct')\n",
    "plt.legend()\n",
    "plt.show()\n",
    "\n",
    "# Display the RMSE\n",
    "print(f'Training RMSE: {train_rmse:.5f}')\n",
    "print(f'Testing RMSE: {test_rmse:.5f}')\n"
   ]
  },
  {
   "cell_type": "code",
   "execution_count": null,
   "id": "d77dad60",
   "metadata": {},
   "outputs": [],
   "source": []
  }
 ],
 "metadata": {
  "kernelspec": {
   "display_name": "Python 3 (ipykernel)",
   "language": "python",
   "name": "python3"
  },
  "language_info": {
   "codemirror_mode": {
    "name": "ipython",
    "version": 3
   },
   "file_extension": ".py",
   "mimetype": "text/x-python",
   "name": "python",
   "nbconvert_exporter": "python",
   "pygments_lexer": "ipython3",
   "version": "3.9.7"
  }
 },
 "nbformat": 4,
 "nbformat_minor": 5
}
