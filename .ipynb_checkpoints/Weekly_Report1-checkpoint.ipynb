{
 "cells": [
  {
   "cell_type": "raw",
   "id": "5ed6533c",
   "metadata": {},
   "source": [
    "---\n",
    "title: \"Weekly Progress Report: 9-25 to 9-29\"\n",
    "author: Kaylee Mo, Blanka Jarmoszko, Ava Serin\n",
    "date: 09/28/2023\n",
    "number-sections: true\n",
    "format: \n",
    "  html:\n",
    "    toc: true\n",
    "    toc-title: Contents\n",
    "    self-contained: true\n",
    "    font-size: 100%\n",
    "    toc-depth: 4\n",
    "    mainfont: serif\n",
    "jupyter: python3\n",
    "---"
   ]
  },
  {
   "cell_type": "markdown",
   "id": "6c38fc83",
   "metadata": {},
   "source": [
    "# Weekly Progress Report: 9-25 to 9-29"
   ]
  },
  {
   "cell_type": "code",
   "execution_count": null,
   "id": "31ca6ef4",
   "metadata": {},
   "outputs": [],
   "source": []
  }
 ],
 "metadata": {
  "kernelspec": {
   "display_name": "Python 3 (ipykernel)",
   "language": "python",
   "name": "python3"
  },
  "language_info": {
   "codemirror_mode": {
    "name": "ipython",
    "version": 3
   },
   "file_extension": ".py",
   "mimetype": "text/x-python",
   "name": "python",
   "nbconvert_exporter": "python",
   "pygments_lexer": "ipython3",
   "version": "3.9.12"
  }
 },
 "nbformat": 4,
 "nbformat_minor": 5
}
