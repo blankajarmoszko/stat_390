{
 "cells": [
  {
   "cell_type": "code",
   "execution_count": 1,
   "id": "5a34811a",
   "metadata": {},
   "outputs": [],
   "source": [
    "import pandas as pd"
   ]
  },
  {
   "cell_type": "code",
   "execution_count": 2,
   "id": "85c1eb3f",
   "metadata": {},
   "outputs": [],
   "source": [
    "import numpy as np"
   ]
  },
  {
   "cell_type": "code",
   "execution_count": 4,
   "id": "f131a6ce",
   "metadata": {},
   "outputs": [],
   "source": [
    "df = pd.read_csv('data/initial_data.csv')"
   ]
  },
  {
   "cell_type": "code",
   "execution_count": 5,
   "id": "e3938531",
   "metadata": {},
   "outputs": [
    {
     "name": "stdout",
     "output_type": "stream",
     "text": [
      "Date                                   0\n",
      "FIPS                                   0\n",
      "MMWR_week                              0\n",
      "Recip_County                           0\n",
      "Recip_State                            0\n",
      "                                   ...  \n",
      "Bivalent_Booster_12Plus_Pop_Pct    58940\n",
      "Bivalent_Booster_18Plus            58914\n",
      "Bivalent_Booster_18Plus_Pop_Pct    58940\n",
      "Bivalent_Booster_65Plus            58914\n",
      "Bivalent_Booster_65Plus_Pop_Pct    58940\n",
      "Length: 80, dtype: int64\n"
     ]
    }
   ],
   "source": [
    "missing_counts = df.isna().sum()\n",
    "\n",
    "# Print the missing value counts\n",
    "print(missing_counts)"
   ]
  },
  {
   "cell_type": "code",
   "execution_count": null,
   "id": "3b915061",
   "metadata": {},
   "outputs": [],
   "source": []
  }
 ],
 "metadata": {
  "kernelspec": {
   "display_name": "Python 3 (ipykernel)",
   "language": "python",
   "name": "python3"
  },
  "language_info": {
   "codemirror_mode": {
    "name": "ipython",
    "version": 3
   },
   "file_extension": ".py",
   "mimetype": "text/x-python",
   "name": "python",
   "nbconvert_exporter": "python",
   "pygments_lexer": "ipython3",
   "version": "3.9.7"
  }
 },
 "nbformat": 4,
 "nbformat_minor": 5
}
