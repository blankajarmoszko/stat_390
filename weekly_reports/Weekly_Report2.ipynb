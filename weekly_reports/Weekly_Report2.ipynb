{
 "cells": [
  {
   "cell_type": "raw",
   "id": "5ed6533c",
   "metadata": {},
   "source": [
    "---\n",
    "title: \"Weekly Progress Report: 10-9 to 10-13\"\n",
    "author: Kaylee Mo, Blanka Jarmoszko, Ava Serin\n",
    "date: 10/13/2023\n",
    "number-sections: true\n",
    "format: \n",
    "  html:\n",
    "    toc: true\n",
    "    toc-title: Contents\n",
    "    self-contained: true\n",
    "    font-size: 100%\n",
    "    toc-depth: 4\n",
    "    mainfont: serif\n",
    "jupyter: python3\n",
    "---"
   ]
  },
  {
   "cell_type": "markdown",
   "id": "6c38fc83",
   "metadata": {},
   "source": [
    "# Weekly Progress Report: 9-25 to 9-29"
   ]
  },
  {
   "cell_type": "markdown",
   "id": "47d11624",
   "metadata": {},
   "source": [
    "## Progress/Accomplishments:"
   ]
  },
  {
   "cell_type": "markdown",
   "id": "f1ca0751",
   "metadata": {},
   "source": [
    "- Performed EDA on original dataset \n",
    "    - Added weekend, holiday, and announcement columns which look to see if there are any surges in vaccinations    corresponding to specific dates. \n",
    "    - Created graphs to visualize response variable’s variation over time.\n",
    "- Found a new dataset with negligible null values especially compared to our original dataset.\n",
    "    - The new dataset will be looking at all states in the US rather than just Illinois counties.\n",
    "    - Our predictor will remain similar and the predictor columns are similar as well with demographic and specific vaccination data.\n",
    "    - This new dataset also has more specific data as the vaccination rates are split by vaccine types (Moderna, Pfizer, etc). This detail can provide more tailored insights with regards to our response variable.\n",
    "- Emailed Professor Shi asking for permission to continue working with the new data.\n",
    "- Conducted group meetings to discuss challenges, perform EDA, and locate suitable dataset.\n",
    "    - For EDA on the new dataset, we added weekend, holiday, and announcement columns\n",
    "    - We also identified columns with NA values, dropped bivariate columns and other columns with high amount of values because it did not impact our prediction, and KNN imputed any remaining columns with NA values\n",
    "    - Dropped columns that represented raw numbers and kept the columns that represented the same thing but were in percentage values\n",
    "    - Performed VIF analysis and looked at correlations to see if there was any high collinearity"
   ]
  },
  {
   "cell_type": "markdown",
   "id": "420650bb",
   "metadata": {},
   "source": [
    "## Problems/Challenges:"
   ]
  },
  {
   "cell_type": "markdown",
   "id": "843ad3cc",
   "metadata": {},
   "source": [
    "- Found that many of the columns in our original dataset contained features such as bivalent booster proportion with over half of their observations as null values (over 4,800 for some).\n",
    "- Had difficulty finding a new dataset that met the feature and observation quantity requirements and pertained to our original topic of trends regarding vaccination rates.\n",
    "- Encountered delays due to the learning curve of getting accustomed to using GitHub using the command line.\n",
    "    - We initially created branches for each aspect of our project instead of a branch for each group member.\n",
    "    - Encountered challenges creating a folder within the repository for our weekly reports.\n",
    "    - Still understanding the best way for us to navigate merges of the branches onto the main and commits."
   ]
  },
  {
   "cell_type": "markdown",
   "id": "7d67e01c",
   "metadata": {},
   "source": [
    "## Plan/Next Steps:"
   ]
  },
  {
   "cell_type": "markdown",
   "id": "ea9f5d4c",
   "metadata": {},
   "source": [
    "- Employ advanced machine learning strategies, encompassing backward elimination, embedded techniques (like Lasso, Random Forests, and XGBoost), and dimensionality reduction via Principal Component Analysis, to streamline datasets by pinpointing and removing extraneous features.\n",
    "- Identify features that are most predictive of full-course vaccination completion.\n",
    "- Examine which states in the US or which groups of states have low-rates of vaccination.\n",
    "- Team to familiarize ourselves with the new dataset and set a new plan in motion.\n",
    "- Collaborate with the team to acquaint ourselves with the fresh dataset and initiate a strategic plan for model development."
   ]
  },
  {
   "cell_type": "code",
   "execution_count": null,
   "id": "36532018",
   "metadata": {},
   "outputs": [],
   "source": []
  }
 ],
 "metadata": {
  "kernelspec": {
   "display_name": "Python 3 (ipykernel)",
   "language": "python",
   "name": "python3"
  },
  "language_info": {
   "codemirror_mode": {
    "name": "ipython",
    "version": 3
   },
   "file_extension": ".py",
   "mimetype": "text/x-python",
   "name": "python",
   "nbconvert_exporter": "python",
   "pygments_lexer": "ipython3",
   "version": "3.9.12"
  }
 },
 "nbformat": 4,
 "nbformat_minor": 5
}
