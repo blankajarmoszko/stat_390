{
 "cells": [
  {
   "cell_type": "markdown",
   "id": "88749b00",
   "metadata": {},
   "source": [
    "# Stat 390 Weekly Report 3 (10/13-10/19)\n"
   ]
  },
  {
   "cell_type": "markdown",
   "id": "2e621bcf",
   "metadata": {},
   "source": [
    "## Progress/Accomplishments:"
   ]
  },
  {
   "cell_type": "markdown",
   "id": "04be04c3",
   "metadata": {},
   "source": [
    "- Identified missing values\n",
    "    - Looked at which days contained the most missing values\n",
    "    - Realized that data concerning children between the ages of five and eleven contain a lot of missing values\n",
    "    - Figured out that starting the data with November 2, 2021 resolves data leakage issues as children weren’t allowed to get vaccinated until then\n",
    "    - Successfully imputed the data\n",
    "- Created graphs regarding the autocorrelation to visualize it\n",
    "    - Decided that, for the purpose of visualizing autocorrelation, we will group the rows of different states based on the same date\n",
    "        - We are doing that so that the visualization does not have overlapping data\n",
    "    - Found that there is no clear seasonality trends using Seasonal and Trend decomposition using Loess (STL)\n",
    "- Tried imputing data based on Last Observation Carried Forward (LOCF)\n",
    "    - The missing value is imputed using the values before it in the time series\n",
    "    - Decided that was the best method of imputation since we are using time series data\n",
    "    - Figured out that for ten states on December 14, 2022 are missing values\n",
    "    - Decided to impute those values with the last values from December 13, 2023\n",
    "- Based on the autocorrelation graph, found that we have a specific autocorrelation function trend\n",
    "    - The pattern is commonly observed in time series data with a strong short-term memory or persistence. It may imply that the most recent values have a more pronounced impact on the current value, and the impact of earlier values diminishes gradually\n"
   ]
  },
  {
   "cell_type": "markdown",
   "id": "a181b104",
   "metadata": {},
   "source": [
    "## Problems/Challenges"
   ]
  },
  {
   "cell_type": "markdown",
   "id": "8a04e9ba",
   "metadata": {},
   "source": [
    "- We had to impute values for a specific day using the previous day’s data\n",
    "    - Presented difficulties because some rows had different columns with values that needed to be imputed\n",
    "- Realized we did not have to lag a variable because there are no clear seasonality trends although we had already started\n",
    "- Realized that the data starts being recorded once a week in June 2022 although it was recorded once a day before  \n"
   ]
  },
  {
   "cell_type": "markdown",
   "id": "b74dc20a",
   "metadata": {},
   "source": [
    "## Plan/Next Steps:"
   ]
  },
  {
   "cell_type": "markdown",
   "id": "98e2d440",
   "metadata": {},
   "source": [
    "- Explore ACR models\n",
    "- Resolve issues based on data collection frequency\n",
    "- Continue with variable selection and initial model development using ARIMA, XGBoost, Random Forest, etc."
   ]
  },
  {
   "cell_type": "code",
   "execution_count": null,
   "id": "bc36b5d5",
   "metadata": {},
   "outputs": [],
   "source": []
  }
 ],
 "metadata": {
  "kernelspec": {
   "display_name": "Python 3 (ipykernel)",
   "language": "python",
   "name": "python3"
  },
  "language_info": {
   "codemirror_mode": {
    "name": "ipython",
    "version": 3
   },
   "file_extension": ".py",
   "mimetype": "text/x-python",
   "name": "python",
   "nbconvert_exporter": "python",
   "pygments_lexer": "ipython3",
   "version": "3.9.12"
  }
 },
 "nbformat": 4,
 "nbformat_minor": 5
}
