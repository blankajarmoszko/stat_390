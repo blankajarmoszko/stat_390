{
 "cells": [
  {
   "cell_type": "raw",
   "id": "5ed6533c",
   "metadata": {},
   "source": [
    "---\n",
    "title: \"Weekly Progress Report: 9-25 to 9-29\"\n",
    "author: Kaylee Mo, Blanka Jarmoszko, Ava Serin\n",
    "date: 09/28/2023\n",
    "number-sections: true\n",
    "format: \n",
    "  html:\n",
    "    toc: true\n",
    "    toc-title: Contents\n",
    "    self-contained: true\n",
    "    font-size: 100%\n",
    "    toc-depth: 4\n",
    "    mainfont: serif\n",
    "jupyter: python3\n",
    "---"
   ]
  },
  {
   "cell_type": "markdown",
   "id": "6c38fc83",
   "metadata": {},
   "source": [
    "# Weekly Progress Report: 9-25 to 9-29"
   ]
  },
  {
   "cell_type": "markdown",
   "id": "47d11624",
   "metadata": {},
   "source": [
    "## Progress/Accomplishments:"
   ]
  },
  {
   "cell_type": "markdown",
   "id": "f1ca0751",
   "metadata": {},
   "source": [
    "- Found and downloaded our dataset on schedule.\n",
    "- Identified explanatory variable as predicting which Illinois counties are most likely to finish full vaccination course. \n",
    "- Conducted a meeting to begin creating the proposal presentation."
   ]
  },
  {
   "cell_type": "markdown",
   "id": "420650bb",
   "metadata": {},
   "source": [
    "## Problems/Challenges:"
   ]
  },
  {
   "cell_type": "markdown",
   "id": "843ad3cc",
   "metadata": {},
   "source": [
    "- Encountered delays due to setting up the repository and navigating GitHub.\n",
    "- Encountered unexpected complications while working on forking the repository."
   ]
  },
  {
   "cell_type": "markdown",
   "id": "7d67e01c",
   "metadata": {},
   "source": [
    "## Plan/Next Steps:"
   ]
  },
  {
   "cell_type": "markdown",
   "id": "ea9f5d4c",
   "metadata": {},
   "source": [
    "- Complete Proposal Report and Slides before deadline (10/4)\n",
    "- Begin work on EDA upon approval of our dataset and proposal\n",
    "- Obtain additional demographic data if needed\n",
    "- Team to work on familiarizing themselves with GitHub to prevent further delays"
   ]
  }
 ],
 "metadata": {
  "kernelspec": {
   "display_name": "Python 3 (ipykernel)",
   "language": "python",
   "name": "python3"
  },
  "language_info": {
   "codemirror_mode": {
    "name": "ipython",
    "version": 3
   },
   "file_extension": ".py",
   "mimetype": "text/x-python",
   "name": "python",
   "nbconvert_exporter": "python",
   "pygments_lexer": "ipython3",
   "version": "3.9.12"
  }
 },
 "nbformat": 4,
 "nbformat_minor": 5
}
